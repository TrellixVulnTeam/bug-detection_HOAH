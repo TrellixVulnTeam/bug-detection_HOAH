{
 "cells": [
  {
   "cell_type": "code",
   "execution_count": 115,
   "id": "c281f806",
   "metadata": {
    "ExecuteTime": {
     "end_time": "2022-01-16T11:10:26.174054Z",
     "start_time": "2022-01-16T11:10:26.166293Z"
    }
   },
   "outputs": [],
   "source": [
    "import torch\n",
    "import codenet\n",
    "\n",
    "import numpy as np\n",
    "import pandas as pd\n",
    "import torch.nn as nn\n",
    "import torch.nn.functional as F\n",
    "\n",
    "from tqdm import tqdm\n",
    "\n",
    "from sklearn.model_selection import train_test_split\n",
    "from sklearn.preprocessing import LabelEncoder\n",
    "from sklearn.feature_extraction.text import CountVectorizer\n",
    "from sklearn.feature_extraction.text import TfidfTransformer\n",
    "from sklearn.pipeline import Pipeline\n",
    "from sklearn.metrics import accuracy_score, precision_score, recall_score, f1_score\n",
    "\n",
    "from scipy import sparse\n",
    "\n",
    "pd.set_option('max_columns', None)\n",
    "\n",
    "codenet.P = 4\n",
    "\n",
    "input_path = \"../input/generated/\"\n",
    "data_path = input_path + \"data/\"\n",
    "\n",
    "generate_labels_path = input_path + \"generate_labels.csv\""
   ]
  },
  {
   "cell_type": "code",
   "execution_count": 11,
   "id": "b8c2b997",
   "metadata": {
    "ExecuteTime": {
     "end_time": "2022-01-16T09:54:35.137291Z",
     "start_time": "2022-01-16T09:54:34.839270Z"
    }
   },
   "outputs": [
    {
     "data": {
      "text/html": [
       "<div>\n",
       "<style scoped>\n",
       "    .dataframe tbody tr th:only-of-type {\n",
       "        vertical-align: middle;\n",
       "    }\n",
       "\n",
       "    .dataframe tbody tr th {\n",
       "        vertical-align: top;\n",
       "    }\n",
       "\n",
       "    .dataframe thead th {\n",
       "        text-align: right;\n",
       "    }\n",
       "</style>\n",
       "<table border=\"1\" class=\"dataframe\">\n",
       "  <thead>\n",
       "    <tr style=\"text-align: right;\">\n",
       "      <th></th>\n",
       "      <th>tag</th>\n",
       "      <th>i1</th>\n",
       "      <th>i2</th>\n",
       "      <th>j1</th>\n",
       "      <th>j2</th>\n",
       "      <th>problem_id</th>\n",
       "      <th>original_id</th>\n",
       "      <th>changed_id</th>\n",
       "      <th>language</th>\n",
       "      <th>extension</th>\n",
       "      <th>original_language</th>\n",
       "      <th>original_status</th>\n",
       "      <th>output</th>\n",
       "      <th>error</th>\n",
       "      <th>returncode</th>\n",
       "      <th>error_class</th>\n",
       "      <th>error_class_extra</th>\n",
       "    </tr>\n",
       "  </thead>\n",
       "  <tbody>\n",
       "    <tr>\n",
       "      <th>4</th>\n",
       "      <td>insert</td>\n",
       "      <td>9</td>\n",
       "      <td>9</td>\n",
       "      <td>9</td>\n",
       "      <td>13</td>\n",
       "      <td>p02628</td>\n",
       "      <td>s000778835</td>\n",
       "      <td>s833669381</td>\n",
       "      <td>Python</td>\n",
       "      <td>py</td>\n",
       "      <td>Python (3.8.2)</td>\n",
       "      <td>Runtime Error</td>\n",
       "      <td>NaN</td>\n",
       "      <td>Traceback (most recent call last):\\n  File \"/h...</td>\n",
       "      <td>1</td>\n",
       "      <td>ValueError</td>\n",
       "      <td>ValueError: invalid literal for int() with bas...</td>\n",
       "    </tr>\n",
       "    <tr>\n",
       "      <th>5</th>\n",
       "      <td>replace</td>\n",
       "      <td>136</td>\n",
       "      <td>137</td>\n",
       "      <td>136</td>\n",
       "      <td>137</td>\n",
       "      <td>p02406</td>\n",
       "      <td>s000873533</td>\n",
       "      <td>s357405506</td>\n",
       "      <td>Python</td>\n",
       "      <td>py</td>\n",
       "      <td>Python</td>\n",
       "      <td>Time Limit Exceeded</td>\n",
       "      <td>NaN</td>\n",
       "      <td>File \"/home/alex/Documents/research/bug-dete...</td>\n",
       "      <td>1</td>\n",
       "      <td>SyntaxError</td>\n",
       "      <td>SyntaxError: Missing parentheses in call to 'p...</td>\n",
       "    </tr>\n",
       "    <tr>\n",
       "      <th>7</th>\n",
       "      <td>replace</td>\n",
       "      <td>35</td>\n",
       "      <td>37</td>\n",
       "      <td>35</td>\n",
       "      <td>36</td>\n",
       "      <td>p02681</td>\n",
       "      <td>s001183728</td>\n",
       "      <td>s212071531</td>\n",
       "      <td>Python</td>\n",
       "      <td>py</td>\n",
       "      <td>Python (3.8.2)</td>\n",
       "      <td>Runtime Error</td>\n",
       "      <td>NaN</td>\n",
       "      <td>File \"/home/alex/Documents/research/bug-dete...</td>\n",
       "      <td>1</td>\n",
       "      <td>SyntaxError</td>\n",
       "      <td>SyntaxError: invalid syntax</td>\n",
       "    </tr>\n",
       "    <tr>\n",
       "      <th>9</th>\n",
       "      <td>replace</td>\n",
       "      <td>86</td>\n",
       "      <td>87</td>\n",
       "      <td>86</td>\n",
       "      <td>87</td>\n",
       "      <td>p02314</td>\n",
       "      <td>s001192878</td>\n",
       "      <td>s967652203</td>\n",
       "      <td>Python</td>\n",
       "      <td>py</td>\n",
       "      <td>Python</td>\n",
       "      <td>Runtime Error</td>\n",
       "      <td>NaN</td>\n",
       "      <td>File \"/home/alex/Documents/research/bug-dete...</td>\n",
       "      <td>1</td>\n",
       "      <td>SyntaxError</td>\n",
       "      <td>SyntaxError: Missing parentheses in call to 'p...</td>\n",
       "    </tr>\n",
       "    <tr>\n",
       "      <th>11</th>\n",
       "      <td>replace</td>\n",
       "      <td>38</td>\n",
       "      <td>39</td>\n",
       "      <td>38</td>\n",
       "      <td>39</td>\n",
       "      <td>p03694</td>\n",
       "      <td>s001344748</td>\n",
       "      <td>s267165124</td>\n",
       "      <td>Python</td>\n",
       "      <td>py</td>\n",
       "      <td>Python (3.8.2)</td>\n",
       "      <td>Runtime Error</td>\n",
       "      <td>NaN</td>\n",
       "      <td>Traceback (most recent call last):\\n  File \"/h...</td>\n",
       "      <td>1</td>\n",
       "      <td>NameError</td>\n",
       "      <td>NameError: name 'b' is not defined</td>\n",
       "    </tr>\n",
       "  </tbody>\n",
       "</table>\n",
       "</div>"
      ],
      "text/plain": [
       "        tag   i1   i2   j1   j2 problem_id original_id  changed_id language  \\\n",
       "4    insert    9    9    9   13     p02628  s000778835  s833669381   Python   \n",
       "5   replace  136  137  136  137     p02406  s000873533  s357405506   Python   \n",
       "7   replace   35   37   35   36     p02681  s001183728  s212071531   Python   \n",
       "9   replace   86   87   86   87     p02314  s001192878  s967652203   Python   \n",
       "11  replace   38   39   38   39     p03694  s001344748  s267165124   Python   \n",
       "\n",
       "   extension original_language      original_status output  \\\n",
       "4         py    Python (3.8.2)        Runtime Error    NaN   \n",
       "5         py            Python  Time Limit Exceeded    NaN   \n",
       "7         py    Python (3.8.2)        Runtime Error    NaN   \n",
       "9         py            Python        Runtime Error    NaN   \n",
       "11        py    Python (3.8.2)        Runtime Error    NaN   \n",
       "\n",
       "                                                error  returncode  \\\n",
       "4   Traceback (most recent call last):\\n  File \"/h...           1   \n",
       "5     File \"/home/alex/Documents/research/bug-dete...           1   \n",
       "7     File \"/home/alex/Documents/research/bug-dete...           1   \n",
       "9     File \"/home/alex/Documents/research/bug-dete...           1   \n",
       "11  Traceback (most recent call last):\\n  File \"/h...           1   \n",
       "\n",
       "    error_class                                  error_class_extra  \n",
       "4    ValueError  ValueError: invalid literal for int() with bas...  \n",
       "5   SyntaxError  SyntaxError: Missing parentheses in call to 'p...  \n",
       "7   SyntaxError                        SyntaxError: invalid syntax  \n",
       "9   SyntaxError  SyntaxError: Missing parentheses in call to 'p...  \n",
       "11    NameError                 NameError: name 'b' is not defined  "
      ]
     },
     "execution_count": 11,
     "metadata": {},
     "output_type": "execute_result"
    }
   ],
   "source": [
    "generate_labels_df = pd.read_csv(generate_labels_path)\n",
    "generate_labels_df = generate_labels_df[generate_labels_df['language'] == 'Python']\n",
    "generate_labels_df.head()"
   ]
  },
  {
   "cell_type": "code",
   "execution_count": 4,
   "id": "26d9068f",
   "metadata": {
    "ExecuteTime": {
     "end_time": "2022-01-16T09:50:36.092754Z",
     "start_time": "2022-01-16T09:50:24.225446Z"
    }
   },
   "outputs": [
    {
     "name": "stderr",
     "output_type": "stream",
     "text": [
      "Processing p02677 s999352609: 100%|█| 3851/38\n"
     ]
    }
   ],
   "source": [
    "X, y = codenet.detection_X_y(generate_labels_df)"
   ]
  },
  {
   "cell_type": "code",
   "execution_count": 54,
   "id": "62c0779f",
   "metadata": {
    "ExecuteTime": {
     "end_time": "2022-01-16T10:29:02.940892Z",
     "start_time": "2022-01-16T10:29:02.732154Z"
    }
   },
   "outputs": [
    {
     "data": {
      "text/plain": [
       "(2769, 17)"
      ]
     },
     "execution_count": 54,
     "metadata": {},
     "output_type": "execute_result"
    }
   ],
   "source": [
    "stratify = [a[0][0] if a else \"Accepted\" for a in y]\n",
    "label_enc = LabelEncoder(random_state=42)\n",
    "stratify = label_enc.fit_transform(stratify)\n",
    "y = [[(s, *a[0][1:])] if a else [] for s, a in zip(stratify, y)]\n",
    "\n",
    "X_train, X_test, y_train, y_test = train_test_split(X, y, train_size=0.8, stratify=stratify, random_state=42)\n",
    "\n",
    "feat_extraction = Pipeline([\n",
    "    ('vect', CountVectorizer(analyzer=lambda x: x)),\n",
    "    ('tfidf', TfidfTransformer()),\n",
    "])\n",
    "\n",
    "X_train = feat_extraction.fit_transform(X_train)\n",
    "X_test = feat_extraction.transform(X_test)\n",
    "\n",
    "in_feat = X_train.shape[1]\n",
    "num_classes = len(np.unique(stratify))\n",
    "\n",
    "in_feat, num_classes"
   ]
  },
  {
   "cell_type": "code",
   "execution_count": 89,
   "id": "aa7863b9",
   "metadata": {
    "ExecuteTime": {
     "end_time": "2022-01-16T10:49:06.321356Z",
     "start_time": "2022-01-16T10:49:06.307343Z"
    }
   },
   "outputs": [],
   "source": [
    "class Model(nn.Module):\n",
    "    def __init__(self, in_feat, num_classes):\n",
    "        super(Model, self).__init__()\n",
    "\n",
    "        self.in_feat = in_feat\n",
    "        self.num_classes = num_classes\n",
    "        self.out_feat = 1 + 2 + num_classes\n",
    "        \n",
    "        self.linear = nn.Linear(in_feat, self.out_feat)\n",
    "        \n",
    "    def forward(self, x):\n",
    "        x = self.linear(x)\n",
    "        return x\n",
    "\n",
    "class Loss(nn.Module):\n",
    "    def __init__(self):\n",
    "        super().__init__()\n",
    "        self.mse = nn.MSELoss()\n",
    "        self.mce = nn.CrossEntropyLoss()\n",
    "        \n",
    "    def forward(self, output, target):      \n",
    "        if len(target) == 0:\n",
    "            return self.mse(output[0, 0], torch.tensor(0.0))\n",
    "        \n",
    "        obj_loss = self.mse(output[0, 0], torch.tensor(1.0))\n",
    "        pos_loss = self.mse(output[0, 1:3], target[0, 1:3])\n",
    "        mce_loss = self.mce(output[0:1, 2:], target[0:1, 0].long())\n",
    "\n",
    "        return obj_loss + pos_loss + mce_loss"
   ]
  },
  {
   "cell_type": "code",
   "execution_count": 92,
   "id": "454ed5d6",
   "metadata": {
    "ExecuteTime": {
     "end_time": "2022-01-16T10:49:54.456155Z",
     "start_time": "2022-01-16T10:49:54.439893Z"
    }
   },
   "outputs": [],
   "source": [
    "model = Model(in_feat, num_classes)\n",
    "loss_fn = Loss()\n",
    "solver = torch.optim.Adam(filter(lambda p: p.requires_grad, model.parameters()))"
   ]
  },
  {
   "cell_type": "code",
   "execution_count": 93,
   "id": "0bc149e5",
   "metadata": {
    "ExecuteTime": {
     "end_time": "2022-01-16T11:05:54.781369Z",
     "start_time": "2022-01-16T10:49:55.202339Z"
    }
   },
   "outputs": [
    {
     "name": "stderr",
     "output_type": "stream",
     "text": [
      "100%|█| 6161/6161 [00:17<00:00, 343.63it/s, e\n",
      "100%|█| 6161/6161 [00:17<00:00, 345.39it/s, e\n",
      "100%|█| 6161/6161 [00:18<00:00, 338.02it/s, e\n",
      "100%|█| 6161/6161 [00:19<00:00, 322.27it/s, e\n",
      "100%|█| 6161/6161 [00:18<00:00, 326.80it/s, e\n",
      "100%|█| 6161/6161 [00:18<00:00, 330.05it/s, e\n",
      "100%|█| 6161/6161 [00:18<00:00, 324.80it/s, e\n",
      "100%|█| 6161/6161 [00:18<00:00, 325.77it/s, e\n",
      "100%|█| 6161/6161 [00:19<00:00, 323.40it/s, e\n",
      "100%|█| 6161/6161 [00:18<00:00, 329.94it/s, e\n",
      "100%|█| 6161/6161 [00:18<00:00, 339.21it/s, e\n",
      "100%|█| 6161/6161 [00:19<00:00, 320.40it/s, e\n",
      "100%|█| 6161/6161 [00:19<00:00, 316.79it/s, e\n",
      "100%|█| 6161/6161 [00:19<00:00, 322.50it/s, e\n",
      "100%|█| 6161/6161 [00:18<00:00, 328.49it/s, e\n",
      "100%|█| 6161/6161 [00:18<00:00, 328.52it/s, e\n",
      "100%|█| 6161/6161 [00:18<00:00, 326.78it/s, e\n",
      "100%|█| 6161/6161 [00:18<00:00, 328.36it/s, e\n",
      "100%|█| 6161/6161 [00:18<00:00, 327.67it/s, e\n",
      "100%|█| 6161/6161 [00:18<00:00, 326.32it/s, e\n",
      "100%|█| 6161/6161 [00:18<00:00, 328.52it/s, e\n",
      "100%|█| 6161/6161 [00:18<00:00, 324.80it/s, e\n",
      "100%|█| 6161/6161 [00:18<00:00, 324.43it/s, e\n",
      "100%|█| 6161/6161 [00:19<00:00, 322.60it/s, e\n",
      "100%|█| 6161/6161 [00:18<00:00, 325.57it/s, e\n",
      "100%|█| 6161/6161 [00:19<00:00, 320.92it/s, e\n",
      "100%|█| 6161/6161 [00:19<00:00, 322.44it/s, e\n",
      "100%|█| 6161/6161 [00:19<00:00, 319.25it/s, e\n",
      "100%|█| 6161/6161 [00:19<00:00, 321.55it/s, e\n",
      "100%|█| 6161/6161 [00:19<00:00, 317.19it/s, e\n",
      "100%|█| 6161/6161 [00:19<00:00, 318.30it/s, e\n",
      "100%|█| 6161/6161 [00:19<00:00, 317.84it/s, e\n",
      "100%|█| 6161/6161 [00:19<00:00, 315.55it/s, e\n",
      "100%|█| 6161/6161 [00:19<00:00, 313.85it/s, e\n",
      "100%|█| 6161/6161 [00:19<00:00, 313.99it/s, e\n",
      "100%|█| 6161/6161 [00:19<00:00, 312.00it/s, e\n",
      "100%|█| 6161/6161 [00:19<00:00, 314.87it/s, e\n",
      "100%|█| 6161/6161 [00:19<00:00, 312.94it/s, e\n",
      "100%|█| 6161/6161 [00:19<00:00, 312.03it/s, e\n",
      "100%|█| 6161/6161 [00:19<00:00, 312.51it/s, e\n",
      "100%|█| 6161/6161 [00:19<00:00, 310.13it/s, e\n",
      "100%|█| 6161/6161 [00:19<00:00, 309.94it/s, e\n",
      "100%|█| 6161/6161 [00:19<00:00, 308.40it/s, e\n",
      "100%|█| 6161/6161 [00:19<00:00, 311.81it/s, e\n",
      "100%|█| 6161/6161 [00:19<00:00, 314.41it/s, e\n",
      "100%|█| 6161/6161 [00:19<00:00, 320.24it/s, e\n",
      "100%|█| 6161/6161 [00:19<00:00, 314.16it/s, e\n",
      "100%|█| 6161/6161 [00:19<00:00, 314.02it/s, e\n",
      "100%|█| 6161/6161 [00:19<00:00, 311.67it/s, e\n",
      "100%|█| 6161/6161 [00:20<00:00, 307.75it/s, e\n"
     ]
    }
   ],
   "source": [
    "dataloader = list(zip(X_train, y_train))\n",
    "\n",
    "for epoch in range(50):\n",
    "    with tqdm(dataloader, position=0, total=len(dataloader)) as loop:\n",
    "        for i, (x, target) in enumerate(loop):\n",
    "            x = torch.tensor(x.toarray()).float()\n",
    "            target = torch.tensor(target).float()\n",
    "\n",
    "            predictions = model(x)\n",
    "            loss = loss_fn(predictions, target)\n",
    "\n",
    "            model.zero_grad()\n",
    "            loss.backward()\n",
    "            solver.step()\n",
    "\n",
    "            loop.set_postfix(loss=loss.item(), epoch=epoch)"
   ]
  },
  {
   "cell_type": "code",
   "execution_count": 120,
   "id": "0699e6d1",
   "metadata": {
    "ExecuteTime": {
     "end_time": "2022-01-16T11:11:41.933205Z",
     "start_time": "2022-01-16T11:11:41.662759Z"
    }
   },
   "outputs": [
    {
     "name": "stderr",
     "output_type": "stream",
     "text": [
      "100%|█| 1541/1541 [00:00<00:00, 10997.41it/s]\n"
     ]
    }
   ],
   "source": [
    "dataloader = list(zip(X_test, y_test))\n",
    "\n",
    "def get_prediction(predictions):\n",
    "    if predictions[0, 0] < 0.5:\n",
    "        return []\n",
    "\n",
    "    line, column = predictions[0, 1:3].long().tolist()\n",
    "    label = torch.argmax(predictions[0, 3:]).item()\n",
    "    \n",
    "    return [(label, line, column)]\n",
    "    \n",
    "result = []\n",
    "\n",
    "with tqdm(dataloader, position=0, total=len(dataloader)) as loop:\n",
    "    for i, (x, target) in enumerate(loop):\n",
    "        x = torch.tensor(x.toarray()).float()\n",
    "        target = torch.tensor(target).float()\n",
    "\n",
    "        predictions = model(x)\n",
    "        predictions = get_prediction(predictions)\n",
    "        \n",
    "        result.append(predictions)"
   ]
  },
  {
   "cell_type": "code",
   "execution_count": 121,
   "id": "bb9ad10d",
   "metadata": {
    "ExecuteTime": {
     "end_time": "2022-01-16T11:11:44.691212Z",
     "start_time": "2022-01-16T11:11:44.618028Z"
    }
   },
   "outputs": [],
   "source": [
    "a_pred = [a[0][0] if a else label_enc.transform([\"Accepted\"])[0] for a in result]\n",
    "a_test = [a[0][0] if a else label_enc.transform([\"Accepted\"])[0] for a in y_test]"
   ]
  },
  {
   "cell_type": "code",
   "execution_count": 122,
   "id": "659a2925",
   "metadata": {
    "ExecuteTime": {
     "end_time": "2022-01-16T11:11:45.918107Z",
     "start_time": "2022-01-16T11:11:45.884610Z"
    }
   },
   "outputs": [
    {
     "name": "stdout",
     "output_type": "stream",
     "text": [
      "Accuracy: 0.25243348475016225\n",
      "Precision: 0.21452804626751823\n",
      "Recall: 0.2524334847501622\n",
      "F1: 0.23150146491345164\n"
     ]
    }
   ],
   "source": [
    "print(f\"Accuracy: {accuracy_score(a_test, a_pred)}\")\n",
    "print(f\"Precision: {precision_score(a_test, a_pred, average='weighted', zero_division=0)}\")\n",
    "print(f\"Recall: {recall_score(a_test, a_pred, average='weighted', zero_division=0)}\")\n",
    "print(f\"F1: {f1_score(a_test, a_pred, average='weighted')}\")"
   ]
  },
  {
   "cell_type": "code",
   "execution_count": null,
   "id": "68949f4f",
   "metadata": {},
   "outputs": [],
   "source": []
  }
 ],
 "metadata": {
  "kernelspec": {
   "display_name": "Python 3 (ipykernel)",
   "language": "python",
   "name": "python3"
  },
  "language_info": {
   "codemirror_mode": {
    "name": "ipython",
    "version": 3
   },
   "file_extension": ".py",
   "mimetype": "text/x-python",
   "name": "python",
   "nbconvert_exporter": "python",
   "pygments_lexer": "ipython3",
   "version": "3.9.5"
  }
 },
 "nbformat": 4,
 "nbformat_minor": 5
}
