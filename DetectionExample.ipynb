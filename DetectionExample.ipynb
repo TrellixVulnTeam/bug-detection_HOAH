{
 "cells": [
  {
   "cell_type": "code",
   "execution_count": 1,
   "id": "c281f806",
   "metadata": {
    "ExecuteTime": {
     "end_time": "2022-01-21T16:28:08.936733Z",
     "start_time": "2022-01-21T16:28:07.958586Z"
    }
   },
   "outputs": [],
   "source": [
    "import torch\n",
    "import pickle\n",
    "import codenet\n",
    "\n",
    "import numpy as np\n",
    "import pandas as pd\n",
    "import torch.nn as nn\n",
    "import torch.nn.functional as F\n",
    "\n",
    "from tqdm import tqdm\n",
    "\n",
    "from sklearn.model_selection import train_test_split\n",
    "from sklearn.preprocessing import LabelEncoder\n",
    "from sklearn.feature_extraction.text import CountVectorizer\n",
    "from sklearn.feature_extraction.text import TfidfTransformer\n",
    "from sklearn.pipeline import Pipeline\n",
    "from sklearn.metrics import accuracy_score, precision_score, recall_score, f1_score\n",
    "\n",
    "from scipy import sparse\n",
    "\n",
    "pd.set_option('max_columns', None)\n",
    "\n",
    "codenet.P = 1"
   ]
  },
  {
   "cell_type": "code",
   "execution_count": 2,
   "id": "b8c2b997",
   "metadata": {
    "ExecuteTime": {
     "end_time": "2022-01-21T16:28:09.979484Z",
     "start_time": "2022-01-21T16:28:09.134279Z"
    }
   },
   "outputs": [
    {
     "data": {
      "text/html": [
       "<div>\n",
       "<style scoped>\n",
       "    .dataframe tbody tr th:only-of-type {\n",
       "        vertical-align: middle;\n",
       "    }\n",
       "\n",
       "    .dataframe tbody tr th {\n",
       "        vertical-align: top;\n",
       "    }\n",
       "\n",
       "    .dataframe thead th {\n",
       "        text-align: right;\n",
       "    }\n",
       "</style>\n",
       "<table border=\"1\" class=\"dataframe\">\n",
       "  <thead>\n",
       "    <tr style=\"text-align: right;\">\n",
       "      <th></th>\n",
       "      <th>original_id</th>\n",
       "      <th>changed_id</th>\n",
       "      <th>original_status</th>\n",
       "      <th>problem_id</th>\n",
       "      <th>language</th>\n",
       "      <th>filename_ext</th>\n",
       "      <th>tag</th>\n",
       "      <th>i1</th>\n",
       "      <th>i2</th>\n",
       "      <th>j1</th>\n",
       "      <th>j2</th>\n",
       "      <th>output</th>\n",
       "      <th>error</th>\n",
       "      <th>returncode</th>\n",
       "      <th>error_class</th>\n",
       "      <th>error_class_extra</th>\n",
       "    </tr>\n",
       "  </thead>\n",
       "  <tbody>\n",
       "    <tr>\n",
       "      <th>0</th>\n",
       "      <td>s000016565</td>\n",
       "      <td>s604436209</td>\n",
       "      <td>Runtime Error</td>\n",
       "      <td>p03106</td>\n",
       "      <td>Python</td>\n",
       "      <td>py</td>\n",
       "      <td>replace</td>\n",
       "      <td>22</td>\n",
       "      <td>23</td>\n",
       "      <td>22</td>\n",
       "      <td>24</td>\n",
       "      <td>NaN</td>\n",
       "      <td>Traceback (most recent call last):\\n  File \"&lt;s...</td>\n",
       "      <td>1.0</td>\n",
       "      <td>AttributeError</td>\n",
       "      <td>AttributeError: 'str' object has no attribute ...</td>\n",
       "    </tr>\n",
       "    <tr>\n",
       "      <th>1</th>\n",
       "      <td>s000016565</td>\n",
       "      <td>s604436209</td>\n",
       "      <td>Runtime Error</td>\n",
       "      <td>p03106</td>\n",
       "      <td>Python</td>\n",
       "      <td>py</td>\n",
       "      <td>insert</td>\n",
       "      <td>49</td>\n",
       "      <td>49</td>\n",
       "      <td>52</td>\n",
       "      <td>53</td>\n",
       "      <td>NaN</td>\n",
       "      <td>File \"&lt;string&gt;\", line 4\\n    if a%i==0 and b...</td>\n",
       "      <td>1.0</td>\n",
       "      <td>SyntaxError</td>\n",
       "      <td>SyntaxError: unmatched ')'</td>\n",
       "    </tr>\n",
       "    <tr>\n",
       "      <th>2</th>\n",
       "      <td>s000016565</td>\n",
       "      <td>s604436209</td>\n",
       "      <td>Runtime Error</td>\n",
       "      <td>p03106</td>\n",
       "      <td>Python</td>\n",
       "      <td>py</td>\n",
       "      <td>insert</td>\n",
       "      <td>62</td>\n",
       "      <td>62</td>\n",
       "      <td>66</td>\n",
       "      <td>67</td>\n",
       "      <td>NaN</td>\n",
       "      <td>File \"&lt;string&gt;\", line 4\\n    if (a%i==0 and ...</td>\n",
       "      <td>1.0</td>\n",
       "      <td>SyntaxError</td>\n",
       "      <td>SyntaxError: invalid syntax</td>\n",
       "    </tr>\n",
       "    <tr>\n",
       "      <th>3</th>\n",
       "      <td>s000023530</td>\n",
       "      <td>s834210063</td>\n",
       "      <td>Runtime Error</td>\n",
       "      <td>p02684</td>\n",
       "      <td>Python</td>\n",
       "      <td>py</td>\n",
       "      <td>insert</td>\n",
       "      <td>81</td>\n",
       "      <td>81</td>\n",
       "      <td>81</td>\n",
       "      <td>88</td>\n",
       "      <td>NaN</td>\n",
       "      <td>Traceback (most recent call last):\\n  File \"&lt;s...</td>\n",
       "      <td>1.0</td>\n",
       "      <td>NameError</td>\n",
       "      <td>NameError: name 'flag' is not defined</td>\n",
       "    </tr>\n",
       "    <tr>\n",
       "      <th>4</th>\n",
       "      <td>s000023530</td>\n",
       "      <td>s834210063</td>\n",
       "      <td>Runtime Error</td>\n",
       "      <td>p02684</td>\n",
       "      <td>Python</td>\n",
       "      <td>py</td>\n",
       "      <td>insert</td>\n",
       "      <td>179</td>\n",
       "      <td>179</td>\n",
       "      <td>185</td>\n",
       "      <td>237</td>\n",
       "      <td>NaN</td>\n",
       "      <td>File \"&lt;string&gt;\", line 18\\n    if s:]\\n      ...</td>\n",
       "      <td>1.0</td>\n",
       "      <td>SyntaxError</td>\n",
       "      <td>SyntaxError: unmatched ']'</td>\n",
       "    </tr>\n",
       "  </tbody>\n",
       "</table>\n",
       "</div>"
      ],
      "text/plain": [
       "  original_id  changed_id original_status problem_id language filename_ext  \\\n",
       "0  s000016565  s604436209   Runtime Error     p03106   Python           py   \n",
       "1  s000016565  s604436209   Runtime Error     p03106   Python           py   \n",
       "2  s000016565  s604436209   Runtime Error     p03106   Python           py   \n",
       "3  s000023530  s834210063   Runtime Error     p02684   Python           py   \n",
       "4  s000023530  s834210063   Runtime Error     p02684   Python           py   \n",
       "\n",
       "       tag   i1   i2   j1   j2 output  \\\n",
       "0  replace   22   23   22   24    NaN   \n",
       "1   insert   49   49   52   53    NaN   \n",
       "2   insert   62   62   66   67    NaN   \n",
       "3   insert   81   81   81   88    NaN   \n",
       "4   insert  179  179  185  237    NaN   \n",
       "\n",
       "                                               error  returncode  \\\n",
       "0  Traceback (most recent call last):\\n  File \"<s...         1.0   \n",
       "1    File \"<string>\", line 4\\n    if a%i==0 and b...         1.0   \n",
       "2    File \"<string>\", line 4\\n    if (a%i==0 and ...         1.0   \n",
       "3  Traceback (most recent call last):\\n  File \"<s...         1.0   \n",
       "4    File \"<string>\", line 18\\n    if s:]\\n      ...         1.0   \n",
       "\n",
       "      error_class                                  error_class_extra  \n",
       "0  AttributeError  AttributeError: 'str' object has no attribute ...  \n",
       "1     SyntaxError                         SyntaxError: unmatched ')'  \n",
       "2     SyntaxError                        SyntaxError: invalid syntax  \n",
       "3       NameError              NameError: name 'flag' is not defined  \n",
       "4     SyntaxError                         SyntaxError: unmatched ']'  "
      ]
     },
     "execution_count": 2,
     "metadata": {},
     "output_type": "execute_result"
    }
   ],
   "source": [
    "error_pairs_df = pd.read_csv(codenet.error_pairs_v2_path)\n",
    "\n",
    "error_pairs_df.head()"
   ]
  },
  {
   "cell_type": "code",
   "execution_count": 3,
   "id": "26d9068f",
   "metadata": {
    "ExecuteTime": {
     "end_time": "2022-01-21T16:28:37.284013Z",
     "start_time": "2022-01-21T16:28:34.705613Z"
    }
   },
   "outputs": [],
   "source": [
    "with open('test.pkl', 'rb') as f:\n",
    "    X, y = pickle.load(f)"
   ]
  },
  {
   "cell_type": "code",
   "execution_count": 70,
   "id": "62c0779f",
   "metadata": {
    "ExecuteTime": {
     "end_time": "2022-01-21T16:45:32.534302Z",
     "start_time": "2022-01-21T16:45:27.847709Z"
    }
   },
   "outputs": [
    {
     "data": {
      "text/plain": [
       "(80226, 30)"
      ]
     },
     "execution_count": 70,
     "metadata": {},
     "output_type": "execute_result"
    }
   ],
   "source": [
    "X_train, X_test, y_train, y_test = train_test_split(X, y, train_size=0.8, random_state=42)\n",
    "\n",
    "feat_extraction = Pipeline([\n",
    "    ('vect', CountVectorizer(analyzer=lambda x: x)),\n",
    "    ('tfidf', TfidfTransformer()),\n",
    "])\n",
    "\n",
    "X_train = feat_extraction.fit_transform(X_train)\n",
    "X_test = feat_extraction.transform(X_test)\n",
    "\n",
    "labels = np.array([item for sublist in y for item in sublist])[:, 2]\n",
    "label_enc = LabelEncoder()\n",
    "label_enc = label_enc.fit(labels)\n",
    "\n",
    "in_feat = X_train.shape[1]\n",
    "num_classes = len(np.unique(labels))\n",
    "\n",
    "in_feat, num_classes"
   ]
  },
  {
   "cell_type": "code",
   "execution_count": 88,
   "id": "aa7863b9",
   "metadata": {
    "ExecuteTime": {
     "end_time": "2022-01-21T16:50:14.473445Z",
     "start_time": "2022-01-21T16:50:14.464619Z"
    }
   },
   "outputs": [],
   "source": [
    "class Model(nn.Module):\n",
    "    def __init__(self, in_feat, num_classes):\n",
    "        super(Model, self).__init__()\n",
    "\n",
    "        self.in_feat = in_feat\n",
    "        self.num_classes = num_classes\n",
    "        self.out_feat = 1 + 2 + num_classes\n",
    "        \n",
    "        self.linear = nn.Linear(in_feat, self.out_feat)\n",
    "        \n",
    "    def forward(self, x):\n",
    "        x = self.linear(x)\n",
    "        return x\n",
    "\n",
    "class Loss(nn.Module):\n",
    "    def __init__(self):\n",
    "        super().__init__()\n",
    "        self.mse = nn.MSELoss()\n",
    "        self.mce = nn.CrossEntropyLoss()\n",
    "        \n",
    "    def forward(self, output, target):      \n",
    "        if len(target) == 0:\n",
    "            return self.mse(output[0, 0], torch.tensor(0.0))\n",
    "        \n",
    "        obj_loss = self.mse(output[0, 0], torch.tensor(1.0))\n",
    "        pos_loss = self.mse(output[0, 1:3], target[0, 0:2])\n",
    "        mce_loss = self.mce(output[0:1, 2:], target[0:1, 2].long())\n",
    "\n",
    "        return obj_loss + pos_loss + mce_loss\n",
    "    \n",
    "def target2tensor(target):\n",
    "    if not target:\n",
    "        return torch.tensor(target).float()\n",
    "    target = np.array(target)\n",
    "    target[:, 2] = label_enc.transform(target[:, 2])    \n",
    "    target = target.astype(np.float32)\n",
    "    return torch.tensor(target).float()"
   ]
  },
  {
   "cell_type": "code",
   "execution_count": 89,
   "id": "454ed5d6",
   "metadata": {
    "ExecuteTime": {
     "end_time": "2022-01-21T16:50:14.937850Z",
     "start_time": "2022-01-21T16:50:14.906141Z"
    }
   },
   "outputs": [],
   "source": [
    "model = Model(in_feat, num_classes)\n",
    "loss_fn = Loss()\n",
    "solver = torch.optim.Adam(filter(lambda p: p.requires_grad, model.parameters()))"
   ]
  },
  {
   "cell_type": "code",
   "execution_count": 90,
   "id": "0bc149e5",
   "metadata": {
    "ExecuteTime": {
     "end_time": "2022-01-21T17:00:08.815318Z",
     "start_time": "2022-01-21T16:50:15.304439Z"
    }
   },
   "outputs": [
    {
     "name": "stderr",
     "output_type": "stream",
     "text": [
      " 19%|▏| 14749/78032 [09:50<42:13, 24.98it/s, \n"
     ]
    },
    {
     "ename": "KeyboardInterrupt",
     "evalue": "",
     "output_type": "error",
     "traceback": [
      "\u001b[0;31m---------------------------------------------------------------------------\u001b[0m",
      "\u001b[0;31mKeyboardInterrupt\u001b[0m                         Traceback (most recent call last)",
      "\u001b[0;32m/tmp/ipykernel_615889/1913330209.py\u001b[0m in \u001b[0;36m<module>\u001b[0;34m\u001b[0m\n\u001b[1;32m     14\u001b[0m             \u001b[0msolver\u001b[0m\u001b[0;34m.\u001b[0m\u001b[0mstep\u001b[0m\u001b[0;34m(\u001b[0m\u001b[0;34m)\u001b[0m\u001b[0;34m\u001b[0m\u001b[0;34m\u001b[0m\u001b[0m\n\u001b[1;32m     15\u001b[0m \u001b[0;34m\u001b[0m\u001b[0m\n\u001b[0;32m---> 16\u001b[0;31m             \u001b[0mloop\u001b[0m\u001b[0;34m.\u001b[0m\u001b[0mset_postfix\u001b[0m\u001b[0;34m(\u001b[0m\u001b[0mloss\u001b[0m\u001b[0;34m=\u001b[0m\u001b[0mloss\u001b[0m\u001b[0;34m.\u001b[0m\u001b[0mitem\u001b[0m\u001b[0;34m(\u001b[0m\u001b[0;34m)\u001b[0m\u001b[0;34m,\u001b[0m \u001b[0mepoch\u001b[0m\u001b[0;34m=\u001b[0m\u001b[0mepoch\u001b[0m\u001b[0;34m)\u001b[0m\u001b[0;34m\u001b[0m\u001b[0;34m\u001b[0m\u001b[0m\n\u001b[0m",
      "\u001b[0;32m~/.local/lib/python3.9/site-packages/tqdm/std.py\u001b[0m in \u001b[0;36mset_postfix\u001b[0;34m(self, ordered_dict, refresh, **kwargs)\u001b[0m\n\u001b[1;32m   1419\u001b[0m             \u001b[0;31m# Number: limit the length of the string\u001b[0m\u001b[0;34m\u001b[0m\u001b[0;34m\u001b[0m\u001b[0;34m\u001b[0m\u001b[0m\n\u001b[1;32m   1420\u001b[0m             \u001b[0;32mif\u001b[0m \u001b[0misinstance\u001b[0m\u001b[0;34m(\u001b[0m\u001b[0mpostfix\u001b[0m\u001b[0;34m[\u001b[0m\u001b[0mkey\u001b[0m\u001b[0;34m]\u001b[0m\u001b[0;34m,\u001b[0m \u001b[0mNumber\u001b[0m\u001b[0;34m)\u001b[0m\u001b[0;34m:\u001b[0m\u001b[0;34m\u001b[0m\u001b[0;34m\u001b[0m\u001b[0m\n\u001b[0;32m-> 1421\u001b[0;31m                 \u001b[0mpostfix\u001b[0m\u001b[0;34m[\u001b[0m\u001b[0mkey\u001b[0m\u001b[0;34m]\u001b[0m \u001b[0;34m=\u001b[0m \u001b[0mself\u001b[0m\u001b[0;34m.\u001b[0m\u001b[0mformat_num\u001b[0m\u001b[0;34m(\u001b[0m\u001b[0mpostfix\u001b[0m\u001b[0;34m[\u001b[0m\u001b[0mkey\u001b[0m\u001b[0;34m]\u001b[0m\u001b[0;34m)\u001b[0m\u001b[0;34m\u001b[0m\u001b[0;34m\u001b[0m\u001b[0m\n\u001b[0m\u001b[1;32m   1422\u001b[0m             \u001b[0;31m# Else for any other type, try to get the string conversion\u001b[0m\u001b[0;34m\u001b[0m\u001b[0;34m\u001b[0m\u001b[0;34m\u001b[0m\u001b[0m\n\u001b[1;32m   1423\u001b[0m             \u001b[0;32melif\u001b[0m \u001b[0;32mnot\u001b[0m \u001b[0misinstance\u001b[0m\u001b[0;34m(\u001b[0m\u001b[0mpostfix\u001b[0m\u001b[0;34m[\u001b[0m\u001b[0mkey\u001b[0m\u001b[0;34m]\u001b[0m\u001b[0;34m,\u001b[0m \u001b[0m_basestring\u001b[0m\u001b[0;34m)\u001b[0m\u001b[0;34m:\u001b[0m\u001b[0;34m\u001b[0m\u001b[0;34m\u001b[0m\u001b[0m\n",
      "\u001b[0;32m~/.local/lib/python3.9/site-packages/tqdm/std.py\u001b[0m in \u001b[0;36mformat_num\u001b[0;34m(n)\u001b[0m\n\u001b[1;32m    324\u001b[0m         \"\"\"\n\u001b[1;32m    325\u001b[0m         \u001b[0mf\u001b[0m \u001b[0;34m=\u001b[0m \u001b[0;34m'{0:.3g}'\u001b[0m\u001b[0;34m.\u001b[0m\u001b[0mformat\u001b[0m\u001b[0;34m(\u001b[0m\u001b[0mn\u001b[0m\u001b[0;34m)\u001b[0m\u001b[0;34m.\u001b[0m\u001b[0mreplace\u001b[0m\u001b[0;34m(\u001b[0m\u001b[0;34m'+0'\u001b[0m\u001b[0;34m,\u001b[0m \u001b[0;34m'+'\u001b[0m\u001b[0;34m)\u001b[0m\u001b[0;34m.\u001b[0m\u001b[0mreplace\u001b[0m\u001b[0;34m(\u001b[0m\u001b[0;34m'-0'\u001b[0m\u001b[0;34m,\u001b[0m \u001b[0;34m'-'\u001b[0m\u001b[0;34m)\u001b[0m\u001b[0;34m\u001b[0m\u001b[0;34m\u001b[0m\u001b[0m\n\u001b[0;32m--> 326\u001b[0;31m         \u001b[0mn\u001b[0m \u001b[0;34m=\u001b[0m \u001b[0mstr\u001b[0m\u001b[0;34m(\u001b[0m\u001b[0mn\u001b[0m\u001b[0;34m)\u001b[0m\u001b[0;34m\u001b[0m\u001b[0;34m\u001b[0m\u001b[0m\n\u001b[0m\u001b[1;32m    327\u001b[0m         \u001b[0;32mreturn\u001b[0m \u001b[0mf\u001b[0m \u001b[0;32mif\u001b[0m \u001b[0mlen\u001b[0m\u001b[0;34m(\u001b[0m\u001b[0mf\u001b[0m\u001b[0;34m)\u001b[0m \u001b[0;34m<\u001b[0m \u001b[0mlen\u001b[0m\u001b[0;34m(\u001b[0m\u001b[0mn\u001b[0m\u001b[0;34m)\u001b[0m \u001b[0;32melse\u001b[0m \u001b[0mn\u001b[0m\u001b[0;34m\u001b[0m\u001b[0;34m\u001b[0m\u001b[0m\n\u001b[1;32m    328\u001b[0m \u001b[0;34m\u001b[0m\u001b[0m\n",
      "\u001b[0;31mKeyboardInterrupt\u001b[0m: "
     ]
    }
   ],
   "source": [
    "dataloader = list(zip(X_train, y_train))\n",
    "\n",
    "for epoch in range(1):\n",
    "    with tqdm(dataloader, position=0, total=len(dataloader)) as loop:\n",
    "        for i, (x, target) in enumerate(loop):\n",
    "            x = torch.tensor(x.toarray()).float()\n",
    "            target = target2tensor(target)\n",
    "\n",
    "            predictions = model(x)\n",
    "            loss = loss_fn(predictions, target)\n",
    "\n",
    "            model.zero_grad()\n",
    "            loss.backward()\n",
    "            solver.step()\n",
    "\n",
    "            loop.set_postfix(loss=loss.item(), epoch=epoch)"
   ]
  },
  {
   "cell_type": "code",
   "execution_count": null,
   "id": "0699e6d1",
   "metadata": {
    "ExecuteTime": {
     "start_time": "2022-01-21T15:57:30.768Z"
    }
   },
   "outputs": [],
   "source": [
    "dataloader = list(zip(X_test, y_test))\n",
    "\n",
    "def get_prediction(predictions):\n",
    "    if predictions[0, 0] < 0.5:\n",
    "        return []\n",
    "\n",
    "    line, column = predictions[0, 1:3].long().tolist()\n",
    "    label = torch.argmax(predictions[0, 3:]).item()\n",
    "    \n",
    "    return [(label, line, column)]\n",
    "    \n",
    "result = []\n",
    "\n",
    "with tqdm(dataloader, position=0, total=len(dataloader)) as loop:\n",
    "    for i, (x, target) in enumerate(loop):\n",
    "        x = torch.tensor(x.toarray()).float()\n",
    "        target = torch.tensor(target).float()\n",
    "\n",
    "        predictions = model(x)\n",
    "        predictions = get_prediction(predictions)\n",
    "        \n",
    "        result.append(predictions)"
   ]
  },
  {
   "cell_type": "code",
   "execution_count": null,
   "id": "bb9ad10d",
   "metadata": {
    "ExecuteTime": {
     "start_time": "2022-01-21T15:57:30.770Z"
    }
   },
   "outputs": [],
   "source": [
    "a_pred = [a[0][0] if a else label_enc.transform([\"Accepted\"])[0] for a in result]\n",
    "a_test = [a[0][0] if a else label_enc.transform([\"Accepted\"])[0] for a in y_test]"
   ]
  },
  {
   "cell_type": "code",
   "execution_count": null,
   "id": "659a2925",
   "metadata": {
    "ExecuteTime": {
     "start_time": "2022-01-21T15:57:30.772Z"
    }
   },
   "outputs": [],
   "source": [
    "print(f\"Accuracy: {accuracy_score(a_test, a_pred)}\")\n",
    "print(f\"Precision: {precision_score(a_test, a_pred, average='weighted', zero_division=0)}\")\n",
    "print(f\"Recall: {recall_score(a_test, a_pred, average='weighted', zero_division=0)}\")\n",
    "print(f\"F1: {f1_score(a_test, a_pred, average='weighted')}\")"
   ]
  },
  {
   "cell_type": "code",
   "execution_count": null,
   "id": "68949f4f",
   "metadata": {},
   "outputs": [],
   "source": []
  }
 ],
 "metadata": {
  "kernelspec": {
   "display_name": "Python 3 (ipykernel)",
   "language": "python",
   "name": "python3"
  },
  "language_info": {
   "codemirror_mode": {
    "name": "ipython",
    "version": 3
   },
   "file_extension": ".py",
   "mimetype": "text/x-python",
   "name": "python",
   "nbconvert_exporter": "python",
   "pygments_lexer": "ipython3",
   "version": "3.9.5"
  }
 },
 "nbformat": 4,
 "nbformat_minor": 5
}
