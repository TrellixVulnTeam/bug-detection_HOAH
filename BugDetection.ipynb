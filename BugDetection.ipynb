{
 "cells": [
  {
   "cell_type": "markdown",
   "id": "d757f170",
   "metadata": {},
   "source": [
    "# Bug Detection"
   ]
  },
  {
   "cell_type": "code",
   "execution_count": 1,
   "id": "efba2751",
   "metadata": {
    "ExecuteTime": {
     "end_time": "2021-12-05T07:19:47.684091Z",
     "start_time": "2021-12-05T07:19:46.827826Z"
    }
   },
   "outputs": [],
   "source": [
    "import os\n",
    "import re\n",
    "import io\n",
    "import sys\n",
    "import wget\n",
    "import pickle\n",
    "import tarfile\n",
    "import itertools\n",
    "import functools\n",
    "import subprocess\n",
    "\n",
    "import pandas as pd\n",
    "import seaborn as sns\n",
    "import matplotlib.pyplot as plt\n",
    "\n",
    "from bs4 import BeautifulSoup\n",
    "from IPython.display import display, HTML\n",
    "from tqdm import tqdm\n",
    "from pprint import pprint\n",
    "from difflib import Differ, SequenceMatcher\n",
    "\n",
    "tqdm.pandas()\n",
    "\n",
    "# Initialize the dataset paths\n",
    "input_path = '../input/'\n",
    "root_path = input_path + 'Project_CodeNet/'\n",
    "\n",
    "os.makedirs(input_path, exist_ok=True)\n",
    "\n",
    "data_path = root_path + 'data/'\n",
    "metadata_path = root_path + 'metadata/'\n",
    "derived_path = root_path + 'derived/'\n",
    "descriptions_path = root_path + 'problem_descriptions/'\n",
    "\n",
    "# Create helper functions to find the path easier in the dataset\n",
    "def id2desc(problem_id): return descriptions_path + problem_id + '.html'\n",
    "def id2inout(problem_id, name='input'): \n",
    "    return derived_path + 'input_output/data/' + problem_id + '/' + name + '.txt'\n",
    "def id2submission(problem_id, language, submission_id, filename_ext): \n",
    "    return data_path + problem_id + '/' + language + '/' + submission_id + '.' + filename_ext"
   ]
  },
  {
   "cell_type": "markdown",
   "id": "b082fd7b",
   "metadata": {},
   "source": [
    "# Download CodeNet\n",
    "\n",
    "The next code cell will download the CodeNet dataset from it's original repository (the archive has around 80GB). If you already have the dataset change the input_path variable to point to the root of the dataset, otherwise the notebook will download it in the ../input/ directory."
   ]
  },
  {
   "cell_type": "code",
   "execution_count": 2,
   "id": "30d4c114",
   "metadata": {
    "ExecuteTime": {
     "end_time": "2021-12-05T07:19:55.173033Z",
     "start_time": "2021-12-05T07:19:55.168088Z"
    }
   },
   "outputs": [
    {
     "name": "stdout",
     "output_type": "stream",
     "text": [
      "dataset root dir found\n"
     ]
    }
   ],
   "source": [
    "data_url = \"https://dax-cdn.cdn.appdomain.cloud/dax-project-codenet/1.0.0\"\n",
    "tar_name = \"Project_CodeNet.tar.gz\"\n",
    "tar_path = input_path + tar_name\n",
    "\n",
    "def download_data():\n",
    "    if os.path.exists(root_path):\n",
    "        print(\"dataset root dir found\")\n",
    "        return\n",
    "\n",
    "    if not os.path.exists(tar_path):\n",
    "        wget.download(f\"{data_url}/{tar_name}\", out=tar_path)\n",
    "        \n",
    "    with tarfile.open(tar_path) as tf:\n",
    "        tf.extractall(path=data_path)\n",
    "\n",
    "download_data()"
   ]
  },
  {
   "cell_type": "markdown",
   "id": "0903ed7b",
   "metadata": {},
   "source": [
    "# Data Exploration\n",
    "\n",
    "The base dataset I will be using in this notebook is [CodeNet](https://github.com/IBM/Project_CodeNet) which is a large collection of source files and problem descriptions with metadata. The solutions are written in multiple programming languages (55+ according to the paper) and each problem has multiple submissions. Most of the submissions are written in the six most common languages (C++, Python, Java, C, Ruby, C#). As expected most of the solutions are in C++. One interesting aspect of the dataset is that it includes failed submissions, with various status codes such as Compilation Errors, Runtime Errors, Time Limit Exceeded, Memory Limit Exceeded, etc. This will prove useful since we are looking into bug detection in source code files. The dataset also contains some sample input and output for some of the problems, so we can extract even lower level errors for the submissions, for example the Runtime Error of a specific submission may refer to a IndexError, or even more specific, IndexError: Index {number} is out of bounds. Another important aspect of the bug detection task is pointing to the location in code where the error occurs, so the fact that we have sample inputs and outputs is again a great feature. Another idea that can be used to find erroneous instructions is to compute the difference between two consecutive submissions for a single user. This can also be done since the metadata files of each problem keep track of user ids and submission ids. In the end a good state for the dataset is to have as many source files as possible labeled with the location in code where a specific error occurs."
   ]
  },
  {
   "cell_type": "markdown",
   "id": "8edcaa02",
   "metadata": {},
   "source": [
    "Let's load the problem list table and look at the data. We are interested in seeing how many problems we have and from what coding competition each problem is taken from."
   ]
  },
  {
   "cell_type": "code",
   "execution_count": 3,
   "id": "ee2d88dc",
   "metadata": {
    "ExecuteTime": {
     "end_time": "2021-12-05T07:19:58.175404Z",
     "start_time": "2021-12-05T07:19:58.142501Z"
    }
   },
   "outputs": [
    {
     "name": "stdout",
     "output_type": "stream",
     "text": [
      "We have 4053 problems\n",
      "The distribution of the datasets is\n",
      "AIZU       0.625216\n",
      "AtCoder    0.374784\n",
      "Name: dataset, dtype: float64\n"
     ]
    },
    {
     "data": {
      "text/html": [
       "<div>\n",
       "<style scoped>\n",
       "    .dataframe tbody tr th:only-of-type {\n",
       "        vertical-align: middle;\n",
       "    }\n",
       "\n",
       "    .dataframe tbody tr th {\n",
       "        vertical-align: top;\n",
       "    }\n",
       "\n",
       "    .dataframe thead th {\n",
       "        text-align: right;\n",
       "    }\n",
       "</style>\n",
       "<table border=\"1\" class=\"dataframe\">\n",
       "  <thead>\n",
       "    <tr style=\"text-align: right;\">\n",
       "      <th></th>\n",
       "      <th>name</th>\n",
       "      <th>dataset</th>\n",
       "      <th>time_limit</th>\n",
       "      <th>memory_limit</th>\n",
       "      <th>rating</th>\n",
       "      <th>tags</th>\n",
       "      <th>complexity</th>\n",
       "    </tr>\n",
       "    <tr>\n",
       "      <th>id</th>\n",
       "      <th></th>\n",
       "      <th></th>\n",
       "      <th></th>\n",
       "      <th></th>\n",
       "      <th></th>\n",
       "      <th></th>\n",
       "      <th></th>\n",
       "    </tr>\n",
       "  </thead>\n",
       "  <tbody>\n",
       "    <tr>\n",
       "      <th>p00000</th>\n",
       "      <td>QQ</td>\n",
       "      <td>AIZU</td>\n",
       "      <td>1000.0</td>\n",
       "      <td>131072.0</td>\n",
       "      <td>NaN</td>\n",
       "      <td>NaN</td>\n",
       "      <td>NaN</td>\n",
       "    </tr>\n",
       "    <tr>\n",
       "      <th>p00001</th>\n",
       "      <td>List of Top 3 Hills</td>\n",
       "      <td>AIZU</td>\n",
       "      <td>1000.0</td>\n",
       "      <td>131072.0</td>\n",
       "      <td>NaN</td>\n",
       "      <td>NaN</td>\n",
       "      <td>NaN</td>\n",
       "    </tr>\n",
       "    <tr>\n",
       "      <th>p00002</th>\n",
       "      <td>Digit Number</td>\n",
       "      <td>AIZU</td>\n",
       "      <td>1000.0</td>\n",
       "      <td>131072.0</td>\n",
       "      <td>NaN</td>\n",
       "      <td>NaN</td>\n",
       "      <td>NaN</td>\n",
       "    </tr>\n",
       "    <tr>\n",
       "      <th>p00003</th>\n",
       "      <td>Is it a Right Triangle?</td>\n",
       "      <td>AIZU</td>\n",
       "      <td>1000.0</td>\n",
       "      <td>131072.0</td>\n",
       "      <td>NaN</td>\n",
       "      <td>NaN</td>\n",
       "      <td>NaN</td>\n",
       "    </tr>\n",
       "    <tr>\n",
       "      <th>p00004</th>\n",
       "      <td>Simultaneous Equation</td>\n",
       "      <td>AIZU</td>\n",
       "      <td>1000.0</td>\n",
       "      <td>131072.0</td>\n",
       "      <td>NaN</td>\n",
       "      <td>NaN</td>\n",
       "      <td>NaN</td>\n",
       "    </tr>\n",
       "  </tbody>\n",
       "</table>\n",
       "</div>"
      ],
      "text/plain": [
       "                           name dataset  time_limit  memory_limit  rating  \\\n",
       "id                                                                          \n",
       "p00000                       QQ    AIZU      1000.0      131072.0     NaN   \n",
       "p00001      List of Top 3 Hills    AIZU      1000.0      131072.0     NaN   \n",
       "p00002             Digit Number    AIZU      1000.0      131072.0     NaN   \n",
       "p00003  Is it a Right Triangle?    AIZU      1000.0      131072.0     NaN   \n",
       "p00004    Simultaneous Equation    AIZU      1000.0      131072.0     NaN   \n",
       "\n",
       "        tags  complexity  \n",
       "id                        \n",
       "p00000   NaN         NaN  \n",
       "p00001   NaN         NaN  \n",
       "p00002   NaN         NaN  \n",
       "p00003   NaN         NaN  \n",
       "p00004   NaN         NaN  "
      ]
     },
     "metadata": {},
     "output_type": "display_data"
    },
    {
     "data": {
      "text/plain": [
       "name              56\n",
       "dataset            0\n",
       "time_limit        56\n",
       "memory_limit      56\n",
       "rating          4053\n",
       "tags            4053\n",
       "complexity      4053\n",
       "dtype: int64"
      ]
     },
     "metadata": {},
     "output_type": "display_data"
    }
   ],
   "source": [
    "# Load the problem list table as a csv\n",
    "problem_list_df = pd.read_csv(metadata_path + 'problem_list.csv')\n",
    "problem_list_df.set_index('id', inplace=True)\n",
    "\n",
    "print(f\"We have {len(problem_list_df)} problems\")\n",
    "print('The distribution of the datasets is')\n",
    "print(problem_list_df['dataset'].value_counts(normalize=True))\n",
    "display(problem_list_df.head())\n",
    "display(problem_list_df.isna().sum())"
   ]
  },
  {
   "cell_type": "code",
   "execution_count": 4,
   "id": "9c5813f3",
   "metadata": {
    "ExecuteTime": {
     "end_time": "2021-12-05T07:19:58.948749Z",
     "start_time": "2021-12-05T07:19:58.940090Z"
    }
   },
   "outputs": [],
   "source": [
    "problem_list_df['time_limit'].fillna(1.0, inplace=True)"
   ]
  },
  {
   "cell_type": "markdown",
   "id": "fc2bb917",
   "metadata": {},
   "source": [
    "We can see that we have around 4000 problems with 2 thirds coming from the AIZU dataset and the rest from the AtCoder dataset. Another interesting aspect is that the rating, tags and complexity is missing for all the problems. The tags could have beed useful to classify the problem into corresponding categories, such as graph problem or dynamic programing problem, etc. There are also some data missing for the name, time limit and memory limit for a few problems, but it shouldn't be a problem. Let's look for example at the first problem and see how many submissions it has, what programming languages were used, what was the distribution of the status for the submissions and the users that attempted this problem. Let's also see what was the average number of submissions per user."
   ]
  },
  {
   "cell_type": "code",
   "execution_count": 5,
   "id": "2f915a88",
   "metadata": {
    "ExecuteTime": {
     "end_time": "2021-12-05T07:20:00.454715Z",
     "start_time": "2021-12-05T07:20:00.361244Z"
    }
   },
   "outputs": [
    {
     "name": "stdout",
     "output_type": "stream",
     "text": [
      "We have 16099 submissions for problem p00000\n",
      "The distribution of the programming languages is\n",
      "C++           5231\n",
      "C             4849\n",
      "Java          2291\n",
      "Python        1626\n",
      "Ruby           701\n",
      "C#             416\n",
      "PHP            316\n",
      "JavaScript     288\n",
      "Scala          105\n",
      "Haskell        103\n",
      "D               89\n",
      "Go              31\n",
      "Rust            24\n",
      "OCaml           22\n",
      "Kotlin           7\n",
      "Name: language, dtype: int64\n",
      "The distribution of the status is\n",
      "Accepted                  8597\n",
      "Wrong Answer              3187\n",
      "Compile Error             2638\n",
      "Runtime Error              952\n",
      "WA: Presentation Error     545\n",
      "Time Limit Exceeded        164\n",
      "Memory Limit Exceeded       13\n",
      "Output Limit Exceeded        3\n",
      "Name: status, dtype: int64\n",
      "The number of users that attempted this problem 5944\n",
      "The average number of submissions of a user 2.708445491251682\n",
      "The min number of submissions of a user 1\n",
      "The median number of submissions of a user 1.0\n",
      "The max number of submissions of a user 1362\n"
     ]
    },
    {
     "data": {
      "text/html": [
       "<div>\n",
       "<style scoped>\n",
       "    .dataframe tbody tr th:only-of-type {\n",
       "        vertical-align: middle;\n",
       "    }\n",
       "\n",
       "    .dataframe tbody tr th {\n",
       "        vertical-align: top;\n",
       "    }\n",
       "\n",
       "    .dataframe thead th {\n",
       "        text-align: right;\n",
       "    }\n",
       "</style>\n",
       "<table border=\"1\" class=\"dataframe\">\n",
       "  <thead>\n",
       "    <tr style=\"text-align: right;\">\n",
       "      <th></th>\n",
       "      <th>problem_id</th>\n",
       "      <th>user_id</th>\n",
       "      <th>date</th>\n",
       "      <th>language</th>\n",
       "      <th>original_language</th>\n",
       "      <th>filename_ext</th>\n",
       "      <th>status</th>\n",
       "      <th>cpu_time</th>\n",
       "      <th>memory</th>\n",
       "      <th>code_size</th>\n",
       "      <th>accuracy</th>\n",
       "    </tr>\n",
       "    <tr>\n",
       "      <th>submission_id</th>\n",
       "      <th></th>\n",
       "      <th></th>\n",
       "      <th></th>\n",
       "      <th></th>\n",
       "      <th></th>\n",
       "      <th></th>\n",
       "      <th></th>\n",
       "      <th></th>\n",
       "      <th></th>\n",
       "      <th></th>\n",
       "      <th></th>\n",
       "    </tr>\n",
       "  </thead>\n",
       "  <tbody>\n",
       "    <tr>\n",
       "      <th>s694813024</th>\n",
       "      <td>p00000</td>\n",
       "      <td>u706566315</td>\n",
       "      <td>1540908251</td>\n",
       "      <td>Rust</td>\n",
       "      <td>Rust</td>\n",
       "      <td>rs</td>\n",
       "      <td>Wrong Answer</td>\n",
       "      <td>0</td>\n",
       "      <td>5012</td>\n",
       "      <td>120</td>\n",
       "      <td>0/1</td>\n",
       "    </tr>\n",
       "    <tr>\n",
       "      <th>s554950692</th>\n",
       "      <td>p00000</td>\n",
       "      <td>u706566315</td>\n",
       "      <td>1540908314</td>\n",
       "      <td>Rust</td>\n",
       "      <td>Rust</td>\n",
       "      <td>rs</td>\n",
       "      <td>Accepted</td>\n",
       "      <td>0</td>\n",
       "      <td>5004</td>\n",
       "      <td>124</td>\n",
       "      <td>1/1</td>\n",
       "    </tr>\n",
       "    <tr>\n",
       "      <th>s555203498</th>\n",
       "      <td>p00000</td>\n",
       "      <td>u759934006</td>\n",
       "      <td>1513417513</td>\n",
       "      <td>Rust</td>\n",
       "      <td>Rust</td>\n",
       "      <td>rs</td>\n",
       "      <td>Accepted</td>\n",
       "      <td>0</td>\n",
       "      <td>5020</td>\n",
       "      <td>136</td>\n",
       "      <td>1/1</td>\n",
       "    </tr>\n",
       "    <tr>\n",
       "      <th>s309783173</th>\n",
       "      <td>p00000</td>\n",
       "      <td>u233505136</td>\n",
       "      <td>1516826051</td>\n",
       "      <td>Rust</td>\n",
       "      <td>Rust</td>\n",
       "      <td>rs</td>\n",
       "      <td>Accepted</td>\n",
       "      <td>0</td>\n",
       "      <td>5004</td>\n",
       "      <td>123</td>\n",
       "      <td>1/1</td>\n",
       "    </tr>\n",
       "    <tr>\n",
       "      <th>s184977351</th>\n",
       "      <td>p00000</td>\n",
       "      <td>u191088660</td>\n",
       "      <td>1517740150</td>\n",
       "      <td>Rust</td>\n",
       "      <td>Rust</td>\n",
       "      <td>rs</td>\n",
       "      <td>Accepted</td>\n",
       "      <td>0</td>\n",
       "      <td>5004</td>\n",
       "      <td>122</td>\n",
       "      <td>1/1</td>\n",
       "    </tr>\n",
       "  </tbody>\n",
       "</table>\n",
       "</div>"
      ],
      "text/plain": [
       "              problem_id     user_id        date language original_language  \\\n",
       "submission_id                                                                 \n",
       "s694813024        p00000  u706566315  1540908251     Rust              Rust   \n",
       "s554950692        p00000  u706566315  1540908314     Rust              Rust   \n",
       "s555203498        p00000  u759934006  1513417513     Rust              Rust   \n",
       "s309783173        p00000  u233505136  1516826051     Rust              Rust   \n",
       "s184977351        p00000  u191088660  1517740150     Rust              Rust   \n",
       "\n",
       "              filename_ext        status  cpu_time  memory  code_size accuracy  \n",
       "submission_id                                                                   \n",
       "s694813024              rs  Wrong Answer         0    5012        120      0/1  \n",
       "s554950692              rs      Accepted         0    5004        124      1/1  \n",
       "s555203498              rs      Accepted         0    5020        136      1/1  \n",
       "s309783173              rs      Accepted         0    5004        123      1/1  \n",
       "s184977351              rs      Accepted         0    5004        122      1/1  "
      ]
     },
     "metadata": {},
     "output_type": "display_data"
    }
   ],
   "source": [
    "# Load the problem metadata\n",
    "problem_ids = problem_list_df.index.unique()\n",
    "problem_id = 'p00000'\n",
    "\n",
    "problem_df = pd.read_csv(metadata_path + f'{problem_id}.csv')\n",
    "problem_df.set_index('submission_id', inplace=True)\n",
    "\n",
    "print(f\"We have {len(problem_df)} submissions for problem {problem_id}\")\n",
    "print('The distribution of the programming languages is')\n",
    "print(problem_df['language'].value_counts())\n",
    "print('The distribution of the status is')\n",
    "print(problem_df['status'].value_counts())\n",
    "print('The number of users that attempted this problem', len(problem_df['user_id'].unique()))\n",
    "print('The average number of submissions of a user', problem_df.groupby('user_id').size().mean())\n",
    "print('The min number of submissions of a user', problem_df.groupby('user_id').size().min())\n",
    "print('The median number of submissions of a user', problem_df.groupby('user_id').size().median())\n",
    "print('The max number of submissions of a user', problem_df.groupby('user_id').size().max())\n",
    "display(problem_df.head())"
   ]
  },
  {
   "cell_type": "markdown",
   "id": "d80d3e38",
   "metadata": {},
   "source": [
    "We can see that for this problem the top six used programming languages matches the top six of the entire dataset (C++, C, Java, Python, Ruby, C#) and also that the distribution of the status is again consistent, with around 50% accepted submissions and the rest being some form of error, according to the dataset paper. It looks like the number of users that tried this problem is very large, ~6000, the average number of submission being equal to 2.7, but in this case we can see that the average is not that useful, it being very sensitive to outliers, as there is an user that sent over 1000 submissions, so I think that the median is a better metric for trying to see how hard a problem was. In the case of the first problem the median number of submissions for a single user is 1, so we can assume that this problem was easy to solve. Now I think that C is a simple enough language so we can take a subsample of the first problem containing only the C solutions and continue from there."
   ]
  },
  {
   "cell_type": "code",
   "execution_count": 6,
   "id": "85c7b3b7",
   "metadata": {
    "ExecuteTime": {
     "end_time": "2021-12-05T07:20:01.677516Z",
     "start_time": "2021-12-05T07:20:01.646746Z"
    }
   },
   "outputs": [
    {
     "name": "stdout",
     "output_type": "stream",
     "text": [
      "We have 4849 submissions for problem p00000\n",
      "The distribution of the programming languages is\n",
      "C    4849\n",
      "Name: language, dtype: int64\n",
      "The distribution of the status is\n",
      "Accepted                  2089\n",
      "Wrong Answer              1126\n",
      "Compile Error              993\n",
      "Runtime Error              389\n",
      "WA: Presentation Error     189\n",
      "Time Limit Exceeded         61\n",
      "Memory Limit Exceeded        2\n",
      "Name: status, dtype: int64\n",
      "The number of users that attempted this problem 1704\n",
      "The average number of submissions of a user 2.845657276995305\n",
      "The min number of submissions of a user 1\n",
      "The median number of submissions of a user 1.0\n",
      "The max number of submissions of a user 865\n"
     ]
    },
    {
     "data": {
      "text/html": [
       "<div>\n",
       "<style scoped>\n",
       "    .dataframe tbody tr th:only-of-type {\n",
       "        vertical-align: middle;\n",
       "    }\n",
       "\n",
       "    .dataframe tbody tr th {\n",
       "        vertical-align: top;\n",
       "    }\n",
       "\n",
       "    .dataframe thead th {\n",
       "        text-align: right;\n",
       "    }\n",
       "</style>\n",
       "<table border=\"1\" class=\"dataframe\">\n",
       "  <thead>\n",
       "    <tr style=\"text-align: right;\">\n",
       "      <th></th>\n",
       "      <th>problem_id</th>\n",
       "      <th>user_id</th>\n",
       "      <th>date</th>\n",
       "      <th>language</th>\n",
       "      <th>original_language</th>\n",
       "      <th>filename_ext</th>\n",
       "      <th>status</th>\n",
       "      <th>cpu_time</th>\n",
       "      <th>memory</th>\n",
       "      <th>code_size</th>\n",
       "      <th>accuracy</th>\n",
       "    </tr>\n",
       "    <tr>\n",
       "      <th>submission_id</th>\n",
       "      <th></th>\n",
       "      <th></th>\n",
       "      <th></th>\n",
       "      <th></th>\n",
       "      <th></th>\n",
       "      <th></th>\n",
       "      <th></th>\n",
       "      <th></th>\n",
       "      <th></th>\n",
       "      <th></th>\n",
       "      <th></th>\n",
       "    </tr>\n",
       "  </thead>\n",
       "  <tbody>\n",
       "    <tr>\n",
       "      <th>s113530555</th>\n",
       "      <td>p00000</td>\n",
       "      <td>u564373483</td>\n",
       "      <td>1530931912</td>\n",
       "      <td>C</td>\n",
       "      <td>C</td>\n",
       "      <td>c</td>\n",
       "      <td>Accepted</td>\n",
       "      <td>0</td>\n",
       "      <td>2036</td>\n",
       "      <td>148</td>\n",
       "      <td>1/1</td>\n",
       "    </tr>\n",
       "    <tr>\n",
       "      <th>s650564374</th>\n",
       "      <td>p00000</td>\n",
       "      <td>u011621222</td>\n",
       "      <td>1530986413</td>\n",
       "      <td>C</td>\n",
       "      <td>C</td>\n",
       "      <td>c</td>\n",
       "      <td>Wrong Answer</td>\n",
       "      <td>0</td>\n",
       "      <td>2044</td>\n",
       "      <td>177</td>\n",
       "      <td>0/1</td>\n",
       "    </tr>\n",
       "    <tr>\n",
       "      <th>s054320558</th>\n",
       "      <td>p00000</td>\n",
       "      <td>u011621222</td>\n",
       "      <td>1530987028</td>\n",
       "      <td>C</td>\n",
       "      <td>C</td>\n",
       "      <td>c</td>\n",
       "      <td>Wrong Answer</td>\n",
       "      <td>0</td>\n",
       "      <td>2044</td>\n",
       "      <td>191</td>\n",
       "      <td>0/1</td>\n",
       "    </tr>\n",
       "    <tr>\n",
       "      <th>s104411660</th>\n",
       "      <td>p00000</td>\n",
       "      <td>u011621222</td>\n",
       "      <td>1531006441</td>\n",
       "      <td>C</td>\n",
       "      <td>C</td>\n",
       "      <td>c</td>\n",
       "      <td>Wrong Answer</td>\n",
       "      <td>0</td>\n",
       "      <td>2032</td>\n",
       "      <td>197</td>\n",
       "      <td>0/1</td>\n",
       "    </tr>\n",
       "    <tr>\n",
       "      <th>s966149516</th>\n",
       "      <td>p00000</td>\n",
       "      <td>u011621222</td>\n",
       "      <td>1531030321</td>\n",
       "      <td>C</td>\n",
       "      <td>C</td>\n",
       "      <td>c</td>\n",
       "      <td>Wrong Answer</td>\n",
       "      <td>0</td>\n",
       "      <td>1984</td>\n",
       "      <td>190</td>\n",
       "      <td>0/1</td>\n",
       "    </tr>\n",
       "  </tbody>\n",
       "</table>\n",
       "</div>"
      ],
      "text/plain": [
       "              problem_id     user_id        date language original_language  \\\n",
       "submission_id                                                                 \n",
       "s113530555        p00000  u564373483  1530931912        C                 C   \n",
       "s650564374        p00000  u011621222  1530986413        C                 C   \n",
       "s054320558        p00000  u011621222  1530987028        C                 C   \n",
       "s104411660        p00000  u011621222  1531006441        C                 C   \n",
       "s966149516        p00000  u011621222  1531030321        C                 C   \n",
       "\n",
       "              filename_ext        status  cpu_time  memory  code_size accuracy  \n",
       "submission_id                                                                   \n",
       "s113530555               c      Accepted         0    2036        148      1/1  \n",
       "s650564374               c  Wrong Answer         0    2044        177      0/1  \n",
       "s054320558               c  Wrong Answer         0    2044        191      0/1  \n",
       "s104411660               c  Wrong Answer         0    2032        197      0/1  \n",
       "s966149516               c  Wrong Answer         0    1984        190      0/1  "
      ]
     },
     "metadata": {},
     "output_type": "display_data"
    }
   ],
   "source": [
    "# Select a subset that uses a single programming language of the submissions\n",
    "languages = problem_df['language'].unique()\n",
    "language = 'C'\n",
    "\n",
    "problem_df = problem_df[problem_df['language'] == language]\n",
    "\n",
    "print(f\"We have {len(problem_df)} submissions for problem {problem_id}\")\n",
    "print('The distribution of the programming languages is')\n",
    "print(problem_df['language'].value_counts())\n",
    "print('The distribution of the status is')\n",
    "print(problem_df['status'].value_counts())\n",
    "print('The number of users that attempted this problem', len(problem_df['user_id'].unique()))\n",
    "print('The average number of submissions of a user', problem_df.groupby('user_id').size().mean())\n",
    "print('The min number of submissions of a user', problem_df.groupby('user_id').size().min())\n",
    "print('The median number of submissions of a user', problem_df.groupby('user_id').size().median())\n",
    "print('The max number of submissions of a user', problem_df.groupby('user_id').size().max())\n",
    "display(problem_df.head())"
   ]
  },
  {
   "cell_type": "markdown",
   "id": "f6998813",
   "metadata": {},
   "source": [
    "Again it looks like the distribution of the statistics is consistent with the entire dataset even for this subset. Now it would be interesting to see some examples of solutions found for this problem. Let's start by creating a function that reads a C submission from the dataset source files."
   ]
  },
  {
   "cell_type": "code",
   "execution_count": 7,
   "id": "9754acee",
   "metadata": {
    "ExecuteTime": {
     "end_time": "2021-12-05T07:20:06.349584Z",
     "start_time": "2021-12-05T07:20:06.331634Z"
    },
    "scrolled": true
   },
   "outputs": [
    {
     "name": "stdout",
     "output_type": "stream",
     "text": [
      "#include<stdio.h>\n",
      "\n",
      "int main(){\n",
      "  int i,j;\n",
      "\n",
      "  for(i=1;i<10;i++){\n",
      "    for(j=1;j<10;j++){\n",
      "      printf(\"%dx%d=%d\\n\",i,j,i*j);\n",
      "    }\n",
      "  }\n",
      "\n",
      "  return 0;\n",
      "}\n"
     ]
    }
   ],
   "source": [
    "# We can hardcode for now that the language we use is C,\n",
    "# the extension is '.c' and that the problem that we are\n",
    "# interested in is the first one 'p00000'.\n",
    "\n",
    "def read_submission_file(submission):\n",
    "    with open(id2submission('p00000', 'C', submission, 'c')) as f:\n",
    "        text = f.readlines()\n",
    "\n",
    "    return text\n",
    "\n",
    "sys.stdout.writelines(read_submission_file(problem_df[problem_df['status'] == 'Accepted'].index[0]))"
   ]
  },
  {
   "cell_type": "markdown",
   "id": "746c7196",
   "metadata": {},
   "source": [
    "Now it looks like this submission was successful so let's try and find some users that had some difficulties and sent more than one submission."
   ]
  },
  {
   "cell_type": "code",
   "execution_count": 8,
   "id": "a6dee5aa",
   "metadata": {
    "ExecuteTime": {
     "end_time": "2021-12-05T07:20:10.369362Z",
     "start_time": "2021-12-05T07:20:09.493912Z"
    }
   },
   "outputs": [
    {
     "name": "stdout",
     "output_type": "stream",
     "text": [
      "Out of 1704, 747 users have more than 1 submission\n"
     ]
    }
   ],
   "source": [
    "counter = 0\n",
    "\n",
    "user_ids = problem_df['user_id'].unique()\n",
    "for user_id in user_ids:\n",
    "    submission_df = problem_df[problem_df['user_id'] == user_id]\n",
    "    \n",
    "    if len(submission_df) < 2:\n",
    "        continue\n",
    "        \n",
    "    counter += 1\n",
    "    \n",
    "print(f'Out of {len(user_ids)}, {counter} users have more than 1 submission')"
   ]
  },
  {
   "cell_type": "markdown",
   "id": "d7329045",
   "metadata": {},
   "source": [
    "One interesting aspect here is how many users sent more than one submission and also have submissions of the form (failed, accepted) and have only one instruction changed so that we can understand what change made their code work. To do this we need to implement a function that calls the diff utility in the linux shell. Also to check if a diff output has only one instruction changed we need to implement a grouping function."
   ]
  },
  {
   "cell_type": "code",
   "execution_count": 9,
   "id": "e3c3b4f7",
   "metadata": {
    "ExecuteTime": {
     "end_time": "2021-12-05T07:20:11.595292Z",
     "start_time": "2021-12-05T07:20:11.588665Z"
    }
   },
   "outputs": [],
   "source": [
    "def exec_diff(original_path, changed_path):\n",
    "    process = subprocess.Popen(['diff', original_path, changed_path], \n",
    "                               stdout=subprocess.PIPE,\n",
    "                               universal_newlines=True)\n",
    "    diff, error = process.communicate()\n",
    "\n",
    "    return diff\n",
    "\n",
    "def group_diff_chunks(diff):\n",
    "    \"\"\"\n",
    "    This function creates a list by extracting the start line, end line for\n",
    "    the files in the diff that are of the form n[,n]cn[,n] (the output of the\n",
    "    diff command in shell)\n",
    "    \"\"\"\n",
    "    def normalize_chunk(chunk):\n",
    "        s1, e1, s2, e2 = chunk\n",
    "\n",
    "        s1 = int(s1)\n",
    "        e1 = (s1 if not e1 else int(e1)) + 1\n",
    "        s2 = int(s2)\n",
    "        e2 = (s2 if not e2 else int(e2)) + 1\n",
    "\n",
    "        return s1, e1, s2, e2\n",
    "\n",
    "    p = re.compile(r'^([0-9]+),?([0-9]*)[a-zA-Z]([0-9]+),?([0-9]*)', re.MULTILINE)\n",
    "    chunks = p.findall(diff)\n",
    "\n",
    "    return [normalize_chunk(chunk) for chunk in chunks]\n",
    "\n",
    "def single_change(chunk):\n",
    "    s1, e1, s2, e2 = chunk\n",
    "\n",
    "    return e1 - s1 == e2 - s2 == 1"
   ]
  },
  {
   "cell_type": "code",
   "execution_count": 10,
   "id": "43da292b",
   "metadata": {
    "ExecuteTime": {
     "end_time": "2021-12-05T07:20:40.712044Z",
     "start_time": "2021-12-05T07:20:12.983283Z"
    }
   },
   "outputs": [
    {
     "name": "stdout",
     "output_type": "stream",
     "text": [
      "Out of 3145, 394 submissions have a single instruction changed\n"
     ]
    }
   ],
   "source": [
    "counter = 0\n",
    "total_counter = 0\n",
    "\n",
    "user_ids = problem_df['user_id'].unique()\n",
    "for user_id in user_ids:\n",
    "    submission_df = problem_df[problem_df['user_id'] == user_id]\n",
    "\n",
    "    if len(submission_df) < 2:\n",
    "        continue\n",
    "\n",
    "    submission_ids = submission_df.index.unique()\n",
    "    original_id = submission_ids[0]\n",
    "    for original_id, changed_id in zip(submission_ids, submission_ids[1:]):\n",
    "        original_path = id2submission('p00000', 'C', original_id, 'c')\n",
    "        changed_path = id2submission('p00000', 'C', changed_id, 'c')\n",
    "        \n",
    "        diff = exec_diff(original_path, changed_path)\n",
    "\n",
    "        chunks = group_diff_chunks(diff)\n",
    "\n",
    "        if len(chunks) == 1 and single_change(chunks[0]):\n",
    "            original_status = submission_df.loc[original_id, 'status']\n",
    "            changed_status = submission_df.loc[changed_id, 'status']\n",
    "\n",
    "            if changed_status == 'Accepted' and original_status != 'Accepted':\n",
    "                counter += 1\n",
    "        \n",
    "        total_counter += 1\n",
    "                \n",
    "print(f'Out of {total_counter}, {counter} submissions have a single instruction changed')"
   ]
  },
  {
   "cell_type": "markdown",
   "id": "1691834f",
   "metadata": {},
   "source": [
    "So it looks like we have some users that changed a single instruction and then managed to make their solution work. One problem with this algorithm is that it is quite slow since it needs to execute diff from python, so as a solution we can use a function already implemented from the difflib library with some wrapper methods from github: https://github.com/glanois/code I changed something from this implementation though, which was causing the function to print the delimiters with new lines intercalated https://github.com/alexjercan/code."
   ]
  },
  {
   "cell_type": "markdown",
   "id": "2e9f281f",
   "metadata": {},
   "source": [
    "# Generate Source Code Pairs\n",
    "\n",
    "### Task 1.1: Get the source code pairs\n",
    "- for each problem:\n",
    "- group solutions by user and select the solutions that are consecutive and of the form (Error, Accepted) with only one instruction (line) changed; heuristic to search a smaller space, since a user might submit a correct solution after a wrong one\n",
    "- get the diff lines and error type\n",
    "- build a df from this list and save it\n",
    "- sanity check: check that the error types of this df are the same as the types in the problem metadata: Success\n",
    "- done\n",
    "\n",
    "Up until this point we played around with single files and checked the looked at how we can load the source code from the dataset. In this section we will see how we can get the diff between source code files and more specifically the instruction (given by the line in the file) that caused a problem."
   ]
  },
  {
   "cell_type": "code",
   "execution_count": 11,
   "id": "23aa941b",
   "metadata": {
    "ExecuteTime": {
     "end_time": "2021-12-05T07:20:40.721170Z",
     "start_time": "2021-12-05T07:20:40.714122Z"
    }
   },
   "outputs": [],
   "source": [
    "class POSIXDiffer(Differ):\n",
    "    \"\"\"\n",
    "    This class produces differences in the POSIX default format\n",
    "    (see http://www.unix.com/man-page/POSIX/1posix/diff/),\n",
    "    which is the same as the Gnu diff \"normal format\"\n",
    "    (see http://www.gnu.org/software/diffutils/manual/diffutils.html#Normal).\n",
    "    \"\"\"\n",
    "\n",
    "    def compare(self, a, b):\n",
    "        cruncher = SequenceMatcher(self.linejunk, a, b)\n",
    "        for tag, alo, ahi, blo, bhi in cruncher.get_opcodes():\n",
    "            if alo == ahi:\n",
    "                f1 = '%d' % alo\n",
    "            elif alo+1 == ahi:\n",
    "                f1 = '%d' % (alo+1)\n",
    "            else:\n",
    "                f1 = '%d,%d' % (alo+1, ahi)\n",
    "\n",
    "            if blo == bhi:\n",
    "                f2 = '%d' % blo\n",
    "            elif blo+1 == bhi:\n",
    "                f2 = '%d' % (blo+1)\n",
    "            else:\n",
    "                f2 = '%d,%d' % (blo+1, bhi)\n",
    "\n",
    "            if tag == 'replace':\n",
    "                g = itertools.chain([ '%sc%s\\n' % (f1, f2) ], self._my_plain_replace(a, alo, ahi, b, blo, bhi))\n",
    "            elif tag == 'delete':\n",
    "                g = itertools.chain([ '%sd%s\\n' % (f1, f2) ], self._dump('<', a, alo, ahi))\n",
    "            elif tag == 'insert':\n",
    "                g = itertools.chain([ '%sa%s\\n' % (f1, f2) ], self._dump('>', b, blo, bhi))\n",
    "            elif tag == 'equal':\n",
    "                g = []\n",
    "            else:\n",
    "                raise(ValueError, 'unknown tag %r' % (tag,))\n",
    "\n",
    "            for line in g:\n",
    "                yield line\n",
    "\n",
    "    def _my_plain_replace(self, a, alo, ahi, b, blo, bhi):\n",
    "        assert alo < ahi and blo < bhi\n",
    "        first  = self._dump('<', a, alo, ahi)\n",
    "        second = self._dump('>', b, blo, bhi)\n",
    "\n",
    "        for g in first, ['---\\n'], second:\n",
    "            for line in g:\n",
    "                yield line\n",
    "\n",
    "\n",
    "def pdiff(a, b):\n",
    "    \"\"\"\n",
    "    Compare `a` and `b` (lists of strings); return a POSIX/Gnu \"normal format\" diff.\n",
    "    \"\"\"\n",
    "    return POSIXDiffer().compare(a, b)\n"
   ]
  },
  {
   "cell_type": "code",
   "execution_count": 12,
   "id": "ec22122b",
   "metadata": {
    "ExecuteTime": {
     "end_time": "2021-12-05T07:20:40.731418Z",
     "start_time": "2021-12-05T07:20:40.722303Z"
    }
   },
   "outputs": [],
   "source": [
    "def read_submission_file(problem_id, language, submission_id, extension):\n",
    "    \"\"\"\n",
    "    Read the source code as a list of lines for a given problem and submission id\n",
    "    the language and extension are also required to complete the path to the file\n",
    "    \"\"\"\n",
    "    with open(id2submission(problem_id, language, submission_id, extension)) as f:\n",
    "        text = f.readlines()\n",
    "\n",
    "    return text"
   ]
  },
  {
   "cell_type": "code",
   "execution_count": 13,
   "id": "e6559a89",
   "metadata": {
    "ExecuteTime": {
     "end_time": "2021-12-05T07:20:42.216337Z",
     "start_time": "2021-12-05T07:20:40.734750Z"
    }
   },
   "outputs": [
    {
     "name": "stdout",
     "output_type": "stream",
     "text": [
      "Out of 3145, 394 submissions have a single instruction changed\n"
     ]
    }
   ],
   "source": [
    "counter = 0\n",
    "total_counter = 0\n",
    "\n",
    "user_ids = problem_df['user_id'].unique()\n",
    "for user_id in user_ids:\n",
    "    submission_df = problem_df[problem_df['user_id'] == user_id]\n",
    "\n",
    "    if len(submission_df) < 2:\n",
    "        continue\n",
    "\n",
    "    submission_ids = submission_df.index.unique()\n",
    "    original_id = submission_ids[0]\n",
    "    for original_id, changed_id in zip(submission_ids, submission_ids[1:]):\n",
    "        original_text = read_submission_file('p00000', 'C', original_id, 'c')\n",
    "        changed_text = read_submission_file('p00000', 'C', changed_id, 'c')\n",
    "        \n",
    "        diff = pdiff(original_text, changed_text)\n",
    "        diff = ''.join(diff)\n",
    "\n",
    "        chunks = group_diff_chunks(diff)\n",
    "\n",
    "        if len(chunks) == 1 and single_change(chunks[0]):\n",
    "            original_status = submission_df.loc[original_id, 'status']\n",
    "            changed_status = submission_df.loc[changed_id, 'status']\n",
    "\n",
    "            if changed_status == 'Accepted' and original_status != 'Accepted':\n",
    "                counter += 1\n",
    "                \n",
    "        total_counter += 1\n",
    "                \n",
    "print(f'Out of {total_counter}, {counter} submissions have a single instruction changed')"
   ]
  },
  {
   "cell_type": "markdown",
   "id": "0c425055",
   "metadata": {},
   "source": [
    "Now this runs much faster and we get the same result as with using the diff tool. Great so now we can easily find two consecutive submissions and see the instruction that was changed to make a status changed from failed to success."
   ]
  },
  {
   "cell_type": "code",
   "execution_count": 14,
   "id": "fbe5ff22",
   "metadata": {
    "ExecuteTime": {
     "end_time": "2021-12-05T07:20:54.541707Z",
     "start_time": "2021-12-05T07:20:54.518147Z"
    }
   },
   "outputs": [],
   "source": [
    "def preprocess_problem_for_language(problem_df, problem_id, language='C', extension='c'):\n",
    "    \"\"\"\n",
    "    Given the problem metadata dataframe, the problem id (which is just the id from the\n",
    "    dataframe), tha programming language and extension for the filepath\n",
    "    iterate over all the users and group their solutions in smaller tables\n",
    "    Then iterate over the submissions with a window of size 2 and\n",
    "    if there are two consecutive attempts that can form a pair\n",
    "    (error, accepted) and the difference between the source files\n",
    "    is just a single instruction, add this pair to the result\n",
    "    \"\"\"\n",
    "    result = []\n",
    "\n",
    "    user_ids = problem_df['user_id'].unique()\n",
    "    for user_id in user_ids:\n",
    "        submission_df = problem_df[problem_df['user_id'] == user_id]\n",
    "\n",
    "        if len(submission_df) < 2:\n",
    "            continue\n",
    "\n",
    "        submission_ids = submission_df.index.unique()\n",
    "        original_id = submission_ids[0]\n",
    "        for original_id, changed_id in zip(submission_ids, submission_ids[1:]):\n",
    "            original_text = read_submission_file(problem_id, language, original_id, extension)\n",
    "            changed_text = read_submission_file(problem_id, language, changed_id, extension)\n",
    "\n",
    "            diff = pdiff(original_text, changed_text)\n",
    "            diff = ''.join(diff)\n",
    "\n",
    "            chunks = group_diff_chunks(diff)\n",
    "\n",
    "            if len(chunks) == 1 and single_change(chunks[0]):\n",
    "                original_status = submission_df.loc[original_id, 'status']\n",
    "                changed_status = submission_df.loc[changed_id, 'status']\n",
    "                original_language = submission_df.loc[changed_id, 'original_language']\n",
    "\n",
    "                if changed_status == 'Accepted' and original_status != 'Accepted':\n",
    "                    result.append((\n",
    "                        original_id,\n",
    "                        changed_id,\n",
    "                        chunks[0][0],\n",
    "                        chunks[0][2],\n",
    "                        original_status,\n",
    "                        original_language\n",
    "                    ))\n",
    "\n",
    "    return result"
   ]
  },
  {
   "cell_type": "code",
   "execution_count": 15,
   "id": "4918f00e",
   "metadata": {
    "ExecuteTime": {
     "end_time": "2021-12-05T07:21:09.078397Z",
     "start_time": "2021-12-05T07:21:07.672196Z"
    }
   },
   "outputs": [
    {
     "data": {
      "text/plain": [
       "('s381898998', 's865898267', 9, 9, 'Wrong Answer', 'C')"
      ]
     },
     "execution_count": 15,
     "metadata": {},
     "output_type": "execute_result"
    }
   ],
   "source": [
    "result = preprocess_problem_for_language(problem_df, problem_id='p00000', language='C', extension='c')\n",
    "(original_id, changed_id, original_start, changed_start, original_status, original_language) = result[0]\n",
    "result[0]"
   ]
  },
  {
   "cell_type": "markdown",
   "id": "872f0d58",
   "metadata": {},
   "source": [
    "In the result we can see the two submission ids and the ranges of the change in the file. The line numbers start from 1 (the usual convention for text files) and should act as a range (start, end not included). Now that we have an example of a solution that had a single instruction changed let's visualize the diff."
   ]
  },
  {
   "cell_type": "code",
   "execution_count": 16,
   "id": "ede445d0",
   "metadata": {
    "ExecuteTime": {
     "end_time": "2021-12-05T07:21:11.236128Z",
     "start_time": "2021-12-05T07:21:11.223340Z"
    }
   },
   "outputs": [
    {
     "name": "stdout",
     "output_type": "stream",
     "text": [
      "9c9\n",
      "<       printf(\"%dX%d=%d\\n\", n, i, n*i);\n",
      "---\n",
      ">       printf(\"%dx%d=%d\\n\", n, i, n*i);\n"
     ]
    }
   ],
   "source": [
    "original_text = read_submission_file('p00000', 'C', original_id, 'c')\n",
    "changed_text = read_submission_file('p00000', 'C', changed_id, 'c')\n",
    "\n",
    "diff = pdiff(original_text, changed_text)\n",
    "sys.stdout.writelines(diff)"
   ]
  },
  {
   "cell_type": "markdown",
   "id": "09f80ea6",
   "metadata": {},
   "source": [
    "In this example we can see that the diff in both files starts and ends on the 9th line of the file, this is reflected in the ranges from the result (9, 10), (9, 10). This example looks like a spelling error, where the user though that the product symbol for this problem output was a capital X instead of a lower case x. With some more attention this error could have been caught if the description had some output examples or constraints indicators. So let's take a look a the description file for this example."
   ]
  },
  {
   "cell_type": "code",
   "execution_count": 17,
   "id": "59ff3866",
   "metadata": {
    "ExecuteTime": {
     "end_time": "2021-12-05T07:21:12.879357Z",
     "start_time": "2021-12-05T07:21:12.866548Z"
    }
   },
   "outputs": [
    {
     "data": {
      "text/html": [
       "\n",
       "\n",
       "<H1>QQ</H1>\n",
       "\n",
       "\n",
       "<p>\n",
       "Write a program which prints multiplication tables in the following format:\n",
       "</p>\n",
       "\n",
       "<pre>\n",
       "1x1=1\n",
       "1x2=2\n",
       ".\n",
       ".\n",
       "9x8=72\n",
       "9x9=81\n",
       "</pre>\n",
       "\n",
       "<H2>Input</H2>\n",
       "\n",
       "<p>\n",
       "No input.\n",
       "</p>\n",
       "\n",
       "<H2>Output</H2>\n",
       "\n",
       "<pre>\n",
       "1x1=1\n",
       "1x2=2\n",
       ".\n",
       ".\n",
       "9x8=72\n",
       "9x9=81\n",
       "</pre>\n",
       "\n",
       "\n",
       "<H2>Template for C</H2>\n",
       "\n",
       "<pre>\n",
       "#include&lt;stdio.h&gt;\n",
       "\n",
       "int main(){\n",
       "\n",
       "    return 0;\n",
       "}\n",
       "</pre>\n",
       "\n",
       "<H2>Template for C++</H2>\n",
       "\n",
       "<pre>\n",
       "#include&lt;iostream&gt;\n",
       "using namespace std;\n",
       "\n",
       "int main(){\n",
       "\n",
       "    return 0;\n",
       "}\n",
       "</pre>\n",
       "\n",
       "\n",
       "<H2>Template for Java</H2>\n",
       "\n",
       "<pre>\n",
       "class Main{\n",
       "    public static void main(String[] a){\n",
       "\n",
       "    }\n",
       "}\n",
       "</pre>"
      ],
      "text/plain": [
       "<IPython.core.display.HTML object>"
      ]
     },
     "metadata": {},
     "output_type": "display_data"
    }
   ],
   "source": [
    "with open(id2desc('p00000')) as f:\n",
    "    text = f.readlines()\n",
    "display(HTML(''.join(text)))"
   ]
  },
  {
   "cell_type": "markdown",
   "id": "e088fd08",
   "metadata": {},
   "source": [
    "From this example we can see that the output sample gave some hints towards why the first solution did not work, it should have used lower case x. Now let's look for some other interesting error cases. First let's convert the result array to a pandas DataFrame for faster searching."
   ]
  },
  {
   "cell_type": "code",
   "execution_count": 18,
   "id": "355d73df",
   "metadata": {
    "ExecuteTime": {
     "end_time": "2021-12-05T07:21:19.356417Z",
     "start_time": "2021-12-05T07:21:19.339485Z"
    }
   },
   "outputs": [
    {
     "data": {
      "text/html": [
       "<div>\n",
       "<style scoped>\n",
       "    .dataframe tbody tr th:only-of-type {\n",
       "        vertical-align: middle;\n",
       "    }\n",
       "\n",
       "    .dataframe tbody tr th {\n",
       "        vertical-align: top;\n",
       "    }\n",
       "\n",
       "    .dataframe thead th {\n",
       "        text-align: right;\n",
       "    }\n",
       "</style>\n",
       "<table border=\"1\" class=\"dataframe\">\n",
       "  <thead>\n",
       "    <tr style=\"text-align: right;\">\n",
       "      <th></th>\n",
       "      <th>original_id</th>\n",
       "      <th>changed_id</th>\n",
       "      <th>original_start</th>\n",
       "      <th>changed_start</th>\n",
       "      <th>original_status</th>\n",
       "      <th>original_language</th>\n",
       "      <th>problem_id</th>\n",
       "      <th>language</th>\n",
       "      <th>filename_ext</th>\n",
       "    </tr>\n",
       "  </thead>\n",
       "  <tbody>\n",
       "    <tr>\n",
       "      <th>0</th>\n",
       "      <td>s381898998</td>\n",
       "      <td>s865898267</td>\n",
       "      <td>9</td>\n",
       "      <td>9</td>\n",
       "      <td>Wrong Answer</td>\n",
       "      <td>C</td>\n",
       "      <td>p00000</td>\n",
       "      <td>C</td>\n",
       "      <td>c</td>\n",
       "    </tr>\n",
       "    <tr>\n",
       "      <th>1</th>\n",
       "      <td>s749240628</td>\n",
       "      <td>s634652749</td>\n",
       "      <td>11</td>\n",
       "      <td>11</td>\n",
       "      <td>Wrong Answer</td>\n",
       "      <td>C</td>\n",
       "      <td>p00000</td>\n",
       "      <td>C</td>\n",
       "      <td>c</td>\n",
       "    </tr>\n",
       "    <tr>\n",
       "      <th>2</th>\n",
       "      <td>s607203127</td>\n",
       "      <td>s502818484</td>\n",
       "      <td>9</td>\n",
       "      <td>9</td>\n",
       "      <td>Wrong Answer</td>\n",
       "      <td>C</td>\n",
       "      <td>p00000</td>\n",
       "      <td>C</td>\n",
       "      <td>c</td>\n",
       "    </tr>\n",
       "    <tr>\n",
       "      <th>3</th>\n",
       "      <td>s719001213</td>\n",
       "      <td>s042257533</td>\n",
       "      <td>9</td>\n",
       "      <td>9</td>\n",
       "      <td>Wrong Answer</td>\n",
       "      <td>C</td>\n",
       "      <td>p00000</td>\n",
       "      <td>C</td>\n",
       "      <td>c</td>\n",
       "    </tr>\n",
       "    <tr>\n",
       "      <th>4</th>\n",
       "      <td>s066960572</td>\n",
       "      <td>s577188800</td>\n",
       "      <td>10</td>\n",
       "      <td>10</td>\n",
       "      <td>Wrong Answer</td>\n",
       "      <td>C</td>\n",
       "      <td>p00000</td>\n",
       "      <td>C</td>\n",
       "      <td>c</td>\n",
       "    </tr>\n",
       "  </tbody>\n",
       "</table>\n",
       "</div>"
      ],
      "text/plain": [
       "  original_id  changed_id  original_start  changed_start original_status  \\\n",
       "0  s381898998  s865898267               9              9    Wrong Answer   \n",
       "1  s749240628  s634652749              11             11    Wrong Answer   \n",
       "2  s607203127  s502818484               9              9    Wrong Answer   \n",
       "3  s719001213  s042257533               9              9    Wrong Answer   \n",
       "4  s066960572  s577188800              10             10    Wrong Answer   \n",
       "\n",
       "  original_language problem_id language filename_ext  \n",
       "0                 C     p00000        C            c  \n",
       "1                 C     p00000        C            c  \n",
       "2                 C     p00000        C            c  \n",
       "3                 C     p00000        C            c  \n",
       "4                 C     p00000        C            c  "
      ]
     },
     "execution_count": 18,
     "metadata": {},
     "output_type": "execute_result"
    }
   ],
   "source": [
    "columns = ['original_id', 'changed_id', 'original_start', 'changed_start', 'original_status', 'original_language']\n",
    "\n",
    "df = pd.DataFrame(result, columns=columns)\n",
    "df['problem_id'] = 'p00000'\n",
    "df['language'] = 'C'\n",
    "df['filename_ext'] = 'c'\n",
    "\n",
    "df.head()"
   ]
  },
  {
   "cell_type": "code",
   "execution_count": 19,
   "id": "5e0b8cb7",
   "metadata": {
    "ExecuteTime": {
     "end_time": "2021-12-05T07:21:24.459399Z",
     "start_time": "2021-12-05T07:21:24.453927Z"
    }
   },
   "outputs": [
    {
     "name": "stdout",
     "output_type": "stream",
     "text": [
      "There are 50 submissions that first had compilation errors\n"
     ]
    }
   ],
   "source": [
    "cdf = df[df['original_status'] == 'Compile Error']\n",
    "\n",
    "print(f'There are {len(cdf)} submissions that first had compilation errors')"
   ]
  },
  {
   "cell_type": "code",
   "execution_count": 20,
   "id": "229eb02b",
   "metadata": {
    "ExecuteTime": {
     "end_time": "2021-12-05T07:21:25.292779Z",
     "start_time": "2021-12-05T07:21:25.286374Z"
    }
   },
   "outputs": [
    {
     "name": "stdout",
     "output_type": "stream",
     "text": [
      "6a7\n",
      "> }\n"
     ]
    }
   ],
   "source": [
    "(original_id, changed_id, original_start, \n",
    " changed_start, original_status, original_language, problem_id, language, filename_ext) = cdf.iloc[0]\n",
    "\n",
    "original_text = read_submission_file(problem_id, language, original_id, filename_ext)\n",
    "changed_text = read_submission_file(problem_id, language, changed_id, filename_ext)\n",
    "\n",
    "diff = pdiff(original_text, changed_text)\n",
    "sys.stdout.writelines(diff)"
   ]
  },
  {
   "cell_type": "markdown",
   "id": "ddafb9ec",
   "metadata": {},
   "source": [
    "This compile error looks like it was caused by a missing bracket on line 6 in the original file. Let's also look at that file source code."
   ]
  },
  {
   "cell_type": "code",
   "execution_count": 21,
   "id": "bbc67ea9",
   "metadata": {
    "ExecuteTime": {
     "end_time": "2021-12-05T07:21:26.696500Z",
     "start_time": "2021-12-05T07:21:26.692023Z"
    }
   },
   "outputs": [
    {
     "name": "stdout",
     "output_type": "stream",
     "text": [
      "#include <stdio.h>\n",
      "int main(void){\n",
      "    for(int i=1;i<=9;i++){\n",
      "        for(int j=1;j<=9;j++){\n",
      "        printf(\"%dx%d=%d\\n\",i,j,i*j);\n",
      "    }\n",
      "    return 0;\n",
      "}\n",
      "\n"
     ]
    }
   ],
   "source": [
    "sys.stdout.writelines(original_text)"
   ]
  },
  {
   "cell_type": "markdown",
   "id": "b5efdf5e",
   "metadata": {},
   "source": [
    "At first the submission looks fine but the problem is the formatting which creates the illusion that everything should work. Let's try to use the gcc compiler and see how this error would look like."
   ]
  },
  {
   "cell_type": "code",
   "execution_count": 22,
   "id": "8dd6c9c1",
   "metadata": {
    "ExecuteTime": {
     "end_time": "2021-12-05T07:21:28.448661Z",
     "start_time": "2021-12-05T07:21:28.344889Z"
    }
   },
   "outputs": [
    {
     "name": "stdout",
     "output_type": "stream",
     "text": [
      "../input/Project_CodeNet/data/p00000/C/s937280655.c: In function ‘main’:\n",
      "../input/Project_CodeNet/data/p00000/C/s937280655.c:8:1: error: expected declaration or statement at end of input\n",
      "    8 | }\n",
      "      | ^\n"
     ]
    }
   ],
   "source": [
    "def exec_gcc(file_path, out='a.out'):\n",
    "    process = subprocess.Popen(['gcc', file_path], \n",
    "                               stdout=subprocess.PIPE,\n",
    "                               stderr=subprocess.PIPE,\n",
    "                               universal_newlines=True)\n",
    "    output, error = process.communicate()\n",
    "\n",
    "    return output, error\n",
    "\n",
    "file_path = id2submission(problem_id, language, original_id, filename_ext)\n",
    "sys.stdout.writelines(exec_gcc(file_path)[1])"
   ]
  },
  {
   "cell_type": "markdown",
   "id": "3ad50120",
   "metadata": {},
   "source": [
    "This doesn't look like the best error message given the formatting of the original file, but at least it hints towards a missing closing bracket."
   ]
  },
  {
   "cell_type": "code",
   "execution_count": 23,
   "id": "89b2e74a",
   "metadata": {
    "ExecuteTime": {
     "end_time": "2021-12-05T07:21:37.259141Z",
     "start_time": "2021-12-05T07:21:37.244712Z"
    }
   },
   "outputs": [
    {
     "name": "stdout",
     "output_type": "stream",
     "text": [
      "There are 73 submissions that first had runtime errors\n"
     ]
    }
   ],
   "source": [
    "cdf = df[df['original_status'] == 'Runtime Error']\n",
    "\n",
    "print(f'There are {len(cdf)} submissions that first had runtime errors')"
   ]
  },
  {
   "cell_type": "code",
   "execution_count": 24,
   "id": "9a322da5",
   "metadata": {
    "ExecuteTime": {
     "end_time": "2021-12-05T07:21:38.976617Z",
     "start_time": "2021-12-05T07:21:38.970876Z"
    }
   },
   "outputs": [
    {
     "name": "stdout",
     "output_type": "stream",
     "text": [
      "8a9\n",
      ">     return 0;\n"
     ]
    }
   ],
   "source": [
    "(original_id, changed_id, original_start, \n",
    " changed_start, original_status, original_language, problem_id, language, filename_ext) = cdf.iloc[0]\n",
    "\n",
    "original_text = read_submission_file(problem_id, language, original_id, filename_ext)\n",
    "changed_text = read_submission_file(problem_id, language, changed_id, filename_ext)\n",
    "\n",
    "diff = pdiff(original_text, changed_text)\n",
    "sys.stdout.writelines(diff)"
   ]
  },
  {
   "cell_type": "markdown",
   "id": "2c6eb8e3",
   "metadata": {},
   "source": [
    "This compile error looks like it was caused by a missing return statement on line 8 in the original file. Let's also look at that file source code."
   ]
  },
  {
   "cell_type": "code",
   "execution_count": 25,
   "id": "fd4d71bb",
   "metadata": {
    "ExecuteTime": {
     "end_time": "2021-12-05T07:21:47.980041Z",
     "start_time": "2021-12-05T07:21:47.976880Z"
    }
   },
   "outputs": [
    {
     "name": "stdout",
     "output_type": "stream",
     "text": [
      "#include<stdio.h>\n",
      "int main(){\n",
      "    int i,j;\n",
      "    for(i=1;i<=9;i++){\n",
      "        for(j=1;j<=9;j++){\n",
      "            printf(\"%dx%d=%d\\n\",i,j,i*j);\n",
      "        }\n",
      "    }\n",
      "}"
     ]
    }
   ],
   "source": [
    "sys.stdout.writelines(original_text)"
   ]
  },
  {
   "cell_type": "code",
   "execution_count": 30,
   "id": "1c7e680f",
   "metadata": {
    "ExecuteTime": {
     "end_time": "2021-12-05T07:22:54.420282Z",
     "start_time": "2021-12-05T07:22:54.359124Z"
    }
   },
   "outputs": [],
   "source": [
    "def exec_gcc(file_path, out='a.out'):\n",
    "    process = subprocess.Popen(['gcc', '-std=c90', file_path], \n",
    "                               stdout=subprocess.PIPE,\n",
    "                               stderr=subprocess.PIPE,\n",
    "                               universal_newlines=True)\n",
    "    output, error = process.communicate()\n",
    "\n",
    "    return output, error\n",
    "\n",
    "file_path = id2submission(problem_id, language, original_id, filename_ext)\n",
    "sys.stdout.writelines(exec_gcc(file_path)[1])"
   ]
  },
  {
   "cell_type": "markdown",
   "id": "2e07c6a6",
   "metadata": {},
   "source": [
    "Because this is a runtime error then the compilation should be successful and indeed it is. So now let's try to run the problem. Since this problem didn't have a need for an input from stdin we can just run it as is."
   ]
  },
  {
   "cell_type": "code",
   "execution_count": 31,
   "id": "135ea04f",
   "metadata": {
    "ExecuteTime": {
     "end_time": "2021-12-05T07:22:56.146671Z",
     "start_time": "2021-12-05T07:22:55.953908Z"
    }
   },
   "outputs": [
    {
     "data": {
      "text/plain": [
       "('1x1=1\\n1x2=2\\n1x3=3\\n1x4=4\\n1x5=5\\n1x6=6\\n1x7=7\\n1x8=8\\n1x9=9\\n2x1=2\\n2x2=4\\n2x3=6\\n2x4=8\\n2x5=10\\n2x6=12\\n2x7=14\\n2x8=16\\n2x9=18\\n3x1=3\\n3x2=6\\n3x3=9\\n3x4=12\\n3x5=15\\n3x6=18\\n3x7=21\\n3x8=24\\n3x9=27\\n4x1=4\\n4x2=8\\n4x3=12\\n4x4=16\\n4x5=20\\n4x6=24\\n4x7=28\\n4x8=32\\n4x9=36\\n5x1=5\\n5x2=10\\n5x3=15\\n5x4=20\\n5x5=25\\n5x6=30\\n5x7=35\\n5x8=40\\n5x9=45\\n6x1=6\\n6x2=12\\n6x3=18\\n6x4=24\\n6x5=30\\n6x6=36\\n6x7=42\\n6x8=48\\n6x9=54\\n7x1=7\\n7x2=14\\n7x3=21\\n7x4=28\\n7x5=35\\n7x6=42\\n7x7=49\\n7x8=56\\n7x9=63\\n8x1=8\\n8x2=16\\n8x3=24\\n8x4=32\\n8x5=40\\n8x6=48\\n8x7=56\\n8x8=64\\n8x9=72\\n9x1=9\\n9x2=18\\n9x3=27\\n9x4=36\\n9x5=45\\n9x6=54\\n9x7=63\\n9x8=72\\n9x9=81\\n',\n",
       " '',\n",
       " 7)"
      ]
     },
     "execution_count": 31,
     "metadata": {},
     "output_type": "execute_result"
    }
   ],
   "source": [
    "exec_gcc(file_path)\n",
    "process = subprocess.Popen(['./a.out'], \n",
    "                           stdout=subprocess.PIPE,\n",
    "                           stderr=subprocess.PIPE,\n",
    "                           universal_newlines=True)\n",
    "output, error = process.communicate()\n",
    "\n",
    "!rm './a.out'\n",
    "output, error, process.returncode"
   ]
  },
  {
   "cell_type": "markdown",
   "id": "b6c289d0",
   "metadata": {},
   "source": [
    "In this example the program outputs just fine the correct answer but the checker also looked at the return code, and since the original file didn't have a return 0 statement then the return code of the program was undefined and didn't allow for consistent behaviour which could lead to errors. Also from this example it looks like the gcc is used with the standard 90 C since the default gcc command outputs 0 as the return command otherwise."
   ]
  },
  {
   "cell_type": "markdown",
   "id": "b009bf75",
   "metadata": {},
   "source": [
    "Now that we have all the missing pieces we can create a table for all the problems and languages in this dataset that are in the same format, one instruction changed that fixed the submission. "
   ]
  },
  {
   "cell_type": "code",
   "execution_count": 36,
   "id": "3c8dcd0a",
   "metadata": {
    "ExecuteTime": {
     "end_time": "2021-12-05T07:26:12.352447Z",
     "start_time": "2021-12-05T07:26:12.350260Z"
    }
   },
   "outputs": [],
   "source": [
    "generated_pairs_path = input_path + 'data.csv'"
   ]
  },
  {
   "cell_type": "code",
   "execution_count": 29,
   "id": "700523c3",
   "metadata": {
    "ExecuteTime": {
     "end_time": "2021-12-02T19:24:22.068323Z",
     "start_time": "2021-12-02T16:57:08.978597Z"
    }
   },
   "outputs": [
    {
     "name": "stderr",
     "output_type": "stream",
     "text": [
      "Processing p04052: 100%|███████████████████████████████████████████████████████| 4053/4053 [2:26:48<00:00,  2.17s/it]\n"
     ]
    }
   ],
   "source": [
    "output = generated_pairs_path\n",
    "\n",
    "problem_list_df = pd.read_csv(metadata_path + 'problem_list.csv')\n",
    "problem_list_df.set_index('id', inplace=True)\n",
    "problem_ids = problem_list_df.index.unique()\n",
    "\n",
    "columns = ['original_id', 'changed_id', 'original_line', 'changed_line', 'original_status', 'original_language']\n",
    "dfs = []\n",
    "\n",
    "loop = tqdm(problem_ids)\n",
    "for problem_id in loop:\n",
    "    loop.set_description(\"Processing %s\" % problem_id)\n",
    "\n",
    "    problem_df = pd.read_csv(metadata_path + f'{problem_id}.csv')\n",
    "    if problem_df.empty:\n",
    "        continue\n",
    "\n",
    "    problem_df.set_index('submission_id', inplace=True)\n",
    "\n",
    "    grouped_languages = problem_df.groupby('language')\n",
    "    for language, problem_df in grouped_languages:\n",
    "        if problem_df.empty:\n",
    "            continue\n",
    "\n",
    "        extension = problem_df.iloc[0]['filename_ext']\n",
    "        xs = preprocess_problem_for_language(problem_df, problem_id, language, extension)\n",
    "        df = pd.DataFrame(xs, columns=columns)\n",
    "        df['problem_id'] = problem_id\n",
    "        df['language'] = language\n",
    "        df['filename_ext'] = extension\n",
    "        dfs.append(df)\n",
    "\n",
    "df = pd.concat(dfs, ignore_index=True)\n",
    "df.to_csv(output, index=False)"
   ]
  },
  {
   "cell_type": "code",
   "execution_count": 34,
   "id": "e431ef88",
   "metadata": {
    "ExecuteTime": {
     "end_time": "2021-12-05T07:24:51.692155Z",
     "start_time": "2021-12-05T07:24:51.612558Z"
    }
   },
   "outputs": [
    {
     "data": {
      "text/html": [
       "<div>\n",
       "<style scoped>\n",
       "    .dataframe tbody tr th:only-of-type {\n",
       "        vertical-align: middle;\n",
       "    }\n",
       "\n",
       "    .dataframe tbody tr th {\n",
       "        vertical-align: top;\n",
       "    }\n",
       "\n",
       "    .dataframe thead th {\n",
       "        text-align: right;\n",
       "    }\n",
       "</style>\n",
       "<table border=\"1\" class=\"dataframe\">\n",
       "  <thead>\n",
       "    <tr style=\"text-align: right;\">\n",
       "      <th></th>\n",
       "      <th>original_id</th>\n",
       "      <th>changed_id</th>\n",
       "      <th>original_line</th>\n",
       "      <th>changed_line</th>\n",
       "      <th>original_status</th>\n",
       "      <th>original_language</th>\n",
       "      <th>problem_id</th>\n",
       "      <th>language</th>\n",
       "      <th>filename_ext</th>\n",
       "    </tr>\n",
       "  </thead>\n",
       "  <tbody>\n",
       "    <tr>\n",
       "      <th>0</th>\n",
       "      <td>s381898998</td>\n",
       "      <td>s865898267</td>\n",
       "      <td>9</td>\n",
       "      <td>9</td>\n",
       "      <td>Wrong Answer</td>\n",
       "      <td>C</td>\n",
       "      <td>p00000</td>\n",
       "      <td>C</td>\n",
       "      <td>c</td>\n",
       "    </tr>\n",
       "    <tr>\n",
       "      <th>1</th>\n",
       "      <td>s749240628</td>\n",
       "      <td>s634652749</td>\n",
       "      <td>11</td>\n",
       "      <td>11</td>\n",
       "      <td>Wrong Answer</td>\n",
       "      <td>C</td>\n",
       "      <td>p00000</td>\n",
       "      <td>C</td>\n",
       "      <td>c</td>\n",
       "    </tr>\n",
       "    <tr>\n",
       "      <th>2</th>\n",
       "      <td>s607203127</td>\n",
       "      <td>s502818484</td>\n",
       "      <td>9</td>\n",
       "      <td>9</td>\n",
       "      <td>Wrong Answer</td>\n",
       "      <td>C</td>\n",
       "      <td>p00000</td>\n",
       "      <td>C</td>\n",
       "      <td>c</td>\n",
       "    </tr>\n",
       "    <tr>\n",
       "      <th>3</th>\n",
       "      <td>s719001213</td>\n",
       "      <td>s042257533</td>\n",
       "      <td>9</td>\n",
       "      <td>9</td>\n",
       "      <td>Wrong Answer</td>\n",
       "      <td>C</td>\n",
       "      <td>p00000</td>\n",
       "      <td>C</td>\n",
       "      <td>c</td>\n",
       "    </tr>\n",
       "    <tr>\n",
       "      <th>4</th>\n",
       "      <td>s066960572</td>\n",
       "      <td>s577188800</td>\n",
       "      <td>10</td>\n",
       "      <td>10</td>\n",
       "      <td>Wrong Answer</td>\n",
       "      <td>C</td>\n",
       "      <td>p00000</td>\n",
       "      <td>C</td>\n",
       "      <td>c</td>\n",
       "    </tr>\n",
       "    <tr>\n",
       "      <th>...</th>\n",
       "      <td>...</td>\n",
       "      <td>...</td>\n",
       "      <td>...</td>\n",
       "      <td>...</td>\n",
       "      <td>...</td>\n",
       "      <td>...</td>\n",
       "      <td>...</td>\n",
       "      <td>...</td>\n",
       "      <td>...</td>\n",
       "    </tr>\n",
       "    <tr>\n",
       "      <th>102551</th>\n",
       "      <td>s753736051</td>\n",
       "      <td>s069032276</td>\n",
       "      <td>59</td>\n",
       "      <td>59</td>\n",
       "      <td>Time Limit Exceeded</td>\n",
       "      <td>C++14 (GCC 5.4.1)</td>\n",
       "      <td>p04049</td>\n",
       "      <td>C++</td>\n",
       "      <td>cpp</td>\n",
       "    </tr>\n",
       "    <tr>\n",
       "      <th>102552</th>\n",
       "      <td>s937763329</td>\n",
       "      <td>s353716814</td>\n",
       "      <td>46</td>\n",
       "      <td>46</td>\n",
       "      <td>Wrong Answer</td>\n",
       "      <td>C++ (GCC 9.2.1)</td>\n",
       "      <td>p04050</td>\n",
       "      <td>C++</td>\n",
       "      <td>cpp</td>\n",
       "    </tr>\n",
       "    <tr>\n",
       "      <th>102553</th>\n",
       "      <td>s181482285</td>\n",
       "      <td>s112746800</td>\n",
       "      <td>29</td>\n",
       "      <td>29</td>\n",
       "      <td>Wrong Answer</td>\n",
       "      <td>C++14 (GCC 5.4.1)</td>\n",
       "      <td>p04050</td>\n",
       "      <td>C++</td>\n",
       "      <td>cpp</td>\n",
       "    </tr>\n",
       "    <tr>\n",
       "      <th>102554</th>\n",
       "      <td>s515906114</td>\n",
       "      <td>s712940997</td>\n",
       "      <td>42</td>\n",
       "      <td>42</td>\n",
       "      <td>Wrong Answer</td>\n",
       "      <td>C++ (GCC 5.4.1)</td>\n",
       "      <td>p04051</td>\n",
       "      <td>C++</td>\n",
       "      <td>cpp</td>\n",
       "    </tr>\n",
       "    <tr>\n",
       "      <th>102555</th>\n",
       "      <td>s402402940</td>\n",
       "      <td>s104563826</td>\n",
       "      <td>50</td>\n",
       "      <td>50</td>\n",
       "      <td>Wrong Answer</td>\n",
       "      <td>C++14 (GCC 5.4.1)</td>\n",
       "      <td>p04051</td>\n",
       "      <td>C++</td>\n",
       "      <td>cpp</td>\n",
       "    </tr>\n",
       "  </tbody>\n",
       "</table>\n",
       "<p>102556 rows × 9 columns</p>\n",
       "</div>"
      ],
      "text/plain": [
       "       original_id  changed_id  original_line  changed_line  \\\n",
       "0       s381898998  s865898267              9             9   \n",
       "1       s749240628  s634652749             11            11   \n",
       "2       s607203127  s502818484              9             9   \n",
       "3       s719001213  s042257533              9             9   \n",
       "4       s066960572  s577188800             10            10   \n",
       "...            ...         ...            ...           ...   \n",
       "102551  s753736051  s069032276             59            59   \n",
       "102552  s937763329  s353716814             46            46   \n",
       "102553  s181482285  s112746800             29            29   \n",
       "102554  s515906114  s712940997             42            42   \n",
       "102555  s402402940  s104563826             50            50   \n",
       "\n",
       "            original_status  original_language problem_id language  \\\n",
       "0              Wrong Answer                  C     p00000        C   \n",
       "1              Wrong Answer                  C     p00000        C   \n",
       "2              Wrong Answer                  C     p00000        C   \n",
       "3              Wrong Answer                  C     p00000        C   \n",
       "4              Wrong Answer                  C     p00000        C   \n",
       "...                     ...                ...        ...      ...   \n",
       "102551  Time Limit Exceeded  C++14 (GCC 5.4.1)     p04049      C++   \n",
       "102552         Wrong Answer    C++ (GCC 9.2.1)     p04050      C++   \n",
       "102553         Wrong Answer  C++14 (GCC 5.4.1)     p04050      C++   \n",
       "102554         Wrong Answer    C++ (GCC 5.4.1)     p04051      C++   \n",
       "102555         Wrong Answer  C++14 (GCC 5.4.1)     p04051      C++   \n",
       "\n",
       "       filename_ext  \n",
       "0                 c  \n",
       "1                 c  \n",
       "2                 c  \n",
       "3                 c  \n",
       "4                 c  \n",
       "...             ...  \n",
       "102551          cpp  \n",
       "102552          cpp  \n",
       "102553          cpp  \n",
       "102554          cpp  \n",
       "102555          cpp  \n",
       "\n",
       "[102556 rows x 9 columns]"
      ]
     },
     "metadata": {},
     "output_type": "display_data"
    },
    {
     "name": "stdout",
     "output_type": "stream",
     "text": [
      "<class 'pandas.core.frame.DataFrame'>\n",
      "RangeIndex: 102556 entries, 0 to 102555\n",
      "Data columns (total 9 columns):\n",
      " #   Column             Non-Null Count   Dtype \n",
      "---  ------             --------------   ----- \n",
      " 0   original_id        102556 non-null  object\n",
      " 1   changed_id         102556 non-null  object\n",
      " 2   original_line      102556 non-null  int64 \n",
      " 3   changed_line       102556 non-null  int64 \n",
      " 4   original_status    102556 non-null  object\n",
      " 5   original_language  102556 non-null  object\n",
      " 6   problem_id         102556 non-null  object\n",
      " 7   language           102556 non-null  object\n",
      " 8   filename_ext       102556 non-null  object\n",
      "dtypes: int64(2), object(7)\n",
      "memory usage: 7.0+ MB\n"
     ]
    },
    {
     "data": {
      "text/plain": [
       "None"
      ]
     },
     "metadata": {},
     "output_type": "display_data"
    },
    {
     "data": {
      "text/plain": [
       "C++             49996\n",
       "C               19609\n",
       "Python          11678\n",
       "Java             9746\n",
       "Ruby             3652\n",
       "C#               2065\n",
       "Perl              815\n",
       "Haskell           734\n",
       "JavaScript        698\n",
       "Awk               523\n",
       "PHP               511\n",
       "Scala             409\n",
       "dc                398\n",
       "D                 360\n",
       "Rust              211\n",
       "Go                206\n",
       "Octave            148\n",
       "OCaml             144\n",
       "Bash              143\n",
       "Kotlin             77\n",
       "Vim                70\n",
       "Sed                67\n",
       "Nim                48\n",
       "Swift              40\n",
       "Julia              39\n",
       "Bf                 38\n",
       "Crystal            22\n",
       "Pascal             20\n",
       "Lisp               18\n",
       "Fortran            14\n",
       "Scheme             11\n",
       "Lua                 9\n",
       "Cython              9\n",
       "Dash                6\n",
       "TypeScript          6\n",
       "bc                  4\n",
       "F#                  3\n",
       "Racket              2\n",
       "Visual Basic        2\n",
       "Clojure             2\n",
       "COBOL               1\n",
       "MoonScript          1\n",
       "Unlambda            1\n",
       "Name: language, dtype: int64"
      ]
     },
     "metadata": {},
     "output_type": "display_data"
    },
    {
     "data": {
      "text/plain": [
       "Wrong Answer              58169\n",
       "Compile Error             15134\n",
       "Runtime Error             13132\n",
       "WA: Presentation Error    11505\n",
       "Time Limit Exceeded        4099\n",
       "Memory Limit Exceeded       487\n",
       "Output Limit Exceeded        29\n",
       "Judge Not Available           1\n",
       "Name: original_status, dtype: int64"
      ]
     },
     "metadata": {},
     "output_type": "display_data"
    }
   ],
   "source": [
    "display(df)\n",
    "display(df.info())\n",
    "display(df.language.value_counts())\n",
    "display(df.original_status.value_counts())"
   ]
  },
  {
   "cell_type": "code",
   "execution_count": 35,
   "id": "9817633d",
   "metadata": {
    "ExecuteTime": {
     "end_time": "2021-12-05T07:26:12.348707Z",
     "start_time": "2021-12-05T07:25:02.380180Z"
    }
   },
   "outputs": [
    {
     "name": "stderr",
     "output_type": "stream",
     "text": [
      "100%|████████████████████████████████████████████████████████████████████████████████████████████████████████████████████████████████████████████████████████████████████████████████████████████████████| 4053/4053 [01:09<00:00, 57.94it/s]\n"
     ]
    }
   ],
   "source": [
    "# sanity check (check that the status code is correctly copied for each submission)\n",
    "def check(pid):\n",
    "    problem_df = pd.read_csv(metadata_path + pid + '.csv')\n",
    "    p_df = df[df['problem_id'] == pid]\n",
    "    p_df = p_df.sort_values('original_id')\n",
    "    problem_df.set_index('submission_id', inplace=True, drop=True)\n",
    "    problem_df = problem_df.loc[p_df.original_id].sort_index()\n",
    "    return all(problem_df.status.values == p_df.original_status.values)\n",
    "\n",
    "for pid in tqdm(problem_list_df.index.unique()):\n",
    "    if not check(pid):\n",
    "        print(pid)"
   ]
  },
  {
   "cell_type": "markdown",
   "id": "e4d3dfa4",
   "metadata": {},
   "source": [
    "So we can see that after running this preprocessing function on all the problems we are left with 100,000 samples of pairs of source code files of the form (error, successful) for all the languages in the dataset. Now the error messages that are provided in this dataset don't look that useful, so in the next steps I will attempt to improve the error messages by running the source code on sample inputs or using compilers, code check tools etc."
   ]
  },
  {
   "cell_type": "markdown",
   "id": "db48839c",
   "metadata": {},
   "source": [
    "### Task 1.2: Analyze source code files\n",
    "- NOTE: I saw some files that are code golfs, maybe they should be removed from the dataset\n",
    "- TODO: ?"
   ]
  },
  {
   "cell_type": "code",
   "execution_count": null,
   "id": "1fae04b8",
   "metadata": {},
   "outputs": [],
   "source": []
  },
  {
   "cell_type": "markdown",
   "id": "d12f323a",
   "metadata": {},
   "source": [
    "# Run Code Sources"
   ]
  },
  {
   "cell_type": "markdown",
   "id": "cd9257dc",
   "metadata": {
    "ExecuteTime": {
     "end_time": "2021-12-05T07:09:47.182280Z",
     "start_time": "2021-12-05T07:09:47.162833Z"
    }
   },
   "source": [
    "### Task 1.1: Get error type description\n",
    "- run the suspicious source code on the sample input\n",
    "- if there is no sample input: There is a missing value => make the error class NAN\n",
    "- if it results in error: parse the error name and details\n",
    "- if there is no error: (there might be an edge case) There is a missing value => make the error class NAN\n",
    "- return new values (old error type, error class, error desc, return code)\n",
    "\n",
    "#### Progress\n",
    "\n",
    "- NOTE: Made a function for python, need one more for C and one C++\n",
    "- NOTE: How to treat cases where the user debugs messages to console\n",
    "- NOTE: Some of the programs don't crash on the sample input, but are still suspicious (No error class)\n",
    "- NOTE: How to treat code golfs?\n",
    "\n",
    "- TODO: Run the original submission to get a more detailed error on the sample input/output (for C and C++)\n",
    "- TODO: Filter some of the error types like grouping similar error into the same category\n",
    "- TODO: Give proper name to number errors"
   ]
  },
  {
   "cell_type": "code",
   "execution_count": 37,
   "id": "675ddd4c",
   "metadata": {
    "ExecuteTime": {
     "end_time": "2021-12-05T07:26:16.898881Z",
     "start_time": "2021-12-05T07:26:16.661843Z"
    }
   },
   "outputs": [
    {
     "data": {
      "text/html": [
       "<div>\n",
       "<style scoped>\n",
       "    .dataframe tbody tr th:only-of-type {\n",
       "        vertical-align: middle;\n",
       "    }\n",
       "\n",
       "    .dataframe tbody tr th {\n",
       "        vertical-align: top;\n",
       "    }\n",
       "\n",
       "    .dataframe thead th {\n",
       "        text-align: right;\n",
       "    }\n",
       "</style>\n",
       "<table border=\"1\" class=\"dataframe\">\n",
       "  <thead>\n",
       "    <tr style=\"text-align: right;\">\n",
       "      <th></th>\n",
       "      <th>original_id</th>\n",
       "      <th>changed_id</th>\n",
       "      <th>original_line</th>\n",
       "      <th>changed_line</th>\n",
       "      <th>original_status</th>\n",
       "      <th>original_language</th>\n",
       "      <th>problem_id</th>\n",
       "      <th>language</th>\n",
       "      <th>filename_ext</th>\n",
       "    </tr>\n",
       "  </thead>\n",
       "  <tbody>\n",
       "    <tr>\n",
       "      <th>0</th>\n",
       "      <td>s381898998</td>\n",
       "      <td>s865898267</td>\n",
       "      <td>9</td>\n",
       "      <td>9</td>\n",
       "      <td>Wrong Answer</td>\n",
       "      <td>C</td>\n",
       "      <td>p00000</td>\n",
       "      <td>C</td>\n",
       "      <td>c</td>\n",
       "    </tr>\n",
       "    <tr>\n",
       "      <th>1</th>\n",
       "      <td>s749240628</td>\n",
       "      <td>s634652749</td>\n",
       "      <td>11</td>\n",
       "      <td>11</td>\n",
       "      <td>Wrong Answer</td>\n",
       "      <td>C</td>\n",
       "      <td>p00000</td>\n",
       "      <td>C</td>\n",
       "      <td>c</td>\n",
       "    </tr>\n",
       "    <tr>\n",
       "      <th>2</th>\n",
       "      <td>s607203127</td>\n",
       "      <td>s502818484</td>\n",
       "      <td>9</td>\n",
       "      <td>9</td>\n",
       "      <td>Wrong Answer</td>\n",
       "      <td>C</td>\n",
       "      <td>p00000</td>\n",
       "      <td>C</td>\n",
       "      <td>c</td>\n",
       "    </tr>\n",
       "    <tr>\n",
       "      <th>3</th>\n",
       "      <td>s719001213</td>\n",
       "      <td>s042257533</td>\n",
       "      <td>9</td>\n",
       "      <td>9</td>\n",
       "      <td>Wrong Answer</td>\n",
       "      <td>C</td>\n",
       "      <td>p00000</td>\n",
       "      <td>C</td>\n",
       "      <td>c</td>\n",
       "    </tr>\n",
       "    <tr>\n",
       "      <th>4</th>\n",
       "      <td>s066960572</td>\n",
       "      <td>s577188800</td>\n",
       "      <td>10</td>\n",
       "      <td>10</td>\n",
       "      <td>Wrong Answer</td>\n",
       "      <td>C</td>\n",
       "      <td>p00000</td>\n",
       "      <td>C</td>\n",
       "      <td>c</td>\n",
       "    </tr>\n",
       "    <tr>\n",
       "      <th>...</th>\n",
       "      <td>...</td>\n",
       "      <td>...</td>\n",
       "      <td>...</td>\n",
       "      <td>...</td>\n",
       "      <td>...</td>\n",
       "      <td>...</td>\n",
       "      <td>...</td>\n",
       "      <td>...</td>\n",
       "      <td>...</td>\n",
       "    </tr>\n",
       "    <tr>\n",
       "      <th>102394</th>\n",
       "      <td>s456383760</td>\n",
       "      <td>s016668249</td>\n",
       "      <td>1</td>\n",
       "      <td>1</td>\n",
       "      <td>Wrong Answer</td>\n",
       "      <td>Python (3.8.2)</td>\n",
       "      <td>p04029</td>\n",
       "      <td>Python</td>\n",
       "      <td>py</td>\n",
       "    </tr>\n",
       "    <tr>\n",
       "      <th>102480</th>\n",
       "      <td>s675922082</td>\n",
       "      <td>s965274869</td>\n",
       "      <td>2</td>\n",
       "      <td>2</td>\n",
       "      <td>Runtime Error</td>\n",
       "      <td>Python (3.8.2)</td>\n",
       "      <td>p04043</td>\n",
       "      <td>Python</td>\n",
       "      <td>py</td>\n",
       "    </tr>\n",
       "    <tr>\n",
       "      <th>102481</th>\n",
       "      <td>s686089965</td>\n",
       "      <td>s644653229</td>\n",
       "      <td>1</td>\n",
       "      <td>1</td>\n",
       "      <td>Wrong Answer</td>\n",
       "      <td>Python (3.8.2)</td>\n",
       "      <td>p04043</td>\n",
       "      <td>Python</td>\n",
       "      <td>py</td>\n",
       "    </tr>\n",
       "    <tr>\n",
       "      <th>102505</th>\n",
       "      <td>s075564224</td>\n",
       "      <td>s960630596</td>\n",
       "      <td>1</td>\n",
       "      <td>1</td>\n",
       "      <td>Runtime Error</td>\n",
       "      <td>Python (3.8.2)</td>\n",
       "      <td>p04044</td>\n",
       "      <td>Python</td>\n",
       "      <td>py</td>\n",
       "    </tr>\n",
       "    <tr>\n",
       "      <th>102520</th>\n",
       "      <td>s480001739</td>\n",
       "      <td>s348164474</td>\n",
       "      <td>3</td>\n",
       "      <td>3</td>\n",
       "      <td>Wrong Answer</td>\n",
       "      <td>Python (3.8.2)</td>\n",
       "      <td>p04045</td>\n",
       "      <td>Python</td>\n",
       "      <td>py</td>\n",
       "    </tr>\n",
       "  </tbody>\n",
       "</table>\n",
       "<p>27959 rows × 9 columns</p>\n",
       "</div>"
      ],
      "text/plain": [
       "       original_id  changed_id  original_line  changed_line original_status  \\\n",
       "0       s381898998  s865898267              9             9    Wrong Answer   \n",
       "1       s749240628  s634652749             11            11    Wrong Answer   \n",
       "2       s607203127  s502818484              9             9    Wrong Answer   \n",
       "3       s719001213  s042257533              9             9    Wrong Answer   \n",
       "4       s066960572  s577188800             10            10    Wrong Answer   \n",
       "...            ...         ...            ...           ...             ...   \n",
       "102394  s456383760  s016668249              1             1    Wrong Answer   \n",
       "102480  s675922082  s965274869              2             2   Runtime Error   \n",
       "102481  s686089965  s644653229              1             1    Wrong Answer   \n",
       "102505  s075564224  s960630596              1             1   Runtime Error   \n",
       "102520  s480001739  s348164474              3             3    Wrong Answer   \n",
       "\n",
       "       original_language problem_id language filename_ext  \n",
       "0                      C     p00000        C            c  \n",
       "1                      C     p00000        C            c  \n",
       "2                      C     p00000        C            c  \n",
       "3                      C     p00000        C            c  \n",
       "4                      C     p00000        C            c  \n",
       "...                  ...        ...      ...          ...  \n",
       "102394    Python (3.8.2)     p04029   Python           py  \n",
       "102480    Python (3.8.2)     p04043   Python           py  \n",
       "102481    Python (3.8.2)     p04043   Python           py  \n",
       "102505    Python (3.8.2)     p04044   Python           py  \n",
       "102520    Python (3.8.2)     p04045   Python           py  \n",
       "\n",
       "[27959 rows x 9 columns]"
      ]
     },
     "execution_count": 37,
     "metadata": {},
     "output_type": "execute_result"
    }
   ],
   "source": [
    "# Load the problem list table as a csv\n",
    "problem_list_df = pd.read_csv(metadata_path + 'problem_list.csv')\n",
    "problem_list_df.set_index('id', inplace=True)\n",
    "\n",
    "problem_list_df['time_limit'].fillna(1.0, inplace=True)\n",
    "problem_list_df['time_limit_s'] = problem_list_df['time_limit'] / 1000\n",
    "\n",
    "df = pd.read_csv(generated_pairs_path)\n",
    "\n",
    "# Eventually I will want to load all languages here\n",
    "p_df = df[(df['original_language'] == 'Python3') | \n",
    "           (df['original_language'] == 'Python') | \n",
    "           (df['original_language'] == 'Python (3.8.2)') | \n",
    "           (df['original_language'] == 'C')\n",
    "           # TODO: ADD C AND C++ HERE after testing in sandbox\n",
    "         ]\n",
    "p_df"
   ]
  },
  {
   "cell_type": "code",
   "execution_count": 38,
   "id": "75114eeb",
   "metadata": {
    "ExecuteTime": {
     "end_time": "2021-12-05T07:26:19.418764Z",
     "start_time": "2021-12-05T07:26:19.410487Z"
    }
   },
   "outputs": [],
   "source": [
    "def handle_process(command, input, timeout):\n",
    "    process = subprocess.Popen(command,\n",
    "                               stdin=subprocess.PIPE,\n",
    "                               stdout=subprocess.PIPE,\n",
    "                               stderr=subprocess.PIPE, \n",
    "                               encoding=\"utf-8\", \n",
    "                               errors=\"ignore\")\n",
    "    try:\n",
    "        output, error = process.communicate(input, timeout)\n",
    "        return output, error, process.returncode\n",
    "    except subprocess.TimeoutExpired:\n",
    "        process.kill()\n",
    "        process.communicate()\n",
    "        raise TimeoutError\n",
    "\n",
    "def exec_python(file_path, input=None, timeout=2.0):\n",
    "    return handle_process(['python3', file_path], input, timeout)\n",
    "\n",
    "def exec_c(file_path, input=None, timeout=2.0):    \n",
    "    exec_path = '/tmp/a.out'\n",
    "    process = subprocess.Popen(['gcc', file_path, '-lm', '-w', '-O3','-o', exec_path],\n",
    "                               stdin=subprocess.PIPE,\n",
    "                               stdout=subprocess.PIPE,\n",
    "                               stderr=subprocess.PIPE, \n",
    "                               encoding=\"utf-8\", \n",
    "                               errors=\"ignore\")\n",
    "    output, error = process.communicate()\n",
    "    returncode = process.returncode\n",
    "    if returncode != 0:\n",
    "        return '', error, returncode\n",
    "    return handle_process([exec_path], input, timeout)\n",
    "    \n",
    "def exec_file(file_path, input=None, timeout=2.0, language=None):\n",
    "    if language == 'Python':\n",
    "        return exec_python(file_path, input, timeout)\n",
    "    if language == 'C':\n",
    "        return exec_c(file_path, input, timeout)\n",
    "    else:\n",
    "        raise NotImplementedError"
   ]
  },
  {
   "cell_type": "code",
   "execution_count": 239,
   "id": "e27a59f9",
   "metadata": {
    "ExecuteTime": {
     "end_time": "2021-12-04T22:54:30.060636Z",
     "start_time": "2021-12-04T21:54:42.920037Z"
    }
   },
   "outputs": [
    {
     "name": "stderr",
     "output_type": "stream",
     "text": [
      "100%|██████████████████████████████████████████████████████████████████████████| 27959/27959 [59:47<00:00,  7.79it/s]\n"
     ]
    }
   ],
   "source": [
    "loop = tqdm(p_df.iterrows(), total=len(p_df))\n",
    "\n",
    "errs = []\n",
    "\n",
    "for _id, p_sub in loop:\n",
    "    original_id = p_sub.loc['original_id']\n",
    "    original_line = p_sub.loc['original_line']\n",
    "    problem_id = p_sub.loc['problem_id']\n",
    "    language = p_sub.loc['language']\n",
    "    extension = p_sub.loc['filename_ext']\n",
    "    \n",
    "    file_path = id2submission(problem_id, language, original_id, extension)\n",
    "    \n",
    "    input_path = id2inout(problem_id, name='input')\n",
    "    output_path = id2inout(problem_id, name='output')\n",
    "    \n",
    "    input = None\n",
    "    if os.path.exists(input_path):\n",
    "        with open(input_path, 'r') as f:\n",
    "            input = f.read()\n",
    "    \n",
    "    timeout = problem_list_df.loc[problem_id]['time_limit_s'] * 2\n",
    "    try:\n",
    "        output, error, returncode = exec_file(file_path, input, timeout, language)\n",
    "    except TimeoutError:\n",
    "        returncode = 1\n",
    "        error = 'TLEError: Time limit exceeded'\n",
    "        if not input:\n",
    "            returncode = 0\n",
    "            error = 'NotAnError: Missing input caused TLE'\n",
    "    \n",
    "    errs.append((_id, output, error, returncode))"
   ]
  },
  {
   "cell_type": "code",
   "execution_count": 247,
   "id": "c254b7ad",
   "metadata": {
    "ExecuteTime": {
     "end_time": "2021-12-04T23:30:33.831198Z",
     "start_time": "2021-12-04T23:30:33.106650Z"
    }
   },
   "outputs": [],
   "source": [
    "with open('../temp.pkl', 'wb') as f:\n",
    "    pickle.dump(errs, f)"
   ]
  },
  {
   "cell_type": "code",
   "execution_count": 42,
   "id": "b2537de5",
   "metadata": {
    "ExecuteTime": {
     "end_time": "2021-12-05T07:26:47.916846Z",
     "start_time": "2021-12-05T07:26:47.605655Z"
    }
   },
   "outputs": [],
   "source": [
    "with open('../temp.pkl', 'rb') as f:\n",
    "    errs = pickle.load(f)"
   ]
  },
  {
   "cell_type": "code",
   "execution_count": 43,
   "id": "f5a56746",
   "metadata": {
    "ExecuteTime": {
     "end_time": "2021-12-05T07:26:48.185889Z",
     "start_time": "2021-12-05T07:26:48.176096Z"
    }
   },
   "outputs": [],
   "source": [
    "def extract_error_class_python(error, returncode):\n",
    "    rs =  '|'.join([\n",
    "        r'^(\\w*Error):.*',\n",
    "        r'(\\w*Warning):.*',\n",
    "    ])\n",
    "    \n",
    "    p_class = re.compile(rs, re.MULTILINE)\n",
    "    error_class = p_class.findall(error)\n",
    "    if not error_class:\n",
    "        return str(returncode)\n",
    "    return functools.reduce(lambda acc, x: acc or x, error_class[0], None)\n",
    "\n",
    "def extract_error_class_extra_python(error, returncode):\n",
    "    rs =  '|'.join([\n",
    "        r'^(\\w*Error:.*).*',\n",
    "        r'(\\w*Warning:.*).*',\n",
    "    ])\n",
    "    \n",
    "    p_class_extra = re.compile(rs, re.MULTILINE)\n",
    "    error_class_extra = p_class_extra.findall(error)\n",
    "    if not error_class_extra:\n",
    "        return error\n",
    "    return functools.reduce(lambda acc, x: acc or x, error_class_extra[0], None) \n",
    "\n",
    "def extract_error_class_c(error, returncode):\n",
    "    return str(returncode)\n",
    "\n",
    "def extract_error_class_extra_c(error, returncode):\n",
    "    rs = '|'.join([\n",
    "        r'(undefined reference .*)',\n",
    "        r'(\\*\\*\\* stack smashing detected \\*\\*\\*: terminated)',\n",
    "        r'(munmap_chunk\\(\\): .*)', \n",
    "        r'(segmentation fault \\(core dumped\\))',\n",
    "        r'(error: .*)',\n",
    "        r'(relocation truncated to fit: .*)',\n",
    "        r'(sysmalloc: .*)',\n",
    "        r'(malloc\\(\\): .*)',\n",
    "        r'(free\\(\\): .*)',\n",
    "    ])\n",
    "    p_class_extra = re.compile(rs, re.MULTILINE)\n",
    "    error_class_extra = p_class_extra.findall(error)\n",
    "    if not error_class_extra:\n",
    "        return error\n",
    "    return functools.reduce(lambda acc, x: acc or x, error_class_extra[0], None)\n",
    "\n",
    "def extract_error_class(row):\n",
    "    language, error, returncode = row\n",
    "    if language == 'C':\n",
    "        return extract_error_class_c(error, returncode)\n",
    "    if language == 'Python':\n",
    "        return extract_error_class_python(error, returncode)\n",
    "    return None\n",
    "    \n",
    "def extract_error_class_extra(row):\n",
    "    language, error, returncode = row\n",
    "    if language == 'C':\n",
    "        return extract_error_class_extra_c(error, returncode)\n",
    "    if language == 'Python':\n",
    "        return extract_error_class_extra_python(error, returncode)\n",
    "    return None"
   ]
  },
  {
   "cell_type": "code",
   "execution_count": 44,
   "id": "c91f14d6",
   "metadata": {
    "ExecuteTime": {
     "end_time": "2021-12-05T07:26:49.329438Z",
     "start_time": "2021-12-05T07:26:48.597513Z"
    }
   },
   "outputs": [
    {
     "data": {
      "text/html": [
       "<div>\n",
       "<style scoped>\n",
       "    .dataframe tbody tr th:only-of-type {\n",
       "        vertical-align: middle;\n",
       "    }\n",
       "\n",
       "    .dataframe tbody tr th {\n",
       "        vertical-align: top;\n",
       "    }\n",
       "\n",
       "    .dataframe thead th {\n",
       "        text-align: right;\n",
       "    }\n",
       "</style>\n",
       "<table border=\"1\" class=\"dataframe\">\n",
       "  <thead>\n",
       "    <tr style=\"text-align: right;\">\n",
       "      <th></th>\n",
       "      <th>original_id</th>\n",
       "      <th>changed_id</th>\n",
       "      <th>original_line</th>\n",
       "      <th>changed_line</th>\n",
       "      <th>original_status</th>\n",
       "      <th>original_language</th>\n",
       "      <th>problem_id</th>\n",
       "      <th>language</th>\n",
       "      <th>filename_ext</th>\n",
       "      <th>output</th>\n",
       "      <th>error</th>\n",
       "      <th>returncode</th>\n",
       "      <th>error_class</th>\n",
       "      <th>error_class_extra</th>\n",
       "    </tr>\n",
       "  </thead>\n",
       "  <tbody>\n",
       "    <tr>\n",
       "      <th>0</th>\n",
       "      <td>s381898998</td>\n",
       "      <td>s865898267</td>\n",
       "      <td>9</td>\n",
       "      <td>9</td>\n",
       "      <td>Wrong Answer</td>\n",
       "      <td>C</td>\n",
       "      <td>p00000</td>\n",
       "      <td>C</td>\n",
       "      <td>c</td>\n",
       "      <td>1X1=1\\n1X2=2\\n1X3=3\\n1X4=4\\n1X5=5\\n1X6=6\\n1X7=...</td>\n",
       "      <td></td>\n",
       "      <td>0</td>\n",
       "      <td>0</td>\n",
       "      <td></td>\n",
       "    </tr>\n",
       "    <tr>\n",
       "      <th>1</th>\n",
       "      <td>s749240628</td>\n",
       "      <td>s634652749</td>\n",
       "      <td>11</td>\n",
       "      <td>11</td>\n",
       "      <td>Wrong Answer</td>\n",
       "      <td>C</td>\n",
       "      <td>p00000</td>\n",
       "      <td>C</td>\n",
       "      <td>c</td>\n",
       "      <td>1x1=1\\n1x2=2\\n1x3=3\\n1x4=4\\n1x5=5\\n1x6=6\\n1x7=...</td>\n",
       "      <td></td>\n",
       "      <td>0</td>\n",
       "      <td>0</td>\n",
       "      <td></td>\n",
       "    </tr>\n",
       "    <tr>\n",
       "      <th>2</th>\n",
       "      <td>s607203127</td>\n",
       "      <td>s502818484</td>\n",
       "      <td>9</td>\n",
       "      <td>9</td>\n",
       "      <td>Wrong Answer</td>\n",
       "      <td>C</td>\n",
       "      <td>p00000</td>\n",
       "      <td>C</td>\n",
       "      <td>c</td>\n",
       "      <td>1x1=1\\n1x2=2\\n1x3=3\\n1x4=4\\n1x5=5\\n1x6=6\\n1x7=...</td>\n",
       "      <td></td>\n",
       "      <td>0</td>\n",
       "      <td>0</td>\n",
       "      <td></td>\n",
       "    </tr>\n",
       "    <tr>\n",
       "      <th>3</th>\n",
       "      <td>s719001213</td>\n",
       "      <td>s042257533</td>\n",
       "      <td>9</td>\n",
       "      <td>9</td>\n",
       "      <td>Wrong Answer</td>\n",
       "      <td>C</td>\n",
       "      <td>p00000</td>\n",
       "      <td>C</td>\n",
       "      <td>c</td>\n",
       "      <td>1x1\\n1x2\\n1x3\\n1x4\\n1x5\\n1x6\\n1x7\\n1x8\\n1x9\\n2...</td>\n",
       "      <td></td>\n",
       "      <td>0</td>\n",
       "      <td>0</td>\n",
       "      <td></td>\n",
       "    </tr>\n",
       "    <tr>\n",
       "      <th>4</th>\n",
       "      <td>s066960572</td>\n",
       "      <td>s577188800</td>\n",
       "      <td>10</td>\n",
       "      <td>10</td>\n",
       "      <td>Wrong Answer</td>\n",
       "      <td>C</td>\n",
       "      <td>p00000</td>\n",
       "      <td>C</td>\n",
       "      <td>c</td>\n",
       "      <td>1*1=1\\n1*2=2\\n1*3=3\\n1*4=4\\n1*5=5\\n1*6=6\\n1*7=...</td>\n",
       "      <td></td>\n",
       "      <td>0</td>\n",
       "      <td>0</td>\n",
       "      <td></td>\n",
       "    </tr>\n",
       "    <tr>\n",
       "      <th>...</th>\n",
       "      <td>...</td>\n",
       "      <td>...</td>\n",
       "      <td>...</td>\n",
       "      <td>...</td>\n",
       "      <td>...</td>\n",
       "      <td>...</td>\n",
       "      <td>...</td>\n",
       "      <td>...</td>\n",
       "      <td>...</td>\n",
       "      <td>...</td>\n",
       "      <td>...</td>\n",
       "      <td>...</td>\n",
       "      <td>...</td>\n",
       "      <td>...</td>\n",
       "    </tr>\n",
       "    <tr>\n",
       "      <th>102394</th>\n",
       "      <td>s456383760</td>\n",
       "      <td>s016668249</td>\n",
       "      <td>1</td>\n",
       "      <td>1</td>\n",
       "      <td>Wrong Answer</td>\n",
       "      <td>Python (3.8.2)</td>\n",
       "      <td>p04029</td>\n",
       "      <td>Python</td>\n",
       "      <td>py</td>\n",
       "      <td>3\\n</td>\n",
       "      <td></td>\n",
       "      <td>0</td>\n",
       "      <td>0</td>\n",
       "      <td></td>\n",
       "    </tr>\n",
       "    <tr>\n",
       "      <th>102480</th>\n",
       "      <td>s675922082</td>\n",
       "      <td>s965274869</td>\n",
       "      <td>2</td>\n",
       "      <td>2</td>\n",
       "      <td>Runtime Error</td>\n",
       "      <td>Python (3.8.2)</td>\n",
       "      <td>p04043</td>\n",
       "      <td>Python</td>\n",
       "      <td>py</td>\n",
       "      <td></td>\n",
       "      <td>Traceback (most recent call last):\\n  File \"/h...</td>\n",
       "      <td>1</td>\n",
       "      <td>AttributeError</td>\n",
       "      <td>AttributeError: 'list' object has no attribute...</td>\n",
       "    </tr>\n",
       "    <tr>\n",
       "      <th>102481</th>\n",
       "      <td>s686089965</td>\n",
       "      <td>s644653229</td>\n",
       "      <td>1</td>\n",
       "      <td>1</td>\n",
       "      <td>Wrong Answer</td>\n",
       "      <td>Python (3.8.2)</td>\n",
       "      <td>p04043</td>\n",
       "      <td>Python</td>\n",
       "      <td>py</td>\n",
       "      <td>NO \\n</td>\n",
       "      <td></td>\n",
       "      <td>0</td>\n",
       "      <td>0</td>\n",
       "      <td></td>\n",
       "    </tr>\n",
       "    <tr>\n",
       "      <th>102505</th>\n",
       "      <td>s075564224</td>\n",
       "      <td>s960630596</td>\n",
       "      <td>1</td>\n",
       "      <td>1</td>\n",
       "      <td>Runtime Error</td>\n",
       "      <td>Python (3.8.2)</td>\n",
       "      <td>p04044</td>\n",
       "      <td>Python</td>\n",
       "      <td>py</td>\n",
       "      <td></td>\n",
       "      <td>Traceback (most recent call last):\\n  File \"/h...</td>\n",
       "      <td>1</td>\n",
       "      <td>NameError</td>\n",
       "      <td>NameError: name 'n' is not defined</td>\n",
       "    </tr>\n",
       "    <tr>\n",
       "      <th>102520</th>\n",
       "      <td>s480001739</td>\n",
       "      <td>s348164474</td>\n",
       "      <td>3</td>\n",
       "      <td>3</td>\n",
       "      <td>Wrong Answer</td>\n",
       "      <td>Python (3.8.2)</td>\n",
       "      <td>p04045</td>\n",
       "      <td>Python</td>\n",
       "      <td>py</td>\n",
       "      <td>1000\\n</td>\n",
       "      <td></td>\n",
       "      <td>0</td>\n",
       "      <td>0</td>\n",
       "      <td></td>\n",
       "    </tr>\n",
       "  </tbody>\n",
       "</table>\n",
       "<p>27959 rows × 14 columns</p>\n",
       "</div>"
      ],
      "text/plain": [
       "       original_id  changed_id  original_line  changed_line original_status  \\\n",
       "0       s381898998  s865898267              9             9    Wrong Answer   \n",
       "1       s749240628  s634652749             11            11    Wrong Answer   \n",
       "2       s607203127  s502818484              9             9    Wrong Answer   \n",
       "3       s719001213  s042257533              9             9    Wrong Answer   \n",
       "4       s066960572  s577188800             10            10    Wrong Answer   \n",
       "...            ...         ...            ...           ...             ...   \n",
       "102394  s456383760  s016668249              1             1    Wrong Answer   \n",
       "102480  s675922082  s965274869              2             2   Runtime Error   \n",
       "102481  s686089965  s644653229              1             1    Wrong Answer   \n",
       "102505  s075564224  s960630596              1             1   Runtime Error   \n",
       "102520  s480001739  s348164474              3             3    Wrong Answer   \n",
       "\n",
       "       original_language problem_id language filename_ext  \\\n",
       "0                      C     p00000        C            c   \n",
       "1                      C     p00000        C            c   \n",
       "2                      C     p00000        C            c   \n",
       "3                      C     p00000        C            c   \n",
       "4                      C     p00000        C            c   \n",
       "...                  ...        ...      ...          ...   \n",
       "102394    Python (3.8.2)     p04029   Python           py   \n",
       "102480    Python (3.8.2)     p04043   Python           py   \n",
       "102481    Python (3.8.2)     p04043   Python           py   \n",
       "102505    Python (3.8.2)     p04044   Python           py   \n",
       "102520    Python (3.8.2)     p04045   Python           py   \n",
       "\n",
       "                                                   output  \\\n",
       "0       1X1=1\\n1X2=2\\n1X3=3\\n1X4=4\\n1X5=5\\n1X6=6\\n1X7=...   \n",
       "1       1x1=1\\n1x2=2\\n1x3=3\\n1x4=4\\n1x5=5\\n1x6=6\\n1x7=...   \n",
       "2       1x1=1\\n1x2=2\\n1x3=3\\n1x4=4\\n1x5=5\\n1x6=6\\n1x7=...   \n",
       "3       1x1\\n1x2\\n1x3\\n1x4\\n1x5\\n1x6\\n1x7\\n1x8\\n1x9\\n2...   \n",
       "4       1*1=1\\n1*2=2\\n1*3=3\\n1*4=4\\n1*5=5\\n1*6=6\\n1*7=...   \n",
       "...                                                   ...   \n",
       "102394                                                3\\n   \n",
       "102480                                                      \n",
       "102481                                              NO \\n   \n",
       "102505                                                      \n",
       "102520                                             1000\\n   \n",
       "\n",
       "                                                    error  returncode  \\\n",
       "0                                                                   0   \n",
       "1                                                                   0   \n",
       "2                                                                   0   \n",
       "3                                                                   0   \n",
       "4                                                                   0   \n",
       "...                                                   ...         ...   \n",
       "102394                                                              0   \n",
       "102480  Traceback (most recent call last):\\n  File \"/h...           1   \n",
       "102481                                                              0   \n",
       "102505  Traceback (most recent call last):\\n  File \"/h...           1   \n",
       "102520                                                              0   \n",
       "\n",
       "           error_class                                  error_class_extra  \n",
       "0                    0                                                     \n",
       "1                    0                                                     \n",
       "2                    0                                                     \n",
       "3                    0                                                     \n",
       "4                    0                                                     \n",
       "...                ...                                                ...  \n",
       "102394               0                                                     \n",
       "102480  AttributeError  AttributeError: 'list' object has no attribute...  \n",
       "102481               0                                                     \n",
       "102505       NameError                 NameError: name 'n' is not defined  \n",
       "102520               0                                                     \n",
       "\n",
       "[27959 rows x 14 columns]"
      ]
     },
     "execution_count": 44,
     "metadata": {},
     "output_type": "execute_result"
    }
   ],
   "source": [
    "errs_df = pd.DataFrame(errs, columns=['index', 'output', 'error', 'returncode']).set_index('index')\n",
    "errs_df.index.name = None\n",
    "\n",
    "p_error_df = pd.concat([p_df, errs_df[[ 'output', 'error', 'returncode']]], axis=1)\n",
    "\n",
    "p_error_df['error_class'] = p_error_df[['language', 'error', 'returncode']].apply(extract_error_class, axis=1)\n",
    "p_error_df['error_class_extra'] = p_error_df[['language', 'error', 'returncode']].apply(extract_error_class_extra, axis=1)\n",
    "\n",
    "p_error_df"
   ]
  },
  {
   "cell_type": "code",
   "execution_count": 45,
   "id": "0f8a0a5e",
   "metadata": {
    "ExecuteTime": {
     "end_time": "2021-12-05T07:26:50.109006Z",
     "start_time": "2021-12-05T07:26:50.092194Z"
    }
   },
   "outputs": [
    {
     "data": {
      "text/plain": [
       "0                      20429\n",
       "1                       2948\n",
       "SyntaxError             2209\n",
       "NameError                509\n",
       "TypeError                457\n",
       "-11                      450\n",
       "NotAnError               350\n",
       "EOFError                 104\n",
       "AttributeError            91\n",
       "ValueError                82\n",
       "IndentationError          58\n",
       "-6                        52\n",
       "IndexError                49\n",
       "ModuleNotFoundError       34\n",
       "TLEError                  23\n",
       "-8                        22\n",
       "SyntaxWarning             19\n",
       "TabError                  17\n",
       "ImportError               11\n",
       "KeyError                   6\n",
       "UnboundLocalError          6\n",
       "255                        5\n",
       "ZeroDivisionError          4\n",
       "9                          3\n",
       "4                          3\n",
       "7                          2\n",
       "20                         2\n",
       "2                          2\n",
       "OverflowError              2\n",
       "RuntimeError               2\n",
       "3                          1\n",
       "6                          1\n",
       "-7                         1\n",
       "11                         1\n",
       "12                         1\n",
       "245                        1\n",
       "8                          1\n",
       "-4                         1\n",
       "Name: error_class, dtype: int64"
      ]
     },
     "execution_count": 45,
     "metadata": {},
     "output_type": "execute_result"
    }
   ],
   "source": [
    "p_error_df['error_class'].value_counts()"
   ]
  },
  {
   "cell_type": "code",
   "execution_count": null,
   "id": "d34765be",
   "metadata": {},
   "outputs": [],
   "source": []
  }
 ],
 "metadata": {
  "kernelspec": {
   "display_name": "Python 3 (ipykernel)",
   "language": "python",
   "name": "python3"
  },
  "language_info": {
   "codemirror_mode": {
    "name": "ipython",
    "version": 3
   },
   "file_extension": ".py",
   "mimetype": "text/x-python",
   "name": "python",
   "nbconvert_exporter": "python",
   "pygments_lexer": "ipython3",
   "version": "3.9.5"
  }
 },
 "nbformat": 4,
 "nbformat_minor": 5
}
