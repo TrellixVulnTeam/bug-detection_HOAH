{
 "cells": [
  {
   "cell_type": "markdown",
   "id": "daa9d885",
   "metadata": {},
   "source": [
    "# CodeNet Dataset\n",
    "\n",
    "In this notebook I intend to make it very easy to visualize all the necessary information about a specific problem. The base dataset I will be using in this notebook is [CodeNet](https://github.com/IBM/Project_CodeNet) which is a large collection of source files and problem descriptions with metadata. The solutions are written in multiple programming languages (55+ according to the paper) and each problem has multiple submissions. Most of the submissions are written in the six most common languages (C++, Python, Java, C, Ruby, C#). As expected most of the solutions are in C++. One interesting aspect of the dataset is that it includes failed submissions, with various status codes such as Compilation Errors, Runtime Errors, Time Limit Exceeded, Memory Limit Exceeded, etc. This will prove useful since we are looking into bug detection in source code files.\n",
    "\n",
    "# Table of Contents\n",
    "1. [Download CodeNet](#Download-CodeNet)\n",
    "2. [Explore CodeNet](#Explore-CodeNet)\n",
    "3. [Explore Problem 0](#Explore-Problem-0)\n",
    "4. [Missing Values](#Missing-Values)\n",
    "5. [Explore Other Problems](#Explore-Other-Problems)\n",
    "6. [Generate Source Code Pairs](#Generate-Source-Code-Pairs)\n",
    "7. [Analyze source code files](#Analyze-source-code-files)\n",
    "8. [Get error type description](#Get-error-type-description)"
   ]
  },
  {
   "cell_type": "code",
   "execution_count": 1,
   "id": "7ae91f92",
   "metadata": {
    "ExecuteTime": {
     "end_time": "2021-12-05T20:17:06.946542Z",
     "start_time": "2021-12-05T20:17:06.036119Z"
    }
   },
   "outputs": [],
   "source": [
    "import os\n",
    "import re\n",
    "import io\n",
    "import sys\n",
    "import wget\n",
    "import pickle\n",
    "import random\n",
    "import tarfile\n",
    "import itertools\n",
    "import functools\n",
    "import subprocess\n",
    "\n",
    "import pandas as pd\n",
    "import seaborn as sns\n",
    "import matplotlib.pyplot as plt\n",
    "\n",
    "from bs4 import BeautifulSoup\n",
    "from IPython.display import display, HTML\n",
    "from tqdm import tqdm\n",
    "from pprint import pprint\n",
    "from difflib import Differ, SequenceMatcher\n",
    "\n",
    "tqdm.pandas()\n",
    "\n",
    "# Initialize the dataset paths\n",
    "input_path = '../input/'\n",
    "root_path = input_path + 'Project_CodeNet/'\n",
    "\n",
    "os.makedirs(input_path, exist_ok=True)\n",
    "\n",
    "data_path = root_path + 'data/'\n",
    "metadata_path = root_path + 'metadata/'\n",
    "derived_path = root_path + 'derived/'\n",
    "descriptions_path = root_path + 'problem_descriptions/'\n",
    "\n",
    "def id2desc(problem_id): return descriptions_path + problem_id + '.html'\n",
    "def id2inout(problem_id, name='input'): \n",
    "    return derived_path + 'input_output/data/' + problem_id + '/' + name + '.txt'\n",
    "def id2submission(problem_id, language, submission_id, filename_ext): \n",
    "    return data_path + problem_id + '/' + language + '/' + submission_id + '.' + filename_ext"
   ]
  },
  {
   "cell_type": "markdown",
   "id": "fde8520f",
   "metadata": {},
   "source": [
    "## Download CodeNet\n",
    "\n",
    "The next code cell will download the CodeNet dataset from it's original repository (the archive has around 80GB). If you already have the dataset change the input_path variable to point to the root of the dataset, otherwise the notebook will download it in the ../input/ directory."
   ]
  },
  {
   "cell_type": "code",
   "execution_count": 2,
   "id": "09ddced5",
   "metadata": {
    "ExecuteTime": {
     "end_time": "2021-12-05T20:17:06.952198Z",
     "start_time": "2021-12-05T20:17:06.948128Z"
    }
   },
   "outputs": [
    {
     "name": "stdout",
     "output_type": "stream",
     "text": [
      "dataset root dir found\n"
     ]
    }
   ],
   "source": [
    "data_url = \"https://dax-cdn.cdn.appdomain.cloud/dax-project-codenet/1.0.0\"\n",
    "tar_name = \"Project_CodeNet.tar.gz\"\n",
    "tar_path = input_path + tar_name\n",
    "\n",
    "def download_data():\n",
    "    if os.path.exists(root_path):\n",
    "        print(\"dataset root dir found\")\n",
    "        return\n",
    "\n",
    "    if not os.path.exists(tar_path):\n",
    "        wget.download(f\"{data_url}/{tar_name}\", out=tar_path)\n",
    "        \n",
    "    with tarfile.open(tar_path) as tf:\n",
    "        tf.extractall(path=data_path)\n",
    "\n",
    "download_data()"
   ]
  },
  {
   "cell_type": "markdown",
   "id": "769d7e1f",
   "metadata": {},
   "source": [
    "## Explore CodeNet"
   ]
  },
  {
   "cell_type": "markdown",
   "id": "b6a0ceb5",
   "metadata": {},
   "source": [
    "The dataset contains a metadata folder with details for each problem, which is basically a list of submissions with status codes, user IDs, time and memory consumption, and the programming language used for that solution. Other than that, the metadata contains a csv file with a list of all the problems, with some basic information, such as the name.\n",
    "\n",
    "Let's load the problem list table and look at the data. We are interested in seeing how many problems we have and from what coding competition each problem is taken from."
   ]
  },
  {
   "cell_type": "code",
   "execution_count": 3,
   "id": "75e54209",
   "metadata": {
    "ExecuteTime": {
     "end_time": "2021-12-05T20:17:06.995142Z",
     "start_time": "2021-12-05T20:17:06.953280Z"
    }
   },
   "outputs": [
    {
     "name": "stdout",
     "output_type": "stream",
     "text": [
      "We have 4053 problems\n",
      "The distribution of the datasets is\n",
      "AIZU       0.625216\n",
      "AtCoder    0.374784\n",
      "Name: dataset, dtype: float64\n"
     ]
    },
    {
     "data": {
      "text/html": [
       "<div>\n",
       "<style scoped>\n",
       "    .dataframe tbody tr th:only-of-type {\n",
       "        vertical-align: middle;\n",
       "    }\n",
       "\n",
       "    .dataframe tbody tr th {\n",
       "        vertical-align: top;\n",
       "    }\n",
       "\n",
       "    .dataframe thead th {\n",
       "        text-align: right;\n",
       "    }\n",
       "</style>\n",
       "<table border=\"1\" class=\"dataframe\">\n",
       "  <thead>\n",
       "    <tr style=\"text-align: right;\">\n",
       "      <th></th>\n",
       "      <th>name</th>\n",
       "      <th>dataset</th>\n",
       "      <th>time_limit</th>\n",
       "      <th>memory_limit</th>\n",
       "      <th>rating</th>\n",
       "      <th>tags</th>\n",
       "      <th>complexity</th>\n",
       "    </tr>\n",
       "    <tr>\n",
       "      <th>id</th>\n",
       "      <th></th>\n",
       "      <th></th>\n",
       "      <th></th>\n",
       "      <th></th>\n",
       "      <th></th>\n",
       "      <th></th>\n",
       "      <th></th>\n",
       "    </tr>\n",
       "  </thead>\n",
       "  <tbody>\n",
       "    <tr>\n",
       "      <th>p00000</th>\n",
       "      <td>QQ</td>\n",
       "      <td>AIZU</td>\n",
       "      <td>1000.0</td>\n",
       "      <td>131072.0</td>\n",
       "      <td>NaN</td>\n",
       "      <td>NaN</td>\n",
       "      <td>NaN</td>\n",
       "    </tr>\n",
       "    <tr>\n",
       "      <th>p00001</th>\n",
       "      <td>List of Top 3 Hills</td>\n",
       "      <td>AIZU</td>\n",
       "      <td>1000.0</td>\n",
       "      <td>131072.0</td>\n",
       "      <td>NaN</td>\n",
       "      <td>NaN</td>\n",
       "      <td>NaN</td>\n",
       "    </tr>\n",
       "    <tr>\n",
       "      <th>p00002</th>\n",
       "      <td>Digit Number</td>\n",
       "      <td>AIZU</td>\n",
       "      <td>1000.0</td>\n",
       "      <td>131072.0</td>\n",
       "      <td>NaN</td>\n",
       "      <td>NaN</td>\n",
       "      <td>NaN</td>\n",
       "    </tr>\n",
       "    <tr>\n",
       "      <th>p00003</th>\n",
       "      <td>Is it a Right Triangle?</td>\n",
       "      <td>AIZU</td>\n",
       "      <td>1000.0</td>\n",
       "      <td>131072.0</td>\n",
       "      <td>NaN</td>\n",
       "      <td>NaN</td>\n",
       "      <td>NaN</td>\n",
       "    </tr>\n",
       "    <tr>\n",
       "      <th>p00004</th>\n",
       "      <td>Simultaneous Equation</td>\n",
       "      <td>AIZU</td>\n",
       "      <td>1000.0</td>\n",
       "      <td>131072.0</td>\n",
       "      <td>NaN</td>\n",
       "      <td>NaN</td>\n",
       "      <td>NaN</td>\n",
       "    </tr>\n",
       "  </tbody>\n",
       "</table>\n",
       "</div>"
      ],
      "text/plain": [
       "                           name dataset  time_limit  memory_limit  rating  \\\n",
       "id                                                                          \n",
       "p00000                       QQ    AIZU      1000.0      131072.0     NaN   \n",
       "p00001      List of Top 3 Hills    AIZU      1000.0      131072.0     NaN   \n",
       "p00002             Digit Number    AIZU      1000.0      131072.0     NaN   \n",
       "p00003  Is it a Right Triangle?    AIZU      1000.0      131072.0     NaN   \n",
       "p00004    Simultaneous Equation    AIZU      1000.0      131072.0     NaN   \n",
       "\n",
       "        tags  complexity  \n",
       "id                        \n",
       "p00000   NaN         NaN  \n",
       "p00001   NaN         NaN  \n",
       "p00002   NaN         NaN  \n",
       "p00003   NaN         NaN  \n",
       "p00004   NaN         NaN  "
      ]
     },
     "metadata": {},
     "output_type": "display_data"
    },
    {
     "data": {
      "text/plain": [
       "name              56\n",
       "dataset            0\n",
       "time_limit        56\n",
       "memory_limit      56\n",
       "rating          4053\n",
       "tags            4053\n",
       "complexity      4053\n",
       "dtype: int64"
      ]
     },
     "metadata": {},
     "output_type": "display_data"
    }
   ],
   "source": [
    "# Load the problem list table as a csv\n",
    "problem_list_df = pd.read_csv(metadata_path + 'problem_list.csv')\n",
    "problem_list_df.set_index('id', inplace=True)\n",
    "\n",
    "print(f\"We have {len(problem_list_df)} problems\")\n",
    "print('The distribution of the datasets is')\n",
    "print(problem_list_df['dataset'].value_counts(normalize=True))\n",
    "display(problem_list_df.head())\n",
    "display(problem_list_df.isna().sum())"
   ]
  },
  {
   "cell_type": "markdown",
   "id": "a2267323",
   "metadata": {},
   "source": [
    "We can see that we have around 4000 problems with 2 thirds coming from the AIZU dataset and the rest from the AtCoder dataset. Another interesting aspect is that the rating, tags and complexity is missing for all the problems. The tags could have beed useful to classify the problem into corresponding categories, such as graph problem or dynamic programing problem, etc. There are also some data missing for the name, time limit and memory limit for a few problems, but it shouldn't be a problem. We can fill in the missing values for time limit and memory limit with some arbitrary numbers, such as the median values for those columns. I think that the name is not that relevant so we can skip it. Maybe the missing name hints toward the fact that we have some missing description files in the dataset."
   ]
  },
  {
   "cell_type": "code",
   "execution_count": 4,
   "id": "f479b104",
   "metadata": {
    "ExecuteTime": {
     "end_time": "2021-12-05T20:17:08.041301Z",
     "start_time": "2021-12-05T20:17:08.033151Z"
    }
   },
   "outputs": [
    {
     "name": "stdout",
     "output_type": "stream",
     "text": [
      "Median value for the time limit  2000.0\n",
      "Median value for the memory limit  262144.0\n"
     ]
    }
   ],
   "source": [
    "print('Median value for the time limit ', problem_list_df['time_limit'].median())\n",
    "print('Median value for the memory limit ', problem_list_df['memory_limit'].median())"
   ]
  },
  {
   "cell_type": "code",
   "execution_count": 5,
   "id": "3f7d4e9e",
   "metadata": {
    "ExecuteTime": {
     "end_time": "2021-12-05T20:17:08.211731Z",
     "start_time": "2021-12-05T20:17:08.195977Z"
    }
   },
   "outputs": [
    {
     "data": {
      "text/plain": [
       "name              56\n",
       "dataset            0\n",
       "time_limit         0\n",
       "memory_limit       0\n",
       "rating          4053\n",
       "tags            4053\n",
       "complexity      4053\n",
       "dtype: int64"
      ]
     },
     "metadata": {},
     "output_type": "display_data"
    }
   ],
   "source": [
    "problem_list_df['time_limit'].fillna(problem_list_df['time_limit'].median(), inplace=True)\n",
    "problem_list_df['memory_limit'].fillna(problem_list_df['memory_limit'].median(), inplace=True)\n",
    "display(problem_list_df.isna().sum())"
   ]
  },
  {
   "cell_type": "markdown",
   "id": "593221c3",
   "metadata": {},
   "source": [
    "## Explore Problem 0"
   ]
  },
  {
   "cell_type": "markdown",
   "id": "0c0508a9",
   "metadata": {},
   "source": [
    "Let's look for example at the first problem and see how many submissions it has, what programming languages were used, what was the distribution of the status for the submissions and the users that attempted this problem. Let's also see what was the average number of submissions per user."
   ]
  },
  {
   "cell_type": "code",
   "execution_count": 6,
   "id": "4ab2a17b",
   "metadata": {
    "ExecuteTime": {
     "end_time": "2021-12-05T20:17:08.880183Z",
     "start_time": "2021-12-05T20:17:08.791825Z"
    }
   },
   "outputs": [
    {
     "name": "stdout",
     "output_type": "stream",
     "text": [
      "We have 16099 submissions for problem p00000\n",
      "The distribution of the programming languages is\n",
      "C++           5231\n",
      "C             4849\n",
      "Java          2291\n",
      "Python        1626\n",
      "Ruby           701\n",
      "C#             416\n",
      "PHP            316\n",
      "JavaScript     288\n",
      "Scala          105\n",
      "Haskell        103\n",
      "D               89\n",
      "Go              31\n",
      "Rust            24\n",
      "OCaml           22\n",
      "Kotlin           7\n",
      "Name: language, dtype: int64\n",
      "The distribution of the status is\n",
      "Accepted                  8597\n",
      "Wrong Answer              3187\n",
      "Compile Error             2638\n",
      "Runtime Error              952\n",
      "WA: Presentation Error     545\n",
      "Time Limit Exceeded        164\n",
      "Memory Limit Exceeded       13\n",
      "Output Limit Exceeded        3\n",
      "Name: status, dtype: int64\n",
      "The number of users that attempted this problem 5944\n",
      "The average number of submissions of a user 2.708445491251682\n",
      "The min number of submissions of a user 1\n",
      "The median number of submissions of a user 1.0\n",
      "The max number of submissions of a user 1362\n"
     ]
    },
    {
     "data": {
      "text/html": [
       "<div>\n",
       "<style scoped>\n",
       "    .dataframe tbody tr th:only-of-type {\n",
       "        vertical-align: middle;\n",
       "    }\n",
       "\n",
       "    .dataframe tbody tr th {\n",
       "        vertical-align: top;\n",
       "    }\n",
       "\n",
       "    .dataframe thead th {\n",
       "        text-align: right;\n",
       "    }\n",
       "</style>\n",
       "<table border=\"1\" class=\"dataframe\">\n",
       "  <thead>\n",
       "    <tr style=\"text-align: right;\">\n",
       "      <th></th>\n",
       "      <th>problem_id</th>\n",
       "      <th>user_id</th>\n",
       "      <th>date</th>\n",
       "      <th>language</th>\n",
       "      <th>original_language</th>\n",
       "      <th>filename_ext</th>\n",
       "      <th>status</th>\n",
       "      <th>cpu_time</th>\n",
       "      <th>memory</th>\n",
       "      <th>code_size</th>\n",
       "      <th>accuracy</th>\n",
       "    </tr>\n",
       "    <tr>\n",
       "      <th>submission_id</th>\n",
       "      <th></th>\n",
       "      <th></th>\n",
       "      <th></th>\n",
       "      <th></th>\n",
       "      <th></th>\n",
       "      <th></th>\n",
       "      <th></th>\n",
       "      <th></th>\n",
       "      <th></th>\n",
       "      <th></th>\n",
       "      <th></th>\n",
       "    </tr>\n",
       "  </thead>\n",
       "  <tbody>\n",
       "    <tr>\n",
       "      <th>s694813024</th>\n",
       "      <td>p00000</td>\n",
       "      <td>u706566315</td>\n",
       "      <td>1540908251</td>\n",
       "      <td>Rust</td>\n",
       "      <td>Rust</td>\n",
       "      <td>rs</td>\n",
       "      <td>Wrong Answer</td>\n",
       "      <td>0</td>\n",
       "      <td>5012</td>\n",
       "      <td>120</td>\n",
       "      <td>0/1</td>\n",
       "    </tr>\n",
       "    <tr>\n",
       "      <th>s554950692</th>\n",
       "      <td>p00000</td>\n",
       "      <td>u706566315</td>\n",
       "      <td>1540908314</td>\n",
       "      <td>Rust</td>\n",
       "      <td>Rust</td>\n",
       "      <td>rs</td>\n",
       "      <td>Accepted</td>\n",
       "      <td>0</td>\n",
       "      <td>5004</td>\n",
       "      <td>124</td>\n",
       "      <td>1/1</td>\n",
       "    </tr>\n",
       "    <tr>\n",
       "      <th>s555203498</th>\n",
       "      <td>p00000</td>\n",
       "      <td>u759934006</td>\n",
       "      <td>1513417513</td>\n",
       "      <td>Rust</td>\n",
       "      <td>Rust</td>\n",
       "      <td>rs</td>\n",
       "      <td>Accepted</td>\n",
       "      <td>0</td>\n",
       "      <td>5020</td>\n",
       "      <td>136</td>\n",
       "      <td>1/1</td>\n",
       "    </tr>\n",
       "    <tr>\n",
       "      <th>s309783173</th>\n",
       "      <td>p00000</td>\n",
       "      <td>u233505136</td>\n",
       "      <td>1516826051</td>\n",
       "      <td>Rust</td>\n",
       "      <td>Rust</td>\n",
       "      <td>rs</td>\n",
       "      <td>Accepted</td>\n",
       "      <td>0</td>\n",
       "      <td>5004</td>\n",
       "      <td>123</td>\n",
       "      <td>1/1</td>\n",
       "    </tr>\n",
       "    <tr>\n",
       "      <th>s184977351</th>\n",
       "      <td>p00000</td>\n",
       "      <td>u191088660</td>\n",
       "      <td>1517740150</td>\n",
       "      <td>Rust</td>\n",
       "      <td>Rust</td>\n",
       "      <td>rs</td>\n",
       "      <td>Accepted</td>\n",
       "      <td>0</td>\n",
       "      <td>5004</td>\n",
       "      <td>122</td>\n",
       "      <td>1/1</td>\n",
       "    </tr>\n",
       "  </tbody>\n",
       "</table>\n",
       "</div>"
      ],
      "text/plain": [
       "              problem_id     user_id        date language original_language  \\\n",
       "submission_id                                                                 \n",
       "s694813024        p00000  u706566315  1540908251     Rust              Rust   \n",
       "s554950692        p00000  u706566315  1540908314     Rust              Rust   \n",
       "s555203498        p00000  u759934006  1513417513     Rust              Rust   \n",
       "s309783173        p00000  u233505136  1516826051     Rust              Rust   \n",
       "s184977351        p00000  u191088660  1517740150     Rust              Rust   \n",
       "\n",
       "              filename_ext        status  cpu_time  memory  code_size accuracy  \n",
       "submission_id                                                                   \n",
       "s694813024              rs  Wrong Answer         0    5012        120      0/1  \n",
       "s554950692              rs      Accepted         0    5004        124      1/1  \n",
       "s555203498              rs      Accepted         0    5020        136      1/1  \n",
       "s309783173              rs      Accepted         0    5004        123      1/1  \n",
       "s184977351              rs      Accepted         0    5004        122      1/1  "
      ]
     },
     "metadata": {},
     "output_type": "display_data"
    }
   ],
   "source": [
    "problem_id = 'p00000'\n",
    "\n",
    "problem_df = pd.read_csv(metadata_path + f'{problem_id}.csv')\n",
    "problem_df.set_index('submission_id', inplace=True)\n",
    "\n",
    "print(f\"We have {len(problem_df)} submissions for problem {problem_id}\")\n",
    "print('The distribution of the programming languages is')\n",
    "print(problem_df['language'].value_counts())\n",
    "print('The distribution of the status is')\n",
    "print(problem_df['status'].value_counts())\n",
    "print('The number of users that attempted this problem', len(problem_df['user_id'].unique()))\n",
    "print('The average number of submissions of a user', problem_df.groupby('user_id').size().mean())\n",
    "print('The min number of submissions of a user', problem_df.groupby('user_id').size().min())\n",
    "print('The median number of submissions of a user', problem_df.groupby('user_id').size().median())\n",
    "print('The max number of submissions of a user', problem_df.groupby('user_id').size().max())\n",
    "display(problem_df.head())"
   ]
  },
  {
   "cell_type": "markdown",
   "id": "12b9e82b",
   "metadata": {},
   "source": [
    "We can see that for this problem the top six used programming languages matches the top six of the entire dataset (C++, C, Java, Python, Ruby, C#) and also that the distribution of the status is again consistent, with around 50% accepted submissions and the rest being some form of error, according to the dataset paper. It looks like the number of users that tried this problem is very large, ~6000, the average number of submission being equal to 2.7, but in this case we can see that the average is not that useful, it being very sensitive to outliers, as there is an user that sent over 1000 submissions, so I think that the median is a better metric for trying to see how hard a problem was. In the case of the first problem the median number of submissions for a single user is 1, so we can assume that this problem was easy to solve. Now I think that C is a simple enough language so we can take a subsample of the first problem containing only the C solutions and continue from there."
   ]
  },
  {
   "cell_type": "code",
   "execution_count": 7,
   "id": "fd8a0e52",
   "metadata": {
    "ExecuteTime": {
     "end_time": "2021-12-05T20:17:09.236364Z",
     "start_time": "2021-12-05T20:17:09.201197Z"
    }
   },
   "outputs": [
    {
     "name": "stdout",
     "output_type": "stream",
     "text": [
      "We have 4849 submissions for problem p00000\n",
      "The distribution of the programming languages is\n",
      "C    4849\n",
      "Name: language, dtype: int64\n",
      "The distribution of the status is\n",
      "Accepted                  2089\n",
      "Wrong Answer              1126\n",
      "Compile Error              993\n",
      "Runtime Error              389\n",
      "WA: Presentation Error     189\n",
      "Time Limit Exceeded         61\n",
      "Memory Limit Exceeded        2\n",
      "Name: status, dtype: int64\n",
      "The number of users that attempted this problem 1704\n",
      "The average number of submissions of a user 2.845657276995305\n",
      "The min number of submissions of a user 1\n",
      "The median number of submissions of a user 1.0\n",
      "The max number of submissions of a user 865\n"
     ]
    },
    {
     "data": {
      "text/html": [
       "<div>\n",
       "<style scoped>\n",
       "    .dataframe tbody tr th:only-of-type {\n",
       "        vertical-align: middle;\n",
       "    }\n",
       "\n",
       "    .dataframe tbody tr th {\n",
       "        vertical-align: top;\n",
       "    }\n",
       "\n",
       "    .dataframe thead th {\n",
       "        text-align: right;\n",
       "    }\n",
       "</style>\n",
       "<table border=\"1\" class=\"dataframe\">\n",
       "  <thead>\n",
       "    <tr style=\"text-align: right;\">\n",
       "      <th></th>\n",
       "      <th>problem_id</th>\n",
       "      <th>user_id</th>\n",
       "      <th>date</th>\n",
       "      <th>language</th>\n",
       "      <th>original_language</th>\n",
       "      <th>filename_ext</th>\n",
       "      <th>status</th>\n",
       "      <th>cpu_time</th>\n",
       "      <th>memory</th>\n",
       "      <th>code_size</th>\n",
       "      <th>accuracy</th>\n",
       "    </tr>\n",
       "    <tr>\n",
       "      <th>submission_id</th>\n",
       "      <th></th>\n",
       "      <th></th>\n",
       "      <th></th>\n",
       "      <th></th>\n",
       "      <th></th>\n",
       "      <th></th>\n",
       "      <th></th>\n",
       "      <th></th>\n",
       "      <th></th>\n",
       "      <th></th>\n",
       "      <th></th>\n",
       "    </tr>\n",
       "  </thead>\n",
       "  <tbody>\n",
       "    <tr>\n",
       "      <th>s113530555</th>\n",
       "      <td>p00000</td>\n",
       "      <td>u564373483</td>\n",
       "      <td>1530931912</td>\n",
       "      <td>C</td>\n",
       "      <td>C</td>\n",
       "      <td>c</td>\n",
       "      <td>Accepted</td>\n",
       "      <td>0</td>\n",
       "      <td>2036</td>\n",
       "      <td>148</td>\n",
       "      <td>1/1</td>\n",
       "    </tr>\n",
       "    <tr>\n",
       "      <th>s650564374</th>\n",
       "      <td>p00000</td>\n",
       "      <td>u011621222</td>\n",
       "      <td>1530986413</td>\n",
       "      <td>C</td>\n",
       "      <td>C</td>\n",
       "      <td>c</td>\n",
       "      <td>Wrong Answer</td>\n",
       "      <td>0</td>\n",
       "      <td>2044</td>\n",
       "      <td>177</td>\n",
       "      <td>0/1</td>\n",
       "    </tr>\n",
       "    <tr>\n",
       "      <th>s054320558</th>\n",
       "      <td>p00000</td>\n",
       "      <td>u011621222</td>\n",
       "      <td>1530987028</td>\n",
       "      <td>C</td>\n",
       "      <td>C</td>\n",
       "      <td>c</td>\n",
       "      <td>Wrong Answer</td>\n",
       "      <td>0</td>\n",
       "      <td>2044</td>\n",
       "      <td>191</td>\n",
       "      <td>0/1</td>\n",
       "    </tr>\n",
       "    <tr>\n",
       "      <th>s104411660</th>\n",
       "      <td>p00000</td>\n",
       "      <td>u011621222</td>\n",
       "      <td>1531006441</td>\n",
       "      <td>C</td>\n",
       "      <td>C</td>\n",
       "      <td>c</td>\n",
       "      <td>Wrong Answer</td>\n",
       "      <td>0</td>\n",
       "      <td>2032</td>\n",
       "      <td>197</td>\n",
       "      <td>0/1</td>\n",
       "    </tr>\n",
       "    <tr>\n",
       "      <th>s966149516</th>\n",
       "      <td>p00000</td>\n",
       "      <td>u011621222</td>\n",
       "      <td>1531030321</td>\n",
       "      <td>C</td>\n",
       "      <td>C</td>\n",
       "      <td>c</td>\n",
       "      <td>Wrong Answer</td>\n",
       "      <td>0</td>\n",
       "      <td>1984</td>\n",
       "      <td>190</td>\n",
       "      <td>0/1</td>\n",
       "    </tr>\n",
       "  </tbody>\n",
       "</table>\n",
       "</div>"
      ],
      "text/plain": [
       "              problem_id     user_id        date language original_language  \\\n",
       "submission_id                                                                 \n",
       "s113530555        p00000  u564373483  1530931912        C                 C   \n",
       "s650564374        p00000  u011621222  1530986413        C                 C   \n",
       "s054320558        p00000  u011621222  1530987028        C                 C   \n",
       "s104411660        p00000  u011621222  1531006441        C                 C   \n",
       "s966149516        p00000  u011621222  1531030321        C                 C   \n",
       "\n",
       "              filename_ext        status  cpu_time  memory  code_size accuracy  \n",
       "submission_id                                                                   \n",
       "s113530555               c      Accepted         0    2036        148      1/1  \n",
       "s650564374               c  Wrong Answer         0    2044        177      0/1  \n",
       "s054320558               c  Wrong Answer         0    2044        191      0/1  \n",
       "s104411660               c  Wrong Answer         0    2032        197      0/1  \n",
       "s966149516               c  Wrong Answer         0    1984        190      0/1  "
      ]
     },
     "metadata": {},
     "output_type": "display_data"
    }
   ],
   "source": [
    "languages = problem_df['language'].unique()\n",
    "language = 'C'\n",
    "\n",
    "problem_df = problem_df[problem_df['language'] == language]\n",
    "\n",
    "print(f\"We have {len(problem_df)} submissions for problem {problem_id}\")\n",
    "print('The distribution of the programming languages is')\n",
    "print(problem_df['language'].value_counts())\n",
    "print('The distribution of the status is')\n",
    "print(problem_df['status'].value_counts())\n",
    "print('The number of users that attempted this problem', len(problem_df['user_id'].unique()))\n",
    "print('The average number of submissions of a user', problem_df.groupby('user_id').size().mean())\n",
    "print('The min number of submissions of a user', problem_df.groupby('user_id').size().min())\n",
    "print('The median number of submissions of a user', problem_df.groupby('user_id').size().median())\n",
    "print('The max number of submissions of a user', problem_df.groupby('user_id').size().max())\n",
    "display(problem_df.head())"
   ]
  },
  {
   "cell_type": "markdown",
   "id": "77507624",
   "metadata": {},
   "source": [
    "Again it looks like the distribution of the statistics is consistent with the entire dataset even for this subset. Now it would be interesting to see some examples of solutions found for this problem. Let's start by creating a function that reads a C submission from the dataset source files."
   ]
  },
  {
   "cell_type": "code",
   "execution_count": 8,
   "id": "8bde9e14",
   "metadata": {
    "ExecuteTime": {
     "end_time": "2021-12-05T20:17:10.387567Z",
     "start_time": "2021-12-05T20:17:10.381215Z"
    }
   },
   "outputs": [
    {
     "name": "stdout",
     "output_type": "stream",
     "text": [
      "#include<stdio.h>\n",
      "\n",
      "int main(){\n",
      "  int i,j;\n",
      "\n",
      "  for(i=1;i<10;i++){\n",
      "    for(j=1;j<10;j++){\n",
      "      printf(\"%dx%d=%d\\n\",i,j,i*j);\n",
      "    }\n",
      "  }\n",
      "\n",
      "  return 0;\n",
      "}\n"
     ]
    }
   ],
   "source": [
    "submission = problem_df[problem_df['status'] == 'Accepted'].index[0]\n",
    "\n",
    "with open(id2submission('p00000', 'C', submission, 'c')) as f:\n",
    "    text = f.readlines()\n",
    "    \n",
    "sys.stdout.writelines(text)"
   ]
  },
  {
   "cell_type": "code",
   "execution_count": 9,
   "id": "d38d4cb6",
   "metadata": {
    "ExecuteTime": {
     "end_time": "2021-12-05T20:17:10.683260Z",
     "start_time": "2021-12-05T20:17:10.672786Z"
    }
   },
   "outputs": [
    {
     "name": "stdout",
     "output_type": "stream",
     "text": [
      "#include<stdio.h>\n",
      "int main()\n",
      "{\n",
      "    int i,j;\n",
      "    for(i=1; i<10; i++)\n",
      "    {\n",
      "        for(j=1; j<10; j++)\n",
      "            printf(\"%dx%d=%d\\n\", i, j, (i*j));\n",
      "    }\n",
      "\n",
      "    return 0;\n",
      "}\n",
      "\n"
     ]
    }
   ],
   "source": [
    "submission = problem_df[problem_df['status'] == 'Accepted'].index[1]\n",
    "\n",
    "with open(id2submission('p00000', 'C', submission, 'c')) as f:\n",
    "    text = f.readlines()\n",
    "    \n",
    "sys.stdout.writelines(text)"
   ]
  },
  {
   "cell_type": "code",
   "execution_count": 10,
   "id": "322eae64",
   "metadata": {
    "ExecuteTime": {
     "end_time": "2021-12-05T20:17:11.070287Z",
     "start_time": "2021-12-05T20:17:11.061058Z"
    }
   },
   "outputs": [
    {
     "name": "stdout",
     "output_type": "stream",
     "text": [
      "#include<stdio.h>\n",
      "int main()\n",
      "{\n",
      "    int i,a,c;\n",
      "    for(i=1; i<=9; i++)\n",
      "    {\n",
      "        for(a=1; a<=9; a++)\n",
      "        {\n",
      "            c=i*a;\n",
      "            printf(\"%dx%d=%d\\n\",i,a,c);\n",
      "        }\n",
      "    }\n",
      "\n",
      "}\n",
      "\n"
     ]
    }
   ],
   "source": [
    "submission = problem_df[problem_df['status'] == 'Accepted'].index[2]\n",
    "\n",
    "with open(id2submission('p00000', 'C', submission, 'c')) as f:\n",
    "    text = f.readlines()\n",
    "    \n",
    "sys.stdout.writelines(text)"
   ]
  },
  {
   "cell_type": "markdown",
   "id": "4ec912cd",
   "metadata": {},
   "source": [
    "So these solutions make me think that the problem consists only in implementing a printing function for multiplication rules. To make sure we can check the description file of the problem."
   ]
  },
  {
   "cell_type": "code",
   "execution_count": 11,
   "id": "b68f4b89",
   "metadata": {
    "ExecuteTime": {
     "end_time": "2021-12-05T20:17:11.669341Z",
     "start_time": "2021-12-05T20:17:11.657537Z"
    }
   },
   "outputs": [
    {
     "data": {
      "text/html": [
       "\n",
       "\n",
       "<H1>QQ</H1>\n",
       "\n",
       "\n",
       "<p>\n",
       "Write a program which prints multiplication tables in the following format:\n",
       "</p>\n",
       "\n",
       "<pre>\n",
       "1x1=1\n",
       "1x2=2\n",
       ".\n",
       ".\n",
       "9x8=72\n",
       "9x9=81\n",
       "</pre>\n",
       "\n",
       "<H2>Input</H2>\n",
       "\n",
       "<p>\n",
       "No input.\n",
       "</p>\n",
       "\n",
       "<H2>Output</H2>\n",
       "\n",
       "<pre>\n",
       "1x1=1\n",
       "1x2=2\n",
       ".\n",
       ".\n",
       "9x8=72\n",
       "9x9=81\n",
       "</pre>\n",
       "\n",
       "\n",
       "<H2>Template for C</H2>\n",
       "\n",
       "<pre>\n",
       "#include&lt;stdio.h&gt;\n",
       "\n",
       "int main(){\n",
       "\n",
       "    return 0;\n",
       "}\n",
       "</pre>\n",
       "\n",
       "<H2>Template for C++</H2>\n",
       "\n",
       "<pre>\n",
       "#include&lt;iostream&gt;\n",
       "using namespace std;\n",
       "\n",
       "int main(){\n",
       "\n",
       "    return 0;\n",
       "}\n",
       "</pre>\n",
       "\n",
       "\n",
       "<H2>Template for Java</H2>\n",
       "\n",
       "<pre>\n",
       "class Main{\n",
       "    public static void main(String[] a){\n",
       "\n",
       "    }\n",
       "}\n",
       "</pre>"
      ],
      "text/plain": [
       "<IPython.core.display.HTML object>"
      ]
     },
     "metadata": {},
     "output_type": "display_data"
    }
   ],
   "source": [
    "with open(id2desc('p00000')) as f:\n",
    "    text = f.readlines()\n",
    "display(HTML(''.join(text)))"
   ]
  },
  {
   "cell_type": "markdown",
   "id": "f374a417",
   "metadata": {},
   "source": [
    "## Missing Values"
   ]
  },
  {
   "cell_type": "markdown",
   "id": "0d4978e3",
   "metadata": {},
   "source": [
    "The dataset also includes a description file for most of the problems. We can see which problems have or don't have a description associated. The description file can be useful to predict what the problem topic is about, graphs, dp, greedy, etc."
   ]
  },
  {
   "cell_type": "code",
   "execution_count": 12,
   "id": "a6532dd5",
   "metadata": {
    "ExecuteTime": {
     "end_time": "2021-12-05T20:17:12.489435Z",
     "start_time": "2021-12-05T20:17:12.486344Z"
    }
   },
   "outputs": [],
   "source": [
    "problem_ids = problem_list_df.index.unique()"
   ]
  },
  {
   "cell_type": "code",
   "execution_count": 13,
   "id": "049311e6",
   "metadata": {
    "ExecuteTime": {
     "end_time": "2021-12-05T20:17:12.720290Z",
     "start_time": "2021-12-05T20:17:12.692776Z"
    }
   },
   "outputs": [
    {
     "name": "stdout",
     "output_type": "stream",
     "text": [
      "There are 54 missing description files.\n",
      "Missing values for the problems without description\n"
     ]
    },
    {
     "data": {
      "text/plain": [
       "name            54\n",
       "dataset          0\n",
       "time_limit       0\n",
       "memory_limit     0\n",
       "rating          54\n",
       "tags            54\n",
       "complexity      54\n",
       "dtype: int64"
      ]
     },
     "metadata": {},
     "output_type": "display_data"
    },
    {
     "name": "stdout",
     "output_type": "stream",
     "text": [
      "Missing values for the problems with description\n"
     ]
    },
    {
     "data": {
      "text/plain": [
       "name               2\n",
       "dataset            0\n",
       "time_limit         0\n",
       "memory_limit       0\n",
       "rating          3999\n",
       "tags            3999\n",
       "complexity      3999\n",
       "dtype: int64"
      ]
     },
     "metadata": {},
     "output_type": "display_data"
    }
   ],
   "source": [
    "description_mask = [os.path.exists(id2desc(problem_id)) for problem_id in problem_ids]\n",
    "description_mask_not = [not x for x in description_mask]\n",
    "\n",
    "print(f'There are {len(problem_list_df[description_mask_not])} missing description files.')\n",
    "print('Missing values for the problems without description')\n",
    "display(problem_list_df[description_mask_not].isna().sum())\n",
    "print('Missing values for the problems with description')\n",
    "display(problem_list_df[description_mask].isna().sum())"
   ]
  },
  {
   "cell_type": "markdown",
   "id": "efae3216",
   "metadata": {},
   "source": [
    "All missing description files are linked to the missing name in the problem list csv."
   ]
  },
  {
   "cell_type": "code",
   "execution_count": 14,
   "id": "cffdd383",
   "metadata": {
    "ExecuteTime": {
     "end_time": "2021-12-05T20:17:13.353458Z",
     "start_time": "2021-12-05T20:17:13.330300Z"
    }
   },
   "outputs": [
    {
     "data": {
      "text/html": [
       "<div>\n",
       "<style scoped>\n",
       "    .dataframe tbody tr th:only-of-type {\n",
       "        vertical-align: middle;\n",
       "    }\n",
       "\n",
       "    .dataframe tbody tr th {\n",
       "        vertical-align: top;\n",
       "    }\n",
       "\n",
       "    .dataframe thead th {\n",
       "        text-align: right;\n",
       "    }\n",
       "</style>\n",
       "<table border=\"1\" class=\"dataframe\">\n",
       "  <thead>\n",
       "    <tr style=\"text-align: right;\">\n",
       "      <th></th>\n",
       "      <th>name</th>\n",
       "      <th>dataset</th>\n",
       "      <th>time_limit</th>\n",
       "      <th>memory_limit</th>\n",
       "      <th>rating</th>\n",
       "      <th>tags</th>\n",
       "      <th>complexity</th>\n",
       "    </tr>\n",
       "    <tr>\n",
       "      <th>id</th>\n",
       "      <th></th>\n",
       "      <th></th>\n",
       "      <th></th>\n",
       "      <th></th>\n",
       "      <th></th>\n",
       "      <th></th>\n",
       "      <th></th>\n",
       "    </tr>\n",
       "  </thead>\n",
       "  <tbody>\n",
       "    <tr>\n",
       "      <th>p02478</th>\n",
       "      <td>NaN</td>\n",
       "      <td>AIZU</td>\n",
       "      <td>2000.0</td>\n",
       "      <td>262144.0</td>\n",
       "      <td>NaN</td>\n",
       "      <td>NaN</td>\n",
       "      <td>NaN</td>\n",
       "    </tr>\n",
       "    <tr>\n",
       "      <th>p02533</th>\n",
       "      <td>NaN</td>\n",
       "      <td>AIZU</td>\n",
       "      <td>2000.0</td>\n",
       "      <td>262144.0</td>\n",
       "      <td>NaN</td>\n",
       "      <td>NaN</td>\n",
       "      <td>NaN</td>\n",
       "    </tr>\n",
       "  </tbody>\n",
       "</table>\n",
       "</div>"
      ],
      "text/plain": [
       "       name dataset  time_limit  memory_limit  rating  tags  complexity\n",
       "id                                                                     \n",
       "p02478  NaN    AIZU      2000.0      262144.0     NaN   NaN         NaN\n",
       "p02533  NaN    AIZU      2000.0      262144.0     NaN   NaN         NaN"
      ]
     },
     "execution_count": 14,
     "metadata": {},
     "output_type": "execute_result"
    }
   ],
   "source": [
    "x_df = problem_list_df[description_mask][problem_list_df[description_mask]['name'].isna()]\n",
    "\n",
    "x_df"
   ]
  },
  {
   "cell_type": "code",
   "execution_count": 15,
   "id": "18e1d321",
   "metadata": {
    "ExecuteTime": {
     "end_time": "2021-12-05T20:17:13.753306Z",
     "start_time": "2021-12-05T20:17:13.731728Z"
    }
   },
   "outputs": [
    {
     "name": "stdout",
     "output_type": "stream",
     "text": [
      "==================p02478=====================\n"
     ]
    },
    {
     "data": {
      "text/html": [
       "<a href=\"https://onlinejudge.u-aizu.ac.jp/resources/icpcooc2018/practice/C.pdf\" target='_blank'>Problem is available from here.</a>"
      ],
      "text/plain": [
       "<IPython.core.display.HTML object>"
      ]
     },
     "metadata": {},
     "output_type": "display_data"
    },
    {
     "name": "stdout",
     "output_type": "stream",
     "text": [
      "Submissions for the p02478 problem  0\n",
      "=================p02533======================\n"
     ]
    },
    {
     "data": {
      "text/html": [
       "<h2>Problem 9999</h2>\n",
       "<p>\n",
       "これはテスト問題です。\n",
       "This is test problem. Compute A + B.\n",
       "</p>\n"
      ],
      "text/plain": [
       "<IPython.core.display.HTML object>"
      ]
     },
     "metadata": {},
     "output_type": "display_data"
    },
    {
     "name": "stdout",
     "output_type": "stream",
     "text": [
      "Submissions for the p02533 problem  0\n"
     ]
    }
   ],
   "source": [
    "print(f'=================={x_df.index[0]}=====================')\n",
    "with open(id2desc(x_df.index[0])) as f:\n",
    "    text = f.readlines()\n",
    "display(HTML(''.join(text)))\n",
    "print(f'Submissions for the {x_df.index[0]} problem ', len(pd.read_csv(metadata_path + f'{x_df.index[0]}.csv')))\n",
    "\n",
    "print(f'================={x_df.index[1]}======================')\n",
    "with open(id2desc(x_df.index[1])) as f:\n",
    "    text = f.readlines()\n",
    "display(HTML(''.join(text)))\n",
    "\n",
    "print(f'Submissions for the {x_df.index[1]} problem ', len(pd.read_csv(metadata_path + f'{x_df.index[1]}.csv')))"
   ]
  },
  {
   "cell_type": "markdown",
   "id": "173efab6",
   "metadata": {},
   "source": [
    "The first problem with a missing name with a description links to a 404 Page and the other one is a basic description file but looks like a test problem, with no submissions. In fact, none of those 2 problems have a single submission. So they are useless."
   ]
  },
  {
   "cell_type": "code",
   "execution_count": 16,
   "id": "63140de2",
   "metadata": {
    "ExecuteTime": {
     "end_time": "2021-12-05T20:17:15.118274Z",
     "start_time": "2021-12-05T20:17:15.110644Z"
    }
   },
   "outputs": [
    {
     "data": {
      "text/plain": [
       "AIZU    54\n",
       "Name: dataset, dtype: int64"
      ]
     },
     "execution_count": 16,
     "metadata": {},
     "output_type": "execute_result"
    }
   ],
   "source": [
    "x_df = problem_list_df[description_mask_not][problem_list_df[description_mask_not]['name'].isna()]\n",
    "\n",
    "x_df['dataset'].value_counts()"
   ]
  },
  {
   "cell_type": "code",
   "execution_count": 17,
   "id": "943a939c",
   "metadata": {
    "ExecuteTime": {
     "end_time": "2021-12-05T20:17:15.745292Z",
     "start_time": "2021-12-05T20:17:15.512773Z"
    }
   },
   "outputs": [
    {
     "name": "stdout",
     "output_type": "stream",
     "text": [
      "Number of submissions for problems without a description file\n",
      "Submissions for the p02479 problem  4052\n",
      "Submissions for the p02480 problem  4277\n",
      "Submissions for the p02481 problem  3577\n",
      "Submissions for the p02482 problem  4194\n",
      "Submissions for the p02483 problem  3905\n",
      "Submissions for the p02484 problem  2826\n",
      "Submissions for the p02485 problem  1698\n",
      "Submissions for the p02486 problem  1795\n",
      "Submissions for the p02487 problem  2057\n",
      "Submissions for the p02488 problem  1492\n",
      "Submissions for the p02489 problem  3817\n",
      "Submissions for the p02490 problem  2827\n",
      "Submissions for the p02491 problem  3143\n",
      "Submissions for the p02492 problem  2076\n",
      "Submissions for the p02493 problem  2743\n",
      "Submissions for the p02494 problem  3362\n",
      "Submissions for the p02495 problem  2190\n",
      "Submissions for the p02496 problem  1921\n",
      "Submissions for the p02497 problem  2539\n",
      "Submissions for the p02498 problem  1512\n",
      "Submissions for the p02499 problem  2643\n",
      "Submissions for the p02500 problem  6\n",
      "Submissions for the p02501 problem  11\n",
      "Submissions for the p02502 problem  7\n",
      "Submissions for the p02503 problem  18\n",
      "Submissions for the p02504 problem  3\n",
      "Submissions for the p02505 problem  9\n",
      "Submissions for the p02506 problem  2079\n",
      "Submissions for the p02507 problem  8\n",
      "Submissions for the p02508 problem  9\n",
      "Submissions for the p02509 problem  4\n",
      "Submissions for the p02510 problem  1065\n",
      "Submissions for the p02511 problem  472\n",
      "Submissions for the p02512 problem  469\n",
      "Submissions for the p02513 problem  317\n",
      "Submissions for the p02514 problem  407\n",
      "Submissions for the p02515 problem  143\n",
      "Submissions for the p02516 problem  262\n",
      "Submissions for the p02517 problem  211\n",
      "Submissions for the p02518 problem  360\n",
      "Submissions for the p02519 problem  99\n",
      "Submissions for the p02520 problem  146\n",
      "Submissions for the p02521 problem  100\n",
      "Submissions for the p02522 problem  10\n",
      "Submissions for the p02523 problem  1315\n",
      "Submissions for the p02524 problem  867\n",
      "Submissions for the p02525 problem  1687\n",
      "Submissions for the p02526 problem  2440\n",
      "Submissions for the p02527 problem  1988\n",
      "Submissions for the p02528 problem  1540\n",
      "Submissions for the p02529 problem  2144\n",
      "Submissions for the p02530 problem  818\n",
      "Submissions for the p02531 problem  830\n",
      "Submissions for the p02532 problem  847\n"
     ]
    }
   ],
   "source": [
    "print('Number of submissions for problems without a description file')\n",
    "for i in range(len(x_df)):\n",
    "    print(f'Submissions for the {x_df.index[i]} problem ', len(pd.read_csv(metadata_path + f'{x_df.index[i]}.csv')))"
   ]
  },
  {
   "cell_type": "markdown",
   "id": "ce396883",
   "metadata": {},
   "source": [
    "Now let's look at missing input files. Do they match with the missing description or are they more? Or are some problems not expected to use input, such as the first problem that was just a print problem."
   ]
  },
  {
   "cell_type": "code",
   "execution_count": 18,
   "id": "cf4dd954",
   "metadata": {
    "ExecuteTime": {
     "end_time": "2021-12-05T20:17:16.491770Z",
     "start_time": "2021-12-05T20:17:16.461120Z"
    }
   },
   "outputs": [
    {
     "name": "stdout",
     "output_type": "stream",
     "text": [
      "There are 186 missing input files.\n",
      "Missing values for the problems without input\n"
     ]
    },
    {
     "data": {
      "text/plain": [
       "name             56\n",
       "dataset           0\n",
       "time_limit        0\n",
       "memory_limit      0\n",
       "rating          186\n",
       "tags            186\n",
       "complexity      186\n",
       "dtype: int64"
      ]
     },
     "metadata": {},
     "output_type": "display_data"
    },
    {
     "name": "stdout",
     "output_type": "stream",
     "text": [
      "Missing values for the problems with input\n"
     ]
    },
    {
     "data": {
      "text/plain": [
       "name               0\n",
       "dataset            0\n",
       "time_limit         0\n",
       "memory_limit       0\n",
       "rating          3867\n",
       "tags            3867\n",
       "complexity      3867\n",
       "dtype: int64"
      ]
     },
     "metadata": {},
     "output_type": "display_data"
    }
   ],
   "source": [
    "input_mask = [os.path.exists(id2inout(problem_id)) for problem_id in problem_ids]\n",
    "input_mask_not = [not x for x in input_mask]\n",
    "\n",
    "print(f'There are {len(problem_list_df[input_mask_not])} missing input files.')\n",
    "print('Missing values for the problems without input')\n",
    "display(problem_list_df[input_mask_not].isna().sum())\n",
    "print('Missing values for the problems with input')\n",
    "display(problem_list_df[input_mask].isna().sum())"
   ]
  },
  {
   "cell_type": "markdown",
   "id": "81853a85",
   "metadata": {},
   "source": [
    "Looks like there are more problems without input/output rather than just missing descriptions. But again the problems that are missing the descriptions are also missing the input. In this case it is better to just drop those problems, since we cannot for sure tell how to run them."
   ]
  },
  {
   "cell_type": "code",
   "execution_count": 19,
   "id": "5d8caa7b",
   "metadata": {
    "ExecuteTime": {
     "end_time": "2021-12-05T20:17:17.788241Z",
     "start_time": "2021-12-05T20:17:17.779994Z"
    }
   },
   "outputs": [
    {
     "data": {
      "text/plain": [
       "name              2\n",
       "dataset           0\n",
       "time_limit        0\n",
       "memory_limit      0\n",
       "rating          132\n",
       "tags            132\n",
       "complexity      132\n",
       "dtype: int64"
      ]
     },
     "execution_count": 19,
     "metadata": {},
     "output_type": "execute_result"
    }
   ],
   "source": [
    "description_and_not_input_mask = [x and y for (x, y) in zip(input_mask_not, description_mask)]\n",
    "\n",
    "x_df = problem_list_df[description_and_not_input_mask]\n",
    "x_df.isna().sum()"
   ]
  },
  {
   "cell_type": "markdown",
   "id": "8d556651",
   "metadata": {},
   "source": [
    "In the case of missing input files, I think it is also better to just drop the submissions, most of the description files are written in Chinese and we cannot really extract any useful information from them. Since there are so few files with no input we can drop them. By looking in the description files there are like 2 problems with no input from the stdin."
   ]
  },
  {
   "cell_type": "markdown",
   "id": "4488154f",
   "metadata": {},
   "source": [
    "To conclude the missing values section, 54/56 of the missing names in the problems list are due to missing description files 1/56 is just a href which links to a 404 web page and the last one is a test problem, the later 2 problems having no submissions anyway. I think it is a fair decision to drop these samples as they are not useful. There will be 130 remaining problems with no input/output samples and 128 of them have description files in Chinese which makes it harder to extract samples, and 2 of them only require printing of values (similar to problem p00000). In this case I also think that it is ok to drop those 2 problems that don't need input alongside the rest of problems that have no input examples extracted, because we don't have to remember that there is one or two problems that can cause some bugs later on."
   ]
  },
  {
   "cell_type": "code",
   "execution_count": 20,
   "id": "847ac86b",
   "metadata": {
    "ExecuteTime": {
     "end_time": "2021-12-05T20:17:19.828943Z",
     "start_time": "2021-12-05T20:17:19.807640Z"
    }
   },
   "outputs": [
    {
     "name": "stdout",
     "output_type": "stream",
     "text": [
      "We have 3867 problems\n",
      "The distribution of the datasets is\n",
      "AIZU       0.613654\n",
      "AtCoder    0.386346\n",
      "Name: dataset, dtype: float64\n"
     ]
    },
    {
     "data": {
      "text/html": [
       "<div>\n",
       "<style scoped>\n",
       "    .dataframe tbody tr th:only-of-type {\n",
       "        vertical-align: middle;\n",
       "    }\n",
       "\n",
       "    .dataframe tbody tr th {\n",
       "        vertical-align: top;\n",
       "    }\n",
       "\n",
       "    .dataframe thead th {\n",
       "        text-align: right;\n",
       "    }\n",
       "</style>\n",
       "<table border=\"1\" class=\"dataframe\">\n",
       "  <thead>\n",
       "    <tr style=\"text-align: right;\">\n",
       "      <th></th>\n",
       "      <th>name</th>\n",
       "      <th>dataset</th>\n",
       "      <th>time_limit</th>\n",
       "      <th>memory_limit</th>\n",
       "      <th>rating</th>\n",
       "      <th>tags</th>\n",
       "      <th>complexity</th>\n",
       "    </tr>\n",
       "    <tr>\n",
       "      <th>id</th>\n",
       "      <th></th>\n",
       "      <th></th>\n",
       "      <th></th>\n",
       "      <th></th>\n",
       "      <th></th>\n",
       "      <th></th>\n",
       "      <th></th>\n",
       "    </tr>\n",
       "  </thead>\n",
       "  <tbody>\n",
       "    <tr>\n",
       "      <th>p00001</th>\n",
       "      <td>List of Top 3 Hills</td>\n",
       "      <td>AIZU</td>\n",
       "      <td>1000.0</td>\n",
       "      <td>131072.0</td>\n",
       "      <td>NaN</td>\n",
       "      <td>NaN</td>\n",
       "      <td>NaN</td>\n",
       "    </tr>\n",
       "    <tr>\n",
       "      <th>p00002</th>\n",
       "      <td>Digit Number</td>\n",
       "      <td>AIZU</td>\n",
       "      <td>1000.0</td>\n",
       "      <td>131072.0</td>\n",
       "      <td>NaN</td>\n",
       "      <td>NaN</td>\n",
       "      <td>NaN</td>\n",
       "    </tr>\n",
       "    <tr>\n",
       "      <th>p00003</th>\n",
       "      <td>Is it a Right Triangle?</td>\n",
       "      <td>AIZU</td>\n",
       "      <td>1000.0</td>\n",
       "      <td>131072.0</td>\n",
       "      <td>NaN</td>\n",
       "      <td>NaN</td>\n",
       "      <td>NaN</td>\n",
       "    </tr>\n",
       "    <tr>\n",
       "      <th>p00004</th>\n",
       "      <td>Simultaneous Equation</td>\n",
       "      <td>AIZU</td>\n",
       "      <td>1000.0</td>\n",
       "      <td>131072.0</td>\n",
       "      <td>NaN</td>\n",
       "      <td>NaN</td>\n",
       "      <td>NaN</td>\n",
       "    </tr>\n",
       "    <tr>\n",
       "      <th>p00005</th>\n",
       "      <td>GCD and LCM</td>\n",
       "      <td>AIZU</td>\n",
       "      <td>1000.0</td>\n",
       "      <td>131072.0</td>\n",
       "      <td>NaN</td>\n",
       "      <td>NaN</td>\n",
       "      <td>NaN</td>\n",
       "    </tr>\n",
       "  </tbody>\n",
       "</table>\n",
       "</div>"
      ],
      "text/plain": [
       "                           name dataset  time_limit  memory_limit  rating  \\\n",
       "id                                                                          \n",
       "p00001      List of Top 3 Hills    AIZU      1000.0      131072.0     NaN   \n",
       "p00002             Digit Number    AIZU      1000.0      131072.0     NaN   \n",
       "p00003  Is it a Right Triangle?    AIZU      1000.0      131072.0     NaN   \n",
       "p00004    Simultaneous Equation    AIZU      1000.0      131072.0     NaN   \n",
       "p00005              GCD and LCM    AIZU      1000.0      131072.0     NaN   \n",
       "\n",
       "        tags  complexity  \n",
       "id                        \n",
       "p00001   NaN         NaN  \n",
       "p00002   NaN         NaN  \n",
       "p00003   NaN         NaN  \n",
       "p00004   NaN         NaN  \n",
       "p00005   NaN         NaN  "
      ]
     },
     "metadata": {},
     "output_type": "display_data"
    },
    {
     "data": {
      "text/plain": [
       "name               0\n",
       "dataset            0\n",
       "time_limit         0\n",
       "memory_limit       0\n",
       "rating          3867\n",
       "tags            3867\n",
       "complexity      3867\n",
       "dtype: int64"
      ]
     },
     "metadata": {},
     "output_type": "display_data"
    }
   ],
   "source": [
    "# Since the problems with missing input include those with missing name we can just drop those\n",
    "problem_list_df = problem_list_df[input_mask]\n",
    "\n",
    "print(f\"We have {len(problem_list_df)} problems\")\n",
    "print('The distribution of the datasets is')\n",
    "print(problem_list_df['dataset'].value_counts(normalize=True))\n",
    "display(problem_list_df.head())\n",
    "display(problem_list_df.isna().sum())"
   ]
  },
  {
   "cell_type": "markdown",
   "id": "631e9e4d",
   "metadata": {},
   "source": [
    "## Explore Other Problems"
   ]
  },
  {
   "cell_type": "markdown",
   "id": "4cb3cf3a",
   "metadata": {},
   "source": [
    "Now that we managed to load source code files and some statistics about the problem, let's generalize it and make a function that can show statistics for any problem_id and print a number of samples with different status code."
   ]
  },
  {
   "cell_type": "code",
   "execution_count": 21,
   "id": "59185958",
   "metadata": {
    "ExecuteTime": {
     "end_time": "2021-12-05T20:17:22.555531Z",
     "start_time": "2021-12-05T20:17:22.535239Z"
    }
   },
   "outputs": [],
   "source": [
    "def load_problem_csv(problem_id):\n",
    "    problem_df = pd.read_csv(metadata_path + f'{problem_id}.csv')\n",
    "    problem_df.set_index('submission_id', inplace=True)\n",
    "    return problem_df\n",
    "\n",
    "def pprint_problem(problem_df, problem_id=None):\n",
    "    if problem_id is None:\n",
    "        problem_id = problem_id['problem_id'][0]\n",
    "\n",
    "    print(f\"We have {len(problem_df)} submissions for problem {problem_id}\")\n",
    "    print('The distribution of the programming languages is')\n",
    "    print(problem_df['language'].value_counts())\n",
    "    print('The distribution of the status is')\n",
    "    print(problem_df['status'].value_counts())\n",
    "    print('The number of users that attempted this problem', len(problem_df['user_id'].unique()))\n",
    "    print('The average number of submissions of a user', problem_df.groupby('user_id').size().mean())\n",
    "    print('The min number of submissions of a user', problem_df.groupby('user_id').size().min())\n",
    "    print('The median number of submissions of a user', problem_df.groupby('user_id').size().median())\n",
    "    print('The max number of submissions of a user', problem_df.groupby('user_id').size().max())\n",
    "    display(problem_df.head())\n",
    "    \n",
    "    with open(id2desc(problem_id)) as f:\n",
    "        text = f.readlines()\n",
    "    display(HTML(''.join(text)))\n",
    "    \n",
    "def pprint_submission(problem_df, problem_id, submission_id):\n",
    "    language = problem_df.loc[submission_id, 'language']\n",
    "    extension = problem_df.loc[submission_id, 'filename_ext']\n",
    "    \n",
    "    file_path = id2submission(problem_id, language, submission_id, extension)\n",
    "    print(f\"===================={submission_id}=======================\")\n",
    "    print('Showing source code for: ', file_path)\n",
    "    print()\n",
    "    with open(file_path) as f:\n",
    "        submission_text = f.readlines()\n",
    "    sys.stdout.writelines(submission_text)\n",
    "    print()\n",
    "    print(\"=====================================================\")\n",
    "    \n",
    "def pprint_submissions(problem_df, problem_id, status='Accepted', count=1):\n",
    "    submission_ids = random.sample(problem_df[problem_df['status'] == status].index.values.tolist(), count)\n",
    "    \n",
    "    for submission_id in submission_ids:\n",
    "        pprint_submission(problem_df, problem_id, submission_id)"
   ]
  },
  {
   "cell_type": "code",
   "execution_count": 22,
   "id": "2c93d533",
   "metadata": {
    "ExecuteTime": {
     "end_time": "2021-12-05T20:17:23.233402Z",
     "start_time": "2021-12-05T20:17:23.230238Z"
    }
   },
   "outputs": [],
   "source": [
    "problem_ids = problem_list_df.index.unique()"
   ]
  },
  {
   "cell_type": "code",
   "execution_count": 23,
   "id": "a6442f29",
   "metadata": {
    "ExecuteTime": {
     "end_time": "2021-12-05T20:17:23.861765Z",
     "start_time": "2021-12-05T20:17:23.804307Z"
    }
   },
   "outputs": [
    {
     "name": "stdout",
     "output_type": "stream",
     "text": [
      "We have 11885 submissions for problem p00002\n",
      "The distribution of the programming languages is\n",
      "C++           4371\n",
      "C             3501\n",
      "Java          1342\n",
      "Python        1226\n",
      "Ruby           587\n",
      "C#             365\n",
      "JavaScript     166\n",
      "Haskell         99\n",
      "PHP             96\n",
      "Scala           46\n",
      "D               45\n",
      "Go              16\n",
      "OCaml           12\n",
      "Rust            11\n",
      "Kotlin           2\n",
      "Name: language, dtype: int64\n",
      "The distribution of the status is\n",
      "Accepted                  4734\n",
      "Wrong Answer              3863\n",
      "Runtime Error             1377\n",
      "Compile Error             1167\n",
      "Time Limit Exceeded        702\n",
      "WA: Presentation Error      36\n",
      "Memory Limit Exceeded        6\n",
      "Name: status, dtype: int64\n",
      "The number of users that attempted this problem 3792\n",
      "The average number of submissions of a user 3.134229957805907\n",
      "The min number of submissions of a user 1\n",
      "The median number of submissions of a user 2.0\n",
      "The max number of submissions of a user 476\n"
     ]
    },
    {
     "data": {
      "text/html": [
       "<div>\n",
       "<style scoped>\n",
       "    .dataframe tbody tr th:only-of-type {\n",
       "        vertical-align: middle;\n",
       "    }\n",
       "\n",
       "    .dataframe tbody tr th {\n",
       "        vertical-align: top;\n",
       "    }\n",
       "\n",
       "    .dataframe thead th {\n",
       "        text-align: right;\n",
       "    }\n",
       "</style>\n",
       "<table border=\"1\" class=\"dataframe\">\n",
       "  <thead>\n",
       "    <tr style=\"text-align: right;\">\n",
       "      <th></th>\n",
       "      <th>problem_id</th>\n",
       "      <th>user_id</th>\n",
       "      <th>date</th>\n",
       "      <th>language</th>\n",
       "      <th>original_language</th>\n",
       "      <th>filename_ext</th>\n",
       "      <th>status</th>\n",
       "      <th>cpu_time</th>\n",
       "      <th>memory</th>\n",
       "      <th>code_size</th>\n",
       "      <th>accuracy</th>\n",
       "    </tr>\n",
       "    <tr>\n",
       "      <th>submission_id</th>\n",
       "      <th></th>\n",
       "      <th></th>\n",
       "      <th></th>\n",
       "      <th></th>\n",
       "      <th></th>\n",
       "      <th></th>\n",
       "      <th></th>\n",
       "      <th></th>\n",
       "      <th></th>\n",
       "      <th></th>\n",
       "      <th></th>\n",
       "    </tr>\n",
       "  </thead>\n",
       "  <tbody>\n",
       "    <tr>\n",
       "      <th>s459828833</th>\n",
       "      <td>p00002</td>\n",
       "      <td>u912124184</td>\n",
       "      <td>1531554169</td>\n",
       "      <td>Rust</td>\n",
       "      <td>Rust</td>\n",
       "      <td>rs</td>\n",
       "      <td>Accepted</td>\n",
       "      <td>0</td>\n",
       "      <td>5020</td>\n",
       "      <td>508</td>\n",
       "      <td>1/1</td>\n",
       "    </tr>\n",
       "    <tr>\n",
       "      <th>s754006783</th>\n",
       "      <td>p00002</td>\n",
       "      <td>u759934006</td>\n",
       "      <td>1513426109</td>\n",
       "      <td>Rust</td>\n",
       "      <td>Rust</td>\n",
       "      <td>rs</td>\n",
       "      <td>Accepted</td>\n",
       "      <td>0</td>\n",
       "      <td>5048</td>\n",
       "      <td>387</td>\n",
       "      <td>1/1</td>\n",
       "    </tr>\n",
       "    <tr>\n",
       "      <th>s834562369</th>\n",
       "      <td>p00002</td>\n",
       "      <td>u759934006</td>\n",
       "      <td>1513426789</td>\n",
       "      <td>Rust</td>\n",
       "      <td>Rust</td>\n",
       "      <td>rs</td>\n",
       "      <td>Accepted</td>\n",
       "      <td>0</td>\n",
       "      <td>5048</td>\n",
       "      <td>388</td>\n",
       "      <td>1/1</td>\n",
       "    </tr>\n",
       "    <tr>\n",
       "      <th>s801715135</th>\n",
       "      <td>p00002</td>\n",
       "      <td>u233505136</td>\n",
       "      <td>1516949032</td>\n",
       "      <td>Rust</td>\n",
       "      <td>Rust</td>\n",
       "      <td>rs</td>\n",
       "      <td>Accepted</td>\n",
       "      <td>0</td>\n",
       "      <td>5036</td>\n",
       "      <td>371</td>\n",
       "      <td>1/1</td>\n",
       "    </tr>\n",
       "    <tr>\n",
       "      <th>s298750993</th>\n",
       "      <td>p00002</td>\n",
       "      <td>u444102531</td>\n",
       "      <td>1518463316</td>\n",
       "      <td>Rust</td>\n",
       "      <td>Rust</td>\n",
       "      <td>rs</td>\n",
       "      <td>Compile Error</td>\n",
       "      <td>0</td>\n",
       "      <td>0</td>\n",
       "      <td>1907</td>\n",
       "      <td>0/1</td>\n",
       "    </tr>\n",
       "  </tbody>\n",
       "</table>\n",
       "</div>"
      ],
      "text/plain": [
       "              problem_id     user_id        date language original_language  \\\n",
       "submission_id                                                                 \n",
       "s459828833        p00002  u912124184  1531554169     Rust              Rust   \n",
       "s754006783        p00002  u759934006  1513426109     Rust              Rust   \n",
       "s834562369        p00002  u759934006  1513426789     Rust              Rust   \n",
       "s801715135        p00002  u233505136  1516949032     Rust              Rust   \n",
       "s298750993        p00002  u444102531  1518463316     Rust              Rust   \n",
       "\n",
       "              filename_ext         status  cpu_time  memory  code_size  \\\n",
       "submission_id                                                            \n",
       "s459828833              rs       Accepted         0    5020        508   \n",
       "s754006783              rs       Accepted         0    5048        387   \n",
       "s834562369              rs       Accepted         0    5048        388   \n",
       "s801715135              rs       Accepted         0    5036        371   \n",
       "s298750993              rs  Compile Error         0       0       1907   \n",
       "\n",
       "              accuracy  \n",
       "submission_id           \n",
       "s459828833         1/1  \n",
       "s754006783         1/1  \n",
       "s834562369         1/1  \n",
       "s801715135         1/1  \n",
       "s298750993         0/1  "
      ]
     },
     "metadata": {},
     "output_type": "display_data"
    },
    {
     "data": {
      "text/html": [
       "\n",
       "<H1>Digit Number</H1>\n",
       "\n",
       "<p>\n",
       "Write a program which computes the digit number of sum of two integers <var>a</var> and <var>b</var>.\n",
       "</p>\n",
       "\n",
       "<H2>Input</H2>\n",
       "\n",
       "<p>\n",
       "There are several test cases. Each test case consists of two non-negative integers <var>a</var> and <i>b</i> which are separeted by a space in a line. The input terminates with EOF.\n",
       "</p>\n",
       "\n",
       "<h2>Constraints</h2>\n",
       "\n",
       "<ul>\n",
       "<li>0 &le; <var>a</var>, <var>b</var> &le; 1,000,000</li>\n",
       "<li>The number of datasets &le; 200</li>\n",
       "</ul>\n",
       "\n",
       "<H2>Output</H2>\n",
       "\n",
       "<p>\n",
       "Print the number of digits of <var>a</var> + <var>b</var> for each data set.\n",
       "</p>\n",
       "\n",
       "<H2>Sample Input</H2>\n",
       "\n",
       "<pre>\n",
       "5 7\n",
       "1 99\n",
       "1000 999\n",
       "</pre>\n",
       "\n",
       "<H2>Output for the Sample Input</H2>\n",
       "\n",
       "<pre>\n",
       "2\n",
       "3\n",
       "4\n",
       "</pre>\n",
       "\n",
       "\n"
      ],
      "text/plain": [
       "<IPython.core.display.HTML object>"
      ]
     },
     "metadata": {},
     "output_type": "display_data"
    }
   ],
   "source": [
    "problem_id = problem_ids[1]\n",
    "\n",
    "problem_df = load_problem_csv(problem_id)\n",
    "pprint_problem(problem_df, problem_id)"
   ]
  },
  {
   "cell_type": "code",
   "execution_count": 24,
   "id": "8c261dd4",
   "metadata": {
    "ExecuteTime": {
     "end_time": "2021-12-05T20:17:24.197946Z",
     "start_time": "2021-12-05T20:17:24.180625Z"
    }
   },
   "outputs": [
    {
     "name": "stdout",
     "output_type": "stream",
     "text": [
      "====================s330953933=======================\n",
      "Showing source code for:  ../input/Project_CodeNet/data/p00002/Python/s330953933.py\n",
      "\n",
      "import sys\n",
      "\n",
      "for i in sys.stdin:\n",
      "    num = map(int, i.split())\n",
      "    print len(str(sum(num)))\n",
      "=====================================================\n",
      "====================s805268718=======================\n",
      "Showing source code for:  ../input/Project_CodeNet/data/p00002/Java/s805268718.java\n",
      "\n",
      "import java.util.Scanner;\n",
      "\n",
      "public class Main {\n",
      "    public static void main(String[] args) {\n",
      "        Scanner scan = new Scanner(System.in);\n",
      "        \n",
      "        while(scan.hasNext()){\n",
      "            int count = 0;\n",
      "            int a = scan.nextInt();\n",
      "            int b = scan.nextInt();\n",
      "            int sum = a + b;\n",
      "            while(true){\n",
      "                if(sum > 0){\n",
      "                    count++;\n",
      "                    sum /= 10;\n",
      "                } else {\n",
      "                    break;\n",
      "                }\n",
      "            }\n",
      "            System.out.println(count);\n",
      "        }\n",
      "        \n",
      "        scan.close();\n",
      "    }\n",
      "}\n",
      "\n",
      "\n",
      "=====================================================\n",
      "====================s062253940=======================\n",
      "Showing source code for:  ../input/Project_CodeNet/data/p00002/C/s062253940.c\n",
      "\n",
      "\n",
      "#include <stdio.h>\n",
      "\n",
      "int main(int argc, const char * argv[]) {\n",
      "    int a,b,count=0,x;\n",
      "    while (scanf(\"%d %d\",&a,&b)!=EOF) {\n",
      "        x=a+b;\n",
      "        while (1) {\n",
      "            x=x/10;\n",
      "            count++;\n",
      "            if (x<1) {\n",
      "                break;\n",
      "            }\n",
      "    }\n",
      "//    for (i=0; i<200; i++) {\n",
      "//        x=dataset[0][i]+dataset[1][i];\n",
      "//        while (1) {\n",
      "//            x=x/10;\n",
      "//            count++;\n",
      "//            if (x<1) {\n",
      "//                break;\n",
      "//            }\n",
      "//            \n",
      "//        }\n",
      "        \n",
      "        \n",
      "        \n",
      "        printf(\"%d\\n\",count);\n",
      "        count=0;\n",
      "    }\n",
      "    \n",
      "    return 0;\n",
      "}\n",
      "=====================================================\n"
     ]
    }
   ],
   "source": [
    "pprint_submissions(problem_df, problem_id, status='Accepted', count=3)"
   ]
  },
  {
   "cell_type": "code",
   "execution_count": 25,
   "id": "07178811",
   "metadata": {
    "ExecuteTime": {
     "end_time": "2021-12-05T20:17:24.597895Z",
     "start_time": "2021-12-05T20:17:24.580838Z"
    }
   },
   "outputs": [
    {
     "name": "stdout",
     "output_type": "stream",
     "text": [
      "====================s688949360=======================\n",
      "Showing source code for:  ../input/Project_CodeNet/data/p00002/C++/s688949360.cpp\n",
      "\n",
      "#include <stdio.h>\n",
      "\n",
      "int main(){\n",
      "  int a, b, sum;\n",
      "  int count;\n",
      "\n",
      "  while(scanf(\"%d %d\", a, b)!=0){\n",
      "    sum=a+b;\n",
      "    count=1;\n",
      "    while(sum/10!=0) count++;\n",
      "    printf(\"%d\\n\", count);\n",
      "  }\n",
      "  return 0;\n",
      "}\n",
      "=====================================================\n",
      "====================s856407921=======================\n",
      "Showing source code for:  ../input/Project_CodeNet/data/p00002/C++/s856407921.cpp\n",
      "\n",
      "#include <cstdio>\n",
      "#include <cstring>\n",
      "#include <cstdlib>\n",
      "\n",
      "\n",
      "int main()\n",
      "{\n",
      "    int a,b;\n",
      "    char str[32], *p;\n",
      "    while(1){\n",
      "        gets(str);\n",
      "        if(strlen(str) < 3)return 0;\n",
      "        a = atoi(strtok(str, \" \"));\n",
      "        b = atoi(strtok(NULL, \" \"));\n",
      "        sprintf(str,\"%d\",a+b);\n",
      "        printf(\"%d\\n\",strlen(str));\n",
      "    }\n",
      "}\n",
      "=====================================================\n",
      "====================s672997317=======================\n",
      "Showing source code for:  ../input/Project_CodeNet/data/p00002/Python/s672997317.py\n",
      "\n",
      "a,b=map(int,input().split())\n",
      "sum=a+b\n",
      "sum=str(sum)\n",
      "print(len(sum))\n",
      "=====================================================\n"
     ]
    }
   ],
   "source": [
    "pprint_submissions(problem_df, problem_id, status='Runtime Error', count=3)"
   ]
  },
  {
   "cell_type": "code",
   "execution_count": 26,
   "id": "3ef587c1",
   "metadata": {
    "ExecuteTime": {
     "end_time": "2021-12-05T20:17:25.016684Z",
     "start_time": "2021-12-05T20:17:25.002625Z"
    }
   },
   "outputs": [
    {
     "name": "stdout",
     "output_type": "stream",
     "text": [
      "====================s434350827=======================\n",
      "Showing source code for:  ../input/Project_CodeNet/data/p00002/Java/s434350827.java\n",
      "\n",
      "import java.util.Scanner;\n",
      "\n",
      "public class Main{\n",
      "\tpublic static void main(String args[]){\n",
      "\t\tScanner scan = new Scanner(System.in);\n",
      "\t\t\n",
      "\t\twhile(true){\n",
      "\t\t\ttry{\n",
      "\t\t\t\tint a = Integer.parseInt(scan.next());\n",
      "\t\t\t\tint b = Integer.parseInt(scan.next());\n",
      "\t\t\t\tSystem.out.println((a+b));\n",
      "\t\t\t}catch(Exception e){\n",
      "\t\t\t\tbreak;\n",
      "\t\t\t}\n",
      "\t\t}\n",
      "\t}\n",
      "}\n",
      "=====================================================\n",
      "====================s677789021=======================\n",
      "Showing source code for:  ../input/Project_CodeNet/data/p00002/C/s677789021.c\n",
      "\n",
      "#include <stdio.h>\n",
      "\n",
      "int main()\n",
      "{\n",
      "    int i,n,m,temp,count;\n",
      "\tfor(i=0;i<200;i++){\n",
      "\t\tscanf(\"%d %d\",&n,&m);\n",
      "\t\tcount=0;\n",
      "\t\ttemp=n+m;\n",
      "\t\twhile(temp>=1){\n",
      "\t\t\ttemp=temp/10;\n",
      "\t\t\tcount++;\n",
      "\t\t}\n",
      "\t\tprintf(\"%d\\n\",count);\n",
      "\t}\n",
      "\n",
      "\treturn 0;\n",
      "}\n",
      "=====================================================\n",
      "====================s588576585=======================\n",
      "Showing source code for:  ../input/Project_CodeNet/data/p00002/Java/s588576585.java\n",
      "\n",
      "import java.util.Scanner;\n",
      "public class Main{\n",
      "\tpublic static void main(String[] args){\n",
      "\t\tScanner sc = new Scanner(System.in);\n",
      "\t\tint a,b;\n",
      "\t\tint Dig = 1;\n",
      "\t\twhile(sc.hasNext()){\n",
      "\t\t\ta = sc.nextInt();\n",
      "\t\t\tb = sc.nextInt();\n",
      "\t\t\tint kei = a+b;\n",
      "\t\t\twhile(kei/10 != 0){\n",
      "\t\t\t\tDig ++;\n",
      "\t\t\t\tkei /= 10;\n",
      "\t\t\t}\n",
      "\t\t\tSystem.out.println(Dig);\n",
      "\t\t}\n",
      "\t}\n",
      "}\n",
      "=====================================================\n"
     ]
    }
   ],
   "source": [
    "pprint_submissions(problem_df, problem_id, status='Wrong Answer', count=3)"
   ]
  },
  {
   "cell_type": "code",
   "execution_count": 27,
   "id": "d75985dd",
   "metadata": {
    "ExecuteTime": {
     "end_time": "2021-12-05T20:17:29.496814Z",
     "start_time": "2021-12-05T20:17:26.036708Z"
    }
   },
   "outputs": [
    {
     "name": "stdout",
     "output_type": "stream",
     "text": [
      "Out of 3792, 2025 users have more than 1 submission\n"
     ]
    }
   ],
   "source": [
    "counter = 0\n",
    "\n",
    "user_ids = problem_df['user_id'].unique()\n",
    "for user_id in user_ids:\n",
    "    submission_df = problem_df[problem_df['user_id'] == user_id]\n",
    "    \n",
    "    if len(submission_df) < 2:\n",
    "        continue\n",
    "        \n",
    "    counter += 1\n",
    "    \n",
    "print(f'Out of {len(user_ids)}, {counter} users have more than 1 submission')"
   ]
  },
  {
   "cell_type": "markdown",
   "id": "a64a70dd",
   "metadata": {},
   "source": [
    "Even if this problem looked pretty easy, there are a lot of users that had more than 1 submission. This can be an indicator of how hard the problem is. For this task we can make use of the median number of submissions, for this problem it was 2."
   ]
  },
  {
   "cell_type": "markdown",
   "id": "fa1d27f2",
   "metadata": {},
   "source": [
    "## Generate Source Code Pairs\n",
    "- for each problem:\n",
    "- group solutions by user and select the solutions that are consecutive and of the form (Error, Accepted) with only one instruction (line) changed; heuristic to search a smaller space, since a user might submit a correct solution after a wrong one\n",
    "- get the diff lines and error type\n",
    "- build a df from this list and save it\n",
    "- sanity check: check that the error types of this df are the same as the types in the problem metadata: Success\n",
    "- done\n",
    "\n",
    "Up until this point we played around with single files and checked the looked at how we can load the source code from the dataset. In this section we will see how we can get the diff between source code files and more specifically the instruction (given by the line in the file) that caused a problem."
   ]
  },
  {
   "cell_type": "markdown",
   "id": "6a363fdf",
   "metadata": {},
   "source": [
    "One interesting aspect here is how many users sent more than one submission and also have submissions of the form (failed, accepted) and have only one instruction changed so that we can understand what change made their code work. To do this we need to implement a function that calls the diff utility in the linux shell. Also to check if a diff output has only one instruction changed we need to implement a grouping function. One problem with this algorithm is that it is quite slow since it needs to execute diff from python, so as a solution we can use a function already implemented from the difflib library with some wrapper methods from github: https://github.com/glanois/code I changed something from this implementation though, which was causing the function to print the delimiters with new lines intercalated https://github.com/alexjercan/code."
   ]
  },
  {
   "cell_type": "code",
   "execution_count": 28,
   "id": "a2104a2b",
   "metadata": {
    "ExecuteTime": {
     "end_time": "2021-12-05T20:17:29.507973Z",
     "start_time": "2021-12-05T20:17:29.498299Z"
    }
   },
   "outputs": [],
   "source": [
    "class POSIXDiffer(Differ):\n",
    "    \"\"\"\n",
    "    This class produces differences in the POSIX default format\n",
    "    (see http://www.unix.com/man-page/POSIX/1posix/diff/),\n",
    "    which is the same as the Gnu diff \"normal format\"\n",
    "    (see http://www.gnu.org/software/diffutils/manual/diffutils.html#Normal).\n",
    "    \"\"\"\n",
    "\n",
    "    def compare(self, a, b):\n",
    "        cruncher = SequenceMatcher(self.linejunk, a, b)\n",
    "        for tag, alo, ahi, blo, bhi in cruncher.get_opcodes():\n",
    "            if alo == ahi:\n",
    "                f1 = '%d' % alo\n",
    "            elif alo+1 == ahi:\n",
    "                f1 = '%d' % (alo+1)\n",
    "            else:\n",
    "                f1 = '%d,%d' % (alo+1, ahi)\n",
    "\n",
    "            if blo == bhi:\n",
    "                f2 = '%d' % blo\n",
    "            elif blo+1 == bhi:\n",
    "                f2 = '%d' % (blo+1)\n",
    "            else:\n",
    "                f2 = '%d,%d' % (blo+1, bhi)\n",
    "\n",
    "            if tag == 'replace':\n",
    "                g = itertools.chain([ '%sc%s\\n' % (f1, f2) ], self._my_plain_replace(a, alo, ahi, b, blo, bhi))\n",
    "            elif tag == 'delete':\n",
    "                g = itertools.chain([ '%sd%s\\n' % (f1, f2) ], self._dump('<', a, alo, ahi))\n",
    "            elif tag == 'insert':\n",
    "                g = itertools.chain([ '%sa%s\\n' % (f1, f2) ], self._dump('>', b, blo, bhi))\n",
    "            elif tag == 'equal':\n",
    "                g = []\n",
    "            else:\n",
    "                raise(ValueError, 'unknown tag %r' % (tag,))\n",
    "\n",
    "            for line in g:\n",
    "                yield line\n",
    "\n",
    "    def _my_plain_replace(self, a, alo, ahi, b, blo, bhi):\n",
    "        assert alo < ahi and blo < bhi\n",
    "        first  = self._dump('<', a, alo, ahi)\n",
    "        second = self._dump('>', b, blo, bhi)\n",
    "\n",
    "        for g in first, ['---\\n'], second:\n",
    "            for line in g:\n",
    "                yield line\n",
    "\n",
    "def pdiff(a, b):\n",
    "    \"\"\"\n",
    "    Compare `a` and `b` (lists of strings); return a POSIX/Gnu \"normal format\" diff.\n",
    "    \"\"\"\n",
    "    return POSIXDiffer().compare(a, b)\n",
    "\n",
    "def group_diff_chunks(diff):\n",
    "    \"\"\"\n",
    "    This function creates a list by extracting the start line, end line for\n",
    "    the files in the diff that are of the form n[,n]cn[,n] (the output of the\n",
    "    diff command in shell)\n",
    "    \"\"\"\n",
    "    def normalize_chunk(chunk):\n",
    "        s1, e1, s2, e2 = chunk\n",
    "\n",
    "        s1 = int(s1)\n",
    "        e1 = (s1 if not e1 else int(e1)) + 1\n",
    "        s2 = int(s2)\n",
    "        e2 = (s2 if not e2 else int(e2)) + 1\n",
    "\n",
    "        return s1, e1, s2, e2\n",
    "\n",
    "    p = re.compile(r'^([0-9]+),?([0-9]*)[a-zA-Z]([0-9]+),?([0-9]*)', re.MULTILINE)\n",
    "    chunks = p.findall(diff)\n",
    "\n",
    "    return [normalize_chunk(chunk) for chunk in chunks]\n",
    "\n",
    "def single_change(chunk):\n",
    "    s1, e1, s2, e2 = chunk\n",
    "\n",
    "    return e1 - s1 == e2 - s2 == 1\n",
    "\n",
    "def read_submission_file(problem_id, language, submission_id, extension):\n",
    "    \"\"\"\n",
    "    Read the source code as a list of lines for a given problem and submission id\n",
    "    the language and extension are also required to complete the path to the file\n",
    "    \"\"\"\n",
    "    with open(id2submission(problem_id, language, submission_id, extension)) as f:\n",
    "        text = f.readlines()\n",
    "\n",
    "    return text"
   ]
  },
  {
   "cell_type": "code",
   "execution_count": 29,
   "id": "dd8e73ff",
   "metadata": {
    "ExecuteTime": {
     "end_time": "2021-12-05T20:17:32.918613Z",
     "start_time": "2021-12-05T20:17:32.029705Z"
    }
   },
   "outputs": [
    {
     "name": "stdout",
     "output_type": "stream",
     "text": [
      "Out of 2521, 110 submissions have a single instruction changed\n"
     ]
    }
   ],
   "source": [
    "counter = 0\n",
    "total_counter = 0\n",
    "\n",
    "c_problem_df = problem_df[problem_df['language'] == 'C']\n",
    "\n",
    "user_ids = c_problem_df['user_id'].unique()\n",
    "for user_id in user_ids:\n",
    "    submission_df = c_problem_df[c_problem_df['user_id'] == user_id]\n",
    "\n",
    "    if len(submission_df) < 2:\n",
    "        continue\n",
    "\n",
    "    submission_ids = submission_df.index.unique()\n",
    "    for original_id, changed_id in zip(submission_ids, submission_ids[1:]):\n",
    "        language = c_problem_df.loc[original_id, 'language']\n",
    "        extension = c_problem_df.loc[original_id, 'filename_ext']\n",
    "        \n",
    "        original_text = read_submission_file(problem_id, language, original_id, extension)\n",
    "        changed_text = read_submission_file(problem_id, language, changed_id, extension)\n",
    "        \n",
    "        diff = pdiff(original_text, changed_text)\n",
    "        diff = ''.join(diff)\n",
    "\n",
    "        chunks = group_diff_chunks(diff)\n",
    "\n",
    "        if len(chunks) == 1 and single_change(chunks[0]):\n",
    "            original_status = submission_df.loc[original_id, 'status']\n",
    "            changed_status = submission_df.loc[changed_id, 'status']\n",
    "\n",
    "            if changed_status == 'Accepted' and original_status != 'Accepted':\n",
    "                counter += 1\n",
    "                \n",
    "        total_counter += 1\n",
    "                \n",
    "print(f'Out of {total_counter}, {counter} submissions have a single instruction changed')"
   ]
  },
  {
   "cell_type": "markdown",
   "id": "5b42edae",
   "metadata": {},
   "source": [
    "So it looks like we have some users that changed a single instruction and then managed to make their solution work. Now this runs much faster and we get the same result as with using the diff tool. Great so now we can easily find two consecutive submissions and see the instruction that was changed to make a status changed from failed to success."
   ]
  },
  {
   "cell_type": "code",
   "execution_count": 30,
   "id": "1155f309",
   "metadata": {
    "ExecuteTime": {
     "end_time": "2021-12-05T20:17:35.067759Z",
     "start_time": "2021-12-05T20:17:35.053362Z"
    }
   },
   "outputs": [],
   "source": [
    "def preprocess_problem_for_language(problem_df, problem_id, language='C', extension='c'):\n",
    "    \"\"\"\n",
    "    Given the problem metadata dataframe, the problem id (which is just the id from the\n",
    "    dataframe), tha programming language and extension for the filepath\n",
    "    iterate over all the users and group their solutions in smaller tables\n",
    "    Then iterate over the submissions with a window of size 2 and\n",
    "    if there are two consecutive attempts that can form a pair\n",
    "    (error, accepted) and the difference between the source files\n",
    "    is just a single instruction, add this pair to the result\n",
    "    \"\"\"\n",
    "    result = []\n",
    "\n",
    "    user_ids = problem_df['user_id'].unique()\n",
    "    for user_id in user_ids:\n",
    "        submission_df = problem_df[problem_df['user_id'] == user_id]\n",
    "\n",
    "        if len(submission_df) < 2:\n",
    "            continue\n",
    "\n",
    "        submission_ids = submission_df.index.unique()\n",
    "        for original_id, changed_id in zip(submission_ids, submission_ids[1:]):\n",
    "            original_text = read_submission_file(problem_id, language, original_id, extension)\n",
    "            changed_text = read_submission_file(problem_id, language, changed_id, extension)\n",
    "\n",
    "            diff = pdiff(original_text, changed_text)\n",
    "            diff = ''.join(diff)\n",
    "\n",
    "            chunks = group_diff_chunks(diff)\n",
    "\n",
    "            if len(chunks) == 1 and single_change(chunks[0]):\n",
    "                original_status = submission_df.loc[original_id, 'status']\n",
    "                changed_status = submission_df.loc[changed_id, 'status']\n",
    "                original_language = submission_df.loc[changed_id, 'original_language']\n",
    "\n",
    "                if changed_status == 'Accepted' and original_status != 'Accepted':\n",
    "                    result.append((\n",
    "                        original_id,\n",
    "                        changed_id,\n",
    "                        chunks[0][0],\n",
    "                        chunks[0][2],\n",
    "                        original_status,\n",
    "                        original_language\n",
    "                    ))\n",
    "\n",
    "    return result"
   ]
  },
  {
   "cell_type": "code",
   "execution_count": 31,
   "id": "24d5c723",
   "metadata": {
    "ExecuteTime": {
     "end_time": "2021-12-05T20:17:36.961758Z",
     "start_time": "2021-12-05T20:17:36.092446Z"
    }
   },
   "outputs": [
    {
     "data": {
      "text/plain": [
       "('s656732126', 's779235096', 15, 15, 'Wrong Answer', 'C')"
      ]
     },
     "execution_count": 31,
     "metadata": {},
     "output_type": "execute_result"
    }
   ],
   "source": [
    "result = preprocess_problem_for_language(c_problem_df, problem_id=problem_id, language='C', extension='c')\n",
    "(original_id, changed_id, original_start, changed_start, original_status, original_language) = result[0]\n",
    "result[0]"
   ]
  },
  {
   "cell_type": "markdown",
   "id": "30772190",
   "metadata": {},
   "source": [
    "In the result we can see the two submission ids and the ranges of the change in the file. The line numbers start from 1 (the usual convention for text files) and should act as a range (start, end not included). Now that we have an example of a solution that had a single instruction changed let's visualize the diff."
   ]
  },
  {
   "cell_type": "code",
   "execution_count": 32,
   "id": "abd4f68c",
   "metadata": {
    "ExecuteTime": {
     "end_time": "2021-12-05T20:17:37.741942Z",
     "start_time": "2021-12-05T20:17:37.737360Z"
    }
   },
   "outputs": [
    {
     "name": "stdout",
     "output_type": "stream",
     "text": [
      "15c15\n",
      "< \t\tprintf(\"%d\\n\", digitNumber(a) + digitNumber(b));\n",
      "---\n",
      "> \t\tprintf(\"%d\\n\", digitNumber(a + b));\n"
     ]
    }
   ],
   "source": [
    "original_text = read_submission_file(problem_id, 'C', original_id, 'c')\n",
    "changed_text = read_submission_file(problem_id, 'C', changed_id, 'c')\n",
    "\n",
    "diff = pdiff(original_text, changed_text)\n",
    "sys.stdout.writelines(diff)"
   ]
  },
  {
   "cell_type": "code",
   "execution_count": 33,
   "id": "b3a7b2fd",
   "metadata": {
    "ExecuteTime": {
     "end_time": "2021-12-05T20:17:38.321062Z",
     "start_time": "2021-12-05T20:17:38.311228Z"
    }
   },
   "outputs": [
    {
     "name": "stdout",
     "output_type": "stream",
     "text": [
      "#include <stdio.h>\n",
      "\n",
      "int digitNumber(int n){\n",
      "\tint c = 1;\n",
      "\twhile(n / 10 > 0){\n",
      "\t\tc++;\n",
      "\t\tn /= 10;\n",
      "\t}\n",
      "\treturn c;\t\n",
      "}\n",
      "\n",
      "int main(void){\n",
      "\tint a, b;\n",
      "\twhile(scanf(\"%d %d\", &a, &b) != EOF){\n",
      "\t\tprintf(\"%d\\n\", digitNumber(a) + digitNumber(b));\n",
      "\t}\n",
      "\treturn 0;\n",
      "}"
     ]
    }
   ],
   "source": [
    "sys.stdout.writelines(original_text)"
   ]
  },
  {
   "cell_type": "markdown",
   "id": "712ad2d7",
   "metadata": {},
   "source": [
    "In this example we can see that the diff in both files starts and ends on the 15th line of the file, this is reflected in the ranges from the result (15), (15). This example looks like a logic error, where the user called the function wrong (Instead of computing the number of digits for the resulting sum they computed the sum of the number of digits)."
   ]
  },
  {
   "cell_type": "code",
   "execution_count": 34,
   "id": "3a335abe",
   "metadata": {
    "ExecuteTime": {
     "end_time": "2021-12-05T20:17:39.300927Z",
     "start_time": "2021-12-05T20:17:39.286530Z"
    }
   },
   "outputs": [
    {
     "data": {
      "text/html": [
       "<div>\n",
       "<style scoped>\n",
       "    .dataframe tbody tr th:only-of-type {\n",
       "        vertical-align: middle;\n",
       "    }\n",
       "\n",
       "    .dataframe tbody tr th {\n",
       "        vertical-align: top;\n",
       "    }\n",
       "\n",
       "    .dataframe thead th {\n",
       "        text-align: right;\n",
       "    }\n",
       "</style>\n",
       "<table border=\"1\" class=\"dataframe\">\n",
       "  <thead>\n",
       "    <tr style=\"text-align: right;\">\n",
       "      <th></th>\n",
       "      <th>original_id</th>\n",
       "      <th>changed_id</th>\n",
       "      <th>original_start</th>\n",
       "      <th>changed_start</th>\n",
       "      <th>original_status</th>\n",
       "      <th>original_language</th>\n",
       "      <th>problem_id</th>\n",
       "      <th>language</th>\n",
       "      <th>filename_ext</th>\n",
       "    </tr>\n",
       "  </thead>\n",
       "  <tbody>\n",
       "    <tr>\n",
       "      <th>0</th>\n",
       "      <td>s656732126</td>\n",
       "      <td>s779235096</td>\n",
       "      <td>15</td>\n",
       "      <td>15</td>\n",
       "      <td>Wrong Answer</td>\n",
       "      <td>C</td>\n",
       "      <td>p00002</td>\n",
       "      <td>C</td>\n",
       "      <td>c</td>\n",
       "    </tr>\n",
       "    <tr>\n",
       "      <th>1</th>\n",
       "      <td>s838224387</td>\n",
       "      <td>s507007344</td>\n",
       "      <td>3</td>\n",
       "      <td>3</td>\n",
       "      <td>Wrong Answer</td>\n",
       "      <td>C</td>\n",
       "      <td>p00002</td>\n",
       "      <td>C</td>\n",
       "      <td>c</td>\n",
       "    </tr>\n",
       "    <tr>\n",
       "      <th>2</th>\n",
       "      <td>s125854082</td>\n",
       "      <td>s092565069</td>\n",
       "      <td>8</td>\n",
       "      <td>8</td>\n",
       "      <td>Wrong Answer</td>\n",
       "      <td>C</td>\n",
       "      <td>p00002</td>\n",
       "      <td>C</td>\n",
       "      <td>c</td>\n",
       "    </tr>\n",
       "    <tr>\n",
       "      <th>3</th>\n",
       "      <td>s103115180</td>\n",
       "      <td>s644775744</td>\n",
       "      <td>9</td>\n",
       "      <td>9</td>\n",
       "      <td>Wrong Answer</td>\n",
       "      <td>C</td>\n",
       "      <td>p00002</td>\n",
       "      <td>C</td>\n",
       "      <td>c</td>\n",
       "    </tr>\n",
       "    <tr>\n",
       "      <th>4</th>\n",
       "      <td>s401906747</td>\n",
       "      <td>s071479872</td>\n",
       "      <td>9</td>\n",
       "      <td>9</td>\n",
       "      <td>Wrong Answer</td>\n",
       "      <td>C</td>\n",
       "      <td>p00002</td>\n",
       "      <td>C</td>\n",
       "      <td>c</td>\n",
       "    </tr>\n",
       "  </tbody>\n",
       "</table>\n",
       "</div>"
      ],
      "text/plain": [
       "  original_id  changed_id  original_start  changed_start original_status  \\\n",
       "0  s656732126  s779235096              15             15    Wrong Answer   \n",
       "1  s838224387  s507007344               3              3    Wrong Answer   \n",
       "2  s125854082  s092565069               8              8    Wrong Answer   \n",
       "3  s103115180  s644775744               9              9    Wrong Answer   \n",
       "4  s401906747  s071479872               9              9    Wrong Answer   \n",
       "\n",
       "  original_language problem_id language filename_ext  \n",
       "0                 C     p00002        C            c  \n",
       "1                 C     p00002        C            c  \n",
       "2                 C     p00002        C            c  \n",
       "3                 C     p00002        C            c  \n",
       "4                 C     p00002        C            c  "
      ]
     },
     "execution_count": 34,
     "metadata": {},
     "output_type": "execute_result"
    }
   ],
   "source": [
    "columns = ['original_id', 'changed_id', 'original_start', 'changed_start', 'original_status', 'original_language']\n",
    "\n",
    "df = pd.DataFrame(result, columns=columns)\n",
    "df['problem_id'] = problem_id\n",
    "df['language'] = 'C'\n",
    "df['filename_ext'] = 'c'\n",
    "\n",
    "df.head()"
   ]
  },
  {
   "cell_type": "code",
   "execution_count": 35,
   "id": "3cc22bd1",
   "metadata": {
    "ExecuteTime": {
     "end_time": "2021-12-05T20:17:39.775588Z",
     "start_time": "2021-12-05T20:17:39.769564Z"
    }
   },
   "outputs": [
    {
     "name": "stdout",
     "output_type": "stream",
     "text": [
      "There are 12 submissions that first had compilation errors\n"
     ]
    }
   ],
   "source": [
    "cdf = df[df['original_status'] == 'Compile Error']\n",
    "\n",
    "print(f'There are {len(cdf)} submissions that first had compilation errors')"
   ]
  },
  {
   "cell_type": "code",
   "execution_count": 36,
   "id": "a5f13160",
   "metadata": {
    "ExecuteTime": {
     "end_time": "2021-12-05T20:17:40.244901Z",
     "start_time": "2021-12-05T20:17:40.234584Z"
    }
   },
   "outputs": [
    {
     "name": "stdout",
     "output_type": "stream",
     "text": [
      "1c1\n",
      "< include<stdio.h>\n",
      "---\n",
      "> #include<stdio.h>\n"
     ]
    }
   ],
   "source": [
    "(original_id, changed_id, original_start, \n",
    " changed_start, original_status, original_language, problem_id, language, filename_ext) = cdf.iloc[0]\n",
    "\n",
    "original_text = read_submission_file(problem_id, language, original_id, filename_ext)\n",
    "changed_text = read_submission_file(problem_id, language, changed_id, filename_ext)\n",
    "\n",
    "diff = pdiff(original_text, changed_text)\n",
    "sys.stdout.writelines(diff)"
   ]
  },
  {
   "cell_type": "code",
   "execution_count": 37,
   "id": "ca4eb02c",
   "metadata": {
    "ExecuteTime": {
     "end_time": "2021-12-05T20:17:41.140444Z",
     "start_time": "2021-12-05T20:17:41.136579Z"
    }
   },
   "outputs": [
    {
     "name": "stdout",
     "output_type": "stream",
     "text": [
      "include<stdio.h>\n",
      "\n",
      "int main(){\n",
      "        int a,b;\n",
      "        int s;\n",
      "\n",
      "        while(scanf(\"%d\",&a) != EOF){\n",
      "                int count = 0;\n",
      "                int ab = 0;\n",
      "                scanf(\"%d\",&b);\n",
      "\n",
      "                ab = a + b;\n",
      "\n",
      "                for(s = 1;1 ; s*=10){\n",
      "                        if(ab / s > 0){\n",
      "                                count ++;\n",
      "                        }else{\n",
      "                                break;\n",
      "                        }\n",
      "                }\n",
      "\n",
      "                printf(\"%d\\n\",count);   \n",
      "        }               \n",
      "\n",
      "        return 0;\n",
      "}"
     ]
    }
   ],
   "source": [
    "sys.stdout.writelines(original_text)"
   ]
  },
  {
   "cell_type": "markdown",
   "id": "b15c65c1",
   "metadata": {},
   "source": [
    "This compiler error looks like it was caused by a missing hash on line 1 for the include directive in the original file."
   ]
  },
  {
   "cell_type": "code",
   "execution_count": 38,
   "id": "6e9d5f90",
   "metadata": {
    "ExecuteTime": {
     "end_time": "2021-12-05T20:17:42.470812Z",
     "start_time": "2021-12-05T20:17:42.443000Z"
    }
   },
   "outputs": [
    {
     "name": "stdout",
     "output_type": "stream",
     "text": [
      "../input/Project_CodeNet/data/p00002/C/s937998870.c:1:8: error: expected ‘=’, ‘,’, ‘;’, ‘asm’ or ‘__attribute__’ before ‘<’ token\n",
      "    1 | include<stdio.h>\n",
      "      |        ^\n"
     ]
    }
   ],
   "source": [
    "def exec_gcc(file_path, out='a.out'):\n",
    "    process = subprocess.Popen(['gcc', file_path], \n",
    "                               stdout=subprocess.PIPE,\n",
    "                               stderr=subprocess.PIPE,\n",
    "                               universal_newlines=True)\n",
    "    output, error = process.communicate()\n",
    "\n",
    "    return output, error\n",
    "\n",
    "file_path = id2submission(problem_id, language, original_id, filename_ext)\n",
    "sys.stdout.writelines(exec_gcc(file_path)[1])"
   ]
  },
  {
   "cell_type": "code",
   "execution_count": 39,
   "id": "bebae67e",
   "metadata": {
    "ExecuteTime": {
     "end_time": "2021-12-05T20:17:43.124001Z",
     "start_time": "2021-12-05T20:17:43.111266Z"
    }
   },
   "outputs": [
    {
     "name": "stdout",
     "output_type": "stream",
     "text": [
      "There are 18 submissions that first had runtime errors\n"
     ]
    }
   ],
   "source": [
    "cdf = df[df['original_status'] == 'Runtime Error']\n",
    "\n",
    "print(f'There are {len(cdf)} submissions that first had runtime errors')"
   ]
  },
  {
   "cell_type": "code",
   "execution_count": 40,
   "id": "dc0edd61",
   "metadata": {
    "ExecuteTime": {
     "end_time": "2021-12-05T20:17:43.956968Z",
     "start_time": "2021-12-05T20:17:43.948297Z"
    }
   },
   "outputs": [
    {
     "name": "stdout",
     "output_type": "stream",
     "text": [
      "5a6\n",
      ">         c=1,d=0;\n"
     ]
    }
   ],
   "source": [
    "(original_id, changed_id, original_start, \n",
    " changed_start, original_status, original_language, problem_id, language, filename_ext) = cdf.iloc[3]\n",
    "\n",
    "original_text = read_submission_file(problem_id, language, original_id, filename_ext)\n",
    "changed_text = read_submission_file(problem_id, language, changed_id, filename_ext)\n",
    "\n",
    "diff = pdiff(original_text, changed_text)\n",
    "sys.stdout.writelines(diff)"
   ]
  },
  {
   "cell_type": "code",
   "execution_count": 41,
   "id": "2fe9f17c",
   "metadata": {
    "ExecuteTime": {
     "end_time": "2021-12-05T20:17:44.537728Z",
     "start_time": "2021-12-05T20:17:44.528210Z"
    }
   },
   "outputs": [
    {
     "name": "stdout",
     "output_type": "stream",
     "text": [
      "#include<stdio.h>\n",
      "int main(void)\n",
      "{\n",
      "    int a,b,c=1,d=0;\n",
      "    while(scanf(\"%d %d\",&a,&b)!=EOF){\n",
      "        while(1){\n",
      "            c=10*c;\n",
      "            d++;\n",
      "            if((a+b)/c==0){\n",
      "                printf(\"%d\\n\",d);\n",
      "                break;\n",
      "            }\n",
      "        }\n",
      "    }\n",
      "    return 0;\n",
      "}"
     ]
    }
   ],
   "source": [
    "sys.stdout.writelines(original_text)"
   ]
  },
  {
   "cell_type": "markdown",
   "id": "8fc884e2",
   "metadata": {},
   "source": [
    "This is a pretty neat error to solve. Got me wondering a bit what was wrong with this code even if I had the diff."
   ]
  },
  {
   "cell_type": "code",
   "execution_count": 42,
   "id": "d6e716f5",
   "metadata": {
    "ExecuteTime": {
     "end_time": "2021-12-05T20:17:45.706025Z",
     "start_time": "2021-12-05T20:17:45.702124Z"
    }
   },
   "outputs": [],
   "source": [
    "def handle_process(command, input, timeout):\n",
    "    process = subprocess.Popen(command,\n",
    "                               stdin=subprocess.PIPE,\n",
    "                               stdout=subprocess.PIPE,\n",
    "                               stderr=subprocess.PIPE, \n",
    "                               encoding=\"utf-8\", \n",
    "                               errors=\"ignore\")\n",
    "    try:\n",
    "        output, error = process.communicate(input, timeout)\n",
    "        return output, error, process.returncode\n",
    "    except subprocess.TimeoutExpired:\n",
    "        process.kill()\n",
    "        process.communicate()\n",
    "        raise TimeoutError"
   ]
  },
  {
   "cell_type": "code",
   "execution_count": 43,
   "id": "05d1a668",
   "metadata": {
    "ExecuteTime": {
     "end_time": "2021-12-05T20:17:46.227357Z",
     "start_time": "2021-12-05T20:17:46.138983Z"
    }
   },
   "outputs": [],
   "source": [
    "def exec_gcc(file_path, exec_path='a.out'):\n",
    "    process = subprocess.Popen(['gcc', file_path, '-lm', '-w', '-O3','-o', exec_path],\n",
    "                               stdin=subprocess.PIPE,\n",
    "                               stdout=subprocess.PIPE,\n",
    "                               stderr=subprocess.PIPE, \n",
    "                               encoding=\"utf-8\", \n",
    "                               errors=\"ignore\")\n",
    "    output, error = process.communicate()\n",
    "\n",
    "    return output, error\n",
    "\n",
    "file_path = id2submission(problem_id, language, original_id, filename_ext)\n",
    "sys.stdout.writelines(exec_gcc(file_path)[1])"
   ]
  },
  {
   "cell_type": "code",
   "execution_count": 44,
   "id": "2c41ebb8",
   "metadata": {
    "ExecuteTime": {
     "end_time": "2021-12-05T20:17:46.947396Z",
     "start_time": "2021-12-05T20:17:46.934758Z"
    }
   },
   "outputs": [
    {
     "data": {
      "text/plain": [
       "'5 7\\n1 99\\n1000 999\\n'"
      ]
     },
     "execution_count": 44,
     "metadata": {},
     "output_type": "execute_result"
    }
   ],
   "source": [
    "with open(id2inout(problem_id)) as f:\n",
    "    input = f.read()\n",
    "input"
   ]
  },
  {
   "cell_type": "code",
   "execution_count": 45,
   "id": "f0f4b59f",
   "metadata": {
    "ExecuteTime": {
     "end_time": "2021-12-05T20:17:47.941367Z",
     "start_time": "2021-12-05T20:17:47.744017Z"
    }
   },
   "outputs": [
    {
     "data": {
      "text/plain": [
       "('2\\n3\\n4\\n', '', 0)"
      ]
     },
     "execution_count": 45,
     "metadata": {},
     "output_type": "execute_result"
    }
   ],
   "source": [
    "exec_gcc(file_path)\n",
    "output, error, returncode = handle_process(['./a.out'], input, timeout=5)\n",
    "\n",
    "!rm './a.out'\n",
    "output, error, returncode"
   ]
  },
  {
   "cell_type": "code",
   "execution_count": 46,
   "id": "a7eb81cf",
   "metadata": {
    "ExecuteTime": {
     "end_time": "2021-12-05T20:17:48.738593Z",
     "start_time": "2021-12-05T20:17:48.731634Z"
    }
   },
   "outputs": [
    {
     "data": {
      "text/plain": [
       "True"
      ]
     },
     "execution_count": 46,
     "metadata": {},
     "output_type": "execute_result"
    }
   ],
   "source": [
    "with open(id2inout(problem_id, 'output')) as f:\n",
    "    ref_output = f.read()\n",
    "ref_output == output"
   ]
  },
  {
   "cell_type": "markdown",
   "id": "d97f973d",
   "metadata": {},
   "source": [
    "Looks like for the sample input this submission does not crash or give an error. I assume there are a lot of such cases, where there are correct answers on the sample input, but the solution still can fail. In this case we can only say for the error that it is a runtime error, or somehow come up with some method of fuzzing the programs.\n",
    "\n",
    "Now that we have all the missing pieces we can create a table for all the problems and languages in this dataset that are in the same format, one instruction changed that fixed the submission. "
   ]
  },
  {
   "cell_type": "code",
   "execution_count": 47,
   "id": "495c9393",
   "metadata": {
    "ExecuteTime": {
     "end_time": "2021-12-05T20:17:50.816004Z",
     "start_time": "2021-12-05T20:17:50.813176Z"
    }
   },
   "outputs": [],
   "source": [
    "generated_pairs_path = input_path + 'data.csv'"
   ]
  },
  {
   "cell_type": "code",
   "execution_count": null,
   "id": "5fdbb5e9",
   "metadata": {
    "ExecuteTime": {
     "end_time": "2021-12-05T18:07:54.212822Z",
     "start_time": "2021-12-05T18:07:50.762800Z"
    }
   },
   "outputs": [],
   "source": [
    "problem_ids = problem_list_df.index.unique()\n",
    "\n",
    "columns = ['original_id', 'changed_id', 'original_line', 'changed_line', 'original_status', 'original_language']\n",
    "dfs = []\n",
    "\n",
    "loop = tqdm(problem_ids)\n",
    "for problem_id in loop:\n",
    "    loop.set_description(\"Processing %s\" % problem_id)\n",
    "\n",
    "    problem_df = pd.read_csv(metadata_path + f'{problem_id}.csv')\n",
    "    if problem_df.empty:\n",
    "        continue\n",
    "\n",
    "    problem_df.set_index('submission_id', inplace=True)\n",
    "\n",
    "    grouped_languages = problem_df.groupby('language')\n",
    "    for language, problem_df in grouped_languages:\n",
    "        if problem_df.empty:\n",
    "            continue\n",
    "\n",
    "        extension = problem_df.iloc[0]['filename_ext']\n",
    "        xs = preprocess_problem_for_language(problem_df, problem_id, language, extension)\n",
    "        df = pd.DataFrame(xs, columns=columns)\n",
    "        df['problem_id'] = problem_id\n",
    "        df['language'] = language\n",
    "        df['filename_ext'] = extension\n",
    "        dfs.append(df)\n",
    "\n",
    "df = pd.concat(dfs, ignore_index=True)\n",
    "df.to_csv(generated_pairs_path, index=False)"
   ]
  },
  {
   "cell_type": "code",
   "execution_count": 48,
   "id": "723a5649",
   "metadata": {
    "ExecuteTime": {
     "end_time": "2021-12-05T20:17:53.909086Z",
     "start_time": "2021-12-05T20:17:53.681838Z"
    }
   },
   "outputs": [
    {
     "data": {
      "text/html": [
       "<div>\n",
       "<style scoped>\n",
       "    .dataframe tbody tr th:only-of-type {\n",
       "        vertical-align: middle;\n",
       "    }\n",
       "\n",
       "    .dataframe tbody tr th {\n",
       "        vertical-align: top;\n",
       "    }\n",
       "\n",
       "    .dataframe thead th {\n",
       "        text-align: right;\n",
       "    }\n",
       "</style>\n",
       "<table border=\"1\" class=\"dataframe\">\n",
       "  <thead>\n",
       "    <tr style=\"text-align: right;\">\n",
       "      <th></th>\n",
       "      <th>original_id</th>\n",
       "      <th>changed_id</th>\n",
       "      <th>original_line</th>\n",
       "      <th>changed_line</th>\n",
       "      <th>original_status</th>\n",
       "      <th>original_language</th>\n",
       "      <th>problem_id</th>\n",
       "      <th>language</th>\n",
       "      <th>filename_ext</th>\n",
       "    </tr>\n",
       "  </thead>\n",
       "  <tbody>\n",
       "    <tr>\n",
       "      <th>0</th>\n",
       "      <td>s152683619</td>\n",
       "      <td>s597068013</td>\n",
       "      <td>13</td>\n",
       "      <td>13</td>\n",
       "      <td>Runtime Error</td>\n",
       "      <td>C</td>\n",
       "      <td>p00001</td>\n",
       "      <td>C</td>\n",
       "      <td>c</td>\n",
       "    </tr>\n",
       "    <tr>\n",
       "      <th>1</th>\n",
       "      <td>s044221442</td>\n",
       "      <td>s839825860</td>\n",
       "      <td>17</td>\n",
       "      <td>16</td>\n",
       "      <td>Wrong Answer</td>\n",
       "      <td>C</td>\n",
       "      <td>p00001</td>\n",
       "      <td>C</td>\n",
       "      <td>c</td>\n",
       "    </tr>\n",
       "    <tr>\n",
       "      <th>2</th>\n",
       "      <td>s186039512</td>\n",
       "      <td>s141089749</td>\n",
       "      <td>18</td>\n",
       "      <td>18</td>\n",
       "      <td>Wrong Answer</td>\n",
       "      <td>C</td>\n",
       "      <td>p00001</td>\n",
       "      <td>C</td>\n",
       "      <td>c</td>\n",
       "    </tr>\n",
       "    <tr>\n",
       "      <th>3</th>\n",
       "      <td>s492423182</td>\n",
       "      <td>s993570869</td>\n",
       "      <td>17</td>\n",
       "      <td>17</td>\n",
       "      <td>Wrong Answer</td>\n",
       "      <td>C</td>\n",
       "      <td>p00001</td>\n",
       "      <td>C</td>\n",
       "      <td>c</td>\n",
       "    </tr>\n",
       "    <tr>\n",
       "      <th>4</th>\n",
       "      <td>s348894386</td>\n",
       "      <td>s826240749</td>\n",
       "      <td>23</td>\n",
       "      <td>23</td>\n",
       "      <td>Wrong Answer</td>\n",
       "      <td>C</td>\n",
       "      <td>p00001</td>\n",
       "      <td>C</td>\n",
       "      <td>c</td>\n",
       "    </tr>\n",
       "    <tr>\n",
       "      <th>...</th>\n",
       "      <td>...</td>\n",
       "      <td>...</td>\n",
       "      <td>...</td>\n",
       "      <td>...</td>\n",
       "      <td>...</td>\n",
       "      <td>...</td>\n",
       "      <td>...</td>\n",
       "      <td>...</td>\n",
       "      <td>...</td>\n",
       "    </tr>\n",
       "    <tr>\n",
       "      <th>94571</th>\n",
       "      <td>s753736051</td>\n",
       "      <td>s069032276</td>\n",
       "      <td>59</td>\n",
       "      <td>59</td>\n",
       "      <td>Time Limit Exceeded</td>\n",
       "      <td>C++14 (GCC 5.4.1)</td>\n",
       "      <td>p04049</td>\n",
       "      <td>C++</td>\n",
       "      <td>cpp</td>\n",
       "    </tr>\n",
       "    <tr>\n",
       "      <th>94572</th>\n",
       "      <td>s937763329</td>\n",
       "      <td>s353716814</td>\n",
       "      <td>46</td>\n",
       "      <td>46</td>\n",
       "      <td>Wrong Answer</td>\n",
       "      <td>C++ (GCC 9.2.1)</td>\n",
       "      <td>p04050</td>\n",
       "      <td>C++</td>\n",
       "      <td>cpp</td>\n",
       "    </tr>\n",
       "    <tr>\n",
       "      <th>94573</th>\n",
       "      <td>s181482285</td>\n",
       "      <td>s112746800</td>\n",
       "      <td>29</td>\n",
       "      <td>29</td>\n",
       "      <td>Wrong Answer</td>\n",
       "      <td>C++14 (GCC 5.4.1)</td>\n",
       "      <td>p04050</td>\n",
       "      <td>C++</td>\n",
       "      <td>cpp</td>\n",
       "    </tr>\n",
       "    <tr>\n",
       "      <th>94574</th>\n",
       "      <td>s515906114</td>\n",
       "      <td>s712940997</td>\n",
       "      <td>42</td>\n",
       "      <td>42</td>\n",
       "      <td>Wrong Answer</td>\n",
       "      <td>C++ (GCC 5.4.1)</td>\n",
       "      <td>p04051</td>\n",
       "      <td>C++</td>\n",
       "      <td>cpp</td>\n",
       "    </tr>\n",
       "    <tr>\n",
       "      <th>94575</th>\n",
       "      <td>s402402940</td>\n",
       "      <td>s104563826</td>\n",
       "      <td>50</td>\n",
       "      <td>50</td>\n",
       "      <td>Wrong Answer</td>\n",
       "      <td>C++14 (GCC 5.4.1)</td>\n",
       "      <td>p04051</td>\n",
       "      <td>C++</td>\n",
       "      <td>cpp</td>\n",
       "    </tr>\n",
       "  </tbody>\n",
       "</table>\n",
       "<p>94576 rows × 9 columns</p>\n",
       "</div>"
      ],
      "text/plain": [
       "      original_id  changed_id  original_line  changed_line  \\\n",
       "0      s152683619  s597068013             13            13   \n",
       "1      s044221442  s839825860             17            16   \n",
       "2      s186039512  s141089749             18            18   \n",
       "3      s492423182  s993570869             17            17   \n",
       "4      s348894386  s826240749             23            23   \n",
       "...           ...         ...            ...           ...   \n",
       "94571  s753736051  s069032276             59            59   \n",
       "94572  s937763329  s353716814             46            46   \n",
       "94573  s181482285  s112746800             29            29   \n",
       "94574  s515906114  s712940997             42            42   \n",
       "94575  s402402940  s104563826             50            50   \n",
       "\n",
       "           original_status  original_language problem_id language filename_ext  \n",
       "0            Runtime Error                  C     p00001        C            c  \n",
       "1             Wrong Answer                  C     p00001        C            c  \n",
       "2             Wrong Answer                  C     p00001        C            c  \n",
       "3             Wrong Answer                  C     p00001        C            c  \n",
       "4             Wrong Answer                  C     p00001        C            c  \n",
       "...                    ...                ...        ...      ...          ...  \n",
       "94571  Time Limit Exceeded  C++14 (GCC 5.4.1)     p04049      C++          cpp  \n",
       "94572         Wrong Answer    C++ (GCC 9.2.1)     p04050      C++          cpp  \n",
       "94573         Wrong Answer  C++14 (GCC 5.4.1)     p04050      C++          cpp  \n",
       "94574         Wrong Answer    C++ (GCC 5.4.1)     p04051      C++          cpp  \n",
       "94575         Wrong Answer  C++14 (GCC 5.4.1)     p04051      C++          cpp  \n",
       "\n",
       "[94576 rows x 9 columns]"
      ]
     },
     "metadata": {},
     "output_type": "display_data"
    },
    {
     "name": "stdout",
     "output_type": "stream",
     "text": [
      "<class 'pandas.core.frame.DataFrame'>\n",
      "RangeIndex: 94576 entries, 0 to 94575\n",
      "Data columns (total 9 columns):\n",
      " #   Column             Non-Null Count  Dtype \n",
      "---  ------             --------------  ----- \n",
      " 0   original_id        94576 non-null  object\n",
      " 1   changed_id         94576 non-null  object\n",
      " 2   original_line      94576 non-null  int64 \n",
      " 3   changed_line       94576 non-null  int64 \n",
      " 4   original_status    94576 non-null  object\n",
      " 5   original_language  94576 non-null  object\n",
      " 6   problem_id         94576 non-null  object\n",
      " 7   language           94576 non-null  object\n",
      " 8   filename_ext       94576 non-null  object\n",
      "dtypes: int64(2), object(7)\n",
      "memory usage: 6.5+ MB\n"
     ]
    },
    {
     "data": {
      "text/plain": [
       "None"
      ]
     },
     "metadata": {},
     "output_type": "display_data"
    },
    {
     "data": {
      "text/plain": [
       "C++             47052\n",
       "C               17382\n",
       "Python          11162\n",
       "Java             8297\n",
       "Ruby             3156\n",
       "C#               1945\n",
       "Perl              802\n",
       "Haskell           709\n",
       "JavaScript        631\n",
       "Awk               523\n",
       "PHP               466\n",
       "dc                398\n",
       "Scala             392\n",
       "D                 314\n",
       "Rust              210\n",
       "Go                204\n",
       "Octave            148\n",
       "Bash              143\n",
       "OCaml             134\n",
       "Kotlin             76\n",
       "Vim                70\n",
       "Sed                66\n",
       "Nim                48\n",
       "Swift              40\n",
       "Julia              39\n",
       "Bf                 38\n",
       "Crystal            22\n",
       "Pascal             20\n",
       "Lisp               18\n",
       "Fortran            14\n",
       "Scheme             11\n",
       "Lua                 9\n",
       "Cython              9\n",
       "Dash                6\n",
       "TypeScript          6\n",
       "bc                  4\n",
       "F#                  3\n",
       "Racket              2\n",
       "Visual Basic        2\n",
       "Clojure             2\n",
       "COBOL               1\n",
       "MoonScript          1\n",
       "Unlambda            1\n",
       "Name: language, dtype: int64"
      ]
     },
     "metadata": {},
     "output_type": "display_data"
    },
    {
     "data": {
      "text/plain": [
       "Wrong Answer              54098\n",
       "Compile Error             13816\n",
       "Runtime Error             12218\n",
       "WA: Presentation Error    10051\n",
       "Time Limit Exceeded        3922\n",
       "Memory Limit Exceeded       442\n",
       "Output Limit Exceeded        28\n",
       "Judge Not Available           1\n",
       "Name: original_status, dtype: int64"
      ]
     },
     "metadata": {},
     "output_type": "display_data"
    }
   ],
   "source": [
    "df = pd.read_csv(generated_pairs_path)\n",
    "\n",
    "display(df)\n",
    "display(df.info())\n",
    "display(df.language.value_counts())\n",
    "display(df.original_status.value_counts())"
   ]
  },
  {
   "cell_type": "code",
   "execution_count": 49,
   "id": "70825ded",
   "metadata": {
    "ExecuteTime": {
     "end_time": "2021-12-05T20:18:56.823536Z",
     "start_time": "2021-12-05T20:17:54.679655Z"
    }
   },
   "outputs": [
    {
     "name": "stderr",
     "output_type": "stream",
     "text": [
      "100%|████████████████████████████████████████████████████████████████████████████████████████████████████████████████████████████████████████████████████████████████████████████████████████████████████| 3867/3867 [01:02<00:00, 62.25it/s]\n"
     ]
    }
   ],
   "source": [
    "# sanity check (check that the status code is correctly copied for each submission)\n",
    "def check(pid):\n",
    "    problem_df = pd.read_csv(metadata_path + pid + '.csv')\n",
    "    p_df = df[df['problem_id'] == pid]\n",
    "    p_df = p_df.sort_values('original_id')\n",
    "    problem_df.set_index('submission_id', inplace=True, drop=True)\n",
    "    problem_df = problem_df.loc[p_df.original_id].sort_index()\n",
    "    return all(problem_df.status.values == p_df.original_status.values)\n",
    "\n",
    "for pid in tqdm(problem_ids):\n",
    "    if not check(pid):\n",
    "        print(pid)"
   ]
  },
  {
   "cell_type": "markdown",
   "id": "808606c2",
   "metadata": {},
   "source": [
    "So we can see that after running this preprocessing function on all the problems we are left with 100,000 samples of pairs of source code files of the form (error, successful) for all the languages in the dataset. We will have to analyze the source code files that we obtained and make sure they are well suited for being tokenized and used in a machine learning algorithm. Now the error messages that are provided in this dataset don't look that useful, so in the next steps I will attempt to improve the error messages by running the source code on sample inputs or using compilers, code check tools etc."
   ]
  },
  {
   "cell_type": "markdown",
   "id": "a6b93ba8",
   "metadata": {},
   "source": [
    "## Analyze source code files \n",
    "(TODO)\n",
    "- NOTE: I saw some files that are code golfs, maybe they should be removed from the dataset\n",
    "- NOTE: How to treat code golfs?"
   ]
  },
  {
   "cell_type": "code",
   "execution_count": null,
   "id": "79381fe9",
   "metadata": {},
   "outputs": [],
   "source": []
  },
  {
   "cell_type": "markdown",
   "id": "1addcd80",
   "metadata": {},
   "source": [
    "## Get error type description \n",
    "(TODO in progress)\n",
    "- run the suspicious source code on the sample input\n",
    "- if it results in error: parse the error name and details\n",
    "- if there is no error: (there might be an edge case) There is a missing value => make the error class NAN\n",
    "- return new values (old error type, error class, error desc, return code)\n",
    "\n",
    "#### Progress\n",
    "\n",
    "- NOTE: Made a function for python, need one more for C and one C++\n",
    "- NOTE: How to treat cases where the user debugs messages to console\n",
    "- NOTE: Some of the programs don't crash on the sample input, but are still suspicious (No error class)\n",
    "\n",
    "- TODO: Run the original submission to get a more detailed error on the sample input/output (for C and C++)\n",
    "- TODO: Filter some of the error types like grouping similar error into the same category\n",
    "- TODO: Give proper name to number errors"
   ]
  },
  {
   "cell_type": "code",
   "execution_count": 50,
   "id": "e53413ae",
   "metadata": {
    "ExecuteTime": {
     "end_time": "2021-12-05T20:19:01.438375Z",
     "start_time": "2021-12-05T20:19:01.240930Z"
    }
   },
   "outputs": [
    {
     "data": {
      "text/html": [
       "<div>\n",
       "<style scoped>\n",
       "    .dataframe tbody tr th:only-of-type {\n",
       "        vertical-align: middle;\n",
       "    }\n",
       "\n",
       "    .dataframe tbody tr th {\n",
       "        vertical-align: top;\n",
       "    }\n",
       "\n",
       "    .dataframe thead th {\n",
       "        text-align: right;\n",
       "    }\n",
       "</style>\n",
       "<table border=\"1\" class=\"dataframe\">\n",
       "  <thead>\n",
       "    <tr style=\"text-align: right;\">\n",
       "      <th></th>\n",
       "      <th>original_id</th>\n",
       "      <th>changed_id</th>\n",
       "      <th>original_line</th>\n",
       "      <th>changed_line</th>\n",
       "      <th>original_status</th>\n",
       "      <th>original_language</th>\n",
       "      <th>problem_id</th>\n",
       "      <th>language</th>\n",
       "      <th>filename_ext</th>\n",
       "    </tr>\n",
       "  </thead>\n",
       "  <tbody>\n",
       "    <tr>\n",
       "      <th>0</th>\n",
       "      <td>s152683619</td>\n",
       "      <td>s597068013</td>\n",
       "      <td>13</td>\n",
       "      <td>13</td>\n",
       "      <td>Runtime Error</td>\n",
       "      <td>C</td>\n",
       "      <td>p00001</td>\n",
       "      <td>C</td>\n",
       "      <td>c</td>\n",
       "    </tr>\n",
       "    <tr>\n",
       "      <th>1</th>\n",
       "      <td>s044221442</td>\n",
       "      <td>s839825860</td>\n",
       "      <td>17</td>\n",
       "      <td>16</td>\n",
       "      <td>Wrong Answer</td>\n",
       "      <td>C</td>\n",
       "      <td>p00001</td>\n",
       "      <td>C</td>\n",
       "      <td>c</td>\n",
       "    </tr>\n",
       "    <tr>\n",
       "      <th>2</th>\n",
       "      <td>s186039512</td>\n",
       "      <td>s141089749</td>\n",
       "      <td>18</td>\n",
       "      <td>18</td>\n",
       "      <td>Wrong Answer</td>\n",
       "      <td>C</td>\n",
       "      <td>p00001</td>\n",
       "      <td>C</td>\n",
       "      <td>c</td>\n",
       "    </tr>\n",
       "    <tr>\n",
       "      <th>3</th>\n",
       "      <td>s492423182</td>\n",
       "      <td>s993570869</td>\n",
       "      <td>17</td>\n",
       "      <td>17</td>\n",
       "      <td>Wrong Answer</td>\n",
       "      <td>C</td>\n",
       "      <td>p00001</td>\n",
       "      <td>C</td>\n",
       "      <td>c</td>\n",
       "    </tr>\n",
       "    <tr>\n",
       "      <th>4</th>\n",
       "      <td>s348894386</td>\n",
       "      <td>s826240749</td>\n",
       "      <td>23</td>\n",
       "      <td>23</td>\n",
       "      <td>Wrong Answer</td>\n",
       "      <td>C</td>\n",
       "      <td>p00001</td>\n",
       "      <td>C</td>\n",
       "      <td>c</td>\n",
       "    </tr>\n",
       "    <tr>\n",
       "      <th>...</th>\n",
       "      <td>...</td>\n",
       "      <td>...</td>\n",
       "      <td>...</td>\n",
       "      <td>...</td>\n",
       "      <td>...</td>\n",
       "      <td>...</td>\n",
       "      <td>...</td>\n",
       "      <td>...</td>\n",
       "      <td>...</td>\n",
       "    </tr>\n",
       "    <tr>\n",
       "      <th>94414</th>\n",
       "      <td>s456383760</td>\n",
       "      <td>s016668249</td>\n",
       "      <td>1</td>\n",
       "      <td>1</td>\n",
       "      <td>Wrong Answer</td>\n",
       "      <td>Python (3.8.2)</td>\n",
       "      <td>p04029</td>\n",
       "      <td>Python</td>\n",
       "      <td>py</td>\n",
       "    </tr>\n",
       "    <tr>\n",
       "      <th>94500</th>\n",
       "      <td>s675922082</td>\n",
       "      <td>s965274869</td>\n",
       "      <td>2</td>\n",
       "      <td>2</td>\n",
       "      <td>Runtime Error</td>\n",
       "      <td>Python (3.8.2)</td>\n",
       "      <td>p04043</td>\n",
       "      <td>Python</td>\n",
       "      <td>py</td>\n",
       "    </tr>\n",
       "    <tr>\n",
       "      <th>94501</th>\n",
       "      <td>s686089965</td>\n",
       "      <td>s644653229</td>\n",
       "      <td>1</td>\n",
       "      <td>1</td>\n",
       "      <td>Wrong Answer</td>\n",
       "      <td>Python (3.8.2)</td>\n",
       "      <td>p04043</td>\n",
       "      <td>Python</td>\n",
       "      <td>py</td>\n",
       "    </tr>\n",
       "    <tr>\n",
       "      <th>94525</th>\n",
       "      <td>s075564224</td>\n",
       "      <td>s960630596</td>\n",
       "      <td>1</td>\n",
       "      <td>1</td>\n",
       "      <td>Runtime Error</td>\n",
       "      <td>Python (3.8.2)</td>\n",
       "      <td>p04044</td>\n",
       "      <td>Python</td>\n",
       "      <td>py</td>\n",
       "    </tr>\n",
       "    <tr>\n",
       "      <th>94540</th>\n",
       "      <td>s480001739</td>\n",
       "      <td>s348164474</td>\n",
       "      <td>3</td>\n",
       "      <td>3</td>\n",
       "      <td>Wrong Answer</td>\n",
       "      <td>Python (3.8.2)</td>\n",
       "      <td>p04045</td>\n",
       "      <td>Python</td>\n",
       "      <td>py</td>\n",
       "    </tr>\n",
       "  </tbody>\n",
       "</table>\n",
       "<p>25238 rows × 9 columns</p>\n",
       "</div>"
      ],
      "text/plain": [
       "      original_id  changed_id  original_line  changed_line original_status  \\\n",
       "0      s152683619  s597068013             13            13   Runtime Error   \n",
       "1      s044221442  s839825860             17            16    Wrong Answer   \n",
       "2      s186039512  s141089749             18            18    Wrong Answer   \n",
       "3      s492423182  s993570869             17            17    Wrong Answer   \n",
       "4      s348894386  s826240749             23            23    Wrong Answer   \n",
       "...           ...         ...            ...           ...             ...   \n",
       "94414  s456383760  s016668249              1             1    Wrong Answer   \n",
       "94500  s675922082  s965274869              2             2   Runtime Error   \n",
       "94501  s686089965  s644653229              1             1    Wrong Answer   \n",
       "94525  s075564224  s960630596              1             1   Runtime Error   \n",
       "94540  s480001739  s348164474              3             3    Wrong Answer   \n",
       "\n",
       "      original_language problem_id language filename_ext  \n",
       "0                     C     p00001        C            c  \n",
       "1                     C     p00001        C            c  \n",
       "2                     C     p00001        C            c  \n",
       "3                     C     p00001        C            c  \n",
       "4                     C     p00001        C            c  \n",
       "...                 ...        ...      ...          ...  \n",
       "94414    Python (3.8.2)     p04029   Python           py  \n",
       "94500    Python (3.8.2)     p04043   Python           py  \n",
       "94501    Python (3.8.2)     p04043   Python           py  \n",
       "94525    Python (3.8.2)     p04044   Python           py  \n",
       "94540    Python (3.8.2)     p04045   Python           py  \n",
       "\n",
       "[25238 rows x 9 columns]"
      ]
     },
     "execution_count": 50,
     "metadata": {},
     "output_type": "execute_result"
    }
   ],
   "source": [
    "problem_list_df['time_limit_s'] = problem_list_df['time_limit'] / 1000\n",
    "\n",
    "df = pd.read_csv(generated_pairs_path)\n",
    "\n",
    "# Eventually I will want to load all languages here\n",
    "p_df = df[(df['original_language'] == 'Python3') | \n",
    "           (df['original_language'] == 'Python') | \n",
    "           (df['original_language'] == 'Python (3.8.2)') | \n",
    "           (df['original_language'] == 'C')\n",
    "           # TODO: ADD C AND C++ HERE after testing in sandbox\n",
    "         ]\n",
    "p_df"
   ]
  },
  {
   "cell_type": "code",
   "execution_count": 51,
   "id": "25bf8329",
   "metadata": {
    "ExecuteTime": {
     "end_time": "2021-12-05T20:19:03.141697Z",
     "start_time": "2021-12-05T20:19:03.135003Z"
    }
   },
   "outputs": [],
   "source": [
    "def exec_python(file_path, input=None, timeout=2.0):\n",
    "    return handle_process(['python3', file_path], input, timeout)\n",
    "\n",
    "def exec_c(file_path, input=None, timeout=2.0):    \n",
    "    exec_path = '/tmp/a.out'\n",
    "    process = subprocess.Popen(['gcc', file_path, '-lm', '-w', '-O3','-o', exec_path],\n",
    "                               stdin=subprocess.PIPE,\n",
    "                               stdout=subprocess.PIPE,\n",
    "                               stderr=subprocess.PIPE, \n",
    "                               encoding=\"utf-8\", \n",
    "                               errors=\"ignore\")\n",
    "    output, error = process.communicate()\n",
    "    returncode = process.returncode\n",
    "    if returncode != 0:\n",
    "        return '', error, returncode\n",
    "    return handle_process([exec_path], input, timeout)\n",
    "    \n",
    "def exec_file(file_path, input=None, timeout=2.0, language=None):\n",
    "    if language == 'Python':\n",
    "        return exec_python(file_path, input, timeout)\n",
    "    if language == 'C':\n",
    "        return exec_c(file_path, input, timeout)\n",
    "    else:\n",
    "        raise NotImplementedError"
   ]
  },
  {
   "cell_type": "code",
   "execution_count": 66,
   "id": "b7a32767",
   "metadata": {
    "ExecuteTime": {
     "end_time": "2021-12-05T19:02:32.576588Z",
     "start_time": "2021-12-05T18:18:35.239604Z"
    }
   },
   "outputs": [
    {
     "name": "stderr",
     "output_type": "stream",
     "text": [
      "100%|██████████████████████████████████████████████████████████████████████████████████████████████████████████████████████████████████████████████████████████████████████████████████████████████████| 25238/25238 [43:57<00:00,  9.57it/s]\n"
     ]
    }
   ],
   "source": [
    "loop = tqdm(p_df.iterrows(), total=len(p_df))\n",
    "\n",
    "errs = []\n",
    "\n",
    "for _id, p_sub in loop:\n",
    "    original_id = p_sub.loc['original_id']\n",
    "    original_line = p_sub.loc['original_line']\n",
    "    problem_id = p_sub.loc['problem_id']\n",
    "    language = p_sub.loc['language']\n",
    "    extension = p_sub.loc['filename_ext']\n",
    "    \n",
    "    file_path = id2submission(problem_id, language, original_id, extension)\n",
    "    \n",
    "    input_path = id2inout(problem_id, name='input')\n",
    "    output_path = id2inout(problem_id, name='output')\n",
    "    \n",
    "    with open(input_path, 'r') as f:\n",
    "        input = f.read()\n",
    "    \n",
    "    timeout = problem_list_df.loc[problem_id]['time_limit_s'] * 2\n",
    "    try:\n",
    "        output, error, returncode = exec_file(file_path, input, timeout, language)\n",
    "    except TimeoutError:\n",
    "        returncode = 1\n",
    "        error = 'TLEError: Time limit exceeded'\n",
    "    \n",
    "    errs.append((_id, output, error, returncode))"
   ]
  },
  {
   "cell_type": "code",
   "execution_count": 67,
   "id": "f0e1edcf",
   "metadata": {
    "ExecuteTime": {
     "end_time": "2021-12-05T19:02:32.944382Z",
     "start_time": "2021-12-05T19:02:32.626125Z"
    }
   },
   "outputs": [],
   "source": [
    "with open('../temp.pkl', 'wb') as f:\n",
    "    pickle.dump(errs, f)"
   ]
  },
  {
   "cell_type": "code",
   "execution_count": 52,
   "id": "dd7ff117",
   "metadata": {
    "ExecuteTime": {
     "end_time": "2021-12-05T20:19:06.174613Z",
     "start_time": "2021-12-05T20:19:06.104154Z"
    }
   },
   "outputs": [],
   "source": [
    "with open('../temp.pkl', 'rb') as f:\n",
    "    errs = pickle.load(f)"
   ]
  },
  {
   "cell_type": "code",
   "execution_count": 53,
   "id": "88fb0615",
   "metadata": {
    "ExecuteTime": {
     "end_time": "2021-12-05T20:19:07.260242Z",
     "start_time": "2021-12-05T20:19:07.246232Z"
    }
   },
   "outputs": [],
   "source": [
    "def extract_error_class_python(error, returncode):\n",
    "    rs =  '|'.join([\n",
    "        r'^(\\w*Error):.*',\n",
    "        r'(\\w*Warning):.*',\n",
    "    ])\n",
    "    \n",
    "    p_class = re.compile(rs, re.MULTILINE)\n",
    "    error_class = p_class.findall(error)\n",
    "    if not error_class:\n",
    "        return str(returncode)\n",
    "    return functools.reduce(lambda acc, x: acc or x, error_class[0], None)\n",
    "\n",
    "def extract_error_class_extra_python(error, returncode):\n",
    "    rs =  '|'.join([\n",
    "        r'^(\\w*Error:.*).*',\n",
    "        r'(\\w*Warning:.*).*',\n",
    "    ])\n",
    "    \n",
    "    p_class_extra = re.compile(rs, re.MULTILINE)\n",
    "    error_class_extra = p_class_extra.findall(error)\n",
    "    if not error_class_extra:\n",
    "        return error\n",
    "    return functools.reduce(lambda acc, x: acc or x, error_class_extra[0], None) \n",
    "\n",
    "def extract_error_class_c(error, returncode):\n",
    "    return str(returncode)\n",
    "\n",
    "def extract_error_class_extra_c(error, returncode):\n",
    "    rs = '|'.join([\n",
    "        r'(undefined reference .*)',\n",
    "        r'(\\*\\*\\* stack smashing detected \\*\\*\\*: terminated)',\n",
    "        r'(munmap_chunk\\(\\): .*)', \n",
    "        r'(segmentation fault \\(core dumped\\))',\n",
    "        r'(error: .*)',\n",
    "        r'(relocation truncated to fit: .*)',\n",
    "        r'(sysmalloc: .*)',\n",
    "        r'(malloc\\(\\): .*)',\n",
    "        r'(free\\(\\): .*)',\n",
    "    ])\n",
    "    p_class_extra = re.compile(rs, re.MULTILINE)\n",
    "    error_class_extra = p_class_extra.findall(error)\n",
    "    if not error_class_extra:\n",
    "        return error\n",
    "    return functools.reduce(lambda acc, x: acc or x, error_class_extra[0], None)\n",
    "\n",
    "def extract_error_class(row):\n",
    "    language, error, returncode = row\n",
    "    if language == 'C':\n",
    "        return extract_error_class_c(error, returncode)\n",
    "    if language == 'Python':\n",
    "        return extract_error_class_python(error, returncode)\n",
    "    return None\n",
    "\n",
    "def extract_error_class_extra(row):\n",
    "    language, error, returncode = row\n",
    "    if language == 'C':\n",
    "        return extract_error_class_extra_c(error, returncode)\n",
    "    if language == 'Python':\n",
    "        return extract_error_class_extra_python(error, returncode)\n",
    "    return None"
   ]
  },
  {
   "cell_type": "code",
   "execution_count": 54,
   "id": "9881b6e1",
   "metadata": {
    "ExecuteTime": {
     "end_time": "2021-12-05T20:19:11.243573Z",
     "start_time": "2021-12-05T20:19:10.569737Z"
    }
   },
   "outputs": [
    {
     "data": {
      "text/html": [
       "<div>\n",
       "<style scoped>\n",
       "    .dataframe tbody tr th:only-of-type {\n",
       "        vertical-align: middle;\n",
       "    }\n",
       "\n",
       "    .dataframe tbody tr th {\n",
       "        vertical-align: top;\n",
       "    }\n",
       "\n",
       "    .dataframe thead th {\n",
       "        text-align: right;\n",
       "    }\n",
       "</style>\n",
       "<table border=\"1\" class=\"dataframe\">\n",
       "  <thead>\n",
       "    <tr style=\"text-align: right;\">\n",
       "      <th></th>\n",
       "      <th>original_id</th>\n",
       "      <th>changed_id</th>\n",
       "      <th>original_line</th>\n",
       "      <th>changed_line</th>\n",
       "      <th>original_status</th>\n",
       "      <th>original_language</th>\n",
       "      <th>problem_id</th>\n",
       "      <th>language</th>\n",
       "      <th>filename_ext</th>\n",
       "      <th>output</th>\n",
       "      <th>error</th>\n",
       "      <th>returncode</th>\n",
       "      <th>error_class</th>\n",
       "      <th>error_class_extra</th>\n",
       "    </tr>\n",
       "  </thead>\n",
       "  <tbody>\n",
       "    <tr>\n",
       "      <th>0</th>\n",
       "      <td>s152683619</td>\n",
       "      <td>s597068013</td>\n",
       "      <td>13</td>\n",
       "      <td>13</td>\n",
       "      <td>Runtime Error</td>\n",
       "      <td>C</td>\n",
       "      <td>p00001</td>\n",
       "      <td>C</td>\n",
       "      <td>c</td>\n",
       "      <td></td>\n",
       "      <td></td>\n",
       "      <td>-11</td>\n",
       "      <td>-11</td>\n",
       "      <td></td>\n",
       "    </tr>\n",
       "    <tr>\n",
       "      <th>1</th>\n",
       "      <td>s044221442</td>\n",
       "      <td>s839825860</td>\n",
       "      <td>17</td>\n",
       "      <td>16</td>\n",
       "      <td>Wrong Answer</td>\n",
       "      <td>C</td>\n",
       "      <td>p00001</td>\n",
       "      <td>C</td>\n",
       "      <td>c</td>\n",
       "      <td>6\\n3776\\n2848\\n2840\\n</td>\n",
       "      <td></td>\n",
       "      <td>0</td>\n",
       "      <td>0</td>\n",
       "      <td></td>\n",
       "    </tr>\n",
       "    <tr>\n",
       "      <th>2</th>\n",
       "      <td>s186039512</td>\n",
       "      <td>s141089749</td>\n",
       "      <td>18</td>\n",
       "      <td>18</td>\n",
       "      <td>Wrong Answer</td>\n",
       "      <td>C</td>\n",
       "      <td>p00001</td>\n",
       "      <td>C</td>\n",
       "      <td>c</td>\n",
       "      <td>876\\n922\\n1592\\n</td>\n",
       "      <td></td>\n",
       "      <td>0</td>\n",
       "      <td>0</td>\n",
       "      <td></td>\n",
       "    </tr>\n",
       "    <tr>\n",
       "      <th>3</th>\n",
       "      <td>s492423182</td>\n",
       "      <td>s993570869</td>\n",
       "      <td>17</td>\n",
       "      <td>17</td>\n",
       "      <td>Wrong Answer</td>\n",
       "      <td>C</td>\n",
       "      <td>p00001</td>\n",
       "      <td>C</td>\n",
       "      <td>c</td>\n",
       "      <td>3776\\n2840\\n2848\\n</td>\n",
       "      <td></td>\n",
       "      <td>0</td>\n",
       "      <td>0</td>\n",
       "      <td></td>\n",
       "    </tr>\n",
       "    <tr>\n",
       "      <th>4</th>\n",
       "      <td>s348894386</td>\n",
       "      <td>s826240749</td>\n",
       "      <td>23</td>\n",
       "      <td>23</td>\n",
       "      <td>Wrong Answer</td>\n",
       "      <td>C</td>\n",
       "      <td>p00001</td>\n",
       "      <td>C</td>\n",
       "      <td>c</td>\n",
       "      <td>3776 2848 2840</td>\n",
       "      <td></td>\n",
       "      <td>0</td>\n",
       "      <td>0</td>\n",
       "      <td></td>\n",
       "    </tr>\n",
       "    <tr>\n",
       "      <th>...</th>\n",
       "      <td>...</td>\n",
       "      <td>...</td>\n",
       "      <td>...</td>\n",
       "      <td>...</td>\n",
       "      <td>...</td>\n",
       "      <td>...</td>\n",
       "      <td>...</td>\n",
       "      <td>...</td>\n",
       "      <td>...</td>\n",
       "      <td>...</td>\n",
       "      <td>...</td>\n",
       "      <td>...</td>\n",
       "      <td>...</td>\n",
       "      <td>...</td>\n",
       "    </tr>\n",
       "    <tr>\n",
       "      <th>94414</th>\n",
       "      <td>s456383760</td>\n",
       "      <td>s016668249</td>\n",
       "      <td>1</td>\n",
       "      <td>1</td>\n",
       "      <td>Wrong Answer</td>\n",
       "      <td>Python (3.8.2)</td>\n",
       "      <td>p04029</td>\n",
       "      <td>Python</td>\n",
       "      <td>py</td>\n",
       "      <td>3\\n</td>\n",
       "      <td></td>\n",
       "      <td>0</td>\n",
       "      <td>0</td>\n",
       "      <td></td>\n",
       "    </tr>\n",
       "    <tr>\n",
       "      <th>94500</th>\n",
       "      <td>s675922082</td>\n",
       "      <td>s965274869</td>\n",
       "      <td>2</td>\n",
       "      <td>2</td>\n",
       "      <td>Runtime Error</td>\n",
       "      <td>Python (3.8.2)</td>\n",
       "      <td>p04043</td>\n",
       "      <td>Python</td>\n",
       "      <td>py</td>\n",
       "      <td></td>\n",
       "      <td>Traceback (most recent call last):\\n  File \"/h...</td>\n",
       "      <td>1</td>\n",
       "      <td>AttributeError</td>\n",
       "      <td>AttributeError: 'list' object has no attribute...</td>\n",
       "    </tr>\n",
       "    <tr>\n",
       "      <th>94501</th>\n",
       "      <td>s686089965</td>\n",
       "      <td>s644653229</td>\n",
       "      <td>1</td>\n",
       "      <td>1</td>\n",
       "      <td>Wrong Answer</td>\n",
       "      <td>Python (3.8.2)</td>\n",
       "      <td>p04043</td>\n",
       "      <td>Python</td>\n",
       "      <td>py</td>\n",
       "      <td>NO \\n</td>\n",
       "      <td></td>\n",
       "      <td>0</td>\n",
       "      <td>0</td>\n",
       "      <td></td>\n",
       "    </tr>\n",
       "    <tr>\n",
       "      <th>94525</th>\n",
       "      <td>s075564224</td>\n",
       "      <td>s960630596</td>\n",
       "      <td>1</td>\n",
       "      <td>1</td>\n",
       "      <td>Runtime Error</td>\n",
       "      <td>Python (3.8.2)</td>\n",
       "      <td>p04044</td>\n",
       "      <td>Python</td>\n",
       "      <td>py</td>\n",
       "      <td></td>\n",
       "      <td>Traceback (most recent call last):\\n  File \"/h...</td>\n",
       "      <td>1</td>\n",
       "      <td>NameError</td>\n",
       "      <td>NameError: name 'n' is not defined</td>\n",
       "    </tr>\n",
       "    <tr>\n",
       "      <th>94540</th>\n",
       "      <td>s480001739</td>\n",
       "      <td>s348164474</td>\n",
       "      <td>3</td>\n",
       "      <td>3</td>\n",
       "      <td>Wrong Answer</td>\n",
       "      <td>Python (3.8.2)</td>\n",
       "      <td>p04045</td>\n",
       "      <td>Python</td>\n",
       "      <td>py</td>\n",
       "      <td>1000\\n</td>\n",
       "      <td></td>\n",
       "      <td>0</td>\n",
       "      <td>0</td>\n",
       "      <td></td>\n",
       "    </tr>\n",
       "  </tbody>\n",
       "</table>\n",
       "<p>25238 rows × 14 columns</p>\n",
       "</div>"
      ],
      "text/plain": [
       "      original_id  changed_id  original_line  changed_line original_status  \\\n",
       "0      s152683619  s597068013             13            13   Runtime Error   \n",
       "1      s044221442  s839825860             17            16    Wrong Answer   \n",
       "2      s186039512  s141089749             18            18    Wrong Answer   \n",
       "3      s492423182  s993570869             17            17    Wrong Answer   \n",
       "4      s348894386  s826240749             23            23    Wrong Answer   \n",
       "...           ...         ...            ...           ...             ...   \n",
       "94414  s456383760  s016668249              1             1    Wrong Answer   \n",
       "94500  s675922082  s965274869              2             2   Runtime Error   \n",
       "94501  s686089965  s644653229              1             1    Wrong Answer   \n",
       "94525  s075564224  s960630596              1             1   Runtime Error   \n",
       "94540  s480001739  s348164474              3             3    Wrong Answer   \n",
       "\n",
       "      original_language problem_id language filename_ext  \\\n",
       "0                     C     p00001        C            c   \n",
       "1                     C     p00001        C            c   \n",
       "2                     C     p00001        C            c   \n",
       "3                     C     p00001        C            c   \n",
       "4                     C     p00001        C            c   \n",
       "...                 ...        ...      ...          ...   \n",
       "94414    Python (3.8.2)     p04029   Python           py   \n",
       "94500    Python (3.8.2)     p04043   Python           py   \n",
       "94501    Python (3.8.2)     p04043   Python           py   \n",
       "94525    Python (3.8.2)     p04044   Python           py   \n",
       "94540    Python (3.8.2)     p04045   Python           py   \n",
       "\n",
       "                      output  \\\n",
       "0                              \n",
       "1      6\\n3776\\n2848\\n2840\\n   \n",
       "2           876\\n922\\n1592\\n   \n",
       "3         3776\\n2840\\n2848\\n   \n",
       "4             3776 2848 2840   \n",
       "...                      ...   \n",
       "94414                    3\\n   \n",
       "94500                          \n",
       "94501                  NO \\n   \n",
       "94525                          \n",
       "94540                 1000\\n   \n",
       "\n",
       "                                                   error  returncode  \\\n",
       "0                                                                -11   \n",
       "1                                                                  0   \n",
       "2                                                                  0   \n",
       "3                                                                  0   \n",
       "4                                                                  0   \n",
       "...                                                  ...         ...   \n",
       "94414                                                              0   \n",
       "94500  Traceback (most recent call last):\\n  File \"/h...           1   \n",
       "94501                                                              0   \n",
       "94525  Traceback (most recent call last):\\n  File \"/h...           1   \n",
       "94540                                                              0   \n",
       "\n",
       "          error_class                                  error_class_extra  \n",
       "0                 -11                                                     \n",
       "1                   0                                                     \n",
       "2                   0                                                     \n",
       "3                   0                                                     \n",
       "4                   0                                                     \n",
       "...               ...                                                ...  \n",
       "94414               0                                                     \n",
       "94500  AttributeError  AttributeError: 'list' object has no attribute...  \n",
       "94501               0                                                     \n",
       "94525       NameError                 NameError: name 'n' is not defined  \n",
       "94540               0                                                     \n",
       "\n",
       "[25238 rows x 14 columns]"
      ]
     },
     "execution_count": 54,
     "metadata": {},
     "output_type": "execute_result"
    }
   ],
   "source": [
    "errs_df = pd.DataFrame(errs, columns=['index', 'output', 'error', 'returncode']).set_index('index')\n",
    "errs_df.index.name = None\n",
    "\n",
    "p_error_df = pd.concat([p_df, errs_df[['output', 'error', 'returncode']]], axis=1)\n",
    "\n",
    "p_error_df['error_class'] = p_error_df[['language', 'error', 'returncode']].apply(extract_error_class, axis=1)\n",
    "p_error_df['error_class_extra'] = p_error_df[['language', 'error', 'returncode']].apply(extract_error_class_extra, axis=1)\n",
    "\n",
    "p_error_df"
   ]
  },
  {
   "cell_type": "code",
   "execution_count": 55,
   "id": "25c6ceac",
   "metadata": {
    "ExecuteTime": {
     "end_time": "2021-12-05T20:19:12.652870Z",
     "start_time": "2021-12-05T20:19:12.644225Z"
    }
   },
   "outputs": [
    {
     "data": {
      "text/plain": [
       "0                      18407\n",
       "1                       2703\n",
       "SyntaxError             2161\n",
       "NameError                505\n",
       "TypeError                452\n",
       "-11                      438\n",
       "AttributeError            90\n",
       "ValueError                81\n",
       "EOFError                  79\n",
       "IndentationError          57\n",
       "-6                        52\n",
       "IndexError                49\n",
       "ModuleNotFoundError       34\n",
       "TLEError                  23\n",
       "-8                        20\n",
       "SyntaxWarning             19\n",
       "TabError                  16\n",
       "ImportError               11\n",
       "UnboundLocalError          6\n",
       "KeyError                   6\n",
       "ZeroDivisionError          4\n",
       "255                        3\n",
       "4                          3\n",
       "9                          3\n",
       "OverflowError              2\n",
       "2                          2\n",
       "RuntimeError               2\n",
       "20                         2\n",
       "12                         1\n",
       "11                         1\n",
       "245                        1\n",
       "-4                         1\n",
       "3                          1\n",
       "8                          1\n",
       "6                          1\n",
       "-7                         1\n",
       "Name: error_class, dtype: int64"
      ]
     },
     "execution_count": 55,
     "metadata": {},
     "output_type": "execute_result"
    }
   ],
   "source": [
    "p_error_df['error_class'].value_counts()"
   ]
  },
  {
   "cell_type": "code",
   "execution_count": null,
   "id": "9bbbb552",
   "metadata": {},
   "outputs": [],
   "source": []
  }
 ],
 "metadata": {
  "kernelspec": {
   "display_name": "Python 3 (ipykernel)",
   "language": "python",
   "name": "python3"
  },
  "language_info": {
   "codemirror_mode": {
    "name": "ipython",
    "version": 3
   },
   "file_extension": ".py",
   "mimetype": "text/x-python",
   "name": "python",
   "nbconvert_exporter": "python",
   "pygments_lexer": "ipython3",
   "version": "3.9.5"
  }
 },
 "nbformat": 4,
 "nbformat_minor": 5
}
