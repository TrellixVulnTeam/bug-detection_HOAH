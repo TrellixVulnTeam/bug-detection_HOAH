{
 "cells": [
  {
   "cell_type": "markdown",
   "id": "daa9d885",
   "metadata": {},
   "source": [
    "# CodeNet Dataset\n",
    "\n",
    "In this notebook I intend to make it very easy to visualize all the necessary information about a specific problem. The base dataset I will be using in this notebook is [CodeNet](https://github.com/IBM/Project_CodeNet) which is a large collection of source files and problem descriptions with metadata. The solutions are written in multiple programming languages (55+ according to the paper) and each problem has multiple submissions. Most of the submissions are written in the six most common languages (C++, Python, Java, C, Ruby, C#). As expected most of the solutions are in C++. One interesting aspect of the dataset is that it includes failed submissions, with various status codes such as Compilation Errors, Runtime Errors, Time Limit Exceeded, Memory Limit Exceeded, etc. This will prove useful since we are looking into bug detection in source code files.\n",
    "\n",
    "# Table of Contents\n",
    "1. [Download CodeNet](#Download-CodeNet)\n",
    "2. [Explore CodeNet](#Explore-CodeNet)\n",
    "3. [Explore Problem 0](#Explore-Problem-0)\n",
    "4. [Missing Values](#Missing-Values)\n",
    "5. [Explore Other Problems](#Explore-Other-Problems)\n",
    "6. [Generate Source Code Pairs](#Generate-Source-Code-Pairs)\n",
    "7. [Analyze source code files](#Analyze-source-code-files)"
   ]
  },
  {
   "cell_type": "code",
   "execution_count": 1,
   "id": "7ae91f92",
   "metadata": {
    "ExecuteTime": {
     "end_time": "2021-12-09T17:37:58.808960Z",
     "start_time": "2021-12-09T17:37:57.851934Z"
    }
   },
   "outputs": [],
   "source": [
    "import os\n",
    "import re\n",
    "import io\n",
    "import sys\n",
    "import wget\n",
    "import html\n",
    "import pickle\n",
    "import random\n",
    "import tarfile\n",
    "import itertools\n",
    "import functools\n",
    "import subprocess\n",
    "\n",
    "import pandas as pd\n",
    "import seaborn as sns\n",
    "import matplotlib.pyplot as plt\n",
    "import more_itertools as more_itertools\n",
    "\n",
    "from bs4 import BeautifulSoup\n",
    "from IPython.display import display, HTML\n",
    "from tqdm import tqdm\n",
    "from pprint import pprint\n",
    "from difflib import Differ, SequenceMatcher\n",
    "\n",
    "tqdm.pandas()\n",
    "\n",
    "# Initialize the dataset paths\n",
    "input_path = '../input/'\n",
    "root_path = input_path + 'Project_CodeNet/'\n",
    "\n",
    "tools_path = '../Project_CodeNet/tools/'\n",
    "tokenizer_path = tools_path + 'tokenizer/tokenize'\n",
    "\n",
    "assert os.path.exists(tokenizer_path), 'You first need to compile the tokenier utility'\n",
    "\n",
    "os.makedirs(input_path, exist_ok=True)\n",
    "\n",
    "data_path = root_path + 'data/'\n",
    "metadata_path = root_path + 'metadata/'\n",
    "derived_path = root_path + 'derived/'\n",
    "descriptions_path = root_path + 'problem_descriptions/'\n",
    "\n",
    "def id2desc(problem_id): return descriptions_path + problem_id + '.html'\n",
    "def id2inout(problem_id, name='input'): \n",
    "    return derived_path + 'input_output/data/' + problem_id + '/' + name + '.txt'\n",
    "def id2submission(problem_id, language, submission_id, filename_ext): \n",
    "    return data_path + problem_id + '/' + language + '/' + submission_id + '.' + filename_ext"
   ]
  },
  {
   "cell_type": "markdown",
   "id": "fde8520f",
   "metadata": {},
   "source": [
    "## Download CodeNet\n",
    "\n",
    "The next code cell will download the CodeNet dataset from it's original repository (the archive has around 80GB). If you already have the dataset change the input_path variable to point to the root of the dataset, otherwise the notebook will download it in the ../input/ directory."
   ]
  },
  {
   "cell_type": "code",
   "execution_count": 2,
   "id": "09ddced5",
   "metadata": {
    "ExecuteTime": {
     "end_time": "2021-12-09T17:37:58.815065Z",
     "start_time": "2021-12-09T17:37:58.810859Z"
    }
   },
   "outputs": [
    {
     "name": "stdout",
     "output_type": "stream",
     "text": [
      "dataset root dir found\n"
     ]
    }
   ],
   "source": [
    "data_url = \"https://dax-cdn.cdn.appdomain.cloud/dax-project-codenet/1.0.0\"\n",
    "tar_name = \"Project_CodeNet.tar.gz\"\n",
    "tar_path = input_path + tar_name\n",
    "\n",
    "def download_data():\n",
    "    if os.path.exists(root_path):\n",
    "        print(\"dataset root dir found\")\n",
    "        return\n",
    "\n",
    "    if not os.path.exists(tar_path):\n",
    "        wget.download(f\"{data_url}/{tar_name}\", out=tar_path)\n",
    "        \n",
    "    with tarfile.open(tar_path) as tf:\n",
    "        tf.extractall(path=data_path)\n",
    "\n",
    "download_data()"
   ]
  },
  {
   "cell_type": "markdown",
   "id": "769d7e1f",
   "metadata": {},
   "source": [
    "## Explore CodeNet"
   ]
  },
  {
   "cell_type": "markdown",
   "id": "b6a0ceb5",
   "metadata": {},
   "source": [
    "The dataset contains a metadata folder with details for each problem, which is basically a list of submissions with status codes, user IDs, time and memory consumption, and the programming language used for that solution. Other than that, the metadata contains a csv file with a list of all the problems, with some basic information, such as the name.\n",
    "\n",
    "Let's load the problem list table and look at the data. We are interested in seeing how many problems we have and from what coding competition each problem is taken from."
   ]
  },
  {
   "cell_type": "code",
   "execution_count": 3,
   "id": "75e54209",
   "metadata": {
    "ExecuteTime": {
     "end_time": "2021-12-09T17:37:58.861981Z",
     "start_time": "2021-12-09T17:37:58.816383Z"
    }
   },
   "outputs": [
    {
     "name": "stdout",
     "output_type": "stream",
     "text": [
      "We have 4053 problems\n",
      "The distribution of the datasets is\n",
      "AIZU       0.625216\n",
      "AtCoder    0.374784\n",
      "Name: dataset, dtype: float64\n"
     ]
    },
    {
     "data": {
      "text/html": [
       "<div>\n",
       "<style scoped>\n",
       "    .dataframe tbody tr th:only-of-type {\n",
       "        vertical-align: middle;\n",
       "    }\n",
       "\n",
       "    .dataframe tbody tr th {\n",
       "        vertical-align: top;\n",
       "    }\n",
       "\n",
       "    .dataframe thead th {\n",
       "        text-align: right;\n",
       "    }\n",
       "</style>\n",
       "<table border=\"1\" class=\"dataframe\">\n",
       "  <thead>\n",
       "    <tr style=\"text-align: right;\">\n",
       "      <th></th>\n",
       "      <th>name</th>\n",
       "      <th>dataset</th>\n",
       "      <th>time_limit</th>\n",
       "      <th>memory_limit</th>\n",
       "      <th>rating</th>\n",
       "      <th>tags</th>\n",
       "      <th>complexity</th>\n",
       "    </tr>\n",
       "    <tr>\n",
       "      <th>id</th>\n",
       "      <th></th>\n",
       "      <th></th>\n",
       "      <th></th>\n",
       "      <th></th>\n",
       "      <th></th>\n",
       "      <th></th>\n",
       "      <th></th>\n",
       "    </tr>\n",
       "  </thead>\n",
       "  <tbody>\n",
       "    <tr>\n",
       "      <th>p00000</th>\n",
       "      <td>QQ</td>\n",
       "      <td>AIZU</td>\n",
       "      <td>1000.0</td>\n",
       "      <td>131072.0</td>\n",
       "      <td>NaN</td>\n",
       "      <td>NaN</td>\n",
       "      <td>NaN</td>\n",
       "    </tr>\n",
       "    <tr>\n",
       "      <th>p00001</th>\n",
       "      <td>List of Top 3 Hills</td>\n",
       "      <td>AIZU</td>\n",
       "      <td>1000.0</td>\n",
       "      <td>131072.0</td>\n",
       "      <td>NaN</td>\n",
       "      <td>NaN</td>\n",
       "      <td>NaN</td>\n",
       "    </tr>\n",
       "    <tr>\n",
       "      <th>p00002</th>\n",
       "      <td>Digit Number</td>\n",
       "      <td>AIZU</td>\n",
       "      <td>1000.0</td>\n",
       "      <td>131072.0</td>\n",
       "      <td>NaN</td>\n",
       "      <td>NaN</td>\n",
       "      <td>NaN</td>\n",
       "    </tr>\n",
       "    <tr>\n",
       "      <th>p00003</th>\n",
       "      <td>Is it a Right Triangle?</td>\n",
       "      <td>AIZU</td>\n",
       "      <td>1000.0</td>\n",
       "      <td>131072.0</td>\n",
       "      <td>NaN</td>\n",
       "      <td>NaN</td>\n",
       "      <td>NaN</td>\n",
       "    </tr>\n",
       "    <tr>\n",
       "      <th>p00004</th>\n",
       "      <td>Simultaneous Equation</td>\n",
       "      <td>AIZU</td>\n",
       "      <td>1000.0</td>\n",
       "      <td>131072.0</td>\n",
       "      <td>NaN</td>\n",
       "      <td>NaN</td>\n",
       "      <td>NaN</td>\n",
       "    </tr>\n",
       "  </tbody>\n",
       "</table>\n",
       "</div>"
      ],
      "text/plain": [
       "                           name dataset  time_limit  memory_limit  rating  \\\n",
       "id                                                                          \n",
       "p00000                       QQ    AIZU      1000.0      131072.0     NaN   \n",
       "p00001      List of Top 3 Hills    AIZU      1000.0      131072.0     NaN   \n",
       "p00002             Digit Number    AIZU      1000.0      131072.0     NaN   \n",
       "p00003  Is it a Right Triangle?    AIZU      1000.0      131072.0     NaN   \n",
       "p00004    Simultaneous Equation    AIZU      1000.0      131072.0     NaN   \n",
       "\n",
       "        tags  complexity  \n",
       "id                        \n",
       "p00000   NaN         NaN  \n",
       "p00001   NaN         NaN  \n",
       "p00002   NaN         NaN  \n",
       "p00003   NaN         NaN  \n",
       "p00004   NaN         NaN  "
      ]
     },
     "metadata": {},
     "output_type": "display_data"
    },
    {
     "data": {
      "text/plain": [
       "name              56\n",
       "dataset            0\n",
       "time_limit        56\n",
       "memory_limit      56\n",
       "rating          4053\n",
       "tags            4053\n",
       "complexity      4053\n",
       "dtype: int64"
      ]
     },
     "metadata": {},
     "output_type": "display_data"
    }
   ],
   "source": [
    "# Load the problem list table as a csv\n",
    "problem_list_df = pd.read_csv(metadata_path + 'problem_list.csv')\n",
    "problem_list_df.set_index('id', inplace=True)\n",
    "\n",
    "print(f\"We have {len(problem_list_df)} problems\")\n",
    "print('The distribution of the datasets is')\n",
    "print(problem_list_df['dataset'].value_counts(normalize=True))\n",
    "display(problem_list_df.head())\n",
    "display(problem_list_df.isna().sum())"
   ]
  },
  {
   "cell_type": "markdown",
   "id": "a2267323",
   "metadata": {},
   "source": [
    "We can see that we have around 4000 problems with 2 thirds coming from the AIZU dataset and the rest from the AtCoder dataset. Another interesting aspect is that the rating, tags and complexity is missing for all the problems. The tags could have beed useful to classify the problem into corresponding categories, such as graph problem or dynamic programing problem, etc. There are also some data missing for the name, time limit and memory limit for a few problems, but it shouldn't be a problem. We can fill in the missing values for time limit and memory limit with some arbitrary numbers, such as the median values for those columns. I think that the name is not that relevant so we can skip it. Maybe the missing name hints toward the fact that we have some missing description files in the dataset."
   ]
  },
  {
   "cell_type": "code",
   "execution_count": 4,
   "id": "f479b104",
   "metadata": {
    "ExecuteTime": {
     "end_time": "2021-12-09T17:37:58.873951Z",
     "start_time": "2021-12-09T17:37:58.865534Z"
    }
   },
   "outputs": [
    {
     "name": "stdout",
     "output_type": "stream",
     "text": [
      "Median value for the time limit  2000.0\n",
      "Median value for the memory limit  262144.0\n"
     ]
    }
   ],
   "source": [
    "print('Median value for the time limit ', problem_list_df['time_limit'].median())\n",
    "print('Median value for the memory limit ', problem_list_df['memory_limit'].median())"
   ]
  },
  {
   "cell_type": "code",
   "execution_count": 5,
   "id": "3f7d4e9e",
   "metadata": {
    "ExecuteTime": {
     "end_time": "2021-12-09T17:37:58.889220Z",
     "start_time": "2021-12-09T17:37:58.876195Z"
    }
   },
   "outputs": [
    {
     "data": {
      "text/plain": [
       "name              56\n",
       "dataset            0\n",
       "time_limit         0\n",
       "memory_limit       0\n",
       "rating          4053\n",
       "tags            4053\n",
       "complexity      4053\n",
       "dtype: int64"
      ]
     },
     "metadata": {},
     "output_type": "display_data"
    }
   ],
   "source": [
    "problem_list_df['time_limit'].fillna(problem_list_df['time_limit'].median(), inplace=True)\n",
    "problem_list_df['memory_limit'].fillna(problem_list_df['memory_limit'].median(), inplace=True)\n",
    "display(problem_list_df.isna().sum())"
   ]
  },
  {
   "cell_type": "markdown",
   "id": "593221c3",
   "metadata": {},
   "source": [
    "## Explore Problem 0"
   ]
  },
  {
   "cell_type": "markdown",
   "id": "0c0508a9",
   "metadata": {},
   "source": [
    "Let's look for example at the first problem and see how many submissions it has, what programming languages were used, what was the distribution of the status for the submissions and the users that attempted this problem. Let's also see what was the average number of submissions per user."
   ]
  },
  {
   "cell_type": "code",
   "execution_count": 6,
   "id": "4ab2a17b",
   "metadata": {
    "ExecuteTime": {
     "end_time": "2021-12-09T17:37:58.983628Z",
     "start_time": "2021-12-09T17:37:58.890834Z"
    }
   },
   "outputs": [
    {
     "name": "stdout",
     "output_type": "stream",
     "text": [
      "We have 16099 submissions for problem p00000\n",
      "The distribution of the programming languages is\n",
      "C++           5231\n",
      "C             4849\n",
      "Java          2291\n",
      "Python        1626\n",
      "Ruby           701\n",
      "C#             416\n",
      "PHP            316\n",
      "JavaScript     288\n",
      "Scala          105\n",
      "Haskell        103\n",
      "D               89\n",
      "Go              31\n",
      "Rust            24\n",
      "OCaml           22\n",
      "Kotlin           7\n",
      "Name: language, dtype: int64\n",
      "The distribution of the status is\n",
      "Accepted                  8597\n",
      "Wrong Answer              3187\n",
      "Compile Error             2638\n",
      "Runtime Error              952\n",
      "WA: Presentation Error     545\n",
      "Time Limit Exceeded        164\n",
      "Memory Limit Exceeded       13\n",
      "Output Limit Exceeded        3\n",
      "Name: status, dtype: int64\n",
      "The number of users that attempted this problem 5944\n",
      "The average number of submissions of a user 2.708445491251682\n",
      "The min number of submissions of a user 1\n",
      "The median number of submissions of a user 1.0\n",
      "The max number of submissions of a user 1362\n"
     ]
    },
    {
     "data": {
      "text/html": [
       "<div>\n",
       "<style scoped>\n",
       "    .dataframe tbody tr th:only-of-type {\n",
       "        vertical-align: middle;\n",
       "    }\n",
       "\n",
       "    .dataframe tbody tr th {\n",
       "        vertical-align: top;\n",
       "    }\n",
       "\n",
       "    .dataframe thead th {\n",
       "        text-align: right;\n",
       "    }\n",
       "</style>\n",
       "<table border=\"1\" class=\"dataframe\">\n",
       "  <thead>\n",
       "    <tr style=\"text-align: right;\">\n",
       "      <th></th>\n",
       "      <th>problem_id</th>\n",
       "      <th>user_id</th>\n",
       "      <th>date</th>\n",
       "      <th>language</th>\n",
       "      <th>original_language</th>\n",
       "      <th>filename_ext</th>\n",
       "      <th>status</th>\n",
       "      <th>cpu_time</th>\n",
       "      <th>memory</th>\n",
       "      <th>code_size</th>\n",
       "      <th>accuracy</th>\n",
       "    </tr>\n",
       "    <tr>\n",
       "      <th>submission_id</th>\n",
       "      <th></th>\n",
       "      <th></th>\n",
       "      <th></th>\n",
       "      <th></th>\n",
       "      <th></th>\n",
       "      <th></th>\n",
       "      <th></th>\n",
       "      <th></th>\n",
       "      <th></th>\n",
       "      <th></th>\n",
       "      <th></th>\n",
       "    </tr>\n",
       "  </thead>\n",
       "  <tbody>\n",
       "    <tr>\n",
       "      <th>s694813024</th>\n",
       "      <td>p00000</td>\n",
       "      <td>u706566315</td>\n",
       "      <td>1540908251</td>\n",
       "      <td>Rust</td>\n",
       "      <td>Rust</td>\n",
       "      <td>rs</td>\n",
       "      <td>Wrong Answer</td>\n",
       "      <td>0</td>\n",
       "      <td>5012</td>\n",
       "      <td>120</td>\n",
       "      <td>0/1</td>\n",
       "    </tr>\n",
       "    <tr>\n",
       "      <th>s554950692</th>\n",
       "      <td>p00000</td>\n",
       "      <td>u706566315</td>\n",
       "      <td>1540908314</td>\n",
       "      <td>Rust</td>\n",
       "      <td>Rust</td>\n",
       "      <td>rs</td>\n",
       "      <td>Accepted</td>\n",
       "      <td>0</td>\n",
       "      <td>5004</td>\n",
       "      <td>124</td>\n",
       "      <td>1/1</td>\n",
       "    </tr>\n",
       "    <tr>\n",
       "      <th>s555203498</th>\n",
       "      <td>p00000</td>\n",
       "      <td>u759934006</td>\n",
       "      <td>1513417513</td>\n",
       "      <td>Rust</td>\n",
       "      <td>Rust</td>\n",
       "      <td>rs</td>\n",
       "      <td>Accepted</td>\n",
       "      <td>0</td>\n",
       "      <td>5020</td>\n",
       "      <td>136</td>\n",
       "      <td>1/1</td>\n",
       "    </tr>\n",
       "    <tr>\n",
       "      <th>s309783173</th>\n",
       "      <td>p00000</td>\n",
       "      <td>u233505136</td>\n",
       "      <td>1516826051</td>\n",
       "      <td>Rust</td>\n",
       "      <td>Rust</td>\n",
       "      <td>rs</td>\n",
       "      <td>Accepted</td>\n",
       "      <td>0</td>\n",
       "      <td>5004</td>\n",
       "      <td>123</td>\n",
       "      <td>1/1</td>\n",
       "    </tr>\n",
       "    <tr>\n",
       "      <th>s184977351</th>\n",
       "      <td>p00000</td>\n",
       "      <td>u191088660</td>\n",
       "      <td>1517740150</td>\n",
       "      <td>Rust</td>\n",
       "      <td>Rust</td>\n",
       "      <td>rs</td>\n",
       "      <td>Accepted</td>\n",
       "      <td>0</td>\n",
       "      <td>5004</td>\n",
       "      <td>122</td>\n",
       "      <td>1/1</td>\n",
       "    </tr>\n",
       "  </tbody>\n",
       "</table>\n",
       "</div>"
      ],
      "text/plain": [
       "              problem_id     user_id        date language original_language  \\\n",
       "submission_id                                                                 \n",
       "s694813024        p00000  u706566315  1540908251     Rust              Rust   \n",
       "s554950692        p00000  u706566315  1540908314     Rust              Rust   \n",
       "s555203498        p00000  u759934006  1513417513     Rust              Rust   \n",
       "s309783173        p00000  u233505136  1516826051     Rust              Rust   \n",
       "s184977351        p00000  u191088660  1517740150     Rust              Rust   \n",
       "\n",
       "              filename_ext        status  cpu_time  memory  code_size accuracy  \n",
       "submission_id                                                                   \n",
       "s694813024              rs  Wrong Answer         0    5012        120      0/1  \n",
       "s554950692              rs      Accepted         0    5004        124      1/1  \n",
       "s555203498              rs      Accepted         0    5020        136      1/1  \n",
       "s309783173              rs      Accepted         0    5004        123      1/1  \n",
       "s184977351              rs      Accepted         0    5004        122      1/1  "
      ]
     },
     "metadata": {},
     "output_type": "display_data"
    }
   ],
   "source": [
    "problem_id = 'p00000'\n",
    "\n",
    "problem_df = pd.read_csv(metadata_path + f'{problem_id}.csv')\n",
    "problem_df.set_index('submission_id', inplace=True)\n",
    "\n",
    "print(f\"We have {len(problem_df)} submissions for problem {problem_id}\")\n",
    "print('The distribution of the programming languages is')\n",
    "print(problem_df['language'].value_counts())\n",
    "print('The distribution of the status is')\n",
    "print(problem_df['status'].value_counts())\n",
    "print('The number of users that attempted this problem', len(problem_df['user_id'].unique()))\n",
    "print('The average number of submissions of a user', problem_df.groupby('user_id').size().mean())\n",
    "print('The min number of submissions of a user', problem_df.groupby('user_id').size().min())\n",
    "print('The median number of submissions of a user', problem_df.groupby('user_id').size().median())\n",
    "print('The max number of submissions of a user', problem_df.groupby('user_id').size().max())\n",
    "display(problem_df.head())"
   ]
  },
  {
   "cell_type": "markdown",
   "id": "12b9e82b",
   "metadata": {},
   "source": [
    "We can see that for this problem the top six used programming languages matches the top six of the entire dataset (C++, C, Java, Python, Ruby, C#) and also that the distribution of the status is again consistent, with around 50% accepted submissions and the rest being some form of error, according to the dataset paper. It looks like the number of users that tried this problem is very large, ~6000, the average number of submission being equal to 2.7, but in this case we can see that the average is not that useful, it being very sensitive to outliers, as there is an user that sent over 1000 submissions, so I think that the median is a better metric for trying to see how hard a problem was. In the case of the first problem the median number of submissions for a single user is 1, so we can assume that this problem was easy to solve. Now I think that C is a simple enough language so we can take a subsample of the first problem containing only the C solutions and continue from there."
   ]
  },
  {
   "cell_type": "code",
   "execution_count": 7,
   "id": "fd8a0e52",
   "metadata": {
    "ExecuteTime": {
     "end_time": "2021-12-09T17:37:59.032264Z",
     "start_time": "2021-12-09T17:37:58.987011Z"
    }
   },
   "outputs": [
    {
     "name": "stdout",
     "output_type": "stream",
     "text": [
      "We have 4849 submissions for problem p00000\n",
      "The distribution of the programming languages is\n",
      "C    4849\n",
      "Name: language, dtype: int64\n",
      "The distribution of the status is\n",
      "Accepted                  2089\n",
      "Wrong Answer              1126\n",
      "Compile Error              993\n",
      "Runtime Error              389\n",
      "WA: Presentation Error     189\n",
      "Time Limit Exceeded         61\n",
      "Memory Limit Exceeded        2\n",
      "Name: status, dtype: int64\n",
      "The number of users that attempted this problem 1704\n",
      "The average number of submissions of a user 2.845657276995305\n",
      "The min number of submissions of a user 1\n",
      "The median number of submissions of a user 1.0\n",
      "The max number of submissions of a user 865\n"
     ]
    },
    {
     "data": {
      "text/html": [
       "<div>\n",
       "<style scoped>\n",
       "    .dataframe tbody tr th:only-of-type {\n",
       "        vertical-align: middle;\n",
       "    }\n",
       "\n",
       "    .dataframe tbody tr th {\n",
       "        vertical-align: top;\n",
       "    }\n",
       "\n",
       "    .dataframe thead th {\n",
       "        text-align: right;\n",
       "    }\n",
       "</style>\n",
       "<table border=\"1\" class=\"dataframe\">\n",
       "  <thead>\n",
       "    <tr style=\"text-align: right;\">\n",
       "      <th></th>\n",
       "      <th>problem_id</th>\n",
       "      <th>user_id</th>\n",
       "      <th>date</th>\n",
       "      <th>language</th>\n",
       "      <th>original_language</th>\n",
       "      <th>filename_ext</th>\n",
       "      <th>status</th>\n",
       "      <th>cpu_time</th>\n",
       "      <th>memory</th>\n",
       "      <th>code_size</th>\n",
       "      <th>accuracy</th>\n",
       "    </tr>\n",
       "    <tr>\n",
       "      <th>submission_id</th>\n",
       "      <th></th>\n",
       "      <th></th>\n",
       "      <th></th>\n",
       "      <th></th>\n",
       "      <th></th>\n",
       "      <th></th>\n",
       "      <th></th>\n",
       "      <th></th>\n",
       "      <th></th>\n",
       "      <th></th>\n",
       "      <th></th>\n",
       "    </tr>\n",
       "  </thead>\n",
       "  <tbody>\n",
       "    <tr>\n",
       "      <th>s113530555</th>\n",
       "      <td>p00000</td>\n",
       "      <td>u564373483</td>\n",
       "      <td>1530931912</td>\n",
       "      <td>C</td>\n",
       "      <td>C</td>\n",
       "      <td>c</td>\n",
       "      <td>Accepted</td>\n",
       "      <td>0</td>\n",
       "      <td>2036</td>\n",
       "      <td>148</td>\n",
       "      <td>1/1</td>\n",
       "    </tr>\n",
       "    <tr>\n",
       "      <th>s650564374</th>\n",
       "      <td>p00000</td>\n",
       "      <td>u011621222</td>\n",
       "      <td>1530986413</td>\n",
       "      <td>C</td>\n",
       "      <td>C</td>\n",
       "      <td>c</td>\n",
       "      <td>Wrong Answer</td>\n",
       "      <td>0</td>\n",
       "      <td>2044</td>\n",
       "      <td>177</td>\n",
       "      <td>0/1</td>\n",
       "    </tr>\n",
       "    <tr>\n",
       "      <th>s054320558</th>\n",
       "      <td>p00000</td>\n",
       "      <td>u011621222</td>\n",
       "      <td>1530987028</td>\n",
       "      <td>C</td>\n",
       "      <td>C</td>\n",
       "      <td>c</td>\n",
       "      <td>Wrong Answer</td>\n",
       "      <td>0</td>\n",
       "      <td>2044</td>\n",
       "      <td>191</td>\n",
       "      <td>0/1</td>\n",
       "    </tr>\n",
       "    <tr>\n",
       "      <th>s104411660</th>\n",
       "      <td>p00000</td>\n",
       "      <td>u011621222</td>\n",
       "      <td>1531006441</td>\n",
       "      <td>C</td>\n",
       "      <td>C</td>\n",
       "      <td>c</td>\n",
       "      <td>Wrong Answer</td>\n",
       "      <td>0</td>\n",
       "      <td>2032</td>\n",
       "      <td>197</td>\n",
       "      <td>0/1</td>\n",
       "    </tr>\n",
       "    <tr>\n",
       "      <th>s966149516</th>\n",
       "      <td>p00000</td>\n",
       "      <td>u011621222</td>\n",
       "      <td>1531030321</td>\n",
       "      <td>C</td>\n",
       "      <td>C</td>\n",
       "      <td>c</td>\n",
       "      <td>Wrong Answer</td>\n",
       "      <td>0</td>\n",
       "      <td>1984</td>\n",
       "      <td>190</td>\n",
       "      <td>0/1</td>\n",
       "    </tr>\n",
       "  </tbody>\n",
       "</table>\n",
       "</div>"
      ],
      "text/plain": [
       "              problem_id     user_id        date language original_language  \\\n",
       "submission_id                                                                 \n",
       "s113530555        p00000  u564373483  1530931912        C                 C   \n",
       "s650564374        p00000  u011621222  1530986413        C                 C   \n",
       "s054320558        p00000  u011621222  1530987028        C                 C   \n",
       "s104411660        p00000  u011621222  1531006441        C                 C   \n",
       "s966149516        p00000  u011621222  1531030321        C                 C   \n",
       "\n",
       "              filename_ext        status  cpu_time  memory  code_size accuracy  \n",
       "submission_id                                                                   \n",
       "s113530555               c      Accepted         0    2036        148      1/1  \n",
       "s650564374               c  Wrong Answer         0    2044        177      0/1  \n",
       "s054320558               c  Wrong Answer         0    2044        191      0/1  \n",
       "s104411660               c  Wrong Answer         0    2032        197      0/1  \n",
       "s966149516               c  Wrong Answer         0    1984        190      0/1  "
      ]
     },
     "metadata": {},
     "output_type": "display_data"
    }
   ],
   "source": [
    "languages = problem_df['language'].unique()\n",
    "language = 'C'\n",
    "\n",
    "problem_df = problem_df[problem_df['language'] == language]\n",
    "\n",
    "print(f\"We have {len(problem_df)} submissions for problem {problem_id}\")\n",
    "print('The distribution of the programming languages is')\n",
    "print(problem_df['language'].value_counts())\n",
    "print('The distribution of the status is')\n",
    "print(problem_df['status'].value_counts())\n",
    "print('The number of users that attempted this problem', len(problem_df['user_id'].unique()))\n",
    "print('The average number of submissions of a user', problem_df.groupby('user_id').size().mean())\n",
    "print('The min number of submissions of a user', problem_df.groupby('user_id').size().min())\n",
    "print('The median number of submissions of a user', problem_df.groupby('user_id').size().median())\n",
    "print('The max number of submissions of a user', problem_df.groupby('user_id').size().max())\n",
    "display(problem_df.head())"
   ]
  },
  {
   "cell_type": "markdown",
   "id": "77507624",
   "metadata": {},
   "source": [
    "Again it looks like the distribution of the statistics is consistent with the entire dataset even for this subset. Now it would be interesting to see some examples of solutions found for this problem. Let's start by creating a function that reads a C submission from the dataset source files."
   ]
  },
  {
   "cell_type": "code",
   "execution_count": 8,
   "id": "8bde9e14",
   "metadata": {
    "ExecuteTime": {
     "end_time": "2021-12-09T17:37:59.047834Z",
     "start_time": "2021-12-09T17:37:59.035183Z"
    }
   },
   "outputs": [
    {
     "name": "stdout",
     "output_type": "stream",
     "text": [
      "#include<stdio.h>\n",
      "\n",
      "int main(){\n",
      "  int i,j;\n",
      "\n",
      "  for(i=1;i<10;i++){\n",
      "    for(j=1;j<10;j++){\n",
      "      printf(\"%dx%d=%d\\n\",i,j,i*j);\n",
      "    }\n",
      "  }\n",
      "\n",
      "  return 0;\n",
      "}\n"
     ]
    }
   ],
   "source": [
    "submission = problem_df[problem_df['status'] == 'Accepted'].index[0]\n",
    "\n",
    "with open(id2submission('p00000', 'C', submission, 'c')) as f:\n",
    "    text = f.readlines()\n",
    "    \n",
    "sys.stdout.writelines(text)"
   ]
  },
  {
   "cell_type": "code",
   "execution_count": 9,
   "id": "d38d4cb6",
   "metadata": {
    "ExecuteTime": {
     "end_time": "2021-12-09T17:37:59.057725Z",
     "start_time": "2021-12-09T17:37:59.051102Z"
    }
   },
   "outputs": [
    {
     "name": "stdout",
     "output_type": "stream",
     "text": [
      "#include<stdio.h>\n",
      "int main()\n",
      "{\n",
      "    int i,j;\n",
      "    for(i=1; i<10; i++)\n",
      "    {\n",
      "        for(j=1; j<10; j++)\n",
      "            printf(\"%dx%d=%d\\n\", i, j, (i*j));\n",
      "    }\n",
      "\n",
      "    return 0;\n",
      "}\n",
      "\n"
     ]
    }
   ],
   "source": [
    "submission = problem_df[problem_df['status'] == 'Accepted'].index[1]\n",
    "\n",
    "with open(id2submission('p00000', 'C', submission, 'c')) as f:\n",
    "    text = f.readlines()\n",
    "    \n",
    "sys.stdout.writelines(text)"
   ]
  },
  {
   "cell_type": "code",
   "execution_count": 10,
   "id": "322eae64",
   "metadata": {
    "ExecuteTime": {
     "end_time": "2021-12-09T17:37:59.068043Z",
     "start_time": "2021-12-09T17:37:59.062071Z"
    }
   },
   "outputs": [
    {
     "name": "stdout",
     "output_type": "stream",
     "text": [
      "#include<stdio.h>\n",
      "int main()\n",
      "{\n",
      "    int i,a,c;\n",
      "    for(i=1; i<=9; i++)\n",
      "    {\n",
      "        for(a=1; a<=9; a++)\n",
      "        {\n",
      "            c=i*a;\n",
      "            printf(\"%dx%d=%d\\n\",i,a,c);\n",
      "        }\n",
      "    }\n",
      "\n",
      "}\n",
      "\n"
     ]
    }
   ],
   "source": [
    "submission = problem_df[problem_df['status'] == 'Accepted'].index[2]\n",
    "\n",
    "with open(id2submission('p00000', 'C', submission, 'c')) as f:\n",
    "    text = f.readlines()\n",
    "    \n",
    "sys.stdout.writelines(text)"
   ]
  },
  {
   "cell_type": "markdown",
   "id": "4ec912cd",
   "metadata": {},
   "source": [
    "So these solutions make me think that the problem consists only in implementing a printing function for multiplication rules. To make sure we can check the description file of the problem."
   ]
  },
  {
   "cell_type": "code",
   "execution_count": 11,
   "id": "b68f4b89",
   "metadata": {
    "ExecuteTime": {
     "end_time": "2021-12-09T17:37:59.075414Z",
     "start_time": "2021-12-09T17:37:59.070053Z"
    }
   },
   "outputs": [
    {
     "data": {
      "text/html": [
       "\n",
       "\n",
       "<H1>QQ</H1>\n",
       "\n",
       "\n",
       "<p>\n",
       "Write a program which prints multiplication tables in the following format:\n",
       "</p>\n",
       "\n",
       "<pre>\n",
       "1x1=1\n",
       "1x2=2\n",
       ".\n",
       ".\n",
       "9x8=72\n",
       "9x9=81\n",
       "</pre>\n",
       "\n",
       "<H2>Input</H2>\n",
       "\n",
       "<p>\n",
       "No input.\n",
       "</p>\n",
       "\n",
       "<H2>Output</H2>\n",
       "\n",
       "<pre>\n",
       "1x1=1\n",
       "1x2=2\n",
       ".\n",
       ".\n",
       "9x8=72\n",
       "9x9=81\n",
       "</pre>\n",
       "\n",
       "\n",
       "<H2>Template for C</H2>\n",
       "\n",
       "<pre>\n",
       "#include&lt;stdio.h&gt;\n",
       "\n",
       "int main(){\n",
       "\n",
       "    return 0;\n",
       "}\n",
       "</pre>\n",
       "\n",
       "<H2>Template for C++</H2>\n",
       "\n",
       "<pre>\n",
       "#include&lt;iostream&gt;\n",
       "using namespace std;\n",
       "\n",
       "int main(){\n",
       "\n",
       "    return 0;\n",
       "}\n",
       "</pre>\n",
       "\n",
       "\n",
       "<H2>Template for Java</H2>\n",
       "\n",
       "<pre>\n",
       "class Main{\n",
       "    public static void main(String[] a){\n",
       "\n",
       "    }\n",
       "}\n",
       "</pre>"
      ],
      "text/plain": [
       "<IPython.core.display.HTML object>"
      ]
     },
     "metadata": {},
     "output_type": "display_data"
    }
   ],
   "source": [
    "with open(id2desc('p00000')) as f:\n",
    "    text = f.readlines()\n",
    "display(HTML(''.join(text)))"
   ]
  },
  {
   "cell_type": "markdown",
   "id": "f374a417",
   "metadata": {},
   "source": [
    "## Missing Values"
   ]
  },
  {
   "cell_type": "markdown",
   "id": "0d4978e3",
   "metadata": {},
   "source": [
    "The dataset also includes a description file for most of the problems. We can see which problems have or don't have a description associated. The description file can be useful to predict what the problem topic is about, graphs, dp, greedy, etc."
   ]
  },
  {
   "cell_type": "code",
   "execution_count": 12,
   "id": "a6532dd5",
   "metadata": {
    "ExecuteTime": {
     "end_time": "2021-12-09T17:37:59.080221Z",
     "start_time": "2021-12-09T17:37:59.076961Z"
    }
   },
   "outputs": [],
   "source": [
    "problem_ids = problem_list_df.index.unique()"
   ]
  },
  {
   "cell_type": "code",
   "execution_count": 13,
   "id": "049311e6",
   "metadata": {
    "ExecuteTime": {
     "end_time": "2021-12-09T17:37:59.124106Z",
     "start_time": "2021-12-09T17:37:59.081799Z"
    }
   },
   "outputs": [
    {
     "name": "stdout",
     "output_type": "stream",
     "text": [
      "There are 54 missing description files.\n",
      "Missing values for the problems without description\n"
     ]
    },
    {
     "data": {
      "text/plain": [
       "name            54\n",
       "dataset          0\n",
       "time_limit       0\n",
       "memory_limit     0\n",
       "rating          54\n",
       "tags            54\n",
       "complexity      54\n",
       "dtype: int64"
      ]
     },
     "metadata": {},
     "output_type": "display_data"
    },
    {
     "name": "stdout",
     "output_type": "stream",
     "text": [
      "Missing values for the problems with description\n"
     ]
    },
    {
     "data": {
      "text/plain": [
       "name               2\n",
       "dataset            0\n",
       "time_limit         0\n",
       "memory_limit       0\n",
       "rating          3999\n",
       "tags            3999\n",
       "complexity      3999\n",
       "dtype: int64"
      ]
     },
     "metadata": {},
     "output_type": "display_data"
    }
   ],
   "source": [
    "description_mask = [os.path.exists(id2desc(problem_id)) for problem_id in problem_ids]\n",
    "description_mask_not = [not x for x in description_mask]\n",
    "\n",
    "print(f'There are {len(problem_list_df[description_mask_not])} missing description files.')\n",
    "print('Missing values for the problems without description')\n",
    "display(problem_list_df[description_mask_not].isna().sum())\n",
    "print('Missing values for the problems with description')\n",
    "display(problem_list_df[description_mask].isna().sum())"
   ]
  },
  {
   "cell_type": "markdown",
   "id": "efae3216",
   "metadata": {},
   "source": [
    "All missing description files are linked to the missing name in the problem list csv."
   ]
  },
  {
   "cell_type": "code",
   "execution_count": 14,
   "id": "cffdd383",
   "metadata": {
    "ExecuteTime": {
     "end_time": "2021-12-09T17:37:59.148087Z",
     "start_time": "2021-12-09T17:37:59.127477Z"
    }
   },
   "outputs": [
    {
     "data": {
      "text/html": [
       "<div>\n",
       "<style scoped>\n",
       "    .dataframe tbody tr th:only-of-type {\n",
       "        vertical-align: middle;\n",
       "    }\n",
       "\n",
       "    .dataframe tbody tr th {\n",
       "        vertical-align: top;\n",
       "    }\n",
       "\n",
       "    .dataframe thead th {\n",
       "        text-align: right;\n",
       "    }\n",
       "</style>\n",
       "<table border=\"1\" class=\"dataframe\">\n",
       "  <thead>\n",
       "    <tr style=\"text-align: right;\">\n",
       "      <th></th>\n",
       "      <th>name</th>\n",
       "      <th>dataset</th>\n",
       "      <th>time_limit</th>\n",
       "      <th>memory_limit</th>\n",
       "      <th>rating</th>\n",
       "      <th>tags</th>\n",
       "      <th>complexity</th>\n",
       "    </tr>\n",
       "    <tr>\n",
       "      <th>id</th>\n",
       "      <th></th>\n",
       "      <th></th>\n",
       "      <th></th>\n",
       "      <th></th>\n",
       "      <th></th>\n",
       "      <th></th>\n",
       "      <th></th>\n",
       "    </tr>\n",
       "  </thead>\n",
       "  <tbody>\n",
       "    <tr>\n",
       "      <th>p02478</th>\n",
       "      <td>NaN</td>\n",
       "      <td>AIZU</td>\n",
       "      <td>2000.0</td>\n",
       "      <td>262144.0</td>\n",
       "      <td>NaN</td>\n",
       "      <td>NaN</td>\n",
       "      <td>NaN</td>\n",
       "    </tr>\n",
       "    <tr>\n",
       "      <th>p02533</th>\n",
       "      <td>NaN</td>\n",
       "      <td>AIZU</td>\n",
       "      <td>2000.0</td>\n",
       "      <td>262144.0</td>\n",
       "      <td>NaN</td>\n",
       "      <td>NaN</td>\n",
       "      <td>NaN</td>\n",
       "    </tr>\n",
       "  </tbody>\n",
       "</table>\n",
       "</div>"
      ],
      "text/plain": [
       "       name dataset  time_limit  memory_limit  rating  tags  complexity\n",
       "id                                                                     \n",
       "p02478  NaN    AIZU      2000.0      262144.0     NaN   NaN         NaN\n",
       "p02533  NaN    AIZU      2000.0      262144.0     NaN   NaN         NaN"
      ]
     },
     "execution_count": 14,
     "metadata": {},
     "output_type": "execute_result"
    }
   ],
   "source": [
    "x_df = problem_list_df[description_mask][problem_list_df[description_mask]['name'].isna()]\n",
    "\n",
    "x_df"
   ]
  },
  {
   "cell_type": "code",
   "execution_count": 15,
   "id": "18e1d321",
   "metadata": {
    "ExecuteTime": {
     "end_time": "2021-12-09T17:37:59.173039Z",
     "start_time": "2021-12-09T17:37:59.150041Z"
    }
   },
   "outputs": [
    {
     "name": "stdout",
     "output_type": "stream",
     "text": [
      "==================p02478=====================\n"
     ]
    },
    {
     "data": {
      "text/html": [
       "<a href=\"https://onlinejudge.u-aizu.ac.jp/resources/icpcooc2018/practice/C.pdf\" target='_blank'>Problem is available from here.</a>"
      ],
      "text/plain": [
       "<IPython.core.display.HTML object>"
      ]
     },
     "metadata": {},
     "output_type": "display_data"
    },
    {
     "name": "stdout",
     "output_type": "stream",
     "text": [
      "Submissions for the p02478 problem  0\n",
      "=================p02533======================\n"
     ]
    },
    {
     "data": {
      "text/html": [
       "<h2>Problem 9999</h2>\n",
       "<p>\n",
       "これはテスト問題です。\n",
       "This is test problem. Compute A + B.\n",
       "</p>\n"
      ],
      "text/plain": [
       "<IPython.core.display.HTML object>"
      ]
     },
     "metadata": {},
     "output_type": "display_data"
    },
    {
     "name": "stdout",
     "output_type": "stream",
     "text": [
      "Submissions for the p02533 problem  0\n"
     ]
    }
   ],
   "source": [
    "print(f'=================={x_df.index[0]}=====================')\n",
    "with open(id2desc(x_df.index[0])) as f:\n",
    "    text = f.readlines()\n",
    "display(HTML(''.join(text)))\n",
    "print(f'Submissions for the {x_df.index[0]} problem ', len(pd.read_csv(metadata_path + f'{x_df.index[0]}.csv')))\n",
    "\n",
    "print(f'================={x_df.index[1]}======================')\n",
    "with open(id2desc(x_df.index[1])) as f:\n",
    "    text = f.readlines()\n",
    "display(HTML(''.join(text)))\n",
    "\n",
    "print(f'Submissions for the {x_df.index[1]} problem ', len(pd.read_csv(metadata_path + f'{x_df.index[1]}.csv')))"
   ]
  },
  {
   "cell_type": "markdown",
   "id": "173efab6",
   "metadata": {},
   "source": [
    "The first problem with a missing name with a description links to a 404 Page and the other one is a basic description file but looks like a test problem, with no submissions. In fact, none of those 2 problems have a single submission. So they are useless."
   ]
  },
  {
   "cell_type": "code",
   "execution_count": 16,
   "id": "63140de2",
   "metadata": {
    "ExecuteTime": {
     "end_time": "2021-12-09T17:37:59.184414Z",
     "start_time": "2021-12-09T17:37:59.174956Z"
    }
   },
   "outputs": [
    {
     "data": {
      "text/plain": [
       "AIZU    54\n",
       "Name: dataset, dtype: int64"
      ]
     },
     "execution_count": 16,
     "metadata": {},
     "output_type": "execute_result"
    }
   ],
   "source": [
    "x_df = problem_list_df[description_mask_not][problem_list_df[description_mask_not]['name'].isna()]\n",
    "\n",
    "x_df['dataset'].value_counts()"
   ]
  },
  {
   "cell_type": "code",
   "execution_count": 17,
   "id": "943a939c",
   "metadata": {
    "ExecuteTime": {
     "end_time": "2021-12-09T17:37:59.552072Z",
     "start_time": "2021-12-09T17:37:59.187043Z"
    }
   },
   "outputs": [
    {
     "name": "stdout",
     "output_type": "stream",
     "text": [
      "Number of submissions for problems without a description file\n",
      "Submissions for the p02479 problem  4052\n",
      "Submissions for the p02480 problem  4277\n",
      "Submissions for the p02481 problem  3577\n",
      "Submissions for the p02482 problem  4194\n",
      "Submissions for the p02483 problem  3905\n",
      "Submissions for the p02484 problem  2826\n",
      "Submissions for the p02485 problem  1698\n",
      "Submissions for the p02486 problem  1795\n",
      "Submissions for the p02487 problem  2057\n",
      "Submissions for the p02488 problem  1492\n",
      "Submissions for the p02489 problem  3817\n",
      "Submissions for the p02490 problem  2827\n",
      "Submissions for the p02491 problem  3143\n",
      "Submissions for the p02492 problem  2076\n",
      "Submissions for the p02493 problem  2743\n",
      "Submissions for the p02494 problem  3362\n",
      "Submissions for the p02495 problem  2190\n",
      "Submissions for the p02496 problem  1921\n",
      "Submissions for the p02497 problem  2539\n",
      "Submissions for the p02498 problem  1512\n",
      "Submissions for the p02499 problem  2643\n",
      "Submissions for the p02500 problem  6\n",
      "Submissions for the p02501 problem  11\n",
      "Submissions for the p02502 problem  7\n",
      "Submissions for the p02503 problem  18\n",
      "Submissions for the p02504 problem  3\n",
      "Submissions for the p02505 problem  9\n",
      "Submissions for the p02506 problem  2079\n",
      "Submissions for the p02507 problem  8\n",
      "Submissions for the p02508 problem  9\n",
      "Submissions for the p02509 problem  4\n",
      "Submissions for the p02510 problem  1065\n",
      "Submissions for the p02511 problem  472\n",
      "Submissions for the p02512 problem  469\n",
      "Submissions for the p02513 problem  317\n",
      "Submissions for the p02514 problem  407\n",
      "Submissions for the p02515 problem  143\n",
      "Submissions for the p02516 problem  262\n",
      "Submissions for the p02517 problem  211\n",
      "Submissions for the p02518 problem  360\n",
      "Submissions for the p02519 problem  99\n",
      "Submissions for the p02520 problem  146\n",
      "Submissions for the p02521 problem  100\n",
      "Submissions for the p02522 problem  10\n",
      "Submissions for the p02523 problem  1315\n",
      "Submissions for the p02524 problem  867\n",
      "Submissions for the p02525 problem  1687\n",
      "Submissions for the p02526 problem  2440\n",
      "Submissions for the p02527 problem  1988\n",
      "Submissions for the p02528 problem  1540\n",
      "Submissions for the p02529 problem  2144\n",
      "Submissions for the p02530 problem  818\n",
      "Submissions for the p02531 problem  830\n",
      "Submissions for the p02532 problem  847\n"
     ]
    }
   ],
   "source": [
    "print('Number of submissions for problems without a description file')\n",
    "for i in range(len(x_df)):\n",
    "    print(f'Submissions for the {x_df.index[i]} problem ', len(pd.read_csv(metadata_path + f'{x_df.index[i]}.csv')))"
   ]
  },
  {
   "cell_type": "markdown",
   "id": "ce396883",
   "metadata": {},
   "source": [
    "Now let's look at missing input files. Do they match with the missing description or are they more? Or are some problems not expected to use input, such as the first problem that was just a print problem."
   ]
  },
  {
   "cell_type": "code",
   "execution_count": 18,
   "id": "cf4dd954",
   "metadata": {
    "ExecuteTime": {
     "end_time": "2021-12-09T17:37:59.589133Z",
     "start_time": "2021-12-09T17:37:59.553463Z"
    }
   },
   "outputs": [
    {
     "name": "stdout",
     "output_type": "stream",
     "text": [
      "There are 186 missing input files.\n",
      "Missing values for the problems without input\n"
     ]
    },
    {
     "data": {
      "text/plain": [
       "name             56\n",
       "dataset           0\n",
       "time_limit        0\n",
       "memory_limit      0\n",
       "rating          186\n",
       "tags            186\n",
       "complexity      186\n",
       "dtype: int64"
      ]
     },
     "metadata": {},
     "output_type": "display_data"
    },
    {
     "name": "stdout",
     "output_type": "stream",
     "text": [
      "Missing values for the problems with input\n"
     ]
    },
    {
     "data": {
      "text/plain": [
       "name               0\n",
       "dataset            0\n",
       "time_limit         0\n",
       "memory_limit       0\n",
       "rating          3867\n",
       "tags            3867\n",
       "complexity      3867\n",
       "dtype: int64"
      ]
     },
     "metadata": {},
     "output_type": "display_data"
    }
   ],
   "source": [
    "input_mask = [os.path.exists(id2inout(problem_id)) for problem_id in problem_ids]\n",
    "input_mask_not = [not x for x in input_mask]\n",
    "\n",
    "print(f'There are {len(problem_list_df[input_mask_not])} missing input files.')\n",
    "print('Missing values for the problems without input')\n",
    "display(problem_list_df[input_mask_not].isna().sum())\n",
    "print('Missing values for the problems with input')\n",
    "display(problem_list_df[input_mask].isna().sum())"
   ]
  },
  {
   "cell_type": "markdown",
   "id": "81853a85",
   "metadata": {},
   "source": [
    "Looks like there are more problems without input/output rather than just missing descriptions. But again the problems that are missing the descriptions are also missing the input. In this case it is better to just drop those problems, since we cannot for sure tell how to run them."
   ]
  },
  {
   "cell_type": "code",
   "execution_count": 19,
   "id": "5d8caa7b",
   "metadata": {
    "ExecuteTime": {
     "end_time": "2021-12-09T17:37:59.598288Z",
     "start_time": "2021-12-09T17:37:59.590636Z"
    }
   },
   "outputs": [
    {
     "data": {
      "text/plain": [
       "name              2\n",
       "dataset           0\n",
       "time_limit        0\n",
       "memory_limit      0\n",
       "rating          132\n",
       "tags            132\n",
       "complexity      132\n",
       "dtype: int64"
      ]
     },
     "execution_count": 19,
     "metadata": {},
     "output_type": "execute_result"
    }
   ],
   "source": [
    "description_and_not_input_mask = [x and y for (x, y) in zip(input_mask_not, description_mask)]\n",
    "\n",
    "x_df = problem_list_df[description_and_not_input_mask]\n",
    "x_df.isna().sum()"
   ]
  },
  {
   "cell_type": "markdown",
   "id": "8d556651",
   "metadata": {},
   "source": [
    "In the case of missing input files, I think it is also better to just drop the submissions, most of the description files are written in Chinese and we cannot really extract any useful information from them. Since there are so few files with no input we can drop them. By looking in the description files there are like 2 problems with no input from the stdin."
   ]
  },
  {
   "cell_type": "markdown",
   "id": "4488154f",
   "metadata": {},
   "source": [
    "To conclude the missing values section, 54/56 of the missing names in the problems list are due to missing description files 1/56 is just a href which links to a 404 web page and the last one is a test problem, the later 2 problems having no submissions anyway. I think it is a fair decision to drop these samples as they are not useful. There will be 130 remaining problems with no input/output samples and 128 of them have description files in Chinese which makes it harder to extract samples, and 2 of them only require printing of values (similar to problem p00000). In this case I also think that it is ok to drop those 2 problems that don't need input alongside the rest of problems that have no input examples extracted, because we don't have to remember that there is one or two problems that can cause some bugs later on."
   ]
  },
  {
   "cell_type": "code",
   "execution_count": 20,
   "id": "847ac86b",
   "metadata": {
    "ExecuteTime": {
     "end_time": "2021-12-09T17:37:59.634770Z",
     "start_time": "2021-12-09T17:37:59.600256Z"
    }
   },
   "outputs": [
    {
     "name": "stdout",
     "output_type": "stream",
     "text": [
      "We have 3867 problems\n",
      "The distribution of the datasets is\n",
      "AIZU       0.613654\n",
      "AtCoder    0.386346\n",
      "Name: dataset, dtype: float64\n"
     ]
    },
    {
     "data": {
      "text/html": [
       "<div>\n",
       "<style scoped>\n",
       "    .dataframe tbody tr th:only-of-type {\n",
       "        vertical-align: middle;\n",
       "    }\n",
       "\n",
       "    .dataframe tbody tr th {\n",
       "        vertical-align: top;\n",
       "    }\n",
       "\n",
       "    .dataframe thead th {\n",
       "        text-align: right;\n",
       "    }\n",
       "</style>\n",
       "<table border=\"1\" class=\"dataframe\">\n",
       "  <thead>\n",
       "    <tr style=\"text-align: right;\">\n",
       "      <th></th>\n",
       "      <th>name</th>\n",
       "      <th>dataset</th>\n",
       "      <th>time_limit</th>\n",
       "      <th>memory_limit</th>\n",
       "      <th>rating</th>\n",
       "      <th>tags</th>\n",
       "      <th>complexity</th>\n",
       "    </tr>\n",
       "    <tr>\n",
       "      <th>id</th>\n",
       "      <th></th>\n",
       "      <th></th>\n",
       "      <th></th>\n",
       "      <th></th>\n",
       "      <th></th>\n",
       "      <th></th>\n",
       "      <th></th>\n",
       "    </tr>\n",
       "  </thead>\n",
       "  <tbody>\n",
       "    <tr>\n",
       "      <th>p00001</th>\n",
       "      <td>List of Top 3 Hills</td>\n",
       "      <td>AIZU</td>\n",
       "      <td>1000.0</td>\n",
       "      <td>131072.0</td>\n",
       "      <td>NaN</td>\n",
       "      <td>NaN</td>\n",
       "      <td>NaN</td>\n",
       "    </tr>\n",
       "    <tr>\n",
       "      <th>p00002</th>\n",
       "      <td>Digit Number</td>\n",
       "      <td>AIZU</td>\n",
       "      <td>1000.0</td>\n",
       "      <td>131072.0</td>\n",
       "      <td>NaN</td>\n",
       "      <td>NaN</td>\n",
       "      <td>NaN</td>\n",
       "    </tr>\n",
       "    <tr>\n",
       "      <th>p00003</th>\n",
       "      <td>Is it a Right Triangle?</td>\n",
       "      <td>AIZU</td>\n",
       "      <td>1000.0</td>\n",
       "      <td>131072.0</td>\n",
       "      <td>NaN</td>\n",
       "      <td>NaN</td>\n",
       "      <td>NaN</td>\n",
       "    </tr>\n",
       "    <tr>\n",
       "      <th>p00004</th>\n",
       "      <td>Simultaneous Equation</td>\n",
       "      <td>AIZU</td>\n",
       "      <td>1000.0</td>\n",
       "      <td>131072.0</td>\n",
       "      <td>NaN</td>\n",
       "      <td>NaN</td>\n",
       "      <td>NaN</td>\n",
       "    </tr>\n",
       "    <tr>\n",
       "      <th>p00005</th>\n",
       "      <td>GCD and LCM</td>\n",
       "      <td>AIZU</td>\n",
       "      <td>1000.0</td>\n",
       "      <td>131072.0</td>\n",
       "      <td>NaN</td>\n",
       "      <td>NaN</td>\n",
       "      <td>NaN</td>\n",
       "    </tr>\n",
       "  </tbody>\n",
       "</table>\n",
       "</div>"
      ],
      "text/plain": [
       "                           name dataset  time_limit  memory_limit  rating  \\\n",
       "id                                                                          \n",
       "p00001      List of Top 3 Hills    AIZU      1000.0      131072.0     NaN   \n",
       "p00002             Digit Number    AIZU      1000.0      131072.0     NaN   \n",
       "p00003  Is it a Right Triangle?    AIZU      1000.0      131072.0     NaN   \n",
       "p00004    Simultaneous Equation    AIZU      1000.0      131072.0     NaN   \n",
       "p00005              GCD and LCM    AIZU      1000.0      131072.0     NaN   \n",
       "\n",
       "        tags  complexity  \n",
       "id                        \n",
       "p00001   NaN         NaN  \n",
       "p00002   NaN         NaN  \n",
       "p00003   NaN         NaN  \n",
       "p00004   NaN         NaN  \n",
       "p00005   NaN         NaN  "
      ]
     },
     "metadata": {},
     "output_type": "display_data"
    },
    {
     "data": {
      "text/plain": [
       "name               0\n",
       "dataset            0\n",
       "time_limit         0\n",
       "memory_limit       0\n",
       "rating          3867\n",
       "tags            3867\n",
       "complexity      3867\n",
       "dtype: int64"
      ]
     },
     "metadata": {},
     "output_type": "display_data"
    }
   ],
   "source": [
    "# Since the problems with missing input include those with missing name we can just drop those\n",
    "problem_list_df = problem_list_df[input_mask]\n",
    "problem_ids = problem_list_df.index.unique()\n",
    "\n",
    "print(f\"We have {len(problem_list_df)} problems\")\n",
    "print('The distribution of the datasets is')\n",
    "print(problem_list_df['dataset'].value_counts(normalize=True))\n",
    "display(problem_list_df.head())\n",
    "display(problem_list_df.isna().sum())"
   ]
  },
  {
   "cell_type": "markdown",
   "id": "631e9e4d",
   "metadata": {},
   "source": [
    "## Explore Other Problems"
   ]
  },
  {
   "cell_type": "markdown",
   "id": "4cb3cf3a",
   "metadata": {},
   "source": [
    "Now that we managed to load source code files and some statistics about the problem, let's generalize it and make a function that can show statistics for any problem_id and print a number of samples with different status code."
   ]
  },
  {
   "cell_type": "code",
   "execution_count": 21,
   "id": "59185958",
   "metadata": {
    "ExecuteTime": {
     "end_time": "2021-12-09T17:37:59.646095Z",
     "start_time": "2021-12-09T17:37:59.636538Z"
    }
   },
   "outputs": [],
   "source": [
    "def load_problem_csv(problem_id):\n",
    "    problem_df = pd.read_csv(metadata_path + f'{problem_id}.csv')\n",
    "    problem_df.set_index('submission_id', inplace=True)\n",
    "    return problem_df\n",
    "\n",
    "def pprint_problem(problem_df, problem_id=None):\n",
    "    if problem_id is None:\n",
    "        problem_id = problem_id['problem_id'][0]\n",
    "\n",
    "    print(f\"We have {len(problem_df)} submissions for problem {problem_id}\")\n",
    "    print('The distribution of the programming languages is')\n",
    "    print(problem_df['language'].value_counts())\n",
    "    print('The distribution of the status is')\n",
    "    print(problem_df['status'].value_counts())\n",
    "    print('The number of users that attempted this problem', len(problem_df['user_id'].unique()))\n",
    "    print('The average number of submissions of a user', problem_df.groupby('user_id').size().mean())\n",
    "    print('The min number of submissions of a user', problem_df.groupby('user_id').size().min())\n",
    "    print('The median number of submissions of a user', problem_df.groupby('user_id').size().median())\n",
    "    print('The max number of submissions of a user', problem_df.groupby('user_id').size().max())\n",
    "    display(problem_df.head())\n",
    "    \n",
    "    with open(id2desc(problem_id)) as f:\n",
    "        text = f.readlines()\n",
    "    display(HTML(''.join(text)))\n",
    "    \n",
    "def pprint_submission(problem_df, problem_id, submission_id):\n",
    "    language = problem_df.loc[submission_id, 'language']\n",
    "    extension = problem_df.loc[submission_id, 'filename_ext']\n",
    "    \n",
    "    file_path = id2submission(problem_id, language, submission_id, extension)\n",
    "    print(f\"===================={submission_id}=======================\")\n",
    "    print('Showing source code for: ', file_path)\n",
    "    print()\n",
    "    with open(file_path) as f:\n",
    "        submission_text = f.readlines()\n",
    "    sys.stdout.writelines(submission_text)\n",
    "    print()\n",
    "    print(\"=====================================================\")\n",
    "    \n",
    "def pprint_submissions(problem_df, problem_id, status='Accepted', count=1):\n",
    "    submission_ids = random.sample(problem_df[problem_df['status'] == status].index.values.tolist(), count)\n",
    "    \n",
    "    for submission_id in submission_ids:\n",
    "        pprint_submission(problem_df, problem_id, submission_id)"
   ]
  },
  {
   "cell_type": "code",
   "execution_count": 22,
   "id": "2c93d533",
   "metadata": {
    "ExecuteTime": {
     "end_time": "2021-12-09T17:37:59.651000Z",
     "start_time": "2021-12-09T17:37:59.647591Z"
    }
   },
   "outputs": [],
   "source": [
    "problem_ids = problem_list_df.index.unique()"
   ]
  },
  {
   "cell_type": "code",
   "execution_count": 23,
   "id": "a6442f29",
   "metadata": {
    "ExecuteTime": {
     "end_time": "2021-12-09T17:37:59.720966Z",
     "start_time": "2021-12-09T17:37:59.652790Z"
    }
   },
   "outputs": [
    {
     "name": "stdout",
     "output_type": "stream",
     "text": [
      "We have 11885 submissions for problem p00002\n",
      "The distribution of the programming languages is\n",
      "C++           4371\n",
      "C             3501\n",
      "Java          1342\n",
      "Python        1226\n",
      "Ruby           587\n",
      "C#             365\n",
      "JavaScript     166\n",
      "Haskell         99\n",
      "PHP             96\n",
      "Scala           46\n",
      "D               45\n",
      "Go              16\n",
      "OCaml           12\n",
      "Rust            11\n",
      "Kotlin           2\n",
      "Name: language, dtype: int64\n",
      "The distribution of the status is\n",
      "Accepted                  4734\n",
      "Wrong Answer              3863\n",
      "Runtime Error             1377\n",
      "Compile Error             1167\n",
      "Time Limit Exceeded        702\n",
      "WA: Presentation Error      36\n",
      "Memory Limit Exceeded        6\n",
      "Name: status, dtype: int64\n",
      "The number of users that attempted this problem 3792\n",
      "The average number of submissions of a user 3.134229957805907\n",
      "The min number of submissions of a user 1\n",
      "The median number of submissions of a user 2.0\n",
      "The max number of submissions of a user 476\n"
     ]
    },
    {
     "data": {
      "text/html": [
       "<div>\n",
       "<style scoped>\n",
       "    .dataframe tbody tr th:only-of-type {\n",
       "        vertical-align: middle;\n",
       "    }\n",
       "\n",
       "    .dataframe tbody tr th {\n",
       "        vertical-align: top;\n",
       "    }\n",
       "\n",
       "    .dataframe thead th {\n",
       "        text-align: right;\n",
       "    }\n",
       "</style>\n",
       "<table border=\"1\" class=\"dataframe\">\n",
       "  <thead>\n",
       "    <tr style=\"text-align: right;\">\n",
       "      <th></th>\n",
       "      <th>problem_id</th>\n",
       "      <th>user_id</th>\n",
       "      <th>date</th>\n",
       "      <th>language</th>\n",
       "      <th>original_language</th>\n",
       "      <th>filename_ext</th>\n",
       "      <th>status</th>\n",
       "      <th>cpu_time</th>\n",
       "      <th>memory</th>\n",
       "      <th>code_size</th>\n",
       "      <th>accuracy</th>\n",
       "    </tr>\n",
       "    <tr>\n",
       "      <th>submission_id</th>\n",
       "      <th></th>\n",
       "      <th></th>\n",
       "      <th></th>\n",
       "      <th></th>\n",
       "      <th></th>\n",
       "      <th></th>\n",
       "      <th></th>\n",
       "      <th></th>\n",
       "      <th></th>\n",
       "      <th></th>\n",
       "      <th></th>\n",
       "    </tr>\n",
       "  </thead>\n",
       "  <tbody>\n",
       "    <tr>\n",
       "      <th>s459828833</th>\n",
       "      <td>p00002</td>\n",
       "      <td>u912124184</td>\n",
       "      <td>1531554169</td>\n",
       "      <td>Rust</td>\n",
       "      <td>Rust</td>\n",
       "      <td>rs</td>\n",
       "      <td>Accepted</td>\n",
       "      <td>0</td>\n",
       "      <td>5020</td>\n",
       "      <td>508</td>\n",
       "      <td>1/1</td>\n",
       "    </tr>\n",
       "    <tr>\n",
       "      <th>s754006783</th>\n",
       "      <td>p00002</td>\n",
       "      <td>u759934006</td>\n",
       "      <td>1513426109</td>\n",
       "      <td>Rust</td>\n",
       "      <td>Rust</td>\n",
       "      <td>rs</td>\n",
       "      <td>Accepted</td>\n",
       "      <td>0</td>\n",
       "      <td>5048</td>\n",
       "      <td>387</td>\n",
       "      <td>1/1</td>\n",
       "    </tr>\n",
       "    <tr>\n",
       "      <th>s834562369</th>\n",
       "      <td>p00002</td>\n",
       "      <td>u759934006</td>\n",
       "      <td>1513426789</td>\n",
       "      <td>Rust</td>\n",
       "      <td>Rust</td>\n",
       "      <td>rs</td>\n",
       "      <td>Accepted</td>\n",
       "      <td>0</td>\n",
       "      <td>5048</td>\n",
       "      <td>388</td>\n",
       "      <td>1/1</td>\n",
       "    </tr>\n",
       "    <tr>\n",
       "      <th>s801715135</th>\n",
       "      <td>p00002</td>\n",
       "      <td>u233505136</td>\n",
       "      <td>1516949032</td>\n",
       "      <td>Rust</td>\n",
       "      <td>Rust</td>\n",
       "      <td>rs</td>\n",
       "      <td>Accepted</td>\n",
       "      <td>0</td>\n",
       "      <td>5036</td>\n",
       "      <td>371</td>\n",
       "      <td>1/1</td>\n",
       "    </tr>\n",
       "    <tr>\n",
       "      <th>s298750993</th>\n",
       "      <td>p00002</td>\n",
       "      <td>u444102531</td>\n",
       "      <td>1518463316</td>\n",
       "      <td>Rust</td>\n",
       "      <td>Rust</td>\n",
       "      <td>rs</td>\n",
       "      <td>Compile Error</td>\n",
       "      <td>0</td>\n",
       "      <td>0</td>\n",
       "      <td>1907</td>\n",
       "      <td>0/1</td>\n",
       "    </tr>\n",
       "  </tbody>\n",
       "</table>\n",
       "</div>"
      ],
      "text/plain": [
       "              problem_id     user_id        date language original_language  \\\n",
       "submission_id                                                                 \n",
       "s459828833        p00002  u912124184  1531554169     Rust              Rust   \n",
       "s754006783        p00002  u759934006  1513426109     Rust              Rust   \n",
       "s834562369        p00002  u759934006  1513426789     Rust              Rust   \n",
       "s801715135        p00002  u233505136  1516949032     Rust              Rust   \n",
       "s298750993        p00002  u444102531  1518463316     Rust              Rust   \n",
       "\n",
       "              filename_ext         status  cpu_time  memory  code_size  \\\n",
       "submission_id                                                            \n",
       "s459828833              rs       Accepted         0    5020        508   \n",
       "s754006783              rs       Accepted         0    5048        387   \n",
       "s834562369              rs       Accepted         0    5048        388   \n",
       "s801715135              rs       Accepted         0    5036        371   \n",
       "s298750993              rs  Compile Error         0       0       1907   \n",
       "\n",
       "              accuracy  \n",
       "submission_id           \n",
       "s459828833         1/1  \n",
       "s754006783         1/1  \n",
       "s834562369         1/1  \n",
       "s801715135         1/1  \n",
       "s298750993         0/1  "
      ]
     },
     "metadata": {},
     "output_type": "display_data"
    },
    {
     "data": {
      "text/html": [
       "\n",
       "<H1>Digit Number</H1>\n",
       "\n",
       "<p>\n",
       "Write a program which computes the digit number of sum of two integers <var>a</var> and <var>b</var>.\n",
       "</p>\n",
       "\n",
       "<H2>Input</H2>\n",
       "\n",
       "<p>\n",
       "There are several test cases. Each test case consists of two non-negative integers <var>a</var> and <i>b</i> which are separeted by a space in a line. The input terminates with EOF.\n",
       "</p>\n",
       "\n",
       "<h2>Constraints</h2>\n",
       "\n",
       "<ul>\n",
       "<li>0 &le; <var>a</var>, <var>b</var> &le; 1,000,000</li>\n",
       "<li>The number of datasets &le; 200</li>\n",
       "</ul>\n",
       "\n",
       "<H2>Output</H2>\n",
       "\n",
       "<p>\n",
       "Print the number of digits of <var>a</var> + <var>b</var> for each data set.\n",
       "</p>\n",
       "\n",
       "<H2>Sample Input</H2>\n",
       "\n",
       "<pre>\n",
       "5 7\n",
       "1 99\n",
       "1000 999\n",
       "</pre>\n",
       "\n",
       "<H2>Output for the Sample Input</H2>\n",
       "\n",
       "<pre>\n",
       "2\n",
       "3\n",
       "4\n",
       "</pre>\n",
       "\n",
       "\n"
      ],
      "text/plain": [
       "<IPython.core.display.HTML object>"
      ]
     },
     "metadata": {},
     "output_type": "display_data"
    }
   ],
   "source": [
    "problem_id = problem_ids[1]\n",
    "\n",
    "problem_df = load_problem_csv(problem_id)\n",
    "pprint_problem(problem_df, problem_id)"
   ]
  },
  {
   "cell_type": "code",
   "execution_count": 24,
   "id": "8c261dd4",
   "metadata": {
    "ExecuteTime": {
     "end_time": "2021-12-09T17:37:59.749188Z",
     "start_time": "2021-12-09T17:37:59.725160Z"
    }
   },
   "outputs": [
    {
     "name": "stdout",
     "output_type": "stream",
     "text": [
      "====================s398883196=======================\n",
      "Showing source code for:  ../input/Project_CodeNet/data/p00002/C++/s398883196.cpp\n",
      "\n",
      "#include <bits/stdc++.h>\n",
      "using namespace std;\n",
      "\n",
      "#define rep(i, n) REP(i, 0, n)\n",
      "#define ALL(v) v.begin(), v.end()\n",
      "#define MSG(a) cout << #a << \" \" << a << endl;\n",
      "#define REP(i, x, n) for (int i = x; i < n; i++)\n",
      "#define OP(m) cout << m << endl;\n",
      "typedef long long ll;\n",
      "typedef unsigned long long ull;\n",
      "\n",
      "int main()\n",
      "{\n",
      "    int a, b;\n",
      "    while (cin >> a >> b)\n",
      "    {\n",
      "        int c = a + b;\n",
      "        OP((int)log10(c) + 1)\n",
      "    }\n",
      "    return 0;\n",
      "}\n",
      "\n",
      "\n",
      "=====================================================\n",
      "====================s265916138=======================\n",
      "Showing source code for:  ../input/Project_CodeNet/data/p00002/C++/s265916138.cpp\n",
      "\n",
      "#include <bits/stdc++.h>\n",
      "using namespace std;\n",
      "\n",
      "#define iota(i,n,b,s) for(int i=int(b);i!=int((b)+(s)*(n));i+=(s))\n",
      "#define range(i,n,m) iota(i,(((n)>(m))?((n)-(m)+1):((m)-(n)+1)),(n),((n)>(m)?-1:1))\n",
      "#define rep(i,n) iota(i,(n),0,1)\n",
      "\n",
      "#define INF (1e9)\n",
      "#define EPS (1e-9)\n",
      "#define cons(a,b) (make_pair(a,b))\n",
      "#define car(a) (a.first)\n",
      "#define cdr(a) (a.second)\n",
      "#define cadr(a) (car(cdr(a)))\n",
      "#define cddr(a) (cdr(cdr(a)))\n",
      "#define all(a) a.begin(), a.end()\n",
      "#define trace(var) cerr<<\">>> \"<<#var<<\" = \"<<var<<endl;\n",
      "\n",
      "typedef long long INTEGER;\n",
      "typedef double FLOAT;\n",
      "\n",
      "template<class S, class T>\n",
      "ostream& operator<<(ostream& os, pair<S,T> p) {\n",
      "  os << '(' << car(p) << \", \" << cdr(p) << ')';\n",
      "  return os;\n",
      "}\n",
      "\n",
      "template<class T>\n",
      "ostream& operator<<(ostream& os, vector<T> v) {\n",
      "  os << v[0];\n",
      "  for (int i=1, len=v.size(); i<len; ++i) os << ' ' << v[i];\n",
      "  return os;\n",
      "}\n",
      "\n",
      "void swap(int*a, int*b) {\n",
      "  int t = *b;\n",
      "  *b = *a;\n",
      "  *a = t;\n",
      "}\n",
      "\n",
      "int digit (long a) {\n",
      "  if (a == 0) return 1;\n",
      "  int r = 0;\n",
      "  while (a > 0) {\n",
      "    ++r;\n",
      "    a /= 10;\n",
      "  }\n",
      "  return r;\n",
      "}\n",
      "\n",
      "int main() {\n",
      "\n",
      "  int a, b;\n",
      "  for (; scanf(\"%d\", &a) != EOF; ) {\n",
      "    scanf(\"%d\", &b);\n",
      "    cout << digit(a + b) << endl;\n",
      "  }\n",
      "\n",
      "  return 0;\n",
      "}\n",
      "=====================================================\n",
      "====================s721577231=======================\n",
      "Showing source code for:  ../input/Project_CodeNet/data/p00002/C/s721577231.c\n",
      "\n",
      "#include<stdio.h>\n",
      "\n",
      "int main(void){\n",
      "int a,b,s,d;\n",
      "\n",
      "while(scanf(\"%d %d\",&a,&b)!=EOF){\n",
      "\n",
      "s=a+b;\n",
      "d=0;\n",
      "while(!(s<1)){\n",
      "  s=s/10;\n",
      "  d++;\n",
      "}\n",
      "printf(\"%d\\n\",d);\n",
      "}\n",
      "return 0;\n",
      "}\n",
      "=====================================================\n"
     ]
    }
   ],
   "source": [
    "pprint_submissions(problem_df, problem_id, status='Accepted', count=3)"
   ]
  },
  {
   "cell_type": "code",
   "execution_count": 25,
   "id": "07178811",
   "metadata": {
    "ExecuteTime": {
     "end_time": "2021-12-09T17:37:59.764109Z",
     "start_time": "2021-12-09T17:37:59.751122Z"
    }
   },
   "outputs": [
    {
     "name": "stdout",
     "output_type": "stream",
     "text": [
      "====================s009443279=======================\n",
      "Showing source code for:  ../input/Project_CodeNet/data/p00002/C/s009443279.c\n",
      "\n",
      "a,v[];main(b){for(;~scanf(\"%d%d\",&a,&b);a=!printf(\"%d\\n\",sprintf(v,\"%d\",a+b)));}\n",
      "=====================================================\n",
      "====================s840657887=======================\n",
      "Showing source code for:  ../input/Project_CodeNet/data/p00002/Python/s840657887.py\n",
      "\n",
      "#a = []\n",
      "while (True):\n",
      "    b = list(map(int, input().split(\" \")))\n",
      "    #print(b)\n",
      "    if(b == ['']): break\n",
      "    #a.append(b)\n",
      "    c = 1\n",
      "    d = b[0] + b[1]\n",
      "    while(d >= 10):\n",
      "        c += 1\n",
      "        d = d / 10\n",
      "    print(c)\n",
      "\n",
      "=====================================================\n",
      "====================s681082698=======================\n",
      "Showing source code for:  ../input/Project_CodeNet/data/p00002/Java/s681082698.java\n",
      "\n",
      "import java.util.*;\n",
      "\n",
      "public class Main{\n",
      "\tpublic static void main(String args[]){\n",
      "\t\tScanner sc = new Scanner(System.in);\n",
      "\t\tint i = 0;\n",
      "\t\tInteger[] keta = new Integer[200];\n",
      "\t\t\n",
      "\t\twhile(sc.hasNext()){\n",
      "\t\t\tketa[i] = sc.nextInt();\n",
      "\t\t\ti++;\t\t\t\t\t\t\t//i???(????????°+1)\n",
      "\t\t}\n",
      "\t\tsc.close();\n",
      "\t\tint maxi = i-1;\t//i???????????°???\n",
      "\t\ti = 0;\n",
      "\t\twhile(i <= maxi){\n",
      "\t\t\tint k_su = String.valueOf(keta[i]+keta[i+1]).length();\n",
      "\t\t\tSystem.out.println(k_su);\n",
      "\t\t\ti = i+2;\n",
      "\t\t}\n",
      "\t}\n",
      "}\n",
      "=====================================================\n"
     ]
    }
   ],
   "source": [
    "pprint_submissions(problem_df, problem_id, status='Runtime Error', count=3)"
   ]
  },
  {
   "cell_type": "code",
   "execution_count": 26,
   "id": "3ef587c1",
   "metadata": {
    "ExecuteTime": {
     "end_time": "2021-12-09T17:37:59.778632Z",
     "start_time": "2021-12-09T17:37:59.765714Z"
    }
   },
   "outputs": [
    {
     "name": "stdout",
     "output_type": "stream",
     "text": [
      "====================s125295333=======================\n",
      "Showing source code for:  ../input/Project_CodeNet/data/p00002/PHP/s125295333.php\n",
      "\n",
      "<?php\n",
      "\n",
      "\n",
      "$input = fgets(STDIN);\n",
      "$input = explode(\" \", $input);\n",
      "\n",
      "$a = (int)$input[0];\n",
      "$b = (int)$input[1];\n",
      "\n",
      "$ans = $a + $b;\n",
      "echo strlen($ans). PHP_EOL;\n",
      "=====================================================\n",
      "====================s044326901=======================\n",
      "Showing source code for:  ../input/Project_CodeNet/data/p00002/C/s044326901.c\n",
      "\n",
      "#include <stdio.h>\n",
      "int main(void){\n",
      "    int a,b;\n",
      "    while(scanf(\"%d %d\",&a,&b)!=EOF){\n",
      "    printf(\"%d\\n\",(a/10)+(b/10)+2);\n",
      "    }\n",
      "    return 0;\n",
      "}\n",
      "=====================================================\n",
      "====================s406044621=======================\n",
      "Showing source code for:  ../input/Project_CodeNet/data/p00002/C/s406044621.c\n",
      "\n",
      "#include<stdio.h>\n",
      "int main()\n",
      "{\n",
      "   long long  int a,b;\n",
      "    int t,k=0,l;\n",
      "    while(scanf(\"%lld%lld\",&a,&b)!=EOF)\n",
      "    {\n",
      "        k=0;\n",
      "        l=0;\n",
      "        while(a!=0)\n",
      "        {\n",
      "            t=a%10;\n",
      "            a=a/10;\n",
      "            if(t>0)\n",
      "            k++;\n",
      "        }\n",
      "         while(b!=0)\n",
      "        {\n",
      "            t=b%10;\n",
      "            b=b/10;\n",
      "            if(t>0)\n",
      "            l++;\n",
      "        }\n",
      "        printf(\"%d\\n\",k+l);\n",
      "\n",
      "\n",
      "    }\n",
      "    return 0;\n",
      "}\n",
      "=====================================================\n"
     ]
    }
   ],
   "source": [
    "pprint_submissions(problem_df, problem_id, status='Wrong Answer', count=3)"
   ]
  },
  {
   "cell_type": "code",
   "execution_count": 27,
   "id": "d75985dd",
   "metadata": {
    "ExecuteTime": {
     "end_time": "2021-12-09T17:38:04.442701Z",
     "start_time": "2021-12-09T17:37:59.780395Z"
    }
   },
   "outputs": [
    {
     "name": "stdout",
     "output_type": "stream",
     "text": [
      "Out of 3792, 2025 users have more than 1 submission\n"
     ]
    }
   ],
   "source": [
    "counter = 0\n",
    "\n",
    "user_ids = problem_df['user_id'].unique()\n",
    "for user_id in user_ids:\n",
    "    submission_df = problem_df[problem_df['user_id'] == user_id]\n",
    "    \n",
    "    if len(submission_df) < 2:\n",
    "        continue\n",
    "        \n",
    "    counter += 1\n",
    "    \n",
    "print(f'Out of {len(user_ids)}, {counter} users have more than 1 submission')"
   ]
  },
  {
   "cell_type": "markdown",
   "id": "a64a70dd",
   "metadata": {},
   "source": [
    "Even if this problem looked pretty easy, there are a lot of users that had more than 1 submission. This can be an indicator of how hard the problem is. For this task we can make use of the median number of submissions, for this problem it was 2."
   ]
  },
  {
   "cell_type": "markdown",
   "id": "fa1d27f2",
   "metadata": {},
   "source": [
    "## Generate Source Code Pairs\n",
    "- for each problem:\n",
    "- group solutions by user and select the solutions that are consecutive and of the form (Error, Accepted) with only one instruction (line) changed; heuristic to search a smaller space, since a user might submit a correct solution after a wrong one\n",
    "- get the diff lines the diff operation (add, delete, change) and error type\n",
    "- build a df from this list and save it\n",
    "- sanity check: check that the error types of this df are the same as the types in the problem metadata: Success\n",
    "- done\n",
    "\n",
    "Up until this point we played around with single files and checked the looked at how we can load the source code from the dataset. In this section we will see how we can get the diff between source code files and more specifically the instruction (given by the line in the file) that caused a problem."
   ]
  },
  {
   "cell_type": "markdown",
   "id": "6a363fdf",
   "metadata": {},
   "source": [
    "One interesting aspect here is how many users sent more than one submission and also have submissions of the form (failed, accepted) and have only one instruction changed so that we can understand what change made their code work. To do this we need to implement a function that calls the diff utility in the linux shell. Also to check if a diff output has only one instruction changed we need to implement a grouping function. One problem with this algorithm is that it is quite slow since it needs to execute diff from python, so as a solution we can use a function already implemented from the difflib library with some wrapper methods from github: https://github.com/glanois/code I changed something from this implementation though, which was causing the function to print the delimiters with new lines intercalated https://github.com/alexjercan/code."
   ]
  },
  {
   "cell_type": "code",
   "execution_count": 28,
   "id": "a2104a2b",
   "metadata": {
    "ExecuteTime": {
     "end_time": "2021-12-09T17:38:04.455617Z",
     "start_time": "2021-12-09T17:38:04.446348Z"
    }
   },
   "outputs": [],
   "source": [
    "class POSIXDiffer(Differ):\n",
    "    \"\"\"\n",
    "    This class produces differences in the POSIX default format\n",
    "    (see http://www.unix.com/man-page/POSIX/1posix/diff/),\n",
    "    which is the same as the Gnu diff \"normal format\"\n",
    "    (see http://www.gnu.org/software/diffutils/manual/diffutils.html#Normal).\n",
    "    \"\"\"\n",
    "\n",
    "    def compare(self, a, b):\n",
    "        cruncher = SequenceMatcher(self.linejunk, a, b)\n",
    "        for tag, alo, ahi, blo, bhi in cruncher.get_opcodes():\n",
    "            if alo == ahi:\n",
    "                f1 = '%d' % alo\n",
    "            elif alo+1 == ahi:\n",
    "                f1 = '%d' % (alo+1)\n",
    "            else:\n",
    "                f1 = '%d,%d' % (alo+1, ahi)\n",
    "\n",
    "            if blo == bhi:\n",
    "                f2 = '%d' % blo\n",
    "            elif blo+1 == bhi:\n",
    "                f2 = '%d' % (blo+1)\n",
    "            else:\n",
    "                f2 = '%d,%d' % (blo+1, bhi)\n",
    "\n",
    "            if tag == 'replace':\n",
    "                g = itertools.chain([ '%sc%s\\n' % (f1, f2) ], self._my_plain_replace(a, alo, ahi, b, blo, bhi))\n",
    "            elif tag == 'delete':\n",
    "                g = itertools.chain([ '%sd%s\\n' % (f1, f2) ], self._dump('<', a, alo, ahi))\n",
    "            elif tag == 'insert':\n",
    "                g = itertools.chain([ '%sa%s\\n' % (f1, f2) ], self._dump('>', b, blo, bhi))\n",
    "            elif tag == 'equal':\n",
    "                g = []\n",
    "            else:\n",
    "                raise(ValueError, 'unknown tag %r' % (tag,))\n",
    "\n",
    "            for line in g:\n",
    "                yield line\n",
    "\n",
    "    def _my_plain_replace(self, a, alo, ahi, b, blo, bhi):\n",
    "        assert alo < ahi and blo < bhi\n",
    "        first  = self._dump('<', a, alo, ahi)\n",
    "        second = self._dump('>', b, blo, bhi)\n",
    "\n",
    "        for g in first, ['---\\n'], second:\n",
    "            for line in g:\n",
    "                yield line\n",
    "\n",
    "def pdiff(a, b):\n",
    "    \"\"\"\n",
    "    Compare `a` and `b` (lists of strings); return a POSIX/Gnu \"normal format\" diff.\n",
    "    \"\"\"\n",
    "    return POSIXDiffer().compare(a, b)\n",
    "\n",
    "def group_diff_chunks(diff):\n",
    "    \"\"\"\n",
    "    This function creates a list by extracting the start line, end line for\n",
    "    the files in the diff that are of the form n[,n]cn[,n] (the output of the\n",
    "    diff command in shell)\n",
    "    \"\"\"\n",
    "    def normalize_chunk(chunk):\n",
    "        s1, e1, op, s2, e2 = chunk\n",
    "\n",
    "        s1 = int(s1)\n",
    "        e1 = (s1 if not e1 else int(e1)) + 1\n",
    "        s2 = int(s2)\n",
    "        e2 = (s2 if not e2 else int(e2)) + 1\n",
    "\n",
    "        return s1, e1, op, s2, e2\n",
    "\n",
    "    p = re.compile(r'^([0-9]+),?([0-9]*)([a-zA-Z])([0-9]+),?([0-9]*)', re.MULTILINE)\n",
    "    chunks = p.findall(diff)\n",
    "\n",
    "    return [normalize_chunk(chunk) for chunk in chunks]\n",
    "\n",
    "def single_change(chunk):\n",
    "    s1, e1, _, s2, e2 = chunk\n",
    "\n",
    "    return e1 - s1 == e2 - s2 == 1\n",
    "\n",
    "def read_submission_file(problem_id, language, submission_id, extension):\n",
    "    \"\"\"\n",
    "    Read the source code as a list of lines for a given problem and submission id\n",
    "    the language and extension are also required to complete the path to the file\n",
    "    \"\"\"\n",
    "    with open(id2submission(problem_id, language, submission_id, extension)) as f:\n",
    "        text = f.readlines()\n",
    "\n",
    "    return text"
   ]
  },
  {
   "cell_type": "code",
   "execution_count": 29,
   "id": "dd8e73ff",
   "metadata": {
    "ExecuteTime": {
     "end_time": "2021-12-09T17:38:06.734378Z",
     "start_time": "2021-12-09T17:38:04.456758Z"
    }
   },
   "outputs": [
    {
     "name": "stdout",
     "output_type": "stream",
     "text": [
      "Out of 2521, 110 submissions have a single instruction changed\n"
     ]
    }
   ],
   "source": [
    "counter = 0\n",
    "total_counter = 0\n",
    "\n",
    "c_problem_df = problem_df[problem_df['language'] == 'C']\n",
    "\n",
    "user_ids = c_problem_df['user_id'].unique()\n",
    "for user_id in user_ids:\n",
    "    submission_df = c_problem_df[c_problem_df['user_id'] == user_id]\n",
    "\n",
    "    if len(submission_df) < 2:\n",
    "        continue\n",
    "\n",
    "    submission_ids = submission_df.index.unique()\n",
    "    for original_id, changed_id in zip(submission_ids, submission_ids[1:]):\n",
    "        language = c_problem_df.loc[original_id, 'language']\n",
    "        extension = c_problem_df.loc[original_id, 'filename_ext']\n",
    "        \n",
    "        original_text = read_submission_file(problem_id, language, original_id, extension)\n",
    "        changed_text = read_submission_file(problem_id, language, changed_id, extension)\n",
    "        \n",
    "        diff = pdiff(original_text, changed_text)\n",
    "        diff = ''.join(diff)\n",
    "\n",
    "        chunks = group_diff_chunks(diff)\n",
    "\n",
    "        if len(chunks) == 1 and single_change(chunks[0]):\n",
    "            original_status = submission_df.loc[original_id, 'status']\n",
    "            changed_status = submission_df.loc[changed_id, 'status']\n",
    "\n",
    "            if changed_status == 'Accepted' and original_status != 'Accepted':\n",
    "                counter += 1\n",
    "                \n",
    "        total_counter += 1\n",
    "                \n",
    "print(f'Out of {total_counter}, {counter} submissions have a single instruction changed')"
   ]
  },
  {
   "cell_type": "markdown",
   "id": "5b42edae",
   "metadata": {},
   "source": [
    "So it looks like we have some users that changed a single instruction and then managed to make their solution work. Now this runs much faster and we get the same result as with using the diff tool. Great so now we can easily find two consecutive submissions and see the instruction that was changed to make a status changed from failed to success."
   ]
  },
  {
   "cell_type": "code",
   "execution_count": 30,
   "id": "1155f309",
   "metadata": {
    "ExecuteTime": {
     "end_time": "2021-12-09T17:38:06.743187Z",
     "start_time": "2021-12-09T17:38:06.736306Z"
    }
   },
   "outputs": [],
   "source": [
    "def preprocess_problem_for_language(problem_df, problem_id, language='C', extension='c'):\n",
    "    \"\"\"\n",
    "    Given the problem metadata dataframe, the problem id (which is just the id from the\n",
    "    dataframe), tha programming language and extension for the filepath\n",
    "    iterate over all the users and group their solutions in smaller tables\n",
    "    Then iterate over the submissions with a window of size 2 and\n",
    "    if there are two consecutive attempts that can form a pair\n",
    "    (error, accepted) and the difference between the source files\n",
    "    is just a single instruction, add this pair to the result\n",
    "    \"\"\"\n",
    "    result = []\n",
    "\n",
    "    user_ids = problem_df['user_id'].unique()\n",
    "    for user_id in user_ids:\n",
    "        submission_df = problem_df[problem_df['user_id'] == user_id]\n",
    "\n",
    "        if len(submission_df) < 2:\n",
    "            continue\n",
    "\n",
    "        submission_ids = submission_df.index.unique()\n",
    "        for original_id, changed_id in zip(submission_ids, submission_ids[1:]):\n",
    "            original_text = read_submission_file(problem_id, language, original_id, extension)\n",
    "            changed_text = read_submission_file(problem_id, language, changed_id, extension)\n",
    "\n",
    "            diff = pdiff(original_text, changed_text)\n",
    "            diff = ''.join(diff)\n",
    "\n",
    "            chunks = group_diff_chunks(diff)\n",
    "\n",
    "            if len(chunks) == 1 and single_change(chunks[0]):\n",
    "                original_status = submission_df.loc[original_id, 'status']\n",
    "                changed_status = submission_df.loc[changed_id, 'status']\n",
    "                original_language = submission_df.loc[changed_id, 'original_language']\n",
    "\n",
    "                if changed_status == 'Accepted' and original_status != 'Accepted':\n",
    "                    result.append((\n",
    "                        original_id,\n",
    "                        changed_id,\n",
    "                        chunks[0][0],\n",
    "                        chunks[0][2],\n",
    "                        chunks[0][3],\n",
    "                        original_status,\n",
    "                        original_language\n",
    "                    ))\n",
    "\n",
    "    return result"
   ]
  },
  {
   "cell_type": "code",
   "execution_count": 31,
   "id": "24d5c723",
   "metadata": {
    "ExecuteTime": {
     "end_time": "2021-12-09T17:38:08.138377Z",
     "start_time": "2021-12-09T17:38:06.744890Z"
    }
   },
   "outputs": [
    {
     "data": {
      "text/plain": [
       "('s656732126', 's779235096', 15, 'c', 15, 'Wrong Answer', 'C')"
      ]
     },
     "execution_count": 31,
     "metadata": {},
     "output_type": "execute_result"
    }
   ],
   "source": [
    "result = preprocess_problem_for_language(c_problem_df, problem_id=problem_id, language='C', extension='c')\n",
    "(original_id, changed_id, original_start, diff_op, changed_start, original_status, original_language) = result[0]\n",
    "result[0]"
   ]
  },
  {
   "cell_type": "markdown",
   "id": "30772190",
   "metadata": {},
   "source": [
    "In the result we can see the two submission ids and the ranges of the change in the file. The line numbers start from 1 (the usual convention for text files) and should act as a range (start, end not included). Now that we have an example of a solution that had a single instruction changed let's visualize the diff."
   ]
  },
  {
   "cell_type": "code",
   "execution_count": 32,
   "id": "abd4f68c",
   "metadata": {
    "ExecuteTime": {
     "end_time": "2021-12-09T17:38:08.143655Z",
     "start_time": "2021-12-09T17:38:08.139534Z"
    }
   },
   "outputs": [
    {
     "name": "stdout",
     "output_type": "stream",
     "text": [
      "15c15\n",
      "< \t\tprintf(\"%d\\n\", digitNumber(a) + digitNumber(b));\n",
      "---\n",
      "> \t\tprintf(\"%d\\n\", digitNumber(a + b));\n"
     ]
    }
   ],
   "source": [
    "original_text = read_submission_file(problem_id, 'C', original_id, 'c')\n",
    "changed_text = read_submission_file(problem_id, 'C', changed_id, 'c')\n",
    "\n",
    "diff = pdiff(original_text, changed_text)\n",
    "sys.stdout.writelines(diff)"
   ]
  },
  {
   "cell_type": "code",
   "execution_count": 33,
   "id": "b3a7b2fd",
   "metadata": {
    "ExecuteTime": {
     "end_time": "2021-12-09T17:38:08.152734Z",
     "start_time": "2021-12-09T17:38:08.144872Z"
    }
   },
   "outputs": [
    {
     "name": "stdout",
     "output_type": "stream",
     "text": [
      "#include <stdio.h>\n",
      "\n",
      "int digitNumber(int n){\n",
      "\tint c = 1;\n",
      "\twhile(n / 10 > 0){\n",
      "\t\tc++;\n",
      "\t\tn /= 10;\n",
      "\t}\n",
      "\treturn c;\t\n",
      "}\n",
      "\n",
      "int main(void){\n",
      "\tint a, b;\n",
      "\twhile(scanf(\"%d %d\", &a, &b) != EOF){\n",
      "\t\tprintf(\"%d\\n\", digitNumber(a) + digitNumber(b));\n",
      "\t}\n",
      "\treturn 0;\n",
      "}"
     ]
    }
   ],
   "source": [
    "sys.stdout.writelines(original_text)"
   ]
  },
  {
   "cell_type": "markdown",
   "id": "712ad2d7",
   "metadata": {},
   "source": [
    "In this example we can see that the diff in both files starts and ends on the 15th line of the file, this is reflected in the ranges from the result (15), (15). This example looks like a logic error, where the user called the function wrong (Instead of computing the number of digits for the resulting sum they computed the sum of the number of digits)."
   ]
  },
  {
   "cell_type": "code",
   "execution_count": 34,
   "id": "3a335abe",
   "metadata": {
    "ExecuteTime": {
     "end_time": "2021-12-09T17:38:08.168198Z",
     "start_time": "2021-12-09T17:38:08.153872Z"
    }
   },
   "outputs": [
    {
     "data": {
      "text/html": [
       "<div>\n",
       "<style scoped>\n",
       "    .dataframe tbody tr th:only-of-type {\n",
       "        vertical-align: middle;\n",
       "    }\n",
       "\n",
       "    .dataframe tbody tr th {\n",
       "        vertical-align: top;\n",
       "    }\n",
       "\n",
       "    .dataframe thead th {\n",
       "        text-align: right;\n",
       "    }\n",
       "</style>\n",
       "<table border=\"1\" class=\"dataframe\">\n",
       "  <thead>\n",
       "    <tr style=\"text-align: right;\">\n",
       "      <th></th>\n",
       "      <th>original_id</th>\n",
       "      <th>changed_id</th>\n",
       "      <th>original_start</th>\n",
       "      <th>diff_op</th>\n",
       "      <th>changed_start</th>\n",
       "      <th>original_status</th>\n",
       "      <th>original_language</th>\n",
       "      <th>problem_id</th>\n",
       "      <th>language</th>\n",
       "      <th>filename_ext</th>\n",
       "    </tr>\n",
       "  </thead>\n",
       "  <tbody>\n",
       "    <tr>\n",
       "      <th>0</th>\n",
       "      <td>s656732126</td>\n",
       "      <td>s779235096</td>\n",
       "      <td>15</td>\n",
       "      <td>c</td>\n",
       "      <td>15</td>\n",
       "      <td>Wrong Answer</td>\n",
       "      <td>C</td>\n",
       "      <td>p00002</td>\n",
       "      <td>C</td>\n",
       "      <td>c</td>\n",
       "    </tr>\n",
       "    <tr>\n",
       "      <th>1</th>\n",
       "      <td>s838224387</td>\n",
       "      <td>s507007344</td>\n",
       "      <td>3</td>\n",
       "      <td>c</td>\n",
       "      <td>3</td>\n",
       "      <td>Wrong Answer</td>\n",
       "      <td>C</td>\n",
       "      <td>p00002</td>\n",
       "      <td>C</td>\n",
       "      <td>c</td>\n",
       "    </tr>\n",
       "    <tr>\n",
       "      <th>2</th>\n",
       "      <td>s125854082</td>\n",
       "      <td>s092565069</td>\n",
       "      <td>8</td>\n",
       "      <td>c</td>\n",
       "      <td>8</td>\n",
       "      <td>Wrong Answer</td>\n",
       "      <td>C</td>\n",
       "      <td>p00002</td>\n",
       "      <td>C</td>\n",
       "      <td>c</td>\n",
       "    </tr>\n",
       "    <tr>\n",
       "      <th>3</th>\n",
       "      <td>s103115180</td>\n",
       "      <td>s644775744</td>\n",
       "      <td>9</td>\n",
       "      <td>c</td>\n",
       "      <td>9</td>\n",
       "      <td>Wrong Answer</td>\n",
       "      <td>C</td>\n",
       "      <td>p00002</td>\n",
       "      <td>C</td>\n",
       "      <td>c</td>\n",
       "    </tr>\n",
       "    <tr>\n",
       "      <th>4</th>\n",
       "      <td>s401906747</td>\n",
       "      <td>s071479872</td>\n",
       "      <td>9</td>\n",
       "      <td>c</td>\n",
       "      <td>9</td>\n",
       "      <td>Wrong Answer</td>\n",
       "      <td>C</td>\n",
       "      <td>p00002</td>\n",
       "      <td>C</td>\n",
       "      <td>c</td>\n",
       "    </tr>\n",
       "  </tbody>\n",
       "</table>\n",
       "</div>"
      ],
      "text/plain": [
       "  original_id  changed_id  original_start diff_op  changed_start  \\\n",
       "0  s656732126  s779235096              15       c             15   \n",
       "1  s838224387  s507007344               3       c              3   \n",
       "2  s125854082  s092565069               8       c              8   \n",
       "3  s103115180  s644775744               9       c              9   \n",
       "4  s401906747  s071479872               9       c              9   \n",
       "\n",
       "  original_status original_language problem_id language filename_ext  \n",
       "0    Wrong Answer                 C     p00002        C            c  \n",
       "1    Wrong Answer                 C     p00002        C            c  \n",
       "2    Wrong Answer                 C     p00002        C            c  \n",
       "3    Wrong Answer                 C     p00002        C            c  \n",
       "4    Wrong Answer                 C     p00002        C            c  "
      ]
     },
     "execution_count": 34,
     "metadata": {},
     "output_type": "execute_result"
    }
   ],
   "source": [
    "columns = ['original_id', 'changed_id', 'original_start', 'diff_op', 'changed_start', 'original_status', 'original_language']\n",
    "\n",
    "df = pd.DataFrame(result, columns=columns)\n",
    "df['problem_id'] = problem_id\n",
    "df['language'] = 'C'\n",
    "df['filename_ext'] = 'c'\n",
    "\n",
    "df.head()"
   ]
  },
  {
   "cell_type": "code",
   "execution_count": 35,
   "id": "3cc22bd1",
   "metadata": {
    "ExecuteTime": {
     "end_time": "2021-12-09T17:38:08.178643Z",
     "start_time": "2021-12-09T17:38:08.171579Z"
    }
   },
   "outputs": [
    {
     "name": "stdout",
     "output_type": "stream",
     "text": [
      "There are 12 submissions that first had compilation errors\n"
     ]
    }
   ],
   "source": [
    "cdf = df[df['original_status'] == 'Compile Error']\n",
    "\n",
    "print(f'There are {len(cdf)} submissions that first had compilation errors')"
   ]
  },
  {
   "cell_type": "code",
   "execution_count": 36,
   "id": "a5f13160",
   "metadata": {
    "ExecuteTime": {
     "end_time": "2021-12-09T17:38:08.188756Z",
     "start_time": "2021-12-09T17:38:08.181388Z"
    }
   },
   "outputs": [
    {
     "name": "stdout",
     "output_type": "stream",
     "text": [
      "1c1\n",
      "< include<stdio.h>\n",
      "---\n",
      "> #include<stdio.h>\n"
     ]
    }
   ],
   "source": [
    "(original_id, changed_id, original_start, diff_op,\n",
    " changed_start, original_status, original_language, problem_id, language, filename_ext) = cdf.iloc[0]\n",
    "\n",
    "original_text = read_submission_file(problem_id, language, original_id, filename_ext)\n",
    "changed_text = read_submission_file(problem_id, language, changed_id, filename_ext)\n",
    "\n",
    "diff = pdiff(original_text, changed_text)\n",
    "sys.stdout.writelines(diff)"
   ]
  },
  {
   "cell_type": "code",
   "execution_count": 37,
   "id": "ca4eb02c",
   "metadata": {
    "ExecuteTime": {
     "end_time": "2021-12-09T17:38:08.200639Z",
     "start_time": "2021-12-09T17:38:08.192550Z"
    }
   },
   "outputs": [
    {
     "name": "stdout",
     "output_type": "stream",
     "text": [
      "include<stdio.h>\n",
      "\n",
      "int main(){\n",
      "        int a,b;\n",
      "        int s;\n",
      "\n",
      "        while(scanf(\"%d\",&a) != EOF){\n",
      "                int count = 0;\n",
      "                int ab = 0;\n",
      "                scanf(\"%d\",&b);\n",
      "\n",
      "                ab = a + b;\n",
      "\n",
      "                for(s = 1;1 ; s*=10){\n",
      "                        if(ab / s > 0){\n",
      "                                count ++;\n",
      "                        }else{\n",
      "                                break;\n",
      "                        }\n",
      "                }\n",
      "\n",
      "                printf(\"%d\\n\",count);   \n",
      "        }               \n",
      "\n",
      "        return 0;\n",
      "}"
     ]
    }
   ],
   "source": [
    "sys.stdout.writelines(original_text)"
   ]
  },
  {
   "cell_type": "markdown",
   "id": "b15c65c1",
   "metadata": {},
   "source": [
    "This compiler error looks like it was caused by a missing hash on line 1 for the include directive in the original file."
   ]
  },
  {
   "cell_type": "code",
   "execution_count": 38,
   "id": "6e9d5f90",
   "metadata": {
    "ExecuteTime": {
     "end_time": "2021-12-09T17:38:08.233689Z",
     "start_time": "2021-12-09T17:38:08.203378Z"
    }
   },
   "outputs": [
    {
     "name": "stdout",
     "output_type": "stream",
     "text": [
      "../input/Project_CodeNet/data/p00002/C/s937998870.c:1:8: error: expected ‘=’, ‘,’, ‘;’, ‘asm’ or ‘__attribute__’ before ‘<’ token\n",
      "    1 | include<stdio.h>\n",
      "      |        ^\n"
     ]
    }
   ],
   "source": [
    "def exec_gcc(file_path, out='a.out'):\n",
    "    process = subprocess.Popen(['gcc', file_path], \n",
    "                               stdout=subprocess.PIPE,\n",
    "                               stderr=subprocess.PIPE,\n",
    "                               universal_newlines=True)\n",
    "    output, error = process.communicate()\n",
    "\n",
    "    return output, error\n",
    "\n",
    "file_path = id2submission(problem_id, language, original_id, filename_ext)\n",
    "sys.stdout.writelines(exec_gcc(file_path)[1])"
   ]
  },
  {
   "cell_type": "code",
   "execution_count": 39,
   "id": "bebae67e",
   "metadata": {
    "ExecuteTime": {
     "end_time": "2021-12-09T17:38:08.248719Z",
     "start_time": "2021-12-09T17:38:08.235623Z"
    }
   },
   "outputs": [
    {
     "name": "stdout",
     "output_type": "stream",
     "text": [
      "There are 18 submissions that first had runtime errors\n"
     ]
    }
   ],
   "source": [
    "cdf = df[df['original_status'] == 'Runtime Error']\n",
    "\n",
    "print(f'There are {len(cdf)} submissions that first had runtime errors')"
   ]
  },
  {
   "cell_type": "code",
   "execution_count": 40,
   "id": "dc0edd61",
   "metadata": {
    "ExecuteTime": {
     "end_time": "2021-12-09T17:38:08.258809Z",
     "start_time": "2021-12-09T17:38:08.252273Z"
    }
   },
   "outputs": [
    {
     "name": "stdout",
     "output_type": "stream",
     "text": [
      "5a6\n",
      ">         c=1,d=0;\n"
     ]
    }
   ],
   "source": [
    "(original_id, changed_id, original_start, diff_op,\n",
    " changed_start, original_status, original_language, problem_id, language, filename_ext) = cdf.iloc[3]\n",
    "\n",
    "original_text = read_submission_file(problem_id, language, original_id, filename_ext)\n",
    "changed_text = read_submission_file(problem_id, language, changed_id, filename_ext)\n",
    "\n",
    "diff = pdiff(original_text, changed_text)\n",
    "sys.stdout.writelines(diff)"
   ]
  },
  {
   "cell_type": "code",
   "execution_count": 41,
   "id": "2fe9f17c",
   "metadata": {
    "ExecuteTime": {
     "end_time": "2021-12-09T17:38:08.265889Z",
     "start_time": "2021-12-09T17:38:08.260807Z"
    }
   },
   "outputs": [
    {
     "name": "stdout",
     "output_type": "stream",
     "text": [
      "#include<stdio.h>\n",
      "int main(void)\n",
      "{\n",
      "    int a,b,c=1,d=0;\n",
      "    while(scanf(\"%d %d\",&a,&b)!=EOF){\n",
      "        while(1){\n",
      "            c=10*c;\n",
      "            d++;\n",
      "            if((a+b)/c==0){\n",
      "                printf(\"%d\\n\",d);\n",
      "                break;\n",
      "            }\n",
      "        }\n",
      "    }\n",
      "    return 0;\n",
      "}"
     ]
    }
   ],
   "source": [
    "sys.stdout.writelines(original_text)"
   ]
  },
  {
   "cell_type": "markdown",
   "id": "8fc884e2",
   "metadata": {},
   "source": [
    "This is a pretty neat error to solve. Got me wondering a bit what was wrong with this code even if I had the diff."
   ]
  },
  {
   "cell_type": "code",
   "execution_count": 42,
   "id": "d6e716f5",
   "metadata": {
    "ExecuteTime": {
     "end_time": "2021-12-09T17:38:08.272199Z",
     "start_time": "2021-12-09T17:38:08.267704Z"
    }
   },
   "outputs": [],
   "source": [
    "def handle_process(command, input, timeout):\n",
    "    process = subprocess.Popen(command,\n",
    "                               stdin=subprocess.PIPE,\n",
    "                               stdout=subprocess.PIPE,\n",
    "                               stderr=subprocess.PIPE, \n",
    "                               encoding=\"utf-8\", \n",
    "                               errors=\"ignore\")\n",
    "    try:\n",
    "        output, error = process.communicate(input, timeout)\n",
    "        return output, error, process.returncode\n",
    "    except subprocess.TimeoutExpired:\n",
    "        process.kill()\n",
    "        process.communicate()\n",
    "        raise TimeoutError"
   ]
  },
  {
   "cell_type": "code",
   "execution_count": 43,
   "id": "05d1a668",
   "metadata": {
    "ExecuteTime": {
     "end_time": "2021-12-09T17:38:08.377270Z",
     "start_time": "2021-12-09T17:38:08.273915Z"
    }
   },
   "outputs": [],
   "source": [
    "def exec_gcc(file_path, exec_path='a.out'):\n",
    "    process = subprocess.Popen(['gcc', file_path, '-lm', '-w', '-O3','-o', exec_path],\n",
    "                               stdin=subprocess.PIPE,\n",
    "                               stdout=subprocess.PIPE,\n",
    "                               stderr=subprocess.PIPE, \n",
    "                               encoding=\"utf-8\", \n",
    "                               errors=\"ignore\")\n",
    "    output, error = process.communicate()\n",
    "\n",
    "    return output, error\n",
    "\n",
    "file_path = id2submission(problem_id, language, original_id, filename_ext)\n",
    "sys.stdout.writelines(exec_gcc(file_path)[1])"
   ]
  },
  {
   "cell_type": "code",
   "execution_count": 44,
   "id": "2c41ebb8",
   "metadata": {
    "ExecuteTime": {
     "end_time": "2021-12-09T17:38:08.388833Z",
     "start_time": "2021-12-09T17:38:08.380345Z"
    }
   },
   "outputs": [
    {
     "data": {
      "text/plain": [
       "'5 7\\n1 99\\n1000 999\\n'"
      ]
     },
     "execution_count": 44,
     "metadata": {},
     "output_type": "execute_result"
    }
   ],
   "source": [
    "with open(id2inout(problem_id)) as f:\n",
    "    input = f.read()\n",
    "input"
   ]
  },
  {
   "cell_type": "code",
   "execution_count": 45,
   "id": "f0f4b59f",
   "metadata": {
    "ExecuteTime": {
     "end_time": "2021-12-09T17:38:08.587011Z",
     "start_time": "2021-12-09T17:38:08.391797Z"
    }
   },
   "outputs": [
    {
     "data": {
      "text/plain": [
       "('2\\n3\\n4\\n', '', 0)"
      ]
     },
     "execution_count": 45,
     "metadata": {},
     "output_type": "execute_result"
    }
   ],
   "source": [
    "exec_gcc(file_path)\n",
    "output, error, returncode = handle_process(['./a.out'], input, timeout=5)\n",
    "\n",
    "!rm './a.out'\n",
    "output, error, returncode"
   ]
  },
  {
   "cell_type": "code",
   "execution_count": 46,
   "id": "a7eb81cf",
   "metadata": {
    "ExecuteTime": {
     "end_time": "2021-12-09T17:38:08.597437Z",
     "start_time": "2021-12-09T17:38:08.588896Z"
    }
   },
   "outputs": [
    {
     "data": {
      "text/plain": [
       "True"
      ]
     },
     "execution_count": 46,
     "metadata": {},
     "output_type": "execute_result"
    }
   ],
   "source": [
    "with open(id2inout(problem_id, 'output')) as f:\n",
    "    ref_output = f.read()\n",
    "ref_output == output"
   ]
  },
  {
   "cell_type": "markdown",
   "id": "d97f973d",
   "metadata": {},
   "source": [
    "Looks like for the sample input this submission does not crash or give an error. I assume there are a lot of such cases, where there are correct answers on the sample input, but the solution still can fail. In this case we can only say for the error that it is a runtime error, or somehow come up with some method of fuzzing the programs.\n",
    "\n",
    "Now that we have all the missing pieces we can create a table for all the problems and languages in this dataset that are in the same format, one instruction changed that fixed the submission. "
   ]
  },
  {
   "cell_type": "code",
   "execution_count": 47,
   "id": "495c9393",
   "metadata": {
    "ExecuteTime": {
     "end_time": "2021-12-09T17:38:08.603420Z",
     "start_time": "2021-12-09T17:38:08.599695Z"
    }
   },
   "outputs": [],
   "source": [
    "generated_pairs_path = input_path + 'single_instruction.csv'\n",
    "problem_ids = problem_list_df.index.unique()"
   ]
  },
  {
   "cell_type": "code",
   "execution_count": 48,
   "id": "5fdbb5e9",
   "metadata": {
    "ExecuteTime": {
     "end_time": "2021-12-09T17:38:08.826556Z",
     "start_time": "2021-12-09T17:38:08.604929Z"
    }
   },
   "outputs": [],
   "source": [
    "if os.path.exists(generated_pairs_path):\n",
    "    df = pd.read_csv(generated_pairs_path)\n",
    "    check_correct = False\n",
    "else:\n",
    "    columns = ['original_id', 'changed_id', 'original_line', 'diff_op', 'changed_line', 'original_status', 'original_language']\n",
    "    dfs = []\n",
    "\n",
    "    loop = tqdm(problem_ids)\n",
    "    for problem_id in loop:\n",
    "        loop.set_description(\"Processing %s\" % problem_id)\n",
    "\n",
    "        problem_df = pd.read_csv(metadata_path + f'{problem_id}.csv')\n",
    "        if problem_df.empty:\n",
    "            continue\n",
    "\n",
    "        problem_df.set_index('submission_id', inplace=True)\n",
    "\n",
    "        grouped_languages = problem_df.groupby('language')\n",
    "        for language, problem_df in grouped_languages:\n",
    "            if problem_df.empty:\n",
    "                continue\n",
    "\n",
    "            extension = problem_df.iloc[0]['filename_ext']\n",
    "            xs = preprocess_problem_for_language(problem_df, problem_id, language, extension)\n",
    "            df = pd.DataFrame(xs, columns=columns)\n",
    "            df['problem_id'] = problem_id\n",
    "            df['language'] = language\n",
    "            df['filename_ext'] = extension\n",
    "            dfs.append(df)\n",
    "\n",
    "    df = pd.concat(dfs, ignore_index=True)\n",
    "    df.to_csv(generated_pairs_path, index=False)\n",
    "    check_correct = True"
   ]
  },
  {
   "cell_type": "code",
   "execution_count": 49,
   "id": "723a5649",
   "metadata": {
    "ExecuteTime": {
     "end_time": "2021-12-09T17:38:08.994233Z",
     "start_time": "2021-12-09T17:38:08.827888Z"
    }
   },
   "outputs": [
    {
     "data": {
      "text/html": [
       "<div>\n",
       "<style scoped>\n",
       "    .dataframe tbody tr th:only-of-type {\n",
       "        vertical-align: middle;\n",
       "    }\n",
       "\n",
       "    .dataframe tbody tr th {\n",
       "        vertical-align: top;\n",
       "    }\n",
       "\n",
       "    .dataframe thead th {\n",
       "        text-align: right;\n",
       "    }\n",
       "</style>\n",
       "<table border=\"1\" class=\"dataframe\">\n",
       "  <thead>\n",
       "    <tr style=\"text-align: right;\">\n",
       "      <th></th>\n",
       "      <th>original_id</th>\n",
       "      <th>changed_id</th>\n",
       "      <th>original_line</th>\n",
       "      <th>diff_op</th>\n",
       "      <th>changed_line</th>\n",
       "      <th>original_status</th>\n",
       "      <th>original_language</th>\n",
       "      <th>problem_id</th>\n",
       "      <th>language</th>\n",
       "      <th>filename_ext</th>\n",
       "    </tr>\n",
       "  </thead>\n",
       "  <tbody>\n",
       "    <tr>\n",
       "      <th>0</th>\n",
       "      <td>s152683619</td>\n",
       "      <td>s597068013</td>\n",
       "      <td>13</td>\n",
       "      <td>c</td>\n",
       "      <td>13</td>\n",
       "      <td>Runtime Error</td>\n",
       "      <td>C</td>\n",
       "      <td>p00001</td>\n",
       "      <td>C</td>\n",
       "      <td>c</td>\n",
       "    </tr>\n",
       "    <tr>\n",
       "      <th>1</th>\n",
       "      <td>s044221442</td>\n",
       "      <td>s839825860</td>\n",
       "      <td>17</td>\n",
       "      <td>d</td>\n",
       "      <td>16</td>\n",
       "      <td>Wrong Answer</td>\n",
       "      <td>C</td>\n",
       "      <td>p00001</td>\n",
       "      <td>C</td>\n",
       "      <td>c</td>\n",
       "    </tr>\n",
       "    <tr>\n",
       "      <th>2</th>\n",
       "      <td>s186039512</td>\n",
       "      <td>s141089749</td>\n",
       "      <td>18</td>\n",
       "      <td>c</td>\n",
       "      <td>18</td>\n",
       "      <td>Wrong Answer</td>\n",
       "      <td>C</td>\n",
       "      <td>p00001</td>\n",
       "      <td>C</td>\n",
       "      <td>c</td>\n",
       "    </tr>\n",
       "    <tr>\n",
       "      <th>3</th>\n",
       "      <td>s492423182</td>\n",
       "      <td>s993570869</td>\n",
       "      <td>17</td>\n",
       "      <td>c</td>\n",
       "      <td>17</td>\n",
       "      <td>Wrong Answer</td>\n",
       "      <td>C</td>\n",
       "      <td>p00001</td>\n",
       "      <td>C</td>\n",
       "      <td>c</td>\n",
       "    </tr>\n",
       "    <tr>\n",
       "      <th>4</th>\n",
       "      <td>s348894386</td>\n",
       "      <td>s826240749</td>\n",
       "      <td>23</td>\n",
       "      <td>c</td>\n",
       "      <td>23</td>\n",
       "      <td>Wrong Answer</td>\n",
       "      <td>C</td>\n",
       "      <td>p00001</td>\n",
       "      <td>C</td>\n",
       "      <td>c</td>\n",
       "    </tr>\n",
       "    <tr>\n",
       "      <th>...</th>\n",
       "      <td>...</td>\n",
       "      <td>...</td>\n",
       "      <td>...</td>\n",
       "      <td>...</td>\n",
       "      <td>...</td>\n",
       "      <td>...</td>\n",
       "      <td>...</td>\n",
       "      <td>...</td>\n",
       "      <td>...</td>\n",
       "      <td>...</td>\n",
       "    </tr>\n",
       "    <tr>\n",
       "      <th>94571</th>\n",
       "      <td>s753736051</td>\n",
       "      <td>s069032276</td>\n",
       "      <td>59</td>\n",
       "      <td>c</td>\n",
       "      <td>59</td>\n",
       "      <td>Time Limit Exceeded</td>\n",
       "      <td>C++14 (GCC 5.4.1)</td>\n",
       "      <td>p04049</td>\n",
       "      <td>C++</td>\n",
       "      <td>cpp</td>\n",
       "    </tr>\n",
       "    <tr>\n",
       "      <th>94572</th>\n",
       "      <td>s937763329</td>\n",
       "      <td>s353716814</td>\n",
       "      <td>46</td>\n",
       "      <td>c</td>\n",
       "      <td>46</td>\n",
       "      <td>Wrong Answer</td>\n",
       "      <td>C++ (GCC 9.2.1)</td>\n",
       "      <td>p04050</td>\n",
       "      <td>C++</td>\n",
       "      <td>cpp</td>\n",
       "    </tr>\n",
       "    <tr>\n",
       "      <th>94573</th>\n",
       "      <td>s181482285</td>\n",
       "      <td>s112746800</td>\n",
       "      <td>29</td>\n",
       "      <td>c</td>\n",
       "      <td>29</td>\n",
       "      <td>Wrong Answer</td>\n",
       "      <td>C++14 (GCC 5.4.1)</td>\n",
       "      <td>p04050</td>\n",
       "      <td>C++</td>\n",
       "      <td>cpp</td>\n",
       "    </tr>\n",
       "    <tr>\n",
       "      <th>94574</th>\n",
       "      <td>s515906114</td>\n",
       "      <td>s712940997</td>\n",
       "      <td>42</td>\n",
       "      <td>c</td>\n",
       "      <td>42</td>\n",
       "      <td>Wrong Answer</td>\n",
       "      <td>C++ (GCC 5.4.1)</td>\n",
       "      <td>p04051</td>\n",
       "      <td>C++</td>\n",
       "      <td>cpp</td>\n",
       "    </tr>\n",
       "    <tr>\n",
       "      <th>94575</th>\n",
       "      <td>s402402940</td>\n",
       "      <td>s104563826</td>\n",
       "      <td>50</td>\n",
       "      <td>c</td>\n",
       "      <td>50</td>\n",
       "      <td>Wrong Answer</td>\n",
       "      <td>C++14 (GCC 5.4.1)</td>\n",
       "      <td>p04051</td>\n",
       "      <td>C++</td>\n",
       "      <td>cpp</td>\n",
       "    </tr>\n",
       "  </tbody>\n",
       "</table>\n",
       "<p>94576 rows × 10 columns</p>\n",
       "</div>"
      ],
      "text/plain": [
       "      original_id  changed_id  original_line diff_op  changed_line  \\\n",
       "0      s152683619  s597068013             13       c            13   \n",
       "1      s044221442  s839825860             17       d            16   \n",
       "2      s186039512  s141089749             18       c            18   \n",
       "3      s492423182  s993570869             17       c            17   \n",
       "4      s348894386  s826240749             23       c            23   \n",
       "...           ...         ...            ...     ...           ...   \n",
       "94571  s753736051  s069032276             59       c            59   \n",
       "94572  s937763329  s353716814             46       c            46   \n",
       "94573  s181482285  s112746800             29       c            29   \n",
       "94574  s515906114  s712940997             42       c            42   \n",
       "94575  s402402940  s104563826             50       c            50   \n",
       "\n",
       "           original_status  original_language problem_id language filename_ext  \n",
       "0            Runtime Error                  C     p00001        C            c  \n",
       "1             Wrong Answer                  C     p00001        C            c  \n",
       "2             Wrong Answer                  C     p00001        C            c  \n",
       "3             Wrong Answer                  C     p00001        C            c  \n",
       "4             Wrong Answer                  C     p00001        C            c  \n",
       "...                    ...                ...        ...      ...          ...  \n",
       "94571  Time Limit Exceeded  C++14 (GCC 5.4.1)     p04049      C++          cpp  \n",
       "94572         Wrong Answer    C++ (GCC 9.2.1)     p04050      C++          cpp  \n",
       "94573         Wrong Answer  C++14 (GCC 5.4.1)     p04050      C++          cpp  \n",
       "94574         Wrong Answer    C++ (GCC 5.4.1)     p04051      C++          cpp  \n",
       "94575         Wrong Answer  C++14 (GCC 5.4.1)     p04051      C++          cpp  \n",
       "\n",
       "[94576 rows x 10 columns]"
      ]
     },
     "metadata": {},
     "output_type": "display_data"
    },
    {
     "name": "stdout",
     "output_type": "stream",
     "text": [
      "<class 'pandas.core.frame.DataFrame'>\n",
      "RangeIndex: 94576 entries, 0 to 94575\n",
      "Data columns (total 10 columns):\n",
      " #   Column             Non-Null Count  Dtype \n",
      "---  ------             --------------  ----- \n",
      " 0   original_id        94576 non-null  object\n",
      " 1   changed_id         94576 non-null  object\n",
      " 2   original_line      94576 non-null  int64 \n",
      " 3   diff_op            94576 non-null  object\n",
      " 4   changed_line       94576 non-null  int64 \n",
      " 5   original_status    94576 non-null  object\n",
      " 6   original_language  94576 non-null  object\n",
      " 7   problem_id         94576 non-null  object\n",
      " 8   language           94576 non-null  object\n",
      " 9   filename_ext       94576 non-null  object\n",
      "dtypes: int64(2), object(8)\n",
      "memory usage: 7.2+ MB\n"
     ]
    },
    {
     "data": {
      "text/plain": [
       "None"
      ]
     },
     "metadata": {},
     "output_type": "display_data"
    },
    {
     "data": {
      "text/plain": [
       "C++             47052\n",
       "C               17382\n",
       "Python          11162\n",
       "Java             8297\n",
       "Ruby             3156\n",
       "C#               1945\n",
       "Perl              802\n",
       "Haskell           709\n",
       "JavaScript        631\n",
       "Awk               523\n",
       "PHP               466\n",
       "dc                398\n",
       "Scala             392\n",
       "D                 314\n",
       "Rust              210\n",
       "Go                204\n",
       "Octave            148\n",
       "Bash              143\n",
       "OCaml             134\n",
       "Kotlin             76\n",
       "Vim                70\n",
       "Sed                66\n",
       "Nim                48\n",
       "Swift              40\n",
       "Julia              39\n",
       "Bf                 38\n",
       "Crystal            22\n",
       "Pascal             20\n",
       "Lisp               18\n",
       "Fortran            14\n",
       "Scheme             11\n",
       "Lua                 9\n",
       "Cython              9\n",
       "Dash                6\n",
       "TypeScript          6\n",
       "bc                  4\n",
       "F#                  3\n",
       "Racket              2\n",
       "Visual Basic        2\n",
       "Clojure             2\n",
       "COBOL               1\n",
       "MoonScript          1\n",
       "Unlambda            1\n",
       "Name: language, dtype: int64"
      ]
     },
     "metadata": {},
     "output_type": "display_data"
    },
    {
     "data": {
      "text/plain": [
       "Wrong Answer              54098\n",
       "Compile Error             13816\n",
       "Runtime Error             12218\n",
       "WA: Presentation Error    10051\n",
       "Time Limit Exceeded        3922\n",
       "Memory Limit Exceeded       442\n",
       "Output Limit Exceeded        28\n",
       "Judge Not Available           1\n",
       "Name: original_status, dtype: int64"
      ]
     },
     "metadata": {},
     "output_type": "display_data"
    }
   ],
   "source": [
    "display(df)\n",
    "display(df.info())\n",
    "display(df.language.value_counts())\n",
    "display(df.original_status.value_counts())"
   ]
  },
  {
   "cell_type": "code",
   "execution_count": 50,
   "id": "70825ded",
   "metadata": {
    "ExecuteTime": {
     "end_time": "2021-12-09T17:38:09.000738Z",
     "start_time": "2021-12-09T17:38:08.996015Z"
    }
   },
   "outputs": [],
   "source": [
    "# sanity check (check that the status code is correctly copied for each submission)\n",
    "def check(pid):\n",
    "    problem_df = pd.read_csv(metadata_path + pid + '.csv')\n",
    "    p_df = df[df['problem_id'] == pid]\n",
    "    p_df = p_df.sort_values('original_id')\n",
    "    problem_df.set_index('submission_id', inplace=True, drop=True)\n",
    "    problem_df = problem_df.loc[p_df.original_id].sort_index()\n",
    "    return all(problem_df.status.values == p_df.original_status.values)\n",
    "\n",
    "if check_correct:\n",
    "    for pid in tqdm(problem_ids):\n",
    "        if not check(pid):\n",
    "            print(pid)"
   ]
  },
  {
   "cell_type": "markdown",
   "id": "808606c2",
   "metadata": {},
   "source": [
    "So we can see that after running this preprocessing function on all the problems we are left with 100,000 samples of pairs of source code files of the form (error, successful) for all the languages in the dataset. We will have to analyze the source code files that we obtained and make sure they are well suited for being tokenized and used in a machine learning algorithm. Now the error messages that are provided in this dataset don't look that useful, so in the next steps I will attempt to improve the error messages by running the source code on sample inputs or using compilers, code check tools etc."
   ]
  },
  {
   "cell_type": "markdown",
   "id": "a6b93ba8",
   "metadata": {},
   "source": [
    "## Analyze source code files\n",
    "\n",
    "### General analysis"
   ]
  },
  {
   "cell_type": "code",
   "execution_count": 51,
   "id": "8e4ed84b",
   "metadata": {
    "ExecuteTime": {
     "end_time": "2021-12-09T17:38:09.004952Z",
     "start_time": "2021-12-09T17:38:09.002080Z"
    }
   },
   "outputs": [],
   "source": [
    "generated_pairs_cleaned_path = input_path + 'single_instruction_cleaned.csv'"
   ]
  },
  {
   "cell_type": "markdown",
   "id": "241b6ac0",
   "metadata": {},
   "source": [
    "There are only 5% on liners in the submissions so we can safely remove them from the data. I think that formatting the code would not be worth the effort."
   ]
  },
  {
   "cell_type": "code",
   "execution_count": 52,
   "id": "f47af2bf",
   "metadata": {
    "ExecuteTime": {
     "end_time": "2021-12-09T17:38:09.242895Z",
     "start_time": "2021-12-09T17:38:09.006490Z"
    }
   },
   "outputs": [
    {
     "data": {
      "text/html": [
       "<div>\n",
       "<style scoped>\n",
       "    .dataframe tbody tr th:only-of-type {\n",
       "        vertical-align: middle;\n",
       "    }\n",
       "\n",
       "    .dataframe tbody tr th {\n",
       "        vertical-align: top;\n",
       "    }\n",
       "\n",
       "    .dataframe thead th {\n",
       "        text-align: right;\n",
       "    }\n",
       "</style>\n",
       "<table border=\"1\" class=\"dataframe\">\n",
       "  <thead>\n",
       "    <tr style=\"text-align: right;\">\n",
       "      <th></th>\n",
       "      <th>original_id</th>\n",
       "      <th>changed_id</th>\n",
       "      <th>original_line</th>\n",
       "      <th>diff_op</th>\n",
       "      <th>changed_line</th>\n",
       "      <th>original_status</th>\n",
       "      <th>original_language</th>\n",
       "      <th>problem_id</th>\n",
       "      <th>language</th>\n",
       "      <th>filename_ext</th>\n",
       "    </tr>\n",
       "  </thead>\n",
       "  <tbody>\n",
       "    <tr>\n",
       "      <th>0</th>\n",
       "      <td>s152683619</td>\n",
       "      <td>s597068013</td>\n",
       "      <td>13</td>\n",
       "      <td>c</td>\n",
       "      <td>13</td>\n",
       "      <td>Runtime Error</td>\n",
       "      <td>C</td>\n",
       "      <td>p00001</td>\n",
       "      <td>C</td>\n",
       "      <td>c</td>\n",
       "    </tr>\n",
       "    <tr>\n",
       "      <th>1</th>\n",
       "      <td>s044221442</td>\n",
       "      <td>s839825860</td>\n",
       "      <td>17</td>\n",
       "      <td>d</td>\n",
       "      <td>16</td>\n",
       "      <td>Wrong Answer</td>\n",
       "      <td>C</td>\n",
       "      <td>p00001</td>\n",
       "      <td>C</td>\n",
       "      <td>c</td>\n",
       "    </tr>\n",
       "    <tr>\n",
       "      <th>2</th>\n",
       "      <td>s186039512</td>\n",
       "      <td>s141089749</td>\n",
       "      <td>18</td>\n",
       "      <td>c</td>\n",
       "      <td>18</td>\n",
       "      <td>Wrong Answer</td>\n",
       "      <td>C</td>\n",
       "      <td>p00001</td>\n",
       "      <td>C</td>\n",
       "      <td>c</td>\n",
       "    </tr>\n",
       "    <tr>\n",
       "      <th>3</th>\n",
       "      <td>s492423182</td>\n",
       "      <td>s993570869</td>\n",
       "      <td>17</td>\n",
       "      <td>c</td>\n",
       "      <td>17</td>\n",
       "      <td>Wrong Answer</td>\n",
       "      <td>C</td>\n",
       "      <td>p00001</td>\n",
       "      <td>C</td>\n",
       "      <td>c</td>\n",
       "    </tr>\n",
       "    <tr>\n",
       "      <th>4</th>\n",
       "      <td>s348894386</td>\n",
       "      <td>s826240749</td>\n",
       "      <td>23</td>\n",
       "      <td>c</td>\n",
       "      <td>23</td>\n",
       "      <td>Wrong Answer</td>\n",
       "      <td>C</td>\n",
       "      <td>p00001</td>\n",
       "      <td>C</td>\n",
       "      <td>c</td>\n",
       "    </tr>\n",
       "    <tr>\n",
       "      <th>...</th>\n",
       "      <td>...</td>\n",
       "      <td>...</td>\n",
       "      <td>...</td>\n",
       "      <td>...</td>\n",
       "      <td>...</td>\n",
       "      <td>...</td>\n",
       "      <td>...</td>\n",
       "      <td>...</td>\n",
       "      <td>...</td>\n",
       "      <td>...</td>\n",
       "    </tr>\n",
       "    <tr>\n",
       "      <th>89930</th>\n",
       "      <td>s753736051</td>\n",
       "      <td>s069032276</td>\n",
       "      <td>59</td>\n",
       "      <td>c</td>\n",
       "      <td>59</td>\n",
       "      <td>Time Limit Exceeded</td>\n",
       "      <td>C++14 (GCC 5.4.1)</td>\n",
       "      <td>p04049</td>\n",
       "      <td>C++</td>\n",
       "      <td>cpp</td>\n",
       "    </tr>\n",
       "    <tr>\n",
       "      <th>89931</th>\n",
       "      <td>s937763329</td>\n",
       "      <td>s353716814</td>\n",
       "      <td>46</td>\n",
       "      <td>c</td>\n",
       "      <td>46</td>\n",
       "      <td>Wrong Answer</td>\n",
       "      <td>C++ (GCC 9.2.1)</td>\n",
       "      <td>p04050</td>\n",
       "      <td>C++</td>\n",
       "      <td>cpp</td>\n",
       "    </tr>\n",
       "    <tr>\n",
       "      <th>89932</th>\n",
       "      <td>s181482285</td>\n",
       "      <td>s112746800</td>\n",
       "      <td>29</td>\n",
       "      <td>c</td>\n",
       "      <td>29</td>\n",
       "      <td>Wrong Answer</td>\n",
       "      <td>C++14 (GCC 5.4.1)</td>\n",
       "      <td>p04050</td>\n",
       "      <td>C++</td>\n",
       "      <td>cpp</td>\n",
       "    </tr>\n",
       "    <tr>\n",
       "      <th>89933</th>\n",
       "      <td>s515906114</td>\n",
       "      <td>s712940997</td>\n",
       "      <td>42</td>\n",
       "      <td>c</td>\n",
       "      <td>42</td>\n",
       "      <td>Wrong Answer</td>\n",
       "      <td>C++ (GCC 5.4.1)</td>\n",
       "      <td>p04051</td>\n",
       "      <td>C++</td>\n",
       "      <td>cpp</td>\n",
       "    </tr>\n",
       "    <tr>\n",
       "      <th>89934</th>\n",
       "      <td>s402402940</td>\n",
       "      <td>s104563826</td>\n",
       "      <td>50</td>\n",
       "      <td>c</td>\n",
       "      <td>50</td>\n",
       "      <td>Wrong Answer</td>\n",
       "      <td>C++14 (GCC 5.4.1)</td>\n",
       "      <td>p04051</td>\n",
       "      <td>C++</td>\n",
       "      <td>cpp</td>\n",
       "    </tr>\n",
       "  </tbody>\n",
       "</table>\n",
       "<p>89935 rows × 10 columns</p>\n",
       "</div>"
      ],
      "text/plain": [
       "      original_id  changed_id  original_line diff_op  changed_line  \\\n",
       "0      s152683619  s597068013             13       c            13   \n",
       "1      s044221442  s839825860             17       d            16   \n",
       "2      s186039512  s141089749             18       c            18   \n",
       "3      s492423182  s993570869             17       c            17   \n",
       "4      s348894386  s826240749             23       c            23   \n",
       "...           ...         ...            ...     ...           ...   \n",
       "89930  s753736051  s069032276             59       c            59   \n",
       "89931  s937763329  s353716814             46       c            46   \n",
       "89932  s181482285  s112746800             29       c            29   \n",
       "89933  s515906114  s712940997             42       c            42   \n",
       "89934  s402402940  s104563826             50       c            50   \n",
       "\n",
       "           original_status  original_language problem_id language filename_ext  \n",
       "0            Runtime Error                  C     p00001        C            c  \n",
       "1             Wrong Answer                  C     p00001        C            c  \n",
       "2             Wrong Answer                  C     p00001        C            c  \n",
       "3             Wrong Answer                  C     p00001        C            c  \n",
       "4             Wrong Answer                  C     p00001        C            c  \n",
       "...                    ...                ...        ...      ...          ...  \n",
       "89930  Time Limit Exceeded  C++14 (GCC 5.4.1)     p04049      C++          cpp  \n",
       "89931         Wrong Answer    C++ (GCC 9.2.1)     p04050      C++          cpp  \n",
       "89932         Wrong Answer  C++14 (GCC 5.4.1)     p04050      C++          cpp  \n",
       "89933         Wrong Answer    C++ (GCC 5.4.1)     p04051      C++          cpp  \n",
       "89934         Wrong Answer  C++14 (GCC 5.4.1)     p04051      C++          cpp  \n",
       "\n",
       "[89935 rows x 10 columns]"
      ]
     },
     "execution_count": 52,
     "metadata": {},
     "output_type": "execute_result"
    }
   ],
   "source": [
    "if os.path.exists(generated_pairs_cleaned_path):\n",
    "    df = pd.read_csv(generated_pairs_cleaned_path)\n",
    "else:\n",
    "    df = pd.read_csv(generated_pairs_path)\n",
    "\n",
    "    counter = 0\n",
    "    total_counter = 0\n",
    "    one_liners = []\n",
    "\n",
    "    loop = tqdm(df.iterrows(), total=len(df))\n",
    "    for idx, (original_id, changed_id, original_line, diff_op,\n",
    "              changed_line, _, _, problem_id, language, filename_ext) in loop:\n",
    "        original_lines = read_submission_file(problem_id, language, original_id, filename_ext)\n",
    "        changed_lines = read_submission_file(problem_id, language, changed_id, filename_ext)\n",
    "\n",
    "        if len(original_lines) <= 1 or len(changed_lines) <= 1:\n",
    "            counter += 1\n",
    "            one_liners.append(idx)\n",
    "        total_counter += 1\n",
    "\n",
    "    print(f'Out of a total of {total_counter} submissions, {counter} are one liners. ({counter/total_counter})')\n",
    "    \n",
    "    df = df.drop(one_liners)\n",
    "    df.to_csv(generated_pairs_cleaned_path, index=False)\n",
    "    \n",
    "df"
   ]
  },
  {
   "cell_type": "code",
   "execution_count": 53,
   "id": "9c46591a",
   "metadata": {
    "ExecuteTime": {
     "end_time": "2021-12-09T17:38:09.254148Z",
     "start_time": "2021-12-09T17:38:09.244554Z"
    }
   },
   "outputs": [
    {
     "data": {
      "text/plain": [
       "c    76388\n",
       "a     9817\n",
       "d     3730\n",
       "Name: diff_op, dtype: int64"
      ]
     },
     "execution_count": 53,
     "metadata": {},
     "output_type": "execute_result"
    }
   ],
   "source": [
    "df['diff_op'].value_counts()"
   ]
  },
  {
   "cell_type": "markdown",
   "id": "ea5ce586",
   "metadata": {},
   "source": [
    "### Analyze C source files\n",
    "\n",
    "- tokenize the files that had runtime errors (do the general task for C)\n",
    "- automate the process of identifying what the set of tokens does; for each code pair identify what was the type of the changed instruction (import, assignment, branch, loop, print, operator, constant, variable, function call, function parameters, string literals, etc.)\n",
    "- add that information to the generated pairs\n",
    "- TODO: extract all the functions that caused errors and make a ranking of them"
   ]
  },
  {
   "cell_type": "code",
   "execution_count": 281,
   "id": "9e00d021",
   "metadata": {
    "ExecuteTime": {
     "end_time": "2021-12-09T18:48:01.870289Z",
     "start_time": "2021-12-09T18:48:01.849091Z"
    }
   },
   "outputs": [
    {
     "data": {
      "text/plain": [
       "Wrong Answer              8063\n",
       "WA: Presentation Error    3154\n",
       "Compile Error             2306\n",
       "Runtime Error             1814\n",
       "Time Limit Exceeded        384\n",
       "Memory Limit Exceeded       26\n",
       "Output Limit Exceeded        2\n",
       "Name: original_status, dtype: int64"
      ]
     },
     "execution_count": 281,
     "metadata": {},
     "output_type": "execute_result"
    }
   ],
   "source": [
    "df[(df['original_language'] == 'C')]['original_status'].value_counts()"
   ]
  },
  {
   "cell_type": "markdown",
   "id": "e58cf5a5",
   "metadata": {},
   "source": [
    "#### Runtime Error Part\n",
    "\n",
    "In this part I will go over the runtime errors for C and tokenize the changed instruction to get more insights on the data. To tokenize the source code files I will use the CodeNet tokenize tool (it needs to be compiled to use it) and will generate the output in the form of a csv string so I can load it in a padnas dataframe. Then I will use the tokenized version of the original file and the changed file to merge them and have a more detailed diff of the modified line. If the change was a addition/deletion then the columns of the other dataframe will be nan."
   ]
  },
  {
   "cell_type": "code",
   "execution_count": 286,
   "id": "bcd61887",
   "metadata": {
    "ExecuteTime": {
     "end_time": "2021-12-09T18:49:14.968751Z",
     "start_time": "2021-12-09T18:49:14.933192Z"
    }
   },
   "outputs": [
    {
     "data": {
      "text/html": [
       "<div>\n",
       "<style scoped>\n",
       "    .dataframe tbody tr th:only-of-type {\n",
       "        vertical-align: middle;\n",
       "    }\n",
       "\n",
       "    .dataframe tbody tr th {\n",
       "        vertical-align: top;\n",
       "    }\n",
       "\n",
       "    .dataframe thead th {\n",
       "        text-align: right;\n",
       "    }\n",
       "</style>\n",
       "<table border=\"1\" class=\"dataframe\">\n",
       "  <thead>\n",
       "    <tr style=\"text-align: right;\">\n",
       "      <th></th>\n",
       "      <th>original_id</th>\n",
       "      <th>changed_id</th>\n",
       "      <th>original_line</th>\n",
       "      <th>diff_op</th>\n",
       "      <th>changed_line</th>\n",
       "      <th>original_status</th>\n",
       "      <th>original_language</th>\n",
       "      <th>problem_id</th>\n",
       "      <th>language</th>\n",
       "      <th>filename_ext</th>\n",
       "    </tr>\n",
       "  </thead>\n",
       "  <tbody>\n",
       "    <tr>\n",
       "      <th>0</th>\n",
       "      <td>s152683619</td>\n",
       "      <td>s597068013</td>\n",
       "      <td>13</td>\n",
       "      <td>c</td>\n",
       "      <td>13</td>\n",
       "      <td>Runtime Error</td>\n",
       "      <td>C</td>\n",
       "      <td>p00001</td>\n",
       "      <td>C</td>\n",
       "      <td>c</td>\n",
       "    </tr>\n",
       "    <tr>\n",
       "      <th>1</th>\n",
       "      <td>s044221442</td>\n",
       "      <td>s839825860</td>\n",
       "      <td>17</td>\n",
       "      <td>d</td>\n",
       "      <td>16</td>\n",
       "      <td>Wrong Answer</td>\n",
       "      <td>C</td>\n",
       "      <td>p00001</td>\n",
       "      <td>C</td>\n",
       "      <td>c</td>\n",
       "    </tr>\n",
       "    <tr>\n",
       "      <th>2</th>\n",
       "      <td>s186039512</td>\n",
       "      <td>s141089749</td>\n",
       "      <td>18</td>\n",
       "      <td>c</td>\n",
       "      <td>18</td>\n",
       "      <td>Wrong Answer</td>\n",
       "      <td>C</td>\n",
       "      <td>p00001</td>\n",
       "      <td>C</td>\n",
       "      <td>c</td>\n",
       "    </tr>\n",
       "    <tr>\n",
       "      <th>3</th>\n",
       "      <td>s492423182</td>\n",
       "      <td>s993570869</td>\n",
       "      <td>17</td>\n",
       "      <td>c</td>\n",
       "      <td>17</td>\n",
       "      <td>Wrong Answer</td>\n",
       "      <td>C</td>\n",
       "      <td>p00001</td>\n",
       "      <td>C</td>\n",
       "      <td>c</td>\n",
       "    </tr>\n",
       "    <tr>\n",
       "      <th>4</th>\n",
       "      <td>s348894386</td>\n",
       "      <td>s826240749</td>\n",
       "      <td>23</td>\n",
       "      <td>c</td>\n",
       "      <td>23</td>\n",
       "      <td>Wrong Answer</td>\n",
       "      <td>C</td>\n",
       "      <td>p00001</td>\n",
       "      <td>C</td>\n",
       "      <td>c</td>\n",
       "    </tr>\n",
       "    <tr>\n",
       "      <th>...</th>\n",
       "      <td>...</td>\n",
       "      <td>...</td>\n",
       "      <td>...</td>\n",
       "      <td>...</td>\n",
       "      <td>...</td>\n",
       "      <td>...</td>\n",
       "      <td>...</td>\n",
       "      <td>...</td>\n",
       "      <td>...</td>\n",
       "      <td>...</td>\n",
       "    </tr>\n",
       "    <tr>\n",
       "      <th>78214</th>\n",
       "      <td>s701303157</td>\n",
       "      <td>s025536809</td>\n",
       "      <td>21</td>\n",
       "      <td>c</td>\n",
       "      <td>21</td>\n",
       "      <td>WA: Presentation Error</td>\n",
       "      <td>C</td>\n",
       "      <td>p02468</td>\n",
       "      <td>C</td>\n",
       "      <td>c</td>\n",
       "    </tr>\n",
       "    <tr>\n",
       "      <th>78298</th>\n",
       "      <td>s526548563</td>\n",
       "      <td>s012546496</td>\n",
       "      <td>6</td>\n",
       "      <td>c</td>\n",
       "      <td>6</td>\n",
       "      <td>Wrong Answer</td>\n",
       "      <td>C</td>\n",
       "      <td>p02470</td>\n",
       "      <td>C</td>\n",
       "      <td>c</td>\n",
       "    </tr>\n",
       "    <tr>\n",
       "      <th>78299</th>\n",
       "      <td>s779812410</td>\n",
       "      <td>s356972734</td>\n",
       "      <td>4</td>\n",
       "      <td>c</td>\n",
       "      <td>4</td>\n",
       "      <td>Wrong Answer</td>\n",
       "      <td>C</td>\n",
       "      <td>p02470</td>\n",
       "      <td>C</td>\n",
       "      <td>c</td>\n",
       "    </tr>\n",
       "    <tr>\n",
       "      <th>78301</th>\n",
       "      <td>s745508136</td>\n",
       "      <td>s348213851</td>\n",
       "      <td>2</td>\n",
       "      <td>c</td>\n",
       "      <td>2</td>\n",
       "      <td>Wrong Answer</td>\n",
       "      <td>C</td>\n",
       "      <td>p02470</td>\n",
       "      <td>C</td>\n",
       "      <td>c</td>\n",
       "    </tr>\n",
       "    <tr>\n",
       "      <th>78319</th>\n",
       "      <td>s129487785</td>\n",
       "      <td>s035277455</td>\n",
       "      <td>25</td>\n",
       "      <td>c</td>\n",
       "      <td>25</td>\n",
       "      <td>Wrong Answer</td>\n",
       "      <td>C</td>\n",
       "      <td>p02471</td>\n",
       "      <td>C</td>\n",
       "      <td>c</td>\n",
       "    </tr>\n",
       "  </tbody>\n",
       "</table>\n",
       "<p>13443 rows × 10 columns</p>\n",
       "</div>"
      ],
      "text/plain": [
       "      original_id  changed_id  original_line diff_op  changed_line  \\\n",
       "0      s152683619  s597068013             13       c            13   \n",
       "1      s044221442  s839825860             17       d            16   \n",
       "2      s186039512  s141089749             18       c            18   \n",
       "3      s492423182  s993570869             17       c            17   \n",
       "4      s348894386  s826240749             23       c            23   \n",
       "...           ...         ...            ...     ...           ...   \n",
       "78214  s701303157  s025536809             21       c            21   \n",
       "78298  s526548563  s012546496              6       c             6   \n",
       "78299  s779812410  s356972734              4       c             4   \n",
       "78301  s745508136  s348213851              2       c             2   \n",
       "78319  s129487785  s035277455             25       c            25   \n",
       "\n",
       "              original_status original_language problem_id language  \\\n",
       "0               Runtime Error                 C     p00001        C   \n",
       "1                Wrong Answer                 C     p00001        C   \n",
       "2                Wrong Answer                 C     p00001        C   \n",
       "3                Wrong Answer                 C     p00001        C   \n",
       "4                Wrong Answer                 C     p00001        C   \n",
       "...                       ...               ...        ...      ...   \n",
       "78214  WA: Presentation Error                 C     p02468        C   \n",
       "78298            Wrong Answer                 C     p02470        C   \n",
       "78299            Wrong Answer                 C     p02470        C   \n",
       "78301            Wrong Answer                 C     p02470        C   \n",
       "78319            Wrong Answer                 C     p02471        C   \n",
       "\n",
       "      filename_ext  \n",
       "0                c  \n",
       "1                c  \n",
       "2                c  \n",
       "3                c  \n",
       "4                c  \n",
       "...            ...  \n",
       "78214            c  \n",
       "78298            c  \n",
       "78299            c  \n",
       "78301            c  \n",
       "78319            c  \n",
       "\n",
       "[13443 rows x 10 columns]"
      ]
     },
     "execution_count": 286,
     "metadata": {},
     "output_type": "execute_result"
    }
   ],
   "source": [
    "cerr_df = df[\n",
    "    (df['original_status'] != 'Compile Error') & \n",
    "    (df['original_language'] == 'C')\n",
    "]\n",
    "\n",
    "cerr_df"
   ]
  },
  {
   "cell_type": "code",
   "execution_count": 287,
   "id": "1f9b52c8",
   "metadata": {
    "ExecuteTime": {
     "end_time": "2021-12-09T18:49:17.826697Z",
     "start_time": "2021-12-09T18:49:17.823429Z"
    }
   },
   "outputs": [],
   "source": [
    "def run_tokenizer(problem_id, language, submission_id, filename_ext):\n",
    "    return handle_process([tokenizer_path, '-mcsv', \n",
    "                           id2submission(problem_id, language, submission_id, filename_ext)], \n",
    "                          None, timeout=5)  "
   ]
  },
  {
   "cell_type": "markdown",
   "id": "4969e4e2",
   "metadata": {},
   "source": [
    "First example will be of a \"change\" diff, so it will have more information in each columns. The line and column columns represent location in code where the tokens were found. Line numbers are 1 based (luckily this was also my convention when I did the diffs :D), columns start at 0 (Emacs-style :( I use vim). The class is the type of the token, there are 10 different types of tokens (identifier, keyword, integer, floating, string, character, operator, preprocessor, filename, newline), where identifiers are very useful for finding functions and variables (basically they are any word that is not a keyword). Also the suffixes (_x, _y) refer to the original or changed file. In the second example I will display the dataframe in case there is only an addition and then an example for deletion only. The only difference for addition and deletions is that we have to ignore the other line (in case of addition we need to ignore the original lines and in case of deletion we need to ignore the changed line, since there are no any)."
   ]
  },
  {
   "cell_type": "code",
   "execution_count": 288,
   "id": "ebf8adde",
   "metadata": {
    "ExecuteTime": {
     "end_time": "2021-12-09T18:49:19.164104Z",
     "start_time": "2021-12-09T18:49:19.113995Z"
    }
   },
   "outputs": [
    {
     "data": {
      "text/html": [
       "<div>\n",
       "<style scoped>\n",
       "    .dataframe tbody tr th:only-of-type {\n",
       "        vertical-align: middle;\n",
       "    }\n",
       "\n",
       "    .dataframe tbody tr th {\n",
       "        vertical-align: top;\n",
       "    }\n",
       "\n",
       "    .dataframe thead th {\n",
       "        text-align: right;\n",
       "    }\n",
       "</style>\n",
       "<table border=\"1\" class=\"dataframe\">\n",
       "  <thead>\n",
       "    <tr style=\"text-align: right;\">\n",
       "      <th></th>\n",
       "      <th>line</th>\n",
       "      <th>column</th>\n",
       "      <th>class_x</th>\n",
       "      <th>token_x</th>\n",
       "      <th>class_y</th>\n",
       "      <th>token_y</th>\n",
       "    </tr>\n",
       "  </thead>\n",
       "  <tbody>\n",
       "    <tr>\n",
       "      <th>0</th>\n",
       "      <td>13</td>\n",
       "      <td>4</td>\n",
       "      <td>identifier</td>\n",
       "      <td>scanf</td>\n",
       "      <td>identifier</td>\n",
       "      <td>n</td>\n",
       "    </tr>\n",
       "    <tr>\n",
       "      <th>1</th>\n",
       "      <td>13</td>\n",
       "      <td>5</td>\n",
       "      <td>NaN</td>\n",
       "      <td>NaN</td>\n",
       "      <td>operator</td>\n",
       "      <td>=</td>\n",
       "    </tr>\n",
       "    <tr>\n",
       "      <th>2</th>\n",
       "      <td>13</td>\n",
       "      <td>6</td>\n",
       "      <td>NaN</td>\n",
       "      <td>NaN</td>\n",
       "      <td>integer</td>\n",
       "      <td>10</td>\n",
       "    </tr>\n",
       "    <tr>\n",
       "      <th>3</th>\n",
       "      <td>13</td>\n",
       "      <td>8</td>\n",
       "      <td>NaN</td>\n",
       "      <td>NaN</td>\n",
       "      <td>operator</td>\n",
       "      <td>;</td>\n",
       "    </tr>\n",
       "    <tr>\n",
       "      <th>4</th>\n",
       "      <td>13</td>\n",
       "      <td>9</td>\n",
       "      <td>operator</td>\n",
       "      <td>(</td>\n",
       "      <td>NaN</td>\n",
       "      <td>NaN</td>\n",
       "    </tr>\n",
       "    <tr>\n",
       "      <th>5</th>\n",
       "      <td>13</td>\n",
       "      <td>10</td>\n",
       "      <td>string</td>\n",
       "      <td>\"%d\"</td>\n",
       "      <td>NaN</td>\n",
       "      <td>NaN</td>\n",
       "    </tr>\n",
       "    <tr>\n",
       "      <th>6</th>\n",
       "      <td>13</td>\n",
       "      <td>14</td>\n",
       "      <td>operator</td>\n",
       "      <td>,</td>\n",
       "      <td>NaN</td>\n",
       "      <td>NaN</td>\n",
       "    </tr>\n",
       "    <tr>\n",
       "      <th>7</th>\n",
       "      <td>13</td>\n",
       "      <td>16</td>\n",
       "      <td>operator</td>\n",
       "      <td>&amp;</td>\n",
       "      <td>NaN</td>\n",
       "      <td>NaN</td>\n",
       "    </tr>\n",
       "    <tr>\n",
       "      <th>8</th>\n",
       "      <td>13</td>\n",
       "      <td>17</td>\n",
       "      <td>identifier</td>\n",
       "      <td>n</td>\n",
       "      <td>NaN</td>\n",
       "      <td>NaN</td>\n",
       "    </tr>\n",
       "    <tr>\n",
       "      <th>9</th>\n",
       "      <td>13</td>\n",
       "      <td>18</td>\n",
       "      <td>operator</td>\n",
       "      <td>)</td>\n",
       "      <td>NaN</td>\n",
       "      <td>NaN</td>\n",
       "    </tr>\n",
       "    <tr>\n",
       "      <th>10</th>\n",
       "      <td>13</td>\n",
       "      <td>19</td>\n",
       "      <td>operator</td>\n",
       "      <td>;</td>\n",
       "      <td>NaN</td>\n",
       "      <td>NaN</td>\n",
       "    </tr>\n",
       "  </tbody>\n",
       "</table>\n",
       "</div>"
      ],
      "text/plain": [
       "    line  column     class_x token_x     class_y token_y\n",
       "0     13       4  identifier   scanf  identifier       n\n",
       "1     13       5         NaN     NaN    operator       =\n",
       "2     13       6         NaN     NaN     integer      10\n",
       "3     13       8         NaN     NaN    operator       ;\n",
       "4     13       9    operator       (         NaN     NaN\n",
       "5     13      10      string    \"%d\"         NaN     NaN\n",
       "6     13      14    operator       ,         NaN     NaN\n",
       "7     13      16    operator       &         NaN     NaN\n",
       "8     13      17  identifier       n         NaN     NaN\n",
       "9     13      18    operator       )         NaN     NaN\n",
       "10    13      19    operator       ;         NaN     NaN"
      ]
     },
     "execution_count": 288,
     "metadata": {},
     "output_type": "execute_result"
    }
   ],
   "source": [
    "(original_id, changed_id, original_line, diff_op, changed_line, \n",
    " _, _, problem_id, language, filename_ext) = cerr_df[cerr_df['diff_op'] == 'c'].iloc[0]\n",
    "    \n",
    "original_tokens, error, retcode = run_tokenizer(problem_id, language, original_id, filename_ext)\n",
    "changed_tokens, error, retcode = run_tokenizer(problem_id, language, changed_id, filename_ext)\n",
    "\n",
    "original_tokens_df = pd.read_csv(io.StringIO(original_tokens), sep=',')\n",
    "changed_tokens_df = pd.read_csv(io.StringIO(changed_tokens), sep=',')\n",
    "\n",
    "original_tokens_line_df = original_tokens_df[original_tokens_df['line'] == original_line]\n",
    "changed_tokens_line_df = changed_tokens_df[changed_tokens_df['line'] == changed_line]\n",
    "\n",
    "original_tokens_line_df.merge(\n",
    "    changed_tokens_line_df, how='outer', on=['line', 'column']).sort_values('column', ignore_index=True)"
   ]
  },
  {
   "cell_type": "code",
   "execution_count": 289,
   "id": "2243554a",
   "metadata": {
    "ExecuteTime": {
     "end_time": "2021-12-09T18:49:20.745318Z",
     "start_time": "2021-12-09T18:49:20.691078Z"
    }
   },
   "outputs": [
    {
     "data": {
      "text/html": [
       "<div>\n",
       "<style scoped>\n",
       "    .dataframe tbody tr th:only-of-type {\n",
       "        vertical-align: middle;\n",
       "    }\n",
       "\n",
       "    .dataframe tbody tr th {\n",
       "        vertical-align: top;\n",
       "    }\n",
       "\n",
       "    .dataframe thead th {\n",
       "        text-align: right;\n",
       "    }\n",
       "</style>\n",
       "<table border=\"1\" class=\"dataframe\">\n",
       "  <thead>\n",
       "    <tr style=\"text-align: right;\">\n",
       "      <th></th>\n",
       "      <th>class_x</th>\n",
       "      <th>token_x</th>\n",
       "      <th>line</th>\n",
       "      <th>column</th>\n",
       "      <th>class_y</th>\n",
       "      <th>token_y</th>\n",
       "    </tr>\n",
       "  </thead>\n",
       "  <tbody>\n",
       "    <tr>\n",
       "      <th>0</th>\n",
       "      <td>NaN</td>\n",
       "      <td>NaN</td>\n",
       "      <td>20</td>\n",
       "      <td>4</td>\n",
       "      <td>keyword</td>\n",
       "      <td>return</td>\n",
       "    </tr>\n",
       "    <tr>\n",
       "      <th>1</th>\n",
       "      <td>NaN</td>\n",
       "      <td>NaN</td>\n",
       "      <td>20</td>\n",
       "      <td>11</td>\n",
       "      <td>integer</td>\n",
       "      <td>0</td>\n",
       "    </tr>\n",
       "    <tr>\n",
       "      <th>2</th>\n",
       "      <td>NaN</td>\n",
       "      <td>NaN</td>\n",
       "      <td>20</td>\n",
       "      <td>12</td>\n",
       "      <td>operator</td>\n",
       "      <td>;</td>\n",
       "    </tr>\n",
       "  </tbody>\n",
       "</table>\n",
       "</div>"
      ],
      "text/plain": [
       "  class_x token_x  line  column   class_y token_y\n",
       "0     NaN     NaN    20       4   keyword  return\n",
       "1     NaN     NaN    20      11   integer       0\n",
       "2     NaN     NaN    20      12  operator       ;"
      ]
     },
     "execution_count": 289,
     "metadata": {},
     "output_type": "execute_result"
    }
   ],
   "source": [
    "(original_id, changed_id, original_line, diff_op, changed_line, \n",
    " _, _, problem_id, language, filename_ext) = cerr_df[cerr_df['diff_op'] == 'a'].iloc[0]\n",
    "    \n",
    "original_tokens, error, retcode = run_tokenizer(problem_id, language, original_id, filename_ext)\n",
    "changed_tokens, error, retcode = run_tokenizer(problem_id, language, changed_id, filename_ext)\n",
    "\n",
    "original_tokens_df = pd.read_csv(io.StringIO(original_tokens), sep=',')\n",
    "changed_tokens_df = pd.read_csv(io.StringIO(changed_tokens), sep=',')\n",
    "\n",
    "original_tokens_line_df = pd.DataFrame(columns=original_tokens_df.columns)\n",
    "changed_tokens_line_df = changed_tokens_df[changed_tokens_df['line'] == changed_line]\n",
    "\n",
    "original_tokens_line_df.merge(\n",
    "    changed_tokens_line_df, how='outer', on=['line', 'column']).sort_values('column', ignore_index=True)"
   ]
  },
  {
   "cell_type": "code",
   "execution_count": 290,
   "id": "c7050255",
   "metadata": {
    "ExecuteTime": {
     "end_time": "2021-12-09T18:49:21.657988Z",
     "start_time": "2021-12-09T18:49:21.609295Z"
    }
   },
   "outputs": [
    {
     "data": {
      "text/html": [
       "<div>\n",
       "<style scoped>\n",
       "    .dataframe tbody tr th:only-of-type {\n",
       "        vertical-align: middle;\n",
       "    }\n",
       "\n",
       "    .dataframe tbody tr th {\n",
       "        vertical-align: top;\n",
       "    }\n",
       "\n",
       "    .dataframe thead th {\n",
       "        text-align: right;\n",
       "    }\n",
       "</style>\n",
       "<table border=\"1\" class=\"dataframe\">\n",
       "  <thead>\n",
       "    <tr style=\"text-align: right;\">\n",
       "      <th></th>\n",
       "      <th>line</th>\n",
       "      <th>column</th>\n",
       "      <th>class_x</th>\n",
       "      <th>token_x</th>\n",
       "      <th>class_y</th>\n",
       "      <th>token_y</th>\n",
       "    </tr>\n",
       "  </thead>\n",
       "  <tbody>\n",
       "    <tr>\n",
       "      <th>0</th>\n",
       "      <td>17</td>\n",
       "      <td>4</td>\n",
       "      <td>identifier</td>\n",
       "      <td>printf</td>\n",
       "      <td>NaN</td>\n",
       "      <td>NaN</td>\n",
       "    </tr>\n",
       "    <tr>\n",
       "      <th>1</th>\n",
       "      <td>17</td>\n",
       "      <td>10</td>\n",
       "      <td>operator</td>\n",
       "      <td>(</td>\n",
       "      <td>NaN</td>\n",
       "      <td>NaN</td>\n",
       "    </tr>\n",
       "    <tr>\n",
       "      <th>2</th>\n",
       "      <td>17</td>\n",
       "      <td>11</td>\n",
       "      <td>string</td>\n",
       "      <td>\"%d\\n\"</td>\n",
       "      <td>NaN</td>\n",
       "      <td>NaN</td>\n",
       "    </tr>\n",
       "    <tr>\n",
       "      <th>3</th>\n",
       "      <td>17</td>\n",
       "      <td>16</td>\n",
       "      <td>operator</td>\n",
       "      <td>,</td>\n",
       "      <td>NaN</td>\n",
       "      <td>NaN</td>\n",
       "    </tr>\n",
       "    <tr>\n",
       "      <th>4</th>\n",
       "      <td>17</td>\n",
       "      <td>17</td>\n",
       "      <td>identifier</td>\n",
       "      <td>k</td>\n",
       "      <td>NaN</td>\n",
       "      <td>NaN</td>\n",
       "    </tr>\n",
       "    <tr>\n",
       "      <th>5</th>\n",
       "      <td>17</td>\n",
       "      <td>18</td>\n",
       "      <td>operator</td>\n",
       "      <td>)</td>\n",
       "      <td>NaN</td>\n",
       "      <td>NaN</td>\n",
       "    </tr>\n",
       "    <tr>\n",
       "      <th>6</th>\n",
       "      <td>17</td>\n",
       "      <td>19</td>\n",
       "      <td>operator</td>\n",
       "      <td>;</td>\n",
       "      <td>NaN</td>\n",
       "      <td>NaN</td>\n",
       "    </tr>\n",
       "  </tbody>\n",
       "</table>\n",
       "</div>"
      ],
      "text/plain": [
       "   line  column     class_x token_x class_y token_y\n",
       "0    17       4  identifier  printf     NaN     NaN\n",
       "1    17      10    operator       (     NaN     NaN\n",
       "2    17      11      string  \"%d\\n\"     NaN     NaN\n",
       "3    17      16    operator       ,     NaN     NaN\n",
       "4    17      17  identifier       k     NaN     NaN\n",
       "5    17      18    operator       )     NaN     NaN\n",
       "6    17      19    operator       ;     NaN     NaN"
      ]
     },
     "execution_count": 290,
     "metadata": {},
     "output_type": "execute_result"
    }
   ],
   "source": [
    "(original_id, changed_id, original_line, diff_op, changed_line, \n",
    " _, _, problem_id, language, filename_ext) = cerr_df[cerr_df['diff_op'] == 'd'].iloc[0]\n",
    "    \n",
    "original_tokens, error, retcode = run_tokenizer(problem_id, language, original_id, filename_ext)\n",
    "changed_tokens, error, retcode = run_tokenizer(problem_id, language, changed_id, filename_ext)\n",
    "\n",
    "original_tokens_df = pd.read_csv(io.StringIO(original_tokens), sep=',')\n",
    "changed_tokens_df = pd.read_csv(io.StringIO(changed_tokens), sep=',')\n",
    "\n",
    "original_tokens_line_df = original_tokens_df[original_tokens_df['line'] == original_line]\n",
    "changed_tokens_line_df = pd.DataFrame(columns=changed_tokens_df.columns)\n",
    "\n",
    "original_tokens_line_df.merge(\n",
    "    changed_tokens_line_df, how='outer', on=['line', 'column']).sort_values('column', ignore_index=True)"
   ]
  },
  {
   "cell_type": "markdown",
   "id": "795e5dc2",
   "metadata": {},
   "source": [
    "Now that we know how to cover all cases we can create a cell to generate all the dataframes for us."
   ]
  },
  {
   "cell_type": "code",
   "execution_count": 311,
   "id": "7dad2a6c",
   "metadata": {
    "ExecuteTime": {
     "end_time": "2021-12-09T19:42:34.262713Z",
     "start_time": "2021-12-09T19:42:34.257907Z"
    }
   },
   "outputs": [],
   "source": [
    "generated_ctokens_path = input_path + 'generated_ctokens.pkl'"
   ]
  },
  {
   "cell_type": "code",
   "execution_count": 318,
   "id": "e670cc76",
   "metadata": {
    "ExecuteTime": {
     "end_time": "2021-12-09T19:44:46.809007Z",
     "start_time": "2021-12-09T19:44:44.390534Z"
    }
   },
   "outputs": [],
   "source": [
    "if os.path.exists(generated_ctokens_path):\n",
    "    df = pd.read_csv(generated_pairs_cleaned_path)\n",
    "    \n",
    "    with open(generated_ctokens_path, 'rb') as f:\n",
    "        tokens_dfs = pickle.load(f)\n",
    "else:\n",
    "    tokens_dfs = {}\n",
    "\n",
    "    loop = tqdm(cerr_df.iterrows(), total=len(cerr_df))\n",
    "    for idx, (original_id, changed_id, original_line, diff_op, changed_line, \n",
    "              _, _, problem_id, language, filename_ext) in loop:\n",
    "        original_lines = read_submission_file(problem_id, language, original_id, filename_ext)\n",
    "        changed_lines = read_submission_file(problem_id, language, changed_id, filename_ext)\n",
    "\n",
    "        original_tokens, error, retcode = run_tokenizer(problem_id, language, original_id, filename_ext)\n",
    "        changed_tokens, error, retcode = run_tokenizer(problem_id, language, changed_id, filename_ext)\n",
    "\n",
    "        original_tokens_df = pd.read_csv(io.StringIO(original_tokens), sep=',')\n",
    "        changed_tokens_df = pd.read_csv(io.StringIO(changed_tokens), sep=',')\n",
    "\n",
    "        original_tokens_line_df = pd.DataFrame(columns=original_tokens_df.columns)\n",
    "        changed_tokens_line_df = pd.DataFrame(columns=changed_tokens_df.columns)\n",
    "\n",
    "        if diff_op == 'd' or diff_op == 'c':\n",
    "            original_tokens_line_df = original_tokens_df[original_tokens_df['line'] == original_line]\n",
    "        if diff_op == 'a' or diff_op == 'c':\n",
    "            changed_tokens_line_df = changed_tokens_df[changed_tokens_df['line'] == changed_line]\n",
    "\n",
    "        tokens_dfs[idx] = (\n",
    "            original_tokens_line_df.merge(\n",
    "                changed_tokens_line_df, how='outer', on=['line', 'column']).sort_values('column', ignore_index=True)\n",
    "        )\n",
    "        \n",
    "    with open(generated_ctokens_path, 'wb') as f:\n",
    "        pickle.dump(tokens_dfs, f)"
   ]
  },
  {
   "cell_type": "code",
   "execution_count": 319,
   "id": "77e30774",
   "metadata": {
    "ExecuteTime": {
     "end_time": "2021-12-09T19:44:47.684249Z",
     "start_time": "2021-12-09T19:44:47.680801Z"
    }
   },
   "outputs": [],
   "source": [
    "tokens_df_iter = iter(more_itertools.take(5, tokens_dfs.items()))"
   ]
  },
  {
   "cell_type": "code",
   "execution_count": 320,
   "id": "b4708922",
   "metadata": {
    "ExecuteTime": {
     "end_time": "2021-12-09T19:44:48.867052Z",
     "start_time": "2021-12-09T19:44:48.851121Z"
    }
   },
   "outputs": [
    {
     "data": {
      "text/html": [
       "<div>\n",
       "<style scoped>\n",
       "    .dataframe tbody tr th:only-of-type {\n",
       "        vertical-align: middle;\n",
       "    }\n",
       "\n",
       "    .dataframe tbody tr th {\n",
       "        vertical-align: top;\n",
       "    }\n",
       "\n",
       "    .dataframe thead th {\n",
       "        text-align: right;\n",
       "    }\n",
       "</style>\n",
       "<table border=\"1\" class=\"dataframe\">\n",
       "  <thead>\n",
       "    <tr style=\"text-align: right;\">\n",
       "      <th></th>\n",
       "      <th>line</th>\n",
       "      <th>column</th>\n",
       "      <th>class_x</th>\n",
       "      <th>token_x</th>\n",
       "      <th>class_y</th>\n",
       "      <th>token_y</th>\n",
       "    </tr>\n",
       "  </thead>\n",
       "  <tbody>\n",
       "    <tr>\n",
       "      <th>0</th>\n",
       "      <td>13</td>\n",
       "      <td>4</td>\n",
       "      <td>identifier</td>\n",
       "      <td>scanf</td>\n",
       "      <td>identifier</td>\n",
       "      <td>n</td>\n",
       "    </tr>\n",
       "    <tr>\n",
       "      <th>1</th>\n",
       "      <td>13</td>\n",
       "      <td>5</td>\n",
       "      <td>NaN</td>\n",
       "      <td>NaN</td>\n",
       "      <td>operator</td>\n",
       "      <td>=</td>\n",
       "    </tr>\n",
       "    <tr>\n",
       "      <th>2</th>\n",
       "      <td>13</td>\n",
       "      <td>6</td>\n",
       "      <td>NaN</td>\n",
       "      <td>NaN</td>\n",
       "      <td>integer</td>\n",
       "      <td>10</td>\n",
       "    </tr>\n",
       "    <tr>\n",
       "      <th>3</th>\n",
       "      <td>13</td>\n",
       "      <td>8</td>\n",
       "      <td>NaN</td>\n",
       "      <td>NaN</td>\n",
       "      <td>operator</td>\n",
       "      <td>;</td>\n",
       "    </tr>\n",
       "    <tr>\n",
       "      <th>4</th>\n",
       "      <td>13</td>\n",
       "      <td>9</td>\n",
       "      <td>operator</td>\n",
       "      <td>(</td>\n",
       "      <td>NaN</td>\n",
       "      <td>NaN</td>\n",
       "    </tr>\n",
       "    <tr>\n",
       "      <th>5</th>\n",
       "      <td>13</td>\n",
       "      <td>10</td>\n",
       "      <td>string</td>\n",
       "      <td>\"%d\"</td>\n",
       "      <td>NaN</td>\n",
       "      <td>NaN</td>\n",
       "    </tr>\n",
       "    <tr>\n",
       "      <th>6</th>\n",
       "      <td>13</td>\n",
       "      <td>14</td>\n",
       "      <td>operator</td>\n",
       "      <td>,</td>\n",
       "      <td>NaN</td>\n",
       "      <td>NaN</td>\n",
       "    </tr>\n",
       "    <tr>\n",
       "      <th>7</th>\n",
       "      <td>13</td>\n",
       "      <td>16</td>\n",
       "      <td>operator</td>\n",
       "      <td>&amp;</td>\n",
       "      <td>NaN</td>\n",
       "      <td>NaN</td>\n",
       "    </tr>\n",
       "    <tr>\n",
       "      <th>8</th>\n",
       "      <td>13</td>\n",
       "      <td>17</td>\n",
       "      <td>identifier</td>\n",
       "      <td>n</td>\n",
       "      <td>NaN</td>\n",
       "      <td>NaN</td>\n",
       "    </tr>\n",
       "    <tr>\n",
       "      <th>9</th>\n",
       "      <td>13</td>\n",
       "      <td>18</td>\n",
       "      <td>operator</td>\n",
       "      <td>)</td>\n",
       "      <td>NaN</td>\n",
       "      <td>NaN</td>\n",
       "    </tr>\n",
       "    <tr>\n",
       "      <th>10</th>\n",
       "      <td>13</td>\n",
       "      <td>19</td>\n",
       "      <td>operator</td>\n",
       "      <td>;</td>\n",
       "      <td>NaN</td>\n",
       "      <td>NaN</td>\n",
       "    </tr>\n",
       "  </tbody>\n",
       "</table>\n",
       "</div>"
      ],
      "text/plain": [
       "    line  column     class_x token_x     class_y token_y\n",
       "0     13       4  identifier   scanf  identifier       n\n",
       "1     13       5         NaN     NaN    operator       =\n",
       "2     13       6         NaN     NaN     integer      10\n",
       "3     13       8         NaN     NaN    operator       ;\n",
       "4     13       9    operator       (         NaN     NaN\n",
       "5     13      10      string    \"%d\"         NaN     NaN\n",
       "6     13      14    operator       ,         NaN     NaN\n",
       "7     13      16    operator       &         NaN     NaN\n",
       "8     13      17  identifier       n         NaN     NaN\n",
       "9     13      18    operator       )         NaN     NaN\n",
       "10    13      19    operator       ;         NaN     NaN"
      ]
     },
     "metadata": {},
     "output_type": "display_data"
    }
   ],
   "source": [
    "display(next(tokens_df_iter)[1])"
   ]
  },
  {
   "cell_type": "markdown",
   "id": "938979ba",
   "metadata": {},
   "source": [
    "Here we have an example of changing the entire instruction, from a function call to a variable assignment."
   ]
  },
  {
   "cell_type": "code",
   "execution_count": 321,
   "id": "b9d6ea7d",
   "metadata": {
    "ExecuteTime": {
     "end_time": "2021-12-09T19:44:50.545860Z",
     "start_time": "2021-12-09T19:44:50.527240Z"
    }
   },
   "outputs": [
    {
     "data": {
      "text/html": [
       "<div>\n",
       "<style scoped>\n",
       "    .dataframe tbody tr th:only-of-type {\n",
       "        vertical-align: middle;\n",
       "    }\n",
       "\n",
       "    .dataframe tbody tr th {\n",
       "        vertical-align: top;\n",
       "    }\n",
       "\n",
       "    .dataframe thead th {\n",
       "        text-align: right;\n",
       "    }\n",
       "</style>\n",
       "<table border=\"1\" class=\"dataframe\">\n",
       "  <thead>\n",
       "    <tr style=\"text-align: right;\">\n",
       "      <th></th>\n",
       "      <th>line</th>\n",
       "      <th>column</th>\n",
       "      <th>class_x</th>\n",
       "      <th>token_x</th>\n",
       "      <th>class_y</th>\n",
       "      <th>token_y</th>\n",
       "    </tr>\n",
       "  </thead>\n",
       "  <tbody>\n",
       "    <tr>\n",
       "      <th>0</th>\n",
       "      <td>17</td>\n",
       "      <td>4</td>\n",
       "      <td>identifier</td>\n",
       "      <td>printf</td>\n",
       "      <td>NaN</td>\n",
       "      <td>NaN</td>\n",
       "    </tr>\n",
       "    <tr>\n",
       "      <th>1</th>\n",
       "      <td>17</td>\n",
       "      <td>10</td>\n",
       "      <td>operator</td>\n",
       "      <td>(</td>\n",
       "      <td>NaN</td>\n",
       "      <td>NaN</td>\n",
       "    </tr>\n",
       "    <tr>\n",
       "      <th>2</th>\n",
       "      <td>17</td>\n",
       "      <td>11</td>\n",
       "      <td>string</td>\n",
       "      <td>\"%d\\n\"</td>\n",
       "      <td>NaN</td>\n",
       "      <td>NaN</td>\n",
       "    </tr>\n",
       "    <tr>\n",
       "      <th>3</th>\n",
       "      <td>17</td>\n",
       "      <td>16</td>\n",
       "      <td>operator</td>\n",
       "      <td>,</td>\n",
       "      <td>NaN</td>\n",
       "      <td>NaN</td>\n",
       "    </tr>\n",
       "    <tr>\n",
       "      <th>4</th>\n",
       "      <td>17</td>\n",
       "      <td>17</td>\n",
       "      <td>identifier</td>\n",
       "      <td>k</td>\n",
       "      <td>NaN</td>\n",
       "      <td>NaN</td>\n",
       "    </tr>\n",
       "    <tr>\n",
       "      <th>5</th>\n",
       "      <td>17</td>\n",
       "      <td>18</td>\n",
       "      <td>operator</td>\n",
       "      <td>)</td>\n",
       "      <td>NaN</td>\n",
       "      <td>NaN</td>\n",
       "    </tr>\n",
       "    <tr>\n",
       "      <th>6</th>\n",
       "      <td>17</td>\n",
       "      <td>19</td>\n",
       "      <td>operator</td>\n",
       "      <td>;</td>\n",
       "      <td>NaN</td>\n",
       "      <td>NaN</td>\n",
       "    </tr>\n",
       "  </tbody>\n",
       "</table>\n",
       "</div>"
      ],
      "text/plain": [
       "   line  column     class_x token_x class_y token_y\n",
       "0    17       4  identifier  printf     NaN     NaN\n",
       "1    17      10    operator       (     NaN     NaN\n",
       "2    17      11      string  \"%d\\n\"     NaN     NaN\n",
       "3    17      16    operator       ,     NaN     NaN\n",
       "4    17      17  identifier       k     NaN     NaN\n",
       "5    17      18    operator       )     NaN     NaN\n",
       "6    17      19    operator       ;     NaN     NaN"
      ]
     },
     "metadata": {},
     "output_type": "display_data"
    }
   ],
   "source": [
    "display(next(tokens_df_iter)[1])"
   ]
  },
  {
   "cell_type": "markdown",
   "id": "e318af68",
   "metadata": {},
   "source": [
    "Here we have an example of deleting a line."
   ]
  },
  {
   "cell_type": "code",
   "execution_count": 322,
   "id": "249d3000",
   "metadata": {
    "ExecuteTime": {
     "end_time": "2021-12-09T19:44:51.584224Z",
     "start_time": "2021-12-09T19:44:51.573875Z"
    }
   },
   "outputs": [
    {
     "data": {
      "text/html": [
       "<div>\n",
       "<style scoped>\n",
       "    .dataframe tbody tr th:only-of-type {\n",
       "        vertical-align: middle;\n",
       "    }\n",
       "\n",
       "    .dataframe tbody tr th {\n",
       "        vertical-align: top;\n",
       "    }\n",
       "\n",
       "    .dataframe thead th {\n",
       "        text-align: right;\n",
       "    }\n",
       "</style>\n",
       "<table border=\"1\" class=\"dataframe\">\n",
       "  <thead>\n",
       "    <tr style=\"text-align: right;\">\n",
       "      <th></th>\n",
       "      <th>line</th>\n",
       "      <th>column</th>\n",
       "      <th>class_x</th>\n",
       "      <th>token_x</th>\n",
       "      <th>class_y</th>\n",
       "      <th>token_y</th>\n",
       "    </tr>\n",
       "  </thead>\n",
       "  <tbody>\n",
       "    <tr>\n",
       "      <th>0</th>\n",
       "      <td>18</td>\n",
       "      <td>1</td>\n",
       "      <td>keyword</td>\n",
       "      <td>for</td>\n",
       "      <td>keyword</td>\n",
       "      <td>for</td>\n",
       "    </tr>\n",
       "    <tr>\n",
       "      <th>1</th>\n",
       "      <td>18</td>\n",
       "      <td>4</td>\n",
       "      <td>operator</td>\n",
       "      <td>(</td>\n",
       "      <td>operator</td>\n",
       "      <td>(</td>\n",
       "    </tr>\n",
       "    <tr>\n",
       "      <th>2</th>\n",
       "      <td>18</td>\n",
       "      <td>5</td>\n",
       "      <td>identifier</td>\n",
       "      <td>i</td>\n",
       "      <td>identifier</td>\n",
       "      <td>i</td>\n",
       "    </tr>\n",
       "    <tr>\n",
       "      <th>3</th>\n",
       "      <td>18</td>\n",
       "      <td>6</td>\n",
       "      <td>operator</td>\n",
       "      <td>=</td>\n",
       "      <td>operator</td>\n",
       "      <td>=</td>\n",
       "    </tr>\n",
       "    <tr>\n",
       "      <th>4</th>\n",
       "      <td>18</td>\n",
       "      <td>7</td>\n",
       "      <td>integer</td>\n",
       "      <td>0</td>\n",
       "      <td>integer</td>\n",
       "      <td>9</td>\n",
       "    </tr>\n",
       "    <tr>\n",
       "      <th>5</th>\n",
       "      <td>18</td>\n",
       "      <td>8</td>\n",
       "      <td>operator</td>\n",
       "      <td>;</td>\n",
       "      <td>operator</td>\n",
       "      <td>;</td>\n",
       "    </tr>\n",
       "    <tr>\n",
       "      <th>6</th>\n",
       "      <td>18</td>\n",
       "      <td>9</td>\n",
       "      <td>identifier</td>\n",
       "      <td>i</td>\n",
       "      <td>identifier</td>\n",
       "      <td>i</td>\n",
       "    </tr>\n",
       "    <tr>\n",
       "      <th>7</th>\n",
       "      <td>18</td>\n",
       "      <td>10</td>\n",
       "      <td>operator</td>\n",
       "      <td>&lt;</td>\n",
       "      <td>operator</td>\n",
       "      <td>&gt;</td>\n",
       "    </tr>\n",
       "    <tr>\n",
       "      <th>8</th>\n",
       "      <td>18</td>\n",
       "      <td>11</td>\n",
       "      <td>integer</td>\n",
       "      <td>3</td>\n",
       "      <td>integer</td>\n",
       "      <td>6</td>\n",
       "    </tr>\n",
       "    <tr>\n",
       "      <th>9</th>\n",
       "      <td>18</td>\n",
       "      <td>12</td>\n",
       "      <td>operator</td>\n",
       "      <td>;</td>\n",
       "      <td>operator</td>\n",
       "      <td>;</td>\n",
       "    </tr>\n",
       "    <tr>\n",
       "      <th>10</th>\n",
       "      <td>18</td>\n",
       "      <td>13</td>\n",
       "      <td>identifier</td>\n",
       "      <td>i</td>\n",
       "      <td>identifier</td>\n",
       "      <td>i</td>\n",
       "    </tr>\n",
       "    <tr>\n",
       "      <th>11</th>\n",
       "      <td>18</td>\n",
       "      <td>14</td>\n",
       "      <td>operator</td>\n",
       "      <td>++</td>\n",
       "      <td>operator</td>\n",
       "      <td>--</td>\n",
       "    </tr>\n",
       "    <tr>\n",
       "      <th>12</th>\n",
       "      <td>18</td>\n",
       "      <td>16</td>\n",
       "      <td>operator</td>\n",
       "      <td>)</td>\n",
       "      <td>operator</td>\n",
       "      <td>)</td>\n",
       "    </tr>\n",
       "  </tbody>\n",
       "</table>\n",
       "</div>"
      ],
      "text/plain": [
       "    line  column     class_x token_x     class_y token_y\n",
       "0     18       1     keyword     for     keyword     for\n",
       "1     18       4    operator       (    operator       (\n",
       "2     18       5  identifier       i  identifier       i\n",
       "3     18       6    operator       =    operator       =\n",
       "4     18       7     integer       0     integer       9\n",
       "5     18       8    operator       ;    operator       ;\n",
       "6     18       9  identifier       i  identifier       i\n",
       "7     18      10    operator       <    operator       >\n",
       "8     18      11     integer       3     integer       6\n",
       "9     18      12    operator       ;    operator       ;\n",
       "10    18      13  identifier       i  identifier       i\n",
       "11    18      14    operator      ++    operator      --\n",
       "12    18      16    operator       )    operator       )"
      ]
     },
     "metadata": {},
     "output_type": "display_data"
    }
   ],
   "source": [
    "display(next(tokens_df_iter)[1])"
   ]
  },
  {
   "cell_type": "markdown",
   "id": "25764e91",
   "metadata": {},
   "source": [
    "Here is an example of changing the direction of the for loop. Changed from `++` to `--`."
   ]
  },
  {
   "cell_type": "code",
   "execution_count": 323,
   "id": "286cdb7f",
   "metadata": {
    "ExecuteTime": {
     "end_time": "2021-12-09T19:44:52.495173Z",
     "start_time": "2021-12-09T19:44:52.477541Z"
    }
   },
   "outputs": [
    {
     "data": {
      "text/html": [
       "<div>\n",
       "<style scoped>\n",
       "    .dataframe tbody tr th:only-of-type {\n",
       "        vertical-align: middle;\n",
       "    }\n",
       "\n",
       "    .dataframe tbody tr th {\n",
       "        vertical-align: top;\n",
       "    }\n",
       "\n",
       "    .dataframe thead th {\n",
       "        text-align: right;\n",
       "    }\n",
       "</style>\n",
       "<table border=\"1\" class=\"dataframe\">\n",
       "  <thead>\n",
       "    <tr style=\"text-align: right;\">\n",
       "      <th></th>\n",
       "      <th>line</th>\n",
       "      <th>column</th>\n",
       "      <th>class_x</th>\n",
       "      <th>token_x</th>\n",
       "      <th>class_y</th>\n",
       "      <th>token_y</th>\n",
       "    </tr>\n",
       "  </thead>\n",
       "  <tbody>\n",
       "    <tr>\n",
       "      <th>0</th>\n",
       "      <td>17</td>\n",
       "      <td>2</td>\n",
       "      <td>keyword</td>\n",
       "      <td>else</td>\n",
       "      <td>keyword</td>\n",
       "      <td>else</td>\n",
       "    </tr>\n",
       "    <tr>\n",
       "      <th>1</th>\n",
       "      <td>17</td>\n",
       "      <td>7</td>\n",
       "      <td>keyword</td>\n",
       "      <td>if</td>\n",
       "      <td>keyword</td>\n",
       "      <td>if</td>\n",
       "    </tr>\n",
       "    <tr>\n",
       "      <th>2</th>\n",
       "      <td>17</td>\n",
       "      <td>9</td>\n",
       "      <td>operator</td>\n",
       "      <td>(</td>\n",
       "      <td>operator</td>\n",
       "      <td>(</td>\n",
       "    </tr>\n",
       "    <tr>\n",
       "      <th>3</th>\n",
       "      <td>17</td>\n",
       "      <td>11</td>\n",
       "      <td>identifier</td>\n",
       "      <td>num</td>\n",
       "      <td>identifier</td>\n",
       "      <td>num</td>\n",
       "    </tr>\n",
       "    <tr>\n",
       "      <th>4</th>\n",
       "      <td>17</td>\n",
       "      <td>15</td>\n",
       "      <td>operator</td>\n",
       "      <td>&gt;=</td>\n",
       "      <td>operator</td>\n",
       "      <td>&gt;=</td>\n",
       "    </tr>\n",
       "    <tr>\n",
       "      <th>5</th>\n",
       "      <td>17</td>\n",
       "      <td>18</td>\n",
       "      <td>identifier</td>\n",
       "      <td>one</td>\n",
       "      <td>identifier</td>\n",
       "      <td>two</td>\n",
       "    </tr>\n",
       "    <tr>\n",
       "      <th>6</th>\n",
       "      <td>17</td>\n",
       "      <td>22</td>\n",
       "      <td>operator</td>\n",
       "      <td>)</td>\n",
       "      <td>operator</td>\n",
       "      <td>)</td>\n",
       "    </tr>\n",
       "    <tr>\n",
       "      <th>7</th>\n",
       "      <td>17</td>\n",
       "      <td>23</td>\n",
       "      <td>operator</td>\n",
       "      <td>{</td>\n",
       "      <td>operator</td>\n",
       "      <td>{</td>\n",
       "    </tr>\n",
       "  </tbody>\n",
       "</table>\n",
       "</div>"
      ],
      "text/plain": [
       "   line  column     class_x token_x     class_y token_y\n",
       "0    17       2     keyword    else     keyword    else\n",
       "1    17       7     keyword      if     keyword      if\n",
       "2    17       9    operator       (    operator       (\n",
       "3    17      11  identifier     num  identifier     num\n",
       "4    17      15    operator      >=    operator      >=\n",
       "5    17      18  identifier     one  identifier     two\n",
       "6    17      22    operator       )    operator       )\n",
       "7    17      23    operator       {    operator       {"
      ]
     },
     "metadata": {},
     "output_type": "display_data"
    }
   ],
   "source": [
    "display(next(tokens_df_iter)[1])"
   ]
  },
  {
   "cell_type": "markdown",
   "id": "8c5e26b9",
   "metadata": {},
   "source": [
    "Here we have an example of a change in an if statement."
   ]
  },
  {
   "cell_type": "code",
   "execution_count": 324,
   "id": "7184b52f",
   "metadata": {
    "ExecuteTime": {
     "end_time": "2021-12-09T19:44:53.529677Z",
     "start_time": "2021-12-09T19:44:53.518154Z"
    }
   },
   "outputs": [
    {
     "data": {
      "text/html": [
       "<div>\n",
       "<style scoped>\n",
       "    .dataframe tbody tr th:only-of-type {\n",
       "        vertical-align: middle;\n",
       "    }\n",
       "\n",
       "    .dataframe tbody tr th {\n",
       "        vertical-align: top;\n",
       "    }\n",
       "\n",
       "    .dataframe thead th {\n",
       "        text-align: right;\n",
       "    }\n",
       "</style>\n",
       "<table border=\"1\" class=\"dataframe\">\n",
       "  <thead>\n",
       "    <tr style=\"text-align: right;\">\n",
       "      <th></th>\n",
       "      <th>line</th>\n",
       "      <th>column</th>\n",
       "      <th>class_x</th>\n",
       "      <th>token_x</th>\n",
       "      <th>class_y</th>\n",
       "      <th>token_y</th>\n",
       "    </tr>\n",
       "  </thead>\n",
       "  <tbody>\n",
       "    <tr>\n",
       "      <th>0</th>\n",
       "      <td>23</td>\n",
       "      <td>2</td>\n",
       "      <td>identifier</td>\n",
       "      <td>printf</td>\n",
       "      <td>identifier</td>\n",
       "      <td>printf</td>\n",
       "    </tr>\n",
       "    <tr>\n",
       "      <th>1</th>\n",
       "      <td>23</td>\n",
       "      <td>8</td>\n",
       "      <td>operator</td>\n",
       "      <td>(</td>\n",
       "      <td>operator</td>\n",
       "      <td>(</td>\n",
       "    </tr>\n",
       "    <tr>\n",
       "      <th>2</th>\n",
       "      <td>23</td>\n",
       "      <td>9</td>\n",
       "      <td>string</td>\n",
       "      <td>\"%5d\"</td>\n",
       "      <td>string</td>\n",
       "      <td>\"%d\\n\"</td>\n",
       "    </tr>\n",
       "    <tr>\n",
       "      <th>3</th>\n",
       "      <td>23</td>\n",
       "      <td>14</td>\n",
       "      <td>operator</td>\n",
       "      <td>,</td>\n",
       "      <td>operator</td>\n",
       "      <td>,</td>\n",
       "    </tr>\n",
       "    <tr>\n",
       "      <th>4</th>\n",
       "      <td>23</td>\n",
       "      <td>15</td>\n",
       "      <td>identifier</td>\n",
       "      <td>a</td>\n",
       "      <td>identifier</td>\n",
       "      <td>a</td>\n",
       "    </tr>\n",
       "    <tr>\n",
       "      <th>5</th>\n",
       "      <td>23</td>\n",
       "      <td>16</td>\n",
       "      <td>operator</td>\n",
       "      <td>[</td>\n",
       "      <td>operator</td>\n",
       "      <td>[</td>\n",
       "    </tr>\n",
       "    <tr>\n",
       "      <th>6</th>\n",
       "      <td>23</td>\n",
       "      <td>17</td>\n",
       "      <td>identifier</td>\n",
       "      <td>i</td>\n",
       "      <td>identifier</td>\n",
       "      <td>i</td>\n",
       "    </tr>\n",
       "    <tr>\n",
       "      <th>7</th>\n",
       "      <td>23</td>\n",
       "      <td>18</td>\n",
       "      <td>operator</td>\n",
       "      <td>]</td>\n",
       "      <td>operator</td>\n",
       "      <td>]</td>\n",
       "    </tr>\n",
       "    <tr>\n",
       "      <th>8</th>\n",
       "      <td>23</td>\n",
       "      <td>19</td>\n",
       "      <td>operator</td>\n",
       "      <td>)</td>\n",
       "      <td>operator</td>\n",
       "      <td>)</td>\n",
       "    </tr>\n",
       "    <tr>\n",
       "      <th>9</th>\n",
       "      <td>23</td>\n",
       "      <td>20</td>\n",
       "      <td>operator</td>\n",
       "      <td>;</td>\n",
       "      <td>operator</td>\n",
       "      <td>;</td>\n",
       "    </tr>\n",
       "  </tbody>\n",
       "</table>\n",
       "</div>"
      ],
      "text/plain": [
       "   line  column     class_x token_x     class_y token_y\n",
       "0    23       2  identifier  printf  identifier  printf\n",
       "1    23       8    operator       (    operator       (\n",
       "2    23       9      string   \"%5d\"      string  \"%d\\n\"\n",
       "3    23      14    operator       ,    operator       ,\n",
       "4    23      15  identifier       a  identifier       a\n",
       "5    23      16    operator       [    operator       [\n",
       "6    23      17  identifier       i  identifier       i\n",
       "7    23      18    operator       ]    operator       ]\n",
       "8    23      19    operator       )    operator       )\n",
       "9    23      20    operator       ;    operator       ;"
      ]
     },
     "metadata": {},
     "output_type": "display_data"
    }
   ],
   "source": [
    "display(next(tokens_df_iter)[1])"
   ]
  },
  {
   "cell_type": "markdown",
   "id": "85693852",
   "metadata": {},
   "source": [
    "And the last one is an example of changing the formatting of the printf.\n",
    "\n",
    "Just by looking at these 5 examples (out of 13443), I find them very relatable to when I write code in C, so this looks pretty promising."
   ]
  },
  {
   "cell_type": "code",
   "execution_count": 325,
   "id": "edd423ba",
   "metadata": {
    "ExecuteTime": {
     "end_time": "2021-12-09T19:44:54.615418Z",
     "start_time": "2021-12-09T19:44:54.592653Z"
    }
   },
   "outputs": [],
   "source": [
    "def _is_c_preprocessor(token):\n",
    "    [token_class, token] = token\n",
    "    return token_class == 'preprocessor' and token == '#'\n",
    "\n",
    "def _is_include_keyword(token):\n",
    "    [token_class, token] = token\n",
    "    return token_class == 'identifier' and token == 'include'\n",
    "\n",
    "def _is_static_keyword(token):\n",
    "    [token_class, token] = token\n",
    "    return token_class == 'keyword' and token == 'static'\n",
    "\n",
    "def _is_const_keyword(token):\n",
    "    [token_class, token] = token\n",
    "    return token_class == 'keyword' and token == 'const'\n",
    "\n",
    "def _is_c_type(token):\n",
    "    [token_class, token] = token\n",
    "    return token_class == 'keyword' and token in ['struct', 'char', 'int', 'float', 'long', 'double', 'void', 'unsigned']\n",
    "\n",
    "def _is_pointer_operator(token):\n",
    "    [token_class, token] = token\n",
    "    return token_class == 'operator' and token == '*'\n",
    "\n",
    "def _is_equal_operator(token):\n",
    "    [token_class, token] = token\n",
    "    return token_class == 'operator' and token == '='\n",
    "\n",
    "def _is_incdec_operator(token):\n",
    "    [token_class, token] = token\n",
    "    return token_class == 'operator' and token in ['+=', '-=', '*=', '/=', '%=', \n",
    "                                                   '<<=', '>>=', '^=', '&=', '|=', '++', '--']\n",
    "\n",
    "def _is_semicolor_operator(token):\n",
    "    [token_class, token] = token\n",
    "    return token_class == 'operator' and token == ';'\n",
    "\n",
    "def _is_identifier(token):\n",
    "    [token_class, token] = token\n",
    "    p = re.compile('^[A-Za-z_]\\w*')\n",
    "    return token_class == 'identifier' and len(p.findall(token)) > 0\n",
    "\n",
    "def _is_if_keyword(token):\n",
    "    [token_class, token] = token\n",
    "    return token_class == 'keyword' and token == 'if'  \n",
    "\n",
    "def _is_else_keyword(token):\n",
    "    [token_class, token] = token\n",
    "    return token_class == 'keyword' and token == 'else'  \n",
    "\n",
    "def _is_loop_keyword(token):\n",
    "    [token_class, token] = token\n",
    "    return token_class == 'keyword' and token in ['for', 'while'] \n",
    "\n",
    "def _is_openp_operator(token):\n",
    "    [token_class, token] = token\n",
    "    return token_class == 'operator' and token == '('\n",
    "\n",
    "def _is_openb_operator(token):\n",
    "    [token_class, token] = token\n",
    "    return token_class == 'operator' and token == '['\n",
    "\n",
    "def _is_return_keyword(token):\n",
    "    [token_class, token] = token\n",
    "    return token_class == 'keyword' and token == 'return'\n",
    "\n",
    "def _is_comma_operator(token):\n",
    "    [token_class, token] = token\n",
    "    return token_class == 'operator' and token == ','\n",
    "\n",
    "def _is_block_operator(token):\n",
    "    [token_class, token] = token\n",
    "    return token_class == 'operator' and token in ['{', '}']\n",
    "\n",
    "def _is_break_keyword(token):\n",
    "    [token_class, token] = token\n",
    "    return token_class == 'keyword' and token == 'break'    \n",
    "\n",
    "def _is_continue_keyword(token):\n",
    "    [token_class, token] = token\n",
    "    return token_class == 'keyword' and token == 'continue'"
   ]
  },
  {
   "cell_type": "markdown",
   "id": "6b34e5a3",
   "metadata": {},
   "source": [
    "First we will start with the import instruction\n",
    "In C an import statement starts with a \n",
    "- `#` symbol, which is classified as `preprocessor` by the tokenizer tool, \n",
    "- then it follows a `include`, which is an `identifier`, \n",
    "- this is a good place to stop since we only need to check what type this instruction is\n",
    "    \n",
    "Next lets look at variable declaration:\n",
    "- we need to start with a `type` which is a `keyword`\n",
    "- then we need to hava a `identifier`\n",
    "- then we need to have an `=` sign which is an `operator`\n",
    "- then we need to have an expression, but it is enough if we reach here, we know it is a declaration.\n",
    "- edge cases: `long long`, `long long int`, pointers which I think will be `operators` because of `*`, static arrays, static or const variables\n",
    "\n",
    "Variable assignment is very similar to variable declaration, now there is no type\n",
    "- edge cases: vector element assignation\n",
    "\n",
    "Function declaration\n",
    "- same edge cases: pointer return types or `long long`, `long long int`, which is a popular strategy in algo competitions\n",
    "\n",
    "Breaks and returns are the same:\n",
    "- `keyword`(break or return or continue)\n",
    "\n",
    "To indentify a function call we just need to see\n",
    "- an `identifier` followed by\n",
    "- an opened parenthesis `operator`\n",
    "\n",
    "Loops (for and while) are similar to function calls, but instead of the `identifier` we look for\n",
    "- a `keyword` which is `for` or `while`\n",
    "- an opened parenthesis `operator`"
   ]
  },
  {
   "cell_type": "code",
   "execution_count": 326,
   "id": "df8d2eff",
   "metadata": {
    "ExecuteTime": {
     "end_time": "2021-12-09T19:44:56.876802Z",
     "start_time": "2021-12-09T19:44:56.865404Z"
    }
   },
   "outputs": [],
   "source": [
    "def check_token(func, tokens, n):\n",
    "    if len(tokens) <= n:\n",
    "        return False\n",
    "    return func(tokens[n])\n",
    "\n",
    "def check_defintion(tokens):\n",
    "    if not tokens:\n",
    "        return None\n",
    "    if check_token(_is_c_type, tokens, 0): # recursive on the type (skip the types)\n",
    "        return check_defintion(tokens[1:])\n",
    "    \n",
    "    if check_token(_is_identifier, tokens, 0): # type id\n",
    "        if check_token(_is_openp_operator, tokens, 1): # type id (\n",
    "            return \"function_def\"\n",
    "        return \"variable_def\"\n",
    "    if check_token(_is_pointer_operator, tokens, 0): # type *\n",
    "        if check_token(_is_identifier, tokens, 1): # type * id\n",
    "            if check_token(_is_openp_operator, tokens, 2): # type * id (\n",
    "                return \"function_def\"\n",
    "            return \"variable_def\"\n",
    "    return None\n",
    "\n",
    "def get_toknes_class(token_df):\n",
    "    tokens = token_df[['class_x', 'token_x']].dropna().values.tolist()\n",
    "    if not tokens:\n",
    "        tokens = token_df[['class_y', 'token_y']].dropna().values.tolist()\n",
    "\n",
    "    if check_token(_is_return_keyword, tokens, 0): # return\n",
    "        return \"return\"\n",
    "    \n",
    "    if check_token(_is_break_keyword, tokens, 0): # break\n",
    "        return \"break\"\n",
    "    \n",
    "    if check_token(_is_continue_keyword, tokens, 0): # continue\n",
    "        return \"continue\"\n",
    "    \n",
    "    if check_token(_is_c_type, tokens, 0):\n",
    "        result = check_defintion(tokens[1:]) # check for variable/function definition\n",
    "        if result:\n",
    "            return result\n",
    "\n",
    "    if check_token(_is_static_keyword, tokens, 0): # static\n",
    "        result = check_defintion(tokens[1:])\n",
    "        if result:\n",
    "            return result\n",
    "        \n",
    "    if check_token(_is_const_keyword, tokens, 0): # const\n",
    "        return \"const_def\"\n",
    "    \n",
    "    if check_token(_is_identifier, tokens, 0): # id\n",
    "        if check_token(_is_openp_operator, tokens, 1): # id (\n",
    "            return \"function_call\"\n",
    "        if check_token(_is_equal_operator, tokens, 1): # id =\n",
    "            return \"variable_set\"\n",
    "        if check_token(_is_incdec_operator, tokens, 1): # id ++ or id -- or id += or id -=\n",
    "            return \"variable_set\"\n",
    "        if check_token(_is_openb_operator, tokens, 1): # id [\n",
    "            return \"variable_set\"\n",
    "    \n",
    "    if check_token(_is_loop_keyword, tokens, 0): # for, while\n",
    "        return \"loop_operator\"\n",
    "    \n",
    "    if check_token(_is_if_keyword, tokens, 0): # if\n",
    "        return \"branch_operator\"\n",
    "    \n",
    "    if check_token(_is_else_keyword, tokens, 0): # else\n",
    "        return \"branch_operator\"\n",
    "    \n",
    "    if check_token(_is_c_preprocessor, tokens, 0): # #\n",
    "        if check_token(_is_include_keyword, tokens, 1): # # include\n",
    "            return \"include\"\n",
    "        return \"const_def\"\n",
    "    \n",
    "    return None"
   ]
  },
  {
   "cell_type": "code",
   "execution_count": 329,
   "id": "32cd4fea",
   "metadata": {
    "ExecuteTime": {
     "end_time": "2021-12-09T19:48:11.114227Z",
     "start_time": "2021-12-09T19:48:11.109572Z"
    }
   },
   "outputs": [],
   "source": [
    "generated_pairs_cleaned_class_path = input_path + 'single_instruction_cleaned_class.csv'"
   ]
  },
  {
   "cell_type": "code",
   "execution_count": 331,
   "id": "47b6fe3b",
   "metadata": {
    "ExecuteTime": {
     "end_time": "2021-12-09T19:48:21.921179Z",
     "start_time": "2021-12-09T19:48:21.875783Z"
    }
   },
   "outputs": [
    {
     "data": {
      "text/html": [
       "<div>\n",
       "<style scoped>\n",
       "    .dataframe tbody tr th:only-of-type {\n",
       "        vertical-align: middle;\n",
       "    }\n",
       "\n",
       "    .dataframe tbody tr th {\n",
       "        vertical-align: top;\n",
       "    }\n",
       "\n",
       "    .dataframe thead th {\n",
       "        text-align: right;\n",
       "    }\n",
       "</style>\n",
       "<table border=\"1\" class=\"dataframe\">\n",
       "  <thead>\n",
       "    <tr style=\"text-align: right;\">\n",
       "      <th></th>\n",
       "      <th>original_id</th>\n",
       "      <th>changed_id</th>\n",
       "      <th>original_line</th>\n",
       "      <th>diff_op</th>\n",
       "      <th>changed_line</th>\n",
       "      <th>original_status</th>\n",
       "      <th>original_language</th>\n",
       "      <th>problem_id</th>\n",
       "      <th>language</th>\n",
       "      <th>filename_ext</th>\n",
       "      <th>token_class</th>\n",
       "    </tr>\n",
       "  </thead>\n",
       "  <tbody>\n",
       "    <tr>\n",
       "      <th>0</th>\n",
       "      <td>s152683619</td>\n",
       "      <td>s597068013</td>\n",
       "      <td>13</td>\n",
       "      <td>c</td>\n",
       "      <td>13</td>\n",
       "      <td>Runtime Error</td>\n",
       "      <td>C</td>\n",
       "      <td>p00001</td>\n",
       "      <td>C</td>\n",
       "      <td>c</td>\n",
       "      <td>function_call</td>\n",
       "    </tr>\n",
       "    <tr>\n",
       "      <th>1</th>\n",
       "      <td>s044221442</td>\n",
       "      <td>s839825860</td>\n",
       "      <td>17</td>\n",
       "      <td>d</td>\n",
       "      <td>16</td>\n",
       "      <td>Wrong Answer</td>\n",
       "      <td>C</td>\n",
       "      <td>p00001</td>\n",
       "      <td>C</td>\n",
       "      <td>c</td>\n",
       "      <td>function_call</td>\n",
       "    </tr>\n",
       "    <tr>\n",
       "      <th>2</th>\n",
       "      <td>s186039512</td>\n",
       "      <td>s141089749</td>\n",
       "      <td>18</td>\n",
       "      <td>c</td>\n",
       "      <td>18</td>\n",
       "      <td>Wrong Answer</td>\n",
       "      <td>C</td>\n",
       "      <td>p00001</td>\n",
       "      <td>C</td>\n",
       "      <td>c</td>\n",
       "      <td>loop_operator</td>\n",
       "    </tr>\n",
       "    <tr>\n",
       "      <th>3</th>\n",
       "      <td>s492423182</td>\n",
       "      <td>s993570869</td>\n",
       "      <td>17</td>\n",
       "      <td>c</td>\n",
       "      <td>17</td>\n",
       "      <td>Wrong Answer</td>\n",
       "      <td>C</td>\n",
       "      <td>p00001</td>\n",
       "      <td>C</td>\n",
       "      <td>c</td>\n",
       "      <td>branch_operator</td>\n",
       "    </tr>\n",
       "    <tr>\n",
       "      <th>4</th>\n",
       "      <td>s348894386</td>\n",
       "      <td>s826240749</td>\n",
       "      <td>23</td>\n",
       "      <td>c</td>\n",
       "      <td>23</td>\n",
       "      <td>Wrong Answer</td>\n",
       "      <td>C</td>\n",
       "      <td>p00001</td>\n",
       "      <td>C</td>\n",
       "      <td>c</td>\n",
       "      <td>function_call</td>\n",
       "    </tr>\n",
       "    <tr>\n",
       "      <th>...</th>\n",
       "      <td>...</td>\n",
       "      <td>...</td>\n",
       "      <td>...</td>\n",
       "      <td>...</td>\n",
       "      <td>...</td>\n",
       "      <td>...</td>\n",
       "      <td>...</td>\n",
       "      <td>...</td>\n",
       "      <td>...</td>\n",
       "      <td>...</td>\n",
       "      <td>...</td>\n",
       "    </tr>\n",
       "    <tr>\n",
       "      <th>13155</th>\n",
       "      <td>s701303157</td>\n",
       "      <td>s025536809</td>\n",
       "      <td>21</td>\n",
       "      <td>c</td>\n",
       "      <td>21</td>\n",
       "      <td>WA: Presentation Error</td>\n",
       "      <td>C</td>\n",
       "      <td>p02468</td>\n",
       "      <td>C</td>\n",
       "      <td>c</td>\n",
       "      <td>function_call</td>\n",
       "    </tr>\n",
       "    <tr>\n",
       "      <th>13156</th>\n",
       "      <td>s526548563</td>\n",
       "      <td>s012546496</td>\n",
       "      <td>6</td>\n",
       "      <td>c</td>\n",
       "      <td>6</td>\n",
       "      <td>Wrong Answer</td>\n",
       "      <td>C</td>\n",
       "      <td>p02470</td>\n",
       "      <td>C</td>\n",
       "      <td>c</td>\n",
       "      <td>branch_operator</td>\n",
       "    </tr>\n",
       "    <tr>\n",
       "      <th>13157</th>\n",
       "      <td>s779812410</td>\n",
       "      <td>s356972734</td>\n",
       "      <td>4</td>\n",
       "      <td>c</td>\n",
       "      <td>4</td>\n",
       "      <td>Wrong Answer</td>\n",
       "      <td>C</td>\n",
       "      <td>p02470</td>\n",
       "      <td>C</td>\n",
       "      <td>c</td>\n",
       "      <td>branch_operator</td>\n",
       "    </tr>\n",
       "    <tr>\n",
       "      <th>13158</th>\n",
       "      <td>s745508136</td>\n",
       "      <td>s348213851</td>\n",
       "      <td>2</td>\n",
       "      <td>c</td>\n",
       "      <td>2</td>\n",
       "      <td>Wrong Answer</td>\n",
       "      <td>C</td>\n",
       "      <td>p02470</td>\n",
       "      <td>C</td>\n",
       "      <td>c</td>\n",
       "      <td>loop_operator</td>\n",
       "    </tr>\n",
       "    <tr>\n",
       "      <th>13159</th>\n",
       "      <td>s129487785</td>\n",
       "      <td>s035277455</td>\n",
       "      <td>25</td>\n",
       "      <td>c</td>\n",
       "      <td>25</td>\n",
       "      <td>Wrong Answer</td>\n",
       "      <td>C</td>\n",
       "      <td>p02471</td>\n",
       "      <td>C</td>\n",
       "      <td>c</td>\n",
       "      <td>function_call</td>\n",
       "    </tr>\n",
       "  </tbody>\n",
       "</table>\n",
       "<p>13160 rows × 11 columns</p>\n",
       "</div>"
      ],
      "text/plain": [
       "      original_id  changed_id  original_line diff_op  changed_line  \\\n",
       "0      s152683619  s597068013             13       c            13   \n",
       "1      s044221442  s839825860             17       d            16   \n",
       "2      s186039512  s141089749             18       c            18   \n",
       "3      s492423182  s993570869             17       c            17   \n",
       "4      s348894386  s826240749             23       c            23   \n",
       "...           ...         ...            ...     ...           ...   \n",
       "13155  s701303157  s025536809             21       c            21   \n",
       "13156  s526548563  s012546496              6       c             6   \n",
       "13157  s779812410  s356972734              4       c             4   \n",
       "13158  s745508136  s348213851              2       c             2   \n",
       "13159  s129487785  s035277455             25       c            25   \n",
       "\n",
       "              original_status original_language problem_id language  \\\n",
       "0               Runtime Error                 C     p00001        C   \n",
       "1                Wrong Answer                 C     p00001        C   \n",
       "2                Wrong Answer                 C     p00001        C   \n",
       "3                Wrong Answer                 C     p00001        C   \n",
       "4                Wrong Answer                 C     p00001        C   \n",
       "...                       ...               ...        ...      ...   \n",
       "13155  WA: Presentation Error                 C     p02468        C   \n",
       "13156            Wrong Answer                 C     p02470        C   \n",
       "13157            Wrong Answer                 C     p02470        C   \n",
       "13158            Wrong Answer                 C     p02470        C   \n",
       "13159            Wrong Answer                 C     p02471        C   \n",
       "\n",
       "      filename_ext      token_class  \n",
       "0                c    function_call  \n",
       "1                c    function_call  \n",
       "2                c    loop_operator  \n",
       "3                c  branch_operator  \n",
       "4                c    function_call  \n",
       "...            ...              ...  \n",
       "13155            c    function_call  \n",
       "13156            c  branch_operator  \n",
       "13157            c  branch_operator  \n",
       "13158            c    loop_operator  \n",
       "13159            c    function_call  \n",
       "\n",
       "[13160 rows x 11 columns]"
      ]
     },
     "execution_count": 331,
     "metadata": {},
     "output_type": "execute_result"
    }
   ],
   "source": [
    "if os.path.exists(generated_pairs_cleaned_class_path):\n",
    "    cterr_df = pd.read_csv(generated_pairs_cleaned_class_path)\n",
    "else:\n",
    "    unclass_tokens_ids = []\n",
    "    unclass_tokens_dfs = []\n",
    "\n",
    "    class_tokens = {}\n",
    "\n",
    "    for idx, token_df in tqdm(tokens_dfs.items()):\n",
    "        token_type = get_toknes_class(token_df)\n",
    "\n",
    "        if not token_type:\n",
    "            unclass_tokens_dfs.append(token_df)\n",
    "            unclass_tokens_ids.append(idx)\n",
    "        else:\n",
    "            class_tokens[idx] = token_type\n",
    "\n",
    "    print(f'We have {len(unclass_tokens_dfs)} unclassified instructions out of {len(tokens_dfs.items())}')\n",
    "\n",
    "    cterr_df = cerr_df.drop(unclass_tokens_ids).join(pd.DataFrame.from_dict(class_tokens, orient='index', columns=['token_class']))\n",
    "    cterr_df.to_csv(generated_pairs_cleaned_class_path, index=False)\n",
    "cterr_df"
   ]
  },
  {
   "cell_type": "markdown",
   "id": "4623357d",
   "metadata": {},
   "source": [
    "There are not that many instructions that are unclassified, and most of them have multiple instructions on a single line, so we can drop them, and maybe use them if needed at some point. But for now I will just add the classified instructions to the C runtime error dataframe."
   ]
  },
  {
   "cell_type": "code",
   "execution_count": 309,
   "id": "57866e2a",
   "metadata": {
    "ExecuteTime": {
     "end_time": "2021-12-09T19:25:36.521943Z",
     "start_time": "2021-12-09T19:25:36.511371Z"
    }
   },
   "outputs": [
    {
     "data": {
      "text/plain": [
       "function_call      5930\n",
       "branch_operator    2271\n",
       "loop_operator      1394\n",
       "variable_set       1109\n",
       "variable_def       1086\n",
       "const_def           669\n",
       "return              601\n",
       "break                65\n",
       "function_def         24\n",
       "continue             10\n",
       "include               1\n",
       "Name: token_class, dtype: int64"
      ]
     },
     "execution_count": 309,
     "metadata": {},
     "output_type": "execute_result"
    }
   ],
   "source": [
    "cterr_df['token_class'].value_counts()"
   ]
  },
  {
   "cell_type": "code",
   "execution_count": null,
   "id": "e5f64def",
   "metadata": {},
   "outputs": [],
   "source": []
  }
 ],
 "metadata": {
  "kernelspec": {
   "display_name": "Python 3 (ipykernel)",
   "language": "python",
   "name": "python3"
  },
  "language_info": {
   "codemirror_mode": {
    "name": "ipython",
    "version": 3
   },
   "file_extension": ".py",
   "mimetype": "text/x-python",
   "name": "python",
   "nbconvert_exporter": "python",
   "pygments_lexer": "ipython3",
   "version": "3.9.5"
  }
 },
 "nbformat": 4,
 "nbformat_minor": 5
}
