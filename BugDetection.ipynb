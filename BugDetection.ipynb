{
 "cells": [
  {
   "cell_type": "markdown",
   "id": "daa9d885",
   "metadata": {},
   "source": [
    "# CodeNet Dataset\n",
    "\n",
    "In this notebook I intend to make it very easy to visualize all the necessary information about a specific problem. The base dataset I will be using in this notebook is [CodeNet](https://github.com/IBM/Project_CodeNet) which is a large collection of source files and problem descriptions with metadata. The solutions are written in multiple programming languages (55+ according to the paper) and each problem has multiple submissions. Most of the submissions are written in the six most common languages (C++, Python, Java, C, Ruby, C#). As expected most of the solutions are in C++. One interesting aspect of the dataset is that it includes failed submissions, with various status codes such as Compilation Errors, Runtime Errors, Time Limit Exceeded, Memory Limit Exceeded, etc. This will prove useful since we are looking into bug detection in source code files.\n",
    "\n",
    "Make sure you run `source spt.profile` to create the environment for the tokenizer to work. Also you have to compile the tokenizer from CodeNet.\n",
    "\n",
    "# Table of Contents\n",
    "1. [Download CodeNet](#Download-CodeNet)\n",
    "2. [Missing Values](#Missing-Values)\n",
    "3. [Generate Source Code Pairs](#Generate-Source-Code-Pairs)\n",
    "4. [Clean Source Code Pairs](#Clean-Source-Code-Pairs)\n",
    "5. [Parser Tags Visualization](#Parser-Tags-Visualization)"
   ]
  },
  {
   "cell_type": "code",
   "execution_count": 1,
   "id": "7ae91f92",
   "metadata": {
    "ExecuteTime": {
     "end_time": "2022-01-03T18:12:48.556521Z",
     "start_time": "2022-01-03T18:12:47.571221Z"
    }
   },
   "outputs": [],
   "source": [
    "import parser\n",
    "import codenet\n",
    "\n",
    "import pandas as pd\n",
    "\n",
    "pd.set_option('max_columns', None)\n",
    "\n",
    "input_path = \"../input/\"\n",
    "root_path = input_path + \"Project_CodeNet/\"\n",
    "\n",
    "metadata_path = root_path + \"metadata/\"\n",
    "\n",
    "problem_list_clean_path = input_path + \"problem_list_clean.csv\"\n",
    "generated_pairs_path = input_path + \"generated_pairs.csv\"\n",
    "cleaned_generated_pairs_path = input_path + \"cleaned_generated_pairs.csv\"\n",
    "token_class_generated_pairs_path = input_path + \"token_class_generated_pairs.csv\""
   ]
  },
  {
   "cell_type": "markdown",
   "id": "fde8520f",
   "metadata": {},
   "source": [
    "## Download CodeNet\n",
    "\n",
    "The next code cell will download the CodeNet dataset from it's original repository (the archive has around 80GB). If you already have the dataset change the input_path variable to point to the root of the dataset, otherwise the notebook will download it in the ../input/ directory."
   ]
  },
  {
   "cell_type": "code",
   "execution_count": 2,
   "id": "3c2183ef",
   "metadata": {
    "ExecuteTime": {
     "end_time": "2021-12-14T18:59:25.638429Z",
     "start_time": "2021-12-14T18:59:25.628463Z"
    },
    "deletable": false,
    "editable": false,
    "run_control": {
     "frozen": true
    }
   },
   "outputs": [
    {
     "name": "stdout",
     "output_type": "stream",
     "text": [
      "dataset root dir found\n"
     ]
    }
   ],
   "source": [
    "codenet.download_data()"
   ]
  },
  {
   "cell_type": "markdown",
   "id": "f374a417",
   "metadata": {},
   "source": [
    "## Missing Values"
   ]
  },
  {
   "cell_type": "markdown",
   "id": "0d4978e3",
   "metadata": {},
   "source": [
    "The dataset also includes a description file for most of the problems. We can see which problems have or don't have a description associated. The description file can be useful to predict what the problem topic is about, graphs, dp, greedy, etc.\n",
    "\n",
    "In the case of missing input files, I think it is also better to just drop the submissions, most of the description files are written in Chinese and we cannot really extract any useful information from them. Since there are so few files with no input we can drop them. By looking in the description files there are like 2 problems with no input from the stdin.\n",
    "\n",
    "To conclude the missing values section, 54/56 of the missing names in the problems list are due to missing description files 1/56 is just a href which links to a 404 web page and the last one is a test problem, the later 2 problems having no submissions anyway. I think it is a fair decision to drop these samples as they are not useful. There will be 130 remaining problems with no input/output samples and 128 of them have description files in Chinese which makes it harder to extract samples, and 2 of them only require printing of values (similar to problem p00000). In this case I also think that it is ok to drop those 2 problems that don't need input alongside the rest of problems that have no input examples extracted, because we don't have to remember that there is one or two problems that can cause some bugs later on."
   ]
  },
  {
   "cell_type": "code",
   "execution_count": 8,
   "id": "d7278b69",
   "metadata": {
    "ExecuteTime": {
     "end_time": "2021-12-14T19:02:34.430959Z",
     "start_time": "2021-12-14T19:02:34.357689Z"
    },
    "deletable": false,
    "editable": false,
    "run_control": {
     "frozen": true
    }
   },
   "outputs": [
    {
     "name": "stdout",
     "output_type": "stream",
     "text": [
      "Cleaning ../input/Project_CodeNet/metadata/problem_list.csv\n"
     ]
    }
   ],
   "source": [
    "problem_list_df = pd.read_csv(metadata_path + 'problem_list.csv', index_col=\"id\")\n",
    "problem_list_df = codenet.clean_problem_list(problem_list_df)\n",
    "problem_list_df.to_csv(problem_list_clean_path)"
   ]
  },
  {
   "cell_type": "code",
   "execution_count": 2,
   "id": "9f062f4f",
   "metadata": {
    "ExecuteTime": {
     "end_time": "2022-01-03T18:12:48.595639Z",
     "start_time": "2022-01-03T18:12:48.557758Z"
    }
   },
   "outputs": [
    {
     "name": "stdout",
     "output_type": "stream",
     "text": [
      "We have 3867 problems\n",
      "The distribution of the datasets is\n",
      "AIZU       0.613654\n",
      "AtCoder    0.386346\n",
      "Name: dataset, dtype: float64\n"
     ]
    },
    {
     "data": {
      "text/html": [
       "<div>\n",
       "<style scoped>\n",
       "    .dataframe tbody tr th:only-of-type {\n",
       "        vertical-align: middle;\n",
       "    }\n",
       "\n",
       "    .dataframe tbody tr th {\n",
       "        vertical-align: top;\n",
       "    }\n",
       "\n",
       "    .dataframe thead th {\n",
       "        text-align: right;\n",
       "    }\n",
       "</style>\n",
       "<table border=\"1\" class=\"dataframe\">\n",
       "  <thead>\n",
       "    <tr style=\"text-align: right;\">\n",
       "      <th></th>\n",
       "      <th>name</th>\n",
       "      <th>dataset</th>\n",
       "      <th>time_limit</th>\n",
       "      <th>memory_limit</th>\n",
       "      <th>rating</th>\n",
       "      <th>tags</th>\n",
       "      <th>complexity</th>\n",
       "    </tr>\n",
       "    <tr>\n",
       "      <th>id</th>\n",
       "      <th></th>\n",
       "      <th></th>\n",
       "      <th></th>\n",
       "      <th></th>\n",
       "      <th></th>\n",
       "      <th></th>\n",
       "      <th></th>\n",
       "    </tr>\n",
       "  </thead>\n",
       "  <tbody>\n",
       "    <tr>\n",
       "      <th>p00001</th>\n",
       "      <td>List of Top 3 Hills</td>\n",
       "      <td>AIZU</td>\n",
       "      <td>1000.0</td>\n",
       "      <td>131072.0</td>\n",
       "      <td>NaN</td>\n",
       "      <td>NaN</td>\n",
       "      <td>NaN</td>\n",
       "    </tr>\n",
       "    <tr>\n",
       "      <th>p00002</th>\n",
       "      <td>Digit Number</td>\n",
       "      <td>AIZU</td>\n",
       "      <td>1000.0</td>\n",
       "      <td>131072.0</td>\n",
       "      <td>NaN</td>\n",
       "      <td>NaN</td>\n",
       "      <td>NaN</td>\n",
       "    </tr>\n",
       "    <tr>\n",
       "      <th>p00003</th>\n",
       "      <td>Is it a Right Triangle?</td>\n",
       "      <td>AIZU</td>\n",
       "      <td>1000.0</td>\n",
       "      <td>131072.0</td>\n",
       "      <td>NaN</td>\n",
       "      <td>NaN</td>\n",
       "      <td>NaN</td>\n",
       "    </tr>\n",
       "    <tr>\n",
       "      <th>p00004</th>\n",
       "      <td>Simultaneous Equation</td>\n",
       "      <td>AIZU</td>\n",
       "      <td>1000.0</td>\n",
       "      <td>131072.0</td>\n",
       "      <td>NaN</td>\n",
       "      <td>NaN</td>\n",
       "      <td>NaN</td>\n",
       "    </tr>\n",
       "    <tr>\n",
       "      <th>p00005</th>\n",
       "      <td>GCD and LCM</td>\n",
       "      <td>AIZU</td>\n",
       "      <td>1000.0</td>\n",
       "      <td>131072.0</td>\n",
       "      <td>NaN</td>\n",
       "      <td>NaN</td>\n",
       "      <td>NaN</td>\n",
       "    </tr>\n",
       "  </tbody>\n",
       "</table>\n",
       "</div>"
      ],
      "text/plain": [
       "                           name dataset  time_limit  memory_limit  rating  \\\n",
       "id                                                                          \n",
       "p00001      List of Top 3 Hills    AIZU      1000.0      131072.0     NaN   \n",
       "p00002             Digit Number    AIZU      1000.0      131072.0     NaN   \n",
       "p00003  Is it a Right Triangle?    AIZU      1000.0      131072.0     NaN   \n",
       "p00004    Simultaneous Equation    AIZU      1000.0      131072.0     NaN   \n",
       "p00005              GCD and LCM    AIZU      1000.0      131072.0     NaN   \n",
       "\n",
       "        tags  complexity  \n",
       "id                        \n",
       "p00001   NaN         NaN  \n",
       "p00002   NaN         NaN  \n",
       "p00003   NaN         NaN  \n",
       "p00004   NaN         NaN  \n",
       "p00005   NaN         NaN  "
      ]
     },
     "metadata": {},
     "output_type": "display_data"
    },
    {
     "data": {
      "text/plain": [
       "name               0\n",
       "dataset            0\n",
       "time_limit         0\n",
       "memory_limit       0\n",
       "rating          3867\n",
       "tags            3867\n",
       "complexity      3867\n",
       "dtype: int64"
      ]
     },
     "metadata": {},
     "output_type": "display_data"
    }
   ],
   "source": [
    "problem_list_df = pd.read_csv(problem_list_clean_path, index_col=\"id\")\n",
    "problem_ids = problem_list_df.index.unique()\n",
    "\n",
    "print(f\"We have {len(problem_list_df)} problems\")\n",
    "print('The distribution of the datasets is')\n",
    "print(problem_list_df['dataset'].value_counts(normalize=True))\n",
    "display(problem_list_df.head())\n",
    "display(problem_list_df.isna().sum())"
   ]
  },
  {
   "cell_type": "markdown",
   "id": "68a75250",
   "metadata": {},
   "source": [
    "## Generate Source Code Pairs\n",
    "- for each problem:\n",
    "- group solutions by user and select the solutions that are consecutive and of the form (Error, Accepted) with only one instruction (line) changed; heuristic to search a smaller space, since a user might submit a correct solution after a wrong one\n",
    "- get the diff lines the diff operation (add, delete, change) and error type\n",
    "- build a df from this list and save it\n",
    "- sanity check: check that the error types of this df are the same as the types in the problem metadata: Success\n",
    "- done\n",
    "\n",
    "Up until this point we played around with single files and checked the looked at how we can load the source code from the dataset. In this section we will see how we can get the diff between source code files and more specifically the instruction (given by the line in the file) that caused a problem."
   ]
  },
  {
   "cell_type": "code",
   "execution_count": null,
   "id": "3de7a9d9",
   "metadata": {
    "deletable": false,
    "editable": false,
    "run_control": {
     "frozen": true
    }
   },
   "outputs": [],
   "source": [
    "generated_pairs_df = codenet.generate_pairs(problem_list_df)\n",
    "generated_pairs_df.to_csv(generated_pairs_path, index=False)"
   ]
  },
  {
   "cell_type": "code",
   "execution_count": 3,
   "id": "5fbe9816",
   "metadata": {
    "ExecuteTime": {
     "end_time": "2022-01-03T18:12:48.701542Z",
     "start_time": "2022-01-03T18:12:48.597406Z"
    }
   },
   "outputs": [
    {
     "data": {
      "text/html": [
       "<div>\n",
       "<style scoped>\n",
       "    .dataframe tbody tr th:only-of-type {\n",
       "        vertical-align: middle;\n",
       "    }\n",
       "\n",
       "    .dataframe tbody tr th {\n",
       "        vertical-align: top;\n",
       "    }\n",
       "\n",
       "    .dataframe thead th {\n",
       "        text-align: right;\n",
       "    }\n",
       "</style>\n",
       "<table border=\"1\" class=\"dataframe\">\n",
       "  <thead>\n",
       "    <tr style=\"text-align: right;\">\n",
       "      <th></th>\n",
       "      <th>original_id</th>\n",
       "      <th>changed_id</th>\n",
       "      <th>original_line</th>\n",
       "      <th>diff_op</th>\n",
       "      <th>changed_line</th>\n",
       "      <th>original_status</th>\n",
       "      <th>original_language</th>\n",
       "      <th>problem_id</th>\n",
       "      <th>language</th>\n",
       "      <th>filename_ext</th>\n",
       "    </tr>\n",
       "  </thead>\n",
       "  <tbody>\n",
       "    <tr>\n",
       "      <th>0</th>\n",
       "      <td>s000088266</td>\n",
       "      <td>s609532420</td>\n",
       "      <td>8</td>\n",
       "      <td>c</td>\n",
       "      <td>8</td>\n",
       "      <td>Wrong Answer</td>\n",
       "      <td>C</td>\n",
       "      <td>p02392</td>\n",
       "      <td>C</td>\n",
       "      <td>c</td>\n",
       "    </tr>\n",
       "    <tr>\n",
       "      <th>1</th>\n",
       "      <td>s000103279</td>\n",
       "      <td>s107821968</td>\n",
       "      <td>16</td>\n",
       "      <td>c</td>\n",
       "      <td>16</td>\n",
       "      <td>Time Limit Exceeded</td>\n",
       "      <td>C</td>\n",
       "      <td>p00017</td>\n",
       "      <td>C</td>\n",
       "      <td>c</td>\n",
       "    </tr>\n",
       "    <tr>\n",
       "      <th>2</th>\n",
       "      <td>s000134983</td>\n",
       "      <td>s025451182</td>\n",
       "      <td>8</td>\n",
       "      <td>d</td>\n",
       "      <td>7</td>\n",
       "      <td>Wrong Answer</td>\n",
       "      <td>C</td>\n",
       "      <td>p02694</td>\n",
       "      <td>C</td>\n",
       "      <td>c</td>\n",
       "    </tr>\n",
       "    <tr>\n",
       "      <th>3</th>\n",
       "      <td>s000150407</td>\n",
       "      <td>s325747983</td>\n",
       "      <td>18</td>\n",
       "      <td>c</td>\n",
       "      <td>18</td>\n",
       "      <td>Wrong Answer</td>\n",
       "      <td>C</td>\n",
       "      <td>p02258</td>\n",
       "      <td>C</td>\n",
       "      <td>c</td>\n",
       "    </tr>\n",
       "    <tr>\n",
       "      <th>4</th>\n",
       "      <td>s000173494</td>\n",
       "      <td>s918627271</td>\n",
       "      <td>6</td>\n",
       "      <td>c</td>\n",
       "      <td>6</td>\n",
       "      <td>Wrong Answer</td>\n",
       "      <td>C</td>\n",
       "      <td>p02415</td>\n",
       "      <td>C</td>\n",
       "      <td>c</td>\n",
       "    </tr>\n",
       "    <tr>\n",
       "      <th>...</th>\n",
       "      <td>...</td>\n",
       "      <td>...</td>\n",
       "      <td>...</td>\n",
       "      <td>...</td>\n",
       "      <td>...</td>\n",
       "      <td>...</td>\n",
       "      <td>...</td>\n",
       "      <td>...</td>\n",
       "      <td>...</td>\n",
       "      <td>...</td>\n",
       "    </tr>\n",
       "    <tr>\n",
       "      <th>25490</th>\n",
       "      <td>s999918666</td>\n",
       "      <td>s390104290</td>\n",
       "      <td>1</td>\n",
       "      <td>c</td>\n",
       "      <td>1</td>\n",
       "      <td>Runtime Error</td>\n",
       "      <td>C</td>\n",
       "      <td>p03134</td>\n",
       "      <td>C</td>\n",
       "      <td>c</td>\n",
       "    </tr>\n",
       "    <tr>\n",
       "      <th>25491</th>\n",
       "      <td>s999923152</td>\n",
       "      <td>s735413884</td>\n",
       "      <td>11</td>\n",
       "      <td>c</td>\n",
       "      <td>11</td>\n",
       "      <td>Wrong Answer</td>\n",
       "      <td>C</td>\n",
       "      <td>p00014</td>\n",
       "      <td>C</td>\n",
       "      <td>c</td>\n",
       "    </tr>\n",
       "    <tr>\n",
       "      <th>25492</th>\n",
       "      <td>s999951931</td>\n",
       "      <td>s536625431</td>\n",
       "      <td>8</td>\n",
       "      <td>c</td>\n",
       "      <td>8</td>\n",
       "      <td>Wrong Answer</td>\n",
       "      <td>C</td>\n",
       "      <td>p02990</td>\n",
       "      <td>C</td>\n",
       "      <td>c</td>\n",
       "    </tr>\n",
       "    <tr>\n",
       "      <th>25493</th>\n",
       "      <td>s999971044</td>\n",
       "      <td>s120806942</td>\n",
       "      <td>5</td>\n",
       "      <td>c</td>\n",
       "      <td>5</td>\n",
       "      <td>Wrong Answer</td>\n",
       "      <td>C</td>\n",
       "      <td>p00252</td>\n",
       "      <td>C</td>\n",
       "      <td>c</td>\n",
       "    </tr>\n",
       "    <tr>\n",
       "      <th>25494</th>\n",
       "      <td>s999973437</td>\n",
       "      <td>s999081065</td>\n",
       "      <td>24</td>\n",
       "      <td>c</td>\n",
       "      <td>24</td>\n",
       "      <td>Wrong Answer</td>\n",
       "      <td>C</td>\n",
       "      <td>p02921</td>\n",
       "      <td>C</td>\n",
       "      <td>c</td>\n",
       "    </tr>\n",
       "  </tbody>\n",
       "</table>\n",
       "<p>25495 rows × 10 columns</p>\n",
       "</div>"
      ],
      "text/plain": [
       "      original_id  changed_id  original_line diff_op  changed_line  \\\n",
       "0      s000088266  s609532420              8       c             8   \n",
       "1      s000103279  s107821968             16       c            16   \n",
       "2      s000134983  s025451182              8       d             7   \n",
       "3      s000150407  s325747983             18       c            18   \n",
       "4      s000173494  s918627271              6       c             6   \n",
       "...           ...         ...            ...     ...           ...   \n",
       "25490  s999918666  s390104290              1       c             1   \n",
       "25491  s999923152  s735413884             11       c            11   \n",
       "25492  s999951931  s536625431              8       c             8   \n",
       "25493  s999971044  s120806942              5       c             5   \n",
       "25494  s999973437  s999081065             24       c            24   \n",
       "\n",
       "           original_status original_language problem_id language filename_ext  \n",
       "0             Wrong Answer                 C     p02392        C            c  \n",
       "1      Time Limit Exceeded                 C     p00017        C            c  \n",
       "2             Wrong Answer                 C     p02694        C            c  \n",
       "3             Wrong Answer                 C     p02258        C            c  \n",
       "4             Wrong Answer                 C     p02415        C            c  \n",
       "...                    ...               ...        ...      ...          ...  \n",
       "25490        Runtime Error                 C     p03134        C            c  \n",
       "25491         Wrong Answer                 C     p00014        C            c  \n",
       "25492         Wrong Answer                 C     p02990        C            c  \n",
       "25493         Wrong Answer                 C     p00252        C            c  \n",
       "25494         Wrong Answer                 C     p02921        C            c  \n",
       "\n",
       "[25495 rows x 10 columns]"
      ]
     },
     "metadata": {},
     "output_type": "display_data"
    },
    {
     "name": "stdout",
     "output_type": "stream",
     "text": [
      "<class 'pandas.core.frame.DataFrame'>\n",
      "RangeIndex: 25495 entries, 0 to 25494\n",
      "Data columns (total 10 columns):\n",
      " #   Column             Non-Null Count  Dtype \n",
      "---  ------             --------------  ----- \n",
      " 0   original_id        25495 non-null  object\n",
      " 1   changed_id         25495 non-null  object\n",
      " 2   original_line      25495 non-null  int64 \n",
      " 3   diff_op            25495 non-null  object\n",
      " 4   changed_line       25495 non-null  int64 \n",
      " 5   original_status    25495 non-null  object\n",
      " 6   original_language  25495 non-null  object\n",
      " 7   problem_id         25495 non-null  object\n",
      " 8   language           25495 non-null  object\n",
      " 9   filename_ext       25495 non-null  object\n",
      "dtypes: int64(2), object(8)\n",
      "memory usage: 1.9+ MB\n"
     ]
    },
    {
     "data": {
      "text/plain": [
       "None"
      ]
     },
     "metadata": {},
     "output_type": "display_data"
    },
    {
     "data": {
      "text/plain": [
       "C    25495\n",
       "Name: language, dtype: int64"
      ]
     },
     "metadata": {},
     "output_type": "display_data"
    },
    {
     "data": {
      "text/plain": [
       "Wrong Answer              17990\n",
       "Runtime Error              3614\n",
       "WA: Presentation Error     3266\n",
       "Time Limit Exceeded         587\n",
       "Memory Limit Exceeded        28\n",
       "Output Limit Exceeded        10\n",
       "Name: original_status, dtype: int64"
      ]
     },
     "metadata": {},
     "output_type": "display_data"
    },
    {
     "name": "stdout",
     "output_type": "stream",
     "text": [
      "We are left with 25495 submissions in total\n"
     ]
    }
   ],
   "source": [
    "generated_pairs_df = pd.read_csv(generated_pairs_path)\n",
    "\n",
    "display(generated_pairs_df)\n",
    "display(generated_pairs_df.info())\n",
    "display(generated_pairs_df.language.value_counts())\n",
    "display(generated_pairs_df.original_status.value_counts())\n",
    "\n",
    "print(f\"We are left with {len(generated_pairs_df)} submissions in total\")"
   ]
  },
  {
   "cell_type": "markdown",
   "id": "cd86a189",
   "metadata": {},
   "source": [
    "So we can see that after running this preprocessing function on all the problems we are left with 100,000 samples of pairs of source code files of the form (error, successful) for all the languages in the dataset. We will have to analyze the source code files that we obtained and make sure they are well suited for being tokenized and used in a machine learning algorithm. Now the error messages that are provided in this dataset don't look that useful, so in the next steps I will attempt to improve the error messages by running the source code on sample inputs or using compilers, code check tools etc."
   ]
  },
  {
   "cell_type": "markdown",
   "id": "fa1d27f2",
   "metadata": {},
   "source": [
    "## Clean Source Code Pairs\n",
    "- for each problem in the :\n",
    "- drop the submissions with compile error status, we are only interested in runtime errors\n",
    "- group solutions by user and select the solutions that are consecutive and of the form (Error, Accepted) with only one instruction changed; heuristic to search a smaller space, since a user might submit a correct solution after a wrong one\n",
    "- use the AST Tokenizer for C, C++, Java and Python to generate the tokens for each pair of submission files\n",
    "- use an edit distance algorithm to detect the diff between the two submissions and save the information\n",
    "- build a df from this list and save it\n",
    "\n",
    "Up until this point we played around with single files and checked the looked at how we can load the source code from the dataset. In this section we will see how we can get the diff between source code files and more specifically the instruction (given by the line, token, in the file) that caused a problem."
   ]
  },
  {
   "cell_type": "markdown",
   "id": "6a363fdf",
   "metadata": {},
   "source": [
    "One interesting aspect here is how many users sent more than one submission and also have submissions of the form (failed, accepted) and have only one instruction changed so that we can understand what change made their code work. To do this we need to first split each source file into tokens and then implement a function that computes the edit distance and the get_opcodes of the two tokens lists. Luckily the CodeNet repository contains a tool written in Java that can tokenize correct source code (only C, C++, Java and Python), meaning that we have to drop compilation errors, which are not that interesting for this subject anyway. Then to compute the op_codes for the edit distance we can use the difflib SequenceMatcher class from Python.\n",
    "\n",
    "Some notes:\n",
    "- The C Tokenizer needs to delete the include statements, so they might be shifted in the file"
   ]
  },
  {
   "cell_type": "code",
   "execution_count": null,
   "id": "8fb410b2",
   "metadata": {
    "deletable": false,
    "editable": false,
    "run_control": {
     "frozen": true
    }
   },
   "outputs": [],
   "source": [
    "generated_pairs_df = clean_genereated_pairs(generated_pairs_df)\n",
    "generated_pairs_df.to_csv(cleaned_generated_pairs_path, index=False)"
   ]
  },
  {
   "cell_type": "code",
   "execution_count": 4,
   "id": "87f7739a",
   "metadata": {
    "ExecuteTime": {
     "end_time": "2022-01-03T18:12:49.073830Z",
     "start_time": "2022-01-03T18:12:48.702795Z"
    }
   },
   "outputs": [
    {
     "data": {
      "text/html": [
       "<div>\n",
       "<style scoped>\n",
       "    .dataframe tbody tr th:only-of-type {\n",
       "        vertical-align: middle;\n",
       "    }\n",
       "\n",
       "    .dataframe tbody tr th {\n",
       "        vertical-align: top;\n",
       "    }\n",
       "\n",
       "    .dataframe thead th {\n",
       "        text-align: right;\n",
       "    }\n",
       "</style>\n",
       "<table border=\"1\" class=\"dataframe\">\n",
       "  <thead>\n",
       "    <tr style=\"text-align: right;\">\n",
       "      <th></th>\n",
       "      <th>seqnr</th>\n",
       "      <th>start_x</th>\n",
       "      <th>stop_x</th>\n",
       "      <th>text_x</th>\n",
       "      <th>class_x</th>\n",
       "      <th>channel_x</th>\n",
       "      <th>line_x</th>\n",
       "      <th>column_x</th>\n",
       "      <th>start_y</th>\n",
       "      <th>stop_y</th>\n",
       "      <th>text_y</th>\n",
       "      <th>class_y</th>\n",
       "      <th>channel_y</th>\n",
       "      <th>line_y</th>\n",
       "      <th>column_y</th>\n",
       "      <th>tag</th>\n",
       "      <th>problem_id</th>\n",
       "      <th>original_id</th>\n",
       "      <th>changed_id</th>\n",
       "      <th>language</th>\n",
       "      <th>extension</th>\n",
       "      <th>original_language</th>\n",
       "      <th>original_status</th>\n",
       "    </tr>\n",
       "  </thead>\n",
       "  <tbody>\n",
       "    <tr>\n",
       "      <th>0</th>\n",
       "      <td>38</td>\n",
       "      <td>73.0</td>\n",
       "      <td>78.0</td>\n",
       "      <td>printf</td>\n",
       "      <td>identifier</td>\n",
       "      <td>0.0</td>\n",
       "      <td>8.0</td>\n",
       "      <td>1.0</td>\n",
       "      <td>NaN</td>\n",
       "      <td>NaN</td>\n",
       "      <td>NaN</td>\n",
       "      <td>NaN</td>\n",
       "      <td>NaN</td>\n",
       "      <td>NaN</td>\n",
       "      <td>NaN</td>\n",
       "      <td>delete</td>\n",
       "      <td>p03260</td>\n",
       "      <td>s000972575</td>\n",
       "      <td>s938269052</td>\n",
       "      <td>C</td>\n",
       "      <td>c</td>\n",
       "      <td>C</td>\n",
       "      <td>Wrong Answer</td>\n",
       "    </tr>\n",
       "    <tr>\n",
       "      <th>1</th>\n",
       "      <td>39</td>\n",
       "      <td>79.0</td>\n",
       "      <td>79.0</td>\n",
       "      <td>(</td>\n",
       "      <td>punctuator</td>\n",
       "      <td>0.0</td>\n",
       "      <td>8.0</td>\n",
       "      <td>7.0</td>\n",
       "      <td>NaN</td>\n",
       "      <td>NaN</td>\n",
       "      <td>NaN</td>\n",
       "      <td>NaN</td>\n",
       "      <td>NaN</td>\n",
       "      <td>NaN</td>\n",
       "      <td>NaN</td>\n",
       "      <td>delete</td>\n",
       "      <td>p03260</td>\n",
       "      <td>s000972575</td>\n",
       "      <td>s938269052</td>\n",
       "      <td>C</td>\n",
       "      <td>c</td>\n",
       "      <td>C</td>\n",
       "      <td>Wrong Answer</td>\n",
       "    </tr>\n",
       "    <tr>\n",
       "      <th>2</th>\n",
       "      <td>40</td>\n",
       "      <td>80.0</td>\n",
       "      <td>92.0</td>\n",
       "      <td>\"%d %d %d %d\"</td>\n",
       "      <td>stringliteral</td>\n",
       "      <td>0.0</td>\n",
       "      <td>8.0</td>\n",
       "      <td>8.0</td>\n",
       "      <td>NaN</td>\n",
       "      <td>NaN</td>\n",
       "      <td>NaN</td>\n",
       "      <td>NaN</td>\n",
       "      <td>NaN</td>\n",
       "      <td>NaN</td>\n",
       "      <td>NaN</td>\n",
       "      <td>delete</td>\n",
       "      <td>p03260</td>\n",
       "      <td>s000972575</td>\n",
       "      <td>s938269052</td>\n",
       "      <td>C</td>\n",
       "      <td>c</td>\n",
       "      <td>C</td>\n",
       "      <td>Wrong Answer</td>\n",
       "    </tr>\n",
       "    <tr>\n",
       "      <th>3</th>\n",
       "      <td>41</td>\n",
       "      <td>93.0</td>\n",
       "      <td>93.0</td>\n",
       "      <td>,</td>\n",
       "      <td>punctuator</td>\n",
       "      <td>0.0</td>\n",
       "      <td>8.0</td>\n",
       "      <td>21.0</td>\n",
       "      <td>NaN</td>\n",
       "      <td>NaN</td>\n",
       "      <td>NaN</td>\n",
       "      <td>NaN</td>\n",
       "      <td>NaN</td>\n",
       "      <td>NaN</td>\n",
       "      <td>NaN</td>\n",
       "      <td>delete</td>\n",
       "      <td>p03260</td>\n",
       "      <td>s000972575</td>\n",
       "      <td>s938269052</td>\n",
       "      <td>C</td>\n",
       "      <td>c</td>\n",
       "      <td>C</td>\n",
       "      <td>Wrong Answer</td>\n",
       "    </tr>\n",
       "    <tr>\n",
       "      <th>4</th>\n",
       "      <td>42</td>\n",
       "      <td>94.0</td>\n",
       "      <td>94.0</td>\n",
       "      <td>A</td>\n",
       "      <td>identifier</td>\n",
       "      <td>0.0</td>\n",
       "      <td>8.0</td>\n",
       "      <td>22.0</td>\n",
       "      <td>NaN</td>\n",
       "      <td>NaN</td>\n",
       "      <td>NaN</td>\n",
       "      <td>NaN</td>\n",
       "      <td>NaN</td>\n",
       "      <td>NaN</td>\n",
       "      <td>NaN</td>\n",
       "      <td>delete</td>\n",
       "      <td>p03260</td>\n",
       "      <td>s000972575</td>\n",
       "      <td>s938269052</td>\n",
       "      <td>C</td>\n",
       "      <td>c</td>\n",
       "      <td>C</td>\n",
       "      <td>Wrong Answer</td>\n",
       "    </tr>\n",
       "    <tr>\n",
       "      <th>...</th>\n",
       "      <td>...</td>\n",
       "      <td>...</td>\n",
       "      <td>...</td>\n",
       "      <td>...</td>\n",
       "      <td>...</td>\n",
       "      <td>...</td>\n",
       "      <td>...</td>\n",
       "      <td>...</td>\n",
       "      <td>...</td>\n",
       "      <td>...</td>\n",
       "      <td>...</td>\n",
       "      <td>...</td>\n",
       "      <td>...</td>\n",
       "      <td>...</td>\n",
       "      <td>...</td>\n",
       "      <td>...</td>\n",
       "      <td>...</td>\n",
       "      <td>...</td>\n",
       "      <td>...</td>\n",
       "      <td>...</td>\n",
       "      <td>...</td>\n",
       "      <td>...</td>\n",
       "      <td>...</td>\n",
       "    </tr>\n",
       "    <tr>\n",
       "      <th>60478</th>\n",
       "      <td>64</td>\n",
       "      <td>174.0</td>\n",
       "      <td>177.0</td>\n",
       "      <td>temp</td>\n",
       "      <td>identifier</td>\n",
       "      <td>0.0</td>\n",
       "      <td>5.0</td>\n",
       "      <td>27.0</td>\n",
       "      <td>174.0</td>\n",
       "      <td>174.0</td>\n",
       "      <td>*</td>\n",
       "      <td>punctuator</td>\n",
       "      <td>0.0</td>\n",
       "      <td>5.0</td>\n",
       "      <td>27.0</td>\n",
       "      <td>replace</td>\n",
       "      <td>p02990</td>\n",
       "      <td>s999951931</td>\n",
       "      <td>s536625431</td>\n",
       "      <td>C</td>\n",
       "      <td>c</td>\n",
       "      <td>C</td>\n",
       "      <td>Wrong Answer</td>\n",
       "    </tr>\n",
       "    <tr>\n",
       "      <th>60479</th>\n",
       "      <td>65</td>\n",
       "      <td>NaN</td>\n",
       "      <td>NaN</td>\n",
       "      <td>NaN</td>\n",
       "      <td>NaN</td>\n",
       "      <td>NaN</td>\n",
       "      <td>NaN</td>\n",
       "      <td>NaN</td>\n",
       "      <td>175.0</td>\n",
       "      <td>178.0</td>\n",
       "      <td>temp</td>\n",
       "      <td>identifier</td>\n",
       "      <td>0.0</td>\n",
       "      <td>5.0</td>\n",
       "      <td>28.0</td>\n",
       "      <td>replace</td>\n",
       "      <td>p02990</td>\n",
       "      <td>s999951931</td>\n",
       "      <td>s536625431</td>\n",
       "      <td>C</td>\n",
       "      <td>c</td>\n",
       "      <td>C</td>\n",
       "      <td>Wrong Answer</td>\n",
       "    </tr>\n",
       "    <tr>\n",
       "      <th>60480</th>\n",
       "      <td>66</td>\n",
       "      <td>NaN</td>\n",
       "      <td>NaN</td>\n",
       "      <td>NaN</td>\n",
       "      <td>NaN</td>\n",
       "      <td>NaN</td>\n",
       "      <td>NaN</td>\n",
       "      <td>NaN</td>\n",
       "      <td>179.0</td>\n",
       "      <td>179.0</td>\n",
       "      <td>%</td>\n",
       "      <td>punctuator</td>\n",
       "      <td>0.0</td>\n",
       "      <td>5.0</td>\n",
       "      <td>32.0</td>\n",
       "      <td>replace</td>\n",
       "      <td>p02990</td>\n",
       "      <td>s999951931</td>\n",
       "      <td>s536625431</td>\n",
       "      <td>C</td>\n",
       "      <td>c</td>\n",
       "      <td>C</td>\n",
       "      <td>Wrong Answer</td>\n",
       "    </tr>\n",
       "    <tr>\n",
       "      <th>60481</th>\n",
       "      <td>67</td>\n",
       "      <td>NaN</td>\n",
       "      <td>NaN</td>\n",
       "      <td>NaN</td>\n",
       "      <td>NaN</td>\n",
       "      <td>NaN</td>\n",
       "      <td>NaN</td>\n",
       "      <td>NaN</td>\n",
       "      <td>180.0</td>\n",
       "      <td>180.0</td>\n",
       "      <td>M</td>\n",
       "      <td>identifier</td>\n",
       "      <td>0.0</td>\n",
       "      <td>5.0</td>\n",
       "      <td>33.0</td>\n",
       "      <td>replace</td>\n",
       "      <td>p02990</td>\n",
       "      <td>s999951931</td>\n",
       "      <td>s536625431</td>\n",
       "      <td>C</td>\n",
       "      <td>c</td>\n",
       "      <td>C</td>\n",
       "      <td>Wrong Answer</td>\n",
       "    </tr>\n",
       "    <tr>\n",
       "      <th>60482</th>\n",
       "      <td>68</td>\n",
       "      <td>NaN</td>\n",
       "      <td>NaN</td>\n",
       "      <td>NaN</td>\n",
       "      <td>NaN</td>\n",
       "      <td>NaN</td>\n",
       "      <td>NaN</td>\n",
       "      <td>NaN</td>\n",
       "      <td>181.0</td>\n",
       "      <td>181.0</td>\n",
       "      <td>)</td>\n",
       "      <td>punctuator</td>\n",
       "      <td>0.0</td>\n",
       "      <td>5.0</td>\n",
       "      <td>34.0</td>\n",
       "      <td>replace</td>\n",
       "      <td>p02990</td>\n",
       "      <td>s999951931</td>\n",
       "      <td>s536625431</td>\n",
       "      <td>C</td>\n",
       "      <td>c</td>\n",
       "      <td>C</td>\n",
       "      <td>Wrong Answer</td>\n",
       "    </tr>\n",
       "  </tbody>\n",
       "</table>\n",
       "<p>60483 rows × 23 columns</p>\n",
       "</div>"
      ],
      "text/plain": [
       "       seqnr  start_x  stop_x         text_x        class_x  channel_x  \\\n",
       "0         38     73.0    78.0         printf     identifier        0.0   \n",
       "1         39     79.0    79.0              (     punctuator        0.0   \n",
       "2         40     80.0    92.0  \"%d %d %d %d\"  stringliteral        0.0   \n",
       "3         41     93.0    93.0              ,     punctuator        0.0   \n",
       "4         42     94.0    94.0              A     identifier        0.0   \n",
       "...      ...      ...     ...            ...            ...        ...   \n",
       "60478     64    174.0   177.0           temp     identifier        0.0   \n",
       "60479     65      NaN     NaN            NaN            NaN        NaN   \n",
       "60480     66      NaN     NaN            NaN            NaN        NaN   \n",
       "60481     67      NaN     NaN            NaN            NaN        NaN   \n",
       "60482     68      NaN     NaN            NaN            NaN        NaN   \n",
       "\n",
       "       line_x  column_x  start_y  stop_y text_y     class_y  channel_y  \\\n",
       "0         8.0       1.0      NaN     NaN    NaN         NaN        NaN   \n",
       "1         8.0       7.0      NaN     NaN    NaN         NaN        NaN   \n",
       "2         8.0       8.0      NaN     NaN    NaN         NaN        NaN   \n",
       "3         8.0      21.0      NaN     NaN    NaN         NaN        NaN   \n",
       "4         8.0      22.0      NaN     NaN    NaN         NaN        NaN   \n",
       "...       ...       ...      ...     ...    ...         ...        ...   \n",
       "60478     5.0      27.0    174.0   174.0      *  punctuator        0.0   \n",
       "60479     NaN       NaN    175.0   178.0   temp  identifier        0.0   \n",
       "60480     NaN       NaN    179.0   179.0      %  punctuator        0.0   \n",
       "60481     NaN       NaN    180.0   180.0      M  identifier        0.0   \n",
       "60482     NaN       NaN    181.0   181.0      )  punctuator        0.0   \n",
       "\n",
       "       line_y  column_y      tag problem_id original_id  changed_id language  \\\n",
       "0         NaN       NaN   delete     p03260  s000972575  s938269052        C   \n",
       "1         NaN       NaN   delete     p03260  s000972575  s938269052        C   \n",
       "2         NaN       NaN   delete     p03260  s000972575  s938269052        C   \n",
       "3         NaN       NaN   delete     p03260  s000972575  s938269052        C   \n",
       "4         NaN       NaN   delete     p03260  s000972575  s938269052        C   \n",
       "...       ...       ...      ...        ...         ...         ...      ...   \n",
       "60478     5.0      27.0  replace     p02990  s999951931  s536625431        C   \n",
       "60479     5.0      28.0  replace     p02990  s999951931  s536625431        C   \n",
       "60480     5.0      32.0  replace     p02990  s999951931  s536625431        C   \n",
       "60481     5.0      33.0  replace     p02990  s999951931  s536625431        C   \n",
       "60482     5.0      34.0  replace     p02990  s999951931  s536625431        C   \n",
       "\n",
       "      extension original_language original_status  \n",
       "0             c                 C    Wrong Answer  \n",
       "1             c                 C    Wrong Answer  \n",
       "2             c                 C    Wrong Answer  \n",
       "3             c                 C    Wrong Answer  \n",
       "4             c                 C    Wrong Answer  \n",
       "...         ...               ...             ...  \n",
       "60478         c                 C    Wrong Answer  \n",
       "60479         c                 C    Wrong Answer  \n",
       "60480         c                 C    Wrong Answer  \n",
       "60481         c                 C    Wrong Answer  \n",
       "60482         c                 C    Wrong Answer  \n",
       "\n",
       "[60483 rows x 23 columns]"
      ]
     },
     "metadata": {},
     "output_type": "display_data"
    },
    {
     "name": "stdout",
     "output_type": "stream",
     "text": [
      "<class 'pandas.core.frame.DataFrame'>\n",
      "RangeIndex: 60483 entries, 0 to 60482\n",
      "Data columns (total 23 columns):\n",
      " #   Column             Non-Null Count  Dtype  \n",
      "---  ------             --------------  -----  \n",
      " 0   seqnr              60483 non-null  int64  \n",
      " 1   start_x            29350 non-null  float64\n",
      " 2   stop_x             29350 non-null  float64\n",
      " 3   text_x             29346 non-null  object \n",
      " 4   class_x            29350 non-null  object \n",
      " 5   channel_x          29350 non-null  float64\n",
      " 6   line_x             29350 non-null  float64\n",
      " 7   column_x           29350 non-null  float64\n",
      " 8   start_y            47150 non-null  float64\n",
      " 9   stop_y             47150 non-null  float64\n",
      " 10  text_y             47145 non-null  object \n",
      " 11  class_y            47150 non-null  object \n",
      " 12  channel_y          47150 non-null  float64\n",
      " 13  line_y             47150 non-null  float64\n",
      " 14  column_y           47150 non-null  float64\n",
      " 15  tag                60483 non-null  object \n",
      " 16  problem_id         60483 non-null  object \n",
      " 17  original_id        60483 non-null  object \n",
      " 18  changed_id         60483 non-null  object \n",
      " 19  language           60483 non-null  object \n",
      " 20  extension          60483 non-null  object \n",
      " 21  original_language  60483 non-null  object \n",
      " 22  original_status    60483 non-null  object \n",
      "dtypes: float64(10), int64(1), object(12)\n",
      "memory usage: 10.6+ MB\n"
     ]
    },
    {
     "data": {
      "text/plain": [
       "None"
      ]
     },
     "metadata": {},
     "output_type": "display_data"
    },
    {
     "data": {
      "text/plain": [
       "C    60483\n",
       "Name: language, dtype: int64"
      ]
     },
     "metadata": {},
     "output_type": "display_data"
    },
    {
     "data": {
      "text/plain": [
       "Wrong Answer              13707\n",
       "WA: Presentation Error     3158\n",
       "Runtime Error              2505\n",
       "Time Limit Exceeded         446\n",
       "Memory Limit Exceeded        13\n",
       "Output Limit Exceeded         8\n",
       "Name: original_status, dtype: int64"
      ]
     },
     "metadata": {},
     "output_type": "display_data"
    },
    {
     "name": "stdout",
     "output_type": "stream",
     "text": [
      "We are left with 19837 submissions in total\n"
     ]
    }
   ],
   "source": [
    "generated_pairs_df = pd.read_csv(cleaned_generated_pairs_path)\n",
    "\n",
    "display(generated_pairs_df)\n",
    "display(generated_pairs_df.info())\n",
    "display(generated_pairs_df['language'].value_counts())\n",
    "display(generated_pairs_df.groupby('original_id').first()['original_status'].value_counts())\n",
    "\n",
    "print(f\"We are left with {len(generated_pairs_df.groupby('original_id').first())} submissions in total\")"
   ]
  },
  {
   "cell_type": "markdown",
   "id": "550e3cb1",
   "metadata": {},
   "source": [
    "# Parser Tags Visualization \n",
    "\n",
    "In this section we are going to take a look at the most encountered mistakes in the source code of the submissions. Also we will be visualizing the types of parser tags and the changed tokens frequencies. The types of parser tags were presented in previous sections and relate to what types of actions were performed since the last submission, was the change a addition, deletion or purely a modification of a statement. Other than this we are interested in how each change affects each type of instruction. One interesting aspect of this analysis is that there are more deletions when it comes to function calls and that most function calls are related to printing, so we can assume that these calls were used for debugging and the users forgot to delete them. When it comes to literals, most of the changed literals were strings. This can be the case that these were variables used to string format print calls or read calls, which caused wrong answers or segmentation faults. Next on the list are integer constants which could be used to denote the problem constraints, maximum or minimum numbers, lengths of lists or similar aspects. The difference between the literals and the function calls is that literals were mostly modified, which would be logical in case they were used in variable assignation or as parameters. One interesting appearance are the binary operators, from which most of the mistakes were between the less than and greater than operators, similar to what we can call a \"one off\" mistake, when we play with the code by randomly changing instructions to see what happens. Most of these mistakes come up in infinite for and while loops when the condition should be reversed. Logical operators are also known to cause problems especially in complex if statements and finally binary operators, which are not that frequent, since there are not that many problems which require them, but are similar to boolean operators. By looking at the mistakes caused by the identifiers we can see a lot of common names that we use for indexing, so again we could be looking at for and while loops. When it comes to assigning variables, more common are the cases where we use index variables as the destination (the i's and j's are common such cases), which are more often used in while loops. However, when we are looking at changes made to keyword instructions we see that the while and for loops are not the most common, that is because most of the changes do not also include changing the keyword by itself, but the body of the instruction. With this in mind, seeing that the most commonly changed keywords are types makes a lot of sense in algorithmic problem solving, where, to satisfy a certain constraint you might need to use different types of variables, for example a 32 bit int might not be good enough if the resulting numbers are huge, and a 64 bit long would do better, or even solve the issue. The same goes for using signed types instead of unsigned. The most common unary operation is indexing, and in our research we can see that it is also a common cause in errors, most of the times it causes index out of bounds errors or segmentation faults. Other unary operations that might be interesting are the negations, logical and binary, which are related to the logical operators discussed earlier. There could maybe appear errors when using De Morgen's rule when using a complex if statement. And last are the usages of commas and semi colons, the commas could be missing when dealing with strings, which would lead to concatenation (in C). With this being said, most of the problems seem to appear at printing results and conditional branches in code."
   ]
  },
  {
   "cell_type": "code",
   "execution_count": 5,
   "id": "d25192e6",
   "metadata": {
    "ExecuteTime": {
     "end_time": "2022-01-03T17:32:18.504678Z",
     "start_time": "2022-01-03T17:31:43.740445Z"
    },
    "deletable": false,
    "editable": false,
    "run_control": {
     "frozen": true
    }
   },
   "outputs": [],
   "source": [
    "generated_pairs_df = codenet.add_token_class(generated_pairs_df)\n",
    "generated_pairs_df.to_csv(token_class_generated_pairs_path, index=False)"
   ]
  },
  {
   "cell_type": "code",
   "execution_count": 5,
   "id": "bc0db941",
   "metadata": {
    "ExecuteTime": {
     "end_time": "2022-01-03T18:12:59.182218Z",
     "start_time": "2022-01-03T18:12:49.075016Z"
    },
    "scrolled": false
   },
   "outputs": [
    {
     "data": {
      "text/plain": [
       "literal       8280\n",
       "binary        2866\n",
       "identifier    1248\n",
       "call          1089\n",
       "assign         532\n",
       "keyword        332\n",
       "unary          297\n",
       "punctuator      45\n",
       "Name: token_class, dtype: int64"
      ]
     },
     "metadata": {},
     "output_type": "display_data"
    },
    {
     "data": {
      "text/plain": [
       "'Tag for the literals'"
      ]
     },
     "metadata": {},
     "output_type": "display_data"
    },
    {
     "data": {
      "text/plain": [
       "replace    8267\n",
       "delete       13\n",
       "Name: tag, dtype: int64"
      ]
     },
     "metadata": {},
     "output_type": "display_data"
    },
    {
     "data": {
      "text/plain": [
       "stringliteral        5223\n",
       "integerconstant      2809\n",
       "floatingconstant      132\n",
       "characterconstant     103\n",
       "keyword                 9\n",
       "punctuator              4\n",
       "Name: class_x, dtype: int64"
      ]
     },
     "metadata": {},
     "output_type": "display_data"
    },
    {
     "data": {
      "text/plain": [
       "'Tag for the binary operations'"
      ]
     },
     "metadata": {},
     "output_type": "display_data"
    },
    {
     "data": {
      "text/plain": [
       "replace    2368\n",
       "delete      498\n",
       "Name: tag, dtype: int64"
      ]
     },
     "metadata": {},
     "output_type": "display_data"
    },
    {
     "data": {
      "text/plain": [
       "<     799\n",
       ">     433\n",
       "-     341\n",
       "+     221\n",
       "<=    214\n",
       "==    161\n",
       ">=    145\n",
       "&&    113\n",
       "||    109\n",
       "*      90\n",
       "/      88\n",
       "&      62\n",
       "%      44\n",
       "^      35\n",
       "<<      7\n",
       "|       3\n",
       ">>      1\n",
       "dtype: int64"
      ]
     },
     "metadata": {},
     "output_type": "display_data"
    },
    {
     "data": {
      "text/plain": [
       "'Tag for the identifiers'"
      ]
     },
     "metadata": {},
     "output_type": "display_data"
    },
    {
     "data": {
      "text/plain": [
       "replace    1231\n",
       "delete       17\n",
       "Name: tag, dtype: int64"
      ]
     },
     "metadata": {},
     "output_type": "display_data"
    },
    {
     "data": {
      "text/plain": [
       "n            174\n",
       "i            133\n",
       "a            103\n",
       "b             72\n",
       "x             61\n",
       "            ... \n",
       "tetra_sum      1\n",
       "map            1\n",
       "strlen         1\n",
       "insert         1\n",
       "setNum         1\n",
       "Length: 222, dtype: int64"
      ]
     },
     "metadata": {},
     "output_type": "display_data"
    },
    {
     "data": {
      "text/plain": [
       "'Tag for the function calls'"
      ]
     },
     "metadata": {},
     "output_type": "display_data"
    },
    {
     "data": {
      "text/plain": [
       "delete     1053\n",
       "replace      36\n",
       "Name: tag, dtype: int64"
      ]
     },
     "metadata": {},
     "output_type": "display_data"
    },
    {
     "data": {
      "text/plain": [
       "printf     970\n",
       "puts        27\n",
       "scanf       18\n",
       "putchar     14\n",
       "strlen       6\n",
       "dtype: int64"
      ]
     },
     "metadata": {},
     "output_type": "display_data"
    },
    {
     "data": {
      "text/plain": [
       "'Tag for the function calls'"
      ]
     },
     "metadata": {},
     "output_type": "display_data"
    },
    {
     "data": {
      "text/plain": [
       "replace    429\n",
       "delete     103\n",
       "Name: tag, dtype: int64"
      ]
     },
     "metadata": {},
     "output_type": "display_data"
    },
    {
     "data": {
      "text/plain": [
       "i            36\n",
       "j            12\n",
       "x             9\n",
       "max           6\n",
       "n             6\n",
       "a             5\n",
       "b             4\n",
       "t             4\n",
       "ans           4\n",
       "c             4\n",
       "k             2\n",
       "flag          2\n",
       "p             2\n",
       "r             2\n",
       "tmp           2\n",
       "min_i         1\n",
       "heap_size     1\n",
       "v             1\n",
       "run           1\n",
       "rem           1\n",
       "middle        1\n",
       "min           1\n",
       "on            1\n",
       "lim           1\n",
       "t_src         1\n",
       "now           1\n",
       "y             1\n",
       "some          1\n",
       "N             1\n",
       "X             1\n",
       "K             1\n",
       "G_Common      1\n",
       "sum           1\n",
       "exceed        1\n",
       "cou           1\n",
       "fi            1\n",
       "s             1\n",
       "PI            1\n",
       "R             1\n",
       "g             1\n",
       "tmp1          1\n",
       "f             1\n",
       "m             1\n",
       "count         1\n",
       "sum1          1\n",
       "dtype: int64"
      ]
     },
     "metadata": {},
     "output_type": "display_data"
    },
    {
     "data": {
      "text/plain": [
       "'Tag for the function calls'"
      ]
     },
     "metadata": {},
     "output_type": "display_data"
    },
    {
     "data": {
      "text/plain": [
       "replace    273\n",
       "delete      59\n",
       "Name: tag, dtype: int64"
      ]
     },
     "metadata": {},
     "output_type": "display_data"
    },
    {
     "data": {
      "text/plain": [
       "int         99\n",
       "float       61\n",
       "break       40\n",
       "else        29\n",
       "char        22\n",
       "long        21\n",
       "void        14\n",
       "double      14\n",
       "unsigned    11\n",
       "if           7\n",
       "continue     5\n",
       "short        4\n",
       "return       3\n",
       "for          1\n",
       "while        1\n",
       "dtype: int64"
      ]
     },
     "metadata": {},
     "output_type": "display_data"
    },
    {
     "data": {
      "text/plain": [
       "'Tag for the function calls'"
      ]
     },
     "metadata": {},
     "output_type": "display_data"
    },
    {
     "data": {
      "text/plain": [
       "replace    285\n",
       "delete      12\n",
       "Name: tag, dtype: int64"
      ]
     },
     "metadata": {},
     "output_type": "display_data"
    },
    {
     "data": {
      "text/plain": [
       "]    239\n",
       "[     48\n",
       "~      7\n",
       "!      3\n",
       "dtype: int64"
      ]
     },
     "metadata": {},
     "output_type": "display_data"
    },
    {
     "data": {
      "text/plain": [
       "'Tag for the function calls'"
      ]
     },
     "metadata": {},
     "output_type": "display_data"
    },
    {
     "data": {
      "text/plain": [
       "replace    31\n",
       "delete     14\n",
       "Name: tag, dtype: int64"
      ]
     },
     "metadata": {},
     "output_type": "display_data"
    },
    {
     "data": {
      "text/plain": [
       ",    28\n",
       ";    17\n",
       "dtype: int64"
      ]
     },
     "metadata": {},
     "output_type": "display_data"
    }
   ],
   "source": [
    "generated_pairs_df = pd.read_csv(token_class_generated_pairs_path)\n",
    "\n",
    "display(generated_pairs_df.groupby(['original_id', 'changed_id'])['token_class'].first().value_counts())\n",
    "\n",
    "literal_df = generated_pairs_df[generated_pairs_df['token_class'] == 'literal']\n",
    "display(\"Tag for the literals\")\n",
    "display(literal_df.groupby(['original_id', 'changed_id'])['tag'].first().value_counts())\n",
    "display(literal_df.groupby(['original_id', 'changed_id'])['class_x'].first().value_counts())\n",
    "\n",
    "binary_df = generated_pairs_df[generated_pairs_df['token_class'] == 'binary']\n",
    "display(\"Tag for the binary operations\")\n",
    "display(binary_df.groupby(['original_id', 'changed_id'])['tag'].first().value_counts())\n",
    "display(binary_df.groupby(['original_id', 'changed_id']).apply(parser.get_bop_from_df).value_counts())\n",
    "\n",
    "identifier_df = generated_pairs_df[generated_pairs_df['token_class'] == 'identifier']\n",
    "display(\"Tag for the identifiers\")\n",
    "display(identifier_df.groupby(['original_id', 'changed_id'])['tag'].first().value_counts())\n",
    "display(identifier_df.groupby(['original_id', 'changed_id']).apply(parser.get_id_from_df).value_counts())\n",
    "\n",
    "calls_df = generated_pairs_df[generated_pairs_df['token_class'] == 'call']\n",
    "display(\"Tag for the function calls\")\n",
    "display(calls_df.groupby(['original_id', 'changed_id'])['tag'].first().value_counts())\n",
    "display(calls_df.groupby(['original_id', 'changed_id']).apply(parser.get_fcall_from_df).value_counts().head())\n",
    "\n",
    "assigns_df = generated_pairs_df[generated_pairs_df['token_class'] == 'assign']\n",
    "display(\"Tag for the function calls\")\n",
    "display(assigns_df.groupby(['original_id', 'changed_id'])['tag'].first().value_counts())\n",
    "display(assigns_df.groupby(['original_id', 'changed_id']).apply(parser.get_assign_from_df).value_counts())\n",
    "\n",
    "keywords_df = generated_pairs_df[generated_pairs_df['token_class'] == 'keyword']\n",
    "display(\"Tag for the function calls\")\n",
    "display(keywords_df.groupby(['original_id', 'changed_id'])['tag'].first().value_counts())\n",
    "display(keywords_df.groupby(['original_id', 'changed_id']).apply(parser.get_keyword_from_df).value_counts())\n",
    "\n",
    "unaries_df = generated_pairs_df[generated_pairs_df['token_class'] == 'unary']\n",
    "display(\"Tag for the function calls\")\n",
    "display(unaries_df.groupby(['original_id', 'changed_id'])['tag'].first().value_counts())\n",
    "display(unaries_df.groupby(['original_id', 'changed_id']).apply(parser.get_unary_from_df).value_counts())\n",
    "\n",
    "puncts_df = generated_pairs_df[generated_pairs_df['token_class'] == 'punctuator']\n",
    "display(\"Tag for the function calls\")\n",
    "display(puncts_df.groupby(['original_id', 'changed_id'])['tag'].first().value_counts())\n",
    "display(puncts_df.groupby(['original_id', 'changed_id']).apply(parser.get_punct_from_df).value_counts())"
   ]
  },
  {
   "cell_type": "code",
   "execution_count": null,
   "id": "858e534e",
   "metadata": {},
   "outputs": [],
   "source": []
  }
 ],
 "metadata": {
  "kernelspec": {
   "display_name": "Python 3 (ipykernel)",
   "language": "python",
   "name": "python3"
  },
  "language_info": {
   "codemirror_mode": {
    "name": "ipython",
    "version": 3
   },
   "file_extension": ".py",
   "mimetype": "text/x-python",
   "name": "python",
   "nbconvert_exporter": "python",
   "pygments_lexer": "ipython3",
   "version": "3.9.5"
  }
 },
 "nbformat": 4,
 "nbformat_minor": 5
}
