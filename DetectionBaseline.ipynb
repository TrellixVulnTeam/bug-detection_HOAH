{
 "cells": [
  {
   "cell_type": "markdown",
   "id": "651cda0a",
   "metadata": {},
   "source": [
    "# Bug Detection\n",
    "\n",
    "In this notebook I will show the baseline model for the bug detection project. This will be the simplest model that can be created to try and solve the problem of bug detection. The main idea of this model is that for each token of code we can predict if it is buggy or not. However we will be using multi class labels where each bug is an actual error class.\n",
    "\n",
    "## Imports"
   ]
  },
  {
   "cell_type": "code",
   "execution_count": 1,
   "id": "d8099b26",
   "metadata": {
    "ExecuteTime": {
     "end_time": "2022-01-27T16:24:38.318807Z",
     "start_time": "2022-01-27T16:24:36.660796Z"
    }
   },
   "outputs": [],
   "source": [
    "import pickle\n",
    "import codenet\n",
    "\n",
    "import numpy as np\n",
    "\n",
    "from gensim.models import FastText\n",
    "\n",
    "from sklearn.model_selection import train_test_split\n",
    "from sklearn.tree import DecisionTreeClassifier\n",
    "from sklearn.metrics import accuracy_score, precision_score, recall_score, f1_score\n",
    "\n",
    "models_path = \"../models/\"\n",
    "\n",
    "vectorizer_path = models_path + \"vectorizer_fasttext.model\"\n",
    "classifier_path = models_path + \"classifier_decisiontree.pkl\""
   ]
  },
  {
   "cell_type": "markdown",
   "id": "d59d6868",
   "metadata": {},
   "source": [
    "## Data\n",
    "\n",
    "In this section we load the data generated from the CodeNet subset we explored previously. The training data will consist of tokens of code as input and the respective error class as target. From the data exploration section we know that an error can be caused by a sequence of tokens, or an instruction. To label each token we will create an array of labels, each corresponding to a token. Then for each error class, if it's range includes a token we mark it with that label. In the end, the data will be a sequence of token, error class pairs. We want our model to be able to learn which token corresponds to which error class. The limitation of this method is the fact that we will not consider the context of the problem. We will consider each token to be independent of each other."
   ]
  },
  {
   "cell_type": "code",
   "execution_count": 30,
   "id": "3e0459ea",
   "metadata": {
    "ExecuteTime": {
     "end_time": "2022-01-27T16:44:11.467806Z",
     "start_time": "2022-01-27T16:44:07.274509Z"
    }
   },
   "outputs": [],
   "source": [
    "def convert_X_y(X, y):\n",
    "    target_y = []\n",
    "    \n",
    "    for x, errs in zip(X, y):\n",
    "        new_y = np.empty_like(x)\n",
    "        new_y.fill(\"Accepted\")\n",
    "        for [i1, i2, err] in errs:\n",
    "            new_y[i1:max(i1+1, i2)] = err\n",
    "        target_y.append(new_y)\n",
    "        \n",
    "    return X, target_y\n",
    "\n",
    "with open(codenet.detection_X_y_v2_path, 'rb') as f:\n",
    "    X, ys = pickle.load(f)\n",
    "    X, y = convert_X_y(X, ys)"
   ]
  },
  {
   "cell_type": "markdown",
   "id": "472480e5",
   "metadata": {},
   "source": [
    "Here we split the data into training and testing subsets with 80% of the sample for training and the rest for testing. Then we use FastText to vectorize the tokens into float arrays with size 16. I chose FastText because it handles words that are also out of vocabulary, like for example variable names that can be unique to a specific submission. Then we transform the input data from a sequence of tokens to an array containing the vectors for each token. The resulting data will be a sequence of vector, label pairs."
   ]
  },
  {
   "cell_type": "code",
   "execution_count": 12,
   "id": "66a9c312",
   "metadata": {
    "ExecuteTime": {
     "end_time": "2022-01-27T16:34:37.158646Z",
     "start_time": "2022-01-27T16:34:37.036336Z"
    }
   },
   "outputs": [],
   "source": [
    "src_train, src_test, ys_train, ys_test = train_test_split(X, y, train_size=0.8, random_state=42)"
   ]
  },
  {
   "cell_type": "code",
   "execution_count": 4,
   "id": "6e1ba9a7",
   "metadata": {
    "ExecuteTime": {
     "end_time": "2022-01-22T13:51:16.554450Z",
     "start_time": "2022-01-22T13:50:10.484438Z"
    }
   },
   "outputs": [],
   "source": [
    "sentences = [x.tolist() for x in src_train]\n",
    "\n",
    "vectorizer = FastText(sentences=sentences, min_count=0, vector_size=16, seed=42)"
   ]
  },
  {
   "cell_type": "code",
   "execution_count": 12,
   "id": "f21d8a9d",
   "metadata": {
    "ExecuteTime": {
     "end_time": "2022-01-22T15:41:38.267025Z",
     "start_time": "2022-01-22T15:41:38.098012Z"
    }
   },
   "outputs": [],
   "source": [
    "vectorizer.save(vectorizer_path)"
   ]
  },
  {
   "cell_type": "code",
   "execution_count": 7,
   "id": "343f77ed",
   "metadata": {
    "ExecuteTime": {
     "end_time": "2022-01-27T16:26:40.990077Z",
     "start_time": "2022-01-27T16:25:37.596588Z"
    }
   },
   "outputs": [],
   "source": [
    "tok_train = np.concatenate(src_train)\n",
    "tok_test = np.concatenate(src_test)\n",
    "\n",
    "X_train = vectorizer.wv[tok_train]\n",
    "X_test = vectorizer.wv[tok_test]\n",
    "y_train = np.concatenate(ys_train)\n",
    "y_test = np.concatenate(ys_test)"
   ]
  },
  {
   "cell_type": "markdown",
   "id": "fc239758",
   "metadata": {},
   "source": [
    "## Model\n",
    "\n",
    "The baseline classifier we are going to use is a decision tree classifier."
   ]
  },
  {
   "cell_type": "code",
   "execution_count": 6,
   "id": "87fccdb6",
   "metadata": {
    "ExecuteTime": {
     "end_time": "2022-01-22T13:51:57.599764Z",
     "start_time": "2022-01-22T13:51:57.595340Z"
    }
   },
   "outputs": [],
   "source": [
    "clf = DecisionTreeClassifier(random_state=42)"
   ]
  },
  {
   "cell_type": "code",
   "execution_count": 7,
   "id": "c2cf9013",
   "metadata": {
    "ExecuteTime": {
     "end_time": "2022-01-22T13:55:28.908114Z",
     "start_time": "2022-01-22T13:51:57.601257Z"
    }
   },
   "outputs": [
    {
     "data": {
      "text/plain": [
       "DecisionTreeClassifier(random_state=42)"
      ]
     },
     "execution_count": 7,
     "metadata": {},
     "output_type": "execute_result"
    }
   ],
   "source": [
    "clf.fit(X_train, y_train)"
   ]
  },
  {
   "cell_type": "code",
   "execution_count": 8,
   "id": "bf9a7b14",
   "metadata": {
    "ExecuteTime": {
     "end_time": "2022-01-27T16:28:39.645471Z",
     "start_time": "2022-01-27T16:28:37.130811Z"
    }
   },
   "outputs": [],
   "source": [
    "y_pred = clf.predict(X_test)"
   ]
  },
  {
   "cell_type": "code",
   "execution_count": 9,
   "id": "8f3d55fd",
   "metadata": {
    "ExecuteTime": {
     "end_time": "2022-01-27T16:30:35.141747Z",
     "start_time": "2022-01-27T16:28:41.002615Z"
    }
   },
   "outputs": [
    {
     "name": "stdout",
     "output_type": "stream",
     "text": [
      "Accuracy 0.8728657548125633\n",
      "Precision 0.787925806136263\n",
      "Recall 0.8728657548125633\n",
      "F1 0.8151843545926623\n"
     ]
    }
   ],
   "source": [
    "print(f\"Accuracy {accuracy_score(y_test, y_pred)}\")\n",
    "print(f\"Precision {precision_score(y_test, y_pred, average='weighted', zero_division=0)}\")\n",
    "print(f\"Recall {recall_score(y_test, y_pred, average='weighted', zero_division=0)}\")\n",
    "print(f\"F1 {f1_score(y_test, y_pred, average='weighted', zero_division=0)}\")"
   ]
  },
  {
   "cell_type": "code",
   "execution_count": 18,
   "id": "813fe69e",
   "metadata": {
    "ExecuteTime": {
     "end_time": "2022-01-22T15:46:00.487209Z",
     "start_time": "2022-01-22T15:46:00.435671Z"
    }
   },
   "outputs": [],
   "source": [
    "with open(classifier_path, \"wb\") as f:\n",
    "    pickle.dump(clf, f)"
   ]
  },
  {
   "cell_type": "markdown",
   "id": "4b3d65c5",
   "metadata": {},
   "source": [
    "## Inference\n",
    "\n",
    "To perform inference we will take as input the Python source code, or the source file path, and tokenize it. We will thus obtain a sequence of all the tokens, their sequence number, line and column. Then we take the tokens and use our vectorizer to extract the features and prepare the data for inference. Finally we can run the model, the decision tree baseline, and obtain the list of errors for each token in our source code. We filter out the tokens without errors and only show the ones which have associated errors to them. To check the model we can also run the source code file and see what output we get."
   ]
  },
  {
   "cell_type": "code",
   "execution_count": 3,
   "id": "6f2915f8",
   "metadata": {
    "ExecuteTime": {
     "end_time": "2022-01-27T16:25:07.307647Z",
     "start_time": "2022-01-27T16:24:54.539631Z"
    }
   },
   "outputs": [],
   "source": [
    "vectorizer = FastText.load(vectorizer_path)"
   ]
  },
  {
   "cell_type": "code",
   "execution_count": 4,
   "id": "4251fac8",
   "metadata": {
    "ExecuteTime": {
     "end_time": "2022-01-27T16:25:07.406031Z",
     "start_time": "2022-01-27T16:25:07.310374Z"
    }
   },
   "outputs": [],
   "source": [
    "with open(classifier_path, \"rb\") as f:\n",
    "    clf = pickle.load(f)"
   ]
  },
  {
   "cell_type": "code",
   "execution_count": 38,
   "id": "337f651b",
   "metadata": {
    "ExecuteTime": {
     "end_time": "2022-01-27T16:51:27.010672Z",
     "start_time": "2022-01-27T16:51:27.001501Z"
    }
   },
   "outputs": [],
   "source": [
    "def inferbug_python(source_code):\n",
    "    token_df = codenet.run_pythontokenizer_str(source_code)\n",
    "    tokens = token_df[\"text\"].values\n",
    "    tokens = vectorizer.wv[tokens]\n",
    "\n",
    "    prediction = clf.predict(tokens)\n",
    "    token_df[\"prediction\"] = prediction\n",
    "    token_err_df = token_df[token_df[\"prediction\"] != \"Accepted\"]\n",
    "    \n",
    "    return token_err_df\n",
    "\n",
    "def err_df2list(token_err_df):\n",
    "    if token_err_df.empty:\n",
    "        return []\n",
    "    \n",
    "    result = []\n",
    "    start, current_err = token_err_df.iloc[0][[\"seqnr\", \"prediction\"]]\n",
    "    current_seqnr = start\n",
    "    \n",
    "    for _, row in token_err_df.iloc[1:].iterrows():\n",
    "        seqnr, error_class = row[[\"seqnr\", \"prediction\"]]\n",
    "        \n",
    "        if current_seqnr + 1 != seqnr:\n",
    "            result.append((start, current_seqnr, current_err))\n",
    "            start = seqnr\n",
    "            current_err = error_class\n",
    "        \n",
    "        current_seqnr = seqnr\n",
    "        \n",
    "    result.append((start, current_seqnr, current_err))\n",
    "        \n",
    "    return result"
   ]
  },
  {
   "cell_type": "code",
   "execution_count": 39,
   "id": "0010edac",
   "metadata": {
    "ExecuteTime": {
     "end_time": "2022-01-27T16:51:27.955171Z",
     "start_time": "2022-01-27T16:51:27.462738Z"
    }
   },
   "outputs": [
    {
     "data": {
      "text/html": [
       "<div>\n",
       "<style scoped>\n",
       "    .dataframe tbody tr th:only-of-type {\n",
       "        vertical-align: middle;\n",
       "    }\n",
       "\n",
       "    .dataframe tbody tr th {\n",
       "        vertical-align: top;\n",
       "    }\n",
       "\n",
       "    .dataframe thead th {\n",
       "        text-align: right;\n",
       "    }\n",
       "</style>\n",
       "<table border=\"1\" class=\"dataframe\">\n",
       "  <thead>\n",
       "    <tr style=\"text-align: right;\">\n",
       "      <th></th>\n",
       "      <th>seqnr</th>\n",
       "      <th>start</th>\n",
       "      <th>stop</th>\n",
       "      <th>text</th>\n",
       "      <th>class</th>\n",
       "      <th>channel</th>\n",
       "      <th>line</th>\n",
       "      <th>column</th>\n",
       "      <th>prediction</th>\n",
       "    </tr>\n",
       "  </thead>\n",
       "  <tbody>\n",
       "    <tr>\n",
       "      <th>14</th>\n",
       "      <td>14</td>\n",
       "      <td>19</td>\n",
       "      <td>24</td>\n",
       "      <td>double</td>\n",
       "      <td>name</td>\n",
       "      <td>0</td>\n",
       "      <td>1</td>\n",
       "      <td>19</td>\n",
       "      <td>SyntaxError</td>\n",
       "    </tr>\n",
       "  </tbody>\n",
       "</table>\n",
       "</div>"
      ],
      "text/plain": [
       "    seqnr  start  stop    text class  channel  line  column   prediction\n",
       "14     14     19    24  double  name        0     1      19  SyntaxError"
      ]
     },
     "metadata": {},
     "output_type": "display_data"
    },
    {
     "data": {
      "text/plain": [
       "[(14, 14, 'SyntaxError')]"
      ]
     },
     "metadata": {},
     "output_type": "display_data"
    },
    {
     "data": {
      "text/plain": [
       "('',\n",
       " 'Traceback (most recent call last):\\n  File \"<string>\", line 1, in <module>\\nNameError: name \\'double\\' is not defined\\n',\n",
       " 1)"
      ]
     },
     "execution_count": 39,
     "metadata": {},
     "output_type": "execute_result"
    }
   ],
   "source": [
    "bug = \"\"\"mylist = [1, 2, 3, double]\n",
    "\n",
    "print(mylist[123])\n",
    "\"\"\"\n",
    "\n",
    "token_err_df = inferbug_python(bug)\n",
    "\n",
    "display(token_err_df)\n",
    "display(err_df2list(token_err_df))\n",
    "codenet.exec_python_str(bug)"
   ]
  },
  {
   "cell_type": "code",
   "execution_count": null,
   "id": "033ed089",
   "metadata": {
    "ExecuteTime": {
     "start_time": "2022-01-27T16:56:46.140Z"
    }
   },
   "outputs": [],
   "source": [
    "for i, (src, ref) in enumerate(zip(X, ys)):\n",
    "    bug_df = inferbug_python(\"\".join(src[:-1]))\n",
    "\n",
    "    if not bug_df.empty:\n",
    "        out = err_df2list(bug_df)\n",
    "        if out == ref:\n",
    "            print(ref)\n",
    "            print(bug_df)\n",
    "            print(err_df2list(bug_df))"
   ]
  },
  {
   "cell_type": "code",
   "execution_count": null,
   "id": "bdf90f92",
   "metadata": {},
   "outputs": [],
   "source": []
  }
 ],
 "metadata": {
  "kernelspec": {
   "display_name": "Python 3 (ipykernel)",
   "language": "python",
   "name": "python3"
  },
  "language_info": {
   "codemirror_mode": {
    "name": "ipython",
    "version": 3
   },
   "file_extension": ".py",
   "mimetype": "text/x-python",
   "name": "python",
   "nbconvert_exporter": "python",
   "pygments_lexer": "ipython3",
   "version": "3.9.5"
  }
 },
 "nbformat": 4,
 "nbformat_minor": 5
}
