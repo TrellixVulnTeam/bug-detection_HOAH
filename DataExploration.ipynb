{
 "cells": [
  {
   "cell_type": "markdown",
   "id": "00616234",
   "metadata": {},
   "source": [
    "# CodeNet Dataset\n",
    "\n",
    "In this notebook I intend to make it very easy to visualize all the necessary information about a specific problem. The base dataset I will be using in this notebook is [CodeNet](https://github.com/IBM/Project_CodeNet) which is a large collection of source files and problem descriptions with metadata. The solutions are written in multiple programming languages (55+ according to the paper) and each problem has multiple submissions. Most of the submissions are written in the six most common languages (C++, Python, Java, C, Ruby, C#). As expected most of the solutions are in C++. One interesting aspect of the dataset is that it includes failed submissions, with various status codes such as Compilation Errors, Runtime Errors, Time Limit Exceeded, Memory Limit Exceeded, etc. This will prove useful since we are looking into bug detection in source code files.\n",
    "\n",
    "Make sure you run `source spt.profile` to create the environment for the tokenizer to work. Also you have to compile the tokenizer from CodeNet.\n",
    "\n",
    "## Table of Contents\n",
    "1. [Imports](#Imports)\n",
    "1. [Download CodeNet](#Download-CodeNet)\n",
    "1. [Missing Values](#Missing-Values)\n",
    "\n",
    "## Imports"
   ]
  },
  {
   "cell_type": "code",
   "execution_count": 1,
   "id": "f1b6216d",
   "metadata": {
    "ExecuteTime": {
     "end_time": "2022-01-17T17:35:16.687284Z",
     "start_time": "2022-01-17T17:35:16.351785Z"
    }
   },
   "outputs": [],
   "source": [
    "import myparser\n",
    "import codenet\n",
    "\n",
    "import pandas as pd\n",
    "\n",
    "pd.set_option('max_columns', None)\n",
    "\n",
    "codenet.P = 4"
   ]
  },
  {
   "cell_type": "markdown",
   "id": "84c00533",
   "metadata": {},
   "source": [
    "## Download CodeNet\n",
    "\n",
    "The next code cell will download the CodeNet dataset from it's original repository (the archive has around 80GB). If you already have the dataset change the input_path variable to point to the root of the dataset, otherwise the notebook will download it in the ../input/ directory."
   ]
  },
  {
   "cell_type": "code",
   "execution_count": 3,
   "id": "9c99ee44",
   "metadata": {
    "ExecuteTime": {
     "end_time": "2022-01-17T16:33:38.053639Z",
     "start_time": "2022-01-17T16:33:38.048282Z"
    },
    "deletable": false,
    "editable": false,
    "run_control": {
     "frozen": true
    }
   },
   "outputs": [
    {
     "name": "stdout",
     "output_type": "stream",
     "text": [
      "dataset root dir found\n"
     ]
    }
   ],
   "source": [
    "codenet.download_data()"
   ]
  },
  {
   "cell_type": "markdown",
   "id": "0f9d8dee",
   "metadata": {},
   "source": [
    "## Missing Values\n",
    "\n",
    "The dataset also includes a description file for most of the problems. We can see which problems have or don't have a description associated. The description file can be useful to predict what the problem topic is about, graphs, dp, greedy, etc.\n",
    "\n",
    "In the case of missing input files, I think it is also better to just drop the submissions, most of the description files are written in Chinese and we cannot really extract any useful information from them. Since there are so few files with no input we can drop them. By looking in the description files there are like 2 problems with no input from the stdin.\n",
    "\n",
    "To conclude the missing values section, 54/56 of the missing names in the problems list are due to missing description files 1/56 is just a href which links to a 404 web page and the last one is a test problem, the later 2 problems having no submissions anyway. I think it is a fair decision to drop these samples as they are not useful. There will be 130 remaining problems with no input/output samples and 128 of them have description files in Chinese which makes it harder to extract samples, and 2 of them only require printing of values (similar to problem p00000). In this case I also think that it is ok to drop those 2 problems that don't need input alongside the rest of problems that have no input examples extracted, because we don't have to remember that there is one or two problems that can cause some bugs later on."
   ]
  },
  {
   "cell_type": "code",
   "execution_count": 4,
   "id": "ec5c2535",
   "metadata": {
    "ExecuteTime": {
     "end_time": "2022-01-17T16:36:38.191201Z",
     "start_time": "2022-01-17T16:36:38.020204Z"
    },
    "deletable": false,
    "editable": false,
    "run_control": {
     "frozen": true
    }
   },
   "outputs": [
    {
     "name": "stdout",
     "output_type": "stream",
     "text": [
      "Cleaning ../input/Project_CodeNet/metadata/problem_list.csv\n"
     ]
    }
   ],
   "source": [
    "codenet.clean_problem_list().to_csv(codenet.problem_list_clean_v2_path)"
   ]
  },
  {
   "cell_type": "code",
   "execution_count": 2,
   "id": "6a474636",
   "metadata": {
    "ExecuteTime": {
     "end_time": "2022-01-17T17:35:16.723891Z",
     "start_time": "2022-01-17T17:35:16.688554Z"
    }
   },
   "outputs": [
    {
     "name": "stdout",
     "output_type": "stream",
     "text": [
      "We have 3867 problems\n",
      "The distribution of the datasets is\n",
      "AIZU       0.613654\n",
      "AtCoder    0.386346\n",
      "Name: dataset, dtype: float64\n"
     ]
    },
    {
     "data": {
      "text/html": [
       "<div>\n",
       "<style scoped>\n",
       "    .dataframe tbody tr th:only-of-type {\n",
       "        vertical-align: middle;\n",
       "    }\n",
       "\n",
       "    .dataframe tbody tr th {\n",
       "        vertical-align: top;\n",
       "    }\n",
       "\n",
       "    .dataframe thead th {\n",
       "        text-align: right;\n",
       "    }\n",
       "</style>\n",
       "<table border=\"1\" class=\"dataframe\">\n",
       "  <thead>\n",
       "    <tr style=\"text-align: right;\">\n",
       "      <th></th>\n",
       "      <th>name</th>\n",
       "      <th>dataset</th>\n",
       "      <th>time_limit</th>\n",
       "      <th>memory_limit</th>\n",
       "      <th>rating</th>\n",
       "      <th>tags</th>\n",
       "      <th>complexity</th>\n",
       "    </tr>\n",
       "    <tr>\n",
       "      <th>id</th>\n",
       "      <th></th>\n",
       "      <th></th>\n",
       "      <th></th>\n",
       "      <th></th>\n",
       "      <th></th>\n",
       "      <th></th>\n",
       "      <th></th>\n",
       "    </tr>\n",
       "  </thead>\n",
       "  <tbody>\n",
       "    <tr>\n",
       "      <th>p00001</th>\n",
       "      <td>List of Top 3 Hills</td>\n",
       "      <td>AIZU</td>\n",
       "      <td>1000.0</td>\n",
       "      <td>131072.0</td>\n",
       "      <td>NaN</td>\n",
       "      <td>NaN</td>\n",
       "      <td>NaN</td>\n",
       "    </tr>\n",
       "    <tr>\n",
       "      <th>p00002</th>\n",
       "      <td>Digit Number</td>\n",
       "      <td>AIZU</td>\n",
       "      <td>1000.0</td>\n",
       "      <td>131072.0</td>\n",
       "      <td>NaN</td>\n",
       "      <td>NaN</td>\n",
       "      <td>NaN</td>\n",
       "    </tr>\n",
       "    <tr>\n",
       "      <th>p00003</th>\n",
       "      <td>Is it a Right Triangle?</td>\n",
       "      <td>AIZU</td>\n",
       "      <td>1000.0</td>\n",
       "      <td>131072.0</td>\n",
       "      <td>NaN</td>\n",
       "      <td>NaN</td>\n",
       "      <td>NaN</td>\n",
       "    </tr>\n",
       "    <tr>\n",
       "      <th>p00004</th>\n",
       "      <td>Simultaneous Equation</td>\n",
       "      <td>AIZU</td>\n",
       "      <td>1000.0</td>\n",
       "      <td>131072.0</td>\n",
       "      <td>NaN</td>\n",
       "      <td>NaN</td>\n",
       "      <td>NaN</td>\n",
       "    </tr>\n",
       "    <tr>\n",
       "      <th>p00005</th>\n",
       "      <td>GCD and LCM</td>\n",
       "      <td>AIZU</td>\n",
       "      <td>1000.0</td>\n",
       "      <td>131072.0</td>\n",
       "      <td>NaN</td>\n",
       "      <td>NaN</td>\n",
       "      <td>NaN</td>\n",
       "    </tr>\n",
       "  </tbody>\n",
       "</table>\n",
       "</div>"
      ],
      "text/plain": [
       "                           name dataset  time_limit  memory_limit  rating  \\\n",
       "id                                                                          \n",
       "p00001      List of Top 3 Hills    AIZU      1000.0      131072.0     NaN   \n",
       "p00002             Digit Number    AIZU      1000.0      131072.0     NaN   \n",
       "p00003  Is it a Right Triangle?    AIZU      1000.0      131072.0     NaN   \n",
       "p00004    Simultaneous Equation    AIZU      1000.0      131072.0     NaN   \n",
       "p00005              GCD and LCM    AIZU      1000.0      131072.0     NaN   \n",
       "\n",
       "        tags  complexity  \n",
       "id                        \n",
       "p00001   NaN         NaN  \n",
       "p00002   NaN         NaN  \n",
       "p00003   NaN         NaN  \n",
       "p00004   NaN         NaN  \n",
       "p00005   NaN         NaN  "
      ]
     },
     "metadata": {},
     "output_type": "display_data"
    },
    {
     "data": {
      "text/plain": [
       "name               0\n",
       "dataset            0\n",
       "time_limit         0\n",
       "memory_limit       0\n",
       "rating          3867\n",
       "tags            3867\n",
       "complexity      3867\n",
       "dtype: int64"
      ]
     },
     "metadata": {},
     "output_type": "display_data"
    }
   ],
   "source": [
    "problem_list_df = pd.read_csv(codenet.problem_list_clean_v2_path, index_col=\"id\")\n",
    "problem_ids = problem_list_df.index.unique()\n",
    "\n",
    "print(f\"We have {len(problem_list_df)} problems\")\n",
    "print('The distribution of the datasets is')\n",
    "print(problem_list_df['dataset'].value_counts(normalize=True))\n",
    "display(problem_list_df.head())\n",
    "display(problem_list_df.isna().sum())"
   ]
  },
  {
   "cell_type": "markdown",
   "id": "5fe40492",
   "metadata": {},
   "source": [
    "## Generate Source Code Pairs\n",
    "- for each problem:\n",
    "- group solutions by user and select the solutions that are consecutive and of the form (Error, Accepted) and sort by the submission date; heuristic to search a smaller space, since a user might submit a correct solution after a wrong one\n",
    "- build a df from this list and save it\n",
    "\n",
    "Here we want to generate submission pairs that will allow us to find code fixes within the dataset. With this information we will be able to find the instructions that have to be modified, either deleted, inserted or changed, so that the old code starts to work. You would imagine that solutions that were submitted successively should be similar in terms of content and only have a few changes between each other. The small mistakes can be patched by knowing the accepted submission in that chain and give us the errors produced, and thus removed by the correct instruction. These are the submissions that we are interested in and look into finding patterns and further cleaning those that will not prove helpful."
   ]
  },
  {
   "cell_type": "code",
   "execution_count": null,
   "id": "0b45eaa9",
   "metadata": {
    "deletable": false,
    "editable": false,
    "run_control": {
     "frozen": true
    }
   },
   "outputs": [],
   "source": [
    "codenet.generate_pairs_v2(problem_list_df).to_csv(generated_pairs_v2_path, index=False)"
   ]
  },
  {
   "cell_type": "code",
   "execution_count": 3,
   "id": "5d5dc4b7",
   "metadata": {
    "ExecuteTime": {
     "end_time": "2022-01-17T17:35:16.898268Z",
     "start_time": "2022-01-17T17:35:16.726254Z"
    }
   },
   "outputs": [
    {
     "data": {
      "text/html": [
       "<div>\n",
       "<style scoped>\n",
       "    .dataframe tbody tr th:only-of-type {\n",
       "        vertical-align: middle;\n",
       "    }\n",
       "\n",
       "    .dataframe tbody tr th {\n",
       "        vertical-align: top;\n",
       "    }\n",
       "\n",
       "    .dataframe thead th {\n",
       "        text-align: right;\n",
       "    }\n",
       "</style>\n",
       "<table border=\"1\" class=\"dataframe\">\n",
       "  <thead>\n",
       "    <tr style=\"text-align: right;\">\n",
       "      <th></th>\n",
       "      <th>original_id</th>\n",
       "      <th>changed_id</th>\n",
       "      <th>original_status</th>\n",
       "      <th>problem_id</th>\n",
       "      <th>language</th>\n",
       "      <th>filename_ext</th>\n",
       "    </tr>\n",
       "  </thead>\n",
       "  <tbody>\n",
       "    <tr>\n",
       "      <th>0</th>\n",
       "      <td>s000016565</td>\n",
       "      <td>s604436209</td>\n",
       "      <td>Runtime Error</td>\n",
       "      <td>p03106</td>\n",
       "      <td>Python</td>\n",
       "      <td>py</td>\n",
       "    </tr>\n",
       "    <tr>\n",
       "      <th>1</th>\n",
       "      <td>s000023530</td>\n",
       "      <td>s834210063</td>\n",
       "      <td>Runtime Error</td>\n",
       "      <td>p02684</td>\n",
       "      <td>Python</td>\n",
       "      <td>py</td>\n",
       "    </tr>\n",
       "    <tr>\n",
       "      <th>2</th>\n",
       "      <td>s000041036</td>\n",
       "      <td>s454210115</td>\n",
       "      <td>Runtime Error</td>\n",
       "      <td>p02584</td>\n",
       "      <td>Python</td>\n",
       "      <td>py</td>\n",
       "    </tr>\n",
       "    <tr>\n",
       "      <th>3</th>\n",
       "      <td>s000041460</td>\n",
       "      <td>s952454189</td>\n",
       "      <td>Time Limit Exceeded</td>\n",
       "      <td>p02658</td>\n",
       "      <td>Python</td>\n",
       "      <td>py</td>\n",
       "    </tr>\n",
       "    <tr>\n",
       "      <th>4</th>\n",
       "      <td>s000054326</td>\n",
       "      <td>s226572665</td>\n",
       "      <td>Time Limit Exceeded</td>\n",
       "      <td>p02701</td>\n",
       "      <td>Python</td>\n",
       "      <td>py</td>\n",
       "    </tr>\n",
       "    <tr>\n",
       "      <th>...</th>\n",
       "      <td>...</td>\n",
       "      <td>...</td>\n",
       "      <td>...</td>\n",
       "      <td>...</td>\n",
       "      <td>...</td>\n",
       "      <td>...</td>\n",
       "    </tr>\n",
       "    <tr>\n",
       "      <th>54587</th>\n",
       "      <td>s999855642</td>\n",
       "      <td>s185899176</td>\n",
       "      <td>Runtime Error</td>\n",
       "      <td>p02645</td>\n",
       "      <td>Python</td>\n",
       "      <td>py</td>\n",
       "    </tr>\n",
       "    <tr>\n",
       "      <th>54588</th>\n",
       "      <td>s999876744</td>\n",
       "      <td>s590378402</td>\n",
       "      <td>Time Limit Exceeded</td>\n",
       "      <td>p02642</td>\n",
       "      <td>Python</td>\n",
       "      <td>py</td>\n",
       "    </tr>\n",
       "    <tr>\n",
       "      <th>54589</th>\n",
       "      <td>s999891212</td>\n",
       "      <td>s835176880</td>\n",
       "      <td>Runtime Error</td>\n",
       "      <td>p03103</td>\n",
       "      <td>Python</td>\n",
       "      <td>py</td>\n",
       "    </tr>\n",
       "    <tr>\n",
       "      <th>54590</th>\n",
       "      <td>s999921259</td>\n",
       "      <td>s180756175</td>\n",
       "      <td>Time Limit Exceeded</td>\n",
       "      <td>p02713</td>\n",
       "      <td>Python</td>\n",
       "      <td>py</td>\n",
       "    </tr>\n",
       "    <tr>\n",
       "      <th>54591</th>\n",
       "      <td>s999971803</td>\n",
       "      <td>s030030532</td>\n",
       "      <td>Runtime Error</td>\n",
       "      <td>p03043</td>\n",
       "      <td>Python</td>\n",
       "      <td>py</td>\n",
       "    </tr>\n",
       "  </tbody>\n",
       "</table>\n",
       "<p>54592 rows × 6 columns</p>\n",
       "</div>"
      ],
      "text/plain": [
       "      original_id  changed_id      original_status problem_id language  \\\n",
       "0      s000016565  s604436209        Runtime Error     p03106   Python   \n",
       "1      s000023530  s834210063        Runtime Error     p02684   Python   \n",
       "2      s000041036  s454210115        Runtime Error     p02584   Python   \n",
       "3      s000041460  s952454189  Time Limit Exceeded     p02658   Python   \n",
       "4      s000054326  s226572665  Time Limit Exceeded     p02701   Python   \n",
       "...           ...         ...                  ...        ...      ...   \n",
       "54587  s999855642  s185899176        Runtime Error     p02645   Python   \n",
       "54588  s999876744  s590378402  Time Limit Exceeded     p02642   Python   \n",
       "54589  s999891212  s835176880        Runtime Error     p03103   Python   \n",
       "54590  s999921259  s180756175  Time Limit Exceeded     p02713   Python   \n",
       "54591  s999971803  s030030532        Runtime Error     p03043   Python   \n",
       "\n",
       "      filename_ext  \n",
       "0               py  \n",
       "1               py  \n",
       "2               py  \n",
       "3               py  \n",
       "4               py  \n",
       "...            ...  \n",
       "54587           py  \n",
       "54588           py  \n",
       "54589           py  \n",
       "54590           py  \n",
       "54591           py  \n",
       "\n",
       "[54592 rows x 6 columns]"
      ]
     },
     "metadata": {},
     "output_type": "display_data"
    },
    {
     "name": "stdout",
     "output_type": "stream",
     "text": [
      "<class 'pandas.core.frame.DataFrame'>\n",
      "RangeIndex: 54592 entries, 0 to 54591\n",
      "Data columns (total 6 columns):\n",
      " #   Column           Non-Null Count  Dtype \n",
      "---  ------           --------------  ----- \n",
      " 0   original_id      54592 non-null  object\n",
      " 1   changed_id       54592 non-null  object\n",
      " 2   original_status  54592 non-null  object\n",
      " 3   problem_id       54592 non-null  object\n",
      " 4   language         54592 non-null  object\n",
      " 5   filename_ext     54592 non-null  object\n",
      "dtypes: object(6)\n",
      "memory usage: 2.5+ MB\n"
     ]
    },
    {
     "data": {
      "text/plain": [
       "None"
      ]
     },
     "metadata": {},
     "output_type": "display_data"
    },
    {
     "data": {
      "text/plain": [
       "Python    54592\n",
       "Name: language, dtype: int64"
      ]
     },
     "metadata": {},
     "output_type": "display_data"
    },
    {
     "data": {
      "text/plain": [
       "Runtime Error             34126\n",
       "Time Limit Exceeded       18385\n",
       "WA: Presentation Error     1938\n",
       "Memory Limit Exceeded       134\n",
       "Output Limit Exceeded         8\n",
       "Judge Not Available           1\n",
       "Name: original_status, dtype: int64"
      ]
     },
     "metadata": {},
     "output_type": "display_data"
    },
    {
     "name": "stdout",
     "output_type": "stream",
     "text": [
      "We are left with 54592 submissions in total\n"
     ]
    }
   ],
   "source": [
    "generated_pairs_df = pd.read_csv(codenet.generated_pairs_v2_path)\n",
    "\n",
    "display(generated_pairs_df)\n",
    "display(generated_pairs_df.info())\n",
    "display(generated_pairs_df.language.value_counts())\n",
    "display(generated_pairs_df.original_status.value_counts())\n",
    "\n",
    "print(f\"We are left with {len(generated_pairs_df)} submissions in total\")"
   ]
  },
  {
   "cell_type": "markdown",
   "id": "9b965b61",
   "metadata": {},
   "source": [
    "## Tokenize Source Code Pairs\n",
    "\n",
    "next"
   ]
  },
  {
   "cell_type": "code",
   "execution_count": null,
   "id": "fdb78f67",
   "metadata": {},
   "outputs": [],
   "source": []
  }
 ],
 "metadata": {
  "kernelspec": {
   "display_name": "Python 3 (ipykernel)",
   "language": "python",
   "name": "python3"
  },
  "language_info": {
   "codemirror_mode": {
    "name": "ipython",
    "version": 3
   },
   "file_extension": ".py",
   "mimetype": "text/x-python",
   "name": "python",
   "nbconvert_exporter": "python",
   "pygments_lexer": "ipython3",
   "version": "3.9.5"
  }
 },
 "nbformat": 4,
 "nbformat_minor": 5
}
