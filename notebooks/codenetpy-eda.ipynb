{
 "cells": [
  {
   "cell_type": "markdown",
   "id": "c946ea6e",
   "metadata": {
    "papermill": {
     "duration": 0.010531,
     "end_time": "2022-03-11T12:54:28.086954",
     "exception": false,
     "start_time": "2022-03-11T12:54:28.076423",
     "status": "completed"
    },
    "tags": []
   },
   "source": [
    "# CodeNetPy Dataset\n",
    "\n",
    "In this notebook I intend to make it very easy to visualize all the necessary information about a specific problem. The base dataset I will be using in this notebook is [CodeNet](https://github.com/IBM/Project_CodeNet) which is a large collection of source files and problem descriptions with metadata. The solutions are written in multiple programming languages (55+ according to the paper) and each problem has multiple submissions. Most of the submissions are written in the six most common languages (C++, Python, Java, C, Ruby, C#). As expected most of the solutions are in C++. One interesting aspect of the dataset is that it includes failed submissions, with various status codes such as Compilation Errors, Runtime Errors, Time Limit Exceeded, Memory Limit Exceeded, etc. This will prove useful since we are looking into bug detection in source code files.\n",
    "\n",
    "To be able to run the notebook you have to run the `codenet.py` script first. It will download and preprocess the CodeNetPy dataset.\n",
    "\n",
    "```console\n",
    "python3 codenet.py\n",
    "```\n",
    "\n",
    "## Table of Contents\n",
    "1. [Imports](#Imports)\n",
    "1. [Download CodeNet](#Download-CodeNet)\n",
    "1. [Missing Values](#Missing-Values)\n",
    "1. [Generate Source Code Pairs](#Generate-Source-Code-Pairs)\n",
    "1. [Generate Error Pairs](#Generate-Error-Pairs)\n",
    "1. [Examples of buggy code](#Examples-of-buggy-code)\n",
    "\n",
    "## Imports"
   ]
  },
  {
   "cell_type": "code",
   "execution_count": 1,
   "id": "7c6ec3d2",
   "metadata": {
    "ExecuteTime": {
     "end_time": "2022-04-09T07:05:50.942516Z",
     "start_time": "2022-04-09T07:05:50.207843Z"
    },
    "execution": {
     "iopub.execute_input": "2022-03-11T12:54:28.111520Z",
     "iopub.status.busy": "2022-03-11T12:54:28.109880Z",
     "iopub.status.idle": "2022-03-11T12:54:28.175183Z",
     "shell.execute_reply": "2022-03-11T12:54:28.175633Z",
     "shell.execute_reply.started": "2022-03-11T12:49:24.637186Z"
    },
    "papermill": {
     "duration": 0.079005,
     "end_time": "2022-03-11T12:54:28.175932",
     "exception": false,
     "start_time": "2022-03-11T12:54:28.096927",
     "status": "completed"
    },
    "tags": []
   },
   "outputs": [],
   "source": [
    "import json\n",
    "\n",
    "import numpy as np\n",
    "import pandas as pd\n",
    "\n",
    "from difflib import SequenceMatcher\n",
    "from IPython.display import HTML\n",
    "\n",
    "pd.set_option('max_columns', None)\n",
    "\n",
    "problem_list_clean_path = \"../../input/generated/problem_list_clean.csv\"\n",
    "generated_pairs_path = \"../../input/generated/generated_pairs.csv\"\n",
    "codenetpy_path = \"../../input/generated/codenetpy.json\""
   ]
  },
  {
   "cell_type": "markdown",
   "id": "763793ab",
   "metadata": {
    "papermill": {
     "duration": 0.009029,
     "end_time": "2022-03-11T12:54:28.194323",
     "exception": false,
     "start_time": "2022-03-11T12:54:28.185294",
     "status": "completed"
    },
    "tags": []
   },
   "source": [
    "## Download CodeNet\n",
    "\n",
    "To generate the same dataset as the one used in this project you can download the CodeNet dataset as described in IBM's GitHub repository and run the data processing pipeline from [this](https://github.com/alexjercan/bug-detection) GitHub repo."
   ]
  },
  {
   "cell_type": "markdown",
   "id": "92bca386",
   "metadata": {
    "papermill": {
     "duration": 0.008967,
     "end_time": "2022-03-11T12:54:28.212626",
     "exception": false,
     "start_time": "2022-03-11T12:54:28.203659",
     "status": "completed"
    },
    "tags": []
   },
   "source": [
    "## Missing Values\n",
    "\n",
    "The dataset also includes a description file for most of the problems. We can see which problems have or don't have a description associated. The description file can be useful to predict what the problem topic is about, graphs, dp, greedy, etc.\n",
    "\n",
    "In the case of missing input files, I think it is also better to just drop the submissions, most of the description files are written in Chinese and we cannot really extract any useful information from them. Since there are so few files with no input we can drop them. By looking in the description files there are like 2 problems with no input from the stdin.\n",
    "\n",
    "To conclude the missing values section, 54/56 of the missing names in the problems list are due to missing description files 1/56 is just a href which links to a 404 web page and the last one is a test problem, the later 2 problems having no submissions anyway. I think it is a fair decision to drop these samples as they are not useful. There will be 130 remaining problems with no input/output samples and 128 of them have description files in Chinese which makes it harder to extract samples, and 2 of them only require printing of values (similar to problem p00000). In this case I also think that it is ok to drop those 2 problems that don't need input alongside the rest of problems that have no input examples extracted, because we don't have to remember that there is one or two problems that can cause some bugs later on.\n",
    "\n",
    "In the next cell we can look at the cleaned problem list dataframe that is contained in the CodeNetPy dataset."
   ]
  },
  {
   "cell_type": "code",
   "execution_count": 2,
   "id": "8051d321",
   "metadata": {
    "ExecuteTime": {
     "end_time": "2022-04-09T07:05:51.004337Z",
     "start_time": "2022-04-09T07:05:50.944330Z"
    },
    "execution": {
     "iopub.execute_input": "2022-03-11T12:54:28.236545Z",
     "iopub.status.busy": "2022-03-11T12:54:28.235970Z",
     "iopub.status.idle": "2022-03-11T12:54:28.292309Z",
     "shell.execute_reply": "2022-03-11T12:54:28.291814Z",
     "shell.execute_reply.started": "2022-03-11T12:49:24.743272Z"
    },
    "papermill": {
     "duration": 0.07067,
     "end_time": "2022-03-11T12:54:28.292442",
     "exception": false,
     "start_time": "2022-03-11T12:54:28.221772",
     "status": "completed"
    },
    "tags": []
   },
   "outputs": [
    {
     "name": "stdout",
     "output_type": "stream",
     "text": [
      "We have 3867 problems\n",
      "The distribution of the datasets is\n",
      "AIZU       0.613654\n",
      "AtCoder    0.386346\n",
      "Name: dataset, dtype: float64\n"
     ]
    },
    {
     "data": {
      "text/html": [
       "<div>\n",
       "<style scoped>\n",
       "    .dataframe tbody tr th:only-of-type {\n",
       "        vertical-align: middle;\n",
       "    }\n",
       "\n",
       "    .dataframe tbody tr th {\n",
       "        vertical-align: top;\n",
       "    }\n",
       "\n",
       "    .dataframe thead th {\n",
       "        text-align: right;\n",
       "    }\n",
       "</style>\n",
       "<table border=\"1\" class=\"dataframe\">\n",
       "  <thead>\n",
       "    <tr style=\"text-align: right;\">\n",
       "      <th></th>\n",
       "      <th>name</th>\n",
       "      <th>dataset</th>\n",
       "      <th>time_limit</th>\n",
       "      <th>memory_limit</th>\n",
       "      <th>rating</th>\n",
       "      <th>tags</th>\n",
       "      <th>complexity</th>\n",
       "    </tr>\n",
       "    <tr>\n",
       "      <th>id</th>\n",
       "      <th></th>\n",
       "      <th></th>\n",
       "      <th></th>\n",
       "      <th></th>\n",
       "      <th></th>\n",
       "      <th></th>\n",
       "      <th></th>\n",
       "    </tr>\n",
       "  </thead>\n",
       "  <tbody>\n",
       "    <tr>\n",
       "      <th>p00001</th>\n",
       "      <td>List of Top 3 Hills</td>\n",
       "      <td>AIZU</td>\n",
       "      <td>1000.0</td>\n",
       "      <td>131072.0</td>\n",
       "      <td>NaN</td>\n",
       "      <td>NaN</td>\n",
       "      <td>NaN</td>\n",
       "    </tr>\n",
       "    <tr>\n",
       "      <th>p00002</th>\n",
       "      <td>Digit Number</td>\n",
       "      <td>AIZU</td>\n",
       "      <td>1000.0</td>\n",
       "      <td>131072.0</td>\n",
       "      <td>NaN</td>\n",
       "      <td>NaN</td>\n",
       "      <td>NaN</td>\n",
       "    </tr>\n",
       "    <tr>\n",
       "      <th>p00003</th>\n",
       "      <td>Is it a Right Triangle?</td>\n",
       "      <td>AIZU</td>\n",
       "      <td>1000.0</td>\n",
       "      <td>131072.0</td>\n",
       "      <td>NaN</td>\n",
       "      <td>NaN</td>\n",
       "      <td>NaN</td>\n",
       "    </tr>\n",
       "    <tr>\n",
       "      <th>p00004</th>\n",
       "      <td>Simultaneous Equation</td>\n",
       "      <td>AIZU</td>\n",
       "      <td>1000.0</td>\n",
       "      <td>131072.0</td>\n",
       "      <td>NaN</td>\n",
       "      <td>NaN</td>\n",
       "      <td>NaN</td>\n",
       "    </tr>\n",
       "    <tr>\n",
       "      <th>p00005</th>\n",
       "      <td>GCD and LCM</td>\n",
       "      <td>AIZU</td>\n",
       "      <td>1000.0</td>\n",
       "      <td>131072.0</td>\n",
       "      <td>NaN</td>\n",
       "      <td>NaN</td>\n",
       "      <td>NaN</td>\n",
       "    </tr>\n",
       "  </tbody>\n",
       "</table>\n",
       "</div>"
      ],
      "text/plain": [
       "                           name dataset  time_limit  memory_limit  rating  \\\n",
       "id                                                                          \n",
       "p00001      List of Top 3 Hills    AIZU      1000.0      131072.0     NaN   \n",
       "p00002             Digit Number    AIZU      1000.0      131072.0     NaN   \n",
       "p00003  Is it a Right Triangle?    AIZU      1000.0      131072.0     NaN   \n",
       "p00004    Simultaneous Equation    AIZU      1000.0      131072.0     NaN   \n",
       "p00005              GCD and LCM    AIZU      1000.0      131072.0     NaN   \n",
       "\n",
       "        tags  complexity  \n",
       "id                        \n",
       "p00001   NaN         NaN  \n",
       "p00002   NaN         NaN  \n",
       "p00003   NaN         NaN  \n",
       "p00004   NaN         NaN  \n",
       "p00005   NaN         NaN  "
      ]
     },
     "metadata": {},
     "output_type": "display_data"
    },
    {
     "data": {
      "text/plain": [
       "name               0\n",
       "dataset            0\n",
       "time_limit         0\n",
       "memory_limit       0\n",
       "rating          3867\n",
       "tags            3867\n",
       "complexity      3867\n",
       "dtype: int64"
      ]
     },
     "metadata": {},
     "output_type": "display_data"
    }
   ],
   "source": [
    "problem_list_df = pd.read_csv(problem_list_clean_path, index_col='id')\n",
    "problem_ids = problem_list_df.index.unique()\n",
    "\n",
    "print(f'We have {len(problem_list_df)} problems')\n",
    "print('The distribution of the datasets is')\n",
    "print(problem_list_df['dataset'].value_counts(normalize=True))\n",
    "display(problem_list_df.head())\n",
    "display(problem_list_df.isna().sum())"
   ]
  },
  {
   "cell_type": "markdown",
   "id": "a39a252e",
   "metadata": {
    "papermill": {
     "duration": 0.01014,
     "end_time": "2022-03-11T12:54:28.313629",
     "exception": false,
     "start_time": "2022-03-11T12:54:28.303489",
     "status": "completed"
    },
    "tags": []
   },
   "source": [
    "## Generate Source Code Pairs\n",
    "- for each problem:\n",
    "- group solutions by user and select the solutions that are consecutive and of the form (Error, Accepted) and sort by the submission date; heuristic to search a smaller space, since a user might submit a correct solution after a wrong one\n",
    "- build a df from this list and save it\n",
    "\n",
    "Here we want to generate submission pairs that will allow us to find code fixes within the dataset. With this information we will be able to find the instructions that have to be modified, either deleted, inserted or changed, so that the old code starts to work. You would imagine that solutions that were submitted successively should be similar in terms of content and only have a few changes between each other. The small mistakes can be patched by knowing the accepted submission in that chain and give us the errors produced, and thus removed by the correct instruction. These are the submissions that we are interested in and look into finding patterns and further cleaning those that will not prove helpful."
   ]
  },
  {
   "cell_type": "code",
   "execution_count": 3,
   "id": "00c9502d",
   "metadata": {
    "ExecuteTime": {
     "end_time": "2022-04-09T07:05:51.250306Z",
     "start_time": "2022-04-09T07:05:51.007864Z"
    },
    "execution": {
     "iopub.execute_input": "2022-03-11T12:54:28.337383Z",
     "iopub.status.busy": "2022-03-11T12:54:28.336739Z",
     "iopub.status.idle": "2022-03-11T12:54:28.504060Z",
     "shell.execute_reply": "2022-03-11T12:54:28.503588Z",
     "shell.execute_reply.started": "2022-03-11T12:49:24.819230Z"
    },
    "papermill": {
     "duration": 0.180134,
     "end_time": "2022-03-11T12:54:28.504185",
     "exception": false,
     "start_time": "2022-03-11T12:54:28.324051",
     "status": "completed"
    },
    "tags": []
   },
   "outputs": [
    {
     "data": {
      "text/html": [
       "<div>\n",
       "<style scoped>\n",
       "    .dataframe tbody tr th:only-of-type {\n",
       "        vertical-align: middle;\n",
       "    }\n",
       "\n",
       "    .dataframe tbody tr th {\n",
       "        vertical-align: top;\n",
       "    }\n",
       "\n",
       "    .dataframe thead th {\n",
       "        text-align: right;\n",
       "    }\n",
       "</style>\n",
       "<table border=\"1\" class=\"dataframe\">\n",
       "  <thead>\n",
       "    <tr style=\"text-align: right;\">\n",
       "      <th></th>\n",
       "      <th>original_id</th>\n",
       "      <th>changed_id</th>\n",
       "      <th>original_status</th>\n",
       "      <th>problem_id</th>\n",
       "      <th>language</th>\n",
       "      <th>filename_ext</th>\n",
       "    </tr>\n",
       "  </thead>\n",
       "  <tbody>\n",
       "    <tr>\n",
       "      <th>0</th>\n",
       "      <td>s000016565</td>\n",
       "      <td>s604436209</td>\n",
       "      <td>Runtime Error</td>\n",
       "      <td>p03106</td>\n",
       "      <td>Python</td>\n",
       "      <td>py</td>\n",
       "    </tr>\n",
       "    <tr>\n",
       "      <th>1</th>\n",
       "      <td>s000023530</td>\n",
       "      <td>s834210063</td>\n",
       "      <td>Runtime Error</td>\n",
       "      <td>p02684</td>\n",
       "      <td>Python</td>\n",
       "      <td>py</td>\n",
       "    </tr>\n",
       "    <tr>\n",
       "      <th>2</th>\n",
       "      <td>s000041036</td>\n",
       "      <td>s454210115</td>\n",
       "      <td>Runtime Error</td>\n",
       "      <td>p02584</td>\n",
       "      <td>Python</td>\n",
       "      <td>py</td>\n",
       "    </tr>\n",
       "    <tr>\n",
       "      <th>3</th>\n",
       "      <td>s000041460</td>\n",
       "      <td>s952454189</td>\n",
       "      <td>Time Limit Exceeded</td>\n",
       "      <td>p02658</td>\n",
       "      <td>Python</td>\n",
       "      <td>py</td>\n",
       "    </tr>\n",
       "    <tr>\n",
       "      <th>4</th>\n",
       "      <td>s000054326</td>\n",
       "      <td>s226572665</td>\n",
       "      <td>Time Limit Exceeded</td>\n",
       "      <td>p02701</td>\n",
       "      <td>Python</td>\n",
       "      <td>py</td>\n",
       "    </tr>\n",
       "    <tr>\n",
       "      <th>...</th>\n",
       "      <td>...</td>\n",
       "      <td>...</td>\n",
       "      <td>...</td>\n",
       "      <td>...</td>\n",
       "      <td>...</td>\n",
       "      <td>...</td>\n",
       "    </tr>\n",
       "    <tr>\n",
       "      <th>54587</th>\n",
       "      <td>s999855642</td>\n",
       "      <td>s185899176</td>\n",
       "      <td>Runtime Error</td>\n",
       "      <td>p02645</td>\n",
       "      <td>Python</td>\n",
       "      <td>py</td>\n",
       "    </tr>\n",
       "    <tr>\n",
       "      <th>54588</th>\n",
       "      <td>s999876744</td>\n",
       "      <td>s590378402</td>\n",
       "      <td>Time Limit Exceeded</td>\n",
       "      <td>p02642</td>\n",
       "      <td>Python</td>\n",
       "      <td>py</td>\n",
       "    </tr>\n",
       "    <tr>\n",
       "      <th>54589</th>\n",
       "      <td>s999891212</td>\n",
       "      <td>s835176880</td>\n",
       "      <td>Runtime Error</td>\n",
       "      <td>p03103</td>\n",
       "      <td>Python</td>\n",
       "      <td>py</td>\n",
       "    </tr>\n",
       "    <tr>\n",
       "      <th>54590</th>\n",
       "      <td>s999921259</td>\n",
       "      <td>s180756175</td>\n",
       "      <td>Time Limit Exceeded</td>\n",
       "      <td>p02713</td>\n",
       "      <td>Python</td>\n",
       "      <td>py</td>\n",
       "    </tr>\n",
       "    <tr>\n",
       "      <th>54591</th>\n",
       "      <td>s999971803</td>\n",
       "      <td>s030030532</td>\n",
       "      <td>Runtime Error</td>\n",
       "      <td>p03043</td>\n",
       "      <td>Python</td>\n",
       "      <td>py</td>\n",
       "    </tr>\n",
       "  </tbody>\n",
       "</table>\n",
       "<p>54592 rows × 6 columns</p>\n",
       "</div>"
      ],
      "text/plain": [
       "      original_id  changed_id      original_status problem_id language  \\\n",
       "0      s000016565  s604436209        Runtime Error     p03106   Python   \n",
       "1      s000023530  s834210063        Runtime Error     p02684   Python   \n",
       "2      s000041036  s454210115        Runtime Error     p02584   Python   \n",
       "3      s000041460  s952454189  Time Limit Exceeded     p02658   Python   \n",
       "4      s000054326  s226572665  Time Limit Exceeded     p02701   Python   \n",
       "...           ...         ...                  ...        ...      ...   \n",
       "54587  s999855642  s185899176        Runtime Error     p02645   Python   \n",
       "54588  s999876744  s590378402  Time Limit Exceeded     p02642   Python   \n",
       "54589  s999891212  s835176880        Runtime Error     p03103   Python   \n",
       "54590  s999921259  s180756175  Time Limit Exceeded     p02713   Python   \n",
       "54591  s999971803  s030030532        Runtime Error     p03043   Python   \n",
       "\n",
       "      filename_ext  \n",
       "0               py  \n",
       "1               py  \n",
       "2               py  \n",
       "3               py  \n",
       "4               py  \n",
       "...            ...  \n",
       "54587           py  \n",
       "54588           py  \n",
       "54589           py  \n",
       "54590           py  \n",
       "54591           py  \n",
       "\n",
       "[54592 rows x 6 columns]"
      ]
     },
     "metadata": {},
     "output_type": "display_data"
    },
    {
     "name": "stdout",
     "output_type": "stream",
     "text": [
      "<class 'pandas.core.frame.DataFrame'>\n",
      "RangeIndex: 54592 entries, 0 to 54591\n",
      "Data columns (total 6 columns):\n",
      " #   Column           Non-Null Count  Dtype \n",
      "---  ------           --------------  ----- \n",
      " 0   original_id      54592 non-null  object\n",
      " 1   changed_id       54592 non-null  object\n",
      " 2   original_status  54592 non-null  object\n",
      " 3   problem_id       54592 non-null  object\n",
      " 4   language         54592 non-null  object\n",
      " 5   filename_ext     54592 non-null  object\n",
      "dtypes: object(6)\n",
      "memory usage: 2.5+ MB\n"
     ]
    },
    {
     "data": {
      "text/plain": [
       "None"
      ]
     },
     "metadata": {},
     "output_type": "display_data"
    },
    {
     "data": {
      "text/plain": [
       "Python    54592\n",
       "Name: language, dtype: int64"
      ]
     },
     "metadata": {},
     "output_type": "display_data"
    },
    {
     "data": {
      "text/plain": [
       "Runtime Error             34126\n",
       "Time Limit Exceeded       18385\n",
       "WA: Presentation Error     1938\n",
       "Memory Limit Exceeded       134\n",
       "Output Limit Exceeded         8\n",
       "Judge Not Available           1\n",
       "Name: original_status, dtype: int64"
      ]
     },
     "metadata": {},
     "output_type": "display_data"
    },
    {
     "name": "stdout",
     "output_type": "stream",
     "text": [
      "We are left with 54592 submissions in total\n"
     ]
    }
   ],
   "source": [
    "generated_pairs_df = pd.read_csv(generated_pairs_path)\n",
    "\n",
    "display(generated_pairs_df)\n",
    "display(generated_pairs_df.info())\n",
    "display(generated_pairs_df.language.value_counts())\n",
    "display(generated_pairs_df.original_status.value_counts())\n",
    "\n",
    "print(f'We are left with {len(generated_pairs_df)} submissions in total')"
   ]
  },
  {
   "cell_type": "markdown",
   "id": "5320bb19",
   "metadata": {
    "papermill": {
     "duration": 0.016609,
     "end_time": "2022-03-11T12:54:29.324319",
     "exception": false,
     "start_time": "2022-03-11T12:54:29.307710",
     "status": "completed"
    },
    "tags": []
   },
   "source": [
    "## Generate Error Pairs\n",
    "\n",
    "In this section we are going to generate the error classes for each of the found changes. To be able to create an error message for each change we have to generate the corresponding source code files to analyze what error would be produced by each modification. After this step we can run the source code and obtain the error message for the analyzed instruction. Next we repeat this step for the rest of the instruction changed in a single file. This way we obtained 250K labels that contain errors, compared to the previous attempt where we considered only the files that had a single instruction changed, where we obtained only 5K examples. Now, out of the entire set of generated pairs, a third contained instructions that did not matter toward the acceptance of the problem. These instructions, when analyzed, obtained a return code with the value of zero, indicating that the execution was successful. Out of the remaining buggy instructions, half are syntax errors, and the other more frequent errors are Python related problems, with some indentation bugs and type bugs."
   ]
  },
  {
   "cell_type": "code",
   "execution_count": 4,
   "id": "8bbad9a8",
   "metadata": {
    "ExecuteTime": {
     "end_time": "2022-04-09T07:05:52.329895Z",
     "start_time": "2022-04-09T07:05:51.253218Z"
    },
    "execution": {
     "iopub.execute_input": "2022-03-11T12:54:29.359134Z",
     "iopub.status.busy": "2022-03-11T12:54:29.358560Z",
     "iopub.status.idle": "2022-03-11T12:54:32.520959Z",
     "shell.execute_reply": "2022-03-11T12:54:32.521389Z",
     "shell.execute_reply.started": "2022-03-11T12:49:25.958276Z"
    },
    "papermill": {
     "duration": 3.182257,
     "end_time": "2022-03-11T12:54:32.521543",
     "exception": false,
     "start_time": "2022-03-11T12:54:29.339286",
     "status": "completed"
    },
    "tags": []
   },
   "outputs": [
    {
     "data": {
      "text/html": [
       "<div>\n",
       "<style scoped>\n",
       "    .dataframe tbody tr th:only-of-type {\n",
       "        vertical-align: middle;\n",
       "    }\n",
       "\n",
       "    .dataframe tbody tr th {\n",
       "        vertical-align: top;\n",
       "    }\n",
       "\n",
       "    .dataframe thead th {\n",
       "        text-align: right;\n",
       "    }\n",
       "</style>\n",
       "<table border=\"1\" class=\"dataframe\">\n",
       "  <thead>\n",
       "    <tr style=\"text-align: right;\">\n",
       "      <th></th>\n",
       "      <th>original_src</th>\n",
       "      <th>changed_src</th>\n",
       "      <th>problem_id</th>\n",
       "      <th>original_id</th>\n",
       "      <th>changed_id</th>\n",
       "      <th>language</th>\n",
       "      <th>filename_ext</th>\n",
       "      <th>original_status</th>\n",
       "      <th>returncode</th>\n",
       "      <th>error_class</th>\n",
       "      <th>error_class_extra</th>\n",
       "      <th>error</th>\n",
       "      <th>output</th>\n",
       "    </tr>\n",
       "  </thead>\n",
       "  <tbody>\n",
       "    <tr>\n",
       "      <th>0</th>\n",
       "      <td>a, b, c = map(int, input().split())\\n\\nif a=5,...</td>\n",
       "      <td>a, b, c = map(int, input().split())\\niroha = [...</td>\n",
       "      <td>p04043</td>\n",
       "      <td>s008791833</td>\n",
       "      <td>s239750578</td>\n",
       "      <td>Python</td>\n",
       "      <td>py</td>\n",
       "      <td>Runtime Error</td>\n",
       "      <td>1</td>\n",
       "      <td>SyntaxError</td>\n",
       "      <td>SyntaxError: invalid syntax</td>\n",
       "      <td>File \"/home/alex/Documents/research/bug-dete...</td>\n",
       "      <td></td>\n",
       "    </tr>\n",
       "    <tr>\n",
       "      <th>1</th>\n",
       "      <td>S=int(input())\\nh=int(S / 3600)\\nm=int((s / 36...</td>\n",
       "      <td>S = int(input())\\nh = S // 3600\\nm = S % 3600 ...</td>\n",
       "      <td>p02390</td>\n",
       "      <td>s015523893</td>\n",
       "      <td>s437020613</td>\n",
       "      <td>Python</td>\n",
       "      <td>py</td>\n",
       "      <td>Runtime Error</td>\n",
       "      <td>1</td>\n",
       "      <td>NameError</td>\n",
       "      <td>NameError: name 's' is not defined</td>\n",
       "      <td>Traceback (most recent call last):\\n  File \"/h...</td>\n",
       "      <td></td>\n",
       "    </tr>\n",
       "    <tr>\n",
       "      <th>2</th>\n",
       "      <td>seep, wolf = map(int, input().rstrip())\\n\\nif ...</td>\n",
       "      <td>seep, wolf = map(int, input().rstrip().split()...</td>\n",
       "      <td>p02699</td>\n",
       "      <td>s024536009</td>\n",
       "      <td>s838012510</td>\n",
       "      <td>Python</td>\n",
       "      <td>py</td>\n",
       "      <td>Runtime Error</td>\n",
       "      <td>1</td>\n",
       "      <td>ValueError</td>\n",
       "      <td>ValueError: invalid literal for int() with bas...</td>\n",
       "      <td>Traceback (most recent call last):\\n  File \"/h...</td>\n",
       "      <td></td>\n",
       "    </tr>\n",
       "    <tr>\n",
       "      <th>3</th>\n",
       "      <td>n = int(input())\\ns = [input() for i in range(...</td>\n",
       "      <td>import collections\\nn = int(input())\\ns = [inp...</td>\n",
       "      <td>p02701</td>\n",
       "      <td>s020385685</td>\n",
       "      <td>s773213317</td>\n",
       "      <td>Python</td>\n",
       "      <td>py</td>\n",
       "      <td>Time Limit Exceeded</td>\n",
       "      <td>0</td>\n",
       "      <td>0</td>\n",
       "      <td></td>\n",
       "      <td></td>\n",
       "      <td>2\\n</td>\n",
       "    </tr>\n",
       "    <tr>\n",
       "      <th>4</th>\n",
       "      <td>import sys\\nsys.setrecursionlimit(100000)\\n\\nd...</td>\n",
       "      <td>import sys\\nsys.setrecursionlimit(1000000)\\n\\n...</td>\n",
       "      <td>p02573</td>\n",
       "      <td>s012413364</td>\n",
       "      <td>s819427232</td>\n",
       "      <td>Python</td>\n",
       "      <td>py</td>\n",
       "      <td>Runtime Error</td>\n",
       "      <td>0</td>\n",
       "      <td>0</td>\n",
       "      <td></td>\n",
       "      <td></td>\n",
       "      <td>3\\n</td>\n",
       "    </tr>\n",
       "    <tr>\n",
       "      <th>...</th>\n",
       "      <td>...</td>\n",
       "      <td>...</td>\n",
       "      <td>...</td>\n",
       "      <td>...</td>\n",
       "      <td>...</td>\n",
       "      <td>...</td>\n",
       "      <td>...</td>\n",
       "      <td>...</td>\n",
       "      <td>...</td>\n",
       "      <td>...</td>\n",
       "      <td>...</td>\n",
       "      <td>...</td>\n",
       "      <td>...</td>\n",
       "    </tr>\n",
       "    <tr>\n",
       "      <th>54587</th>\n",
       "      <td>import numpy as np\\n\\ndef main():\\n    N = int...</td>\n",
       "      <td>N = int(input())\\nAn = list(map(int, input().s...</td>\n",
       "      <td>p02642</td>\n",
       "      <td>s999876744</td>\n",
       "      <td>s590378402</td>\n",
       "      <td>Python</td>\n",
       "      <td>py</td>\n",
       "      <td>Time Limit Exceeded</td>\n",
       "      <td>0</td>\n",
       "      <td>0</td>\n",
       "      <td></td>\n",
       "      <td></td>\n",
       "      <td>3\\n</td>\n",
       "    </tr>\n",
       "    <tr>\n",
       "      <th>54588</th>\n",
       "      <td>#!/usr/bin/env python3\\nimport numpy as np\\n\\n...</td>\n",
       "      <td>#!/usr/bin/env python3\\n\\n#                 N ...</td>\n",
       "      <td>p02624</td>\n",
       "      <td>s999814239</td>\n",
       "      <td>s783590686</td>\n",
       "      <td>Python</td>\n",
       "      <td>py</td>\n",
       "      <td>Time Limit Exceeded</td>\n",
       "      <td>0</td>\n",
       "      <td>0</td>\n",
       "      <td></td>\n",
       "      <td></td>\n",
       "      <td>23\\n</td>\n",
       "    </tr>\n",
       "    <tr>\n",
       "      <th>54589</th>\n",
       "      <td>N = int(input())\\nK = int(input())\\nresult = 0...</td>\n",
       "      <td>N,K = map(int,input().split())\\nresult = 0\\nfo...</td>\n",
       "      <td>p03043</td>\n",
       "      <td>s999971803</td>\n",
       "      <td>s030030532</td>\n",
       "      <td>Python</td>\n",
       "      <td>py</td>\n",
       "      <td>Runtime Error</td>\n",
       "      <td>1</td>\n",
       "      <td>ValueError</td>\n",
       "      <td>ValueError: invalid literal for int() with bas...</td>\n",
       "      <td>Traceback (most recent call last):\\n  File \"/h...</td>\n",
       "      <td></td>\n",
       "    </tr>\n",
       "    <tr>\n",
       "      <th>54590</th>\n",
       "      <td>from decimal import *\\n\\nn = int(input())\\nans...</td>\n",
       "      <td>from decimal import *\\n\\nn = int(input())\\nans...</td>\n",
       "      <td>p02588</td>\n",
       "      <td>s999831708</td>\n",
       "      <td>s237718445</td>\n",
       "      <td>Python</td>\n",
       "      <td>py</td>\n",
       "      <td>Time Limit Exceeded</td>\n",
       "      <td>0</td>\n",
       "      <td>0</td>\n",
       "      <td></td>\n",
       "      <td></td>\n",
       "      <td>3\\n</td>\n",
       "    </tr>\n",
       "    <tr>\n",
       "      <th>54591</th>\n",
       "      <td># compiled by pythran\\n\"\"\"\\n#pythran export ma...</td>\n",
       "      <td>import numpy as np\\nfrom numba import njit\\ni4...</td>\n",
       "      <td>p02579</td>\n",
       "      <td>s998669419</td>\n",
       "      <td>s846954627</td>\n",
       "      <td>Python</td>\n",
       "      <td>py</td>\n",
       "      <td>Time Limit Exceeded</td>\n",
       "      <td>1</td>\n",
       "      <td>FileNotFoundError</td>\n",
       "      <td>FileNotFoundError: [Errno 2] No such file or d...</td>\n",
       "      <td>Traceback (most recent call last):\\n  File \"/h...</td>\n",
       "      <td></td>\n",
       "    </tr>\n",
       "  </tbody>\n",
       "</table>\n",
       "<p>54592 rows × 13 columns</p>\n",
       "</div>"
      ],
      "text/plain": [
       "                                            original_src  \\\n",
       "0      a, b, c = map(int, input().split())\\n\\nif a=5,...   \n",
       "1      S=int(input())\\nh=int(S / 3600)\\nm=int((s / 36...   \n",
       "2      seep, wolf = map(int, input().rstrip())\\n\\nif ...   \n",
       "3      n = int(input())\\ns = [input() for i in range(...   \n",
       "4      import sys\\nsys.setrecursionlimit(100000)\\n\\nd...   \n",
       "...                                                  ...   \n",
       "54587  import numpy as np\\n\\ndef main():\\n    N = int...   \n",
       "54588  #!/usr/bin/env python3\\nimport numpy as np\\n\\n...   \n",
       "54589  N = int(input())\\nK = int(input())\\nresult = 0...   \n",
       "54590  from decimal import *\\n\\nn = int(input())\\nans...   \n",
       "54591  # compiled by pythran\\n\"\"\"\\n#pythran export ma...   \n",
       "\n",
       "                                             changed_src problem_id  \\\n",
       "0      a, b, c = map(int, input().split())\\niroha = [...     p04043   \n",
       "1      S = int(input())\\nh = S // 3600\\nm = S % 3600 ...     p02390   \n",
       "2      seep, wolf = map(int, input().rstrip().split()...     p02699   \n",
       "3      import collections\\nn = int(input())\\ns = [inp...     p02701   \n",
       "4      import sys\\nsys.setrecursionlimit(1000000)\\n\\n...     p02573   \n",
       "...                                                  ...        ...   \n",
       "54587  N = int(input())\\nAn = list(map(int, input().s...     p02642   \n",
       "54588  #!/usr/bin/env python3\\n\\n#                 N ...     p02624   \n",
       "54589  N,K = map(int,input().split())\\nresult = 0\\nfo...     p03043   \n",
       "54590  from decimal import *\\n\\nn = int(input())\\nans...     p02588   \n",
       "54591  import numpy as np\\nfrom numba import njit\\ni4...     p02579   \n",
       "\n",
       "      original_id  changed_id language filename_ext      original_status  \\\n",
       "0      s008791833  s239750578   Python           py        Runtime Error   \n",
       "1      s015523893  s437020613   Python           py        Runtime Error   \n",
       "2      s024536009  s838012510   Python           py        Runtime Error   \n",
       "3      s020385685  s773213317   Python           py  Time Limit Exceeded   \n",
       "4      s012413364  s819427232   Python           py        Runtime Error   \n",
       "...           ...         ...      ...          ...                  ...   \n",
       "54587  s999876744  s590378402   Python           py  Time Limit Exceeded   \n",
       "54588  s999814239  s783590686   Python           py  Time Limit Exceeded   \n",
       "54589  s999971803  s030030532   Python           py        Runtime Error   \n",
       "54590  s999831708  s237718445   Python           py  Time Limit Exceeded   \n",
       "54591  s998669419  s846954627   Python           py  Time Limit Exceeded   \n",
       "\n",
       "       returncode        error_class  \\\n",
       "0               1        SyntaxError   \n",
       "1               1          NameError   \n",
       "2               1         ValueError   \n",
       "3               0                  0   \n",
       "4               0                  0   \n",
       "...           ...                ...   \n",
       "54587           0                  0   \n",
       "54588           0                  0   \n",
       "54589           1         ValueError   \n",
       "54590           0                  0   \n",
       "54591           1  FileNotFoundError   \n",
       "\n",
       "                                       error_class_extra  \\\n",
       "0                            SyntaxError: invalid syntax   \n",
       "1                     NameError: name 's' is not defined   \n",
       "2      ValueError: invalid literal for int() with bas...   \n",
       "3                                                          \n",
       "4                                                          \n",
       "...                                                  ...   \n",
       "54587                                                      \n",
       "54588                                                      \n",
       "54589  ValueError: invalid literal for int() with bas...   \n",
       "54590                                                      \n",
       "54591  FileNotFoundError: [Errno 2] No such file or d...   \n",
       "\n",
       "                                                   error output  \n",
       "0        File \"/home/alex/Documents/research/bug-dete...         \n",
       "1      Traceback (most recent call last):\\n  File \"/h...         \n",
       "2      Traceback (most recent call last):\\n  File \"/h...         \n",
       "3                                                           2\\n  \n",
       "4                                                           3\\n  \n",
       "...                                                  ...    ...  \n",
       "54587                                                       3\\n  \n",
       "54588                                                      23\\n  \n",
       "54589  Traceback (most recent call last):\\n  File \"/h...         \n",
       "54590                                                       3\\n  \n",
       "54591  Traceback (most recent call last):\\n  File \"/h...         \n",
       "\n",
       "[54592 rows x 13 columns]"
      ]
     },
     "metadata": {},
     "output_type": "display_data"
    },
    {
     "name": "stdout",
     "output_type": "stream",
     "text": [
      "<class 'pandas.core.frame.DataFrame'>\n",
      "RangeIndex: 54592 entries, 0 to 54591\n",
      "Data columns (total 13 columns):\n",
      " #   Column             Non-Null Count  Dtype \n",
      "---  ------             --------------  ----- \n",
      " 0   original_src       54592 non-null  object\n",
      " 1   changed_src        54592 non-null  object\n",
      " 2   problem_id         54592 non-null  object\n",
      " 3   original_id        54592 non-null  object\n",
      " 4   changed_id         54592 non-null  object\n",
      " 5   language           54592 non-null  object\n",
      " 6   filename_ext       54592 non-null  object\n",
      " 7   original_status    54592 non-null  object\n",
      " 8   returncode         54592 non-null  int64 \n",
      " 9   error_class        54592 non-null  object\n",
      " 10  error_class_extra  54592 non-null  object\n",
      " 11  error              54592 non-null  object\n",
      " 12  output             54592 non-null  object\n",
      "dtypes: int64(1), object(12)\n",
      "memory usage: 5.4+ MB\n"
     ]
    },
    {
     "data": {
      "text/plain": [
       "None"
      ]
     },
     "metadata": {},
     "output_type": "display_data"
    },
    {
     "data": {
      "text/plain": [
       "0                            28406\n",
       "SyntaxError                   8686\n",
       "NameError                     5262\n",
       "TypeError                     4202\n",
       "ValueError                    2444\n",
       "IndentationError              1081\n",
       "IndexError                     999\n",
       "AttributeError                 913\n",
       "EOFError                       852\n",
       "TLEError                       525\n",
       "ModuleNotFoundError            357\n",
       "TabError                       265\n",
       "ImportError                    132\n",
       "ZeroDivisionError               79\n",
       "KeyError                        66\n",
       "FileNotFoundError               62\n",
       "SyntaxWarning                   62\n",
       "UnboundLocalError               61\n",
       "1                               58\n",
       "DeprecationWarning              35\n",
       "RecursionError                  13\n",
       "OverflowError                   12\n",
       "RuntimeError                     6\n",
       "-11                              5\n",
       "OSError                          3\n",
       "2                                3\n",
       "VisibleDeprecationWarning        1\n",
       "SparseEfficiencyWarning          1\n",
       "255                              1\n",
       "Name: error_class, dtype: int64"
      ]
     },
     "execution_count": 4,
     "metadata": {},
     "output_type": "execute_result"
    }
   ],
   "source": [
    "with open(codenetpy_path, 'r') as f:\n",
    "    data = json.load(f)\n",
    "codenetpy_df = pd.DataFrame(data)\n",
    "\n",
    "display(codenetpy_df)\n",
    "display(codenetpy_df.info())\n",
    "\n",
    "codenetpy_df['error_class'].value_counts()"
   ]
  },
  {
   "cell_type": "markdown",
   "id": "b963edc7",
   "metadata": {},
   "source": [
    "## Examples of buggy code\n",
    "\n",
    "In this section we will look at samples of buggy and accepted submissions. The diff between the two types of submissions will be showed in red (for buggy) and blue (for accepted). For each case we will also look at the error description message associated with the buggy sample."
   ]
  },
  {
   "cell_type": "code",
   "execution_count": 5,
   "id": "9d042af2",
   "metadata": {
    "ExecuteTime": {
     "end_time": "2022-04-09T07:05:52.597602Z",
     "start_time": "2022-04-09T07:05:52.337094Z"
    },
    "scrolled": false
   },
   "outputs": [
    {
     "data": {
      "text/html": [
       "<h1>Example 0</h1>"
      ],
      "text/plain": [
       "<IPython.core.display.HTML object>"
      ]
     },
     "metadata": {},
     "output_type": "display_data"
    },
    {
     "data": {
      "text/html": [
       "<h2>The source code that is buggy:\n",
       "</h2>"
      ],
      "text/plain": [
       "<IPython.core.display.HTML object>"
      ]
     },
     "metadata": {},
     "output_type": "display_data"
    },
    {
     "data": {
      "text/html": [
       "<pre><span style=\"color:black;\">a</span><span style=\"color:black;\">,</span><span style=\"color:lightgrey;\">•</span><span style=\"color:black;\">b</span><span style=\"color:black;\">,</span><span style=\"color:lightgrey;\">•</span><span style=\"color:black;\">c</span><span style=\"color:lightgrey;\">•</span><span style=\"color:black;\">=</span><span style=\"color:lightgrey;\">•</span><span style=\"color:black;\">m</span><span style=\"color:black;\">a</span><span style=\"color:black;\">p</span><span style=\"color:black;\">(</span><span style=\"color:black;\">i</span><span style=\"color:black;\">n</span><span style=\"color:black;\">t</span><span style=\"color:black;\">,</span><span style=\"color:lightgrey;\">•</span><span style=\"color:black;\">i</span><span style=\"color:black;\">n</span><span style=\"color:black;\">p</span><span style=\"color:black;\">u</span><span style=\"color:black;\">t</span><span style=\"color:black;\">(</span><span style=\"color:black;\">)</span><span style=\"color:black;\">.</span><span style=\"color:black;\">s</span><span style=\"color:black;\">p</span><span style=\"color:black;\">l</span><span style=\"color:black;\">i</span><span style=\"color:black;\">t</span><span style=\"color:black;\">(</span><span style=\"color:black;\">)</span><span style=\"color:black;\">)</span><span style=\"color:lightgrey;\">↵\n",
       "</span><span style=\"color:red;\">↵\n",
       "</span><span style=\"color:black;\">i</span><span style=\"color:black;\">f</span><span style=\"color:lightgrey;\">•</span><span style=\"color:red;\">a</span><span style=\"color:red;\">=</span><span style=\"color:red;\">5</span><span style=\"color:red;\">,</span><span style=\"color:lightgrey;\">•</span><span style=\"color:red;\">b</span><span style=\"color:black;\">=</span><span style=\"color:red;\">5</span><span style=\"color:red;\">,</span><span style=\"color:lightgrey;\">•</span><span style=\"color:red;\">c</span><span style=\"color:red;\">=</span><span style=\"color:red;\">7</span><span style=\"color:black;\">:</span><span style=\"color:lightgrey;\">↵\n",
       "</span><span style=\"color:lightgrey;\">•</span><span style=\"color:lightgrey;\">•</span><span style=\"color:black;\">p</span><span style=\"color:black;\">r</span><span style=\"color:black;\">i</span><span style=\"color:black;\">n</span><span style=\"color:black;\">t</span><span style=\"color:black;\">(</span><span style=\"color:black;\">\"</span><span style=\"color:black;\">Y</span><span style=\"color:red;\">e</span><span style=\"color:red;\">s</span><span style=\"color:red;\">\"</span><span style=\"color:red;\">)</span><span style=\"color:red;\">↵\n",
       "</span><span style=\"color:red;\">e</span><span style=\"color:red;\">l</span><span style=\"color:red;\">i</span><span style=\"color:red;\">f</span><span style=\"color:red;\">•</span><span style=\"color:red;\">a</span><span style=\"color:red;\">=</span><span style=\"color:red;\">5</span><span style=\"color:red;\">,</span><span style=\"color:red;\">•</span><span style=\"color:red;\">b</span><span style=\"color:red;\">=</span><span style=\"color:red;\">7</span><span style=\"color:red;\">,</span><span style=\"color:red;\">•</span><span style=\"color:red;\">c</span><span style=\"color:red;\">=</span><span style=\"color:red;\">5</span><span style=\"color:red;\">:</span><span style=\"color:red;\">↵\n",
       "</span><span style=\"color:red;\">•</span><span style=\"color:red;\">•</span><span style=\"color:red;\">p</span><span style=\"color:red;\">r</span><span style=\"color:red;\">i</span><span style=\"color:red;\">n</span><span style=\"color:red;\">t</span><span style=\"color:red;\">(</span><span style=\"color:red;\">\"</span><span style=\"color:red;\">Y</span><span style=\"color:red;\">e</span><span style=\"color:red;\">s</span><span style=\"color:red;\">\"</span><span style=\"color:red;\">)</span><span style=\"color:red;\">↵\n",
       "</span><span style=\"color:red;\">e</span><span style=\"color:red;\">l</span><span style=\"color:red;\">i</span><span style=\"color:red;\">f</span><span style=\"color:red;\">•</span><span style=\"color:red;\">a</span><span style=\"color:red;\">=</span><span style=\"color:red;\">7</span><span style=\"color:red;\">,</span><span style=\"color:red;\">•</span><span style=\"color:red;\">b</span><span style=\"color:red;\">=</span><span style=\"color:red;\">5</span><span style=\"color:red;\">,</span><span style=\"color:red;\">•</span><span style=\"color:red;\">c</span><span style=\"color:red;\">=</span><span style=\"color:red;\">5</span><span style=\"color:red;\">:</span><span style=\"color:red;\">↵\n",
       "</span><span style=\"color:red;\">•</span><span style=\"color:red;\">•</span><span style=\"color:red;\">p</span><span style=\"color:red;\">r</span><span style=\"color:red;\">i</span><span style=\"color:red;\">n</span><span style=\"color:red;\">t</span><span style=\"color:red;\">(</span><span style=\"color:red;\">\"</span><span style=\"color:red;\">Y</span><span style=\"color:red;\">e</span><span style=\"color:red;\">s</span><span style=\"color:black;\">\"</span><span style=\"color:black;\">)</span><span style=\"color:lightgrey;\">↵\n",
       "</span><span style=\"color:black;\">e</span><span style=\"color:black;\">l</span><span style=\"color:black;\">s</span><span style=\"color:black;\">e</span><span style=\"color:black;\">:</span><span style=\"color:lightgrey;\">↵\n",
       "</span><span style=\"color:lightgrey;\">•</span><span style=\"color:lightgrey;\">•</span><span style=\"color:black;\">p</span><span style=\"color:black;\">r</span><span style=\"color:black;\">i</span><span style=\"color:black;\">n</span><span style=\"color:black;\">t</span><span style=\"color:black;\">(</span><span style=\"color:black;\">\"</span><span style=\"color:black;\">N</span><span style=\"color:red;\">o</span><span style=\"color:black;\">\"</span><span style=\"color:black;\">)</span><span style=\"color:red;\">↵\n",
       "</span></pre>"
      ],
      "text/plain": [
       "<IPython.core.display.HTML object>"
      ]
     },
     "metadata": {},
     "output_type": "display_data"
    },
    {
     "data": {
      "text/html": [
       "<h2>The source code that is accepted:\n",
       "</h2>"
      ],
      "text/plain": [
       "<IPython.core.display.HTML object>"
      ]
     },
     "metadata": {},
     "output_type": "display_data"
    },
    {
     "data": {
      "text/html": [
       "<pre><span style=\"color:black;\">a</span><span style=\"color:black;\">,</span><span style=\"color:lightgrey;\">•</span><span style=\"color:black;\">b</span><span style=\"color:black;\">,</span><span style=\"color:lightgrey;\">•</span><span style=\"color:black;\">c</span><span style=\"color:lightgrey;\">•</span><span style=\"color:black;\">=</span><span style=\"color:lightgrey;\">•</span><span style=\"color:black;\">m</span><span style=\"color:black;\">a</span><span style=\"color:black;\">p</span><span style=\"color:black;\">(</span><span style=\"color:black;\">i</span><span style=\"color:black;\">n</span><span style=\"color:black;\">t</span><span style=\"color:black;\">,</span><span style=\"color:lightgrey;\">•</span><span style=\"color:black;\">i</span><span style=\"color:black;\">n</span><span style=\"color:black;\">p</span><span style=\"color:black;\">u</span><span style=\"color:black;\">t</span><span style=\"color:black;\">(</span><span style=\"color:black;\">)</span><span style=\"color:black;\">.</span><span style=\"color:black;\">s</span><span style=\"color:black;\">p</span><span style=\"color:black;\">l</span><span style=\"color:black;\">i</span><span style=\"color:black;\">t</span><span style=\"color:black;\">(</span><span style=\"color:black;\">)</span><span style=\"color:black;\">)</span><span style=\"color:lightgrey;\">↵\n",
       "</span><span style=\"color:blue;\">i</span><span style=\"color:blue;\">r</span><span style=\"color:blue;\">o</span><span style=\"color:blue;\">h</span><span style=\"color:blue;\">a</span><span style=\"color:blue;\">•</span><span style=\"color:blue;\">=</span><span style=\"color:blue;\">•</span><span style=\"color:blue;\">[</span><span style=\"color:blue;\">a</span><span style=\"color:blue;\">,</span><span style=\"color:blue;\">•</span><span style=\"color:blue;\">b</span><span style=\"color:blue;\">,</span><span style=\"color:blue;\">•</span><span style=\"color:blue;\">c</span><span style=\"color:blue;\">]</span><span style=\"color:blue;\">↵\n",
       "</span><span style=\"color:black;\">i</span><span style=\"color:black;\">f</span><span style=\"color:lightgrey;\">•</span><span style=\"color:blue;\">i</span><span style=\"color:blue;\">r</span><span style=\"color:blue;\">o</span><span style=\"color:blue;\">h</span><span style=\"color:blue;\">a</span><span style=\"color:blue;\">.</span><span style=\"color:blue;\">c</span><span style=\"color:blue;\">o</span><span style=\"color:blue;\">u</span><span style=\"color:blue;\">n</span><span style=\"color:blue;\">t</span><span style=\"color:blue;\">(</span><span style=\"color:blue;\">5</span><span style=\"color:blue;\">)</span><span style=\"color:blue;\">•</span><span style=\"color:blue;\">=</span><span style=\"color:blue;\">=</span><span style=\"color:lightgrey;\">•</span><span style=\"color:blue;\">2</span><span style=\"color:blue;\">•</span><span style=\"color:blue;\">a</span><span style=\"color:blue;\">n</span><span style=\"color:blue;\">d</span><span style=\"color:blue;\">•</span><span style=\"color:blue;\">i</span><span style=\"color:blue;\">r</span><span style=\"color:blue;\">o</span><span style=\"color:blue;\">h</span><span style=\"color:blue;\">a</span><span style=\"color:blue;\">.</span><span style=\"color:blue;\">c</span><span style=\"color:blue;\">o</span><span style=\"color:blue;\">u</span><span style=\"color:blue;\">n</span><span style=\"color:blue;\">t</span><span style=\"color:blue;\">(</span><span style=\"color:blue;\">7</span><span style=\"color:blue;\">)</span><span style=\"color:blue;\">•</span><span style=\"color:black;\">=</span><span style=\"color:blue;\">=</span><span style=\"color:lightgrey;\">•</span><span style=\"color:blue;\">1</span><span style=\"color:black;\">:</span><span style=\"color:lightgrey;\">↵\n",
       "</span><span style=\"color:lightgrey;\">•</span><span style=\"color:lightgrey;\">•</span><span style=\"color:black;\">p</span><span style=\"color:black;\">r</span><span style=\"color:black;\">i</span><span style=\"color:black;\">n</span><span style=\"color:black;\">t</span><span style=\"color:black;\">(</span><span style=\"color:black;\">\"</span><span style=\"color:black;\">Y</span><span style=\"color:blue;\">E</span><span style=\"color:blue;\">S</span><span style=\"color:black;\">\"</span><span style=\"color:black;\">)</span><span style=\"color:lightgrey;\">↵\n",
       "</span><span style=\"color:black;\">e</span><span style=\"color:black;\">l</span><span style=\"color:black;\">s</span><span style=\"color:black;\">e</span><span style=\"color:black;\">:</span><span style=\"color:lightgrey;\">↵\n",
       "</span><span style=\"color:lightgrey;\">•</span><span style=\"color:lightgrey;\">•</span><span style=\"color:black;\">p</span><span style=\"color:black;\">r</span><span style=\"color:black;\">i</span><span style=\"color:black;\">n</span><span style=\"color:black;\">t</span><span style=\"color:black;\">(</span><span style=\"color:black;\">\"</span><span style=\"color:black;\">N</span><span style=\"color:blue;\">O</span><span style=\"color:black;\">\"</span><span style=\"color:black;\">)</span></pre>"
      ],
      "text/plain": [
       "<IPython.core.display.HTML object>"
      ]
     },
     "metadata": {},
     "output_type": "display_data"
    },
    {
     "data": {
      "text/html": [
       "<h2>The bug that should be assigned to the original_src:\n",
       "</h2>"
      ],
      "text/plain": [
       "<IPython.core.display.HTML object>"
      ]
     },
     "metadata": {},
     "output_type": "display_data"
    },
    {
     "data": {
      "text/html": [
       "<pre>SyntaxError: invalid syntax</pre>"
      ],
      "text/plain": [
       "<IPython.core.display.HTML object>"
      ]
     },
     "metadata": {},
     "output_type": "display_data"
    },
    {
     "data": {
      "text/html": [
       "<h1>Example 1</h1>"
      ],
      "text/plain": [
       "<IPython.core.display.HTML object>"
      ]
     },
     "metadata": {},
     "output_type": "display_data"
    },
    {
     "data": {
      "text/html": [
       "<h2>The source code that is buggy:\n",
       "</h2>"
      ],
      "text/plain": [
       "<IPython.core.display.HTML object>"
      ]
     },
     "metadata": {},
     "output_type": "display_data"
    },
    {
     "data": {
      "text/html": [
       "<pre><span style=\"color:black;\">S</span><span style=\"color:red;\">=</span><span style=\"color:red;\">i</span><span style=\"color:black;\">n</span><span style=\"color:black;\">t</span><span style=\"color:black;\">(</span><span style=\"color:black;\">i</span><span style=\"color:black;\">n</span><span style=\"color:black;\">p</span><span style=\"color:black;\">u</span><span style=\"color:black;\">t</span><span style=\"color:black;\">(</span><span style=\"color:black;\">)</span><span style=\"color:black;\">)</span><span style=\"color:lightgrey;\">↵\n",
       "</span><span style=\"color:black;\">h</span><span style=\"color:red;\">=</span><span style=\"color:red;\">i</span><span style=\"color:red;\">n</span><span style=\"color:red;\">t</span><span style=\"color:red;\">(</span><span style=\"color:black;\">S</span><span style=\"color:lightgrey;\">•</span><span style=\"color:red;\">/</span><span style=\"color:lightgrey;\">•</span><span style=\"color:black;\">3</span><span style=\"color:black;\">6</span><span style=\"color:black;\">0</span><span style=\"color:black;\">0</span><span style=\"color:red;\">)</span><span style=\"color:lightgrey;\">↵\n",
       "</span><span style=\"color:black;\">m</span><span style=\"color:red;\">=</span><span style=\"color:red;\">i</span><span style=\"color:red;\">n</span><span style=\"color:red;\">t</span><span style=\"color:red;\">(</span><span style=\"color:red;\">(</span><span style=\"color:red;\">s</span><span style=\"color:lightgrey;\">•</span><span style=\"color:red;\">/</span><span style=\"color:lightgrey;\">•</span><span style=\"color:black;\">3</span><span style=\"color:black;\">6</span><span style=\"color:black;\">0</span><span style=\"color:black;\">0</span><span style=\"color:red;\">)</span><span style=\"color:lightgrey;\">•</span><span style=\"color:black;\">/</span><span style=\"color:red;\">6</span><span style=\"color:black;\">0</span><span style=\"color:red;\">)</span><span style=\"color:lightgrey;\">↵\n",
       "</span><span style=\"color:black;\">s</span><span style=\"color:red;\">=</span><span style=\"color:red;\">i</span><span style=\"color:black;\">n</span><span style=\"color:black;\">t</span><span style=\"color:black;\">(</span><span style=\"color:red;\">(</span><span style=\"color:red;\">(</span><span style=\"color:black;\">s</span><span style=\"color:red;\">/</span><span style=\"color:red;\">3</span><span style=\"color:red;\">6</span><span style=\"color:red;\">0</span><span style=\"color:red;\">0</span><span style=\"color:black;\">)</span><span style=\"color:red;\">/</span><span style=\"color:red;\">6</span><span style=\"color:red;\">0</span><span style=\"color:red;\">)</span><span style=\"color:red;\">/</span><span style=\"color:red;\">6</span><span style=\"color:red;\">0</span><span style=\"color:red;\">)</span></pre>"
      ],
      "text/plain": [
       "<IPython.core.display.HTML object>"
      ]
     },
     "metadata": {},
     "output_type": "display_data"
    },
    {
     "data": {
      "text/html": [
       "<h2>The source code that is accepted:\n",
       "</h2>"
      ],
      "text/plain": [
       "<IPython.core.display.HTML object>"
      ]
     },
     "metadata": {},
     "output_type": "display_data"
    },
    {
     "data": {
      "text/html": [
       "<pre><span style=\"color:black;\">S</span><span style=\"color:blue;\">•</span><span style=\"color:blue;\">=</span><span style=\"color:blue;\">•</span><span style=\"color:blue;\">i</span><span style=\"color:black;\">n</span><span style=\"color:black;\">t</span><span style=\"color:black;\">(</span><span style=\"color:black;\">i</span><span style=\"color:black;\">n</span><span style=\"color:black;\">p</span><span style=\"color:black;\">u</span><span style=\"color:black;\">t</span><span style=\"color:black;\">(</span><span style=\"color:black;\">)</span><span style=\"color:black;\">)</span><span style=\"color:lightgrey;\">↵\n",
       "</span><span style=\"color:black;\">h</span><span style=\"color:blue;\">•</span><span style=\"color:blue;\">=</span><span style=\"color:blue;\">•</span><span style=\"color:black;\">S</span><span style=\"color:lightgrey;\">•</span><span style=\"color:blue;\">/</span><span style=\"color:blue;\">/</span><span style=\"color:lightgrey;\">•</span><span style=\"color:black;\">3</span><span style=\"color:black;\">6</span><span style=\"color:black;\">0</span><span style=\"color:black;\">0</span><span style=\"color:lightgrey;\">↵\n",
       "</span><span style=\"color:black;\">m</span><span style=\"color:blue;\">•</span><span style=\"color:blue;\">=</span><span style=\"color:lightgrey;\">•</span><span style=\"color:blue;\">S</span><span style=\"color:blue;\">•</span><span style=\"color:blue;\">%</span><span style=\"color:lightgrey;\">•</span><span style=\"color:black;\">3</span><span style=\"color:black;\">6</span><span style=\"color:black;\">0</span><span style=\"color:black;\">0</span><span style=\"color:lightgrey;\">•</span><span style=\"color:black;\">/</span><span style=\"color:blue;\">/</span><span style=\"color:blue;\">•</span><span style=\"color:blue;\">6</span><span style=\"color:black;\">0</span><span style=\"color:lightgrey;\">↵\n",
       "</span><span style=\"color:black;\">s</span><span style=\"color:blue;\">•</span><span style=\"color:blue;\">=</span><span style=\"color:blue;\">•</span><span style=\"color:blue;\">S</span><span style=\"color:blue;\">•</span><span style=\"color:blue;\">%</span><span style=\"color:blue;\">•</span><span style=\"color:blue;\">6</span><span style=\"color:blue;\">0</span><span style=\"color:blue;\">↵\n",
       "</span><span style=\"color:blue;\">p</span><span style=\"color:blue;\">r</span><span style=\"color:blue;\">i</span><span style=\"color:black;\">n</span><span style=\"color:black;\">t</span><span style=\"color:black;\">(</span><span style=\"color:blue;\">h</span><span style=\"color:blue;\">,</span><span style=\"color:blue;\">m</span><span style=\"color:blue;\">,</span><span style=\"color:black;\">s</span><span style=\"color:blue;\">,</span><span style=\"color:blue;\">s</span><span style=\"color:blue;\">e</span><span style=\"color:blue;\">p</span><span style=\"color:blue;\">=</span><span style=\"color:blue;\">'</span><span style=\"color:blue;\">:</span><span style=\"color:blue;\">'</span><span style=\"color:black;\">)</span></pre>"
      ],
      "text/plain": [
       "<IPython.core.display.HTML object>"
      ]
     },
     "metadata": {},
     "output_type": "display_data"
    },
    {
     "data": {
      "text/html": [
       "<h2>The bug that should be assigned to the original_src:\n",
       "</h2>"
      ],
      "text/plain": [
       "<IPython.core.display.HTML object>"
      ]
     },
     "metadata": {},
     "output_type": "display_data"
    },
    {
     "data": {
      "text/html": [
       "<pre>NameError: name 's' is not defined</pre>"
      ],
      "text/plain": [
       "<IPython.core.display.HTML object>"
      ]
     },
     "metadata": {},
     "output_type": "display_data"
    },
    {
     "data": {
      "text/html": [
       "<h1>Example 2</h1>"
      ],
      "text/plain": [
       "<IPython.core.display.HTML object>"
      ]
     },
     "metadata": {},
     "output_type": "display_data"
    },
    {
     "data": {
      "text/html": [
       "<h2>The source code that is buggy:\n",
       "</h2>"
      ],
      "text/plain": [
       "<IPython.core.display.HTML object>"
      ]
     },
     "metadata": {},
     "output_type": "display_data"
    },
    {
     "data": {
      "text/html": [
       "<pre><span style=\"color:black;\">s</span><span style=\"color:black;\">e</span><span style=\"color:black;\">e</span><span style=\"color:black;\">p</span><span style=\"color:black;\">,</span><span style=\"color:lightgrey;\">•</span><span style=\"color:black;\">w</span><span style=\"color:black;\">o</span><span style=\"color:black;\">l</span><span style=\"color:black;\">f</span><span style=\"color:lightgrey;\">•</span><span style=\"color:black;\">=</span><span style=\"color:lightgrey;\">•</span><span style=\"color:black;\">m</span><span style=\"color:black;\">a</span><span style=\"color:black;\">p</span><span style=\"color:black;\">(</span><span style=\"color:black;\">i</span><span style=\"color:black;\">n</span><span style=\"color:black;\">t</span><span style=\"color:black;\">,</span><span style=\"color:lightgrey;\">•</span><span style=\"color:black;\">i</span><span style=\"color:black;\">n</span><span style=\"color:black;\">p</span><span style=\"color:black;\">u</span><span style=\"color:black;\">t</span><span style=\"color:black;\">(</span><span style=\"color:black;\">)</span><span style=\"color:black;\">.</span><span style=\"color:black;\">r</span><span style=\"color:black;\">s</span><span style=\"color:black;\">t</span><span style=\"color:black;\">r</span><span style=\"color:black;\">i</span><span style=\"color:black;\">p</span><span style=\"color:black;\">(</span><span style=\"color:black;\">)</span><span style=\"color:red;\">)</span><span style=\"color:lightgrey;\">↵\n",
       "</span><span style=\"color:red;\">↵\n",
       "</span><span style=\"color:black;\">i</span><span style=\"color:black;\">f</span><span style=\"color:lightgrey;\">•</span><span style=\"color:black;\">s</span><span style=\"color:black;\">e</span><span style=\"color:black;\">e</span><span style=\"color:black;\">p</span><span style=\"color:lightgrey;\">•</span><span style=\"color:black;\">></span><span style=\"color:lightgrey;\">•</span><span style=\"color:black;\">w</span><span style=\"color:black;\">o</span><span style=\"color:black;\">l</span><span style=\"color:black;\">f</span><span style=\"color:black;\">:</span><span style=\"color:lightgrey;\">↵\n",
       "</span><span style=\"color:lightgrey;\">•</span><span style=\"color:lightgrey;\">•</span><span style=\"color:black;\">p</span><span style=\"color:black;\">r</span><span style=\"color:black;\">i</span><span style=\"color:black;\">n</span><span style=\"color:black;\">t</span><span style=\"color:black;\">(</span><span style=\"color:black;\">'</span><span style=\"color:black;\">s</span><span style=\"color:black;\">a</span><span style=\"color:black;\">f</span><span style=\"color:black;\">e</span><span style=\"color:black;\">'</span><span style=\"color:black;\">)</span><span style=\"color:lightgrey;\">↵\n",
       "</span><span style=\"color:black;\">e</span><span style=\"color:black;\">l</span><span style=\"color:black;\">s</span><span style=\"color:black;\">e</span><span style=\"color:black;\">:</span><span style=\"color:lightgrey;\">↵\n",
       "</span><span style=\"color:lightgrey;\">•</span><span style=\"color:lightgrey;\">•</span><span style=\"color:black;\">p</span><span style=\"color:black;\">r</span><span style=\"color:black;\">i</span><span style=\"color:black;\">n</span><span style=\"color:black;\">t</span><span style=\"color:black;\">(</span><span style=\"color:black;\">'</span><span style=\"color:black;\">u</span><span style=\"color:black;\">n</span><span style=\"color:black;\">s</span><span style=\"color:black;\">a</span><span style=\"color:black;\">f</span><span style=\"color:black;\">e</span><span style=\"color:black;\">'</span><span style=\"color:black;\">)</span></pre>"
      ],
      "text/plain": [
       "<IPython.core.display.HTML object>"
      ]
     },
     "metadata": {},
     "output_type": "display_data"
    },
    {
     "data": {
      "text/html": [
       "<h2>The source code that is accepted:\n",
       "</h2>"
      ],
      "text/plain": [
       "<IPython.core.display.HTML object>"
      ]
     },
     "metadata": {},
     "output_type": "display_data"
    },
    {
     "data": {
      "text/html": [
       "<pre><span style=\"color:black;\">s</span><span style=\"color:black;\">e</span><span style=\"color:black;\">e</span><span style=\"color:black;\">p</span><span style=\"color:black;\">,</span><span style=\"color:lightgrey;\">•</span><span style=\"color:black;\">w</span><span style=\"color:black;\">o</span><span style=\"color:black;\">l</span><span style=\"color:black;\">f</span><span style=\"color:lightgrey;\">•</span><span style=\"color:black;\">=</span><span style=\"color:lightgrey;\">•</span><span style=\"color:black;\">m</span><span style=\"color:black;\">a</span><span style=\"color:black;\">p</span><span style=\"color:black;\">(</span><span style=\"color:black;\">i</span><span style=\"color:black;\">n</span><span style=\"color:black;\">t</span><span style=\"color:black;\">,</span><span style=\"color:lightgrey;\">•</span><span style=\"color:black;\">i</span><span style=\"color:black;\">n</span><span style=\"color:black;\">p</span><span style=\"color:black;\">u</span><span style=\"color:black;\">t</span><span style=\"color:black;\">(</span><span style=\"color:black;\">)</span><span style=\"color:black;\">.</span><span style=\"color:black;\">r</span><span style=\"color:black;\">s</span><span style=\"color:black;\">t</span><span style=\"color:black;\">r</span><span style=\"color:black;\">i</span><span style=\"color:black;\">p</span><span style=\"color:black;\">(</span><span style=\"color:black;\">)</span><span style=\"color:blue;\">.</span><span style=\"color:blue;\">s</span><span style=\"color:blue;\">p</span><span style=\"color:blue;\">l</span><span style=\"color:blue;\">i</span><span style=\"color:blue;\">t</span><span style=\"color:blue;\">(</span><span style=\"color:blue;\">)</span><span style=\"color:blue;\">)</span><span style=\"color:lightgrey;\">↵\n",
       "</span><span style=\"color:blue;\">•</span><span style=\"color:blue;\">↵\n",
       "</span><span style=\"color:black;\">i</span><span style=\"color:black;\">f</span><span style=\"color:lightgrey;\">•</span><span style=\"color:black;\">s</span><span style=\"color:black;\">e</span><span style=\"color:black;\">e</span><span style=\"color:black;\">p</span><span style=\"color:lightgrey;\">•</span><span style=\"color:black;\">></span><span style=\"color:lightgrey;\">•</span><span style=\"color:black;\">w</span><span style=\"color:black;\">o</span><span style=\"color:black;\">l</span><span style=\"color:black;\">f</span><span style=\"color:black;\">:</span><span style=\"color:lightgrey;\">↵\n",
       "</span><span style=\"color:lightgrey;\">•</span><span style=\"color:lightgrey;\">•</span><span style=\"color:black;\">p</span><span style=\"color:black;\">r</span><span style=\"color:black;\">i</span><span style=\"color:black;\">n</span><span style=\"color:black;\">t</span><span style=\"color:black;\">(</span><span style=\"color:black;\">'</span><span style=\"color:black;\">s</span><span style=\"color:black;\">a</span><span style=\"color:black;\">f</span><span style=\"color:black;\">e</span><span style=\"color:black;\">'</span><span style=\"color:black;\">)</span><span style=\"color:lightgrey;\">↵\n",
       "</span><span style=\"color:black;\">e</span><span style=\"color:black;\">l</span><span style=\"color:black;\">s</span><span style=\"color:black;\">e</span><span style=\"color:black;\">:</span><span style=\"color:lightgrey;\">↵\n",
       "</span><span style=\"color:lightgrey;\">•</span><span style=\"color:lightgrey;\">•</span><span style=\"color:black;\">p</span><span style=\"color:black;\">r</span><span style=\"color:black;\">i</span><span style=\"color:black;\">n</span><span style=\"color:black;\">t</span><span style=\"color:black;\">(</span><span style=\"color:black;\">'</span><span style=\"color:black;\">u</span><span style=\"color:black;\">n</span><span style=\"color:black;\">s</span><span style=\"color:black;\">a</span><span style=\"color:black;\">f</span><span style=\"color:black;\">e</span><span style=\"color:black;\">'</span><span style=\"color:black;\">)</span></pre>"
      ],
      "text/plain": [
       "<IPython.core.display.HTML object>"
      ]
     },
     "metadata": {},
     "output_type": "display_data"
    },
    {
     "data": {
      "text/html": [
       "<h2>The bug that should be assigned to the original_src:\n",
       "</h2>"
      ],
      "text/plain": [
       "<IPython.core.display.HTML object>"
      ]
     },
     "metadata": {},
     "output_type": "display_data"
    },
    {
     "data": {
      "text/html": [
       "<pre>ValueError: invalid literal for int() with base 10: ' '</pre>"
      ],
      "text/plain": [
       "<IPython.core.display.HTML object>"
      ]
     },
     "metadata": {},
     "output_type": "display_data"
    },
    {
     "data": {
      "text/html": [
       "<h1>Example 3</h1>"
      ],
      "text/plain": [
       "<IPython.core.display.HTML object>"
      ]
     },
     "metadata": {},
     "output_type": "display_data"
    },
    {
     "data": {
      "text/html": [
       "<h2>The source code that is buggy:\n",
       "</h2>"
      ],
      "text/plain": [
       "<IPython.core.display.HTML object>"
      ]
     },
     "metadata": {},
     "output_type": "display_data"
    },
    {
     "data": {
      "text/html": [
       "<pre><span style=\"color:black;\">N</span><span style=\"color:black;\">,</span><span style=\"color:lightgrey;\">•</span><span style=\"color:black;\">K</span><span style=\"color:lightgrey;\">•</span><span style=\"color:black;\">=</span><span style=\"color:lightgrey;\">•</span><span style=\"color:black;\">m</span><span style=\"color:black;\">a</span><span style=\"color:black;\">p</span><span style=\"color:black;\">(</span><span style=\"color:black;\">i</span><span style=\"color:black;\">n</span><span style=\"color:black;\">t</span><span style=\"color:black;\">,</span><span style=\"color:lightgrey;\">•</span><span style=\"color:black;\">i</span><span style=\"color:black;\">n</span><span style=\"color:black;\">p</span><span style=\"color:black;\">u</span><span style=\"color:black;\">t</span><span style=\"color:black;\">(</span><span style=\"color:black;\">)</span><span style=\"color:black;\">.</span><span style=\"color:black;\">s</span><span style=\"color:black;\">p</span><span style=\"color:black;\">l</span><span style=\"color:black;\">i</span><span style=\"color:black;\">t</span><span style=\"color:black;\">(</span><span style=\"color:black;\">)</span><span style=\"color:black;\">)</span><span style=\"color:lightgrey;\">↵\n",
       "</span><span style=\"color:black;\">A</span><span style=\"color:lightgrey;\">•</span><span style=\"color:black;\">=</span><span style=\"color:lightgrey;\">•</span><span style=\"color:black;\">l</span><span style=\"color:black;\">i</span><span style=\"color:black;\">s</span><span style=\"color:black;\">t</span><span style=\"color:black;\">(</span><span style=\"color:black;\">m</span><span style=\"color:black;\">a</span><span style=\"color:black;\">p</span><span style=\"color:black;\">(</span><span style=\"color:black;\">i</span><span style=\"color:black;\">n</span><span style=\"color:black;\">t</span><span style=\"color:black;\">,</span><span style=\"color:lightgrey;\">•</span><span style=\"color:black;\">i</span><span style=\"color:black;\">n</span><span style=\"color:black;\">p</span><span style=\"color:black;\">u</span><span style=\"color:black;\">t</span><span style=\"color:black;\">(</span><span style=\"color:black;\">)</span><span style=\"color:black;\">.</span><span style=\"color:black;\">s</span><span style=\"color:black;\">p</span><span style=\"color:black;\">l</span><span style=\"color:black;\">i</span><span style=\"color:black;\">t</span><span style=\"color:black;\">(</span><span style=\"color:black;\">)</span><span style=\"color:black;\">)</span><span style=\"color:black;\">)</span><span style=\"color:lightgrey;\">↵\n",
       "</span><span style=\"color:black;\">e</span><span style=\"color:lightgrey;\">•</span><span style=\"color:black;\">=</span><span style=\"color:lightgrey;\">•</span><span style=\"color:black;\">[</span><span style=\"color:black;\">F</span><span style=\"color:black;\">a</span><span style=\"color:black;\">l</span><span style=\"color:black;\">s</span><span style=\"color:black;\">e</span><span style=\"color:black;\">]</span><span style=\"color:lightgrey;\">•</span><span style=\"color:black;\">*</span><span style=\"color:lightgrey;\">•</span><span style=\"color:black;\">(</span><span style=\"color:black;\">N</span><span style=\"color:black;\">+</span><span style=\"color:black;\">1</span><span style=\"color:black;\">)</span><span style=\"color:lightgrey;\">↵\n",
       "</span><span style=\"color:black;\">i</span><span style=\"color:black;\">d</span><span style=\"color:black;\">x</span><span style=\"color:lightgrey;\">•</span><span style=\"color:black;\">=</span><span style=\"color:lightgrey;\">•</span><span style=\"color:black;\">1</span><span style=\"color:lightgrey;\">↵\n",
       "</span><span style=\"color:black;\">m</span><span style=\"color:black;\">o</span><span style=\"color:black;\">v</span><span style=\"color:black;\">e</span><span style=\"color:lightgrey;\">•</span><span style=\"color:black;\">=</span><span style=\"color:lightgrey;\">•</span><span style=\"color:black;\">[</span><span style=\"color:black;\">]</span><span style=\"color:lightgrey;\">↵\n",
       "</span><span style=\"color:black;\">w</span><span style=\"color:black;\">h</span><span style=\"color:black;\">i</span><span style=\"color:black;\">l</span><span style=\"color:black;\">e</span><span style=\"color:lightgrey;\">•</span><span style=\"color:black;\">T</span><span style=\"color:black;\">r</span><span style=\"color:black;\">u</span><span style=\"color:black;\">e</span><span style=\"color:black;\">:</span><span style=\"color:lightgrey;\">↵\n",
       "</span><span style=\"color:lightgrey;\">•</span><span style=\"color:lightgrey;\">•</span><span style=\"color:black;\">i</span><span style=\"color:black;\">f</span><span style=\"color:lightgrey;\">•</span><span style=\"color:black;\">e</span><span style=\"color:black;\">[</span><span style=\"color:black;\">i</span><span style=\"color:black;\">d</span><span style=\"color:black;\">x</span><span style=\"color:black;\">]</span><span style=\"color:black;\">:</span><span style=\"color:lightgrey;\">↵\n",
       "</span><span style=\"color:lightgrey;\">•</span><span style=\"color:lightgrey;\">•</span><span style=\"color:lightgrey;\">•</span><span style=\"color:lightgrey;\">•</span><span style=\"color:black;\">b</span><span style=\"color:black;\">r</span><span style=\"color:black;\">e</span><span style=\"color:black;\">a</span><span style=\"color:black;\">k</span><span style=\"color:lightgrey;\">↵\n",
       "</span><span style=\"color:lightgrey;\">•</span><span style=\"color:lightgrey;\">•</span><span style=\"color:black;\">m</span><span style=\"color:black;\">o</span><span style=\"color:black;\">v</span><span style=\"color:black;\">e</span><span style=\"color:black;\">.</span><span style=\"color:black;\">a</span><span style=\"color:black;\">p</span><span style=\"color:black;\">p</span><span style=\"color:black;\">e</span><span style=\"color:black;\">n</span><span style=\"color:black;\">d</span><span style=\"color:black;\">(</span><span style=\"color:black;\">i</span><span style=\"color:black;\">d</span><span style=\"color:black;\">x</span><span style=\"color:black;\">)</span><span style=\"color:lightgrey;\">↵\n",
       "</span><span style=\"color:lightgrey;\">•</span><span style=\"color:lightgrey;\">•</span><span style=\"color:black;\">e</span><span style=\"color:black;\">[</span><span style=\"color:black;\">i</span><span style=\"color:black;\">d</span><span style=\"color:black;\">x</span><span style=\"color:black;\">]</span><span style=\"color:lightgrey;\">•</span><span style=\"color:black;\">=</span><span style=\"color:lightgrey;\">•</span><span style=\"color:black;\">T</span><span style=\"color:black;\">r</span><span style=\"color:black;\">u</span><span style=\"color:black;\">e</span><span style=\"color:lightgrey;\">↵\n",
       "</span><span style=\"color:lightgrey;\">•</span><span style=\"color:lightgrey;\">•</span><span style=\"color:black;\">i</span><span style=\"color:black;\">d</span><span style=\"color:black;\">x</span><span style=\"color:lightgrey;\">•</span><span style=\"color:black;\">=</span><span style=\"color:lightgrey;\">•</span><span style=\"color:black;\">A</span><span style=\"color:black;\">[</span><span style=\"color:black;\">i</span><span style=\"color:black;\">d</span><span style=\"color:black;\">x</span><span style=\"color:black;\">-</span><span style=\"color:black;\">1</span><span style=\"color:black;\">]</span><span style=\"color:lightgrey;\">↵\n",
       "</span><span style=\"color:black;\">m</span><span style=\"color:lightgrey;\">•</span><span style=\"color:black;\">=</span><span style=\"color:lightgrey;\">•</span><span style=\"color:black;\">m</span><span style=\"color:black;\">o</span><span style=\"color:black;\">v</span><span style=\"color:black;\">e</span><span style=\"color:black;\">.</span><span style=\"color:black;\">i</span><span style=\"color:black;\">n</span><span style=\"color:black;\">d</span><span style=\"color:black;\">e</span><span style=\"color:black;\">x</span><span style=\"color:black;\">(</span><span style=\"color:black;\">i</span><span style=\"color:black;\">d</span><span style=\"color:black;\">x</span><span style=\"color:black;\">)</span><span style=\"color:lightgrey;\">↵\n",
       "</span><span style=\"color:black;\">c</span><span style=\"color:lightgrey;\">•</span><span style=\"color:black;\">=</span><span style=\"color:lightgrey;\">•</span><span style=\"color:black;\">l</span><span style=\"color:black;\">e</span><span style=\"color:black;\">n</span><span style=\"color:black;\">(</span><span style=\"color:black;\">m</span><span style=\"color:black;\">o</span><span style=\"color:black;\">v</span><span style=\"color:black;\">e</span><span style=\"color:black;\">)</span><span style=\"color:lightgrey;\">•</span><span style=\"color:black;\">-</span><span style=\"color:lightgrey;\">•</span><span style=\"color:black;\">m</span><span style=\"color:lightgrey;\">↵\n",
       "</span><span style=\"color:lightgrey;\">↵\n",
       "</span><span style=\"color:black;\">i</span><span style=\"color:black;\">f</span><span style=\"color:lightgrey;\">•</span><span style=\"color:black;\">K</span><span style=\"color:lightgrey;\">•</span><span style=\"color:black;\"><</span><span style=\"color:black;\">=</span><span style=\"color:lightgrey;\">•</span><span style=\"color:black;\">m</span><span style=\"color:black;\">:</span><span style=\"color:lightgrey;\">↵\n",
       "</span><span style=\"color:lightgrey;\">•</span><span style=\"color:lightgrey;\">•</span><span style=\"color:lightgrey;\">•</span><span style=\"color:lightgrey;\">•</span><span style=\"color:black;\">p</span><span style=\"color:black;\">r</span><span style=\"color:black;\">i</span><span style=\"color:black;\">n</span><span style=\"color:black;\">t</span><span style=\"color:black;\">(</span><span style=\"color:red;\">D</span><span style=\"color:red;\">[</span><span style=\"color:red;\">K</span><span style=\"color:red;\">]</span><span style=\"color:red;\">)</span><span style=\"color:red;\">↵\n",
       "</span><span style=\"color:red;\">e</span><span style=\"color:red;\">l</span><span style=\"color:red;\">s</span><span style=\"color:red;\">e</span><span style=\"color:red;\">:</span><span style=\"color:red;\">↵\n",
       "</span><span style=\"color:red;\">•</span><span style=\"color:red;\">•</span><span style=\"color:red;\">•</span><span style=\"color:red;\">•</span><span style=\"color:red;\">p</span><span style=\"color:red;\">r</span><span style=\"color:red;\">i</span><span style=\"color:red;\">n</span><span style=\"color:red;\">t</span><span style=\"color:red;\">(</span><span style=\"color:red;\">D</span><span style=\"color:black;\">[</span><span style=\"color:black;\">m</span><span style=\"color:black;\">+</span><span style=\"color:black;\">(</span><span style=\"color:black;\">K</span><span style=\"color:black;\">-</span><span style=\"color:black;\">m</span><span style=\"color:black;\">)</span><span style=\"color:lightgrey;\">•</span><span style=\"color:black;\">%</span><span style=\"color:lightgrey;\">•</span><span style=\"color:black;\">c</span><span style=\"color:black;\">]</span><span style=\"color:black;\">)</span></pre>"
      ],
      "text/plain": [
       "<IPython.core.display.HTML object>"
      ]
     },
     "metadata": {},
     "output_type": "display_data"
    },
    {
     "data": {
      "text/html": [
       "<h2>The source code that is accepted:\n",
       "</h2>"
      ],
      "text/plain": [
       "<IPython.core.display.HTML object>"
      ]
     },
     "metadata": {},
     "output_type": "display_data"
    },
    {
     "data": {
      "text/html": [
       "<pre><span style=\"color:black;\">N</span><span style=\"color:black;\">,</span><span style=\"color:lightgrey;\">•</span><span style=\"color:black;\">K</span><span style=\"color:lightgrey;\">•</span><span style=\"color:black;\">=</span><span style=\"color:lightgrey;\">•</span><span style=\"color:black;\">m</span><span style=\"color:black;\">a</span><span style=\"color:black;\">p</span><span style=\"color:black;\">(</span><span style=\"color:black;\">i</span><span style=\"color:black;\">n</span><span style=\"color:black;\">t</span><span style=\"color:black;\">,</span><span style=\"color:lightgrey;\">•</span><span style=\"color:black;\">i</span><span style=\"color:black;\">n</span><span style=\"color:black;\">p</span><span style=\"color:black;\">u</span><span style=\"color:black;\">t</span><span style=\"color:black;\">(</span><span style=\"color:black;\">)</span><span style=\"color:black;\">.</span><span style=\"color:black;\">s</span><span style=\"color:black;\">p</span><span style=\"color:black;\">l</span><span style=\"color:black;\">i</span><span style=\"color:black;\">t</span><span style=\"color:black;\">(</span><span style=\"color:black;\">)</span><span style=\"color:black;\">)</span><span style=\"color:lightgrey;\">↵\n",
       "</span><span style=\"color:black;\">A</span><span style=\"color:lightgrey;\">•</span><span style=\"color:black;\">=</span><span style=\"color:lightgrey;\">•</span><span style=\"color:black;\">l</span><span style=\"color:black;\">i</span><span style=\"color:black;\">s</span><span style=\"color:black;\">t</span><span style=\"color:black;\">(</span><span style=\"color:black;\">m</span><span style=\"color:black;\">a</span><span style=\"color:black;\">p</span><span style=\"color:black;\">(</span><span style=\"color:black;\">i</span><span style=\"color:black;\">n</span><span style=\"color:black;\">t</span><span style=\"color:black;\">,</span><span style=\"color:lightgrey;\">•</span><span style=\"color:black;\">i</span><span style=\"color:black;\">n</span><span style=\"color:black;\">p</span><span style=\"color:black;\">u</span><span style=\"color:black;\">t</span><span style=\"color:black;\">(</span><span style=\"color:black;\">)</span><span style=\"color:black;\">.</span><span style=\"color:black;\">s</span><span style=\"color:black;\">p</span><span style=\"color:black;\">l</span><span style=\"color:black;\">i</span><span style=\"color:black;\">t</span><span style=\"color:black;\">(</span><span style=\"color:black;\">)</span><span style=\"color:black;\">)</span><span style=\"color:black;\">)</span><span style=\"color:lightgrey;\">↵\n",
       "</span><span style=\"color:black;\">e</span><span style=\"color:lightgrey;\">•</span><span style=\"color:black;\">=</span><span style=\"color:lightgrey;\">•</span><span style=\"color:black;\">[</span><span style=\"color:black;\">F</span><span style=\"color:black;\">a</span><span style=\"color:black;\">l</span><span style=\"color:black;\">s</span><span style=\"color:black;\">e</span><span style=\"color:black;\">]</span><span style=\"color:lightgrey;\">•</span><span style=\"color:black;\">*</span><span style=\"color:lightgrey;\">•</span><span style=\"color:black;\">(</span><span style=\"color:black;\">N</span><span style=\"color:black;\">+</span><span style=\"color:black;\">1</span><span style=\"color:black;\">)</span><span style=\"color:lightgrey;\">↵\n",
       "</span><span style=\"color:black;\">i</span><span style=\"color:black;\">d</span><span style=\"color:black;\">x</span><span style=\"color:lightgrey;\">•</span><span style=\"color:black;\">=</span><span style=\"color:lightgrey;\">•</span><span style=\"color:black;\">1</span><span style=\"color:lightgrey;\">↵\n",
       "</span><span style=\"color:black;\">m</span><span style=\"color:black;\">o</span><span style=\"color:black;\">v</span><span style=\"color:black;\">e</span><span style=\"color:lightgrey;\">•</span><span style=\"color:black;\">=</span><span style=\"color:lightgrey;\">•</span><span style=\"color:black;\">[</span><span style=\"color:black;\">]</span><span style=\"color:lightgrey;\">↵\n",
       "</span><span style=\"color:black;\">w</span><span style=\"color:black;\">h</span><span style=\"color:black;\">i</span><span style=\"color:black;\">l</span><span style=\"color:black;\">e</span><span style=\"color:lightgrey;\">•</span><span style=\"color:black;\">T</span><span style=\"color:black;\">r</span><span style=\"color:black;\">u</span><span style=\"color:black;\">e</span><span style=\"color:black;\">:</span><span style=\"color:lightgrey;\">↵\n",
       "</span><span style=\"color:lightgrey;\">•</span><span style=\"color:lightgrey;\">•</span><span style=\"color:black;\">i</span><span style=\"color:black;\">f</span><span style=\"color:lightgrey;\">•</span><span style=\"color:black;\">e</span><span style=\"color:black;\">[</span><span style=\"color:black;\">i</span><span style=\"color:black;\">d</span><span style=\"color:black;\">x</span><span style=\"color:black;\">]</span><span style=\"color:black;\">:</span><span style=\"color:lightgrey;\">↵\n",
       "</span><span style=\"color:lightgrey;\">•</span><span style=\"color:lightgrey;\">•</span><span style=\"color:lightgrey;\">•</span><span style=\"color:lightgrey;\">•</span><span style=\"color:black;\">b</span><span style=\"color:black;\">r</span><span style=\"color:black;\">e</span><span style=\"color:black;\">a</span><span style=\"color:black;\">k</span><span style=\"color:lightgrey;\">↵\n",
       "</span><span style=\"color:lightgrey;\">•</span><span style=\"color:lightgrey;\">•</span><span style=\"color:black;\">m</span><span style=\"color:black;\">o</span><span style=\"color:black;\">v</span><span style=\"color:black;\">e</span><span style=\"color:black;\">.</span><span style=\"color:black;\">a</span><span style=\"color:black;\">p</span><span style=\"color:black;\">p</span><span style=\"color:black;\">e</span><span style=\"color:black;\">n</span><span style=\"color:black;\">d</span><span style=\"color:black;\">(</span><span style=\"color:black;\">i</span><span style=\"color:black;\">d</span><span style=\"color:black;\">x</span><span style=\"color:black;\">)</span><span style=\"color:lightgrey;\">↵\n",
       "</span><span style=\"color:lightgrey;\">•</span><span style=\"color:lightgrey;\">•</span><span style=\"color:black;\">e</span><span style=\"color:black;\">[</span><span style=\"color:black;\">i</span><span style=\"color:black;\">d</span><span style=\"color:black;\">x</span><span style=\"color:black;\">]</span><span style=\"color:lightgrey;\">•</span><span style=\"color:black;\">=</span><span style=\"color:lightgrey;\">•</span><span style=\"color:black;\">T</span><span style=\"color:black;\">r</span><span style=\"color:black;\">u</span><span style=\"color:black;\">e</span><span style=\"color:lightgrey;\">↵\n",
       "</span><span style=\"color:lightgrey;\">•</span><span style=\"color:lightgrey;\">•</span><span style=\"color:black;\">i</span><span style=\"color:black;\">d</span><span style=\"color:black;\">x</span><span style=\"color:lightgrey;\">•</span><span style=\"color:black;\">=</span><span style=\"color:lightgrey;\">•</span><span style=\"color:black;\">A</span><span style=\"color:black;\">[</span><span style=\"color:black;\">i</span><span style=\"color:black;\">d</span><span style=\"color:black;\">x</span><span style=\"color:black;\">-</span><span style=\"color:black;\">1</span><span style=\"color:black;\">]</span><span style=\"color:lightgrey;\">↵\n",
       "</span><span style=\"color:black;\">m</span><span style=\"color:lightgrey;\">•</span><span style=\"color:black;\">=</span><span style=\"color:lightgrey;\">•</span><span style=\"color:black;\">m</span><span style=\"color:black;\">o</span><span style=\"color:black;\">v</span><span style=\"color:black;\">e</span><span style=\"color:black;\">.</span><span style=\"color:black;\">i</span><span style=\"color:black;\">n</span><span style=\"color:black;\">d</span><span style=\"color:black;\">e</span><span style=\"color:black;\">x</span><span style=\"color:black;\">(</span><span style=\"color:black;\">i</span><span style=\"color:black;\">d</span><span style=\"color:black;\">x</span><span style=\"color:black;\">)</span><span style=\"color:lightgrey;\">↵\n",
       "</span><span style=\"color:black;\">c</span><span style=\"color:lightgrey;\">•</span><span style=\"color:black;\">=</span><span style=\"color:lightgrey;\">•</span><span style=\"color:black;\">l</span><span style=\"color:black;\">e</span><span style=\"color:black;\">n</span><span style=\"color:black;\">(</span><span style=\"color:black;\">m</span><span style=\"color:black;\">o</span><span style=\"color:black;\">v</span><span style=\"color:black;\">e</span><span style=\"color:black;\">)</span><span style=\"color:lightgrey;\">•</span><span style=\"color:black;\">-</span><span style=\"color:lightgrey;\">•</span><span style=\"color:black;\">m</span><span style=\"color:lightgrey;\">↵\n",
       "</span><span style=\"color:lightgrey;\">↵\n",
       "</span><span style=\"color:black;\">i</span><span style=\"color:black;\">f</span><span style=\"color:lightgrey;\">•</span><span style=\"color:black;\">K</span><span style=\"color:lightgrey;\">•</span><span style=\"color:black;\"><</span><span style=\"color:black;\">=</span><span style=\"color:lightgrey;\">•</span><span style=\"color:black;\">m</span><span style=\"color:black;\">:</span><span style=\"color:lightgrey;\">↵\n",
       "</span><span style=\"color:lightgrey;\">•</span><span style=\"color:lightgrey;\">•</span><span style=\"color:lightgrey;\">•</span><span style=\"color:lightgrey;\">•</span><span style=\"color:black;\">p</span><span style=\"color:black;\">r</span><span style=\"color:black;\">i</span><span style=\"color:black;\">n</span><span style=\"color:black;\">t</span><span style=\"color:black;\">(</span><span style=\"color:blue;\">m</span><span style=\"color:blue;\">o</span><span style=\"color:blue;\">v</span><span style=\"color:blue;\">e</span><span style=\"color:blue;\">[</span><span style=\"color:blue;\">K</span><span style=\"color:blue;\">]</span><span style=\"color:blue;\">)</span><span style=\"color:blue;\">↵\n",
       "</span><span style=\"color:blue;\">e</span><span style=\"color:blue;\">l</span><span style=\"color:blue;\">s</span><span style=\"color:blue;\">e</span><span style=\"color:blue;\">:</span><span style=\"color:blue;\">↵\n",
       "</span><span style=\"color:blue;\">•</span><span style=\"color:blue;\">•</span><span style=\"color:blue;\">•</span><span style=\"color:blue;\">•</span><span style=\"color:blue;\">p</span><span style=\"color:blue;\">r</span><span style=\"color:blue;\">i</span><span style=\"color:blue;\">n</span><span style=\"color:blue;\">t</span><span style=\"color:blue;\">(</span><span style=\"color:blue;\">m</span><span style=\"color:blue;\">o</span><span style=\"color:blue;\">v</span><span style=\"color:blue;\">e</span><span style=\"color:black;\">[</span><span style=\"color:black;\">m</span><span style=\"color:black;\">+</span><span style=\"color:black;\">(</span><span style=\"color:black;\">K</span><span style=\"color:black;\">-</span><span style=\"color:black;\">m</span><span style=\"color:black;\">)</span><span style=\"color:lightgrey;\">•</span><span style=\"color:black;\">%</span><span style=\"color:lightgrey;\">•</span><span style=\"color:black;\">c</span><span style=\"color:black;\">]</span><span style=\"color:black;\">)</span><span style=\"color:blue;\">↵\n",
       "</span></pre>"
      ],
      "text/plain": [
       "<IPython.core.display.HTML object>"
      ]
     },
     "metadata": {},
     "output_type": "display_data"
    },
    {
     "data": {
      "text/html": [
       "<h2>The bug that should be assigned to the original_src:\n",
       "</h2>"
      ],
      "text/plain": [
       "<IPython.core.display.HTML object>"
      ]
     },
     "metadata": {},
     "output_type": "display_data"
    },
    {
     "data": {
      "text/html": [
       "<pre>NameError: name 'D' is not defined</pre>"
      ],
      "text/plain": [
       "<IPython.core.display.HTML object>"
      ]
     },
     "metadata": {},
     "output_type": "display_data"
    },
    {
     "data": {
      "text/html": [
       "<h1>Example 4</h1>"
      ],
      "text/plain": [
       "<IPython.core.display.HTML object>"
      ]
     },
     "metadata": {},
     "output_type": "display_data"
    },
    {
     "data": {
      "text/html": [
       "<h2>The source code that is buggy:\n",
       "</h2>"
      ],
      "text/plain": [
       "<IPython.core.display.HTML object>"
      ]
     },
     "metadata": {},
     "output_type": "display_data"
    },
    {
     "data": {
      "text/html": [
       "<pre><span style=\"color:black;\">i</span><span style=\"color:black;\">m</span><span style=\"color:black;\">p</span><span style=\"color:black;\">o</span><span style=\"color:black;\">r</span><span style=\"color:black;\">t</span><span style=\"color:lightgrey;\">•</span><span style=\"color:black;\">m</span><span style=\"color:black;\">a</span><span style=\"color:black;\">t</span><span style=\"color:black;\">h</span><span style=\"color:lightgrey;\">↵\n",
       "</span><span style=\"color:lightgrey;\">↵\n",
       "</span><span style=\"color:black;\">M</span><span style=\"color:black;\">A</span><span style=\"color:black;\">X</span><span style=\"color:black;\">=</span><span style=\"color:black;\">1</span><span style=\"color:black;\">0</span><span style=\"color:black;\">*</span><span style=\"color:black;\">*</span><span style=\"color:black;\">6</span><span style=\"color:black;\">+</span><span style=\"color:black;\">3</span><span style=\"color:lightgrey;\">↵\n",
       "</span><span style=\"color:black;\">t</span><span style=\"color:black;\">a</span><span style=\"color:black;\">b</span><span style=\"color:black;\">l</span><span style=\"color:black;\">e</span><span style=\"color:lightgrey;\">•</span><span style=\"color:black;\">=</span><span style=\"color:lightgrey;\">•</span><span style=\"color:black;\">l</span><span style=\"color:black;\">i</span><span style=\"color:black;\">s</span><span style=\"color:black;\">t</span><span style=\"color:black;\">(</span><span style=\"color:black;\">r</span><span style=\"color:black;\">a</span><span style=\"color:black;\">n</span><span style=\"color:black;\">g</span><span style=\"color:black;\">e</span><span style=\"color:black;\">(</span><span style=\"color:black;\">M</span><span style=\"color:black;\">A</span><span style=\"color:black;\">X</span><span style=\"color:black;\">)</span><span style=\"color:black;\">)</span><span style=\"color:lightgrey;\">↵\n",
       "</span><span style=\"color:black;\">i</span><span style=\"color:black;\">=</span><span style=\"color:black;\">2</span><span style=\"color:lightgrey;\">↵\n",
       "</span><span style=\"color:black;\">n</span><span style=\"color:black;\">=</span><span style=\"color:black;\">M</span><span style=\"color:black;\">A</span><span style=\"color:black;\">X</span><span style=\"color:lightgrey;\">↵\n",
       "</span><span style=\"color:black;\">w</span><span style=\"color:black;\">h</span><span style=\"color:black;\">i</span><span style=\"color:black;\">l</span><span style=\"color:black;\">e</span><span style=\"color:lightgrey;\">•</span><span style=\"color:black;\">i</span><span style=\"color:black;\"><</span><span style=\"color:red;\">=</span><span style=\"color:black;\">n</span><span style=\"color:black;\">:</span><span style=\"color:lightgrey;\">↵\n",
       "</span><span style=\"color:lightgrey;\">•</span><span style=\"color:lightgrey;\">•</span><span style=\"color:lightgrey;\">•</span><span style=\"color:lightgrey;\">•</span><span style=\"color:black;\">t</span><span style=\"color:black;\">a</span><span style=\"color:black;\">b</span><span style=\"color:black;\">l</span><span style=\"color:black;\">e</span><span style=\"color:black;\">[</span><span style=\"color:black;\">i</span><span style=\"color:black;\">]</span><span style=\"color:lightgrey;\">•</span><span style=\"color:black;\">=</span><span style=\"color:lightgrey;\">•</span><span style=\"color:black;\">2</span><span style=\"color:lightgrey;\">↵\n",
       "</span><span style=\"color:lightgrey;\">•</span><span style=\"color:lightgrey;\">•</span><span style=\"color:lightgrey;\">•</span><span style=\"color:lightgrey;\">•</span><span style=\"color:black;\">i</span><span style=\"color:black;\">+</span><span style=\"color:black;\">=</span><span style=\"color:black;\">2</span><span style=\"color:lightgrey;\">↵\n",
       "</span><span style=\"color:red;\">↵\n",
       "</span><span style=\"color:black;\">p</span><span style=\"color:black;\">=</span><span style=\"color:black;\">3</span><span style=\"color:lightgrey;\">↵\n",
       "</span><span style=\"color:black;\">w</span><span style=\"color:black;\">h</span><span style=\"color:black;\">i</span><span style=\"color:black;\">l</span><span style=\"color:black;\">e</span><span style=\"color:lightgrey;\">•</span><span style=\"color:black;\">p</span><span style=\"color:black;\">*</span><span style=\"color:black;\">p</span><span style=\"color:black;\"><</span><span style=\"color:black;\">=</span><span style=\"color:black;\">n</span><span style=\"color:black;\">:</span><span style=\"color:lightgrey;\">↵\n",
       "</span><span style=\"color:lightgrey;\">•</span><span style=\"color:lightgrey;\">•</span><span style=\"color:lightgrey;\">•</span><span style=\"color:lightgrey;\">•</span><span style=\"color:black;\">i</span><span style=\"color:black;\">f</span><span style=\"color:lightgrey;\">•</span><span style=\"color:black;\">t</span><span style=\"color:black;\">a</span><span style=\"color:black;\">b</span><span style=\"color:black;\">l</span><span style=\"color:black;\">e</span><span style=\"color:black;\">[</span><span style=\"color:black;\">p</span><span style=\"color:black;\">]</span><span style=\"color:black;\"><</span><span style=\"color:black;\">p</span><span style=\"color:black;\">:</span><span style=\"color:red;\">↵\n",
       "</span><span style=\"color:lightgrey;\">•</span><span style=\"color:lightgrey;\">•</span><span style=\"color:lightgrey;\">•</span><span style=\"color:lightgrey;\">•</span><span style=\"color:lightgrey;\">•</span><span style=\"color:lightgrey;\">•</span><span style=\"color:lightgrey;\">•</span><span style=\"color:lightgrey;\">•</span><span style=\"color:black;\">c</span><span style=\"color:black;\">o</span><span style=\"color:black;\">n</span><span style=\"color:black;\">t</span><span style=\"color:black;\">i</span><span style=\"color:black;\">n</span><span style=\"color:black;\">u</span><span style=\"color:black;\">e</span><span style=\"color:lightgrey;\">↵\n",
       "</span><span style=\"color:lightgrey;\">•</span><span style=\"color:lightgrey;\">•</span><span style=\"color:lightgrey;\">•</span><span style=\"color:lightgrey;\">•</span><span style=\"color:black;\">x</span><span style=\"color:black;\">=</span><span style=\"color:black;\">p</span><span style=\"color:lightgrey;\">↵\n",
       "</span><span style=\"color:lightgrey;\">•</span><span style=\"color:lightgrey;\">•</span><span style=\"color:lightgrey;\">•</span><span style=\"color:lightgrey;\">•</span><span style=\"color:black;\">w</span><span style=\"color:black;\">h</span><span style=\"color:black;\">i</span><span style=\"color:black;\">l</span><span style=\"color:black;\">e</span><span style=\"color:lightgrey;\">•</span><span style=\"color:black;\">x</span><span style=\"color:black;\"><</span><span style=\"color:black;\">=</span><span style=\"color:black;\">n</span><span style=\"color:black;\">:</span><span style=\"color:lightgrey;\">↵\n",
       "</span><span style=\"color:lightgrey;\">•</span><span style=\"color:lightgrey;\">•</span><span style=\"color:lightgrey;\">•</span><span style=\"color:lightgrey;\">•</span><span style=\"color:lightgrey;\">•</span><span style=\"color:lightgrey;\">•</span><span style=\"color:lightgrey;\">•</span><span style=\"color:lightgrey;\">•</span><span style=\"color:black;\">t</span><span style=\"color:black;\">a</span><span style=\"color:black;\">b</span><span style=\"color:black;\">l</span><span style=\"color:black;\">e</span><span style=\"color:black;\">[</span><span style=\"color:black;\">x</span><span style=\"color:black;\">]</span><span style=\"color:black;\">=</span><span style=\"color:black;\">p</span><span style=\"color:lightgrey;\">↵\n",
       "</span><span style=\"color:lightgrey;\">•</span><span style=\"color:lightgrey;\">•</span><span style=\"color:lightgrey;\">•</span><span style=\"color:lightgrey;\">•</span><span style=\"color:lightgrey;\">•</span><span style=\"color:lightgrey;\">•</span><span style=\"color:lightgrey;\">•</span><span style=\"color:lightgrey;\">•</span><span style=\"color:black;\">x</span><span style=\"color:black;\">+</span><span style=\"color:black;\">=</span><span style=\"color:black;\">p</span><span style=\"color:lightgrey;\">↵\n",
       "</span><span style=\"color:lightgrey;\">•</span><span style=\"color:lightgrey;\">•</span><span style=\"color:lightgrey;\">•</span><span style=\"color:lightgrey;\">•</span><span style=\"color:black;\">p</span><span style=\"color:black;\">+</span><span style=\"color:black;\">=</span><span style=\"color:black;\">2</span><span style=\"color:red;\">↵\n",
       "</span><span style=\"color:lightgrey;\">↵\n",
       "</span><span style=\"color:black;\">d</span><span style=\"color:black;\">e</span><span style=\"color:black;\">f</span><span style=\"color:lightgrey;\">•</span><span style=\"color:black;\">p</span><span style=\"color:black;\">r</span><span style=\"color:black;\">i</span><span style=\"color:black;\">m</span><span style=\"color:black;\">e</span><span style=\"color:black;\">F</span><span style=\"color:black;\">a</span><span style=\"color:black;\">c</span><span style=\"color:black;\">t</span><span style=\"color:black;\">o</span><span style=\"color:black;\">r</span><span style=\"color:black;\">S</span><span style=\"color:black;\">e</span><span style=\"color:black;\">t</span><span style=\"color:black;\">(</span><span style=\"color:black;\">n</span><span style=\"color:black;\">)</span><span style=\"color:black;\">:</span><span style=\"color:lightgrey;\">↵\n",
       "</span><span style=\"color:lightgrey;\">•</span><span style=\"color:lightgrey;\">•</span><span style=\"color:lightgrey;\">•</span><span style=\"color:lightgrey;\">•</span><span style=\"color:black;\">r</span><span style=\"color:black;\">e</span><span style=\"color:black;\">s</span><span style=\"color:black;\">u</span><span style=\"color:black;\">l</span><span style=\"color:black;\">t</span><span style=\"color:lightgrey;\">•</span><span style=\"color:black;\">=</span><span style=\"color:lightgrey;\">•</span><span style=\"color:black;\">s</span><span style=\"color:black;\">e</span><span style=\"color:black;\">t</span><span style=\"color:black;\">(</span><span style=\"color:black;\">)</span><span style=\"color:lightgrey;\">↵\n",
       "</span><span style=\"color:lightgrey;\">•</span><span style=\"color:lightgrey;\">•</span><span style=\"color:lightgrey;\">•</span><span style=\"color:lightgrey;\">•</span><span style=\"color:black;\">w</span><span style=\"color:black;\">h</span><span style=\"color:black;\">i</span><span style=\"color:black;\">l</span><span style=\"color:black;\">e</span><span style=\"color:lightgrey;\">•</span><span style=\"color:black;\">t</span><span style=\"color:black;\">a</span><span style=\"color:black;\">b</span><span style=\"color:black;\">l</span><span style=\"color:black;\">e</span><span style=\"color:black;\">[</span><span style=\"color:black;\">n</span><span style=\"color:black;\">]</span><span style=\"color:black;\">!</span><span style=\"color:black;\">=</span><span style=\"color:black;\">1</span><span style=\"color:black;\">:</span><span style=\"color:lightgrey;\">↵\n",
       "</span><span style=\"color:lightgrey;\">•</span><span style=\"color:lightgrey;\">•</span><span style=\"color:lightgrey;\">•</span><span style=\"color:lightgrey;\">•</span><span style=\"color:lightgrey;\">•</span><span style=\"color:lightgrey;\">•</span><span style=\"color:lightgrey;\">•</span><span style=\"color:lightgrey;\">•</span><span style=\"color:black;\">r</span><span style=\"color:black;\">e</span><span style=\"color:black;\">s</span><span style=\"color:black;\">u</span><span style=\"color:black;\">l</span><span style=\"color:black;\">t</span><span style=\"color:black;\">.</span><span style=\"color:black;\">a</span><span style=\"color:black;\">d</span><span style=\"color:black;\">d</span><span style=\"color:black;\">(</span><span style=\"color:black;\">t</span><span style=\"color:black;\">a</span><span style=\"color:black;\">b</span><span style=\"color:black;\">l</span><span style=\"color:black;\">e</span><span style=\"color:black;\">[</span><span style=\"color:black;\">n</span><span style=\"color:black;\">]</span><span style=\"color:black;\">)</span><span style=\"color:lightgrey;\">↵\n",
       "</span><span style=\"color:lightgrey;\">•</span><span style=\"color:lightgrey;\">•</span><span style=\"color:lightgrey;\">•</span><span style=\"color:lightgrey;\">•</span><span style=\"color:lightgrey;\">•</span><span style=\"color:lightgrey;\">•</span><span style=\"color:lightgrey;\">•</span><span style=\"color:lightgrey;\">•</span><span style=\"color:black;\">n</span><span style=\"color:lightgrey;\">•</span><span style=\"color:black;\">/</span><span style=\"color:black;\">/</span><span style=\"color:black;\">=</span><span style=\"color:lightgrey;\">•</span><span style=\"color:black;\">t</span><span style=\"color:black;\">a</span><span style=\"color:black;\">b</span><span style=\"color:black;\">l</span><span style=\"color:black;\">e</span><span style=\"color:black;\">[</span><span style=\"color:black;\">n</span><span style=\"color:black;\">]</span><span style=\"color:lightgrey;\">↵\n",
       "</span><span style=\"color:lightgrey;\">•</span><span style=\"color:lightgrey;\">•</span><span style=\"color:lightgrey;\">•</span><span style=\"color:lightgrey;\">•</span><span style=\"color:black;\">r</span><span style=\"color:black;\">e</span><span style=\"color:black;\">t</span><span style=\"color:black;\">u</span><span style=\"color:black;\">r</span><span style=\"color:black;\">n</span><span style=\"color:lightgrey;\">•</span><span style=\"color:black;\">r</span><span style=\"color:black;\">e</span><span style=\"color:black;\">s</span><span style=\"color:black;\">u</span><span style=\"color:black;\">l</span><span style=\"color:black;\">t</span><span style=\"color:lightgrey;\">↵\n",
       "</span><span style=\"color:lightgrey;\">•</span><span style=\"color:lightgrey;\">•</span><span style=\"color:lightgrey;\">•</span><span style=\"color:lightgrey;\">•</span><span style=\"color:lightgrey;\">↵\n",
       "</span><span style=\"color:lightgrey;\">↵\n",
       "</span><span style=\"color:black;\">n</span><span style=\"color:lightgrey;\">•</span><span style=\"color:black;\">=</span><span style=\"color:lightgrey;\">•</span><span style=\"color:black;\">i</span><span style=\"color:black;\">n</span><span style=\"color:black;\">t</span><span style=\"color:black;\">(</span><span style=\"color:black;\">i</span><span style=\"color:black;\">n</span><span style=\"color:black;\">p</span><span style=\"color:black;\">u</span><span style=\"color:black;\">t</span><span style=\"color:black;\">(</span><span style=\"color:black;\">)</span><span style=\"color:black;\">)</span><span style=\"color:lightgrey;\">↵\n",
       "</span><span style=\"color:black;\">A</span><span style=\"color:lightgrey;\">•</span><span style=\"color:black;\">=</span><span style=\"color:lightgrey;\">•</span><span style=\"color:black;\">l</span><span style=\"color:black;\">i</span><span style=\"color:black;\">s</span><span style=\"color:black;\">t</span><span style=\"color:black;\">(</span><span style=\"color:black;\">m</span><span style=\"color:black;\">a</span><span style=\"color:black;\">p</span><span style=\"color:black;\">(</span><span style=\"color:black;\">i</span><span style=\"color:black;\">n</span><span style=\"color:black;\">t</span><span style=\"color:black;\">,</span><span style=\"color:black;\">i</span><span style=\"color:black;\">n</span><span style=\"color:black;\">p</span><span style=\"color:black;\">u</span><span style=\"color:black;\">t</span><span style=\"color:black;\">(</span><span style=\"color:black;\">)</span><span style=\"color:black;\">.</span><span style=\"color:black;\">s</span><span style=\"color:black;\">p</span><span style=\"color:black;\">l</span><span style=\"color:black;\">i</span><span style=\"color:black;\">t</span><span style=\"color:black;\">(</span><span style=\"color:black;\">)</span><span style=\"color:black;\">)</span><span style=\"color:black;\">)</span><span style=\"color:lightgrey;\">↵\n",
       "</span><span style=\"color:black;\">p</span><span style=\"color:black;\">a</span><span style=\"color:black;\">i</span><span style=\"color:black;\">r</span><span style=\"color:black;\">w</span><span style=\"color:black;\">i</span><span style=\"color:black;\">s</span><span style=\"color:black;\">e</span><span style=\"color:lightgrey;\">•</span><span style=\"color:black;\">=</span><span style=\"color:lightgrey;\">•</span><span style=\"color:black;\">T</span><span style=\"color:black;\">r</span><span style=\"color:black;\">u</span><span style=\"color:black;\">e</span><span style=\"color:lightgrey;\">↵\n",
       "</span><span style=\"color:black;\">f</span><span style=\"color:black;\">l</span><span style=\"color:black;\">a</span><span style=\"color:black;\">g</span><span style=\"color:black;\">s</span><span style=\"color:lightgrey;\">•</span><span style=\"color:black;\">=</span><span style=\"color:lightgrey;\">•</span><span style=\"color:black;\">[</span><span style=\"color:black;\">F</span><span style=\"color:black;\">a</span><span style=\"color:black;\">l</span><span style=\"color:black;\">s</span><span style=\"color:black;\">e</span><span style=\"color:lightgrey;\">•</span><span style=\"color:black;\">f</span><span style=\"color:black;\">o</span><span style=\"color:black;\">r</span><span style=\"color:lightgrey;\">•</span><span style=\"color:black;\">_</span><span style=\"color:lightgrey;\">•</span><span style=\"color:black;\">i</span><span style=\"color:black;\">n</span><span style=\"color:lightgrey;\">•</span><span style=\"color:black;\">r</span><span style=\"color:black;\">a</span><span style=\"color:black;\">n</span><span style=\"color:black;\">g</span><span style=\"color:black;\">e</span><span style=\"color:black;\">(</span><span style=\"color:black;\">M</span><span style=\"color:black;\">A</span><span style=\"color:black;\">X</span><span style=\"color:black;\">)</span><span style=\"color:black;\">]</span><span style=\"color:lightgrey;\">↵\n",
       "</span><span style=\"color:lightgrey;\">↵\n",
       "</span><span style=\"color:black;\">f</span><span style=\"color:black;\">o</span><span style=\"color:black;\">r</span><span style=\"color:lightgrey;\">•</span><span style=\"color:black;\">i</span><span style=\"color:lightgrey;\">•</span><span style=\"color:black;\">i</span><span style=\"color:black;\">n</span><span style=\"color:lightgrey;\">•</span><span style=\"color:black;\">r</span><span style=\"color:black;\">a</span><span style=\"color:black;\">n</span><span style=\"color:black;\">g</span><span style=\"color:black;\">e</span><span style=\"color:black;\">(</span><span style=\"color:black;\">n</span><span style=\"color:black;\">)</span><span style=\"color:black;\">:</span><span style=\"color:lightgrey;\">↵\n",
       "</span><span style=\"color:lightgrey;\">•</span><span style=\"color:lightgrey;\">•</span><span style=\"color:lightgrey;\">•</span><span style=\"color:lightgrey;\">•</span><span style=\"color:black;\">a</span><span style=\"color:black;\">=</span><span style=\"color:black;\">A</span><span style=\"color:black;\">[</span><span style=\"color:black;\">i</span><span style=\"color:black;\">]</span><span style=\"color:lightgrey;\">↵\n",
       "</span><span style=\"color:lightgrey;\">•</span><span style=\"color:lightgrey;\">•</span><span style=\"color:lightgrey;\">•</span><span style=\"color:lightgrey;\">•</span><span style=\"color:black;\">i</span><span style=\"color:black;\">f</span><span style=\"color:lightgrey;\">•</span><span style=\"color:black;\">p</span><span style=\"color:black;\">a</span><span style=\"color:black;\">i</span><span style=\"color:black;\">r</span><span style=\"color:black;\">w</span><span style=\"color:black;\">i</span><span style=\"color:black;\">s</span><span style=\"color:black;\">e</span><span style=\"color:black;\">:</span><span style=\"color:lightgrey;\">↵\n",
       "</span><span style=\"color:lightgrey;\">•</span><span style=\"color:lightgrey;\">•</span><span style=\"color:lightgrey;\">•</span><span style=\"color:lightgrey;\">•</span><span style=\"color:lightgrey;\">•</span><span style=\"color:lightgrey;\">•</span><span style=\"color:lightgrey;\">•</span><span style=\"color:lightgrey;\">•</span><span style=\"color:black;\">t</span><span style=\"color:lightgrey;\">•</span><span style=\"color:black;\">=</span><span style=\"color:lightgrey;\">•</span><span style=\"color:black;\">p</span><span style=\"color:black;\">r</span><span style=\"color:black;\">i</span><span style=\"color:black;\">m</span><span style=\"color:black;\">e</span><span style=\"color:black;\">F</span><span style=\"color:black;\">a</span><span style=\"color:black;\">c</span><span style=\"color:black;\">t</span><span style=\"color:black;\">o</span><span style=\"color:black;\">r</span><span style=\"color:black;\">S</span><span style=\"color:black;\">e</span><span style=\"color:black;\">t</span><span style=\"color:black;\">(</span><span style=\"color:black;\">a</span><span style=\"color:black;\">)</span><span style=\"color:lightgrey;\">↵\n",
       "</span><span style=\"color:lightgrey;\">•</span><span style=\"color:lightgrey;\">•</span><span style=\"color:lightgrey;\">•</span><span style=\"color:lightgrey;\">•</span><span style=\"color:lightgrey;\">•</span><span style=\"color:lightgrey;\">•</span><span style=\"color:lightgrey;\">•</span><span style=\"color:lightgrey;\">•</span><span style=\"color:black;\">f</span><span style=\"color:black;\">o</span><span style=\"color:black;\">r</span><span style=\"color:lightgrey;\">•</span><span style=\"color:black;\">p</span><span style=\"color:lightgrey;\">•</span><span style=\"color:black;\">i</span><span style=\"color:black;\">n</span><span style=\"color:lightgrey;\">•</span><span style=\"color:black;\">t</span><span style=\"color:black;\">:</span><span style=\"color:lightgrey;\">↵\n",
       "</span><span style=\"color:lightgrey;\">•</span><span style=\"color:lightgrey;\">•</span><span style=\"color:lightgrey;\">•</span><span style=\"color:lightgrey;\">•</span><span style=\"color:lightgrey;\">•</span><span style=\"color:lightgrey;\">•</span><span style=\"color:lightgrey;\">•</span><span style=\"color:lightgrey;\">•</span><span style=\"color:lightgrey;\">•</span><span style=\"color:lightgrey;\">•</span><span style=\"color:lightgrey;\">•</span><span style=\"color:lightgrey;\">•</span><span style=\"color:black;\">i</span><span style=\"color:black;\">f</span><span style=\"color:lightgrey;\">•</span><span style=\"color:black;\">f</span><span style=\"color:black;\">l</span><span style=\"color:black;\">a</span><span style=\"color:black;\">g</span><span style=\"color:black;\">s</span><span style=\"color:black;\">[</span><span style=\"color:black;\">p</span><span style=\"color:black;\">]</span><span style=\"color:black;\">:</span><span style=\"color:lightgrey;\">↵\n",
       "</span><span style=\"color:lightgrey;\">•</span><span style=\"color:lightgrey;\">•</span><span style=\"color:lightgrey;\">•</span><span style=\"color:lightgrey;\">•</span><span style=\"color:lightgrey;\">•</span><span style=\"color:lightgrey;\">•</span><span style=\"color:lightgrey;\">•</span><span style=\"color:lightgrey;\">•</span><span style=\"color:lightgrey;\">•</span><span style=\"color:lightgrey;\">•</span><span style=\"color:lightgrey;\">•</span><span style=\"color:lightgrey;\">•</span><span style=\"color:lightgrey;\">•</span><span style=\"color:lightgrey;\">•</span><span style=\"color:lightgrey;\">•</span><span style=\"color:lightgrey;\">•</span><span style=\"color:black;\">p</span><span style=\"color:black;\">a</span><span style=\"color:black;\">i</span><span style=\"color:black;\">r</span><span style=\"color:black;\">w</span><span style=\"color:black;\">i</span><span style=\"color:black;\">s</span><span style=\"color:black;\">e</span><span style=\"color:lightgrey;\">•</span><span style=\"color:black;\">=</span><span style=\"color:lightgrey;\">•</span><span style=\"color:black;\">F</span><span style=\"color:black;\">a</span><span style=\"color:black;\">l</span><span style=\"color:black;\">s</span><span style=\"color:black;\">e</span><span style=\"color:lightgrey;\">↵\n",
       "</span><span style=\"color:lightgrey;\">•</span><span style=\"color:lightgrey;\">•</span><span style=\"color:lightgrey;\">•</span><span style=\"color:lightgrey;\">•</span><span style=\"color:lightgrey;\">•</span><span style=\"color:lightgrey;\">•</span><span style=\"color:lightgrey;\">•</span><span style=\"color:lightgrey;\">•</span><span style=\"color:lightgrey;\">•</span><span style=\"color:lightgrey;\">•</span><span style=\"color:lightgrey;\">•</span><span style=\"color:lightgrey;\">•</span><span style=\"color:lightgrey;\">•</span><span style=\"color:lightgrey;\">•</span><span style=\"color:lightgrey;\">•</span><span style=\"color:lightgrey;\">•</span><span style=\"color:black;\">b</span><span style=\"color:black;\">r</span><span style=\"color:black;\">e</span><span style=\"color:black;\">a</span><span style=\"color:black;\">k</span><span style=\"color:lightgrey;\">↵\n",
       "</span><span style=\"color:lightgrey;\">•</span><span style=\"color:lightgrey;\">•</span><span style=\"color:lightgrey;\">•</span><span style=\"color:lightgrey;\">•</span><span style=\"color:lightgrey;\">•</span><span style=\"color:lightgrey;\">•</span><span style=\"color:lightgrey;\">•</span><span style=\"color:lightgrey;\">•</span><span style=\"color:lightgrey;\">•</span><span style=\"color:lightgrey;\">•</span><span style=\"color:lightgrey;\">•</span><span style=\"color:lightgrey;\">•</span><span style=\"color:black;\">f</span><span style=\"color:black;\">l</span><span style=\"color:black;\">a</span><span style=\"color:black;\">g</span><span style=\"color:black;\">s</span><span style=\"color:black;\">[</span><span style=\"color:black;\">p</span><span style=\"color:black;\">]</span><span style=\"color:black;\">=</span><span style=\"color:black;\">T</span><span style=\"color:black;\">r</span><span style=\"color:black;\">u</span><span style=\"color:black;\">e</span><span style=\"color:lightgrey;\">↵\n",
       "</span><span style=\"color:lightgrey;\">•</span><span style=\"color:lightgrey;\">•</span><span style=\"color:lightgrey;\">•</span><span style=\"color:lightgrey;\">•</span><span style=\"color:black;\">i</span><span style=\"color:black;\">f</span><span style=\"color:lightgrey;\">•</span><span style=\"color:black;\">i</span><span style=\"color:black;\">=</span><span style=\"color:black;\">=</span><span style=\"color:black;\">0</span><span style=\"color:black;\">:</span><span style=\"color:lightgrey;\">↵\n",
       "</span><span style=\"color:lightgrey;\">•</span><span style=\"color:lightgrey;\">•</span><span style=\"color:lightgrey;\">•</span><span style=\"color:lightgrey;\">•</span><span style=\"color:lightgrey;\">•</span><span style=\"color:lightgrey;\">•</span><span style=\"color:lightgrey;\">•</span><span style=\"color:lightgrey;\">•</span><span style=\"color:black;\">g</span><span style=\"color:black;\">=</span><span style=\"color:black;\">a</span><span style=\"color:lightgrey;\">↵\n",
       "</span><span style=\"color:lightgrey;\">•</span><span style=\"color:lightgrey;\">•</span><span style=\"color:lightgrey;\">•</span><span style=\"color:lightgrey;\">•</span><span style=\"color:black;\">e</span><span style=\"color:black;\">l</span><span style=\"color:black;\">s</span><span style=\"color:black;\">e</span><span style=\"color:black;\">:</span><span style=\"color:lightgrey;\">↵\n",
       "</span><span style=\"color:lightgrey;\">•</span><span style=\"color:lightgrey;\">•</span><span style=\"color:lightgrey;\">•</span><span style=\"color:lightgrey;\">•</span><span style=\"color:lightgrey;\">•</span><span style=\"color:lightgrey;\">•</span><span style=\"color:lightgrey;\">•</span><span style=\"color:lightgrey;\">•</span><span style=\"color:black;\">g</span><span style=\"color:black;\">=</span><span style=\"color:black;\">m</span><span style=\"color:black;\">a</span><span style=\"color:black;\">t</span><span style=\"color:black;\">h</span><span style=\"color:black;\">.</span><span style=\"color:black;\">g</span><span style=\"color:black;\">c</span><span style=\"color:black;\">d</span><span style=\"color:black;\">(</span><span style=\"color:black;\">g</span><span style=\"color:black;\">,</span><span style=\"color:black;\">a</span><span style=\"color:black;\">)</span><span style=\"color:lightgrey;\">↵\n",
       "</span><span style=\"color:lightgrey;\">•</span><span style=\"color:lightgrey;\">•</span><span style=\"color:lightgrey;\">•</span><span style=\"color:lightgrey;\">•</span><span style=\"color:lightgrey;\">↵\n",
       "</span><span style=\"color:black;\">i</span><span style=\"color:black;\">f</span><span style=\"color:lightgrey;\">•</span><span style=\"color:black;\">g</span><span style=\"color:black;\">></span><span style=\"color:black;\">1</span><span style=\"color:black;\">:</span><span style=\"color:lightgrey;\">↵\n",
       "</span><span style=\"color:lightgrey;\">•</span><span style=\"color:lightgrey;\">•</span><span style=\"color:lightgrey;\">•</span><span style=\"color:lightgrey;\">•</span><span style=\"color:black;\">p</span><span style=\"color:black;\">r</span><span style=\"color:black;\">i</span><span style=\"color:black;\">n</span><span style=\"color:black;\">t</span><span style=\"color:black;\">(</span><span style=\"color:black;\">\"</span><span style=\"color:black;\">n</span><span style=\"color:black;\">o</span><span style=\"color:black;\">t</span><span style=\"color:lightgrey;\">•</span><span style=\"color:black;\">c</span><span style=\"color:black;\">o</span><span style=\"color:black;\">p</span><span style=\"color:black;\">r</span><span style=\"color:black;\">i</span><span style=\"color:black;\">m</span><span style=\"color:black;\">e</span><span style=\"color:black;\">\"</span><span style=\"color:black;\">)</span><span style=\"color:lightgrey;\">↵\n",
       "</span><span style=\"color:black;\">e</span><span style=\"color:black;\">l</span><span style=\"color:black;\">i</span><span style=\"color:black;\">f</span><span style=\"color:lightgrey;\">•</span><span style=\"color:black;\">p</span><span style=\"color:black;\">a</span><span style=\"color:black;\">i</span><span style=\"color:black;\">r</span><span style=\"color:black;\">w</span><span style=\"color:black;\">i</span><span style=\"color:black;\">s</span><span style=\"color:black;\">e</span><span style=\"color:black;\">:</span><span style=\"color:lightgrey;\">↵\n",
       "</span><span style=\"color:lightgrey;\">•</span><span style=\"color:lightgrey;\">•</span><span style=\"color:lightgrey;\">•</span><span style=\"color:lightgrey;\">•</span><span style=\"color:black;\">p</span><span style=\"color:black;\">r</span><span style=\"color:black;\">i</span><span style=\"color:black;\">n</span><span style=\"color:black;\">t</span><span style=\"color:black;\">(</span><span style=\"color:black;\">\"</span><span style=\"color:black;\">p</span><span style=\"color:black;\">a</span><span style=\"color:black;\">i</span><span style=\"color:black;\">r</span><span style=\"color:black;\">w</span><span style=\"color:black;\">i</span><span style=\"color:black;\">s</span><span style=\"color:black;\">e</span><span style=\"color:lightgrey;\">•</span><span style=\"color:black;\">c</span><span style=\"color:black;\">o</span><span style=\"color:black;\">p</span><span style=\"color:black;\">r</span><span style=\"color:black;\">i</span><span style=\"color:black;\">m</span><span style=\"color:black;\">e</span><span style=\"color:black;\">\"</span><span style=\"color:black;\">)</span><span style=\"color:lightgrey;\">↵\n",
       "</span><span style=\"color:black;\">e</span><span style=\"color:black;\">l</span><span style=\"color:black;\">s</span><span style=\"color:black;\">e</span><span style=\"color:black;\">:</span><span style=\"color:lightgrey;\">↵\n",
       "</span><span style=\"color:lightgrey;\">•</span><span style=\"color:lightgrey;\">•</span><span style=\"color:lightgrey;\">•</span><span style=\"color:lightgrey;\">•</span><span style=\"color:black;\">p</span><span style=\"color:black;\">r</span><span style=\"color:black;\">i</span><span style=\"color:black;\">n</span><span style=\"color:black;\">t</span><span style=\"color:black;\">(</span><span style=\"color:black;\">\"</span><span style=\"color:black;\">s</span><span style=\"color:black;\">e</span><span style=\"color:black;\">t</span><span style=\"color:black;\">w</span><span style=\"color:black;\">i</span><span style=\"color:black;\">s</span><span style=\"color:black;\">e</span><span style=\"color:lightgrey;\">•</span><span style=\"color:black;\">c</span><span style=\"color:black;\">o</span><span style=\"color:black;\">p</span><span style=\"color:black;\">r</span><span style=\"color:black;\">i</span><span style=\"color:black;\">m</span><span style=\"color:black;\">e</span><span style=\"color:black;\">\"</span><span style=\"color:black;\">)</span><span style=\"color:red;\">↵\n",
       "</span></pre>"
      ],
      "text/plain": [
       "<IPython.core.display.HTML object>"
      ]
     },
     "metadata": {},
     "output_type": "display_data"
    },
    {
     "data": {
      "text/html": [
       "<h2>The source code that is accepted:\n",
       "</h2>"
      ],
      "text/plain": [
       "<IPython.core.display.HTML object>"
      ]
     },
     "metadata": {},
     "output_type": "display_data"
    },
    {
     "data": {
      "text/html": [
       "<pre><span style=\"color:black;\">i</span><span style=\"color:black;\">m</span><span style=\"color:black;\">p</span><span style=\"color:black;\">o</span><span style=\"color:black;\">r</span><span style=\"color:black;\">t</span><span style=\"color:lightgrey;\">•</span><span style=\"color:black;\">m</span><span style=\"color:black;\">a</span><span style=\"color:black;\">t</span><span style=\"color:black;\">h</span><span style=\"color:lightgrey;\">↵\n",
       "</span><span style=\"color:lightgrey;\">↵\n",
       "</span><span style=\"color:black;\">M</span><span style=\"color:black;\">A</span><span style=\"color:black;\">X</span><span style=\"color:black;\">=</span><span style=\"color:black;\">1</span><span style=\"color:black;\">0</span><span style=\"color:black;\">*</span><span style=\"color:black;\">*</span><span style=\"color:black;\">6</span><span style=\"color:black;\">+</span><span style=\"color:black;\">3</span><span style=\"color:lightgrey;\">↵\n",
       "</span><span style=\"color:black;\">t</span><span style=\"color:black;\">a</span><span style=\"color:black;\">b</span><span style=\"color:black;\">l</span><span style=\"color:black;\">e</span><span style=\"color:lightgrey;\">•</span><span style=\"color:black;\">=</span><span style=\"color:lightgrey;\">•</span><span style=\"color:black;\">l</span><span style=\"color:black;\">i</span><span style=\"color:black;\">s</span><span style=\"color:black;\">t</span><span style=\"color:black;\">(</span><span style=\"color:black;\">r</span><span style=\"color:black;\">a</span><span style=\"color:black;\">n</span><span style=\"color:black;\">g</span><span style=\"color:black;\">e</span><span style=\"color:black;\">(</span><span style=\"color:black;\">M</span><span style=\"color:black;\">A</span><span style=\"color:black;\">X</span><span style=\"color:black;\">)</span><span style=\"color:black;\">)</span><span style=\"color:lightgrey;\">↵\n",
       "</span><span style=\"color:black;\">i</span><span style=\"color:black;\">=</span><span style=\"color:black;\">2</span><span style=\"color:lightgrey;\">↵\n",
       "</span><span style=\"color:black;\">n</span><span style=\"color:black;\">=</span><span style=\"color:black;\">M</span><span style=\"color:black;\">A</span><span style=\"color:black;\">X</span><span style=\"color:lightgrey;\">↵\n",
       "</span><span style=\"color:black;\">w</span><span style=\"color:black;\">h</span><span style=\"color:black;\">i</span><span style=\"color:black;\">l</span><span style=\"color:black;\">e</span><span style=\"color:lightgrey;\">•</span><span style=\"color:black;\">i</span><span style=\"color:black;\"><</span><span style=\"color:black;\">n</span><span style=\"color:black;\">:</span><span style=\"color:lightgrey;\">↵\n",
       "</span><span style=\"color:lightgrey;\">•</span><span style=\"color:lightgrey;\">•</span><span style=\"color:lightgrey;\">•</span><span style=\"color:lightgrey;\">•</span><span style=\"color:black;\">t</span><span style=\"color:black;\">a</span><span style=\"color:black;\">b</span><span style=\"color:black;\">l</span><span style=\"color:black;\">e</span><span style=\"color:black;\">[</span><span style=\"color:black;\">i</span><span style=\"color:black;\">]</span><span style=\"color:lightgrey;\">•</span><span style=\"color:black;\">=</span><span style=\"color:lightgrey;\">•</span><span style=\"color:black;\">2</span><span style=\"color:lightgrey;\">↵\n",
       "</span><span style=\"color:lightgrey;\">•</span><span style=\"color:lightgrey;\">•</span><span style=\"color:lightgrey;\">•</span><span style=\"color:lightgrey;\">•</span><span style=\"color:black;\">i</span><span style=\"color:black;\">+</span><span style=\"color:black;\">=</span><span style=\"color:black;\">2</span><span style=\"color:lightgrey;\">↵\n",
       "</span><span style=\"color:black;\">p</span><span style=\"color:black;\">=</span><span style=\"color:black;\">3</span><span style=\"color:lightgrey;\">↵\n",
       "</span><span style=\"color:black;\">w</span><span style=\"color:black;\">h</span><span style=\"color:black;\">i</span><span style=\"color:black;\">l</span><span style=\"color:black;\">e</span><span style=\"color:lightgrey;\">•</span><span style=\"color:black;\">p</span><span style=\"color:black;\">*</span><span style=\"color:black;\">p</span><span style=\"color:black;\"><</span><span style=\"color:black;\">=</span><span style=\"color:black;\">n</span><span style=\"color:black;\">:</span><span style=\"color:lightgrey;\">↵\n",
       "</span><span style=\"color:lightgrey;\">•</span><span style=\"color:lightgrey;\">•</span><span style=\"color:lightgrey;\">•</span><span style=\"color:lightgrey;\">•</span><span style=\"color:black;\">i</span><span style=\"color:black;\">f</span><span style=\"color:lightgrey;\">•</span><span style=\"color:black;\">t</span><span style=\"color:black;\">a</span><span style=\"color:black;\">b</span><span style=\"color:black;\">l</span><span style=\"color:black;\">e</span><span style=\"color:black;\">[</span><span style=\"color:black;\">p</span><span style=\"color:black;\">]</span><span style=\"color:black;\"><</span><span style=\"color:black;\">p</span><span style=\"color:black;\">:</span><span style=\"color:blue;\">↵\n",
       "</span><span style=\"color:blue;\">•</span><span style=\"color:blue;\">•</span><span style=\"color:blue;\">•</span><span style=\"color:blue;\">•</span><span style=\"color:blue;\">•</span><span style=\"color:blue;\">•</span><span style=\"color:blue;\">•</span><span style=\"color:blue;\">•</span><span style=\"color:blue;\">p</span><span style=\"color:blue;\">+</span><span style=\"color:blue;\">=</span><span style=\"color:blue;\">2</span><span style=\"color:blue;\">↵\n",
       "</span><span style=\"color:lightgrey;\">•</span><span style=\"color:lightgrey;\">•</span><span style=\"color:lightgrey;\">•</span><span style=\"color:lightgrey;\">•</span><span style=\"color:lightgrey;\">•</span><span style=\"color:lightgrey;\">•</span><span style=\"color:lightgrey;\">•</span><span style=\"color:lightgrey;\">•</span><span style=\"color:black;\">c</span><span style=\"color:black;\">o</span><span style=\"color:black;\">n</span><span style=\"color:black;\">t</span><span style=\"color:black;\">i</span><span style=\"color:black;\">n</span><span style=\"color:black;\">u</span><span style=\"color:black;\">e</span><span style=\"color:lightgrey;\">↵\n",
       "</span><span style=\"color:lightgrey;\">•</span><span style=\"color:lightgrey;\">•</span><span style=\"color:lightgrey;\">•</span><span style=\"color:lightgrey;\">•</span><span style=\"color:black;\">x</span><span style=\"color:black;\">=</span><span style=\"color:black;\">p</span><span style=\"color:lightgrey;\">↵\n",
       "</span><span style=\"color:lightgrey;\">•</span><span style=\"color:lightgrey;\">•</span><span style=\"color:lightgrey;\">•</span><span style=\"color:lightgrey;\">•</span><span style=\"color:black;\">w</span><span style=\"color:black;\">h</span><span style=\"color:black;\">i</span><span style=\"color:black;\">l</span><span style=\"color:black;\">e</span><span style=\"color:lightgrey;\">•</span><span style=\"color:black;\">x</span><span style=\"color:black;\"><</span><span style=\"color:black;\">=</span><span style=\"color:black;\">n</span><span style=\"color:black;\">:</span><span style=\"color:lightgrey;\">↵\n",
       "</span><span style=\"color:lightgrey;\">•</span><span style=\"color:lightgrey;\">•</span><span style=\"color:lightgrey;\">•</span><span style=\"color:lightgrey;\">•</span><span style=\"color:lightgrey;\">•</span><span style=\"color:lightgrey;\">•</span><span style=\"color:lightgrey;\">•</span><span style=\"color:lightgrey;\">•</span><span style=\"color:black;\">t</span><span style=\"color:black;\">a</span><span style=\"color:black;\">b</span><span style=\"color:black;\">l</span><span style=\"color:black;\">e</span><span style=\"color:black;\">[</span><span style=\"color:black;\">x</span><span style=\"color:black;\">]</span><span style=\"color:black;\">=</span><span style=\"color:black;\">p</span><span style=\"color:lightgrey;\">↵\n",
       "</span><span style=\"color:lightgrey;\">•</span><span style=\"color:lightgrey;\">•</span><span style=\"color:lightgrey;\">•</span><span style=\"color:lightgrey;\">•</span><span style=\"color:lightgrey;\">•</span><span style=\"color:lightgrey;\">•</span><span style=\"color:lightgrey;\">•</span><span style=\"color:lightgrey;\">•</span><span style=\"color:black;\">x</span><span style=\"color:black;\">+</span><span style=\"color:black;\">=</span><span style=\"color:black;\">p</span><span style=\"color:lightgrey;\">↵\n",
       "</span><span style=\"color:lightgrey;\">•</span><span style=\"color:lightgrey;\">•</span><span style=\"color:lightgrey;\">•</span><span style=\"color:lightgrey;\">•</span><span style=\"color:black;\">p</span><span style=\"color:black;\">+</span><span style=\"color:black;\">=</span><span style=\"color:black;\">2</span><span style=\"color:blue;\">↵\n",
       "</span><span style=\"color:blue;\">↵\n",
       "</span><span style=\"color:lightgrey;\">↵\n",
       "</span><span style=\"color:black;\">d</span><span style=\"color:black;\">e</span><span style=\"color:black;\">f</span><span style=\"color:lightgrey;\">•</span><span style=\"color:black;\">p</span><span style=\"color:black;\">r</span><span style=\"color:black;\">i</span><span style=\"color:black;\">m</span><span style=\"color:black;\">e</span><span style=\"color:black;\">F</span><span style=\"color:black;\">a</span><span style=\"color:black;\">c</span><span style=\"color:black;\">t</span><span style=\"color:black;\">o</span><span style=\"color:black;\">r</span><span style=\"color:black;\">S</span><span style=\"color:black;\">e</span><span style=\"color:black;\">t</span><span style=\"color:black;\">(</span><span style=\"color:black;\">n</span><span style=\"color:black;\">)</span><span style=\"color:black;\">:</span><span style=\"color:lightgrey;\">↵\n",
       "</span><span style=\"color:lightgrey;\">•</span><span style=\"color:lightgrey;\">•</span><span style=\"color:lightgrey;\">•</span><span style=\"color:lightgrey;\">•</span><span style=\"color:black;\">r</span><span style=\"color:black;\">e</span><span style=\"color:black;\">s</span><span style=\"color:black;\">u</span><span style=\"color:black;\">l</span><span style=\"color:black;\">t</span><span style=\"color:lightgrey;\">•</span><span style=\"color:black;\">=</span><span style=\"color:lightgrey;\">•</span><span style=\"color:black;\">s</span><span style=\"color:black;\">e</span><span style=\"color:black;\">t</span><span style=\"color:black;\">(</span><span style=\"color:black;\">)</span><span style=\"color:lightgrey;\">↵\n",
       "</span><span style=\"color:lightgrey;\">•</span><span style=\"color:lightgrey;\">•</span><span style=\"color:lightgrey;\">•</span><span style=\"color:lightgrey;\">•</span><span style=\"color:black;\">w</span><span style=\"color:black;\">h</span><span style=\"color:black;\">i</span><span style=\"color:black;\">l</span><span style=\"color:black;\">e</span><span style=\"color:lightgrey;\">•</span><span style=\"color:black;\">t</span><span style=\"color:black;\">a</span><span style=\"color:black;\">b</span><span style=\"color:black;\">l</span><span style=\"color:black;\">e</span><span style=\"color:black;\">[</span><span style=\"color:black;\">n</span><span style=\"color:black;\">]</span><span style=\"color:black;\">!</span><span style=\"color:black;\">=</span><span style=\"color:black;\">1</span><span style=\"color:black;\">:</span><span style=\"color:lightgrey;\">↵\n",
       "</span><span style=\"color:lightgrey;\">•</span><span style=\"color:lightgrey;\">•</span><span style=\"color:lightgrey;\">•</span><span style=\"color:lightgrey;\">•</span><span style=\"color:lightgrey;\">•</span><span style=\"color:lightgrey;\">•</span><span style=\"color:lightgrey;\">•</span><span style=\"color:lightgrey;\">•</span><span style=\"color:black;\">r</span><span style=\"color:black;\">e</span><span style=\"color:black;\">s</span><span style=\"color:black;\">u</span><span style=\"color:black;\">l</span><span style=\"color:black;\">t</span><span style=\"color:black;\">.</span><span style=\"color:black;\">a</span><span style=\"color:black;\">d</span><span style=\"color:black;\">d</span><span style=\"color:black;\">(</span><span style=\"color:black;\">t</span><span style=\"color:black;\">a</span><span style=\"color:black;\">b</span><span style=\"color:black;\">l</span><span style=\"color:black;\">e</span><span style=\"color:black;\">[</span><span style=\"color:black;\">n</span><span style=\"color:black;\">]</span><span style=\"color:black;\">)</span><span style=\"color:lightgrey;\">↵\n",
       "</span><span style=\"color:lightgrey;\">•</span><span style=\"color:lightgrey;\">•</span><span style=\"color:lightgrey;\">•</span><span style=\"color:lightgrey;\">•</span><span style=\"color:lightgrey;\">•</span><span style=\"color:lightgrey;\">•</span><span style=\"color:lightgrey;\">•</span><span style=\"color:lightgrey;\">•</span><span style=\"color:black;\">n</span><span style=\"color:lightgrey;\">•</span><span style=\"color:black;\">/</span><span style=\"color:black;\">/</span><span style=\"color:black;\">=</span><span style=\"color:lightgrey;\">•</span><span style=\"color:black;\">t</span><span style=\"color:black;\">a</span><span style=\"color:black;\">b</span><span style=\"color:black;\">l</span><span style=\"color:black;\">e</span><span style=\"color:black;\">[</span><span style=\"color:black;\">n</span><span style=\"color:black;\">]</span><span style=\"color:lightgrey;\">↵\n",
       "</span><span style=\"color:lightgrey;\">•</span><span style=\"color:lightgrey;\">•</span><span style=\"color:lightgrey;\">•</span><span style=\"color:lightgrey;\">•</span><span style=\"color:black;\">r</span><span style=\"color:black;\">e</span><span style=\"color:black;\">t</span><span style=\"color:black;\">u</span><span style=\"color:black;\">r</span><span style=\"color:black;\">n</span><span style=\"color:lightgrey;\">•</span><span style=\"color:black;\">r</span><span style=\"color:black;\">e</span><span style=\"color:black;\">s</span><span style=\"color:black;\">u</span><span style=\"color:black;\">l</span><span style=\"color:black;\">t</span><span style=\"color:lightgrey;\">↵\n",
       "</span><span style=\"color:lightgrey;\">•</span><span style=\"color:lightgrey;\">•</span><span style=\"color:lightgrey;\">•</span><span style=\"color:lightgrey;\">•</span><span style=\"color:lightgrey;\">↵\n",
       "</span><span style=\"color:lightgrey;\">↵\n",
       "</span><span style=\"color:black;\">n</span><span style=\"color:lightgrey;\">•</span><span style=\"color:black;\">=</span><span style=\"color:lightgrey;\">•</span><span style=\"color:black;\">i</span><span style=\"color:black;\">n</span><span style=\"color:black;\">t</span><span style=\"color:black;\">(</span><span style=\"color:black;\">i</span><span style=\"color:black;\">n</span><span style=\"color:black;\">p</span><span style=\"color:black;\">u</span><span style=\"color:black;\">t</span><span style=\"color:black;\">(</span><span style=\"color:black;\">)</span><span style=\"color:black;\">)</span><span style=\"color:lightgrey;\">↵\n",
       "</span><span style=\"color:black;\">A</span><span style=\"color:lightgrey;\">•</span><span style=\"color:black;\">=</span><span style=\"color:lightgrey;\">•</span><span style=\"color:black;\">l</span><span style=\"color:black;\">i</span><span style=\"color:black;\">s</span><span style=\"color:black;\">t</span><span style=\"color:black;\">(</span><span style=\"color:black;\">m</span><span style=\"color:black;\">a</span><span style=\"color:black;\">p</span><span style=\"color:black;\">(</span><span style=\"color:black;\">i</span><span style=\"color:black;\">n</span><span style=\"color:black;\">t</span><span style=\"color:black;\">,</span><span style=\"color:black;\">i</span><span style=\"color:black;\">n</span><span style=\"color:black;\">p</span><span style=\"color:black;\">u</span><span style=\"color:black;\">t</span><span style=\"color:black;\">(</span><span style=\"color:black;\">)</span><span style=\"color:black;\">.</span><span style=\"color:black;\">s</span><span style=\"color:black;\">p</span><span style=\"color:black;\">l</span><span style=\"color:black;\">i</span><span style=\"color:black;\">t</span><span style=\"color:black;\">(</span><span style=\"color:black;\">)</span><span style=\"color:black;\">)</span><span style=\"color:black;\">)</span><span style=\"color:lightgrey;\">↵\n",
       "</span><span style=\"color:black;\">p</span><span style=\"color:black;\">a</span><span style=\"color:black;\">i</span><span style=\"color:black;\">r</span><span style=\"color:black;\">w</span><span style=\"color:black;\">i</span><span style=\"color:black;\">s</span><span style=\"color:black;\">e</span><span style=\"color:lightgrey;\">•</span><span style=\"color:black;\">=</span><span style=\"color:lightgrey;\">•</span><span style=\"color:black;\">T</span><span style=\"color:black;\">r</span><span style=\"color:black;\">u</span><span style=\"color:black;\">e</span><span style=\"color:lightgrey;\">↵\n",
       "</span><span style=\"color:black;\">f</span><span style=\"color:black;\">l</span><span style=\"color:black;\">a</span><span style=\"color:black;\">g</span><span style=\"color:black;\">s</span><span style=\"color:lightgrey;\">•</span><span style=\"color:black;\">=</span><span style=\"color:lightgrey;\">•</span><span style=\"color:black;\">[</span><span style=\"color:black;\">F</span><span style=\"color:black;\">a</span><span style=\"color:black;\">l</span><span style=\"color:black;\">s</span><span style=\"color:black;\">e</span><span style=\"color:lightgrey;\">•</span><span style=\"color:black;\">f</span><span style=\"color:black;\">o</span><span style=\"color:black;\">r</span><span style=\"color:lightgrey;\">•</span><span style=\"color:black;\">_</span><span style=\"color:lightgrey;\">•</span><span style=\"color:black;\">i</span><span style=\"color:black;\">n</span><span style=\"color:lightgrey;\">•</span><span style=\"color:black;\">r</span><span style=\"color:black;\">a</span><span style=\"color:black;\">n</span><span style=\"color:black;\">g</span><span style=\"color:black;\">e</span><span style=\"color:black;\">(</span><span style=\"color:black;\">M</span><span style=\"color:black;\">A</span><span style=\"color:black;\">X</span><span style=\"color:black;\">)</span><span style=\"color:black;\">]</span><span style=\"color:lightgrey;\">↵\n",
       "</span><span style=\"color:lightgrey;\">↵\n",
       "</span><span style=\"color:black;\">f</span><span style=\"color:black;\">o</span><span style=\"color:black;\">r</span><span style=\"color:lightgrey;\">•</span><span style=\"color:black;\">i</span><span style=\"color:lightgrey;\">•</span><span style=\"color:black;\">i</span><span style=\"color:black;\">n</span><span style=\"color:lightgrey;\">•</span><span style=\"color:black;\">r</span><span style=\"color:black;\">a</span><span style=\"color:black;\">n</span><span style=\"color:black;\">g</span><span style=\"color:black;\">e</span><span style=\"color:black;\">(</span><span style=\"color:black;\">n</span><span style=\"color:black;\">)</span><span style=\"color:black;\">:</span><span style=\"color:lightgrey;\">↵\n",
       "</span><span style=\"color:lightgrey;\">•</span><span style=\"color:lightgrey;\">•</span><span style=\"color:lightgrey;\">•</span><span style=\"color:lightgrey;\">•</span><span style=\"color:black;\">a</span><span style=\"color:black;\">=</span><span style=\"color:black;\">A</span><span style=\"color:black;\">[</span><span style=\"color:black;\">i</span><span style=\"color:black;\">]</span><span style=\"color:lightgrey;\">↵\n",
       "</span><span style=\"color:lightgrey;\">•</span><span style=\"color:lightgrey;\">•</span><span style=\"color:lightgrey;\">•</span><span style=\"color:lightgrey;\">•</span><span style=\"color:black;\">i</span><span style=\"color:black;\">f</span><span style=\"color:lightgrey;\">•</span><span style=\"color:black;\">p</span><span style=\"color:black;\">a</span><span style=\"color:black;\">i</span><span style=\"color:black;\">r</span><span style=\"color:black;\">w</span><span style=\"color:black;\">i</span><span style=\"color:black;\">s</span><span style=\"color:black;\">e</span><span style=\"color:black;\">:</span><span style=\"color:lightgrey;\">↵\n",
       "</span><span style=\"color:lightgrey;\">•</span><span style=\"color:lightgrey;\">•</span><span style=\"color:lightgrey;\">•</span><span style=\"color:lightgrey;\">•</span><span style=\"color:lightgrey;\">•</span><span style=\"color:lightgrey;\">•</span><span style=\"color:lightgrey;\">•</span><span style=\"color:lightgrey;\">•</span><span style=\"color:black;\">t</span><span style=\"color:lightgrey;\">•</span><span style=\"color:black;\">=</span><span style=\"color:lightgrey;\">•</span><span style=\"color:black;\">p</span><span style=\"color:black;\">r</span><span style=\"color:black;\">i</span><span style=\"color:black;\">m</span><span style=\"color:black;\">e</span><span style=\"color:black;\">F</span><span style=\"color:black;\">a</span><span style=\"color:black;\">c</span><span style=\"color:black;\">t</span><span style=\"color:black;\">o</span><span style=\"color:black;\">r</span><span style=\"color:black;\">S</span><span style=\"color:black;\">e</span><span style=\"color:black;\">t</span><span style=\"color:black;\">(</span><span style=\"color:black;\">a</span><span style=\"color:black;\">)</span><span style=\"color:lightgrey;\">↵\n",
       "</span><span style=\"color:lightgrey;\">•</span><span style=\"color:lightgrey;\">•</span><span style=\"color:lightgrey;\">•</span><span style=\"color:lightgrey;\">•</span><span style=\"color:lightgrey;\">•</span><span style=\"color:lightgrey;\">•</span><span style=\"color:lightgrey;\">•</span><span style=\"color:lightgrey;\">•</span><span style=\"color:black;\">f</span><span style=\"color:black;\">o</span><span style=\"color:black;\">r</span><span style=\"color:lightgrey;\">•</span><span style=\"color:black;\">p</span><span style=\"color:lightgrey;\">•</span><span style=\"color:black;\">i</span><span style=\"color:black;\">n</span><span style=\"color:lightgrey;\">•</span><span style=\"color:black;\">t</span><span style=\"color:black;\">:</span><span style=\"color:lightgrey;\">↵\n",
       "</span><span style=\"color:lightgrey;\">•</span><span style=\"color:lightgrey;\">•</span><span style=\"color:lightgrey;\">•</span><span style=\"color:lightgrey;\">•</span><span style=\"color:lightgrey;\">•</span><span style=\"color:lightgrey;\">•</span><span style=\"color:lightgrey;\">•</span><span style=\"color:lightgrey;\">•</span><span style=\"color:lightgrey;\">•</span><span style=\"color:lightgrey;\">•</span><span style=\"color:lightgrey;\">•</span><span style=\"color:lightgrey;\">•</span><span style=\"color:black;\">i</span><span style=\"color:black;\">f</span><span style=\"color:lightgrey;\">•</span><span style=\"color:black;\">f</span><span style=\"color:black;\">l</span><span style=\"color:black;\">a</span><span style=\"color:black;\">g</span><span style=\"color:black;\">s</span><span style=\"color:black;\">[</span><span style=\"color:black;\">p</span><span style=\"color:black;\">]</span><span style=\"color:black;\">:</span><span style=\"color:lightgrey;\">↵\n",
       "</span><span style=\"color:lightgrey;\">•</span><span style=\"color:lightgrey;\">•</span><span style=\"color:lightgrey;\">•</span><span style=\"color:lightgrey;\">•</span><span style=\"color:lightgrey;\">•</span><span style=\"color:lightgrey;\">•</span><span style=\"color:lightgrey;\">•</span><span style=\"color:lightgrey;\">•</span><span style=\"color:lightgrey;\">•</span><span style=\"color:lightgrey;\">•</span><span style=\"color:lightgrey;\">•</span><span style=\"color:lightgrey;\">•</span><span style=\"color:lightgrey;\">•</span><span style=\"color:lightgrey;\">•</span><span style=\"color:lightgrey;\">•</span><span style=\"color:lightgrey;\">•</span><span style=\"color:black;\">p</span><span style=\"color:black;\">a</span><span style=\"color:black;\">i</span><span style=\"color:black;\">r</span><span style=\"color:black;\">w</span><span style=\"color:black;\">i</span><span style=\"color:black;\">s</span><span style=\"color:black;\">e</span><span style=\"color:lightgrey;\">•</span><span style=\"color:black;\">=</span><span style=\"color:lightgrey;\">•</span><span style=\"color:black;\">F</span><span style=\"color:black;\">a</span><span style=\"color:black;\">l</span><span style=\"color:black;\">s</span><span style=\"color:black;\">e</span><span style=\"color:lightgrey;\">↵\n",
       "</span><span style=\"color:lightgrey;\">•</span><span style=\"color:lightgrey;\">•</span><span style=\"color:lightgrey;\">•</span><span style=\"color:lightgrey;\">•</span><span style=\"color:lightgrey;\">•</span><span style=\"color:lightgrey;\">•</span><span style=\"color:lightgrey;\">•</span><span style=\"color:lightgrey;\">•</span><span style=\"color:lightgrey;\">•</span><span style=\"color:lightgrey;\">•</span><span style=\"color:lightgrey;\">•</span><span style=\"color:lightgrey;\">•</span><span style=\"color:lightgrey;\">•</span><span style=\"color:lightgrey;\">•</span><span style=\"color:lightgrey;\">•</span><span style=\"color:lightgrey;\">•</span><span style=\"color:black;\">b</span><span style=\"color:black;\">r</span><span style=\"color:black;\">e</span><span style=\"color:black;\">a</span><span style=\"color:black;\">k</span><span style=\"color:lightgrey;\">↵\n",
       "</span><span style=\"color:lightgrey;\">•</span><span style=\"color:lightgrey;\">•</span><span style=\"color:lightgrey;\">•</span><span style=\"color:lightgrey;\">•</span><span style=\"color:lightgrey;\">•</span><span style=\"color:lightgrey;\">•</span><span style=\"color:lightgrey;\">•</span><span style=\"color:lightgrey;\">•</span><span style=\"color:lightgrey;\">•</span><span style=\"color:lightgrey;\">•</span><span style=\"color:lightgrey;\">•</span><span style=\"color:lightgrey;\">•</span><span style=\"color:black;\">f</span><span style=\"color:black;\">l</span><span style=\"color:black;\">a</span><span style=\"color:black;\">g</span><span style=\"color:black;\">s</span><span style=\"color:black;\">[</span><span style=\"color:black;\">p</span><span style=\"color:black;\">]</span><span style=\"color:black;\">=</span><span style=\"color:black;\">T</span><span style=\"color:black;\">r</span><span style=\"color:black;\">u</span><span style=\"color:black;\">e</span><span style=\"color:lightgrey;\">↵\n",
       "</span><span style=\"color:lightgrey;\">•</span><span style=\"color:lightgrey;\">•</span><span style=\"color:lightgrey;\">•</span><span style=\"color:lightgrey;\">•</span><span style=\"color:black;\">i</span><span style=\"color:black;\">f</span><span style=\"color:lightgrey;\">•</span><span style=\"color:black;\">i</span><span style=\"color:black;\">=</span><span style=\"color:black;\">=</span><span style=\"color:black;\">0</span><span style=\"color:black;\">:</span><span style=\"color:lightgrey;\">↵\n",
       "</span><span style=\"color:lightgrey;\">•</span><span style=\"color:lightgrey;\">•</span><span style=\"color:lightgrey;\">•</span><span style=\"color:lightgrey;\">•</span><span style=\"color:lightgrey;\">•</span><span style=\"color:lightgrey;\">•</span><span style=\"color:lightgrey;\">•</span><span style=\"color:lightgrey;\">•</span><span style=\"color:black;\">g</span><span style=\"color:black;\">=</span><span style=\"color:black;\">a</span><span style=\"color:lightgrey;\">↵\n",
       "</span><span style=\"color:lightgrey;\">•</span><span style=\"color:lightgrey;\">•</span><span style=\"color:lightgrey;\">•</span><span style=\"color:lightgrey;\">•</span><span style=\"color:black;\">e</span><span style=\"color:black;\">l</span><span style=\"color:black;\">s</span><span style=\"color:black;\">e</span><span style=\"color:black;\">:</span><span style=\"color:lightgrey;\">↵\n",
       "</span><span style=\"color:lightgrey;\">•</span><span style=\"color:lightgrey;\">•</span><span style=\"color:lightgrey;\">•</span><span style=\"color:lightgrey;\">•</span><span style=\"color:lightgrey;\">•</span><span style=\"color:lightgrey;\">•</span><span style=\"color:lightgrey;\">•</span><span style=\"color:lightgrey;\">•</span><span style=\"color:black;\">g</span><span style=\"color:black;\">=</span><span style=\"color:black;\">m</span><span style=\"color:black;\">a</span><span style=\"color:black;\">t</span><span style=\"color:black;\">h</span><span style=\"color:black;\">.</span><span style=\"color:black;\">g</span><span style=\"color:black;\">c</span><span style=\"color:black;\">d</span><span style=\"color:black;\">(</span><span style=\"color:black;\">g</span><span style=\"color:black;\">,</span><span style=\"color:black;\">a</span><span style=\"color:black;\">)</span><span style=\"color:lightgrey;\">↵\n",
       "</span><span style=\"color:lightgrey;\">•</span><span style=\"color:lightgrey;\">•</span><span style=\"color:lightgrey;\">•</span><span style=\"color:lightgrey;\">•</span><span style=\"color:lightgrey;\">↵\n",
       "</span><span style=\"color:black;\">i</span><span style=\"color:black;\">f</span><span style=\"color:lightgrey;\">•</span><span style=\"color:black;\">g</span><span style=\"color:black;\">></span><span style=\"color:black;\">1</span><span style=\"color:black;\">:</span><span style=\"color:lightgrey;\">↵\n",
       "</span><span style=\"color:lightgrey;\">•</span><span style=\"color:lightgrey;\">•</span><span style=\"color:lightgrey;\">•</span><span style=\"color:lightgrey;\">•</span><span style=\"color:black;\">p</span><span style=\"color:black;\">r</span><span style=\"color:black;\">i</span><span style=\"color:black;\">n</span><span style=\"color:black;\">t</span><span style=\"color:black;\">(</span><span style=\"color:black;\">\"</span><span style=\"color:black;\">n</span><span style=\"color:black;\">o</span><span style=\"color:black;\">t</span><span style=\"color:lightgrey;\">•</span><span style=\"color:black;\">c</span><span style=\"color:black;\">o</span><span style=\"color:black;\">p</span><span style=\"color:black;\">r</span><span style=\"color:black;\">i</span><span style=\"color:black;\">m</span><span style=\"color:black;\">e</span><span style=\"color:black;\">\"</span><span style=\"color:black;\">)</span><span style=\"color:lightgrey;\">↵\n",
       "</span><span style=\"color:black;\">e</span><span style=\"color:black;\">l</span><span style=\"color:black;\">i</span><span style=\"color:black;\">f</span><span style=\"color:lightgrey;\">•</span><span style=\"color:black;\">p</span><span style=\"color:black;\">a</span><span style=\"color:black;\">i</span><span style=\"color:black;\">r</span><span style=\"color:black;\">w</span><span style=\"color:black;\">i</span><span style=\"color:black;\">s</span><span style=\"color:black;\">e</span><span style=\"color:black;\">:</span><span style=\"color:lightgrey;\">↵\n",
       "</span><span style=\"color:lightgrey;\">•</span><span style=\"color:lightgrey;\">•</span><span style=\"color:lightgrey;\">•</span><span style=\"color:lightgrey;\">•</span><span style=\"color:black;\">p</span><span style=\"color:black;\">r</span><span style=\"color:black;\">i</span><span style=\"color:black;\">n</span><span style=\"color:black;\">t</span><span style=\"color:black;\">(</span><span style=\"color:black;\">\"</span><span style=\"color:black;\">p</span><span style=\"color:black;\">a</span><span style=\"color:black;\">i</span><span style=\"color:black;\">r</span><span style=\"color:black;\">w</span><span style=\"color:black;\">i</span><span style=\"color:black;\">s</span><span style=\"color:black;\">e</span><span style=\"color:lightgrey;\">•</span><span style=\"color:black;\">c</span><span style=\"color:black;\">o</span><span style=\"color:black;\">p</span><span style=\"color:black;\">r</span><span style=\"color:black;\">i</span><span style=\"color:black;\">m</span><span style=\"color:black;\">e</span><span style=\"color:black;\">\"</span><span style=\"color:black;\">)</span><span style=\"color:lightgrey;\">↵\n",
       "</span><span style=\"color:black;\">e</span><span style=\"color:black;\">l</span><span style=\"color:black;\">s</span><span style=\"color:black;\">e</span><span style=\"color:black;\">:</span><span style=\"color:lightgrey;\">↵\n",
       "</span><span style=\"color:lightgrey;\">•</span><span style=\"color:lightgrey;\">•</span><span style=\"color:lightgrey;\">•</span><span style=\"color:lightgrey;\">•</span><span style=\"color:black;\">p</span><span style=\"color:black;\">r</span><span style=\"color:black;\">i</span><span style=\"color:black;\">n</span><span style=\"color:black;\">t</span><span style=\"color:black;\">(</span><span style=\"color:black;\">\"</span><span style=\"color:black;\">s</span><span style=\"color:black;\">e</span><span style=\"color:black;\">t</span><span style=\"color:black;\">w</span><span style=\"color:black;\">i</span><span style=\"color:black;\">s</span><span style=\"color:black;\">e</span><span style=\"color:lightgrey;\">•</span><span style=\"color:black;\">c</span><span style=\"color:black;\">o</span><span style=\"color:black;\">p</span><span style=\"color:black;\">r</span><span style=\"color:black;\">i</span><span style=\"color:black;\">m</span><span style=\"color:black;\">e</span><span style=\"color:black;\">\"</span><span style=\"color:black;\">)</span></pre>"
      ],
      "text/plain": [
       "<IPython.core.display.HTML object>"
      ]
     },
     "metadata": {},
     "output_type": "display_data"
    },
    {
     "data": {
      "text/html": [
       "<h2>The bug that should be assigned to the original_src:\n",
       "</h2>"
      ],
      "text/plain": [
       "<IPython.core.display.HTML object>"
      ]
     },
     "metadata": {},
     "output_type": "display_data"
    },
    {
     "data": {
      "text/html": [
       "<pre>TLEError: Time limit exceeded</pre>"
      ],
      "text/plain": [
       "<IPython.core.display.HTML object>"
      ]
     },
     "metadata": {},
     "output_type": "display_data"
    },
    {
     "data": {
      "text/html": [
       "<h1>Example 5</h1>"
      ],
      "text/plain": [
       "<IPython.core.display.HTML object>"
      ]
     },
     "metadata": {},
     "output_type": "display_data"
    },
    {
     "data": {
      "text/html": [
       "<h2>The source code that is buggy:\n",
       "</h2>"
      ],
      "text/plain": [
       "<IPython.core.display.HTML object>"
      ]
     },
     "metadata": {},
     "output_type": "display_data"
    },
    {
     "data": {
      "text/html": [
       "<pre><span style=\"color:black;\">a</span><span style=\"color:black;\">,</span><span style=\"color:black;\">b</span><span style=\"color:black;\">=</span><span style=\"color:black;\">m</span><span style=\"color:black;\">a</span><span style=\"color:black;\">p</span><span style=\"color:black;\">(</span><span style=\"color:black;\">i</span><span style=\"color:black;\">n</span><span style=\"color:black;\">t</span><span style=\"color:black;\">,</span><span style=\"color:red;\">s</span><span style=\"color:black;\">p</span><span style=\"color:black;\">l</span><span style=\"color:black;\">i</span><span style=\"color:black;\">t</span><span style=\"color:black;\">(</span><span style=\"color:black;\">)</span><span style=\"color:black;\">)</span><span style=\"color:lightgrey;\">↵\n",
       "</span><span style=\"color:black;\">p</span><span style=\"color:black;\">r</span><span style=\"color:black;\">i</span><span style=\"color:black;\">n</span><span style=\"color:black;\">t</span><span style=\"color:black;\">(</span><span style=\"color:black;\">a</span><span style=\"color:black;\">b</span><span style=\"color:black;\">s</span><span style=\"color:black;\">(</span><span style=\"color:black;\">a</span><span style=\"color:black;\">-</span><span style=\"color:black;\">b</span><span style=\"color:black;\">)</span><span style=\"color:black;\">)</span><span style=\"color:lightgrey;\">↵\n",
       "</span></pre>"
      ],
      "text/plain": [
       "<IPython.core.display.HTML object>"
      ]
     },
     "metadata": {},
     "output_type": "display_data"
    },
    {
     "data": {
      "text/html": [
       "<h2>The source code that is accepted:\n",
       "</h2>"
      ],
      "text/plain": [
       "<IPython.core.display.HTML object>"
      ]
     },
     "metadata": {},
     "output_type": "display_data"
    },
    {
     "data": {
      "text/html": [
       "<pre><span style=\"color:black;\">a</span><span style=\"color:black;\">,</span><span style=\"color:black;\">b</span><span style=\"color:black;\">=</span><span style=\"color:black;\">m</span><span style=\"color:black;\">a</span><span style=\"color:black;\">p</span><span style=\"color:black;\">(</span><span style=\"color:black;\">i</span><span style=\"color:black;\">n</span><span style=\"color:black;\">t</span><span style=\"color:black;\">,</span><span style=\"color:blue;\">i</span><span style=\"color:blue;\">n</span><span style=\"color:blue;\">p</span><span style=\"color:blue;\">u</span><span style=\"color:blue;\">t</span><span style=\"color:blue;\">(</span><span style=\"color:blue;\">)</span><span style=\"color:blue;\">.</span><span style=\"color:blue;\">s</span><span style=\"color:black;\">p</span><span style=\"color:black;\">l</span><span style=\"color:black;\">i</span><span style=\"color:black;\">t</span><span style=\"color:black;\">(</span><span style=\"color:black;\">)</span><span style=\"color:black;\">)</span><span style=\"color:lightgrey;\">↵\n",
       "</span><span style=\"color:black;\">p</span><span style=\"color:black;\">r</span><span style=\"color:black;\">i</span><span style=\"color:black;\">n</span><span style=\"color:black;\">t</span><span style=\"color:black;\">(</span><span style=\"color:black;\">a</span><span style=\"color:black;\">b</span><span style=\"color:black;\">s</span><span style=\"color:black;\">(</span><span style=\"color:black;\">a</span><span style=\"color:black;\">-</span><span style=\"color:black;\">b</span><span style=\"color:black;\">)</span><span style=\"color:black;\">)</span><span style=\"color:lightgrey;\">↵\n",
       "</span></pre>"
      ],
      "text/plain": [
       "<IPython.core.display.HTML object>"
      ]
     },
     "metadata": {},
     "output_type": "display_data"
    },
    {
     "data": {
      "text/html": [
       "<h2>The bug that should be assigned to the original_src:\n",
       "</h2>"
      ],
      "text/plain": [
       "<IPython.core.display.HTML object>"
      ]
     },
     "metadata": {},
     "output_type": "display_data"
    },
    {
     "data": {
      "text/html": [
       "<pre>NameError: name 'split' is not defined</pre>"
      ],
      "text/plain": [
       "<IPython.core.display.HTML object>"
      ]
     },
     "metadata": {},
     "output_type": "display_data"
    },
    {
     "data": {
      "text/html": [
       "<h1>Example 6</h1>"
      ],
      "text/plain": [
       "<IPython.core.display.HTML object>"
      ]
     },
     "metadata": {},
     "output_type": "display_data"
    },
    {
     "data": {
      "text/html": [
       "<h2>The source code that is buggy:\n",
       "</h2>"
      ],
      "text/plain": [
       "<IPython.core.display.HTML object>"
      ]
     },
     "metadata": {},
     "output_type": "display_data"
    },
    {
     "data": {
      "text/html": [
       "<pre><span style=\"color:black;\">A</span><span style=\"color:black;\">,</span><span style=\"color:black;\">B</span><span style=\"color:black;\">=</span><span style=\"color:black;\">i</span><span style=\"color:black;\">n</span><span style=\"color:black;\">p</span><span style=\"color:black;\">u</span><span style=\"color:black;\">t</span><span style=\"color:black;\">(</span><span style=\"color:black;\">)</span><span style=\"color:black;\">.</span><span style=\"color:black;\">s</span><span style=\"color:black;\">t</span><span style=\"color:black;\">r</span><span style=\"color:black;\">i</span><span style=\"color:black;\">p</span><span style=\"color:black;\">(</span><span style=\"color:black;\">)</span><span style=\"color:black;\">.</span><span style=\"color:black;\">s</span><span style=\"color:black;\">p</span><span style=\"color:black;\">l</span><span style=\"color:black;\">i</span><span style=\"color:black;\">t</span><span style=\"color:black;\">(</span><span style=\"color:black;\">)</span><span style=\"color:lightgrey;\">↵\n",
       "</span><span style=\"color:red;\">i</span><span style=\"color:black;\">f</span><span style=\"color:lightgrey;\">•</span><span style=\"color:black;\">A</span><span style=\"color:black;\">></span><span style=\"color:black;\">=</span><span style=\"color:black;\">1</span><span style=\"color:lightgrey;\">•</span><span style=\"color:black;\">a</span><span style=\"color:black;\">n</span><span style=\"color:black;\">d</span><span style=\"color:lightgrey;\">•</span><span style=\"color:black;\">A</span><span style=\"color:black;\"><</span><span style=\"color:black;\">=</span><span style=\"color:black;\">1</span><span style=\"color:black;\">0</span><span style=\"color:black;\">0</span><span style=\"color:red;\">•</span><span style=\"color:red;\">a</span><span style=\"color:red;\">n</span><span style=\"color:red;\">d</span><span style=\"color:lightgrey;\">•</span><span style=\"color:black;\">B</span><span style=\"color:black;\">></span><span style=\"color:black;\">=</span><span style=\"color:black;\">1</span><span style=\"color:lightgrey;\">•</span><span style=\"color:black;\">a</span><span style=\"color:black;\">n</span><span style=\"color:black;\">d</span><span style=\"color:lightgrey;\">•</span><span style=\"color:black;\">B</span><span style=\"color:black;\"><</span><span style=\"color:black;\">=</span><span style=\"color:black;\">1</span><span style=\"color:black;\">0</span><span style=\"color:black;\">0</span><span style=\"color:black;\">:</span><span style=\"color:lightgrey;\">↵\n",
       "</span><span style=\"color:lightgrey;\">•</span><span style=\"color:lightgrey;\">•</span><span style=\"color:lightgrey;\">•</span><span style=\"color:lightgrey;\">•</span><span style=\"color:red;\">A</span><span style=\"color:black;\">*</span><span style=\"color:black;\">B</span></pre>"
      ],
      "text/plain": [
       "<IPython.core.display.HTML object>"
      ]
     },
     "metadata": {},
     "output_type": "display_data"
    },
    {
     "data": {
      "text/html": [
       "<h2>The source code that is accepted:\n",
       "</h2>"
      ],
      "text/plain": [
       "<IPython.core.display.HTML object>"
      ]
     },
     "metadata": {},
     "output_type": "display_data"
    },
    {
     "data": {
      "text/html": [
       "<pre><span style=\"color:black;\">A</span><span style=\"color:black;\">,</span><span style=\"color:black;\">B</span><span style=\"color:black;\">=</span><span style=\"color:black;\">i</span><span style=\"color:black;\">n</span><span style=\"color:black;\">p</span><span style=\"color:black;\">u</span><span style=\"color:black;\">t</span><span style=\"color:black;\">(</span><span style=\"color:black;\">)</span><span style=\"color:black;\">.</span><span style=\"color:black;\">s</span><span style=\"color:black;\">t</span><span style=\"color:black;\">r</span><span style=\"color:black;\">i</span><span style=\"color:black;\">p</span><span style=\"color:black;\">(</span><span style=\"color:black;\">)</span><span style=\"color:black;\">.</span><span style=\"color:black;\">s</span><span style=\"color:black;\">p</span><span style=\"color:black;\">l</span><span style=\"color:black;\">i</span><span style=\"color:black;\">t</span><span style=\"color:black;\">(</span><span style=\"color:black;\">)</span><span style=\"color:lightgrey;\">↵\n",
       "</span><span style=\"color:blue;\">A</span><span style=\"color:blue;\">,</span><span style=\"color:blue;\">B</span><span style=\"color:blue;\">=</span><span style=\"color:blue;\">[</span><span style=\"color:blue;\">i</span><span style=\"color:blue;\">n</span><span style=\"color:blue;\">t</span><span style=\"color:blue;\">(</span><span style=\"color:blue;\">A</span><span style=\"color:blue;\">)</span><span style=\"color:blue;\">,</span><span style=\"color:blue;\">i</span><span style=\"color:blue;\">n</span><span style=\"color:blue;\">t</span><span style=\"color:blue;\">(</span><span style=\"color:blue;\">B</span><span style=\"color:blue;\">)</span><span style=\"color:blue;\">]</span><span style=\"color:blue;\">•</span><span style=\"color:blue;\">•</span><span style=\"color:blue;\">•</span><span style=\"color:blue;\">•</span><span style=\"color:blue;\">↵\n",
       "</span><span style=\"color:blue;\">i</span><span style=\"color:black;\">f</span><span style=\"color:lightgrey;\">•</span><span style=\"color:black;\">A</span><span style=\"color:black;\">></span><span style=\"color:black;\">=</span><span style=\"color:black;\">1</span><span style=\"color:lightgrey;\">•</span><span style=\"color:black;\">a</span><span style=\"color:black;\">n</span><span style=\"color:black;\">d</span><span style=\"color:lightgrey;\">•</span><span style=\"color:black;\">A</span><span style=\"color:black;\"><</span><span style=\"color:black;\">=</span><span style=\"color:black;\">1</span><span style=\"color:black;\">0</span><span style=\"color:black;\">0</span><span style=\"color:blue;\">:</span><span style=\"color:blue;\">↵\n",
       "</span><span style=\"color:blue;\">•</span><span style=\"color:blue;\">•</span><span style=\"color:blue;\">•</span><span style=\"color:blue;\">•</span><span style=\"color:blue;\">i</span><span style=\"color:blue;\">f</span><span style=\"color:lightgrey;\">•</span><span style=\"color:black;\">B</span><span style=\"color:black;\">></span><span style=\"color:black;\">=</span><span style=\"color:black;\">1</span><span style=\"color:lightgrey;\">•</span><span style=\"color:black;\">a</span><span style=\"color:black;\">n</span><span style=\"color:black;\">d</span><span style=\"color:lightgrey;\">•</span><span style=\"color:black;\">B</span><span style=\"color:black;\"><</span><span style=\"color:black;\">=</span><span style=\"color:black;\">1</span><span style=\"color:black;\">0</span><span style=\"color:black;\">0</span><span style=\"color:black;\">:</span><span style=\"color:lightgrey;\">↵\n",
       "</span><span style=\"color:lightgrey;\">•</span><span style=\"color:lightgrey;\">•</span><span style=\"color:lightgrey;\">•</span><span style=\"color:lightgrey;\">•</span><span style=\"color:blue;\">•</span><span style=\"color:blue;\">•</span><span style=\"color:blue;\">•</span><span style=\"color:blue;\">•</span><span style=\"color:blue;\">p</span><span style=\"color:blue;\">r</span><span style=\"color:blue;\">i</span><span style=\"color:blue;\">n</span><span style=\"color:blue;\">t</span><span style=\"color:blue;\">(</span><span style=\"color:blue;\">A</span><span style=\"color:black;\">*</span><span style=\"color:black;\">B</span><span style=\"color:blue;\">)</span></pre>"
      ],
      "text/plain": [
       "<IPython.core.display.HTML object>"
      ]
     },
     "metadata": {},
     "output_type": "display_data"
    },
    {
     "data": {
      "text/html": [
       "<h2>The bug that should be assigned to the original_src:\n",
       "</h2>"
      ],
      "text/plain": [
       "<IPython.core.display.HTML object>"
      ]
     },
     "metadata": {},
     "output_type": "display_data"
    },
    {
     "data": {
      "text/html": [
       "<pre>TypeError: '>=' not supported between instances of 'str' and 'int'</pre>"
      ],
      "text/plain": [
       "<IPython.core.display.HTML object>"
      ]
     },
     "metadata": {},
     "output_type": "display_data"
    },
    {
     "data": {
      "text/html": [
       "<h1>Example 7</h1>"
      ],
      "text/plain": [
       "<IPython.core.display.HTML object>"
      ]
     },
     "metadata": {},
     "output_type": "display_data"
    },
    {
     "data": {
      "text/html": [
       "<h2>The source code that is buggy:\n",
       "</h2>"
      ],
      "text/plain": [
       "<IPython.core.display.HTML object>"
      ]
     },
     "metadata": {},
     "output_type": "display_data"
    },
    {
     "data": {
      "text/html": [
       "<pre><span style=\"color:red;\">i</span><span style=\"color:red;\">m</span><span style=\"color:red;\">p</span><span style=\"color:red;\">o</span><span style=\"color:red;\">r</span><span style=\"color:red;\">t</span><span style=\"color:red;\">•</span><span style=\"color:red;\">s</span><span style=\"color:red;\">y</span><span style=\"color:red;\">s</span><span style=\"color:red;\">↵\n",
       "</span><span style=\"color:red;\">i</span><span style=\"color:red;\">n</span><span style=\"color:red;\">p</span><span style=\"color:red;\">u</span><span style=\"color:red;\">t</span><span style=\"color:red;\">•</span><span style=\"color:red;\">=</span><span style=\"color:red;\">•</span><span style=\"color:red;\">s</span><span style=\"color:red;\">y</span><span style=\"color:red;\">s</span><span style=\"color:red;\">.</span><span style=\"color:red;\">s</span><span style=\"color:red;\">t</span><span style=\"color:red;\">d</span><span style=\"color:red;\">i</span><span style=\"color:red;\">n</span><span style=\"color:red;\">.</span><span style=\"color:red;\">r</span><span style=\"color:red;\">e</span><span style=\"color:red;\">a</span><span style=\"color:red;\">d</span><span style=\"color:red;\">l</span><span style=\"color:red;\">i</span><span style=\"color:red;\">n</span><span style=\"color:red;\">e</span><span style=\"color:lightgrey;\">↵\n",
       "</span><span style=\"color:black;\">d</span><span style=\"color:black;\">e</span><span style=\"color:black;\">f</span><span style=\"color:lightgrey;\">•</span><span style=\"color:black;\">m</span><span style=\"color:black;\">a</span><span style=\"color:black;\">i</span><span style=\"color:black;\">n</span><span style=\"color:black;\">(</span><span style=\"color:black;\">)</span><span style=\"color:black;\">:</span><span style=\"color:lightgrey;\">↵\n",
       "</span><span style=\"color:lightgrey;\">•</span><span style=\"color:lightgrey;\">•</span><span style=\"color:lightgrey;\">•</span><span style=\"color:lightgrey;\">•</span><span style=\"color:black;\">N</span><span style=\"color:lightgrey;\">•</span><span style=\"color:black;\">=</span><span style=\"color:lightgrey;\">•</span><span style=\"color:black;\">i</span><span style=\"color:black;\">n</span><span style=\"color:black;\">p</span><span style=\"color:black;\">u</span><span style=\"color:black;\">t</span><span style=\"color:black;\">(</span><span style=\"color:black;\">)</span><span style=\"color:lightgrey;\">↵\n",
       "</span><span style=\"color:lightgrey;\">•</span><span style=\"color:lightgrey;\">•</span><span style=\"color:lightgrey;\">•</span><span style=\"color:lightgrey;\">•</span><span style=\"color:black;\">N</span><span style=\"color:black;\">_</span><span style=\"color:black;\">l</span><span style=\"color:lightgrey;\">•</span><span style=\"color:black;\">=</span><span style=\"color:lightgrey;\">•</span><span style=\"color:black;\">l</span><span style=\"color:black;\">i</span><span style=\"color:black;\">s</span><span style=\"color:black;\">t</span><span style=\"color:black;\">(</span><span style=\"color:black;\">N</span><span style=\"color:black;\">)</span><span style=\"color:lightgrey;\">↵\n",
       "</span><span style=\"color:lightgrey;\">•</span><span style=\"color:lightgrey;\">•</span><span style=\"color:lightgrey;\">•</span><span style=\"color:lightgrey;\">•</span><span style=\"color:black;\">m</span><span style=\"color:lightgrey;\">•</span><span style=\"color:black;\">=</span><span style=\"color:lightgrey;\">•</span><span style=\"color:black;\">i</span><span style=\"color:black;\">n</span><span style=\"color:black;\">t</span><span style=\"color:black;\">(</span><span style=\"color:black;\">N</span><span style=\"color:black;\">_</span><span style=\"color:black;\">l</span><span style=\"color:black;\">[</span><span style=\"color:black;\">-</span><span style=\"color:black;\">1</span><span style=\"color:black;\">]</span><span style=\"color:black;\">)</span><span style=\"color:lightgrey;\">↵\n",
       "</span><span style=\"color:lightgrey;\">•</span><span style=\"color:lightgrey;\">•</span><span style=\"color:lightgrey;\">•</span><span style=\"color:lightgrey;\">•</span><span style=\"color:black;\">i</span><span style=\"color:black;\">f</span><span style=\"color:lightgrey;\">•</span><span style=\"color:black;\">m</span><span style=\"color:lightgrey;\">•</span><span style=\"color:black;\">=</span><span style=\"color:black;\">=</span><span style=\"color:lightgrey;\">•</span><span style=\"color:black;\">0</span><span style=\"color:lightgrey;\">•</span><span style=\"color:black;\">o</span><span style=\"color:black;\">r</span><span style=\"color:lightgrey;\">•</span><span style=\"color:black;\">m</span><span style=\"color:lightgrey;\">•</span><span style=\"color:black;\">=</span><span style=\"color:black;\">=</span><span style=\"color:lightgrey;\">•</span><span style=\"color:black;\">1</span><span style=\"color:lightgrey;\">•</span><span style=\"color:black;\">o</span><span style=\"color:black;\">r</span><span style=\"color:lightgrey;\">•</span><span style=\"color:black;\">m</span><span style=\"color:black;\">=</span><span style=\"color:black;\">=</span><span style=\"color:black;\">6</span><span style=\"color:lightgrey;\">•</span><span style=\"color:black;\">o</span><span style=\"color:black;\">r</span><span style=\"color:lightgrey;\">•</span><span style=\"color:black;\">m</span><span style=\"color:black;\">=</span><span style=\"color:black;\">=</span><span style=\"color:black;\">8</span><span style=\"color:black;\">:</span><span style=\"color:lightgrey;\">↵\n",
       "</span><span style=\"color:lightgrey;\">•</span><span style=\"color:lightgrey;\">•</span><span style=\"color:lightgrey;\">•</span><span style=\"color:lightgrey;\">•</span><span style=\"color:lightgrey;\">•</span><span style=\"color:lightgrey;\">•</span><span style=\"color:lightgrey;\">•</span><span style=\"color:lightgrey;\">•</span><span style=\"color:black;\">p</span><span style=\"color:black;\">r</span><span style=\"color:black;\">i</span><span style=\"color:black;\">n</span><span style=\"color:black;\">t</span><span style=\"color:black;\">(</span><span style=\"color:black;\">\"</span><span style=\"color:black;\">p</span><span style=\"color:black;\">o</span><span style=\"color:black;\">n</span><span style=\"color:black;\">\"</span><span style=\"color:black;\">)</span><span style=\"color:lightgrey;\">↵\n",
       "</span><span style=\"color:lightgrey;\">•</span><span style=\"color:lightgrey;\">•</span><span style=\"color:lightgrey;\">•</span><span style=\"color:lightgrey;\">•</span><span style=\"color:black;\">e</span><span style=\"color:black;\">l</span><span style=\"color:black;\">i</span><span style=\"color:black;\">f</span><span style=\"color:lightgrey;\">•</span><span style=\"color:black;\">m</span><span style=\"color:lightgrey;\">•</span><span style=\"color:black;\">=</span><span style=\"color:black;\">=</span><span style=\"color:lightgrey;\">•</span><span style=\"color:black;\">2</span><span style=\"color:lightgrey;\">•</span><span style=\"color:black;\">o</span><span style=\"color:black;\">r</span><span style=\"color:lightgrey;\">•</span><span style=\"color:black;\">m</span><span style=\"color:black;\">=</span><span style=\"color:black;\">=</span><span style=\"color:lightgrey;\">•</span><span style=\"color:black;\">4</span><span style=\"color:lightgrey;\">•</span><span style=\"color:black;\">o</span><span style=\"color:black;\">r</span><span style=\"color:lightgrey;\">•</span><span style=\"color:black;\">m</span><span style=\"color:lightgrey;\">•</span><span style=\"color:black;\">=</span><span style=\"color:black;\">=</span><span style=\"color:lightgrey;\">•</span><span style=\"color:black;\">5</span><span style=\"color:lightgrey;\">•</span><span style=\"color:black;\">o</span><span style=\"color:black;\">r</span><span style=\"color:lightgrey;\">•</span><span style=\"color:black;\">m</span><span style=\"color:lightgrey;\">•</span><span style=\"color:black;\">=</span><span style=\"color:black;\">=</span><span style=\"color:lightgrey;\">•</span><span style=\"color:black;\">7</span><span style=\"color:lightgrey;\">•</span><span style=\"color:black;\">o</span><span style=\"color:black;\">r</span><span style=\"color:lightgrey;\">•</span><span style=\"color:black;\">m</span><span style=\"color:black;\">=</span><span style=\"color:black;\">=</span><span style=\"color:black;\">9</span><span style=\"color:black;\">:</span><span style=\"color:lightgrey;\">↵\n",
       "</span><span style=\"color:lightgrey;\">•</span><span style=\"color:lightgrey;\">•</span><span style=\"color:lightgrey;\">•</span><span style=\"color:lightgrey;\">•</span><span style=\"color:lightgrey;\">•</span><span style=\"color:lightgrey;\">•</span><span style=\"color:lightgrey;\">•</span><span style=\"color:lightgrey;\">•</span><span style=\"color:black;\">p</span><span style=\"color:black;\">r</span><span style=\"color:black;\">i</span><span style=\"color:black;\">n</span><span style=\"color:black;\">t</span><span style=\"color:black;\">(</span><span style=\"color:black;\">\"</span><span style=\"color:black;\">h</span><span style=\"color:black;\">o</span><span style=\"color:black;\">n</span><span style=\"color:black;\">\"</span><span style=\"color:black;\">)</span><span style=\"color:lightgrey;\">↵\n",
       "</span><span style=\"color:lightgrey;\">•</span><span style=\"color:lightgrey;\">•</span><span style=\"color:lightgrey;\">•</span><span style=\"color:lightgrey;\">•</span><span style=\"color:black;\">e</span><span style=\"color:black;\">l</span><span style=\"color:black;\">i</span><span style=\"color:black;\">f</span><span style=\"color:lightgrey;\">•</span><span style=\"color:black;\">m</span><span style=\"color:lightgrey;\">•</span><span style=\"color:black;\">=</span><span style=\"color:black;\">=</span><span style=\"color:lightgrey;\">•</span><span style=\"color:black;\">3</span><span style=\"color:black;\">:</span><span style=\"color:lightgrey;\">↵\n",
       "</span><span style=\"color:lightgrey;\">•</span><span style=\"color:lightgrey;\">•</span><span style=\"color:lightgrey;\">•</span><span style=\"color:lightgrey;\">•</span><span style=\"color:lightgrey;\">•</span><span style=\"color:lightgrey;\">•</span><span style=\"color:lightgrey;\">•</span><span style=\"color:lightgrey;\">•</span><span style=\"color:black;\">p</span><span style=\"color:black;\">r</span><span style=\"color:black;\">i</span><span style=\"color:black;\">n</span><span style=\"color:black;\">t</span><span style=\"color:black;\">(</span><span style=\"color:black;\">\"</span><span style=\"color:black;\">b</span><span style=\"color:black;\">o</span><span style=\"color:black;\">n</span><span style=\"color:black;\">\"</span><span style=\"color:black;\">)</span><span style=\"color:lightgrey;\">↵\n",
       "</span><span style=\"color:black;\">i</span><span style=\"color:black;\">f</span><span style=\"color:lightgrey;\">•</span><span style=\"color:black;\">_</span><span style=\"color:black;\">_</span><span style=\"color:black;\">n</span><span style=\"color:black;\">a</span><span style=\"color:black;\">m</span><span style=\"color:black;\">e</span><span style=\"color:black;\">_</span><span style=\"color:black;\">_</span><span style=\"color:lightgrey;\">•</span><span style=\"color:black;\">=</span><span style=\"color:black;\">=</span><span style=\"color:lightgrey;\">•</span><span style=\"color:black;\">\"</span><span style=\"color:black;\">_</span><span style=\"color:black;\">_</span><span style=\"color:black;\">m</span><span style=\"color:black;\">a</span><span style=\"color:black;\">i</span><span style=\"color:black;\">n</span><span style=\"color:black;\">_</span><span style=\"color:black;\">_</span><span style=\"color:black;\">\"</span><span style=\"color:black;\">:</span><span style=\"color:lightgrey;\">↵\n",
       "</span><span style=\"color:lightgrey;\">•</span><span style=\"color:lightgrey;\">•</span><span style=\"color:lightgrey;\">•</span><span style=\"color:lightgrey;\">•</span><span style=\"color:black;\">m</span><span style=\"color:black;\">a</span><span style=\"color:black;\">i</span><span style=\"color:black;\">n</span><span style=\"color:black;\">(</span><span style=\"color:black;\">)</span><span style=\"color:lightgrey;\">↵\n",
       "</span><span style=\"color:red;\">↵\n",
       "</span></pre>"
      ],
      "text/plain": [
       "<IPython.core.display.HTML object>"
      ]
     },
     "metadata": {},
     "output_type": "display_data"
    },
    {
     "data": {
      "text/html": [
       "<h2>The source code that is accepted:\n",
       "</h2>"
      ],
      "text/plain": [
       "<IPython.core.display.HTML object>"
      ]
     },
     "metadata": {},
     "output_type": "display_data"
    },
    {
     "data": {
      "text/html": [
       "<pre><span style=\"color:lightgrey;\">↵\n",
       "</span><span style=\"color:black;\">d</span><span style=\"color:black;\">e</span><span style=\"color:black;\">f</span><span style=\"color:lightgrey;\">•</span><span style=\"color:black;\">m</span><span style=\"color:black;\">a</span><span style=\"color:black;\">i</span><span style=\"color:black;\">n</span><span style=\"color:black;\">(</span><span style=\"color:black;\">)</span><span style=\"color:black;\">:</span><span style=\"color:lightgrey;\">↵\n",
       "</span><span style=\"color:lightgrey;\">•</span><span style=\"color:lightgrey;\">•</span><span style=\"color:lightgrey;\">•</span><span style=\"color:lightgrey;\">•</span><span style=\"color:black;\">N</span><span style=\"color:lightgrey;\">•</span><span style=\"color:black;\">=</span><span style=\"color:lightgrey;\">•</span><span style=\"color:black;\">i</span><span style=\"color:black;\">n</span><span style=\"color:black;\">p</span><span style=\"color:black;\">u</span><span style=\"color:black;\">t</span><span style=\"color:black;\">(</span><span style=\"color:black;\">)</span><span style=\"color:lightgrey;\">↵\n",
       "</span><span style=\"color:lightgrey;\">•</span><span style=\"color:lightgrey;\">•</span><span style=\"color:lightgrey;\">•</span><span style=\"color:lightgrey;\">•</span><span style=\"color:black;\">N</span><span style=\"color:black;\">_</span><span style=\"color:black;\">l</span><span style=\"color:lightgrey;\">•</span><span style=\"color:black;\">=</span><span style=\"color:lightgrey;\">•</span><span style=\"color:black;\">l</span><span style=\"color:black;\">i</span><span style=\"color:black;\">s</span><span style=\"color:black;\">t</span><span style=\"color:black;\">(</span><span style=\"color:black;\">N</span><span style=\"color:black;\">)</span><span style=\"color:lightgrey;\">↵\n",
       "</span><span style=\"color:lightgrey;\">•</span><span style=\"color:lightgrey;\">•</span><span style=\"color:lightgrey;\">•</span><span style=\"color:lightgrey;\">•</span><span style=\"color:black;\">m</span><span style=\"color:lightgrey;\">•</span><span style=\"color:black;\">=</span><span style=\"color:lightgrey;\">•</span><span style=\"color:black;\">i</span><span style=\"color:black;\">n</span><span style=\"color:black;\">t</span><span style=\"color:black;\">(</span><span style=\"color:black;\">N</span><span style=\"color:black;\">_</span><span style=\"color:black;\">l</span><span style=\"color:black;\">[</span><span style=\"color:black;\">-</span><span style=\"color:black;\">1</span><span style=\"color:black;\">]</span><span style=\"color:black;\">)</span><span style=\"color:lightgrey;\">↵\n",
       "</span><span style=\"color:lightgrey;\">•</span><span style=\"color:lightgrey;\">•</span><span style=\"color:lightgrey;\">•</span><span style=\"color:lightgrey;\">•</span><span style=\"color:black;\">i</span><span style=\"color:black;\">f</span><span style=\"color:lightgrey;\">•</span><span style=\"color:black;\">m</span><span style=\"color:lightgrey;\">•</span><span style=\"color:black;\">=</span><span style=\"color:black;\">=</span><span style=\"color:lightgrey;\">•</span><span style=\"color:black;\">0</span><span style=\"color:lightgrey;\">•</span><span style=\"color:black;\">o</span><span style=\"color:black;\">r</span><span style=\"color:lightgrey;\">•</span><span style=\"color:black;\">m</span><span style=\"color:lightgrey;\">•</span><span style=\"color:black;\">=</span><span style=\"color:black;\">=</span><span style=\"color:lightgrey;\">•</span><span style=\"color:black;\">1</span><span style=\"color:lightgrey;\">•</span><span style=\"color:black;\">o</span><span style=\"color:black;\">r</span><span style=\"color:lightgrey;\">•</span><span style=\"color:black;\">m</span><span style=\"color:black;\">=</span><span style=\"color:black;\">=</span><span style=\"color:black;\">6</span><span style=\"color:lightgrey;\">•</span><span style=\"color:black;\">o</span><span style=\"color:black;\">r</span><span style=\"color:lightgrey;\">•</span><span style=\"color:black;\">m</span><span style=\"color:black;\">=</span><span style=\"color:black;\">=</span><span style=\"color:black;\">8</span><span style=\"color:black;\">:</span><span style=\"color:lightgrey;\">↵\n",
       "</span><span style=\"color:lightgrey;\">•</span><span style=\"color:lightgrey;\">•</span><span style=\"color:lightgrey;\">•</span><span style=\"color:lightgrey;\">•</span><span style=\"color:lightgrey;\">•</span><span style=\"color:lightgrey;\">•</span><span style=\"color:lightgrey;\">•</span><span style=\"color:lightgrey;\">•</span><span style=\"color:black;\">p</span><span style=\"color:black;\">r</span><span style=\"color:black;\">i</span><span style=\"color:black;\">n</span><span style=\"color:black;\">t</span><span style=\"color:black;\">(</span><span style=\"color:black;\">\"</span><span style=\"color:black;\">p</span><span style=\"color:black;\">o</span><span style=\"color:black;\">n</span><span style=\"color:black;\">\"</span><span style=\"color:black;\">)</span><span style=\"color:lightgrey;\">↵\n",
       "</span><span style=\"color:lightgrey;\">•</span><span style=\"color:lightgrey;\">•</span><span style=\"color:lightgrey;\">•</span><span style=\"color:lightgrey;\">•</span><span style=\"color:black;\">e</span><span style=\"color:black;\">l</span><span style=\"color:black;\">i</span><span style=\"color:black;\">f</span><span style=\"color:lightgrey;\">•</span><span style=\"color:black;\">m</span><span style=\"color:lightgrey;\">•</span><span style=\"color:black;\">=</span><span style=\"color:black;\">=</span><span style=\"color:lightgrey;\">•</span><span style=\"color:black;\">2</span><span style=\"color:lightgrey;\">•</span><span style=\"color:black;\">o</span><span style=\"color:black;\">r</span><span style=\"color:lightgrey;\">•</span><span style=\"color:black;\">m</span><span style=\"color:black;\">=</span><span style=\"color:black;\">=</span><span style=\"color:lightgrey;\">•</span><span style=\"color:black;\">4</span><span style=\"color:lightgrey;\">•</span><span style=\"color:black;\">o</span><span style=\"color:black;\">r</span><span style=\"color:lightgrey;\">•</span><span style=\"color:black;\">m</span><span style=\"color:lightgrey;\">•</span><span style=\"color:black;\">=</span><span style=\"color:black;\">=</span><span style=\"color:lightgrey;\">•</span><span style=\"color:black;\">5</span><span style=\"color:lightgrey;\">•</span><span style=\"color:black;\">o</span><span style=\"color:black;\">r</span><span style=\"color:lightgrey;\">•</span><span style=\"color:black;\">m</span><span style=\"color:lightgrey;\">•</span><span style=\"color:black;\">=</span><span style=\"color:black;\">=</span><span style=\"color:lightgrey;\">•</span><span style=\"color:black;\">7</span><span style=\"color:lightgrey;\">•</span><span style=\"color:black;\">o</span><span style=\"color:black;\">r</span><span style=\"color:lightgrey;\">•</span><span style=\"color:black;\">m</span><span style=\"color:black;\">=</span><span style=\"color:black;\">=</span><span style=\"color:black;\">9</span><span style=\"color:black;\">:</span><span style=\"color:lightgrey;\">↵\n",
       "</span><span style=\"color:lightgrey;\">•</span><span style=\"color:lightgrey;\">•</span><span style=\"color:lightgrey;\">•</span><span style=\"color:lightgrey;\">•</span><span style=\"color:lightgrey;\">•</span><span style=\"color:lightgrey;\">•</span><span style=\"color:lightgrey;\">•</span><span style=\"color:lightgrey;\">•</span><span style=\"color:black;\">p</span><span style=\"color:black;\">r</span><span style=\"color:black;\">i</span><span style=\"color:black;\">n</span><span style=\"color:black;\">t</span><span style=\"color:black;\">(</span><span style=\"color:black;\">\"</span><span style=\"color:black;\">h</span><span style=\"color:black;\">o</span><span style=\"color:black;\">n</span><span style=\"color:black;\">\"</span><span style=\"color:black;\">)</span><span style=\"color:lightgrey;\">↵\n",
       "</span><span style=\"color:lightgrey;\">•</span><span style=\"color:lightgrey;\">•</span><span style=\"color:lightgrey;\">•</span><span style=\"color:lightgrey;\">•</span><span style=\"color:black;\">e</span><span style=\"color:black;\">l</span><span style=\"color:black;\">i</span><span style=\"color:black;\">f</span><span style=\"color:lightgrey;\">•</span><span style=\"color:black;\">m</span><span style=\"color:lightgrey;\">•</span><span style=\"color:black;\">=</span><span style=\"color:black;\">=</span><span style=\"color:lightgrey;\">•</span><span style=\"color:black;\">3</span><span style=\"color:black;\">:</span><span style=\"color:lightgrey;\">↵\n",
       "</span><span style=\"color:lightgrey;\">•</span><span style=\"color:lightgrey;\">•</span><span style=\"color:lightgrey;\">•</span><span style=\"color:lightgrey;\">•</span><span style=\"color:lightgrey;\">•</span><span style=\"color:lightgrey;\">•</span><span style=\"color:lightgrey;\">•</span><span style=\"color:lightgrey;\">•</span><span style=\"color:black;\">p</span><span style=\"color:black;\">r</span><span style=\"color:black;\">i</span><span style=\"color:black;\">n</span><span style=\"color:black;\">t</span><span style=\"color:black;\">(</span><span style=\"color:black;\">\"</span><span style=\"color:black;\">b</span><span style=\"color:black;\">o</span><span style=\"color:black;\">n</span><span style=\"color:black;\">\"</span><span style=\"color:black;\">)</span><span style=\"color:lightgrey;\">↵\n",
       "</span><span style=\"color:black;\">i</span><span style=\"color:black;\">f</span><span style=\"color:lightgrey;\">•</span><span style=\"color:black;\">_</span><span style=\"color:black;\">_</span><span style=\"color:black;\">n</span><span style=\"color:black;\">a</span><span style=\"color:black;\">m</span><span style=\"color:black;\">e</span><span style=\"color:black;\">_</span><span style=\"color:black;\">_</span><span style=\"color:lightgrey;\">•</span><span style=\"color:black;\">=</span><span style=\"color:black;\">=</span><span style=\"color:lightgrey;\">•</span><span style=\"color:black;\">\"</span><span style=\"color:black;\">_</span><span style=\"color:black;\">_</span><span style=\"color:black;\">m</span><span style=\"color:black;\">a</span><span style=\"color:black;\">i</span><span style=\"color:black;\">n</span><span style=\"color:black;\">_</span><span style=\"color:black;\">_</span><span style=\"color:black;\">\"</span><span style=\"color:black;\">:</span><span style=\"color:lightgrey;\">↵\n",
       "</span><span style=\"color:lightgrey;\">•</span><span style=\"color:lightgrey;\">•</span><span style=\"color:lightgrey;\">•</span><span style=\"color:lightgrey;\">•</span><span style=\"color:black;\">m</span><span style=\"color:black;\">a</span><span style=\"color:black;\">i</span><span style=\"color:black;\">n</span><span style=\"color:black;\">(</span><span style=\"color:black;\">)</span><span style=\"color:lightgrey;\">↵\n",
       "</span></pre>"
      ],
      "text/plain": [
       "<IPython.core.display.HTML object>"
      ]
     },
     "metadata": {},
     "output_type": "display_data"
    },
    {
     "data": {
      "text/html": [
       "<h2>The bug that should be assigned to the original_src:\n",
       "</h2>"
      ],
      "text/plain": [
       "<IPython.core.display.HTML object>"
      ]
     },
     "metadata": {},
     "output_type": "display_data"
    },
    {
     "data": {
      "text/html": [
       "<pre>ValueError: invalid literal for int() with base 10: '\\n'</pre>"
      ],
      "text/plain": [
       "<IPython.core.display.HTML object>"
      ]
     },
     "metadata": {},
     "output_type": "display_data"
    },
    {
     "data": {
      "text/html": [
       "<h1>Example 8</h1>"
      ],
      "text/plain": [
       "<IPython.core.display.HTML object>"
      ]
     },
     "metadata": {},
     "output_type": "display_data"
    },
    {
     "data": {
      "text/html": [
       "<h2>The source code that is buggy:\n",
       "</h2>"
      ],
      "text/plain": [
       "<IPython.core.display.HTML object>"
      ]
     },
     "metadata": {},
     "output_type": "display_data"
    },
    {
     "data": {
      "text/html": [
       "<pre><span style=\"color:red;\">S</span><span style=\"color:red;\">1</span><span style=\"color:lightgrey;\">•</span><span style=\"color:black;\">=</span><span style=\"color:lightgrey;\">•</span><span style=\"color:red;\">i</span><span style=\"color:black;\">n</span><span style=\"color:black;\">t</span><span style=\"color:red;\">(</span><span style=\"color:black;\">i</span><span style=\"color:black;\">n</span><span style=\"color:black;\">p</span><span style=\"color:black;\">u</span><span style=\"color:black;\">t</span><span style=\"color:black;\">(</span><span style=\"color:black;\">)</span><span style=\"color:red;\">)</span><span style=\"color:red;\">↵\n",
       "</span><span style=\"color:red;\">S</span><span style=\"color:red;\">2</span><span style=\"color:red;\">•</span><span style=\"color:red;\">=</span><span style=\"color:red;\">•</span><span style=\"color:black;\">i</span><span style=\"color:red;\">n</span><span style=\"color:red;\">t</span><span style=\"color:red;\">(</span><span style=\"color:red;\">i</span><span style=\"color:red;\">n</span><span style=\"color:red;\">p</span><span style=\"color:red;\">u</span><span style=\"color:black;\">t</span><span style=\"color:black;\">(</span><span style=\"color:black;\">)</span><span style=\"color:black;\">)</span><span style=\"color:lightgrey;\">↵\n",
       "</span><span style=\"color:lightgrey;\">↵\n",
       "</span><span style=\"color:red;\">i</span><span style=\"color:red;\">f</span><span style=\"color:lightgrey;\">•</span><span style=\"color:red;\">S</span><span style=\"color:red;\">1</span><span style=\"color:lightgrey;\">•</span><span style=\"color:red;\">></span><span style=\"color:lightgrey;\">•</span><span style=\"color:red;\">S</span><span style=\"color:red;\">2</span><span style=\"color:red;\">:</span><span style=\"color:lightgrey;\">↵\n",
       "</span><span style=\"color:red;\">•</span><span style=\"color:red;\">•</span><span style=\"color:red;\">•</span><span style=\"color:red;\">•</span><span style=\"color:black;\">p</span><span style=\"color:black;\">r</span><span style=\"color:black;\">i</span><span style=\"color:black;\">n</span><span style=\"color:black;\">t</span><span style=\"color:black;\">(</span><span style=\"color:red;\">S</span><span style=\"color:red;\">1</span><span style=\"color:black;\">)</span><span style=\"color:red;\">↵\n",
       "</span><span style=\"color:red;\">e</span><span style=\"color:red;\">l</span><span style=\"color:red;\">i</span><span style=\"color:red;\">f</span><span style=\"color:red;\">•</span><span style=\"color:red;\">S</span><span style=\"color:red;\">1</span><span style=\"color:red;\">•</span><span style=\"color:red;\">=</span><span style=\"color:red;\">=</span><span style=\"color:red;\">•</span><span style=\"color:red;\">S</span><span style=\"color:red;\">2</span><span style=\"color:red;\">:</span><span style=\"color:red;\">↵\n",
       "</span><span style=\"color:red;\">•</span><span style=\"color:red;\">•</span><span style=\"color:red;\">•</span><span style=\"color:red;\">•</span><span style=\"color:red;\">p</span><span style=\"color:red;\">r</span><span style=\"color:red;\">i</span><span style=\"color:red;\">n</span><span style=\"color:red;\">t</span><span style=\"color:red;\">(</span><span style=\"color:red;\">S</span><span style=\"color:red;\">1</span><span style=\"color:red;\">•</span><span style=\"color:red;\">*</span><span style=\"color:red;\">•</span><span style=\"color:red;\">S</span><span style=\"color:red;\">2</span><span style=\"color:black;\">)</span><span style=\"color:red;\">↵\n",
       "</span><span style=\"color:red;\">e</span><span style=\"color:red;\">l</span><span style=\"color:red;\">s</span><span style=\"color:red;\">e</span><span style=\"color:red;\">:</span><span style=\"color:red;\">↵\n",
       "</span><span style=\"color:red;\">•</span><span style=\"color:red;\">•</span><span style=\"color:red;\">•</span><span style=\"color:red;\">•</span><span style=\"color:red;\">p</span><span style=\"color:red;\">r</span><span style=\"color:red;\">i</span><span style=\"color:red;\">n</span><span style=\"color:red;\">t</span><span style=\"color:red;\">(</span><span style=\"color:red;\">S</span><span style=\"color:red;\">2</span><span style=\"color:red;\">)</span></pre>"
      ],
      "text/plain": [
       "<IPython.core.display.HTML object>"
      ]
     },
     "metadata": {},
     "output_type": "display_data"
    },
    {
     "data": {
      "text/html": [
       "<h2>The source code that is accepted:\n",
       "</h2>"
      ],
      "text/plain": [
       "<IPython.core.display.HTML object>"
      ]
     },
     "metadata": {},
     "output_type": "display_data"
    },
    {
     "data": {
      "text/html": [
       "<pre><span style=\"color:blue;\">A</span><span style=\"color:blue;\">,</span><span style=\"color:blue;\">•</span><span style=\"color:blue;\">B</span><span style=\"color:blue;\">,</span><span style=\"color:blue;\">•</span><span style=\"color:blue;\">C</span><span style=\"color:blue;\">,</span><span style=\"color:blue;\">•</span><span style=\"color:blue;\">D</span><span style=\"color:lightgrey;\">•</span><span style=\"color:black;\">=</span><span style=\"color:lightgrey;\">•</span><span style=\"color:blue;\">m</span><span style=\"color:blue;\">a</span><span style=\"color:blue;\">p</span><span style=\"color:blue;\">(</span><span style=\"color:blue;\">i</span><span style=\"color:black;\">n</span><span style=\"color:black;\">t</span><span style=\"color:blue;\">,</span><span style=\"color:blue;\">•</span><span style=\"color:black;\">i</span><span style=\"color:black;\">n</span><span style=\"color:black;\">p</span><span style=\"color:black;\">u</span><span style=\"color:black;\">t</span><span style=\"color:black;\">(</span><span style=\"color:black;\">)</span><span style=\"color:blue;\">.</span><span style=\"color:blue;\">s</span><span style=\"color:blue;\">p</span><span style=\"color:blue;\">l</span><span style=\"color:black;\">i</span><span style=\"color:black;\">t</span><span style=\"color:black;\">(</span><span style=\"color:black;\">)</span><span style=\"color:black;\">)</span><span style=\"color:lightgrey;\">↵\n",
       "</span><span style=\"color:lightgrey;\">↵\n",
       "</span><span style=\"color:blue;\">a</span><span style=\"color:blue;\">r</span><span style=\"color:blue;\">e</span><span style=\"color:blue;\">a</span><span style=\"color:lightgrey;\">•</span><span style=\"color:blue;\">=</span><span style=\"color:lightgrey;\">•</span><span style=\"color:blue;\">[</span><span style=\"color:blue;\">A</span><span style=\"color:lightgrey;\">•</span><span style=\"color:blue;\">*</span><span style=\"color:blue;\">•</span><span style=\"color:blue;\">B</span><span style=\"color:blue;\">,</span><span style=\"color:blue;\">•</span><span style=\"color:blue;\">C</span><span style=\"color:blue;\">•</span><span style=\"color:blue;\">*</span><span style=\"color:blue;\">•</span><span style=\"color:blue;\">D</span><span style=\"color:blue;\">]</span><span style=\"color:lightgrey;\">↵\n",
       "</span><span style=\"color:blue;\">↵\n",
       "</span><span style=\"color:black;\">p</span><span style=\"color:black;\">r</span><span style=\"color:black;\">i</span><span style=\"color:black;\">n</span><span style=\"color:black;\">t</span><span style=\"color:black;\">(</span><span style=\"color:blue;\">m</span><span style=\"color:blue;\">a</span><span style=\"color:blue;\">x</span><span style=\"color:blue;\">(</span><span style=\"color:blue;\">a</span><span style=\"color:blue;\">r</span><span style=\"color:blue;\">e</span><span style=\"color:blue;\">a</span><span style=\"color:black;\">)</span><span style=\"color:black;\">)</span></pre>"
      ],
      "text/plain": [
       "<IPython.core.display.HTML object>"
      ]
     },
     "metadata": {},
     "output_type": "display_data"
    },
    {
     "data": {
      "text/html": [
       "<h2>The bug that should be assigned to the original_src:\n",
       "</h2>"
      ],
      "text/plain": [
       "<IPython.core.display.HTML object>"
      ]
     },
     "metadata": {},
     "output_type": "display_data"
    },
    {
     "data": {
      "text/html": [
       "<pre>ValueError: invalid literal for int() with base 10: '3 5 2 7'</pre>"
      ],
      "text/plain": [
       "<IPython.core.display.HTML object>"
      ]
     },
     "metadata": {},
     "output_type": "display_data"
    },
    {
     "data": {
      "text/html": [
       "<h1>Example 9</h1>"
      ],
      "text/plain": [
       "<IPython.core.display.HTML object>"
      ]
     },
     "metadata": {},
     "output_type": "display_data"
    },
    {
     "data": {
      "text/html": [
       "<h2>The source code that is buggy:\n",
       "</h2>"
      ],
      "text/plain": [
       "<IPython.core.display.HTML object>"
      ]
     },
     "metadata": {},
     "output_type": "display_data"
    },
    {
     "data": {
      "text/html": [
       "<pre><span style=\"color:black;\">n</span><span style=\"color:black;\">u</span><span style=\"color:black;\">m</span><span style=\"color:lightgrey;\">•</span><span style=\"color:black;\">=</span><span style=\"color:lightgrey;\">•</span><span style=\"color:black;\">[</span><span style=\"color:black;\">i</span><span style=\"color:black;\">n</span><span style=\"color:black;\">t</span><span style=\"color:black;\">(</span><span style=\"color:black;\">i</span><span style=\"color:black;\">n</span><span style=\"color:black;\">p</span><span style=\"color:black;\">u</span><span style=\"color:black;\">t</span><span style=\"color:black;\">(</span><span style=\"color:black;\">)</span><span style=\"color:black;\">)</span><span style=\"color:lightgrey;\">•</span><span style=\"color:black;\">f</span><span style=\"color:black;\">o</span><span style=\"color:black;\">r</span><span style=\"color:lightgrey;\">•</span><span style=\"color:black;\">i</span><span style=\"color:lightgrey;\">•</span><span style=\"color:black;\">i</span><span style=\"color:black;\">n</span><span style=\"color:lightgrey;\">•</span><span style=\"color:black;\">r</span><span style=\"color:black;\">a</span><span style=\"color:black;\">n</span><span style=\"color:black;\">g</span><span style=\"color:black;\">e</span><span style=\"color:black;\">(</span><span style=\"color:black;\">1</span><span style=\"color:black;\">0</span><span style=\"color:black;\">)</span><span style=\"color:black;\">]</span><span style=\"color:lightgrey;\">↵\n",
       "</span><span style=\"color:black;\">n</span><span style=\"color:black;\">u</span><span style=\"color:black;\">m</span><span style=\"color:black;\">.</span><span style=\"color:black;\">s</span><span style=\"color:black;\">o</span><span style=\"color:black;\">r</span><span style=\"color:black;\">t</span><span style=\"color:black;\">(</span><span style=\"color:black;\">r</span><span style=\"color:black;\">e</span><span style=\"color:black;\">v</span><span style=\"color:black;\">e</span><span style=\"color:black;\">r</span><span style=\"color:black;\">s</span><span style=\"color:black;\">e</span><span style=\"color:black;\">=</span><span style=\"color:black;\">T</span><span style=\"color:black;\">r</span><span style=\"color:black;\">u</span><span style=\"color:black;\">e</span><span style=\"color:black;\">)</span><span style=\"color:lightgrey;\">↵\n",
       "</span><span style=\"color:black;\">f</span><span style=\"color:black;\">o</span><span style=\"color:black;\">r</span><span style=\"color:lightgrey;\">•</span><span style=\"color:black;\">i</span><span style=\"color:lightgrey;\">•</span><span style=\"color:black;\">i</span><span style=\"color:black;\">n</span><span style=\"color:lightgrey;\">•</span><span style=\"color:black;\">r</span><span style=\"color:black;\">a</span><span style=\"color:black;\">n</span><span style=\"color:black;\">g</span><span style=\"color:black;\">e</span><span style=\"color:red;\">[</span><span style=\"color:red;\">0</span><span style=\"color:red;\">:</span><span style=\"color:black;\">3</span><span style=\"color:red;\">]</span><span style=\"color:black;\">:</span><span style=\"color:lightgrey;\">↵\n",
       "</span><span style=\"color:lightgrey;\">•</span><span style=\"color:lightgrey;\">•</span><span style=\"color:lightgrey;\">•</span><span style=\"color:lightgrey;\">•</span><span style=\"color:black;\">p</span><span style=\"color:black;\">r</span><span style=\"color:black;\">i</span><span style=\"color:black;\">n</span><span style=\"color:black;\">t</span><span style=\"color:black;\">(</span><span style=\"color:black;\">n</span><span style=\"color:black;\">u</span><span style=\"color:black;\">m</span><span style=\"color:black;\">[</span><span style=\"color:black;\">i</span><span style=\"color:black;\">]</span><span style=\"color:black;\">)</span><span style=\"color:lightgrey;\">↵\n",
       "</span></pre>"
      ],
      "text/plain": [
       "<IPython.core.display.HTML object>"
      ]
     },
     "metadata": {},
     "output_type": "display_data"
    },
    {
     "data": {
      "text/html": [
       "<h2>The source code that is accepted:\n",
       "</h2>"
      ],
      "text/plain": [
       "<IPython.core.display.HTML object>"
      ]
     },
     "metadata": {},
     "output_type": "display_data"
    },
    {
     "data": {
      "text/html": [
       "<pre><span style=\"color:black;\">n</span><span style=\"color:black;\">u</span><span style=\"color:black;\">m</span><span style=\"color:lightgrey;\">•</span><span style=\"color:black;\">=</span><span style=\"color:lightgrey;\">•</span><span style=\"color:black;\">[</span><span style=\"color:black;\">i</span><span style=\"color:black;\">n</span><span style=\"color:black;\">t</span><span style=\"color:black;\">(</span><span style=\"color:black;\">i</span><span style=\"color:black;\">n</span><span style=\"color:black;\">p</span><span style=\"color:black;\">u</span><span style=\"color:black;\">t</span><span style=\"color:black;\">(</span><span style=\"color:black;\">)</span><span style=\"color:black;\">)</span><span style=\"color:lightgrey;\">•</span><span style=\"color:black;\">f</span><span style=\"color:black;\">o</span><span style=\"color:black;\">r</span><span style=\"color:lightgrey;\">•</span><span style=\"color:black;\">i</span><span style=\"color:lightgrey;\">•</span><span style=\"color:black;\">i</span><span style=\"color:black;\">n</span><span style=\"color:lightgrey;\">•</span><span style=\"color:black;\">r</span><span style=\"color:black;\">a</span><span style=\"color:black;\">n</span><span style=\"color:black;\">g</span><span style=\"color:black;\">e</span><span style=\"color:black;\">(</span><span style=\"color:black;\">1</span><span style=\"color:black;\">0</span><span style=\"color:black;\">)</span><span style=\"color:black;\">]</span><span style=\"color:lightgrey;\">↵\n",
       "</span><span style=\"color:black;\">n</span><span style=\"color:black;\">u</span><span style=\"color:black;\">m</span><span style=\"color:black;\">.</span><span style=\"color:black;\">s</span><span style=\"color:black;\">o</span><span style=\"color:black;\">r</span><span style=\"color:black;\">t</span><span style=\"color:black;\">(</span><span style=\"color:black;\">r</span><span style=\"color:black;\">e</span><span style=\"color:black;\">v</span><span style=\"color:black;\">e</span><span style=\"color:black;\">r</span><span style=\"color:black;\">s</span><span style=\"color:black;\">e</span><span style=\"color:black;\">=</span><span style=\"color:black;\">T</span><span style=\"color:black;\">r</span><span style=\"color:black;\">u</span><span style=\"color:black;\">e</span><span style=\"color:black;\">)</span><span style=\"color:lightgrey;\">↵\n",
       "</span><span style=\"color:black;\">f</span><span style=\"color:black;\">o</span><span style=\"color:black;\">r</span><span style=\"color:lightgrey;\">•</span><span style=\"color:black;\">i</span><span style=\"color:lightgrey;\">•</span><span style=\"color:black;\">i</span><span style=\"color:black;\">n</span><span style=\"color:lightgrey;\">•</span><span style=\"color:black;\">r</span><span style=\"color:black;\">a</span><span style=\"color:black;\">n</span><span style=\"color:black;\">g</span><span style=\"color:black;\">e</span><span style=\"color:blue;\">(</span><span style=\"color:black;\">3</span><span style=\"color:blue;\">)</span><span style=\"color:black;\">:</span><span style=\"color:lightgrey;\">↵\n",
       "</span><span style=\"color:lightgrey;\">•</span><span style=\"color:lightgrey;\">•</span><span style=\"color:lightgrey;\">•</span><span style=\"color:lightgrey;\">•</span><span style=\"color:black;\">p</span><span style=\"color:black;\">r</span><span style=\"color:black;\">i</span><span style=\"color:black;\">n</span><span style=\"color:black;\">t</span><span style=\"color:black;\">(</span><span style=\"color:black;\">n</span><span style=\"color:black;\">u</span><span style=\"color:black;\">m</span><span style=\"color:black;\">[</span><span style=\"color:black;\">i</span><span style=\"color:black;\">]</span><span style=\"color:black;\">)</span><span style=\"color:lightgrey;\">↵\n",
       "</span></pre>"
      ],
      "text/plain": [
       "<IPython.core.display.HTML object>"
      ]
     },
     "metadata": {},
     "output_type": "display_data"
    },
    {
     "data": {
      "text/html": [
       "<h2>The bug that should be assigned to the original_src:\n",
       "</h2>"
      ],
      "text/plain": [
       "<IPython.core.display.HTML object>"
      ]
     },
     "metadata": {},
     "output_type": "display_data"
    },
    {
     "data": {
      "text/html": [
       "<pre>TypeError: 'type' object is not subscriptable</pre>"
      ],
      "text/plain": [
       "<IPython.core.display.HTML object>"
      ]
     },
     "metadata": {},
     "output_type": "display_data"
    }
   ],
   "source": [
    "buggy_df = codenetpy_df[codenetpy_df['returncode'] != 0]\n",
    "\n",
    "def color_source(source_code, mask, color):\n",
    "    text = \"\"\n",
    "    for i, char in enumerate(source_code):\n",
    "        norm_color = 'black'\n",
    "        if char == ' ':\n",
    "            char = \"•\"\n",
    "            norm_color = 'lightgrey'\n",
    "        if char == '\\n':\n",
    "            char = \"↵\\n\"\n",
    "            norm_color = 'lightgrey'\n",
    "        text += f'<span style=\"color:{color if mask[i] == 1 else norm_color};\">{char}</span>'\n",
    "    return \"<pre>\" + text + \"</pre>\"\n",
    "\n",
    "def display_example(i):\n",
    "    original_src, changed_src, error_class_extra = buggy_df.iloc[i][['original_src', 'changed_src', 'error_class_extra']]\n",
    "\n",
    "    s = SequenceMatcher(None, original_src, changed_src)\n",
    "    opcodes = [x for x in s.get_opcodes() if x[0] != \"equal\"]\n",
    "\n",
    "    original_labels = np.zeros_like(list(original_src), dtype=np.int32)\n",
    "    changed_labels = np.zeros_like(list(changed_src), dtype=np.int32)\n",
    "    for op, i1, i2, j1, j2 in opcodes:\n",
    "        if op == 'insert':\n",
    "            original_labels[i1: i1+1] = 1\n",
    "            changed_labels[j1: j2+1] = 1\n",
    "        else:\n",
    "            original_labels[i1:i2] = 1\n",
    "            changed_labels[j1:j2] = 1\n",
    "\n",
    "    original_labels = original_labels.tolist()\n",
    "    changed_labels = changed_labels.tolist()\n",
    "\n",
    "    display(HTML(f\"<h1>Example {i}</h1>\"))\n",
    "    \n",
    "    display(HTML(\"<h2>The source code that is buggy:\\n</h2>\"))\n",
    "    display(HTML(color_source(original_src, original_labels, color='red')))\n",
    "\n",
    "    display(HTML(\"<h2>The source code that is accepted:\\n</h2>\"))\n",
    "    display(HTML(color_source(changed_src, changed_labels, color='blue')))\n",
    "\n",
    "    display(HTML(\"<h2>The bug that should be assigned to the original_src:\\n</h2>\"))\n",
    "    display(HTML(f\"<pre>{error_class_extra}</pre>\"))\n",
    "\n",
    "for i in range(10):\n",
    "    display_example(i)"
   ]
  }
 ],
 "metadata": {
  "kernelspec": {
   "display_name": "Python 3 (ipykernel)",
   "language": "python",
   "name": "python3"
  },
  "language_info": {
   "codemirror_mode": {
    "name": "ipython",
    "version": 3
   },
   "file_extension": ".py",
   "mimetype": "text/x-python",
   "name": "python",
   "nbconvert_exporter": "python",
   "pygments_lexer": "ipython3",
   "version": "3.9.5"
  },
  "papermill": {
   "default_parameters": {},
   "duration": 12.96727,
   "end_time": "2022-03-11T12:54:33.183101",
   "environment_variables": {},
   "exception": null,
   "input_path": "__notebook__.ipynb",
   "output_path": "__notebook__.ipynb",
   "parameters": {},
   "start_time": "2022-03-11T12:54:20.215831",
   "version": "2.3.3"
  }
 },
 "nbformat": 4,
 "nbformat_minor": 5
}
